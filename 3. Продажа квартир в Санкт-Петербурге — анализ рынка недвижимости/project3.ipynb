{
 "cells": [
  {
   "cell_type": "markdown",
   "metadata": {},
   "source": [
    "# Исследование объявлений о продаже квартир\n",
    "\n",
    "В вашем распоряжении данные сервиса Яндекс.Недвижимость — архив объявлений о продаже квартир в Санкт-Петербурге и соседних населённых пунктов за несколько лет. Нужно научиться определять рыночную стоимость объектов недвижимости. Ваша задача — установить параметры. Это позволит построить автоматизированную систему: она отследит аномалии и мошенническую деятельность. \n",
    "\n",
    "По каждой квартире на продажу доступны два вида данных. Первые вписаны пользователем, вторые — получены автоматически на основе картографических данных. Например, расстояние до центра, аэропорта, ближайшего парка и водоёма. "
   ]
  },
  {
   "cell_type": "markdown",
   "metadata": {},
   "source": [
    "### Изучение общей информации. "
   ]
  },
  {
   "cell_type": "markdown",
   "metadata": {},
   "source": [
    "Импортируем библиотеки."
   ]
  },
  {
   "cell_type": "code",
   "execution_count": 1,
   "metadata": {},
   "outputs": [],
   "source": [
    "import pandas as pd\n",
    "import matplotlib.pyplot as plt"
   ]
  },
  {
   "cell_type": "code",
   "execution_count": 2,
   "metadata": {
    "scrolled": true
   },
   "outputs": [
    {
     "data": {
      "text/html": [
       "<div>\n",
       "<style scoped>\n",
       "    .dataframe tbody tr th:only-of-type {\n",
       "        vertical-align: middle;\n",
       "    }\n",
       "\n",
       "    .dataframe tbody tr th {\n",
       "        vertical-align: top;\n",
       "    }\n",
       "\n",
       "    .dataframe thead th {\n",
       "        text-align: right;\n",
       "    }\n",
       "</style>\n",
       "<table border=\"1\" class=\"dataframe\">\n",
       "  <thead>\n",
       "    <tr style=\"text-align: right;\">\n",
       "      <th></th>\n",
       "      <th>total_images</th>\n",
       "      <th>last_price</th>\n",
       "      <th>total_area</th>\n",
       "      <th>first_day_exposition</th>\n",
       "      <th>rooms</th>\n",
       "      <th>ceiling_height</th>\n",
       "      <th>floors_total</th>\n",
       "      <th>living_area</th>\n",
       "      <th>floor</th>\n",
       "      <th>is_apartment</th>\n",
       "      <th>...</th>\n",
       "      <th>kitchen_area</th>\n",
       "      <th>balcony</th>\n",
       "      <th>locality_name</th>\n",
       "      <th>airports_nearest</th>\n",
       "      <th>cityCenters_nearest</th>\n",
       "      <th>parks_around3000</th>\n",
       "      <th>parks_nearest</th>\n",
       "      <th>ponds_around3000</th>\n",
       "      <th>ponds_nearest</th>\n",
       "      <th>days_exposition</th>\n",
       "    </tr>\n",
       "  </thead>\n",
       "  <tbody>\n",
       "    <tr>\n",
       "      <th>0</th>\n",
       "      <td>20</td>\n",
       "      <td>13000000.0</td>\n",
       "      <td>108.00</td>\n",
       "      <td>2019-03-07T00:00:00</td>\n",
       "      <td>3</td>\n",
       "      <td>2.70</td>\n",
       "      <td>16.0</td>\n",
       "      <td>51.00</td>\n",
       "      <td>8</td>\n",
       "      <td>NaN</td>\n",
       "      <td>...</td>\n",
       "      <td>25.00</td>\n",
       "      <td>NaN</td>\n",
       "      <td>Санкт-Петербург</td>\n",
       "      <td>18863.0</td>\n",
       "      <td>16028.0</td>\n",
       "      <td>1.0</td>\n",
       "      <td>482.0</td>\n",
       "      <td>2.0</td>\n",
       "      <td>755.0</td>\n",
       "      <td>NaN</td>\n",
       "    </tr>\n",
       "    <tr>\n",
       "      <th>1</th>\n",
       "      <td>7</td>\n",
       "      <td>3350000.0</td>\n",
       "      <td>40.40</td>\n",
       "      <td>2018-12-04T00:00:00</td>\n",
       "      <td>1</td>\n",
       "      <td>NaN</td>\n",
       "      <td>11.0</td>\n",
       "      <td>18.60</td>\n",
       "      <td>1</td>\n",
       "      <td>NaN</td>\n",
       "      <td>...</td>\n",
       "      <td>11.00</td>\n",
       "      <td>2.0</td>\n",
       "      <td>посёлок Шушары</td>\n",
       "      <td>12817.0</td>\n",
       "      <td>18603.0</td>\n",
       "      <td>0.0</td>\n",
       "      <td>NaN</td>\n",
       "      <td>0.0</td>\n",
       "      <td>NaN</td>\n",
       "      <td>81.0</td>\n",
       "    </tr>\n",
       "    <tr>\n",
       "      <th>2</th>\n",
       "      <td>10</td>\n",
       "      <td>5196000.0</td>\n",
       "      <td>56.00</td>\n",
       "      <td>2015-08-20T00:00:00</td>\n",
       "      <td>2</td>\n",
       "      <td>NaN</td>\n",
       "      <td>5.0</td>\n",
       "      <td>34.30</td>\n",
       "      <td>4</td>\n",
       "      <td>NaN</td>\n",
       "      <td>...</td>\n",
       "      <td>8.30</td>\n",
       "      <td>0.0</td>\n",
       "      <td>Санкт-Петербург</td>\n",
       "      <td>21741.0</td>\n",
       "      <td>13933.0</td>\n",
       "      <td>1.0</td>\n",
       "      <td>90.0</td>\n",
       "      <td>2.0</td>\n",
       "      <td>574.0</td>\n",
       "      <td>558.0</td>\n",
       "    </tr>\n",
       "    <tr>\n",
       "      <th>3</th>\n",
       "      <td>0</td>\n",
       "      <td>64900000.0</td>\n",
       "      <td>159.00</td>\n",
       "      <td>2015-07-24T00:00:00</td>\n",
       "      <td>3</td>\n",
       "      <td>NaN</td>\n",
       "      <td>14.0</td>\n",
       "      <td>NaN</td>\n",
       "      <td>9</td>\n",
       "      <td>NaN</td>\n",
       "      <td>...</td>\n",
       "      <td>NaN</td>\n",
       "      <td>0.0</td>\n",
       "      <td>Санкт-Петербург</td>\n",
       "      <td>28098.0</td>\n",
       "      <td>6800.0</td>\n",
       "      <td>2.0</td>\n",
       "      <td>84.0</td>\n",
       "      <td>3.0</td>\n",
       "      <td>234.0</td>\n",
       "      <td>424.0</td>\n",
       "    </tr>\n",
       "    <tr>\n",
       "      <th>4</th>\n",
       "      <td>2</td>\n",
       "      <td>10000000.0</td>\n",
       "      <td>100.00</td>\n",
       "      <td>2018-06-19T00:00:00</td>\n",
       "      <td>2</td>\n",
       "      <td>3.03</td>\n",
       "      <td>14.0</td>\n",
       "      <td>32.00</td>\n",
       "      <td>13</td>\n",
       "      <td>NaN</td>\n",
       "      <td>...</td>\n",
       "      <td>41.00</td>\n",
       "      <td>NaN</td>\n",
       "      <td>Санкт-Петербург</td>\n",
       "      <td>31856.0</td>\n",
       "      <td>8098.0</td>\n",
       "      <td>2.0</td>\n",
       "      <td>112.0</td>\n",
       "      <td>1.0</td>\n",
       "      <td>48.0</td>\n",
       "      <td>121.0</td>\n",
       "    </tr>\n",
       "    <tr>\n",
       "      <th>5</th>\n",
       "      <td>10</td>\n",
       "      <td>2890000.0</td>\n",
       "      <td>30.40</td>\n",
       "      <td>2018-09-10T00:00:00</td>\n",
       "      <td>1</td>\n",
       "      <td>NaN</td>\n",
       "      <td>12.0</td>\n",
       "      <td>14.40</td>\n",
       "      <td>5</td>\n",
       "      <td>NaN</td>\n",
       "      <td>...</td>\n",
       "      <td>9.10</td>\n",
       "      <td>NaN</td>\n",
       "      <td>городской посёлок Янино-1</td>\n",
       "      <td>NaN</td>\n",
       "      <td>NaN</td>\n",
       "      <td>NaN</td>\n",
       "      <td>NaN</td>\n",
       "      <td>NaN</td>\n",
       "      <td>NaN</td>\n",
       "      <td>55.0</td>\n",
       "    </tr>\n",
       "    <tr>\n",
       "      <th>6</th>\n",
       "      <td>6</td>\n",
       "      <td>3700000.0</td>\n",
       "      <td>37.30</td>\n",
       "      <td>2017-11-02T00:00:00</td>\n",
       "      <td>1</td>\n",
       "      <td>NaN</td>\n",
       "      <td>26.0</td>\n",
       "      <td>10.60</td>\n",
       "      <td>6</td>\n",
       "      <td>NaN</td>\n",
       "      <td>...</td>\n",
       "      <td>14.40</td>\n",
       "      <td>1.0</td>\n",
       "      <td>посёлок Парголово</td>\n",
       "      <td>52996.0</td>\n",
       "      <td>19143.0</td>\n",
       "      <td>0.0</td>\n",
       "      <td>NaN</td>\n",
       "      <td>0.0</td>\n",
       "      <td>NaN</td>\n",
       "      <td>155.0</td>\n",
       "    </tr>\n",
       "    <tr>\n",
       "      <th>7</th>\n",
       "      <td>5</td>\n",
       "      <td>7915000.0</td>\n",
       "      <td>71.60</td>\n",
       "      <td>2019-04-18T00:00:00</td>\n",
       "      <td>2</td>\n",
       "      <td>NaN</td>\n",
       "      <td>24.0</td>\n",
       "      <td>NaN</td>\n",
       "      <td>22</td>\n",
       "      <td>NaN</td>\n",
       "      <td>...</td>\n",
       "      <td>18.90</td>\n",
       "      <td>2.0</td>\n",
       "      <td>Санкт-Петербург</td>\n",
       "      <td>23982.0</td>\n",
       "      <td>11634.0</td>\n",
       "      <td>0.0</td>\n",
       "      <td>NaN</td>\n",
       "      <td>0.0</td>\n",
       "      <td>NaN</td>\n",
       "      <td>NaN</td>\n",
       "    </tr>\n",
       "    <tr>\n",
       "      <th>8</th>\n",
       "      <td>20</td>\n",
       "      <td>2900000.0</td>\n",
       "      <td>33.16</td>\n",
       "      <td>2018-05-23T00:00:00</td>\n",
       "      <td>1</td>\n",
       "      <td>NaN</td>\n",
       "      <td>27.0</td>\n",
       "      <td>15.43</td>\n",
       "      <td>26</td>\n",
       "      <td>NaN</td>\n",
       "      <td>...</td>\n",
       "      <td>8.81</td>\n",
       "      <td>NaN</td>\n",
       "      <td>посёлок Мурино</td>\n",
       "      <td>NaN</td>\n",
       "      <td>NaN</td>\n",
       "      <td>NaN</td>\n",
       "      <td>NaN</td>\n",
       "      <td>NaN</td>\n",
       "      <td>NaN</td>\n",
       "      <td>189.0</td>\n",
       "    </tr>\n",
       "    <tr>\n",
       "      <th>9</th>\n",
       "      <td>18</td>\n",
       "      <td>5400000.0</td>\n",
       "      <td>61.00</td>\n",
       "      <td>2017-02-26T00:00:00</td>\n",
       "      <td>3</td>\n",
       "      <td>2.50</td>\n",
       "      <td>9.0</td>\n",
       "      <td>43.60</td>\n",
       "      <td>7</td>\n",
       "      <td>NaN</td>\n",
       "      <td>...</td>\n",
       "      <td>6.50</td>\n",
       "      <td>2.0</td>\n",
       "      <td>Санкт-Петербург</td>\n",
       "      <td>50898.0</td>\n",
       "      <td>15008.0</td>\n",
       "      <td>0.0</td>\n",
       "      <td>NaN</td>\n",
       "      <td>0.0</td>\n",
       "      <td>NaN</td>\n",
       "      <td>289.0</td>\n",
       "    </tr>\n",
       "    <tr>\n",
       "      <th>10</th>\n",
       "      <td>5</td>\n",
       "      <td>5050000.0</td>\n",
       "      <td>39.60</td>\n",
       "      <td>2017-11-16T00:00:00</td>\n",
       "      <td>1</td>\n",
       "      <td>2.67</td>\n",
       "      <td>12.0</td>\n",
       "      <td>20.30</td>\n",
       "      <td>3</td>\n",
       "      <td>NaN</td>\n",
       "      <td>...</td>\n",
       "      <td>8.50</td>\n",
       "      <td>NaN</td>\n",
       "      <td>Санкт-Петербург</td>\n",
       "      <td>38357.0</td>\n",
       "      <td>13878.0</td>\n",
       "      <td>1.0</td>\n",
       "      <td>310.0</td>\n",
       "      <td>2.0</td>\n",
       "      <td>553.0</td>\n",
       "      <td>137.0</td>\n",
       "    </tr>\n",
       "    <tr>\n",
       "      <th>11</th>\n",
       "      <td>9</td>\n",
       "      <td>3300000.0</td>\n",
       "      <td>44.00</td>\n",
       "      <td>2018-08-27T00:00:00</td>\n",
       "      <td>2</td>\n",
       "      <td>NaN</td>\n",
       "      <td>5.0</td>\n",
       "      <td>31.00</td>\n",
       "      <td>4</td>\n",
       "      <td>False</td>\n",
       "      <td>...</td>\n",
       "      <td>6.00</td>\n",
       "      <td>1.0</td>\n",
       "      <td>Ломоносов</td>\n",
       "      <td>48252.0</td>\n",
       "      <td>51677.0</td>\n",
       "      <td>0.0</td>\n",
       "      <td>NaN</td>\n",
       "      <td>0.0</td>\n",
       "      <td>NaN</td>\n",
       "      <td>7.0</td>\n",
       "    </tr>\n",
       "    <tr>\n",
       "      <th>12</th>\n",
       "      <td>10</td>\n",
       "      <td>3890000.0</td>\n",
       "      <td>54.00</td>\n",
       "      <td>2016-06-30T00:00:00</td>\n",
       "      <td>2</td>\n",
       "      <td>NaN</td>\n",
       "      <td>5.0</td>\n",
       "      <td>30.00</td>\n",
       "      <td>5</td>\n",
       "      <td>NaN</td>\n",
       "      <td>...</td>\n",
       "      <td>9.00</td>\n",
       "      <td>0.0</td>\n",
       "      <td>Сертолово</td>\n",
       "      <td>NaN</td>\n",
       "      <td>NaN</td>\n",
       "      <td>NaN</td>\n",
       "      <td>NaN</td>\n",
       "      <td>NaN</td>\n",
       "      <td>NaN</td>\n",
       "      <td>90.0</td>\n",
       "    </tr>\n",
       "    <tr>\n",
       "      <th>13</th>\n",
       "      <td>20</td>\n",
       "      <td>3550000.0</td>\n",
       "      <td>42.80</td>\n",
       "      <td>2017-07-01T00:00:00</td>\n",
       "      <td>2</td>\n",
       "      <td>2.56</td>\n",
       "      <td>5.0</td>\n",
       "      <td>27.00</td>\n",
       "      <td>5</td>\n",
       "      <td>NaN</td>\n",
       "      <td>...</td>\n",
       "      <td>5.20</td>\n",
       "      <td>1.0</td>\n",
       "      <td>Петергоф</td>\n",
       "      <td>37868.0</td>\n",
       "      <td>33058.0</td>\n",
       "      <td>1.0</td>\n",
       "      <td>294.0</td>\n",
       "      <td>3.0</td>\n",
       "      <td>298.0</td>\n",
       "      <td>366.0</td>\n",
       "    </tr>\n",
       "    <tr>\n",
       "      <th>14</th>\n",
       "      <td>1</td>\n",
       "      <td>4400000.0</td>\n",
       "      <td>36.00</td>\n",
       "      <td>2016-06-23T00:00:00</td>\n",
       "      <td>1</td>\n",
       "      <td>NaN</td>\n",
       "      <td>6.0</td>\n",
       "      <td>17.00</td>\n",
       "      <td>1</td>\n",
       "      <td>NaN</td>\n",
       "      <td>...</td>\n",
       "      <td>8.00</td>\n",
       "      <td>0.0</td>\n",
       "      <td>Пушкин</td>\n",
       "      <td>20782.0</td>\n",
       "      <td>30759.0</td>\n",
       "      <td>0.0</td>\n",
       "      <td>NaN</td>\n",
       "      <td>1.0</td>\n",
       "      <td>96.0</td>\n",
       "      <td>203.0</td>\n",
       "    </tr>\n",
       "    <tr>\n",
       "      <th>15</th>\n",
       "      <td>16</td>\n",
       "      <td>4650000.0</td>\n",
       "      <td>39.00</td>\n",
       "      <td>2017-11-18T00:00:00</td>\n",
       "      <td>1</td>\n",
       "      <td>NaN</td>\n",
       "      <td>14.0</td>\n",
       "      <td>20.50</td>\n",
       "      <td>5</td>\n",
       "      <td>NaN</td>\n",
       "      <td>...</td>\n",
       "      <td>7.60</td>\n",
       "      <td>1.0</td>\n",
       "      <td>Санкт-Петербург</td>\n",
       "      <td>12900.0</td>\n",
       "      <td>14259.0</td>\n",
       "      <td>1.0</td>\n",
       "      <td>590.0</td>\n",
       "      <td>1.0</td>\n",
       "      <td>296.0</td>\n",
       "      <td>19.0</td>\n",
       "    </tr>\n",
       "    <tr>\n",
       "      <th>16</th>\n",
       "      <td>11</td>\n",
       "      <td>6700000.0</td>\n",
       "      <td>82.00</td>\n",
       "      <td>2017-11-23T00:00:00</td>\n",
       "      <td>3</td>\n",
       "      <td>3.05</td>\n",
       "      <td>5.0</td>\n",
       "      <td>55.60</td>\n",
       "      <td>1</td>\n",
       "      <td>NaN</td>\n",
       "      <td>...</td>\n",
       "      <td>9.00</td>\n",
       "      <td>NaN</td>\n",
       "      <td>Санкт-Петербург</td>\n",
       "      <td>22108.0</td>\n",
       "      <td>10698.0</td>\n",
       "      <td>3.0</td>\n",
       "      <td>420.0</td>\n",
       "      <td>0.0</td>\n",
       "      <td>NaN</td>\n",
       "      <td>397.0</td>\n",
       "    </tr>\n",
       "    <tr>\n",
       "      <th>17</th>\n",
       "      <td>6</td>\n",
       "      <td>4180000.0</td>\n",
       "      <td>36.00</td>\n",
       "      <td>2016-09-09T00:00:00</td>\n",
       "      <td>1</td>\n",
       "      <td>NaN</td>\n",
       "      <td>17.0</td>\n",
       "      <td>16.50</td>\n",
       "      <td>7</td>\n",
       "      <td>NaN</td>\n",
       "      <td>...</td>\n",
       "      <td>11.00</td>\n",
       "      <td>1.0</td>\n",
       "      <td>Санкт-Петербург</td>\n",
       "      <td>33564.0</td>\n",
       "      <td>14616.0</td>\n",
       "      <td>0.0</td>\n",
       "      <td>NaN</td>\n",
       "      <td>1.0</td>\n",
       "      <td>859.0</td>\n",
       "      <td>571.0</td>\n",
       "    </tr>\n",
       "    <tr>\n",
       "      <th>18</th>\n",
       "      <td>8</td>\n",
       "      <td>3250000.0</td>\n",
       "      <td>31.00</td>\n",
       "      <td>2017-01-27T00:00:00</td>\n",
       "      <td>1</td>\n",
       "      <td>2.50</td>\n",
       "      <td>5.0</td>\n",
       "      <td>19.40</td>\n",
       "      <td>2</td>\n",
       "      <td>NaN</td>\n",
       "      <td>...</td>\n",
       "      <td>5.60</td>\n",
       "      <td>1.0</td>\n",
       "      <td>Санкт-Петербург</td>\n",
       "      <td>44060.0</td>\n",
       "      <td>10842.0</td>\n",
       "      <td>1.0</td>\n",
       "      <td>759.0</td>\n",
       "      <td>0.0</td>\n",
       "      <td>NaN</td>\n",
       "      <td>168.0</td>\n",
       "    </tr>\n",
       "    <tr>\n",
       "      <th>19</th>\n",
       "      <td>16</td>\n",
       "      <td>14200000.0</td>\n",
       "      <td>121.00</td>\n",
       "      <td>2019-01-09T00:00:00</td>\n",
       "      <td>3</td>\n",
       "      <td>2.75</td>\n",
       "      <td>16.0</td>\n",
       "      <td>76.00</td>\n",
       "      <td>8</td>\n",
       "      <td>NaN</td>\n",
       "      <td>...</td>\n",
       "      <td>12.00</td>\n",
       "      <td>NaN</td>\n",
       "      <td>Санкт-Петербург</td>\n",
       "      <td>38900.0</td>\n",
       "      <td>12843.0</td>\n",
       "      <td>0.0</td>\n",
       "      <td>NaN</td>\n",
       "      <td>0.0</td>\n",
       "      <td>NaN</td>\n",
       "      <td>97.0</td>\n",
       "    </tr>\n",
       "  </tbody>\n",
       "</table>\n",
       "<p>20 rows × 22 columns</p>\n",
       "</div>"
      ],
      "text/plain": [
       "    total_images  last_price  total_area first_day_exposition  rooms  \\\n",
       "0             20  13000000.0      108.00  2019-03-07T00:00:00      3   \n",
       "1              7   3350000.0       40.40  2018-12-04T00:00:00      1   \n",
       "2             10   5196000.0       56.00  2015-08-20T00:00:00      2   \n",
       "3              0  64900000.0      159.00  2015-07-24T00:00:00      3   \n",
       "4              2  10000000.0      100.00  2018-06-19T00:00:00      2   \n",
       "5             10   2890000.0       30.40  2018-09-10T00:00:00      1   \n",
       "6              6   3700000.0       37.30  2017-11-02T00:00:00      1   \n",
       "7              5   7915000.0       71.60  2019-04-18T00:00:00      2   \n",
       "8             20   2900000.0       33.16  2018-05-23T00:00:00      1   \n",
       "9             18   5400000.0       61.00  2017-02-26T00:00:00      3   \n",
       "10             5   5050000.0       39.60  2017-11-16T00:00:00      1   \n",
       "11             9   3300000.0       44.00  2018-08-27T00:00:00      2   \n",
       "12            10   3890000.0       54.00  2016-06-30T00:00:00      2   \n",
       "13            20   3550000.0       42.80  2017-07-01T00:00:00      2   \n",
       "14             1   4400000.0       36.00  2016-06-23T00:00:00      1   \n",
       "15            16   4650000.0       39.00  2017-11-18T00:00:00      1   \n",
       "16            11   6700000.0       82.00  2017-11-23T00:00:00      3   \n",
       "17             6   4180000.0       36.00  2016-09-09T00:00:00      1   \n",
       "18             8   3250000.0       31.00  2017-01-27T00:00:00      1   \n",
       "19            16  14200000.0      121.00  2019-01-09T00:00:00      3   \n",
       "\n",
       "    ceiling_height  floors_total  living_area  floor is_apartment  ...  \\\n",
       "0             2.70          16.0        51.00      8          NaN  ...   \n",
       "1              NaN          11.0        18.60      1          NaN  ...   \n",
       "2              NaN           5.0        34.30      4          NaN  ...   \n",
       "3              NaN          14.0          NaN      9          NaN  ...   \n",
       "4             3.03          14.0        32.00     13          NaN  ...   \n",
       "5              NaN          12.0        14.40      5          NaN  ...   \n",
       "6              NaN          26.0        10.60      6          NaN  ...   \n",
       "7              NaN          24.0          NaN     22          NaN  ...   \n",
       "8              NaN          27.0        15.43     26          NaN  ...   \n",
       "9             2.50           9.0        43.60      7          NaN  ...   \n",
       "10            2.67          12.0        20.30      3          NaN  ...   \n",
       "11             NaN           5.0        31.00      4        False  ...   \n",
       "12             NaN           5.0        30.00      5          NaN  ...   \n",
       "13            2.56           5.0        27.00      5          NaN  ...   \n",
       "14             NaN           6.0        17.00      1          NaN  ...   \n",
       "15             NaN          14.0        20.50      5          NaN  ...   \n",
       "16            3.05           5.0        55.60      1          NaN  ...   \n",
       "17             NaN          17.0        16.50      7          NaN  ...   \n",
       "18            2.50           5.0        19.40      2          NaN  ...   \n",
       "19            2.75          16.0        76.00      8          NaN  ...   \n",
       "\n",
       "    kitchen_area  balcony              locality_name  airports_nearest  \\\n",
       "0          25.00      NaN            Санкт-Петербург           18863.0   \n",
       "1          11.00      2.0             посёлок Шушары           12817.0   \n",
       "2           8.30      0.0            Санкт-Петербург           21741.0   \n",
       "3            NaN      0.0            Санкт-Петербург           28098.0   \n",
       "4          41.00      NaN            Санкт-Петербург           31856.0   \n",
       "5           9.10      NaN  городской посёлок Янино-1               NaN   \n",
       "6          14.40      1.0          посёлок Парголово           52996.0   \n",
       "7          18.90      2.0            Санкт-Петербург           23982.0   \n",
       "8           8.81      NaN             посёлок Мурино               NaN   \n",
       "9           6.50      2.0            Санкт-Петербург           50898.0   \n",
       "10          8.50      NaN            Санкт-Петербург           38357.0   \n",
       "11          6.00      1.0                  Ломоносов           48252.0   \n",
       "12          9.00      0.0                  Сертолово               NaN   \n",
       "13          5.20      1.0                   Петергоф           37868.0   \n",
       "14          8.00      0.0                     Пушкин           20782.0   \n",
       "15          7.60      1.0            Санкт-Петербург           12900.0   \n",
       "16          9.00      NaN            Санкт-Петербург           22108.0   \n",
       "17         11.00      1.0            Санкт-Петербург           33564.0   \n",
       "18          5.60      1.0            Санкт-Петербург           44060.0   \n",
       "19         12.00      NaN            Санкт-Петербург           38900.0   \n",
       "\n",
       "   cityCenters_nearest  parks_around3000  parks_nearest  ponds_around3000  \\\n",
       "0              16028.0               1.0          482.0               2.0   \n",
       "1              18603.0               0.0            NaN               0.0   \n",
       "2              13933.0               1.0           90.0               2.0   \n",
       "3               6800.0               2.0           84.0               3.0   \n",
       "4               8098.0               2.0          112.0               1.0   \n",
       "5                  NaN               NaN            NaN               NaN   \n",
       "6              19143.0               0.0            NaN               0.0   \n",
       "7              11634.0               0.0            NaN               0.0   \n",
       "8                  NaN               NaN            NaN               NaN   \n",
       "9              15008.0               0.0            NaN               0.0   \n",
       "10             13878.0               1.0          310.0               2.0   \n",
       "11             51677.0               0.0            NaN               0.0   \n",
       "12                 NaN               NaN            NaN               NaN   \n",
       "13             33058.0               1.0          294.0               3.0   \n",
       "14             30759.0               0.0            NaN               1.0   \n",
       "15             14259.0               1.0          590.0               1.0   \n",
       "16             10698.0               3.0          420.0               0.0   \n",
       "17             14616.0               0.0            NaN               1.0   \n",
       "18             10842.0               1.0          759.0               0.0   \n",
       "19             12843.0               0.0            NaN               0.0   \n",
       "\n",
       "    ponds_nearest  days_exposition  \n",
       "0           755.0              NaN  \n",
       "1             NaN             81.0  \n",
       "2           574.0            558.0  \n",
       "3           234.0            424.0  \n",
       "4            48.0            121.0  \n",
       "5             NaN             55.0  \n",
       "6             NaN            155.0  \n",
       "7             NaN              NaN  \n",
       "8             NaN            189.0  \n",
       "9             NaN            289.0  \n",
       "10          553.0            137.0  \n",
       "11            NaN              7.0  \n",
       "12            NaN             90.0  \n",
       "13          298.0            366.0  \n",
       "14           96.0            203.0  \n",
       "15          296.0             19.0  \n",
       "16            NaN            397.0  \n",
       "17          859.0            571.0  \n",
       "18            NaN            168.0  \n",
       "19            NaN             97.0  \n",
       "\n",
       "[20 rows x 22 columns]"
      ]
     },
     "execution_count": 2,
     "metadata": {},
     "output_type": "execute_result"
    }
   ],
   "source": [
    "data = pd.read_csv('/datasets/real_estate_data.csv', sep = '\\t')\n",
    "data.head(20)"
   ]
  },
  {
   "cell_type": "markdown",
   "metadata": {},
   "source": [
    "Построим гистограммы распределения данных."
   ]
  },
  {
   "cell_type": "code",
   "execution_count": 3,
   "metadata": {
    "scrolled": false
   },
   "outputs": [
    {
     "data": {
      "image/png": "[encoded data removed]",
      "text/plain": [
       "<Figure size 1080x1440 with 20 Axes>"
      ]
     },
     "metadata": {
      "needs_background": "light"
     },
     "output_type": "display_data"
    }
   ],
   "source": [
    "data.hist(figsize=(15, 20))\n",
    "plt.show()"
   ]
  },
  {
   "cell_type": "markdown",
   "metadata": {},
   "source": [
    "На гистограммах показано распределение параметров датафрейма. Практически на всех гистограммах можно увидеть распределение Пуассона - чем больше значение конкретного параметра, тем меньше он встречается в наших данных."
   ]
  },
  {
   "cell_type": "markdown",
   "metadata": {},
   "source": [
    "Посмотрим основную информацию о данных."
   ]
  },
  {
   "cell_type": "code",
   "execution_count": 4,
   "metadata": {},
   "outputs": [
    {
     "name": "stdout",
     "output_type": "stream",
     "text": [
      "<class 'pandas.core.frame.DataFrame'>\n",
      "RangeIndex: 23699 entries, 0 to 23698\n",
      "Data columns (total 22 columns):\n",
      " #   Column                Non-Null Count  Dtype  \n",
      "---  ------                --------------  -----  \n",
      " 0   total_images          23699 non-null  int64  \n",
      " 1   last_price            23699 non-null  float64\n",
      " 2   total_area            23699 non-null  float64\n",
      " 3   first_day_exposition  23699 non-null  object \n",
      " 4   rooms                 23699 non-null  int64  \n",
      " 5   ceiling_height        14504 non-null  float64\n",
      " 6   floors_total          23613 non-null  float64\n",
      " 7   living_area           21796 non-null  float64\n",
      " 8   floor                 23699 non-null  int64  \n",
      " 9   is_apartment          2775 non-null   object \n",
      " 10  studio                23699 non-null  bool   \n",
      " 11  open_plan             23699 non-null  bool   \n",
      " 12  kitchen_area          21421 non-null  float64\n",
      " 13  balcony               12180 non-null  float64\n",
      " 14  locality_name         23650 non-null  object \n",
      " 15  airports_nearest      18157 non-null  float64\n",
      " 16  cityCenters_nearest   18180 non-null  float64\n",
      " 17  parks_around3000      18181 non-null  float64\n",
      " 18  parks_nearest         8079 non-null   float64\n",
      " 19  ponds_around3000      18181 non-null  float64\n",
      " 20  ponds_nearest         9110 non-null   float64\n",
      " 21  days_exposition       20518 non-null  float64\n",
      "dtypes: bool(2), float64(14), int64(3), object(3)\n",
      "memory usage: 3.7+ MB\n"
     ]
    }
   ],
   "source": [
    "data.info()"
   ]
  },
  {
   "cell_type": "markdown",
   "metadata": {},
   "source": [
    "**Из информации о данных можно заметить следующее:**\n",
    "1. `first_day_exposition` имеет тип object, а не datetime\n",
    "2. `ceiling_height` имеет пропущенные значения\n",
    "3. `floors_total` имеет пропущенные значения + лучше привести к целочисленному типу, т.к. количество этажей - целое значение\n",
    "4. `is_apartment` имеет пропущенные значения должен + нужно привести к типу bool\n",
    "5. `living_area` имеет пропущенные значения\n",
    "6. `kitchen_area` имеет пропущенные значения\n",
    "7. `balcony` имеет пропущенные значения + нужно привести к типу int\n",
    "8. `locality_name` имеет пропущенные значения\n",
    "9. `airports_nearest` имеет пропущенные значения\n",
    "10. `cityCenters_nearest` имеет пропущенные значения\n",
    "11. `parks_around3000` имеет пропущенные значения + нужно привести к типу int\n",
    "12. `parks_nearest` имеет пропущенные значения\n",
    "13. `ponds_around3000` имеет пропущенные значения + нужно привести к типу int\n",
    "14. `ponds_nearest` имеет пропущенные значения\n",
    "15. `days_exposition` имеет пропущенные значения + нужно привести к типу int\n",
    "16. `last_price` нужно привести к типу int"
   ]
  },
  {
   "cell_type": "markdown",
   "metadata": {},
   "source": [
    "### Предобработка данных"
   ]
  },
  {
   "cell_type": "markdown",
   "metadata": {},
   "source": [
    "#### Обработка пропущенных значений и изменение типов данных"
   ]
  },
  {
   "cell_type": "markdown",
   "metadata": {},
   "source": [
    "Выведем общее колличество пропущенных значений для каждого столбца."
   ]
  },
  {
   "cell_type": "code",
   "execution_count": 5,
   "metadata": {},
   "outputs": [
    {
     "data": {
      "text/plain": [
       "total_images                0\n",
       "last_price                  0\n",
       "total_area                  0\n",
       "first_day_exposition        0\n",
       "rooms                       0\n",
       "ceiling_height           9195\n",
       "floors_total               86\n",
       "living_area              1903\n",
       "floor                       0\n",
       "is_apartment            20924\n",
       "studio                      0\n",
       "open_plan                   0\n",
       "kitchen_area             2278\n",
       "balcony                 11519\n",
       "locality_name              49\n",
       "airports_nearest         5542\n",
       "cityCenters_nearest      5519\n",
       "parks_around3000         5518\n",
       "parks_nearest           15620\n",
       "ponds_around3000         5518\n",
       "ponds_nearest           14589\n",
       "days_exposition          3181\n",
       "dtype: int64"
      ]
     },
     "execution_count": 5,
     "metadata": {},
     "output_type": "execute_result"
    }
   ],
   "source": [
    "data.isna().sum()"
   ]
  },
  {
   "cell_type": "markdown",
   "metadata": {},
   "source": [
    "Проверим ceiling_height."
   ]
  },
  {
   "cell_type": "code",
   "execution_count": 6,
   "metadata": {
    "scrolled": false
   },
   "outputs": [
    {
     "name": "stdout",
     "output_type": "stream",
     "text": [
      "2.50     3515\n",
      "2.60     1646\n",
      "2.70     1574\n",
      "3.00     1112\n",
      "2.80      993\n",
      "         ... \n",
      "4.25        1\n",
      "3.39        1\n",
      "3.93        1\n",
      "10.30       1\n",
      "4.65        1\n",
      "Name: ceiling_height, Length: 183, dtype: int64\n",
      "count    14504.000000\n",
      "mean         2.771499\n",
      "std          1.261056\n",
      "min          1.000000\n",
      "25%          2.520000\n",
      "50%          2.650000\n",
      "75%          2.800000\n",
      "max        100.000000\n",
      "Name: ceiling_height, dtype: float64\n"
     ]
    },
    {
     "data": {
      "text/plain": [
       "<AxesSubplot:ylabel='Frequency'>"
      ]
     },
     "execution_count": 6,
     "metadata": {},
     "output_type": "execute_result"
    },
    {
     "data": {
      "image/png": "[encoded data removed]",
      "text/plain": [
       "<Figure size 432x288 with 1 Axes>"
      ]
     },
     "metadata": {
      "needs_background": "light"
     },
     "output_type": "display_data"
    }
   ],
   "source": [
    "print(data['ceiling_height'].value_counts())\n",
    "print(data['ceiling_height'].describe())\n",
    "data['ceiling_height'].sort_values().plot(y = 'ceiling_height', kind = 'hist', bins = 30, range=(2,5))"
   ]
  },
  {
   "cell_type": "markdown",
   "metadata": {},
   "source": [
    "Видно что есть необоснованно большие значения,однако медиана от среднего отличается не сильно из-за этих выбросов во всей выборке, поэтому пропущенные значения заменим на значение медианы"
   ]
  },
  {
   "cell_type": "code",
   "execution_count": 7,
   "metadata": {},
   "outputs": [],
   "source": [
    "data['ceiling_height'] = data['ceiling_height'].fillna(data['ceiling_height'].median())"
   ]
  },
  {
   "cell_type": "markdown",
   "metadata": {},
   "source": [
    "1. Так как апартаменты - это помещения, которые по условиям близки к жилой недвижимости, но проживать в них нельзя будем учитывать, что вероятно определенно большая часть квартир является жилой недвижимостью, поэтому заменим все пропущенные значения на False и изменим тип данных на bool.\n",
    "2. Вероятное появление пустых значений балконов связано с тем, что при их отсутсвии в квартире при заполнении люди просто пропускали эти данные (а не заполняли нулевыми значениями, как другие пользователи) заменим пропуски в balcony на 0 и изменим тип данных на int.\n",
    "3. Возникновение пропусков в days_exposition не ясно, поэтому для дальнейших исследований заменить пропущенные значения на медианные (так как медиана менее подвержена случайным выбросам данных) заменим пропуски в days_exposition на на медианные значения.\n",
    "4. Переведем first_day_exposition в формат даты без времени, потому что время не указано.\n",
    "5. Изменим цену на  int."
   ]
  },
  {
   "cell_type": "code",
   "execution_count": 8,
   "metadata": {},
   "outputs": [
    {
     "name": "stdout",
     "output_type": "stream",
     "text": [
      "<class 'pandas.core.frame.DataFrame'>\n",
      "RangeIndex: 23699 entries, 0 to 23698\n",
      "Data columns (total 22 columns):\n",
      " #   Column                Non-Null Count  Dtype         \n",
      "---  ------                --------------  -----         \n",
      " 0   total_images          23699 non-null  int64         \n",
      " 1   last_price            23699 non-null  int64         \n",
      " 2   total_area            23699 non-null  float64       \n",
      " 3   first_day_exposition  23699 non-null  datetime64[ns]\n",
      " 4   rooms                 23699 non-null  int64         \n",
      " 5   ceiling_height        23699 non-null  float64       \n",
      " 6   floors_total          23613 non-null  float64       \n",
      " 7   living_area           21796 non-null  float64       \n",
      " 8   floor                 23699 non-null  int64         \n",
      " 9   is_apartment          23699 non-null  bool          \n",
      " 10  studio                23699 non-null  bool          \n",
      " 11  open_plan             23699 non-null  bool          \n",
      " 12  kitchen_area          21421 non-null  float64       \n",
      " 13  balcony               23699 non-null  int64         \n",
      " 14  locality_name         23650 non-null  object        \n",
      " 15  airports_nearest      18157 non-null  float64       \n",
      " 16  cityCenters_nearest   18180 non-null  float64       \n",
      " 17  parks_around3000      18181 non-null  float64       \n",
      " 18  parks_nearest         8079 non-null   float64       \n",
      " 19  ponds_around3000      18181 non-null  float64       \n",
      " 20  ponds_nearest         9110 non-null   float64       \n",
      " 21  days_exposition       23699 non-null  float64       \n",
      "dtypes: bool(3), datetime64[ns](1), float64(12), int64(5), object(1)\n",
      "memory usage: 3.5+ MB\n",
      "None\n"
     ]
    },
    {
     "data": {
      "text/plain": [
       "total_images                0\n",
       "last_price                  0\n",
       "total_area                  0\n",
       "first_day_exposition        0\n",
       "rooms                       0\n",
       "ceiling_height              0\n",
       "floors_total               86\n",
       "living_area              1903\n",
       "floor                       0\n",
       "is_apartment                0\n",
       "studio                      0\n",
       "open_plan                   0\n",
       "kitchen_area             2278\n",
       "balcony                     0\n",
       "locality_name              49\n",
       "airports_nearest         5542\n",
       "cityCenters_nearest      5519\n",
       "parks_around3000         5518\n",
       "parks_nearest           15620\n",
       "ponds_around3000         5518\n",
       "ponds_nearest           14589\n",
       "days_exposition             0\n",
       "dtype: int64"
      ]
     },
     "execution_count": 8,
     "metadata": {},
     "output_type": "execute_result"
    }
   ],
   "source": [
    "data['is_apartment'] = data['is_apartment'].fillna(False).astype('bool')\n",
    "data['balcony'] = data['balcony'].fillna(0).astype('int')\n",
    "data.loc[data['days_exposition'].isna(), 'days_exposition'] = data['days_exposition'].describe()[5]\n",
    "data['first_day_exposition'] = pd.to_datetime(data['first_day_exposition'], format = '%Y-%m-%d')\n",
    "data['last_price'] = data['last_price'].astype('int')\n",
    "\n",
    "print(data.info())\n",
    "data.isna().sum()"
   ]
  },
  {
   "cell_type": "markdown",
   "metadata": {},
   "source": [
    "Все еще остаются переменные с пропущенным значениями, однако в их случае нельзя точно сказать, что конкретно вляет на появление пропусков, и сказать, что эти параметры могут как-то зависить от других (в таком случае можно было бы заменить пропуски на какое-либо усредненное значение) тоже нельзя, поэтому эти парамеры оставим как есть"
   ]
  },
  {
   "cell_type": "markdown",
   "metadata": {},
   "source": [
    "#### Удаление дубликатов"
   ]
  },
  {
   "cell_type": "markdown",
   "metadata": {},
   "source": [
    "Выведем список уникальных значений названий."
   ]
  },
  {
   "cell_type": "code",
   "execution_count": 9,
   "metadata": {
    "scrolled": false
   },
   "outputs": [
    {
     "data": {
      "text/plain": [
       "array(['Санкт-Петербург', 'посёлок Шушары', 'городской посёлок Янино-1',\n",
       "       'посёлок Парголово', 'посёлок Мурино', 'Ломоносов', 'Сертолово',\n",
       "       'Петергоф', 'Пушкин', 'деревня Кудрово', 'Коммунар', 'Колпино',\n",
       "       'поселок городского типа Красный Бор', 'Гатчина', 'поселок Мурино',\n",
       "       'деревня Фёдоровское', 'Выборг', 'Кронштадт', 'Кировск',\n",
       "       'деревня Новое Девяткино', 'посёлок Металлострой',\n",
       "       'посёлок городского типа Лебяжье',\n",
       "       'посёлок городского типа Сиверский', 'поселок Молодцово',\n",
       "       'поселок городского типа Кузьмоловский',\n",
       "       'садовое товарищество Новая Ропша', 'Павловск',\n",
       "       'деревня Пикколово', 'Всеволожск', 'Волхов', 'Кингисепп',\n",
       "       'Приозерск', 'Сестрорецк', 'деревня Куттузи', 'посёлок Аннино',\n",
       "       'поселок городского типа Ефимовский', 'посёлок Плодовое',\n",
       "       'деревня Заклинье', 'поселок Торковичи', 'поселок Первомайское',\n",
       "       'Красное Село', 'посёлок Понтонный', 'Сясьстрой', 'деревня Старая',\n",
       "       'деревня Лесколово', 'посёлок Новый Свет', 'Сланцы',\n",
       "       'село Путилово', 'Ивангород', 'Мурино', 'Шлиссельбург',\n",
       "       'Никольское', 'Зеленогорск', 'Сосновый Бор', 'поселок Новый Свет',\n",
       "       'деревня Оржицы', 'деревня Кальтино', 'Кудрово',\n",
       "       'поселок Романовка', 'посёлок Бугры', 'поселок Бугры',\n",
       "       'поселок городского типа Рощино', 'Кириши', 'Луга', 'Волосово',\n",
       "       'Отрадное', 'село Павлово', 'поселок Оредеж', 'село Копорье',\n",
       "       'посёлок городского типа Красный Бор', 'посёлок Молодёжное',\n",
       "       'Тихвин', 'посёлок Победа', 'деревня Нурма',\n",
       "       'поселок городского типа Синявино', 'Тосно',\n",
       "       'посёлок городского типа Кузьмоловский', 'посёлок Стрельна',\n",
       "       'Бокситогорск', 'посёлок Александровская', 'деревня Лопухинка',\n",
       "       'Пикалёво', 'поселок Терволово',\n",
       "       'поселок городского типа Советский', 'Подпорожье',\n",
       "       'посёлок Петровское', 'посёлок городского типа Токсово',\n",
       "       'поселок Сельцо', 'посёлок городского типа Вырица',\n",
       "       'деревня Кипень', 'деревня Келози', 'деревня Вартемяги',\n",
       "       'посёлок Тельмана', 'поселок Севастьяново',\n",
       "       'городской поселок Большая Ижора', nan,\n",
       "       'городской посёлок Павлово', 'деревня Агалатово',\n",
       "       'посёлок Новогорелово', 'городской посёлок Лесогорский',\n",
       "       'деревня Лаголово', 'поселок Цвелодубово',\n",
       "       'поселок городского типа Рахья', 'поселок городского типа Вырица',\n",
       "       'деревня Белогорка', 'поселок Заводской',\n",
       "       'городской посёлок Новоселье', 'деревня Большие Колпаны',\n",
       "       'деревня Горбунки', 'деревня Батово', 'деревня Заневка',\n",
       "       'деревня Иссад', 'Приморск', 'городской посёлок Фёдоровское',\n",
       "       'деревня Мистолово', 'Новая Ладога', 'поселок Зимитицы',\n",
       "       'поселок Барышево', 'деревня Разметелево',\n",
       "       'поселок городского типа имени Свердлова', 'деревня Пеники',\n",
       "       'поселок Рябово', 'деревня Пудомяги', 'поселок станции Корнево',\n",
       "       'деревня Низино', 'деревня Бегуницы', 'посёлок Поляны',\n",
       "       'городской посёлок Мга', 'поселок Елизаветино',\n",
       "       'посёлок городского типа Кузнечное', 'деревня Колтуши',\n",
       "       'поселок Запорожское', 'посёлок городского типа Рощино',\n",
       "       'деревня Гостилицы', 'деревня Малое Карлино',\n",
       "       'посёлок Мичуринское', 'посёлок городского типа имени Морозова',\n",
       "       'посёлок Песочный', 'посёлок Сосново', 'деревня Аро',\n",
       "       'поселок Ильичёво', 'посёлок городского типа Тайцы',\n",
       "       'деревня Малое Верево', 'деревня Извара', 'поселок станции Вещево',\n",
       "       'село Паша', 'деревня Калитино',\n",
       "       'посёлок городского типа Ульяновка', 'деревня Чудской Бор',\n",
       "       'поселок городского типа Дубровка', 'деревня Мины',\n",
       "       'поселок Войсковицы', 'посёлок городского типа имени Свердлова',\n",
       "       'деревня Коркино', 'посёлок Ропша',\n",
       "       'поселок городского типа Приладожский', 'посёлок Щеглово',\n",
       "       'посёлок Гаврилово', 'Лодейное Поле', 'деревня Рабитицы',\n",
       "       'поселок городского типа Никольский', 'деревня Кузьмолово',\n",
       "       'деревня Малые Колпаны', 'поселок Тельмана',\n",
       "       'посёлок Петро-Славянка', 'городской посёлок Назия',\n",
       "       'посёлок Репино', 'посёлок Ильичёво', 'поселок Углово',\n",
       "       'поселок Старая Малукса', 'садовое товарищество Рахья',\n",
       "       'поселок Аннино', 'поселок Победа', 'деревня Меньково',\n",
       "       'деревня Старые Бегуницы', 'посёлок Сапёрный', 'поселок Семрино',\n",
       "       'поселок Гаврилово', 'поселок Глажево', 'поселок Кобринское',\n",
       "       'деревня Гарболово', 'деревня Юкки',\n",
       "       'поселок станции Приветнинское', 'деревня Мануйлово',\n",
       "       'деревня Пчева', 'поселок Поляны', 'поселок Цвылёво',\n",
       "       'поселок Мельниково', 'посёлок Пудость', 'посёлок Усть-Луга',\n",
       "       'Светогорск', 'Любань', 'поселок Селезнёво',\n",
       "       'поселок городского типа Рябово', 'Каменногорск', 'деревня Кривко',\n",
       "       'поселок Глебычево', 'деревня Парицы', 'поселок Жилпосёлок',\n",
       "       'посёлок городского типа Мга', 'городской поселок Янино-1',\n",
       "       'посёлок Войскорово', 'село Никольское', 'посёлок Терволово',\n",
       "       'поселок Стеклянный', 'посёлок городского типа Важины',\n",
       "       'посёлок Мыза-Ивановка', 'село Русско-Высоцкое',\n",
       "       'поселок городского типа Лебяжье',\n",
       "       'поселок городского типа Форносово', 'село Старая Ладога',\n",
       "       'поселок Житково', 'городской посёлок Виллози', 'деревня Лампово',\n",
       "       'деревня Шпаньково', 'деревня Лаврики', 'посёлок Сумино',\n",
       "       'посёлок Возрождение', 'деревня Старосиверская',\n",
       "       'посёлок Кикерино', 'поселок Возрождение',\n",
       "       'деревня Старое Хинколово', 'посёлок Пригородный',\n",
       "       'посёлок Торфяное', 'городской посёлок Будогощь',\n",
       "       'поселок Суходолье', 'поселок Красная Долина', 'деревня Хапо-Ое',\n",
       "       'поселок городского типа Дружная Горка', 'поселок Лисий Нос',\n",
       "       'деревня Яльгелево', 'посёлок Стеклянный', 'село Рождествено',\n",
       "       'деревня Старополье', 'посёлок Левашово', 'деревня Сяськелево',\n",
       "       'деревня Камышовка',\n",
       "       'садоводческое некоммерческое товарищество Лесная Поляна',\n",
       "       'деревня Хязельки', 'поселок Жилгородок',\n",
       "       'посёлок городского типа Павлово', 'деревня Ялгино',\n",
       "       'поселок Новый Учхоз', 'городской посёлок Рощино',\n",
       "       'поселок Гончарово', 'поселок Почап', 'посёлок Сапёрное',\n",
       "       'посёлок Платформа 69-й километр', 'поселок Каложицы',\n",
       "       'деревня Фалилеево', 'деревня Пельгора',\n",
       "       'поселок городского типа Лесогорский', 'деревня Торошковичи',\n",
       "       'посёлок Белоостров', 'посёлок Алексеевка', 'поселок Серебрянский',\n",
       "       'поселок Лукаши', 'поселок Петровское', 'деревня Щеглово',\n",
       "       'поселок Мичуринское', 'деревня Тарасово', 'поселок Кингисеппский',\n",
       "       'посёлок при железнодорожной станции Вещево', 'поселок Ушаки',\n",
       "       'деревня Котлы', 'деревня Сижно', 'деревня Торосово',\n",
       "       'посёлок Форт Красная Горка', 'поселок городского типа Токсово',\n",
       "       'деревня Новолисино', 'посёлок станции Громово', 'деревня Глинка',\n",
       "       'посёлок Мельниково', 'поселок городского типа Назия',\n",
       "       'деревня Старая Пустошь', 'поселок Коммунары', 'поселок Починок',\n",
       "       'посёлок городского типа Вознесенье', 'деревня Разбегаево',\n",
       "       'посёлок городского типа Рябово', 'поселок Гладкое',\n",
       "       'посёлок при железнодорожной станции Приветнинское',\n",
       "       'поселок Тёсово-4', 'посёлок Жилгородок', 'деревня Бор',\n",
       "       'посёлок Коробицыно', 'деревня Большая Вруда', 'деревня Курковицы',\n",
       "       'посёлок Лисий Нос', 'городской посёлок Советский',\n",
       "       'посёлок Кобралово', 'деревня Суоранда', 'поселок Кобралово',\n",
       "       'поселок городского типа Кондратьево',\n",
       "       'коттеджный поселок Счастье', 'поселок Любань', 'деревня Реброво',\n",
       "       'деревня Зимитицы', 'деревня Тойворово', 'поселок Семиозерье',\n",
       "       'поселок Лесное', 'поселок Совхозный', 'поселок Усть-Луга',\n",
       "       'посёлок Ленинское', 'посёлок Суйда',\n",
       "       'посёлок городского типа Форносово', 'деревня Нижние Осельки',\n",
       "       'посёлок станции Свирь', 'поселок Перово', 'Высоцк',\n",
       "       'поселок Гарболово', 'село Шум', 'поселок Котельский',\n",
       "       'поселок станции Лужайка', 'деревня Большая Пустомержа',\n",
       "       'поселок Красносельское', 'деревня Вахнова Кара', 'деревня Пижма',\n",
       "       'коттеджный поселок Кивеннапа Север', 'поселок Коробицыно',\n",
       "       'поселок Ромашки', 'посёлок Перово', 'деревня Каськово',\n",
       "       'деревня Куровицы', 'посёлок Плоское', 'поселок Сумино',\n",
       "       'поселок городского типа Большая Ижора', 'поселок Кирпичное',\n",
       "       'деревня Ям-Тесово', 'деревня Раздолье', 'деревня Терпилицы',\n",
       "       'посёлок Шугозеро', 'деревня Ваганово', 'поселок Пушное',\n",
       "       'садовое товарищество Садко', 'посёлок Усть-Ижора',\n",
       "       'деревня Выскатка', 'городской посёлок Свирьстрой',\n",
       "       'поселок Громово', 'деревня Кисельня', 'посёлок Старая Малукса',\n",
       "       'деревня Трубников Бор', 'поселок Калитино',\n",
       "       'посёлок Высокоключевой', 'садовое товарищество Приладожский',\n",
       "       'посёлок Пансионат Зелёный Бор', 'деревня Ненимяки',\n",
       "       'поселок Пансионат Зелёный Бор', 'деревня Снегирёвка',\n",
       "       'деревня Рапполово', 'деревня Пустынка', 'поселок Рабитицы',\n",
       "       'деревня Большой Сабск', 'деревня Русско', 'деревня Лупполово',\n",
       "       'деревня Большое Рейзино', 'деревня Малая Романовка',\n",
       "       'поселок Дружноселье', 'поселок Пчевжа', 'поселок Володарское',\n",
       "       'деревня Нижняя', 'коттеджный посёлок Лесное', 'деревня Тихковицы',\n",
       "       'деревня Борисова Грива', 'посёлок Дзержинского'], dtype=object)"
      ]
     },
     "execution_count": 9,
     "metadata": {},
     "output_type": "execute_result"
    }
   ],
   "source": [
    "data['locality_name'].unique()"
   ]
  },
  {
   "cell_type": "markdown",
   "metadata": {},
   "source": [
    "Посчитаем колличество уникальных значений."
   ]
  },
  {
   "cell_type": "code",
   "execution_count": 10,
   "metadata": {},
   "outputs": [
    {
     "data": {
      "text/plain": [
       "365"
      ]
     },
     "execution_count": 10,
     "metadata": {},
     "output_type": "execute_result"
    }
   ],
   "source": [
    "len(data['locality_name'].unique())"
   ]
  },
  {
   "cell_type": "markdown",
   "metadata": {},
   "source": [
    "Поменяем \"посёлки\" на \"поселки\"."
   ]
  },
  {
   "cell_type": "code",
   "execution_count": 11,
   "metadata": {
    "scrolled": false
   },
   "outputs": [
    {
     "name": "stdout",
     "output_type": "stream",
     "text": [
      "323\n"
     ]
    },
    {
     "data": {
      "text/plain": [
       "array(['санкт-петербург', 'поселок шушары', 'поселок янино-1',\n",
       "       'поселок парголово', 'поселок мурино', 'ломоносов', 'сертолово',\n",
       "       'петергоф', 'пушкин', 'деревня кудрово', 'коммунар', 'колпино',\n",
       "       'поселок красный бор', 'гатчина', 'деревня фёдоровское', 'выборг',\n",
       "       'кронштадт', 'кировск', 'деревня новое девяткино',\n",
       "       'поселок металлострой', 'поселок лебяжье', 'поселок сиверский',\n",
       "       'поселок молодцово', 'поселок кузьмоловский',\n",
       "       'садовое товарищество новая ропша', 'павловск',\n",
       "       'деревня пикколово', 'всеволожск', 'волхов', 'кингисепп',\n",
       "       'приозерск', 'сестрорецк', 'деревня куттузи', 'поселок аннино',\n",
       "       'поселок ефимовский', 'поселок плодовое', 'деревня заклинье',\n",
       "       'поселок торковичи', 'поселок первомайское', 'красное село',\n",
       "       'поселок понтонный', 'сясьстрой', 'деревня старая',\n",
       "       'деревня лесколово', 'поселок новый свет', 'сланцы',\n",
       "       'село путилово', 'ивангород', 'мурино', 'шлиссельбург',\n",
       "       'никольское', 'зеленогорск', 'сосновый бор', 'деревня оржицы',\n",
       "       'деревня кальтино', 'кудрово', 'поселок романовка',\n",
       "       'поселок бугры', 'поселок рощино', 'кириши', 'луга', 'волосово',\n",
       "       'отрадное', 'село павлово', 'поселок оредеж', 'село копорье',\n",
       "       'поселок молодёжное', 'тихвин', 'поселок победа', 'деревня нурма',\n",
       "       'поселок синявино', 'тосно', 'поселок стрельна', 'бокситогорск',\n",
       "       'поселок александровская', 'деревня лопухинка', 'пикалёво',\n",
       "       'поселок терволово', 'поселок советский', 'подпорожье',\n",
       "       'поселок петровское', 'поселок токсово', 'поселок сельцо',\n",
       "       'поселок вырица', 'деревня кипень', 'деревня келози',\n",
       "       'деревня вартемяги', 'поселок тельмана', 'поселок севастьяново',\n",
       "       'поселок большая ижора', nan, 'поселок павлово',\n",
       "       'деревня агалатово', 'поселок новогорелово', 'поселок лесогорский',\n",
       "       'деревня лаголово', 'поселок цвелодубово', 'поселок рахья',\n",
       "       'деревня белогорка', 'поселок заводской', 'поселок новоселье',\n",
       "       'деревня большие колпаны', 'деревня горбунки', 'деревня батово',\n",
       "       'деревня заневка', 'деревня иссад', 'приморск',\n",
       "       'поселок фёдоровское', 'деревня мистолово', 'новая ладога',\n",
       "       'поселок зимитицы', 'поселок барышево', 'деревня разметелево',\n",
       "       'поселок имени свердлова', 'деревня пеники', 'поселок рябово',\n",
       "       'деревня пудомяги', 'поселок станции корнево', 'деревня низино',\n",
       "       'деревня бегуницы', 'поселок поляны', 'поселок мга',\n",
       "       'поселок елизаветино', 'поселок кузнечное', 'деревня колтуши',\n",
       "       'поселок запорожское', 'деревня гостилицы',\n",
       "       'деревня малое карлино', 'поселок мичуринское',\n",
       "       'поселок имени морозова', 'поселок песочный', 'поселок сосново',\n",
       "       'деревня аро', 'поселок ильичёво', 'поселок тайцы',\n",
       "       'деревня малое верево', 'деревня извара', 'поселок станции вещево',\n",
       "       'село паша', 'деревня калитино', 'поселок ульяновка',\n",
       "       'деревня чудской бор', 'поселок дубровка', 'деревня мины',\n",
       "       'поселок войсковицы', 'деревня коркино', 'поселок ропша',\n",
       "       'поселок приладожский', 'поселок щеглово', 'поселок гаврилово',\n",
       "       'лодейное поле', 'деревня рабитицы', 'поселок никольский',\n",
       "       'деревня кузьмолово', 'деревня малые колпаны',\n",
       "       'поселок петро-славянка', 'поселок назия', 'поселок репино',\n",
       "       'поселок углово', 'поселок старая малукса',\n",
       "       'садовое товарищество рахья', 'деревня меньково',\n",
       "       'деревня старые бегуницы', 'поселок сапёрный', 'поселок семрино',\n",
       "       'поселок глажево', 'поселок кобринское', 'деревня гарболово',\n",
       "       'деревня юкки', 'поселок станции приветнинское',\n",
       "       'деревня мануйлово', 'деревня пчева', 'поселок цвылёво',\n",
       "       'поселок мельниково', 'поселок пудость', 'поселок усть-луга',\n",
       "       'светогорск', 'любань', 'поселок селезнёво', 'каменногорск',\n",
       "       'деревня кривко', 'поселок глебычево', 'деревня парицы',\n",
       "       'поселок жилпоселок', 'поселок войскорово', 'село никольское',\n",
       "       'поселок стеклянный', 'поселок важины', 'поселок мыза-ивановка',\n",
       "       'село русско-высоцкое', 'поселок форносово', 'село старая ладога',\n",
       "       'поселок житково', 'поселок виллози', 'деревня лампово',\n",
       "       'деревня шпаньково', 'деревня лаврики', 'поселок сумино',\n",
       "       'поселок возрождение', 'деревня старосиверская',\n",
       "       'поселок кикерино', 'деревня старое хинколово',\n",
       "       'поселок пригородный', 'поселок торфяное', 'поселок будогощь',\n",
       "       'поселок суходолье', 'поселок красная долина', 'деревня хапо-ое',\n",
       "       'поселок дружная горка', 'поселок лисий нос', 'деревня яльгелево',\n",
       "       'село рождествено', 'деревня старополье', 'поселок левашово',\n",
       "       'деревня сяськелево', 'деревня камышовка',\n",
       "       'садоводческое некоммерческое товарищество лесная поляна',\n",
       "       'деревня хязельки', 'поселок жилгородок', 'деревня ялгино',\n",
       "       'поселок новый учхоз', 'поселок гончарово', 'поселок почап',\n",
       "       'поселок сапёрное', 'поселок платформа 69-й километр',\n",
       "       'поселок каложицы', 'деревня фалилеево', 'деревня пельгора',\n",
       "       'деревня торошковичи', 'поселок белоостров', 'поселок алексеевка',\n",
       "       'поселок серебрянский', 'поселок лукаши', 'деревня щеглово',\n",
       "       'деревня тарасово', 'поселок кингисеппский',\n",
       "       'поселок при железнодорожной станции вещево', 'поселок ушаки',\n",
       "       'деревня котлы', 'деревня сижно', 'деревня торосово',\n",
       "       'поселок форт красная горка', 'деревня новолисино',\n",
       "       'поселок станции громово', 'деревня глинка',\n",
       "       'деревня старая пустошь', 'поселок коммунары', 'поселок починок',\n",
       "       'поселок вознесенье', 'деревня разбегаево', 'поселок гладкое',\n",
       "       'поселок при железнодорожной станции приветнинское',\n",
       "       'поселок тёсово-4', 'деревня бор', 'поселок коробицыно',\n",
       "       'деревня большая вруда', 'деревня курковицы', 'поселок кобралово',\n",
       "       'деревня суоранда', 'поселок кондратьево',\n",
       "       'коттеджный поселок счастье', 'поселок любань', 'деревня реброво',\n",
       "       'деревня зимитицы', 'деревня тойворово', 'поселок семиозерье',\n",
       "       'поселок лесное', 'поселок совхозный', 'поселок ленинское',\n",
       "       'поселок суйда', 'деревня нижние осельки', 'поселок станции свирь',\n",
       "       'поселок перово', 'высоцк', 'поселок гарболово', 'село шум',\n",
       "       'поселок котельский', 'поселок станции лужайка',\n",
       "       'деревня большая пустомержа', 'поселок красносельское',\n",
       "       'деревня вахнова кара', 'деревня пижма',\n",
       "       'коттеджный поселок кивеннапа север', 'поселок ромашки',\n",
       "       'деревня каськово', 'деревня куровицы', 'поселок плоское',\n",
       "       'поселок кирпичное', 'деревня ям-тесово', 'деревня раздолье',\n",
       "       'деревня терпилицы', 'поселок шугозеро', 'деревня ваганово',\n",
       "       'поселок пушное', 'садовое товарищество садко',\n",
       "       'поселок усть-ижора', 'деревня выскатка', 'поселок свирьстрой',\n",
       "       'поселок громово', 'деревня кисельня', 'деревня трубников бор',\n",
       "       'поселок калитино', 'поселок высокоключевой',\n",
       "       'садовое товарищество приладожский',\n",
       "       'поселок пансионат зелёный бор', 'деревня ненимяки',\n",
       "       'деревня снегирёвка', 'деревня рапполово', 'деревня пустынка',\n",
       "       'поселок рабитицы', 'деревня большой сабск', 'деревня русско',\n",
       "       'деревня лупполово', 'деревня большое рейзино',\n",
       "       'деревня малая романовка', 'поселок дружноселье', 'поселок пчевжа',\n",
       "       'поселок володарское', 'деревня нижняя',\n",
       "       'коттеджный поселок лесное', 'деревня тихковицы',\n",
       "       'деревня борисова грива', 'поселок дзержинского'], dtype=object)"
      ]
     },
     "execution_count": 11,
     "metadata": {},
     "output_type": "execute_result"
    }
   ],
   "source": [
    "data['locality_name'] = data['locality_name'].str.lower()\n",
    "data['locality_name'] = data['locality_name'].str.replace('посёлок', 'поселок', regex=False)\n",
    "data['locality_name'] = data['locality_name'].str.replace('городской ', '', regex=False)\n",
    "data['locality_name'] = data['locality_name'].str.replace('городского типа ', '', regex=False)\n",
    "print(len(data['locality_name'].unique()))\n",
    "data['locality_name'].unique()"
   ]
  },
  {
   "cell_type": "markdown",
   "metadata": {},
   "source": [
    "#### Аномальные значения"
   ]
  },
  {
   "cell_type": "markdown",
   "metadata": {},
   "source": [
    "Исследуем высоту потолков."
   ]
  },
  {
   "cell_type": "code",
   "execution_count": 12,
   "metadata": {},
   "outputs": [
    {
     "data": {
      "text/plain": [
       "array([  1.  ,   1.2 ,   1.75,   2.  ,   2.2 ,   2.25,   2.3 ,   2.34,\n",
       "         2.4 ,   2.45,   2.46,   2.47,   2.48,   2.49,   2.5 ,   2.51,\n",
       "         2.52,   2.53,   2.54,   2.55,   2.56,   2.57,   2.58,   2.59,\n",
       "         2.6 ,   2.61,   2.62,   2.63,   2.64,   2.65,   2.66,   2.67,\n",
       "         2.68,   2.69,   2.7 ,   2.71,   2.72,   2.73,   2.74,   2.75,\n",
       "         2.76,   2.77,   2.78,   2.79,   2.8 ,   2.81,   2.82,   2.83,\n",
       "         2.84,   2.85,   2.86,   2.87,   2.88,   2.89,   2.9 ,   2.91,\n",
       "         2.92,   2.93,   2.94,   2.95,   2.96,   2.97,   2.98,   2.99,\n",
       "         3.  ,   3.01,   3.02,   3.03,   3.04,   3.05,   3.06,   3.07,\n",
       "         3.08,   3.09,   3.1 ,   3.11,   3.12,   3.13,   3.14,   3.15,\n",
       "         3.16,   3.17,   3.18,   3.2 ,   3.21,   3.22,   3.23,   3.24,\n",
       "         3.25,   3.26,   3.27,   3.28,   3.29,   3.3 ,   3.31,   3.32,\n",
       "         3.33,   3.34,   3.35,   3.36,   3.37,   3.38,   3.39,   3.4 ,\n",
       "         3.42,   3.43,   3.44,   3.45,   3.46,   3.47,   3.48,   3.49,\n",
       "         3.5 ,   3.51,   3.52,   3.53,   3.54,   3.55,   3.56,   3.57,\n",
       "         3.58,   3.59,   3.6 ,   3.62,   3.63,   3.65,   3.66,   3.67,\n",
       "         3.68,   3.69,   3.7 ,   3.75,   3.76,   3.78,   3.8 ,   3.82,\n",
       "         3.83,   3.84,   3.85,   3.86,   3.87,   3.88,   3.9 ,   3.93,\n",
       "         3.95,   3.98,   4.  ,   4.06,   4.1 ,   4.14,   4.15,   4.19,\n",
       "         4.2 ,   4.25,   4.3 ,   4.37,   4.4 ,   4.45,   4.5 ,   4.65,\n",
       "         4.7 ,   4.8 ,   4.9 ,   5.  ,   5.2 ,   5.3 ,   5.5 ,   5.6 ,\n",
       "         5.8 ,   6.  ,   8.  ,   8.3 ,  10.3 ,  14.  ,  20.  ,  22.6 ,\n",
       "        24.  ,  25.  ,  26.  ,  27.  ,  27.5 ,  32.  , 100.  ])"
      ]
     },
     "execution_count": 12,
     "metadata": {},
     "output_type": "execute_result"
    }
   ],
   "source": [
    "data['ceiling_height'].sort_values().unique()"
   ]
  },
  {
   "cell_type": "code",
   "execution_count": 13,
   "metadata": {},
   "outputs": [
    {
     "data": {
      "text/plain": [
       "<AxesSubplot:>"
      ]
     },
     "execution_count": 13,
     "metadata": {},
     "output_type": "execute_result"
    },
    {
     "data": {
      "image/png": "[encoded data removed]",
      "text/plain": [
       "<Figure size 648x648 with 1 Axes>"
      ]
     },
     "metadata": {
      "needs_background": "light"
     },
     "output_type": "display_data"
    }
   ],
   "source": [
    "data['ceiling_height'].hist(bins=15, figsize=(9, 9))"
   ]
  },
  {
   "cell_type": "markdown",
   "metadata": {},
   "source": [
    "Видно, что встречаются аномально высокие значения, и из гистограммы можно понять, что аномально высокими можно считать значения выше 5 метров. Вероятно такие значения появились из-за неправильного переноса запятых в таблицу. "
   ]
  },
  {
   "cell_type": "code",
   "execution_count": 14,
   "metadata": {
    "scrolled": false
   },
   "outputs": [
    {
     "name": "stdout",
     "output_type": "stream",
     "text": [
      "[ 0.52  0.53  0.55  0.56  0.58  0.6   0.8   0.83  1.    1.03  1.2   1.4\n",
      "  1.75  2.    2.2   2.25  2.26  2.3   2.34  2.4   2.45  2.46  2.47  2.48\n",
      "  2.49  2.5   2.51  2.52  2.53  2.54  2.55  2.56  2.57  2.58  2.59  2.6\n",
      "  2.61  2.62  2.63  2.64  2.65  2.66  2.67  2.68  2.69  2.7   2.71  2.72\n",
      "  2.73  2.74  2.75  2.76  2.77  2.78  2.79  2.8   2.81  2.82  2.83  2.84\n",
      "  2.85  2.86  2.87  2.88  2.89  2.9   2.91  2.92  2.93  2.94  2.95  2.96\n",
      "  2.97  2.98  2.99  3.    3.01  3.02  3.03  3.04  3.05  3.06  3.07  3.08\n",
      "  3.09  3.1   3.11  3.12  3.13  3.14  3.15  3.16  3.17  3.18  3.2   3.21\n",
      "  3.22  3.23  3.24  3.25  3.26  3.27  3.28  3.29  3.3   3.31  3.32  3.33\n",
      "  3.34  3.35  3.36  3.37  3.38  3.39  3.4   3.42  3.43  3.44  3.45  3.46\n",
      "  3.47  3.48  3.49  3.5   3.51  3.52  3.53  3.54  3.55  3.56  3.57  3.58\n",
      "  3.59  3.6   3.62  3.63  3.65  3.66  3.67  3.68  3.69  3.7   3.75  3.76\n",
      "  3.78  3.8   3.82  3.83  3.84  3.85  3.86  3.87  3.88  3.9   3.93  3.95\n",
      "  3.98  4.    4.06  4.1   4.14  4.15  4.19  4.2   4.25  4.3   4.37  4.4\n",
      "  4.45  4.5   4.65  4.7   4.8   4.9   5.   10.  ]\n"
     ]
    },
    {
     "data": {
      "text/plain": [
       "<AxesSubplot:>"
      ]
     },
     "execution_count": 14,
     "metadata": {},
     "output_type": "execute_result"
    },
    {
     "data": {
      "image/png": "[encoded data removed]",
      "text/plain": [
       "<Figure size 648x648 with 1 Axes>"
      ]
     },
     "metadata": {
      "needs_background": "light"
     },
     "output_type": "display_data"
    }
   ],
   "source": [
    "data['ceiling_height'] = data['ceiling_height'].apply(lambda x: x/10 if x>5 else x)\n",
    "print(data['ceiling_height'].sort_values().unique())\n",
    "data['ceiling_height'].hist(bins=15, figsize=(9, 9))"
   ]
  },
  {
   "cell_type": "markdown",
   "metadata": {},
   "source": [
    "Также аномально высокие значение встречаются в столбцах last_price, total_area, rooms, kitchen_area, living_area. Но сказать, что это ошибки нельзя, так как это могут быть действительно большие по площади квартиры."
   ]
  },
  {
   "cell_type": "code",
   "execution_count": 15,
   "metadata": {},
   "outputs": [
    {
     "data": {
      "text/plain": [
       "<AxesSubplot:ylabel='Frequency'>"
      ]
     },
     "execution_count": 15,
     "metadata": {},
     "output_type": "execute_result"
    },
    {
     "data": {
      "image/png": "[encoded data removed]",
      "text/plain": [
       "<Figure size 360x216 with 1 Axes>"
      ]
     },
     "metadata": {
      "needs_background": "light"
     },
     "output_type": "display_data"
    }
   ],
   "source": [
    "data.plot(y = 'last_price', kind = 'hist', bins = 100, grid=True, range = (0,15000000), figsize = (5,3))"
   ]
  },
  {
   "cell_type": "markdown",
   "metadata": {},
   "source": [
    "Разброс данных довольно большой, поэтому удалять какие-либо значения нельзя"
   ]
  },
  {
   "cell_type": "code",
   "execution_count": 16,
   "metadata": {},
   "outputs": [
    {
     "data": {
      "text/plain": [
       "<AxesSubplot:ylabel='Frequency'>"
      ]
     },
     "execution_count": 16,
     "metadata": {},
     "output_type": "execute_result"
    },
    {
     "data": {
      "image/png": "[encoded data removed]",
      "text/plain": [
       "<Figure size 360x216 with 1 Axes>"
      ]
     },
     "metadata": {
      "needs_background": "light"
     },
     "output_type": "display_data"
    }
   ],
   "source": [
    "data.plot(y = 'rooms', kind = 'hist', bins = 30, grid=True, figsize = (5,3))"
   ]
  },
  {
   "cell_type": "markdown",
   "metadata": {},
   "source": [
    "Данных выше 8 практически нет, поэтому удалим их."
   ]
  },
  {
   "cell_type": "code",
   "execution_count": 17,
   "metadata": {},
   "outputs": [
    {
     "data": {
      "text/plain": [
       "<AxesSubplot:ylabel='Frequency'>"
      ]
     },
     "execution_count": 17,
     "metadata": {},
     "output_type": "execute_result"
    },
    {
     "data": {
      "image/png": "[encoded data removed]",
      "text/plain": [
       "<Figure size 360x216 with 1 Axes>"
      ]
     },
     "metadata": {
      "needs_background": "light"
     },
     "output_type": "display_data"
    }
   ],
   "source": [
    "data = data[data['rooms'] < 8]\n",
    "data.plot(y = 'rooms', kind = 'hist', bins = 30, grid=True, figsize = (5,3))"
   ]
  },
  {
   "cell_type": "code",
   "execution_count": 18,
   "metadata": {},
   "outputs": [
    {
     "data": {
      "text/plain": [
       "<AxesSubplot:ylabel='Frequency'>"
      ]
     },
     "execution_count": 18,
     "metadata": {},
     "output_type": "execute_result"
    },
    {
     "data": {
      "image/png": "[encoded data removed]",
      "text/plain": [
       "<Figure size 360x216 with 1 Axes>"
      ]
     },
     "metadata": {
      "needs_background": "light"
     },
     "output_type": "display_data"
    }
   ],
   "source": [
    "data.plot(y = 'living_area', kind = 'hist', bins = 20, grid=True, figsize = (5,3))"
   ]
  },
  {
   "cell_type": "markdown",
   "metadata": {},
   "source": [
    "Данных выше 175 практически нет, поэтому удалим их."
   ]
  },
  {
   "cell_type": "code",
   "execution_count": 19,
   "metadata": {},
   "outputs": [
    {
     "data": {
      "text/plain": [
       "<AxesSubplot:ylabel='Frequency'>"
      ]
     },
     "execution_count": 19,
     "metadata": {},
     "output_type": "execute_result"
    },
    {
     "data": {
      "image/png": "[encoded data removed]",
      "text/plain": [
       "<Figure size 360x216 with 1 Axes>"
      ]
     },
     "metadata": {
      "needs_background": "light"
     },
     "output_type": "display_data"
    }
   ],
   "source": [
    "data = data[data['living_area'] < 175]\n",
    "data.plot(y = 'living_area', kind = 'hist', bins = 20, grid=True, figsize = (5,3))"
   ]
  },
  {
   "cell_type": "code",
   "execution_count": 20,
   "metadata": {},
   "outputs": [
    {
     "data": {
      "text/plain": [
       "<AxesSubplot:ylabel='Frequency'>"
      ]
     },
     "execution_count": 20,
     "metadata": {},
     "output_type": "execute_result"
    },
    {
     "data": {
      "image/png": "[encoded data removed]",
      "text/plain": [
       "<Figure size 360x216 with 1 Axes>"
      ]
     },
     "metadata": {
      "needs_background": "light"
     },
     "output_type": "display_data"
    }
   ],
   "source": [
    "data.plot(y = 'kitchen_area', kind = 'hist', bins = 20, grid=True, figsize = (5,3))"
   ]
  },
  {
   "cell_type": "markdown",
   "metadata": {},
   "source": [
    "Данных выше 50 практически нет, поэтому удалим их."
   ]
  },
  {
   "cell_type": "code",
   "execution_count": 21,
   "metadata": {},
   "outputs": [
    {
     "data": {
      "text/plain": [
       "<AxesSubplot:ylabel='Frequency'>"
      ]
     },
     "execution_count": 21,
     "metadata": {},
     "output_type": "execute_result"
    },
    {
     "data": {
      "image/png": "[encoded data removed]",
      "text/plain": [
       "<Figure size 360x216 with 1 Axes>"
      ]
     },
     "metadata": {
      "needs_background": "light"
     },
     "output_type": "display_data"
    }
   ],
   "source": [
    "data = data[data['kitchen_area'] < 50]\n",
    "data.plot(y = 'kitchen_area', kind = 'hist', bins = 20, grid=True, figsize = (5,3))"
   ]
  },
  {
   "cell_type": "markdown",
   "metadata": {},
   "source": [
    "### Подсчет и добавление в таблицу новых столбцов"
   ]
  },
  {
   "cell_type": "markdown",
   "metadata": {},
   "source": [
    "**Нужно построить новые столбцы:**\n",
    "1. Цена одного квадратного метра\n",
    "2. День недели публикации объявления (0 — понедельник, 1 — вторник и так далее)\n",
    "3. Месяц публикации объявления\n",
    "4. Год публикации объявления\n",
    "5. Тип этажа квартиры (значения — «первый», «последний», «другой»)\n",
    "6. Расстояние до центра города в километрах (переведите из м в км и округлите до целых значений)"
   ]
  },
  {
   "cell_type": "code",
   "execution_count": 60,
   "metadata": {},
   "outputs": [
    {
     "data": {
      "text/html": [
       "<div>\n",
       "<style scoped>\n",
       "    .dataframe tbody tr th:only-of-type {\n",
       "        vertical-align: middle;\n",
       "    }\n",
       "\n",
       "    .dataframe tbody tr th {\n",
       "        vertical-align: top;\n",
       "    }\n",
       "\n",
       "    .dataframe thead th {\n",
       "        text-align: right;\n",
       "    }\n",
       "</style>\n",
       "<table border=\"1\" class=\"dataframe\">\n",
       "  <thead>\n",
       "    <tr style=\"text-align: right;\">\n",
       "      <th></th>\n",
       "      <th>total_images</th>\n",
       "      <th>last_price</th>\n",
       "      <th>total_area</th>\n",
       "      <th>first_day_exposition</th>\n",
       "      <th>rooms</th>\n",
       "      <th>ceiling_height</th>\n",
       "      <th>floors_total</th>\n",
       "      <th>living_area</th>\n",
       "      <th>floor</th>\n",
       "      <th>is_apartment</th>\n",
       "      <th>...</th>\n",
       "      <th>parks_around3000</th>\n",
       "      <th>parks_nearest</th>\n",
       "      <th>ponds_around3000</th>\n",
       "      <th>ponds_nearest</th>\n",
       "      <th>days_exposition</th>\n",
       "      <th>price_per_meter</th>\n",
       "      <th>weekday_exposition</th>\n",
       "      <th>month_exposition</th>\n",
       "      <th>year_exposition</th>\n",
       "      <th>floor_cat</th>\n",
       "    </tr>\n",
       "  </thead>\n",
       "  <tbody>\n",
       "    <tr>\n",
       "      <th>0</th>\n",
       "      <td>20</td>\n",
       "      <td>13000000</td>\n",
       "      <td>108.00</td>\n",
       "      <td>2019-03-07</td>\n",
       "      <td>3</td>\n",
       "      <td>2.70</td>\n",
       "      <td>16.0</td>\n",
       "      <td>51.00</td>\n",
       "      <td>8</td>\n",
       "      <td>False</td>\n",
       "      <td>...</td>\n",
       "      <td>1.0</td>\n",
       "      <td>482.0</td>\n",
       "      <td>2.0</td>\n",
       "      <td>755.0</td>\n",
       "      <td>95.0</td>\n",
       "      <td>120370.370370</td>\n",
       "      <td>3</td>\n",
       "      <td>3</td>\n",
       "      <td>2019</td>\n",
       "      <td>другой</td>\n",
       "    </tr>\n",
       "    <tr>\n",
       "      <th>1</th>\n",
       "      <td>7</td>\n",
       "      <td>3350000</td>\n",
       "      <td>40.40</td>\n",
       "      <td>2018-12-04</td>\n",
       "      <td>1</td>\n",
       "      <td>2.65</td>\n",
       "      <td>11.0</td>\n",
       "      <td>18.60</td>\n",
       "      <td>1</td>\n",
       "      <td>False</td>\n",
       "      <td>...</td>\n",
       "      <td>0.0</td>\n",
       "      <td>NaN</td>\n",
       "      <td>0.0</td>\n",
       "      <td>NaN</td>\n",
       "      <td>81.0</td>\n",
       "      <td>82920.792079</td>\n",
       "      <td>1</td>\n",
       "      <td>12</td>\n",
       "      <td>2018</td>\n",
       "      <td>первый</td>\n",
       "    </tr>\n",
       "    <tr>\n",
       "      <th>2</th>\n",
       "      <td>10</td>\n",
       "      <td>5196000</td>\n",
       "      <td>56.00</td>\n",
       "      <td>2015-08-20</td>\n",
       "      <td>2</td>\n",
       "      <td>2.65</td>\n",
       "      <td>5.0</td>\n",
       "      <td>34.30</td>\n",
       "      <td>4</td>\n",
       "      <td>False</td>\n",
       "      <td>...</td>\n",
       "      <td>1.0</td>\n",
       "      <td>90.0</td>\n",
       "      <td>2.0</td>\n",
       "      <td>574.0</td>\n",
       "      <td>558.0</td>\n",
       "      <td>92785.714286</td>\n",
       "      <td>3</td>\n",
       "      <td>8</td>\n",
       "      <td>2015</td>\n",
       "      <td>другой</td>\n",
       "    </tr>\n",
       "    <tr>\n",
       "      <th>4</th>\n",
       "      <td>2</td>\n",
       "      <td>10000000</td>\n",
       "      <td>100.00</td>\n",
       "      <td>2018-06-19</td>\n",
       "      <td>2</td>\n",
       "      <td>3.03</td>\n",
       "      <td>14.0</td>\n",
       "      <td>32.00</td>\n",
       "      <td>13</td>\n",
       "      <td>False</td>\n",
       "      <td>...</td>\n",
       "      <td>2.0</td>\n",
       "      <td>112.0</td>\n",
       "      <td>1.0</td>\n",
       "      <td>48.0</td>\n",
       "      <td>121.0</td>\n",
       "      <td>100000.000000</td>\n",
       "      <td>1</td>\n",
       "      <td>6</td>\n",
       "      <td>2018</td>\n",
       "      <td>другой</td>\n",
       "    </tr>\n",
       "    <tr>\n",
       "      <th>5</th>\n",
       "      <td>10</td>\n",
       "      <td>2890000</td>\n",
       "      <td>30.40</td>\n",
       "      <td>2018-09-10</td>\n",
       "      <td>1</td>\n",
       "      <td>2.65</td>\n",
       "      <td>12.0</td>\n",
       "      <td>14.40</td>\n",
       "      <td>5</td>\n",
       "      <td>False</td>\n",
       "      <td>...</td>\n",
       "      <td>NaN</td>\n",
       "      <td>NaN</td>\n",
       "      <td>NaN</td>\n",
       "      <td>NaN</td>\n",
       "      <td>55.0</td>\n",
       "      <td>95065.789474</td>\n",
       "      <td>0</td>\n",
       "      <td>9</td>\n",
       "      <td>2018</td>\n",
       "      <td>другой</td>\n",
       "    </tr>\n",
       "    <tr>\n",
       "      <th>6</th>\n",
       "      <td>6</td>\n",
       "      <td>3700000</td>\n",
       "      <td>37.30</td>\n",
       "      <td>2017-11-02</td>\n",
       "      <td>1</td>\n",
       "      <td>2.65</td>\n",
       "      <td>26.0</td>\n",
       "      <td>10.60</td>\n",
       "      <td>6</td>\n",
       "      <td>False</td>\n",
       "      <td>...</td>\n",
       "      <td>0.0</td>\n",
       "      <td>NaN</td>\n",
       "      <td>0.0</td>\n",
       "      <td>NaN</td>\n",
       "      <td>155.0</td>\n",
       "      <td>99195.710456</td>\n",
       "      <td>3</td>\n",
       "      <td>11</td>\n",
       "      <td>2017</td>\n",
       "      <td>другой</td>\n",
       "    </tr>\n",
       "    <tr>\n",
       "      <th>8</th>\n",
       "      <td>20</td>\n",
       "      <td>2900000</td>\n",
       "      <td>33.16</td>\n",
       "      <td>2018-05-23</td>\n",
       "      <td>1</td>\n",
       "      <td>2.65</td>\n",
       "      <td>27.0</td>\n",
       "      <td>15.43</td>\n",
       "      <td>26</td>\n",
       "      <td>False</td>\n",
       "      <td>...</td>\n",
       "      <td>NaN</td>\n",
       "      <td>NaN</td>\n",
       "      <td>NaN</td>\n",
       "      <td>NaN</td>\n",
       "      <td>189.0</td>\n",
       "      <td>87454.764777</td>\n",
       "      <td>2</td>\n",
       "      <td>5</td>\n",
       "      <td>2018</td>\n",
       "      <td>другой</td>\n",
       "    </tr>\n",
       "    <tr>\n",
       "      <th>9</th>\n",
       "      <td>18</td>\n",
       "      <td>5400000</td>\n",
       "      <td>61.00</td>\n",
       "      <td>2017-02-26</td>\n",
       "      <td>3</td>\n",
       "      <td>2.50</td>\n",
       "      <td>9.0</td>\n",
       "      <td>43.60</td>\n",
       "      <td>7</td>\n",
       "      <td>False</td>\n",
       "      <td>...</td>\n",
       "      <td>0.0</td>\n",
       "      <td>NaN</td>\n",
       "      <td>0.0</td>\n",
       "      <td>NaN</td>\n",
       "      <td>289.0</td>\n",
       "      <td>88524.590164</td>\n",
       "      <td>6</td>\n",
       "      <td>2</td>\n",
       "      <td>2017</td>\n",
       "      <td>другой</td>\n",
       "    </tr>\n",
       "    <tr>\n",
       "      <th>10</th>\n",
       "      <td>5</td>\n",
       "      <td>5050000</td>\n",
       "      <td>39.60</td>\n",
       "      <td>2017-11-16</td>\n",
       "      <td>1</td>\n",
       "      <td>2.67</td>\n",
       "      <td>12.0</td>\n",
       "      <td>20.30</td>\n",
       "      <td>3</td>\n",
       "      <td>False</td>\n",
       "      <td>...</td>\n",
       "      <td>1.0</td>\n",
       "      <td>310.0</td>\n",
       "      <td>2.0</td>\n",
       "      <td>553.0</td>\n",
       "      <td>137.0</td>\n",
       "      <td>127525.252525</td>\n",
       "      <td>3</td>\n",
       "      <td>11</td>\n",
       "      <td>2017</td>\n",
       "      <td>другой</td>\n",
       "    </tr>\n",
       "    <tr>\n",
       "      <th>11</th>\n",
       "      <td>9</td>\n",
       "      <td>3300000</td>\n",
       "      <td>44.00</td>\n",
       "      <td>2018-08-27</td>\n",
       "      <td>2</td>\n",
       "      <td>2.65</td>\n",
       "      <td>5.0</td>\n",
       "      <td>31.00</td>\n",
       "      <td>4</td>\n",
       "      <td>False</td>\n",
       "      <td>...</td>\n",
       "      <td>0.0</td>\n",
       "      <td>NaN</td>\n",
       "      <td>0.0</td>\n",
       "      <td>NaN</td>\n",
       "      <td>7.0</td>\n",
       "      <td>75000.000000</td>\n",
       "      <td>0</td>\n",
       "      <td>8</td>\n",
       "      <td>2018</td>\n",
       "      <td>другой</td>\n",
       "    </tr>\n",
       "  </tbody>\n",
       "</table>\n",
       "<p>10 rows × 27 columns</p>\n",
       "</div>"
      ],
      "text/plain": [
       "    total_images  last_price  total_area first_day_exposition  rooms  \\\n",
       "0             20    13000000      108.00           2019-03-07      3   \n",
       "1              7     3350000       40.40           2018-12-04      1   \n",
       "2             10     5196000       56.00           2015-08-20      2   \n",
       "4              2    10000000      100.00           2018-06-19      2   \n",
       "5             10     2890000       30.40           2018-09-10      1   \n",
       "6              6     3700000       37.30           2017-11-02      1   \n",
       "8             20     2900000       33.16           2018-05-23      1   \n",
       "9             18     5400000       61.00           2017-02-26      3   \n",
       "10             5     5050000       39.60           2017-11-16      1   \n",
       "11             9     3300000       44.00           2018-08-27      2   \n",
       "\n",
       "    ceiling_height  floors_total  living_area  floor  is_apartment  ...  \\\n",
       "0             2.70          16.0        51.00      8         False  ...   \n",
       "1             2.65          11.0        18.60      1         False  ...   \n",
       "2             2.65           5.0        34.30      4         False  ...   \n",
       "4             3.03          14.0        32.00     13         False  ...   \n",
       "5             2.65          12.0        14.40      5         False  ...   \n",
       "6             2.65          26.0        10.60      6         False  ...   \n",
       "8             2.65          27.0        15.43     26         False  ...   \n",
       "9             2.50           9.0        43.60      7         False  ...   \n",
       "10            2.67          12.0        20.30      3         False  ...   \n",
       "11            2.65           5.0        31.00      4         False  ...   \n",
       "\n",
       "    parks_around3000  parks_nearest  ponds_around3000  ponds_nearest  \\\n",
       "0                1.0          482.0               2.0          755.0   \n",
       "1                0.0            NaN               0.0            NaN   \n",
       "2                1.0           90.0               2.0          574.0   \n",
       "4                2.0          112.0               1.0           48.0   \n",
       "5                NaN            NaN               NaN            NaN   \n",
       "6                0.0            NaN               0.0            NaN   \n",
       "8                NaN            NaN               NaN            NaN   \n",
       "9                0.0            NaN               0.0            NaN   \n",
       "10               1.0          310.0               2.0          553.0   \n",
       "11               0.0            NaN               0.0            NaN   \n",
       "\n",
       "   days_exposition  price_per_meter  weekday_exposition  month_exposition  \\\n",
       "0             95.0    120370.370370                   3                 3   \n",
       "1             81.0     82920.792079                   1                12   \n",
       "2            558.0     92785.714286                   3                 8   \n",
       "4            121.0    100000.000000                   1                 6   \n",
       "5             55.0     95065.789474                   0                 9   \n",
       "6            155.0     99195.710456                   3                11   \n",
       "8            189.0     87454.764777                   2                 5   \n",
       "9            289.0     88524.590164                   6                 2   \n",
       "10           137.0    127525.252525                   3                11   \n",
       "11             7.0     75000.000000                   0                 8   \n",
       "\n",
       "    year_exposition  floor_cat  \n",
       "0              2019     другой  \n",
       "1              2018     первый  \n",
       "2              2015     другой  \n",
       "4              2018     другой  \n",
       "5              2018     другой  \n",
       "6              2017     другой  \n",
       "8              2018     другой  \n",
       "9              2017     другой  \n",
       "10             2017     другой  \n",
       "11             2018     другой  \n",
       "\n",
       "[10 rows x 27 columns]"
      ]
     },
     "execution_count": 60,
     "metadata": {},
     "output_type": "execute_result"
    }
   ],
   "source": [
    "# цена квадратного метра\n",
    "data['price_per_meter'] = data['last_price'] / data['total_area']\n",
    "\n",
    "# день недели публикации\n",
    "data['weekday_exposition'] = data['first_day_exposition'].dt.weekday\n",
    "\n",
    "# месяц публикации\n",
    "data['month_exposition'] = data['first_day_exposition'].dt.month\n",
    "\n",
    "# год публикации\n",
    "data['year_exposition'] = data['first_day_exposition'].dt.year\n",
    "\n",
    "# расстаяние в километрах\n",
    "data['cityCenters_nearest'] = data['cityCenters_nearest'] / 1000\n",
    "data['cityCenters_nearest'] = data['cityCenters_nearest'].round(0)\n",
    "\n",
    "data.head(10)"
   ]
  },
  {
   "cell_type": "code",
   "execution_count": 61,
   "metadata": {},
   "outputs": [
    {
     "data": {
      "text/html": [
       "<div>\n",
       "<style scoped>\n",
       "    .dataframe tbody tr th:only-of-type {\n",
       "        vertical-align: middle;\n",
       "    }\n",
       "\n",
       "    .dataframe tbody tr th {\n",
       "        vertical-align: top;\n",
       "    }\n",
       "\n",
       "    .dataframe thead th {\n",
       "        text-align: right;\n",
       "    }\n",
       "</style>\n",
       "<table border=\"1\" class=\"dataframe\">\n",
       "  <thead>\n",
       "    <tr style=\"text-align: right;\">\n",
       "      <th></th>\n",
       "      <th>total_images</th>\n",
       "      <th>last_price</th>\n",
       "      <th>total_area</th>\n",
       "      <th>first_day_exposition</th>\n",
       "      <th>rooms</th>\n",
       "      <th>ceiling_height</th>\n",
       "      <th>floors_total</th>\n",
       "      <th>living_area</th>\n",
       "      <th>floor</th>\n",
       "      <th>is_apartment</th>\n",
       "      <th>...</th>\n",
       "      <th>parks_around3000</th>\n",
       "      <th>parks_nearest</th>\n",
       "      <th>ponds_around3000</th>\n",
       "      <th>ponds_nearest</th>\n",
       "      <th>days_exposition</th>\n",
       "      <th>price_per_meter</th>\n",
       "      <th>weekday_exposition</th>\n",
       "      <th>month_exposition</th>\n",
       "      <th>year_exposition</th>\n",
       "      <th>floor_cat</th>\n",
       "    </tr>\n",
       "  </thead>\n",
       "  <tbody>\n",
       "    <tr>\n",
       "      <th>0</th>\n",
       "      <td>20</td>\n",
       "      <td>13000000</td>\n",
       "      <td>108.00</td>\n",
       "      <td>2019-03-07</td>\n",
       "      <td>3</td>\n",
       "      <td>2.70</td>\n",
       "      <td>16.0</td>\n",
       "      <td>51.00</td>\n",
       "      <td>8</td>\n",
       "      <td>False</td>\n",
       "      <td>...</td>\n",
       "      <td>1.0</td>\n",
       "      <td>482.0</td>\n",
       "      <td>2.0</td>\n",
       "      <td>755.0</td>\n",
       "      <td>95.0</td>\n",
       "      <td>120370.370370</td>\n",
       "      <td>3</td>\n",
       "      <td>3</td>\n",
       "      <td>2019</td>\n",
       "      <td>другой</td>\n",
       "    </tr>\n",
       "    <tr>\n",
       "      <th>1</th>\n",
       "      <td>7</td>\n",
       "      <td>3350000</td>\n",
       "      <td>40.40</td>\n",
       "      <td>2018-12-04</td>\n",
       "      <td>1</td>\n",
       "      <td>2.65</td>\n",
       "      <td>11.0</td>\n",
       "      <td>18.60</td>\n",
       "      <td>1</td>\n",
       "      <td>False</td>\n",
       "      <td>...</td>\n",
       "      <td>0.0</td>\n",
       "      <td>NaN</td>\n",
       "      <td>0.0</td>\n",
       "      <td>NaN</td>\n",
       "      <td>81.0</td>\n",
       "      <td>82920.792079</td>\n",
       "      <td>1</td>\n",
       "      <td>12</td>\n",
       "      <td>2018</td>\n",
       "      <td>первый</td>\n",
       "    </tr>\n",
       "    <tr>\n",
       "      <th>2</th>\n",
       "      <td>10</td>\n",
       "      <td>5196000</td>\n",
       "      <td>56.00</td>\n",
       "      <td>2015-08-20</td>\n",
       "      <td>2</td>\n",
       "      <td>2.65</td>\n",
       "      <td>5.0</td>\n",
       "      <td>34.30</td>\n",
       "      <td>4</td>\n",
       "      <td>False</td>\n",
       "      <td>...</td>\n",
       "      <td>1.0</td>\n",
       "      <td>90.0</td>\n",
       "      <td>2.0</td>\n",
       "      <td>574.0</td>\n",
       "      <td>558.0</td>\n",
       "      <td>92785.714286</td>\n",
       "      <td>3</td>\n",
       "      <td>8</td>\n",
       "      <td>2015</td>\n",
       "      <td>другой</td>\n",
       "    </tr>\n",
       "    <tr>\n",
       "      <th>4</th>\n",
       "      <td>2</td>\n",
       "      <td>10000000</td>\n",
       "      <td>100.00</td>\n",
       "      <td>2018-06-19</td>\n",
       "      <td>2</td>\n",
       "      <td>3.03</td>\n",
       "      <td>14.0</td>\n",
       "      <td>32.00</td>\n",
       "      <td>13</td>\n",
       "      <td>False</td>\n",
       "      <td>...</td>\n",
       "      <td>2.0</td>\n",
       "      <td>112.0</td>\n",
       "      <td>1.0</td>\n",
       "      <td>48.0</td>\n",
       "      <td>121.0</td>\n",
       "      <td>100000.000000</td>\n",
       "      <td>1</td>\n",
       "      <td>6</td>\n",
       "      <td>2018</td>\n",
       "      <td>другой</td>\n",
       "    </tr>\n",
       "    <tr>\n",
       "      <th>5</th>\n",
       "      <td>10</td>\n",
       "      <td>2890000</td>\n",
       "      <td>30.40</td>\n",
       "      <td>2018-09-10</td>\n",
       "      <td>1</td>\n",
       "      <td>2.65</td>\n",
       "      <td>12.0</td>\n",
       "      <td>14.40</td>\n",
       "      <td>5</td>\n",
       "      <td>False</td>\n",
       "      <td>...</td>\n",
       "      <td>NaN</td>\n",
       "      <td>NaN</td>\n",
       "      <td>NaN</td>\n",
       "      <td>NaN</td>\n",
       "      <td>55.0</td>\n",
       "      <td>95065.789474</td>\n",
       "      <td>0</td>\n",
       "      <td>9</td>\n",
       "      <td>2018</td>\n",
       "      <td>другой</td>\n",
       "    </tr>\n",
       "    <tr>\n",
       "      <th>6</th>\n",
       "      <td>6</td>\n",
       "      <td>3700000</td>\n",
       "      <td>37.30</td>\n",
       "      <td>2017-11-02</td>\n",
       "      <td>1</td>\n",
       "      <td>2.65</td>\n",
       "      <td>26.0</td>\n",
       "      <td>10.60</td>\n",
       "      <td>6</td>\n",
       "      <td>False</td>\n",
       "      <td>...</td>\n",
       "      <td>0.0</td>\n",
       "      <td>NaN</td>\n",
       "      <td>0.0</td>\n",
       "      <td>NaN</td>\n",
       "      <td>155.0</td>\n",
       "      <td>99195.710456</td>\n",
       "      <td>3</td>\n",
       "      <td>11</td>\n",
       "      <td>2017</td>\n",
       "      <td>другой</td>\n",
       "    </tr>\n",
       "    <tr>\n",
       "      <th>8</th>\n",
       "      <td>20</td>\n",
       "      <td>2900000</td>\n",
       "      <td>33.16</td>\n",
       "      <td>2018-05-23</td>\n",
       "      <td>1</td>\n",
       "      <td>2.65</td>\n",
       "      <td>27.0</td>\n",
       "      <td>15.43</td>\n",
       "      <td>26</td>\n",
       "      <td>False</td>\n",
       "      <td>...</td>\n",
       "      <td>NaN</td>\n",
       "      <td>NaN</td>\n",
       "      <td>NaN</td>\n",
       "      <td>NaN</td>\n",
       "      <td>189.0</td>\n",
       "      <td>87454.764777</td>\n",
       "      <td>2</td>\n",
       "      <td>5</td>\n",
       "      <td>2018</td>\n",
       "      <td>другой</td>\n",
       "    </tr>\n",
       "    <tr>\n",
       "      <th>9</th>\n",
       "      <td>18</td>\n",
       "      <td>5400000</td>\n",
       "      <td>61.00</td>\n",
       "      <td>2017-02-26</td>\n",
       "      <td>3</td>\n",
       "      <td>2.50</td>\n",
       "      <td>9.0</td>\n",
       "      <td>43.60</td>\n",
       "      <td>7</td>\n",
       "      <td>False</td>\n",
       "      <td>...</td>\n",
       "      <td>0.0</td>\n",
       "      <td>NaN</td>\n",
       "      <td>0.0</td>\n",
       "      <td>NaN</td>\n",
       "      <td>289.0</td>\n",
       "      <td>88524.590164</td>\n",
       "      <td>6</td>\n",
       "      <td>2</td>\n",
       "      <td>2017</td>\n",
       "      <td>другой</td>\n",
       "    </tr>\n",
       "    <tr>\n",
       "      <th>10</th>\n",
       "      <td>5</td>\n",
       "      <td>5050000</td>\n",
       "      <td>39.60</td>\n",
       "      <td>2017-11-16</td>\n",
       "      <td>1</td>\n",
       "      <td>2.67</td>\n",
       "      <td>12.0</td>\n",
       "      <td>20.30</td>\n",
       "      <td>3</td>\n",
       "      <td>False</td>\n",
       "      <td>...</td>\n",
       "      <td>1.0</td>\n",
       "      <td>310.0</td>\n",
       "      <td>2.0</td>\n",
       "      <td>553.0</td>\n",
       "      <td>137.0</td>\n",
       "      <td>127525.252525</td>\n",
       "      <td>3</td>\n",
       "      <td>11</td>\n",
       "      <td>2017</td>\n",
       "      <td>другой</td>\n",
       "    </tr>\n",
       "    <tr>\n",
       "      <th>11</th>\n",
       "      <td>9</td>\n",
       "      <td>3300000</td>\n",
       "      <td>44.00</td>\n",
       "      <td>2018-08-27</td>\n",
       "      <td>2</td>\n",
       "      <td>2.65</td>\n",
       "      <td>5.0</td>\n",
       "      <td>31.00</td>\n",
       "      <td>4</td>\n",
       "      <td>False</td>\n",
       "      <td>...</td>\n",
       "      <td>0.0</td>\n",
       "      <td>NaN</td>\n",
       "      <td>0.0</td>\n",
       "      <td>NaN</td>\n",
       "      <td>7.0</td>\n",
       "      <td>75000.000000</td>\n",
       "      <td>0</td>\n",
       "      <td>8</td>\n",
       "      <td>2018</td>\n",
       "      <td>другой</td>\n",
       "    </tr>\n",
       "  </tbody>\n",
       "</table>\n",
       "<p>10 rows × 27 columns</p>\n",
       "</div>"
      ],
      "text/plain": [
       "    total_images  last_price  total_area first_day_exposition  rooms  \\\n",
       "0             20    13000000      108.00           2019-03-07      3   \n",
       "1              7     3350000       40.40           2018-12-04      1   \n",
       "2             10     5196000       56.00           2015-08-20      2   \n",
       "4              2    10000000      100.00           2018-06-19      2   \n",
       "5             10     2890000       30.40           2018-09-10      1   \n",
       "6              6     3700000       37.30           2017-11-02      1   \n",
       "8             20     2900000       33.16           2018-05-23      1   \n",
       "9             18     5400000       61.00           2017-02-26      3   \n",
       "10             5     5050000       39.60           2017-11-16      1   \n",
       "11             9     3300000       44.00           2018-08-27      2   \n",
       "\n",
       "    ceiling_height  floors_total  living_area  floor  is_apartment  ...  \\\n",
       "0             2.70          16.0        51.00      8         False  ...   \n",
       "1             2.65          11.0        18.60      1         False  ...   \n",
       "2             2.65           5.0        34.30      4         False  ...   \n",
       "4             3.03          14.0        32.00     13         False  ...   \n",
       "5             2.65          12.0        14.40      5         False  ...   \n",
       "6             2.65          26.0        10.60      6         False  ...   \n",
       "8             2.65          27.0        15.43     26         False  ...   \n",
       "9             2.50           9.0        43.60      7         False  ...   \n",
       "10            2.67          12.0        20.30      3         False  ...   \n",
       "11            2.65           5.0        31.00      4         False  ...   \n",
       "\n",
       "    parks_around3000  parks_nearest  ponds_around3000  ponds_nearest  \\\n",
       "0                1.0          482.0               2.0          755.0   \n",
       "1                0.0            NaN               0.0            NaN   \n",
       "2                1.0           90.0               2.0          574.0   \n",
       "4                2.0          112.0               1.0           48.0   \n",
       "5                NaN            NaN               NaN            NaN   \n",
       "6                0.0            NaN               0.0            NaN   \n",
       "8                NaN            NaN               NaN            NaN   \n",
       "9                0.0            NaN               0.0            NaN   \n",
       "10               1.0          310.0               2.0          553.0   \n",
       "11               0.0            NaN               0.0            NaN   \n",
       "\n",
       "   days_exposition  price_per_meter  weekday_exposition  month_exposition  \\\n",
       "0             95.0    120370.370370                   3                 3   \n",
       "1             81.0     82920.792079                   1                12   \n",
       "2            558.0     92785.714286                   3                 8   \n",
       "4            121.0    100000.000000                   1                 6   \n",
       "5             55.0     95065.789474                   0                 9   \n",
       "6            155.0     99195.710456                   3                11   \n",
       "8            189.0     87454.764777                   2                 5   \n",
       "9            289.0     88524.590164                   6                 2   \n",
       "10           137.0    127525.252525                   3                11   \n",
       "11             7.0     75000.000000                   0                 8   \n",
       "\n",
       "    year_exposition  floor_cat  \n",
       "0              2019     другой  \n",
       "1              2018     первый  \n",
       "2              2015     другой  \n",
       "4              2018     другой  \n",
       "5              2018     другой  \n",
       "6              2017     другой  \n",
       "8              2018     другой  \n",
       "9              2017     другой  \n",
       "10             2017     другой  \n",
       "11             2018     другой  \n",
       "\n",
       "[10 rows x 27 columns]"
      ]
     },
     "execution_count": 61,
     "metadata": {},
     "output_type": "execute_result"
    }
   ],
   "source": [
    "# функция категоризации этажа\n",
    "def floor_category(row):\n",
    "    if row['floor'] == 1:\n",
    "        return 'первый'\n",
    "    if row['floor'] == row['floors_total']:\n",
    "        return 'последний'\n",
    "    return 'другой'\n",
    "data['floor_cat'] = data.apply(floor_category, axis = 1)\n",
    "data.head(10)"
   ]
  },
  {
   "cell_type": "markdown",
   "metadata": {},
   "source": [
    "**Вывод этапа**\n",
    "Итак, в предобработке данных были:\n",
    "- Исследованы пропущенные значения, в столбцах ceiling_height (обработаны с помощью медианы), is_apartment (пропуски заменены на False), balcony (пропуски заменены на нулевые значения), days_exposition (обработаны с помощью медианы) пропуски были исправлены и заполнены для дальнейшей корректной работы с данными. \n",
    "- Обработаны неявные дубликаты в названиях населенных пунктов, а также очищены редко встречающиеся большие значения в параметрах. \n",
    "- Были обработа явно анамальные значения в стобце ceiling_height (возможно ошибка при переносе данных в датафрейм). \n",
    "- Также для дальнейшей работы с данными добавлены столбцы price_per_meter(цена за кв.м.), weekday_exposition (дня недели), month_exposition(месяца) и year_exposition(года) подачи объявления. Расстояния от центра Санкт-Петербурга переведены в километрыю"
   ]
  },
  {
   "cell_type": "markdown",
   "metadata": {},
   "source": [
    "### Исследовательский анализ данных"
   ]
  },
  {
   "cell_type": "markdown",
   "metadata": {},
   "source": [
    "#### Изучение параметров объектов"
   ]
  },
  {
   "cell_type": "markdown",
   "metadata": {},
   "source": [
    "Изучим общую площадь."
   ]
  },
  {
   "cell_type": "code",
   "execution_count": 24,
   "metadata": {},
   "outputs": [
    {
     "data": {
      "text/plain": [
       "count    20865.000000\n",
       "mean        59.347900\n",
       "std         29.026494\n",
       "min         14.000000\n",
       "25%         40.400000\n",
       "50%         52.000000\n",
       "75%         69.500000\n",
       "max        413.500000\n",
       "Name: total_area, dtype: float64"
      ]
     },
     "execution_count": 24,
     "metadata": {},
     "output_type": "execute_result"
    },
    {
     "data": {
      "image/png": "[encoded data removed]",
      "text/plain": [
       "<Figure size 360x216 with 1 Axes>"
      ]
     },
     "metadata": {
      "needs_background": "light"
     },
     "output_type": "display_data"
    }
   ],
   "source": [
    "data.plot(y = 'total_area', kind = 'hist', bins = 100, grid=True, figsize = (5,3))\n",
    "data['total_area'].describe()"
   ]
  },
  {
   "cell_type": "markdown",
   "metadata": {},
   "source": [
    "В среднем у квартир, выставленных на продажу, площать составляет 52 кв.м.\n",
    "\n",
    "Основной диапазон в нашей выборке колеблется от 40 до 69 м2"
   ]
  },
  {
   "cell_type": "markdown",
   "metadata": {},
   "source": [
    "Изучим жилую площадь."
   ]
  },
  {
   "cell_type": "code",
   "execution_count": 25,
   "metadata": {},
   "outputs": [
    {
     "data": {
      "text/plain": [
       "count    20865.000000\n",
       "mean        33.950936\n",
       "std         18.836090\n",
       "min          2.000000\n",
       "25%         18.800000\n",
       "50%         30.000000\n",
       "75%         42.300000\n",
       "max        174.300000\n",
       "Name: living_area, dtype: float64"
      ]
     },
     "execution_count": 25,
     "metadata": {},
     "output_type": "execute_result"
    },
    {
     "data": {
      "image/png": "[encoded data removed]",
      "text/plain": [
       "<Figure size 360x216 with 1 Axes>"
      ]
     },
     "metadata": {
      "needs_background": "light"
     },
     "output_type": "display_data"
    }
   ],
   "source": [
    "data.plot(y = 'living_area', kind = 'hist', bins = 100, grid=True, figsize = (5,3))\n",
    "data['living_area'].describe()"
   ]
  },
  {
   "cell_type": "markdown",
   "metadata": {},
   "source": [
    "В целом можно сказать, что жилая площадь в целом колеблется от 15 кв.м. до 50 кв.м.\n",
    "Имеются пиковые значения около 18, 30 и 42 кв.м."
   ]
  },
  {
   "cell_type": "markdown",
   "metadata": {},
   "source": [
    "Изучим площадь кухни."
   ]
  },
  {
   "cell_type": "code",
   "execution_count": 26,
   "metadata": {},
   "outputs": [
    {
     "data": {
      "text/plain": [
       "count    20865.000000\n",
       "mean        10.334495\n",
       "std          5.037147\n",
       "min          1.300000\n",
       "25%          7.000000\n",
       "50%          9.000000\n",
       "75%         12.000000\n",
       "max         49.400000\n",
       "Name: kitchen_area, dtype: float64"
      ]
     },
     "execution_count": 26,
     "metadata": {},
     "output_type": "execute_result"
    },
    {
     "data": {
      "image/png": "[encoded data removed]",
      "text/plain": [
       "<Figure size 360x216 with 1 Axes>"
      ]
     },
     "metadata": {
      "needs_background": "light"
     },
     "output_type": "display_data"
    }
   ],
   "source": [
    "data.plot(y = 'kitchen_area', kind = 'hist', bins = 100, grid=True, figsize = (5,3))\n",
    "data['kitchen_area'].describe()"
   ]
  },
  {
   "cell_type": "markdown",
   "metadata": {},
   "source": [
    "Самое распросраненная площадь кухни от 5 до 12 кв.м."
   ]
  },
  {
   "cell_type": "markdown",
   "metadata": {},
   "source": [
    "Изучим цену."
   ]
  },
  {
   "cell_type": "code",
   "execution_count": 27,
   "metadata": {},
   "outputs": [
    {
     "data": {
      "text/plain": [
       "count    2.086500e+04\n",
       "mean     6.194028e+06\n",
       "std      7.000313e+06\n",
       "min      1.219000e+04\n",
       "25%      3.500000e+06\n",
       "50%      4.690000e+06\n",
       "75%      6.750000e+06\n",
       "max      3.300000e+08\n",
       "Name: last_price, dtype: float64"
      ]
     },
     "execution_count": 27,
     "metadata": {},
     "output_type": "execute_result"
    },
    {
     "data": {
      "image/png": "[encoded data removed]",
      "text/plain": [
       "<Figure size 360x216 with 1 Axes>"
      ]
     },
     "metadata": {
      "needs_background": "light"
     },
     "output_type": "display_data"
    }
   ],
   "source": [
    "data.plot(y = 'last_price', kind = 'hist', bins = 100, grid=True, range = (0,15000000), figsize = (5,3))\n",
    "data['last_price'].describe()"
   ]
  },
  {
   "cell_type": "markdown",
   "metadata": {},
   "source": [
    "Цены на недвижимость имеют среднее значение в 6,2 млн руб., медиана 4,6 млн руб. Цена имеет аспределение Гаусса.\n",
    "Большинство квартир находятся в категории от 3,5 до 6,7 млн руб."
   ]
  },
  {
   "cell_type": "markdown",
   "metadata": {},
   "source": [
    "Изучим число комнат."
   ]
  },
  {
   "cell_type": "code",
   "execution_count": 28,
   "metadata": {},
   "outputs": [
    {
     "data": {
      "text/plain": [
       "count    20865.000000\n",
       "mean         2.074527\n",
       "std          1.001463\n",
       "min          1.000000\n",
       "25%          1.000000\n",
       "50%          2.000000\n",
       "75%          3.000000\n",
       "max          7.000000\n",
       "Name: rooms, dtype: float64"
      ]
     },
     "execution_count": 28,
     "metadata": {},
     "output_type": "execute_result"
    },
    {
     "data": {
      "image/png": "[encoded data removed]",
      "text/plain": [
       "<Figure size 360x216 with 1 Axes>"
      ]
     },
     "metadata": {
      "needs_background": "light"
     },
     "output_type": "display_data"
    }
   ],
   "source": [
    "data.plot(y = 'rooms', kind = 'hist', bins = 30, grid=True, figsize = (5,3))\n",
    "data['rooms'].describe()"
   ]
  },
  {
   "cell_type": "markdown",
   "metadata": {},
   "source": [
    "Количество комнат колеблется от 1 до 7 (квартиры с большим колличеством комнат встречаются крайне редке, поэтому были исключены). Больше всего квартир с 1-3 комнатами."
   ]
  },
  {
   "cell_type": "markdown",
   "metadata": {},
   "source": [
    "Изучим высоту потолков."
   ]
  },
  {
   "cell_type": "code",
   "execution_count": 29,
   "metadata": {},
   "outputs": [
    {
     "data": {
      "text/plain": [
       "count    20865.000000\n",
       "mean         2.693646\n",
       "std          0.223221\n",
       "min          0.520000\n",
       "25%          2.600000\n",
       "50%          2.650000\n",
       "75%          2.700000\n",
       "max         10.000000\n",
       "Name: ceiling_height, dtype: float64"
      ]
     },
     "execution_count": 29,
     "metadata": {},
     "output_type": "execute_result"
    },
    {
     "data": {
      "image/png": "[encoded data removed]",
      "text/plain": [
       "<Figure size 360x216 with 1 Axes>"
      ]
     },
     "metadata": {
      "needs_background": "light"
     },
     "output_type": "display_data"
    }
   ],
   "source": [
    "data.plot(y = 'ceiling_height', kind = 'hist', bins = 30, range = (2,5), grid=True, figsize = (5,3))\n",
    "data['ceiling_height'].describe()"
   ]
  },
  {
   "cell_type": "markdown",
   "metadata": {},
   "source": [
    "Высота потолков в среднем составляет 2,69 м, медиана 2,65 м. В основном высота потолков составляет 2,6-2,7 м."
   ]
  },
  {
   "cell_type": "markdown",
   "metadata": {},
   "source": [
    "Изучим этаж квартиры."
   ]
  },
  {
   "cell_type": "code",
   "execution_count": 30,
   "metadata": {},
   "outputs": [
    {
     "data": {
      "text/plain": [
       "count    20865.000000\n",
       "mean         5.853199\n",
       "std          4.830968\n",
       "min          1.000000\n",
       "25%          2.000000\n",
       "50%          4.000000\n",
       "75%          8.000000\n",
       "max         33.000000\n",
       "Name: floor, dtype: float64"
      ]
     },
     "execution_count": 30,
     "metadata": {},
     "output_type": "execute_result"
    },
    {
     "data": {
      "image/png": "[encoded data removed]",
      "text/plain": [
       "<Figure size 360x216 with 1 Axes>"
      ]
     },
     "metadata": {
      "needs_background": "light"
     },
     "output_type": "display_data"
    }
   ],
   "source": [
    "data.plot(y = 'floor', kind = 'hist', bins = 30, grid=True, figsize = (5,3), range=(0, 30))\n",
    "data['floor'].describe()"
   ]
  },
  {
   "cell_type": "markdown",
   "metadata": {},
   "source": [
    "Большая часть квартир находится в зоне до 10 этажа. Самое большое колличесво квартир находится на 2 этаже. Можно заметить, что пиковыми по значениям являются квартиры с 1 по 5 этаж, хотя в целом основной диапозон соствялет со 2 по 8 этаж."
   ]
  },
  {
   "cell_type": "markdown",
   "metadata": {},
   "source": [
    "Изучим тип этажа квартиры."
   ]
  },
  {
   "cell_type": "code",
   "execution_count": 31,
   "metadata": {},
   "outputs": [
    {
     "data": {
      "text/plain": [
       "count      20865\n",
       "unique         3\n",
       "top       другой\n",
       "freq       15351\n",
       "Name: floor_cat, dtype: object"
      ]
     },
     "execution_count": 31,
     "metadata": {},
     "output_type": "execute_result"
    },
    {
     "data": {
      "image/png": "[encoded data removed]",
      "text/plain": [
       "<Figure size 432x288 with 1 Axes>"
      ]
     },
     "metadata": {
      "needs_background": "light"
     },
     "output_type": "display_data"
    }
   ],
   "source": [
    "data['floor_cat'].hist()\n",
    "data['floor_cat'].describe()"
   ]
  },
  {
   "cell_type": "markdown",
   "metadata": {},
   "source": [
    "Первые и последние этажи составляют меньшую долю от всех квартир"
   ]
  },
  {
   "cell_type": "markdown",
   "metadata": {},
   "source": [
    "Изучим  общее количество этажей в доме."
   ]
  },
  {
   "cell_type": "code",
   "execution_count": 32,
   "metadata": {},
   "outputs": [
    {
     "data": {
      "text/plain": [
       "count    20826.000000\n",
       "mean        10.579804\n",
       "std          6.525730\n",
       "min          1.000000\n",
       "25%          5.000000\n",
       "50%          9.000000\n",
       "75%         15.000000\n",
       "max         60.000000\n",
       "Name: floors_total, dtype: float64"
      ]
     },
     "execution_count": 32,
     "metadata": {},
     "output_type": "execute_result"
    },
    {
     "data": {
      "image/png": "[encoded data removed]",
      "text/plain": [
       "<Figure size 360x216 with 1 Axes>"
      ]
     },
     "metadata": {
      "needs_background": "light"
     },
     "output_type": "display_data"
    }
   ],
   "source": [
    "data.plot(y = 'floors_total', kind = 'hist', bins = 30, grid=True, figsize = (5,3))\n",
    "data['floors_total'].describe()"
   ]
  },
  {
   "cell_type": "markdown",
   "metadata": {},
   "source": [
    "Можно заметить, что самыми распространнеными домами являются 5этажные и 10 этажные дома"
   ]
  },
  {
   "cell_type": "markdown",
   "metadata": {},
   "source": [
    "Изучим расстояние до центра города в километрах."
   ]
  },
  {
   "cell_type": "code",
   "execution_count": 34,
   "metadata": {},
   "outputs": [
    {
     "data": {
      "text/plain": [
       "count    16216.000000\n",
       "mean        14.278244\n",
       "std          8.660153\n",
       "min          0.000000\n",
       "25%          9.000000\n",
       "50%         13.000000\n",
       "75%         16.000000\n",
       "max         66.000000\n",
       "Name: cityCenters_nearest, dtype: float64"
      ]
     },
     "execution_count": 34,
     "metadata": {},
     "output_type": "execute_result"
    },
    {
     "data": {
      "image/png": "[encoded data removed]",
      "text/plain": [
       "<Figure size 360x216 with 1 Axes>"
      ]
     },
     "metadata": {
      "needs_background": "light"
     },
     "output_type": "display_data"
    }
   ],
   "source": [
    "data.plot(y = 'cityCenters_nearest', kind = 'hist', bins = 30, grid=True, figsize = (5,3))\n",
    "data['cityCenters_nearest'].describe()"
   ]
  },
  {
   "cell_type": "markdown",
   "metadata": {},
   "source": [
    "В среднем до центра города 13-14 км. Типичный диапазон составляет от 9 до 16 км."
   ]
  },
  {
   "cell_type": "markdown",
   "metadata": {},
   "source": [
    "Изучим расстояние до ближайшего аэропорта."
   ]
  },
  {
   "cell_type": "code",
   "execution_count": 35,
   "metadata": {},
   "outputs": [
    {
     "data": {
      "text/plain": [
       "count    16197.000000\n",
       "mean     28791.439711\n",
       "std      12667.648774\n",
       "min          0.000000\n",
       "25%      18500.000000\n",
       "50%      26756.000000\n",
       "75%      37242.000000\n",
       "max      84869.000000\n",
       "Name: airports_nearest, dtype: float64"
      ]
     },
     "execution_count": 35,
     "metadata": {},
     "output_type": "execute_result"
    },
    {
     "data": {
      "image/png": "[encoded data removed]",
      "text/plain": [
       "<Figure size 360x216 with 1 Axes>"
      ]
     },
     "metadata": {
      "needs_background": "light"
     },
     "output_type": "display_data"
    }
   ],
   "source": [
    "data.plot(y = 'airports_nearest', kind = 'hist', bins = 30, grid=True, figsize = (5,3))\n",
    "data['airports_nearest'].describe()"
   ]
  },
  {
   "cell_type": "markdown",
   "metadata": {},
   "source": [
    "В среднем до ближайщего аэропорта 28 км. Основной диапазон составляет от 18,5 до 37,2 км."
   ]
  },
  {
   "cell_type": "markdown",
   "metadata": {},
   "source": [
    "Изучим расстояние до ближайшего парка."
   ]
  },
  {
   "cell_type": "code",
   "execution_count": 36,
   "metadata": {},
   "outputs": [
    {
     "data": {
      "text/plain": [
       "count    7181.000000\n",
       "mean      488.502715\n",
       "std       337.407538\n",
       "min         1.000000\n",
       "25%       288.000000\n",
       "50%       455.000000\n",
       "75%       611.000000\n",
       "max      3190.000000\n",
       "Name: parks_nearest, dtype: float64"
      ]
     },
     "execution_count": 36,
     "metadata": {},
     "output_type": "execute_result"
    },
    {
     "data": {
      "image/png": "[encoded data removed]",
      "text/plain": [
       "<Figure size 360x216 with 1 Axes>"
      ]
     },
     "metadata": {
      "needs_background": "light"
     },
     "output_type": "display_data"
    }
   ],
   "source": [
    "data.plot(y = 'parks_nearest', kind = 'hist', bins = 30, grid=True, figsize = (5,3))\n",
    "data['parks_nearest'].describe()"
   ]
  },
  {
   "cell_type": "markdown",
   "metadata": {},
   "source": [
    "Из гистограммы можно сказать, что практически со всемя квартирами в районе километра есть парк, значения выше довольно редки"
   ]
  },
  {
   "cell_type": "markdown",
   "metadata": {},
   "source": [
    "#### Изучаем, как быстро продавались квартиры "
   ]
  },
  {
   "cell_type": "code",
   "execution_count": 37,
   "metadata": {},
   "outputs": [
    {
     "data": {
      "text/plain": [
       "count    20865.000000\n",
       "mean       172.671220\n",
       "std        207.907625\n",
       "min          1.000000\n",
       "25%         48.000000\n",
       "50%         95.000000\n",
       "75%        205.000000\n",
       "max       1580.000000\n",
       "Name: days_exposition, dtype: float64"
      ]
     },
     "execution_count": 37,
     "metadata": {},
     "output_type": "execute_result"
    },
    {
     "data": {
      "image/png": "[encoded data removed]",
      "text/plain": [
       "<Figure size 432x288 with 1 Axes>"
      ]
     },
     "metadata": {
      "needs_background": "light"
     },
     "output_type": "display_data"
    },
    {
     "data": {
      "image/png": "[encoded data removed]",
      "text/plain": [
       "<Figure size 432x288 with 1 Axes>"
      ]
     },
     "metadata": {
      "needs_background": "light"
     },
     "output_type": "display_data"
    }
   ],
   "source": [
    "#диаграмма размаха\n",
    "plt.boxplot(data[data['days_exposition']!=0]['days_exposition'])\n",
    "plt.ylim(1,1000)\n",
    "\n",
    "data.plot(y = 'days_exposition', kind = 'hist', bins = 30, grid = True, range = (1,1600))\n",
    "\n",
    "#среднее значение, медиана и межквартильный размах\n",
    "data[data['days_exposition']!=0]['days_exposition'].describe()"
   ]
  },
  {
   "cell_type": "code",
   "execution_count": 38,
   "metadata": {},
   "outputs": [
    {
     "data": {
      "text/plain": [
       "95.0      2930\n",
       "45.0       519\n",
       "60.0       340\n",
       "7.0        200\n",
       "30.0       196\n",
       "          ... \n",
       "1201.0       1\n",
       "671.0        1\n",
       "1071.0       1\n",
       "818.0        1\n",
       "1174.0       1\n",
       "Name: days_exposition, Length: 1115, dtype: int64"
      ]
     },
     "execution_count": 38,
     "metadata": {},
     "output_type": "execute_result"
    }
   ],
   "source": [
    "data[data['days_exposition']!=0]['days_exposition'].value_counts()"
   ]
  },
  {
   "cell_type": "markdown",
   "metadata": {},
   "source": [
    "**Вывод:**\n",
    "Cудя по гистограмме, cреднее значение - 172 дня, а медиана - 95 дней.\n",
    "Большим значение у данных с временем экмпозиции 0. В общих данных учитывается время снятия объявления, а не факт продажи квартиры. Так как продажа в срок меньше одного дня очень маловероятное событие, можно предполагать, что все значения с нулевым временем это удаленные объявления, которые мы не учитываем."
   ]
  },
  {
   "cell_type": "markdown",
   "metadata": {},
   "source": [
    "#### Какие факторы больше всего влияют на общую (полную) стоимость объекта?"
   ]
  },
  {
   "cell_type": "markdown",
   "metadata": {},
   "source": [
    "Изучим зависимость цены  от общей площади квартиры."
   ]
  },
  {
   "cell_type": "code",
   "execution_count": 39,
   "metadata": {},
   "outputs": [
    {
     "data": {
      "text/plain": [
       "0.26579488584409605"
      ]
     },
     "execution_count": 39,
     "metadata": {},
     "output_type": "execute_result"
    },
    {
     "data": {
      "image/png": "[encoded data removed]",
      "text/plain": [
       "<Figure size 432x288 with 1 Axes>"
      ]
     },
     "metadata": {
      "needs_background": "light"
     },
     "output_type": "display_data"
    }
   ],
   "source": [
    "# влияние на стоимость квадратного метра\n",
    "pivot_table_total_area = data.pivot_table(index = 'total_area', values = 'price_per_meter', aggfunc = ['mean', 'count', 'median'])\n",
    "pivot_table_total_area.columns = ['mean', 'count', 'median']\n",
    "pivot_table_total_area.plot(y = 'median', style = 'o')\n",
    "data['total_area'].corr(data['price_per_meter'])"
   ]
  },
  {
   "cell_type": "markdown",
   "metadata": {},
   "source": [
    "**Вывод:**\n",
    "Зависимость очень слабая, корреляция составляет всего 0.26"
   ]
  },
  {
   "cell_type": "code",
   "execution_count": 40,
   "metadata": {},
   "outputs": [
    {
     "data": {
      "text/plain": [
       "0.6701161742106649"
      ]
     },
     "execution_count": 40,
     "metadata": {},
     "output_type": "execute_result"
    },
    {
     "data": {
      "image/png": "[encoded data removed]",
      "text/plain": [
       "<Figure size 432x288 with 1 Axes>"
      ]
     },
     "metadata": {
      "needs_background": "light"
     },
     "output_type": "display_data"
    }
   ],
   "source": [
    "# влияние на стоимость всей квартиры\n",
    "pivot_table_total_area = data.pivot_table(index = 'total_area', values = 'last_price', aggfunc = ['mean', 'count', 'median'])\n",
    "pivot_table_total_area.columns = ['mean', 'count', 'median']\n",
    "pivot_table_total_area.plot(y = 'median', style = 'o')\n",
    "data['total_area'].corr(data['last_price'])"
   ]
  },
  {
   "cell_type": "markdown",
   "metadata": {},
   "source": [
    "**Вывод:**\n",
    "Корреляция 0.67 - имеется зависимость, ы целом чеко заметно, что при увеличении площади, увеличивается и цена."
   ]
  },
  {
   "cell_type": "markdown",
   "metadata": {},
   "source": [
    "Изучим зависимость цены от жилой площади квартиры."
   ]
  },
  {
   "cell_type": "code",
   "execution_count": 41,
   "metadata": {},
   "outputs": [
    {
     "data": {
      "text/plain": [
       "0.1745164643225923"
      ]
     },
     "execution_count": 41,
     "metadata": {},
     "output_type": "execute_result"
    },
    {
     "data": {
      "image/png": "[encoded data removed]",
      "text/plain": [
       "<Figure size 432x288 with 1 Axes>"
      ]
     },
     "metadata": {
      "needs_background": "light"
     },
     "output_type": "display_data"
    }
   ],
   "source": [
    "# влияние на стоимость квадратного метра\n",
    "pivot_table_total_area = data.pivot_table(index = 'living_area', values = 'price_per_meter', aggfunc = ['mean', 'count', 'median'])\n",
    "pivot_table_total_area.columns = ['mean', 'count', 'median']\n",
    "pivot_table_total_area.plot(y = 'median', style = 'o')\n",
    "data['living_area'].corr(data['price_per_meter'])"
   ]
  },
  {
   "cell_type": "markdown",
   "metadata": {},
   "source": [
    "**Вывод:**\n",
    "Опять же зависимость слабая, практически отсутствует, корреляция составляет всего 0.17"
   ]
  },
  {
   "cell_type": "code",
   "execution_count": 42,
   "metadata": {},
   "outputs": [
    {
     "data": {
      "text/plain": [
       "0.5804741442546464"
      ]
     },
     "execution_count": 42,
     "metadata": {},
     "output_type": "execute_result"
    },
    {
     "data": {
      "image/png": "[encoded data removed]",
      "text/plain": [
       "<Figure size 432x288 with 1 Axes>"
      ]
     },
     "metadata": {
      "needs_background": "light"
     },
     "output_type": "display_data"
    }
   ],
   "source": [
    "# влияние на стоимость всей квартиры\n",
    "pivot_table_total_area = data.pivot_table(index = 'living_area', values = 'last_price', aggfunc = ['mean', 'count', 'median'])\n",
    "pivot_table_total_area.columns = ['mean', 'count', 'median']\n",
    "pivot_table_total_area.plot(y = 'median', style = 'o')\n",
    "data['living_area'].corr(data['last_price'])"
   ]
  },
  {
   "cell_type": "markdown",
   "metadata": {},
   "source": [
    "**Вывод:**\n",
    "Корреляция составляет 0.58 - есть определенная зависимость цены и жилпощади."
   ]
  },
  {
   "cell_type": "markdown",
   "metadata": {},
   "source": [
    "Изучим зависимость цены от площади кухни."
   ]
  },
  {
   "cell_type": "code",
   "execution_count": 43,
   "metadata": {},
   "outputs": [
    {
     "data": {
      "text/plain": [
       "0.3551844122215536"
      ]
     },
     "execution_count": 43,
     "metadata": {},
     "output_type": "execute_result"
    },
    {
     "data": {
      "image/png": "[encoded data removed]",
      "text/plain": [
       "<Figure size 432x288 with 1 Axes>"
      ]
     },
     "metadata": {
      "needs_background": "light"
     },
     "output_type": "display_data"
    }
   ],
   "source": [
    "# влияние на стоимость квадратного метра\n",
    "pivot_table_total_area = data.pivot_table(index = 'kitchen_area', values = 'price_per_meter', aggfunc = ['mean', 'count', 'median'])\n",
    "pivot_table_total_area.columns = ['mean', 'count', 'median']\n",
    "pivot_table_total_area.plot(y = 'median', style = 'o')\n",
    "data['kitchen_area'].corr(data['price_per_meter'])"
   ]
  },
  {
   "cell_type": "markdown",
   "metadata": {},
   "source": [
    "**Вывод:**\n",
    "Можно заметить слабую, но уже более видимую зависимость, корреляция составляет 0.35"
   ]
  },
  {
   "cell_type": "code",
   "execution_count": 44,
   "metadata": {},
   "outputs": [
    {
     "data": {
      "text/plain": [
       "0.4866164268812917"
      ]
     },
     "execution_count": 44,
     "metadata": {},
     "output_type": "execute_result"
    },
    {
     "data": {
      "image/png": "[encoded data removed]",
      "text/plain": [
       "<Figure size 432x288 with 1 Axes>"
      ]
     },
     "metadata": {
      "needs_background": "light"
     },
     "output_type": "display_data"
    }
   ],
   "source": [
    "# влияние на стоимость всей квартиры\n",
    "pivot_table_total_area = data.pivot_table(index = 'kitchen_area', values = 'last_price', aggfunc = ['mean', 'count', 'median'])\n",
    "pivot_table_total_area.columns = ['mean', 'count', 'median']\n",
    "pivot_table_total_area.plot(y = 'median', style = 'o')\n",
    "data['kitchen_area'].corr(data['last_price'])"
   ]
  },
  {
   "cell_type": "markdown",
   "metadata": {},
   "source": [
    "**Вывод:**\n",
    "Зависимость также слабая, корреляция составляет 0.46"
   ]
  },
  {
   "cell_type": "markdown",
   "metadata": {},
   "source": [
    "Изучим зависимость цены от количества комнат."
   ]
  },
  {
   "cell_type": "code",
   "execution_count": 45,
   "metadata": {},
   "outputs": [
    {
     "data": {
      "text/html": [
       "<div>\n",
       "<style scoped>\n",
       "    .dataframe tbody tr th:only-of-type {\n",
       "        vertical-align: middle;\n",
       "    }\n",
       "\n",
       "    .dataframe tbody tr th {\n",
       "        vertical-align: top;\n",
       "    }\n",
       "\n",
       "    .dataframe thead th {\n",
       "        text-align: right;\n",
       "    }\n",
       "</style>\n",
       "<table border=\"1\" class=\"dataframe\">\n",
       "  <thead>\n",
       "    <tr style=\"text-align: right;\">\n",
       "      <th></th>\n",
       "      <th>count</th>\n",
       "      <th>mean</th>\n",
       "      <th>std</th>\n",
       "      <th>min</th>\n",
       "      <th>25%</th>\n",
       "      <th>50%</th>\n",
       "      <th>75%</th>\n",
       "      <th>max</th>\n",
       "    </tr>\n",
       "    <tr>\n",
       "      <th>rooms</th>\n",
       "      <th></th>\n",
       "      <th></th>\n",
       "      <th></th>\n",
       "      <th></th>\n",
       "      <th></th>\n",
       "      <th></th>\n",
       "      <th></th>\n",
       "      <th></th>\n",
       "    </tr>\n",
       "  </thead>\n",
       "  <tbody>\n",
       "    <tr>\n",
       "      <th>1</th>\n",
       "      <td>7074.0</td>\n",
       "      <td>100505.861983</td>\n",
       "      <td>32578.961067</td>\n",
       "      <td>11463.414634</td>\n",
       "      <td>83763.204829</td>\n",
       "      <td>100000.000000</td>\n",
       "      <td>116142.739651</td>\n",
       "      <td>7.215190e+05</td>\n",
       "    </tr>\n",
       "    <tr>\n",
       "      <th>2</th>\n",
       "      <td>7116.0</td>\n",
       "      <td>95585.802150</td>\n",
       "      <td>43122.971596</td>\n",
       "      <td>111.834862</td>\n",
       "      <td>74130.079019</td>\n",
       "      <td>92987.440191</td>\n",
       "      <td>111640.632754</td>\n",
       "      <td>1.542605e+06</td>\n",
       "    </tr>\n",
       "    <tr>\n",
       "      <th>3</th>\n",
       "      <td>5249.0</td>\n",
       "      <td>96475.685842</td>\n",
       "      <td>52600.223976</td>\n",
       "      <td>10507.246377</td>\n",
       "      <td>72705.882353</td>\n",
       "      <td>89032.258065</td>\n",
       "      <td>108333.333333</td>\n",
       "      <td>1.736842e+06</td>\n",
       "    </tr>\n",
       "    <tr>\n",
       "      <th>4</th>\n",
       "      <td>1050.0</td>\n",
       "      <td>108264.178552</td>\n",
       "      <td>69221.479984</td>\n",
       "      <td>13483.146067</td>\n",
       "      <td>76536.963333</td>\n",
       "      <td>92466.294484</td>\n",
       "      <td>118521.434933</td>\n",
       "      <td>9.959839e+05</td>\n",
       "    </tr>\n",
       "    <tr>\n",
       "      <th>5</th>\n",
       "      <td>259.0</td>\n",
       "      <td>112310.563865</td>\n",
       "      <td>71230.860903</td>\n",
       "      <td>14347.826087</td>\n",
       "      <td>77503.633241</td>\n",
       "      <td>94103.194103</td>\n",
       "      <td>121677.314933</td>\n",
       "      <td>6.584362e+05</td>\n",
       "    </tr>\n",
       "    <tr>\n",
       "      <th>6</th>\n",
       "      <td>82.0</td>\n",
       "      <td>127665.047499</td>\n",
       "      <td>87505.609798</td>\n",
       "      <td>28919.631094</td>\n",
       "      <td>83381.902133</td>\n",
       "      <td>98164.403202</td>\n",
       "      <td>146622.433349</td>\n",
       "      <td>5.627706e+05</td>\n",
       "    </tr>\n",
       "    <tr>\n",
       "      <th>7</th>\n",
       "      <td>35.0</td>\n",
       "      <td>119973.286224</td>\n",
       "      <td>53430.823075</td>\n",
       "      <td>64516.129032</td>\n",
       "      <td>85283.389280</td>\n",
       "      <td>108260.869565</td>\n",
       "      <td>132183.470403</td>\n",
       "      <td>3.489362e+05</td>\n",
       "    </tr>\n",
       "  </tbody>\n",
       "</table>\n",
       "</div>"
      ],
      "text/plain": [
       "        count           mean           std           min           25%  \\\n",
       "rooms                                                                    \n",
       "1      7074.0  100505.861983  32578.961067  11463.414634  83763.204829   \n",
       "2      7116.0   95585.802150  43122.971596    111.834862  74130.079019   \n",
       "3      5249.0   96475.685842  52600.223976  10507.246377  72705.882353   \n",
       "4      1050.0  108264.178552  69221.479984  13483.146067  76536.963333   \n",
       "5       259.0  112310.563865  71230.860903  14347.826087  77503.633241   \n",
       "6        82.0  127665.047499  87505.609798  28919.631094  83381.902133   \n",
       "7        35.0  119973.286224  53430.823075  64516.129032  85283.389280   \n",
       "\n",
       "                 50%            75%           max  \n",
       "rooms                                              \n",
       "1      100000.000000  116142.739651  7.215190e+05  \n",
       "2       92987.440191  111640.632754  1.542605e+06  \n",
       "3       89032.258065  108333.333333  1.736842e+06  \n",
       "4       92466.294484  118521.434933  9.959839e+05  \n",
       "5       94103.194103  121677.314933  6.584362e+05  \n",
       "6       98164.403202  146622.433349  5.627706e+05  \n",
       "7      108260.869565  132183.470403  3.489362e+05  "
      ]
     },
     "execution_count": 45,
     "metadata": {},
     "output_type": "execute_result"
    },
    {
     "data": {
      "image/png": "[encoded data removed]",
      "text/plain": [
       "<Figure size 432x288 with 1 Axes>"
      ]
     },
     "metadata": {
      "needs_background": "light"
     },
     "output_type": "display_data"
    }
   ],
   "source": [
    "# влияние на стоимость квадратного метра\n",
    "pivot_table_total_area = data.pivot_table(index = 'rooms', values = 'price_per_meter', aggfunc = ['mean', 'count', 'median'])\n",
    "pivot_table_total_area.columns = ['mean', 'count', 'median']\n",
    "pivot_table_total_area.plot(y = 'median', style = 'o-')\n",
    "data.groupby('rooms')['price_per_meter'].describe()"
   ]
  },
  {
   "cell_type": "markdown",
   "metadata": {},
   "source": [
    "**Вывод:**\n",
    "Зависимости нет, хотя можно увидеть возрастание цены при увеличении комнат от 3х. На 3х комнатные квартиры самая низкая цена."
   ]
  },
  {
   "cell_type": "code",
   "execution_count": 46,
   "metadata": {},
   "outputs": [
    {
     "data": {
      "text/html": [
       "<div>\n",
       "<style scoped>\n",
       "    .dataframe tbody tr th:only-of-type {\n",
       "        vertical-align: middle;\n",
       "    }\n",
       "\n",
       "    .dataframe tbody tr th {\n",
       "        vertical-align: top;\n",
       "    }\n",
       "\n",
       "    .dataframe thead th {\n",
       "        text-align: right;\n",
       "    }\n",
       "</style>\n",
       "<table border=\"1\" class=\"dataframe\">\n",
       "  <thead>\n",
       "    <tr style=\"text-align: right;\">\n",
       "      <th></th>\n",
       "      <th>count</th>\n",
       "      <th>mean</th>\n",
       "      <th>std</th>\n",
       "      <th>min</th>\n",
       "      <th>25%</th>\n",
       "      <th>50%</th>\n",
       "      <th>75%</th>\n",
       "      <th>max</th>\n",
       "    </tr>\n",
       "    <tr>\n",
       "      <th>rooms</th>\n",
       "      <th></th>\n",
       "      <th></th>\n",
       "      <th></th>\n",
       "      <th></th>\n",
       "      <th></th>\n",
       "      <th></th>\n",
       "      <th></th>\n",
       "      <th></th>\n",
       "    </tr>\n",
       "  </thead>\n",
       "  <tbody>\n",
       "    <tr>\n",
       "      <th>1</th>\n",
       "      <td>7074.0</td>\n",
       "      <td>3.830161e+06</td>\n",
       "      <td>1.725301e+06</td>\n",
       "      <td>430000.0</td>\n",
       "      <td>2960000.0</td>\n",
       "      <td>3600000.0</td>\n",
       "      <td>4450000.0</td>\n",
       "      <td>43511000.0</td>\n",
       "    </tr>\n",
       "    <tr>\n",
       "      <th>2</th>\n",
       "      <td>7116.0</td>\n",
       "      <td>5.559292e+06</td>\n",
       "      <td>4.889726e+06</td>\n",
       "      <td>12190.0</td>\n",
       "      <td>3700000.0</td>\n",
       "      <td>4790000.0</td>\n",
       "      <td>6500000.0</td>\n",
       "      <td>289238400.0</td>\n",
       "    </tr>\n",
       "    <tr>\n",
       "      <th>3</th>\n",
       "      <td>5249.0</td>\n",
       "      <td>7.963599e+06</td>\n",
       "      <td>8.126067e+06</td>\n",
       "      <td>700000.0</td>\n",
       "      <td>4800000.0</td>\n",
       "      <td>6190000.0</td>\n",
       "      <td>8900000.0</td>\n",
       "      <td>330000000.0</td>\n",
       "    </tr>\n",
       "    <tr>\n",
       "      <th>4</th>\n",
       "      <td>1050.0</td>\n",
       "      <td>1.264744e+07</td>\n",
       "      <td>1.357499e+07</td>\n",
       "      <td>999000.0</td>\n",
       "      <td>6200000.0</td>\n",
       "      <td>8995000.0</td>\n",
       "      <td>14000000.0</td>\n",
       "      <td>159984000.0</td>\n",
       "    </tr>\n",
       "    <tr>\n",
       "      <th>5</th>\n",
       "      <td>259.0</td>\n",
       "      <td>1.811302e+07</td>\n",
       "      <td>1.677487e+07</td>\n",
       "      <td>1650000.0</td>\n",
       "      <td>9900000.0</td>\n",
       "      <td>13180000.0</td>\n",
       "      <td>20700000.0</td>\n",
       "      <td>160000000.0</td>\n",
       "    </tr>\n",
       "    <tr>\n",
       "      <th>6</th>\n",
       "      <td>82.0</td>\n",
       "      <td>2.435794e+07</td>\n",
       "      <td>2.112570e+07</td>\n",
       "      <td>4390000.0</td>\n",
       "      <td>12655000.0</td>\n",
       "      <td>16950000.0</td>\n",
       "      <td>25800000.0</td>\n",
       "      <td>130000000.0</td>\n",
       "    </tr>\n",
       "    <tr>\n",
       "      <th>7</th>\n",
       "      <td>35.0</td>\n",
       "      <td>2.327257e+07</td>\n",
       "      <td>1.332703e+07</td>\n",
       "      <td>12000000.0</td>\n",
       "      <td>15675000.0</td>\n",
       "      <td>18000000.0</td>\n",
       "      <td>25000000.0</td>\n",
       "      <td>82000000.0</td>\n",
       "    </tr>\n",
       "  </tbody>\n",
       "</table>\n",
       "</div>"
      ],
      "text/plain": [
       "        count          mean           std         min         25%         50%  \\\n",
       "rooms                                                                           \n",
       "1      7074.0  3.830161e+06  1.725301e+06    430000.0   2960000.0   3600000.0   \n",
       "2      7116.0  5.559292e+06  4.889726e+06     12190.0   3700000.0   4790000.0   \n",
       "3      5249.0  7.963599e+06  8.126067e+06    700000.0   4800000.0   6190000.0   \n",
       "4      1050.0  1.264744e+07  1.357499e+07    999000.0   6200000.0   8995000.0   \n",
       "5       259.0  1.811302e+07  1.677487e+07   1650000.0   9900000.0  13180000.0   \n",
       "6        82.0  2.435794e+07  2.112570e+07   4390000.0  12655000.0  16950000.0   \n",
       "7        35.0  2.327257e+07  1.332703e+07  12000000.0  15675000.0  18000000.0   \n",
       "\n",
       "              75%          max  \n",
       "rooms                           \n",
       "1       4450000.0   43511000.0  \n",
       "2       6500000.0  289238400.0  \n",
       "3       8900000.0  330000000.0  \n",
       "4      14000000.0  159984000.0  \n",
       "5      20700000.0  160000000.0  \n",
       "6      25800000.0  130000000.0  \n",
       "7      25000000.0   82000000.0  "
      ]
     },
     "execution_count": 46,
     "metadata": {},
     "output_type": "execute_result"
    },
    {
     "data": {
      "image/png": "[encoded data removed]",
      "text/plain": [
       "<Figure size 432x288 with 1 Axes>"
      ]
     },
     "metadata": {
      "needs_background": "light"
     },
     "output_type": "display_data"
    }
   ],
   "source": [
    "# влияние на стоимость всей квартиры\n",
    "pivot_table_total_area = data.pivot_table(index = 'rooms', values = 'last_price', aggfunc = ['mean', 'count', 'median'])\n",
    "pivot_table_total_area.columns = ['mean', 'count', 'median']\n",
    "pivot_table_total_area.plot(y = 'median', style = 'o-')\n",
    "data.groupby('rooms')['last_price'].describe()"
   ]
  },
  {
   "cell_type": "markdown",
   "metadata": {},
   "source": [
    "**Вывод:**\n",
    "Зависимость есть (этого можно было ожидать из-за зависимости цены от площади квартиры, так как чем больше комнат, тем больше площадь)"
   ]
  },
  {
   "cell_type": "markdown",
   "metadata": {},
   "source": [
    "Изучим зависимость цены от этажа."
   ]
  },
  {
   "cell_type": "code",
   "execution_count": 47,
   "metadata": {},
   "outputs": [
    {
     "data": {
      "text/html": [
       "<div>\n",
       "<style scoped>\n",
       "    .dataframe tbody tr th:only-of-type {\n",
       "        vertical-align: middle;\n",
       "    }\n",
       "\n",
       "    .dataframe tbody tr th {\n",
       "        vertical-align: top;\n",
       "    }\n",
       "\n",
       "    .dataframe thead th {\n",
       "        text-align: right;\n",
       "    }\n",
       "</style>\n",
       "<table border=\"1\" class=\"dataframe\">\n",
       "  <thead>\n",
       "    <tr style=\"text-align: right;\">\n",
       "      <th></th>\n",
       "      <th>price_per_meter</th>\n",
       "    </tr>\n",
       "    <tr>\n",
       "      <th>floor_cat</th>\n",
       "      <th></th>\n",
       "    </tr>\n",
       "  </thead>\n",
       "  <tbody>\n",
       "    <tr>\n",
       "      <th>другой</th>\n",
       "      <td>102594.232141</td>\n",
       "    </tr>\n",
       "    <tr>\n",
       "      <th>первый</th>\n",
       "      <td>81761.552199</td>\n",
       "    </tr>\n",
       "    <tr>\n",
       "      <th>последний</th>\n",
       "      <td>91634.636857</td>\n",
       "    </tr>\n",
       "  </tbody>\n",
       "</table>\n",
       "</div>"
      ],
      "text/plain": [
       "           price_per_meter\n",
       "floor_cat                 \n",
       "другой       102594.232141\n",
       "первый        81761.552199\n",
       "последний     91634.636857"
      ]
     },
     "execution_count": 47,
     "metadata": {},
     "output_type": "execute_result"
    },
    {
     "data": {
      "image/png": "[encoded data removed]",
      "text/plain": [
       "<Figure size 432x288 with 1 Axes>"
      ]
     },
     "metadata": {
      "needs_background": "light"
     },
     "output_type": "display_data"
    }
   ],
   "source": [
    "# влияние на стоимость квадратного метра\n",
    "pivot_table_floor_category = data.pivot_table(index = 'floor_cat', values = 'price_per_meter')\n",
    "pivot_table_floor_category.plot(kind='bar')\n",
    "pivot_table_floor_category"
   ]
  },
  {
   "cell_type": "markdown",
   "metadata": {},
   "source": [
    "**Вывод:**\n",
    "Самыми непопулярным является первый и последний этажи."
   ]
  },
  {
   "cell_type": "code",
   "execution_count": 48,
   "metadata": {},
   "outputs": [
    {
     "data": {
      "text/html": [
       "<div>\n",
       "<style scoped>\n",
       "    .dataframe tbody tr th:only-of-type {\n",
       "        vertical-align: middle;\n",
       "    }\n",
       "\n",
       "    .dataframe tbody tr th {\n",
       "        vertical-align: top;\n",
       "    }\n",
       "\n",
       "    .dataframe thead th {\n",
       "        text-align: right;\n",
       "    }\n",
       "</style>\n",
       "<table border=\"1\" class=\"dataframe\">\n",
       "  <thead>\n",
       "    <tr style=\"text-align: right;\">\n",
       "      <th></th>\n",
       "      <th>last_price</th>\n",
       "    </tr>\n",
       "    <tr>\n",
       "      <th>floor_cat</th>\n",
       "      <th></th>\n",
       "    </tr>\n",
       "  </thead>\n",
       "  <tbody>\n",
       "    <tr>\n",
       "      <th>другой</th>\n",
       "      <td>6.437637e+06</td>\n",
       "    </tr>\n",
       "    <tr>\n",
       "      <th>первый</th>\n",
       "      <td>4.684983e+06</td>\n",
       "    </tr>\n",
       "    <tr>\n",
       "      <th>последний</th>\n",
       "      <td>6.231648e+06</td>\n",
       "    </tr>\n",
       "  </tbody>\n",
       "</table>\n",
       "</div>"
      ],
      "text/plain": [
       "             last_price\n",
       "floor_cat              \n",
       "другой     6.437637e+06\n",
       "первый     4.684983e+06\n",
       "последний  6.231648e+06"
      ]
     },
     "execution_count": 48,
     "metadata": {},
     "output_type": "execute_result"
    },
    {
     "data": {
      "image/png": "[encoded data removed]",
      "text/plain": [
       "<Figure size 432x288 with 1 Axes>"
      ]
     },
     "metadata": {
      "needs_background": "light"
     },
     "output_type": "display_data"
    }
   ],
   "source": [
    "# влияние на стоимость всей квартиры\n",
    "pivot_table_floor_category = data.pivot_table(index = 'floor_cat', values = 'last_price')\n",
    "pivot_table_floor_category.plot(kind='bar')\n",
    "pivot_table_floor_category"
   ]
  },
  {
   "cell_type": "markdown",
   "metadata": {},
   "source": [
    "**Вывод:**\n",
    "В целом можно сказать, что есть корреляция. Цена на \"другие\" и выерхние этажи определенно выше, чем на первый."
   ]
  },
  {
   "cell_type": "markdown",
   "metadata": {},
   "source": [
    "Изучим зависимость цены от даты размещения."
   ]
  },
  {
   "cell_type": "code",
   "execution_count": 49,
   "metadata": {},
   "outputs": [
    {
     "data": {
      "text/plain": [
       "-0.009814028975210954"
      ]
     },
     "execution_count": 49,
     "metadata": {},
     "output_type": "execute_result"
    },
    {
     "data": {
      "image/png": "[encoded data removed]",
      "text/plain": [
       "<Figure size 432x288 with 1 Axes>"
      ]
     },
     "metadata": {
      "needs_background": "light"
     },
     "output_type": "display_data"
    }
   ],
   "source": [
    "# влияние на стоимость квадратного метра\n",
    "pivot_table_weekday_exposition = data.pivot_table(index = 'weekday_exposition', values = 'price_per_meter', aggfunc = ['mean', 'count', 'median'])\n",
    "pivot_table_weekday_exposition.columns = ['mean', 'count', 'median']\n",
    "pivot_table_weekday_exposition.plot(y = 'median')\n",
    "data['weekday_exposition'].corr(data['price_per_meter'])"
   ]
  },
  {
   "cell_type": "code",
   "execution_count": 50,
   "metadata": {},
   "outputs": [
    {
     "data": {
      "text/plain": [
       "-4.573757602545278e-05"
      ]
     },
     "execution_count": 50,
     "metadata": {},
     "output_type": "execute_result"
    },
    {
     "data": {
      "image/png": "[encoded data removed]",
      "text/plain": [
       "<Figure size 432x288 with 1 Axes>"
      ]
     },
     "metadata": {
      "needs_background": "light"
     },
     "output_type": "display_data"
    }
   ],
   "source": [
    "pivot_table_weekday_exposition = data.pivot_table(index = 'month_exposition', values = 'price_per_meter', aggfunc = ['mean', 'count', 'median'])\n",
    "pivot_table_weekday_exposition.columns = ['mean', 'count', 'median']\n",
    "pivot_table_weekday_exposition.plot(y = 'median')\n",
    "data['month_exposition'].corr(data['price_per_meter'])"
   ]
  },
  {
   "cell_type": "code",
   "execution_count": 51,
   "metadata": {},
   "outputs": [
    {
     "data": {
      "text/plain": [
       "0.0213534755422894"
      ]
     },
     "execution_count": 51,
     "metadata": {},
     "output_type": "execute_result"
    },
    {
     "data": {
      "image/png": "[encoded data removed]",
      "text/plain": [
       "<Figure size 432x288 with 1 Axes>"
      ]
     },
     "metadata": {
      "needs_background": "light"
     },
     "output_type": "display_data"
    }
   ],
   "source": [
    "pivot_table_weekday_exposition = data.pivot_table(index = 'year_exposition', values = 'price_per_meter', aggfunc = ['mean', 'count', 'median'])\n",
    "pivot_table_weekday_exposition.columns = ['mean', 'count', 'median']\n",
    "pivot_table_weekday_exposition.plot(y = 'median')\n",
    "data['year_exposition'].corr(data['price_per_meter'])"
   ]
  },
  {
   "cell_type": "markdown",
   "metadata": {},
   "source": [
    "**Вывод:**\n",
    "В будние дни активность гораздо выше, чем в выходные. Активность по месяцам очень скачущая, поэтому нельзя четко сказать, что есть какая-либо зависимость. Пики приходятся на зиму, апрель и сентябрь, тогда как в летние месяцы происходит резкое падение цен.\n",
    "\n",
    "Из годовой активности видно, что с 2016 года цены возрастают, после резкого падения в 2015-16 годах."
   ]
  },
  {
   "cell_type": "code",
   "execution_count": 52,
   "metadata": {},
   "outputs": [
    {
     "data": {
      "text/plain": [
       "-0.007774413142155182"
      ]
     },
     "execution_count": 52,
     "metadata": {},
     "output_type": "execute_result"
    },
    {
     "data": {
      "image/png": "[encoded data removed]",
      "text/plain": [
       "<Figure size 432x288 with 1 Axes>"
      ]
     },
     "metadata": {
      "needs_background": "light"
     },
     "output_type": "display_data"
    }
   ],
   "source": [
    "# влияние на стоимость всей квартиры\n",
    "pivot_table_weekday_exposition = data.pivot_table(index = 'weekday_exposition', values = 'last_price', aggfunc = ['mean', 'count', 'median'])\n",
    "pivot_table_weekday_exposition.columns = ['mean', 'count', 'median']\n",
    "pivot_table_weekday_exposition.plot(y = 'median')\n",
    "data['weekday_exposition'].corr(data['last_price'])"
   ]
  },
  {
   "cell_type": "code",
   "execution_count": 53,
   "metadata": {},
   "outputs": [
    {
     "data": {
      "text/plain": [
       "0.0036827686136683044"
      ]
     },
     "execution_count": 53,
     "metadata": {},
     "output_type": "execute_result"
    },
    {
     "data": {
      "image/png": "[encoded data removed]",
      "text/plain": [
       "<Figure size 432x288 with 1 Axes>"
      ]
     },
     "metadata": {
      "needs_background": "light"
     },
     "output_type": "display_data"
    }
   ],
   "source": [
    "pivot_table_weekday_exposition = data.pivot_table(index = 'month_exposition', values = 'last_price', aggfunc = ['mean', 'count', 'median'])\n",
    "pivot_table_weekday_exposition.columns = ['mean', 'count', 'median']\n",
    "pivot_table_weekday_exposition.plot(y = 'median')\n",
    "data['month_exposition'].corr(data['last_price'])"
   ]
  },
  {
   "cell_type": "code",
   "execution_count": 54,
   "metadata": {},
   "outputs": [
    {
     "data": {
      "text/plain": [
       "-0.04376560387916586"
      ]
     },
     "execution_count": 54,
     "metadata": {},
     "output_type": "execute_result"
    },
    {
     "data": {
      "image/png": "[encoded data removed]",
      "text/plain": [
       "<Figure size 432x288 with 1 Axes>"
      ]
     },
     "metadata": {
      "needs_background": "light"
     },
     "output_type": "display_data"
    }
   ],
   "source": [
    "pivot_table_weekday_exposition = data.pivot_table(index = 'year_exposition', values = 'last_price', aggfunc = ['mean', 'count', 'median'])\n",
    "pivot_table_weekday_exposition.columns = ['mean', 'count', 'median']\n",
    "pivot_table_weekday_exposition.plot(y = 'median')\n",
    "data['year_exposition'].corr(data['last_price'])"
   ]
  },
  {
   "cell_type": "markdown",
   "metadata": {},
   "source": [
    "**Вывод:**\n",
    "Заметно завсимость цен от дня недели. Четко видно, что со вторника по воскресенье происходит постепенное снижение цен. И вновь рост с воскресенья по вторник.\n",
    "\n",
    "В месячной активности видно, что с июня по апрель происходит постепеноое повышение цен (имеются некоторые скачки) и резкое падение в апреле-июне. Так что можно сказать, что определенная зависимость есть.\n",
    "\n",
    "Из годовой активности видно, что с 2017 года цены возрастают, после резкого падения в 2014-16 годах."
   ]
  },
  {
   "cell_type": "markdown",
   "metadata": {},
   "source": [
    "**Вывод этапа:**\n",
    "- Наиболее сильная корреляция наблюдается между площадью квартиры и ее стоимостью.\n",
    "\n",
    "- Стоимость квартиры также зависит от числа комнат: чем их больше, тем квартира дороже.\n",
    "\n",
    "- Квартиры на первом или последнем этаже обычно продаются по более низкой цене, чем квартиры на других этажах.\n",
    "\n",
    "- День недели сильно сказывается на цене, чуть менее четко влияет месяц публикации. "
   ]
  },
  {
   "cell_type": "markdown",
   "metadata": {},
   "source": [
    "#### Посчет средней цены одного квадратного метра в 10 населённых пунктах с наибольшим числом объявлений. Выделение населённых пунктов с самой высокой и низкой стоимостью квадратного метра."
   ]
  },
  {
   "cell_type": "code",
   "execution_count": 55,
   "metadata": {},
   "outputs": [
    {
     "data": {
      "text/html": [
       "<div>\n",
       "<style scoped>\n",
       "    .dataframe tbody tr th:only-of-type {\n",
       "        vertical-align: middle;\n",
       "    }\n",
       "\n",
       "    .dataframe tbody tr th {\n",
       "        vertical-align: top;\n",
       "    }\n",
       "\n",
       "    .dataframe thead th {\n",
       "        text-align: right;\n",
       "    }\n",
       "</style>\n",
       "<table border=\"1\" class=\"dataframe\">\n",
       "  <thead>\n",
       "    <tr style=\"text-align: right;\">\n",
       "      <th></th>\n",
       "      <th>count</th>\n",
       "      <th>mean</th>\n",
       "    </tr>\n",
       "    <tr>\n",
       "      <th>locality_name</th>\n",
       "      <th></th>\n",
       "      <th></th>\n",
       "    </tr>\n",
       "  </thead>\n",
       "  <tbody>\n",
       "    <tr>\n",
       "      <th>санкт-петербург</th>\n",
       "      <td>13962</td>\n",
       "      <td>112953.674486</td>\n",
       "    </tr>\n",
       "    <tr>\n",
       "      <th>поселок мурино</th>\n",
       "      <td>429</td>\n",
       "      <td>85364.530324</td>\n",
       "    </tr>\n",
       "    <tr>\n",
       "      <th>поселок шушары</th>\n",
       "      <td>393</td>\n",
       "      <td>78535.194019</td>\n",
       "    </tr>\n",
       "    <tr>\n",
       "      <th>всеволожск</th>\n",
       "      <td>357</td>\n",
       "      <td>69029.150099</td>\n",
       "    </tr>\n",
       "    <tr>\n",
       "      <th>пушкин</th>\n",
       "      <td>332</td>\n",
       "      <td>103078.747625</td>\n",
       "    </tr>\n",
       "    <tr>\n",
       "      <th>колпино</th>\n",
       "      <td>321</td>\n",
       "      <td>75129.845412</td>\n",
       "    </tr>\n",
       "    <tr>\n",
       "      <th>гатчина</th>\n",
       "      <td>290</td>\n",
       "      <td>68635.620745</td>\n",
       "    </tr>\n",
       "    <tr>\n",
       "      <th>поселок парголово</th>\n",
       "      <td>288</td>\n",
       "      <td>90756.003417</td>\n",
       "    </tr>\n",
       "    <tr>\n",
       "      <th>деревня кудрово</th>\n",
       "      <td>226</td>\n",
       "      <td>92248.477506</td>\n",
       "    </tr>\n",
       "    <tr>\n",
       "      <th>выборг</th>\n",
       "      <td>190</td>\n",
       "      <td>58319.351675</td>\n",
       "    </tr>\n",
       "  </tbody>\n",
       "</table>\n",
       "</div>"
      ],
      "text/plain": [
       "                   count           mean\n",
       "locality_name                          \n",
       "санкт-петербург    13962  112953.674486\n",
       "поселок мурино       429   85364.530324\n",
       "поселок шушары       393   78535.194019\n",
       "всеволожск           357   69029.150099\n",
       "пушкин               332  103078.747625\n",
       "колпино              321   75129.845412\n",
       "гатчина              290   68635.620745\n",
       "поселок парголово    288   90756.003417\n",
       "деревня кудрово      226   92248.477506\n",
       "выборг               190   58319.351675"
      ]
     },
     "execution_count": 55,
     "metadata": {},
     "output_type": "execute_result"
    }
   ],
   "source": [
    "locality_pivot_table = data.pivot_table(index = 'locality_name', values = 'price_per_meter', aggfunc=['count', 'mean'])\n",
    "locality_pivot_table.columns = ['count', 'mean']\n",
    "locality_pivot_table = locality_pivot_table.sort_values('count', ascending = False).head(10)\n",
    "locality_pivot_table"
   ]
  },
  {
   "cell_type": "markdown",
   "metadata": {},
   "source": [
    "Самая высокая стоимость."
   ]
  },
  {
   "cell_type": "code",
   "execution_count": 56,
   "metadata": {},
   "outputs": [
    {
     "data": {
      "text/html": [
       "<div>\n",
       "<style scoped>\n",
       "    .dataframe tbody tr th:only-of-type {\n",
       "        vertical-align: middle;\n",
       "    }\n",
       "\n",
       "    .dataframe tbody tr th {\n",
       "        vertical-align: top;\n",
       "    }\n",
       "\n",
       "    .dataframe thead th {\n",
       "        text-align: right;\n",
       "    }\n",
       "</style>\n",
       "<table border=\"1\" class=\"dataframe\">\n",
       "  <thead>\n",
       "    <tr style=\"text-align: right;\">\n",
       "      <th></th>\n",
       "      <th>count</th>\n",
       "      <th>mean</th>\n",
       "    </tr>\n",
       "    <tr>\n",
       "      <th>locality_name</th>\n",
       "      <th></th>\n",
       "      <th></th>\n",
       "    </tr>\n",
       "  </thead>\n",
       "  <tbody>\n",
       "    <tr>\n",
       "      <th>санкт-петербург</th>\n",
       "      <td>13962</td>\n",
       "      <td>112953.674486</td>\n",
       "    </tr>\n",
       "  </tbody>\n",
       "</table>\n",
       "</div>"
      ],
      "text/plain": [
       "                 count           mean\n",
       "locality_name                        \n",
       "санкт-петербург  13962  112953.674486"
      ]
     },
     "execution_count": 56,
     "metadata": {},
     "output_type": "execute_result"
    }
   ],
   "source": [
    "locality_pivot_table[locality_pivot_table['mean']==locality_pivot_table['mean'].max()]"
   ]
  },
  {
   "cell_type": "markdown",
   "metadata": {},
   "source": [
    "Самая низкая стоимость."
   ]
  },
  {
   "cell_type": "code",
   "execution_count": 57,
   "metadata": {},
   "outputs": [
    {
     "data": {
      "text/html": [
       "<div>\n",
       "<style scoped>\n",
       "    .dataframe tbody tr th:only-of-type {\n",
       "        vertical-align: middle;\n",
       "    }\n",
       "\n",
       "    .dataframe tbody tr th {\n",
       "        vertical-align: top;\n",
       "    }\n",
       "\n",
       "    .dataframe thead th {\n",
       "        text-align: right;\n",
       "    }\n",
       "</style>\n",
       "<table border=\"1\" class=\"dataframe\">\n",
       "  <thead>\n",
       "    <tr style=\"text-align: right;\">\n",
       "      <th></th>\n",
       "      <th>count</th>\n",
       "      <th>mean</th>\n",
       "    </tr>\n",
       "    <tr>\n",
       "      <th>locality_name</th>\n",
       "      <th></th>\n",
       "      <th></th>\n",
       "    </tr>\n",
       "  </thead>\n",
       "  <tbody>\n",
       "    <tr>\n",
       "      <th>выборг</th>\n",
       "      <td>190</td>\n",
       "      <td>58319.351675</td>\n",
       "    </tr>\n",
       "  </tbody>\n",
       "</table>\n",
       "</div>"
      ],
      "text/plain": [
       "               count          mean\n",
       "locality_name                     \n",
       "выборг           190  58319.351675"
      ]
     },
     "execution_count": 57,
     "metadata": {},
     "output_type": "execute_result"
    }
   ],
   "source": [
    "locality_pivot_table[locality_pivot_table['mean']==locality_pivot_table['mean'].min()]"
   ]
  },
  {
   "cell_type": "markdown",
   "metadata": {},
   "source": [
    "**Вывод:**\n",
    "Самая высокая стоимость жилья в Санкт-Петербурге, тогда как самая низкая в Выборге"
   ]
  },
  {
   "cell_type": "markdown",
   "metadata": {},
   "source": [
    "#### Определение зависимости стоимости объектов от расстояния до центра города."
   ]
  },
  {
   "cell_type": "code",
   "execution_count": 58,
   "metadata": {},
   "outputs": [
    {
     "name": "stdout",
     "output_type": "stream",
     "text": [
      "<class 'pandas.core.frame.DataFrame'>\n",
      "Float64Index: 30 entries, 0.0 to 29.0\n",
      "Data columns (total 1 columns):\n",
      " #   Column           Non-Null Count  Dtype  \n",
      "---  ------           --------------  -----  \n",
      " 0   price_per_meter  30 non-null     float64\n",
      "dtypes: float64(1)\n",
      "memory usage: 480.0 bytes\n"
     ]
    },
    {
     "data": {
      "image/png": "[encoded data removed]",
      "text/plain": [
       "<Figure size 432x288 with 1 Axes>"
      ]
     },
     "metadata": {
      "needs_background": "light"
     },
     "output_type": "display_data"
    }
   ],
   "source": [
    "pivot_table_km = data.query('locality_name == \"санкт-петербург\"').pivot_table(index = 'cityCenters_nearest', values = 'price_per_meter', aggfunc = 'mean')\n",
    "pivot_table_km.plot()\n",
    "pivot_table_km.info()"
   ]
  },
  {
   "cell_type": "markdown",
   "metadata": {},
   "source": [
    "**Вывод:**\n",
    "В целом по графику видно, что чем дальше от центра Санкт-Петербурга, тем ниже цена, хотя видны резкие всплески цены на 7 и 27 км."
   ]
  },
  {
   "cell_type": "markdown",
   "metadata": {},
   "source": [
    "**Вывод этапа:**\n",
    "- Исследованы распределения параметров квартир. \n",
    "Самымими распространенными являются квартиры с общей площадью 40-69 кв.м., жилплощадью 15-50 кв.м., кухней 5-12 кв.м., ценой 3,5-6,7 млн. рублей, 1-3х комнатными, с высотой потолков 2,6-2,7 м, в домах с типичной застройкой 5-15 этажей, в основном располложеные от центра на расстоянии 9-16 км.\n",
    "\n",
    "- Проанализирован срок продажи квартир: средний срок продажи - 172 дня.\n",
    "\n",
    "- Проанализированы факторы вляющие на стоимость квартиры. \n",
    "Были получены следующие корреляции: 0,67 у общей площади, 0,58 - жилплощадь, 0,48 - кухни. Также выведены зависимость от количества комнат.\n",
    "\n",
    "- Так же была посчитана средняя цена одного квадратного метра в 10 населённых пунктах с наибольшим числом объявлений. Самой большой ценой естественно обладает Санкт-Петербур - 112953 рублей за кв.м., самой маленькой - Выборг - 58319 рублей.\n",
    "\n",
    "- Исследована зависимость цены в зависимости от удаления от центра Санк-Петербурга. Выявлена прямая зависмость падения цены при удалении от центра (с наличием всплесков на 7 и 27 километрах)"
   ]
  },
  {
   "cell_type": "markdown",
   "metadata": {},
   "source": [
    "### Общий вывод"
   ]
  },
  {
   "cell_type": "markdown",
   "metadata": {},
   "source": [
    "Итак, полученный архив данных - данные о продаже квартир в Санкт-Петербурге и соседних населённых пунктах.\n",
    "    \n",
    "Были обработаны пропущенные значения в столбцах `ceiling_height` (обработаны с помощью медианы), `is_apartment` (пропуски заменены на False), `balcony` (пропуски заменены на нулевые значения), `days_exposition` (обработаны с помощью медианы). Обработаны дубликаты названий городов и поселков. Для более подробного анализа посчитаны и добавлены в таблицу цена одного квадратного метра (`price_per_meter`), день недели(`weekday_exposition`), месяц(`month_exposition`) и год публикации объявления(`year_exposition`), тип этажа квартиры, расстояние до центра города в километрах. \n",
    "    \n",
    "Изучены параметры  площади, цены, числа комнат, высоты потолков на наличие выбивающихся значений, а также определены аномалии. В высоте потолков (`ceiling_height`), было обнаружено, что при переносе данных возникла ошибка, в следствии которой появлялись аномально высокие значения.\n",
    "    \n",
    "По изученным данным можно сказать, что типичная квартира на продажу имеет общую площадью 40-69 кв.м., жилплощадь 15-50 кв.м., кухню 5-12 кв.м., цену 3,5-6,7 млн. рублей, 1-3 комнаты, высоту потолков 2,6-2,7 м, домах с типичной застройкой 5-15 этажей и располложена от центра на расстоянии 9-16 км.\n",
    "    \n",
    "Изученние корреляции зависимости цены от различны параметров дало следующие результаты: корреляция *0,67* у общей площади, *0,58* - жилплощадь, *0,48* - кухни, и зависимость от количества комнат и этажа, на котором расположена квартира. Из чего можно сказать, что прямыми и самими влятельными факторами на цену квартиры являются площадь квартиры и колличество комнат в ней. Остальные параметры хоть и оказывают влияние на цену, но не так значительно.\n",
    "    \n",
    "Было выявлено, что в среднем продажа происходит за 100-180 дней. Но также возникают аномалии на 30, 45, 60, 90 днях. Также обнаружену большое колличесво объявлений с 0 дней продаж, что вероянее являются просто снятыми с продаж объявлениями.\n",
    "    \n",
    "Самым дорогим городом оказался Санкт-Петербур с 112953 рублей за кв.м в среднем с постепенным уменьшением цен от центра к окраинам, что в целом не удивительно.\n",
    "    \n",
    "Также заметно повышение цен с 2016 года. В целом важно учитывать, что рассматривались лишь смотрели средние показатели по рынку в целом, поэтому нельзя исключать возможность различного поведения цен в конкретных года."
   ]
  },
  {
   "cell_type": "code",
   "execution_count": null,
   "metadata": {},
   "outputs": [],
   "source": []
  }
 ],
 "metadata": {
  "ExecuteTimeLog": [
   {
    "duration": 743,
    "start_time": "2023-04-26T23:49:16.726Z"
   },
   {
    "duration": 144,
    "start_time": "2023-04-26T23:52:01.821Z"
   },
   {
    "duration": 15,
    "start_time": "2023-04-26T23:52:16.182Z"
   },
   {
    "duration": 2357,
    "start_time": "2023-04-27T00:06:11.707Z"
   },
   {
    "duration": 1777,
    "start_time": "2023-04-27T00:07:55.394Z"
   },
   {
    "duration": 11,
    "start_time": "2023-04-27T00:09:10.468Z"
   },
   {
    "duration": 179,
    "start_time": "2023-04-27T00:11:50.579Z"
   },
   {
    "duration": 7,
    "start_time": "2023-04-27T00:15:45.301Z"
   },
   {
    "duration": 6,
    "start_time": "2023-04-27T00:16:33.809Z"
   },
   {
    "duration": 5,
    "start_time": "2023-04-27T00:17:02.717Z"
   },
   {
    "duration": 149,
    "start_time": "2023-04-27T00:17:50.065Z"
   },
   {
    "duration": 140,
    "start_time": "2023-04-27T00:18:29.157Z"
   },
   {
    "duration": 254,
    "start_time": "2023-04-27T00:18:51.265Z"
   },
   {
    "duration": 145,
    "start_time": "2023-04-27T00:18:57.489Z"
   },
   {
    "duration": 11,
    "start_time": "2023-04-27T00:19:45.257Z"
   },
   {
    "duration": 161,
    "start_time": "2023-04-27T00:20:20.325Z"
   },
   {
    "duration": 42,
    "start_time": "2023-04-27T00:20:41.312Z"
   },
   {
    "duration": 147,
    "start_time": "2023-04-27T00:21:53.675Z"
   },
   {
    "duration": 234,
    "start_time": "2023-04-27T00:22:03.547Z"
   },
   {
    "duration": 29,
    "start_time": "2023-04-27T00:30:43.740Z"
   },
   {
    "duration": 4,
    "start_time": "2023-04-27T00:31:06.636Z"
   },
   {
    "duration": 51,
    "start_time": "2023-04-27T09:16:42.715Z"
   },
   {
    "duration": 610,
    "start_time": "2023-04-27T09:16:57.098Z"
   },
   {
    "duration": 2484,
    "start_time": "2023-04-27T09:17:01.629Z"
   },
   {
    "duration": 16,
    "start_time": "2023-04-27T09:17:04.227Z"
   },
   {
    "duration": 56,
    "start_time": "2023-04-27T09:17:08.183Z"
   },
   {
    "duration": 10,
    "start_time": "2023-04-27T09:20:09.687Z"
   },
   {
    "duration": 185,
    "start_time": "2023-04-27T09:20:10.599Z"
   },
   {
    "duration": 6,
    "start_time": "2023-04-27T09:20:15.202Z"
   },
   {
    "duration": 13,
    "start_time": "2023-04-27T09:25:08.059Z"
   },
   {
    "duration": 13,
    "start_time": "2023-04-27T09:25:20.977Z"
   },
   {
    "duration": 31,
    "start_time": "2023-04-27T09:25:42.621Z"
   },
   {
    "duration": 28,
    "start_time": "2023-04-27T09:27:14.450Z"
   },
   {
    "duration": 29,
    "start_time": "2023-04-27T09:27:41.094Z"
   },
   {
    "duration": 36,
    "start_time": "2023-04-27T09:32:12.563Z"
   },
   {
    "duration": 8,
    "start_time": "2023-04-27T09:32:57.331Z"
   },
   {
    "duration": 260,
    "start_time": "2023-04-27T09:32:58.184Z"
   },
   {
    "duration": 5,
    "start_time": "2023-04-27T09:33:00.372Z"
   },
   {
    "duration": 32,
    "start_time": "2023-04-27T09:33:01.113Z"
   },
   {
    "duration": 1227,
    "start_time": "2023-04-27T09:39:15.274Z"
   },
   {
    "duration": 6,
    "start_time": "2023-04-27T09:39:37.095Z"
   },
   {
    "duration": 9,
    "start_time": "2023-04-27T09:40:02.532Z"
   },
   {
    "duration": 6,
    "start_time": "2023-04-27T09:40:17.168Z"
   },
   {
    "duration": 4,
    "start_time": "2023-04-27T09:49:37.784Z"
   },
   {
    "duration": 10,
    "start_time": "2023-04-27T09:49:51.819Z"
   },
   {
    "duration": 34,
    "start_time": "2023-04-27T09:50:24.499Z"
   },
   {
    "duration": 9,
    "start_time": "2023-04-27T09:50:29.089Z"
   },
   {
    "duration": 1152,
    "start_time": "2023-04-27T09:52:48.768Z"
   },
   {
    "duration": 47,
    "start_time": "2023-04-27T09:53:17.860Z"
   },
   {
    "duration": 69,
    "start_time": "2023-04-27T09:53:34.239Z"
   },
   {
    "duration": 40,
    "start_time": "2023-04-27T09:53:46.368Z"
   },
   {
    "duration": 9,
    "start_time": "2023-04-27T09:54:11.448Z"
   },
   {
    "duration": 13,
    "start_time": "2023-04-27T09:54:48.908Z"
   },
   {
    "duration": 39,
    "start_time": "2023-04-27T09:56:08.440Z"
   },
   {
    "duration": 11,
    "start_time": "2023-04-27T09:56:28.766Z"
   },
   {
    "duration": 15,
    "start_time": "2023-04-27T09:59:14.750Z"
   },
   {
    "duration": 17,
    "start_time": "2023-04-27T09:59:58.579Z"
   },
   {
    "duration": 14,
    "start_time": "2023-04-27T10:04:25.946Z"
   },
   {
    "duration": 24,
    "start_time": "2023-04-27T10:04:31.261Z"
   },
   {
    "duration": 37,
    "start_time": "2023-04-27T10:04:42.096Z"
   },
   {
    "duration": 28,
    "start_time": "2023-04-27T10:04:50.094Z"
   },
   {
    "duration": 19,
    "start_time": "2023-04-27T10:05:05.990Z"
   },
   {
    "duration": 23,
    "start_time": "2023-04-27T10:05:26.417Z"
   },
   {
    "duration": 38,
    "start_time": "2023-04-27T10:05:45.471Z"
   },
   {
    "duration": 12,
    "start_time": "2023-04-27T10:07:37.067Z"
   },
   {
    "duration": 17,
    "start_time": "2023-04-27T10:07:41.215Z"
   },
   {
    "duration": 18,
    "start_time": "2023-04-27T10:07:54.108Z"
   },
   {
    "duration": 51,
    "start_time": "2023-04-27T11:33:37.632Z"
   },
   {
    "duration": 726,
    "start_time": "2023-04-27T11:33:43.183Z"
   },
   {
    "duration": 2425,
    "start_time": "2023-04-27T11:33:43.911Z"
   },
   {
    "duration": 21,
    "start_time": "2023-04-27T11:33:46.339Z"
   },
   {
    "duration": 15,
    "start_time": "2023-04-27T11:33:46.362Z"
   },
   {
    "duration": 199,
    "start_time": "2023-04-27T11:33:46.380Z"
   },
   {
    "duration": 6,
    "start_time": "2023-04-27T11:33:47.375Z"
   },
   {
    "duration": 48,
    "start_time": "2023-04-27T11:33:47.862Z"
   },
   {
    "duration": 10,
    "start_time": "2023-04-27T11:33:49.865Z"
   },
   {
    "duration": 51,
    "start_time": "2023-04-27T11:33:50.607Z"
   },
   {
    "duration": 13,
    "start_time": "2023-04-27T11:34:02.315Z"
   },
   {
    "duration": 17,
    "start_time": "2023-04-27T11:35:32.611Z"
   },
   {
    "duration": 19,
    "start_time": "2023-04-27T11:35:49.984Z"
   },
   {
    "duration": 13,
    "start_time": "2023-04-27T11:37:38.553Z"
   },
   {
    "duration": 11,
    "start_time": "2023-04-27T11:38:21.070Z"
   },
   {
    "duration": 9,
    "start_time": "2023-04-27T11:39:30.953Z"
   },
   {
    "duration": 5,
    "start_time": "2023-04-27T11:39:45.996Z"
   },
   {
    "duration": 12,
    "start_time": "2023-04-27T11:39:58.019Z"
   },
   {
    "duration": 39,
    "start_time": "2023-04-27T11:40:48.947Z"
   },
   {
    "duration": 90,
    "start_time": "2023-04-27T11:41:12.724Z"
   },
   {
    "duration": 11,
    "start_time": "2023-04-27T11:41:24.285Z"
   },
   {
    "duration": 13,
    "start_time": "2023-04-27T11:41:37.230Z"
   },
   {
    "duration": 18,
    "start_time": "2023-04-27T11:42:29.834Z"
   },
   {
    "duration": 16,
    "start_time": "2023-04-27T11:43:12.809Z"
   },
   {
    "duration": 163,
    "start_time": "2023-04-27T11:43:37.956Z"
   },
   {
    "duration": 2081,
    "start_time": "2023-04-27T11:43:39.200Z"
   },
   {
    "duration": 16,
    "start_time": "2023-04-27T11:43:41.283Z"
   },
   {
    "duration": 10,
    "start_time": "2023-04-27T11:43:42.935Z"
   },
   {
    "duration": 148,
    "start_time": "2023-04-27T11:43:43.603Z"
   },
   {
    "duration": 5,
    "start_time": "2023-04-27T11:43:45.885Z"
   },
   {
    "duration": 37,
    "start_time": "2023-04-27T11:43:46.287Z"
   },
   {
    "duration": 6,
    "start_time": "2023-04-27T11:43:48.333Z"
   },
   {
    "duration": 6,
    "start_time": "2023-04-27T11:43:49.000Z"
   },
   {
    "duration": 24,
    "start_time": "2023-04-27T11:43:49.542Z"
   },
   {
    "duration": 24,
    "start_time": "2023-04-27T11:44:26.943Z"
   },
   {
    "duration": 125,
    "start_time": "2023-04-27T11:46:22.611Z"
   },
   {
    "duration": 1906,
    "start_time": "2023-04-27T11:46:23.021Z"
   },
   {
    "duration": 24,
    "start_time": "2023-04-27T11:46:24.929Z"
   },
   {
    "duration": 13,
    "start_time": "2023-04-27T11:46:25.087Z"
   },
   {
    "duration": 142,
    "start_time": "2023-04-27T11:46:25.527Z"
   },
   {
    "duration": 5,
    "start_time": "2023-04-27T11:46:26.787Z"
   },
   {
    "duration": 46,
    "start_time": "2023-04-27T11:46:27.285Z"
   },
   {
    "duration": 9,
    "start_time": "2023-04-27T11:46:29.740Z"
   },
   {
    "duration": 8,
    "start_time": "2023-04-27T11:46:30.616Z"
   },
   {
    "duration": 34,
    "start_time": "2023-04-27T11:46:31.182Z"
   },
   {
    "duration": 17,
    "start_time": "2023-04-27T11:46:42.580Z"
   },
   {
    "duration": 118,
    "start_time": "2023-04-27T11:46:57.040Z"
   },
   {
    "duration": 1807,
    "start_time": "2023-04-27T11:46:57.216Z"
   },
   {
    "duration": 25,
    "start_time": "2023-04-27T11:46:59.025Z"
   },
   {
    "duration": 12,
    "start_time": "2023-04-27T11:46:59.051Z"
   },
   {
    "duration": 165,
    "start_time": "2023-04-27T11:46:59.065Z"
   },
   {
    "duration": 4,
    "start_time": "2023-04-27T11:46:59.232Z"
   },
   {
    "duration": 40,
    "start_time": "2023-04-27T11:46:59.238Z"
   },
   {
    "duration": 7,
    "start_time": "2023-04-27T11:47:00.728Z"
   },
   {
    "duration": 6,
    "start_time": "2023-04-27T11:47:01.126Z"
   },
   {
    "duration": 52,
    "start_time": "2023-04-27T11:47:01.758Z"
   },
   {
    "duration": 13,
    "start_time": "2023-04-27T11:48:17.786Z"
   },
   {
    "duration": 116,
    "start_time": "2023-04-27T11:48:35.105Z"
   },
   {
    "duration": 1831,
    "start_time": "2023-04-27T11:48:35.353Z"
   },
   {
    "duration": 16,
    "start_time": "2023-04-27T11:48:37.186Z"
   },
   {
    "duration": 13,
    "start_time": "2023-04-27T11:48:37.204Z"
   },
   {
    "duration": 177,
    "start_time": "2023-04-27T11:48:37.220Z"
   },
   {
    "duration": 5,
    "start_time": "2023-04-27T11:48:37.399Z"
   },
   {
    "duration": 44,
    "start_time": "2023-04-27T11:48:37.405Z"
   },
   {
    "duration": 7,
    "start_time": "2023-04-27T11:48:38.363Z"
   },
   {
    "duration": 5,
    "start_time": "2023-04-27T11:48:38.712Z"
   },
   {
    "duration": 47,
    "start_time": "2023-04-27T11:48:39.396Z"
   },
   {
    "duration": 128,
    "start_time": "2023-04-27T11:50:30.634Z"
   },
   {
    "duration": 1747,
    "start_time": "2023-04-27T11:50:30.833Z"
   },
   {
    "duration": 15,
    "start_time": "2023-04-27T11:50:32.581Z"
   },
   {
    "duration": 33,
    "start_time": "2023-04-27T11:50:32.598Z"
   },
   {
    "duration": 179,
    "start_time": "2023-04-27T11:50:32.633Z"
   },
   {
    "duration": 5,
    "start_time": "2023-04-27T11:50:32.959Z"
   },
   {
    "duration": 32,
    "start_time": "2023-04-27T11:50:33.501Z"
   },
   {
    "duration": 6,
    "start_time": "2023-04-27T11:50:34.965Z"
   },
   {
    "duration": 5,
    "start_time": "2023-04-27T11:50:35.509Z"
   },
   {
    "duration": 67,
    "start_time": "2023-04-27T11:50:36.055Z"
   },
   {
    "duration": 24,
    "start_time": "2023-04-27T11:51:13.915Z"
   },
   {
    "duration": 58,
    "start_time": "2023-04-27T11:53:31.737Z"
   },
   {
    "duration": 127,
    "start_time": "2023-04-27T11:55:45.881Z"
   },
   {
    "duration": 1819,
    "start_time": "2023-04-27T11:55:46.018Z"
   },
   {
    "duration": 20,
    "start_time": "2023-04-27T11:55:47.838Z"
   },
   {
    "duration": 9,
    "start_time": "2023-04-27T11:55:47.859Z"
   },
   {
    "duration": 165,
    "start_time": "2023-04-27T11:55:47.869Z"
   },
   {
    "duration": 4,
    "start_time": "2023-04-27T11:55:48.357Z"
   },
   {
    "duration": 29,
    "start_time": "2023-04-27T11:55:48.934Z"
   },
   {
    "duration": 6,
    "start_time": "2023-04-27T11:55:50.267Z"
   },
   {
    "duration": 4,
    "start_time": "2023-04-27T11:55:50.804Z"
   },
   {
    "duration": 73,
    "start_time": "2023-04-27T11:55:51.375Z"
   },
   {
    "duration": 117,
    "start_time": "2023-04-27T12:39:48.401Z"
   },
   {
    "duration": 1780,
    "start_time": "2023-04-27T12:39:48.580Z"
   },
   {
    "duration": 15,
    "start_time": "2023-04-27T12:39:50.361Z"
   },
   {
    "duration": 17,
    "start_time": "2023-04-27T12:39:50.378Z"
   },
   {
    "duration": 149,
    "start_time": "2023-04-27T12:39:50.753Z"
   },
   {
    "duration": 4,
    "start_time": "2023-04-27T12:39:52.486Z"
   },
   {
    "duration": 29,
    "start_time": "2023-04-27T12:39:52.687Z"
   },
   {
    "duration": 6,
    "start_time": "2023-04-27T12:39:54.313Z"
   },
   {
    "duration": 4,
    "start_time": "2023-04-27T12:39:54.961Z"
   },
   {
    "duration": 16,
    "start_time": "2023-04-27T12:39:55.487Z"
   },
   {
    "duration": 5,
    "start_time": "2023-04-27T12:41:55.087Z"
   },
   {
    "duration": 7,
    "start_time": "2023-04-27T12:42:19.202Z"
   },
   {
    "duration": 8,
    "start_time": "2023-04-27T12:42:25.101Z"
   },
   {
    "duration": 208,
    "start_time": "2023-04-27T12:46:34.347Z"
   },
   {
    "duration": 120,
    "start_time": "2023-04-27T12:46:56.368Z"
   },
   {
    "duration": 304,
    "start_time": "2023-04-27T12:47:07.715Z"
   },
   {
    "duration": 19,
    "start_time": "2023-04-27T12:51:03.485Z"
   },
   {
    "duration": 81,
    "start_time": "2023-04-27T12:51:55.571Z"
   },
   {
    "duration": 15,
    "start_time": "2023-04-27T12:52:04.722Z"
   },
   {
    "duration": 15,
    "start_time": "2023-04-27T12:53:59.543Z"
   },
   {
    "duration": 68,
    "start_time": "2023-04-27T12:57:48.120Z"
   },
   {
    "duration": 133,
    "start_time": "2023-04-27T12:57:54.299Z"
   },
   {
    "duration": 139,
    "start_time": "2023-04-27T12:58:18.539Z"
   },
   {
    "duration": 6,
    "start_time": "2023-04-27T13:08:27.871Z"
   },
   {
    "duration": 7,
    "start_time": "2023-04-27T13:08:33.079Z"
   },
   {
    "duration": 136,
    "start_time": "2023-04-27T13:08:57.913Z"
   },
   {
    "duration": 156,
    "start_time": "2023-04-27T13:10:23.626Z"
   },
   {
    "duration": 1142,
    "start_time": "2023-04-27T13:10:43.165Z"
   },
   {
    "duration": 177,
    "start_time": "2023-04-27T13:11:09.145Z"
   },
   {
    "duration": 1114,
    "start_time": "2023-04-27T13:11:15.451Z"
   },
   {
    "duration": 816,
    "start_time": "2023-04-27T13:11:53.175Z"
   },
   {
    "duration": 136,
    "start_time": "2023-04-27T13:12:19.779Z"
   },
   {
    "duration": 124,
    "start_time": "2023-04-27T13:12:23.031Z"
   },
   {
    "duration": 593,
    "start_time": "2023-04-27T13:12:28.015Z"
   },
   {
    "duration": 642,
    "start_time": "2023-04-27T13:12:49.707Z"
   },
   {
    "duration": 113,
    "start_time": "2023-04-27T13:13:17.119Z"
   },
   {
    "duration": 103,
    "start_time": "2023-04-27T13:13:23.637Z"
   },
   {
    "duration": 147,
    "start_time": "2023-04-27T13:13:44.409Z"
   },
   {
    "duration": 217,
    "start_time": "2023-04-27T13:14:39.832Z"
   },
   {
    "duration": 214,
    "start_time": "2023-04-27T13:14:54.230Z"
   },
   {
    "duration": 224,
    "start_time": "2023-04-27T13:15:33.131Z"
   },
   {
    "duration": 229,
    "start_time": "2023-04-27T13:15:55.081Z"
   },
   {
    "duration": 217,
    "start_time": "2023-04-27T13:16:03.702Z"
   },
   {
    "duration": 237,
    "start_time": "2023-04-27T13:16:20.984Z"
   },
   {
    "duration": 250,
    "start_time": "2023-04-27T13:18:19.375Z"
   },
   {
    "duration": 296,
    "start_time": "2023-04-27T13:18:47.069Z"
   },
   {
    "duration": 428,
    "start_time": "2023-04-27T13:19:22.436Z"
   },
   {
    "duration": 157,
    "start_time": "2023-04-27T13:20:17.377Z"
   },
   {
    "duration": 233,
    "start_time": "2023-04-27T13:20:24.441Z"
   },
   {
    "duration": 165,
    "start_time": "2023-04-27T13:20:34.002Z"
   },
   {
    "duration": 272,
    "start_time": "2023-04-27T13:20:38.907Z"
   },
   {
    "duration": 185,
    "start_time": "2023-04-27T13:20:49.754Z"
   },
   {
    "duration": 154,
    "start_time": "2023-04-27T13:21:19.419Z"
   },
   {
    "duration": 7,
    "start_time": "2023-04-27T13:24:27.248Z"
   },
   {
    "duration": 174,
    "start_time": "2023-04-27T13:24:32.908Z"
   },
   {
    "duration": 6,
    "start_time": "2023-04-27T13:24:55.302Z"
   },
   {
    "duration": 156,
    "start_time": "2023-04-27T13:24:58.947Z"
   },
   {
    "duration": 6,
    "start_time": "2023-04-27T13:25:48.598Z"
   },
   {
    "duration": 161,
    "start_time": "2023-04-27T13:25:49.950Z"
   },
   {
    "duration": 6,
    "start_time": "2023-04-27T13:26:12.455Z"
   },
   {
    "duration": 163,
    "start_time": "2023-04-27T13:26:15.605Z"
   },
   {
    "duration": 6,
    "start_time": "2023-04-27T13:27:34.895Z"
   },
   {
    "duration": 1831,
    "start_time": "2023-04-27T13:27:58.275Z"
   },
   {
    "duration": 5,
    "start_time": "2023-04-27T13:32:48.363Z"
   },
   {
    "duration": 4,
    "start_time": "2023-04-27T13:32:58.127Z"
   },
   {
    "duration": 29,
    "start_time": "2023-04-27T13:33:15.806Z"
   },
   {
    "duration": 29,
    "start_time": "2023-04-27T13:33:28.384Z"
   },
   {
    "duration": 38,
    "start_time": "2023-04-27T13:37:00.842Z"
   },
   {
    "duration": 552,
    "start_time": "2023-04-27T13:37:36.956Z"
   },
   {
    "duration": 2066,
    "start_time": "2023-04-27T13:37:37.510Z"
   },
   {
    "duration": 15,
    "start_time": "2023-04-27T13:37:39.578Z"
   },
   {
    "duration": 13,
    "start_time": "2023-04-27T13:37:39.594Z"
   },
   {
    "duration": 182,
    "start_time": "2023-04-27T13:37:39.610Z"
   },
   {
    "duration": 10,
    "start_time": "2023-04-27T13:37:39.794Z"
   },
   {
    "duration": 68,
    "start_time": "2023-04-27T13:37:39.806Z"
   },
   {
    "duration": 6,
    "start_time": "2023-04-27T13:37:39.876Z"
   },
   {
    "duration": 12,
    "start_time": "2023-04-27T13:37:39.884Z"
   },
   {
    "duration": 19,
    "start_time": "2023-04-27T13:37:39.899Z"
   },
   {
    "duration": 29,
    "start_time": "2023-04-27T13:37:39.920Z"
   },
   {
    "duration": 160,
    "start_time": "2023-04-27T13:37:39.951Z"
   },
   {
    "duration": 147,
    "start_time": "2023-04-27T13:37:40.113Z"
   },
   {
    "duration": 261,
    "start_time": "2023-04-27T13:37:40.262Z"
   },
   {
    "duration": 367,
    "start_time": "2023-04-27T13:37:40.525Z"
   },
   {
    "duration": 10,
    "start_time": "2023-04-27T13:37:40.894Z"
   },
   {
    "duration": 192,
    "start_time": "2023-04-27T13:37:40.908Z"
   },
   {
    "duration": 6,
    "start_time": "2023-04-27T13:37:41.101Z"
   },
   {
    "duration": 166,
    "start_time": "2023-04-27T13:37:41.109Z"
   },
   {
    "duration": 7,
    "start_time": "2023-04-27T13:37:41.277Z"
   },
   {
    "duration": 181,
    "start_time": "2023-04-27T13:37:41.285Z"
   },
   {
    "duration": 7,
    "start_time": "2023-04-27T13:37:41.468Z"
   },
   {
    "duration": 2050,
    "start_time": "2023-04-27T13:37:41.476Z"
   },
   {
    "duration": 43,
    "start_time": "2023-04-27T13:37:43.527Z"
   },
   {
    "duration": 34,
    "start_time": "2023-04-27T13:44:11.529Z"
   },
   {
    "duration": 91,
    "start_time": "2023-04-27T13:44:55.999Z"
   },
   {
    "duration": 44,
    "start_time": "2023-04-27T13:45:00.397Z"
   },
   {
    "duration": 500,
    "start_time": "2023-04-27T13:45:19.980Z"
   },
   {
    "duration": 1954,
    "start_time": "2023-04-27T13:45:20.482Z"
   },
   {
    "duration": 14,
    "start_time": "2023-04-27T13:45:22.437Z"
   },
   {
    "duration": 8,
    "start_time": "2023-04-27T13:45:22.453Z"
   },
   {
    "duration": 155,
    "start_time": "2023-04-27T13:45:22.462Z"
   },
   {
    "duration": 5,
    "start_time": "2023-04-27T13:45:22.619Z"
   },
   {
    "duration": 43,
    "start_time": "2023-04-27T13:45:22.625Z"
   },
   {
    "duration": 7,
    "start_time": "2023-04-27T13:45:22.669Z"
   },
   {
    "duration": 6,
    "start_time": "2023-04-27T13:45:22.677Z"
   },
   {
    "duration": 23,
    "start_time": "2023-04-27T13:45:22.685Z"
   },
   {
    "duration": 7,
    "start_time": "2023-04-27T13:45:22.709Z"
   },
   {
    "duration": 159,
    "start_time": "2023-04-27T13:45:22.717Z"
   },
   {
    "duration": 147,
    "start_time": "2023-04-27T13:45:22.878Z"
   },
   {
    "duration": 274,
    "start_time": "2023-04-27T13:45:23.027Z"
   },
   {
    "duration": 327,
    "start_time": "2023-04-27T13:45:23.303Z"
   },
   {
    "duration": 8,
    "start_time": "2023-04-27T13:45:23.632Z"
   },
   {
    "duration": 165,
    "start_time": "2023-04-27T13:45:23.649Z"
   },
   {
    "duration": 5,
    "start_time": "2023-04-27T13:45:23.816Z"
   },
   {
    "duration": 168,
    "start_time": "2023-04-27T13:45:23.823Z"
   },
   {
    "duration": 5,
    "start_time": "2023-04-27T13:45:23.992Z"
   },
   {
    "duration": 162,
    "start_time": "2023-04-27T13:45:23.998Z"
   },
   {
    "duration": 6,
    "start_time": "2023-04-27T13:45:24.161Z"
   },
   {
    "duration": 2008,
    "start_time": "2023-04-27T13:45:24.168Z"
   },
   {
    "duration": 33,
    "start_time": "2023-04-27T13:45:26.177Z"
   },
   {
    "duration": 3,
    "start_time": "2023-04-27T13:45:26.211Z"
   },
   {
    "duration": 520,
    "start_time": "2023-04-27T13:45:58.168Z"
   },
   {
    "duration": 2079,
    "start_time": "2023-04-27T13:45:58.689Z"
   },
   {
    "duration": 16,
    "start_time": "2023-04-27T13:46:00.770Z"
   },
   {
    "duration": 29,
    "start_time": "2023-04-27T13:46:00.789Z"
   },
   {
    "duration": 175,
    "start_time": "2023-04-27T13:46:00.819Z"
   },
   {
    "duration": 6,
    "start_time": "2023-04-27T13:46:00.995Z"
   },
   {
    "duration": 131,
    "start_time": "2023-04-27T13:46:01.002Z"
   },
   {
    "duration": 26,
    "start_time": "2023-04-27T13:46:01.135Z"
   },
   {
    "duration": 45,
    "start_time": "2023-04-27T13:46:01.163Z"
   },
   {
    "duration": 48,
    "start_time": "2023-04-27T13:46:01.212Z"
   },
   {
    "duration": 73,
    "start_time": "2023-04-27T13:46:01.261Z"
   },
   {
    "duration": 168,
    "start_time": "2023-04-27T13:46:01.336Z"
   },
   {
    "duration": 150,
    "start_time": "2023-04-27T13:46:01.506Z"
   },
   {
    "duration": 255,
    "start_time": "2023-04-27T13:46:01.658Z"
   },
   {
    "duration": 311,
    "start_time": "2023-04-27T13:46:01.915Z"
   },
   {
    "duration": 9,
    "start_time": "2023-04-27T13:46:02.228Z"
   },
   {
    "duration": 190,
    "start_time": "2023-04-27T13:46:02.238Z"
   },
   {
    "duration": 7,
    "start_time": "2023-04-27T13:46:02.430Z"
   },
   {
    "duration": 161,
    "start_time": "2023-04-27T13:46:02.438Z"
   },
   {
    "duration": 6,
    "start_time": "2023-04-27T13:46:02.601Z"
   },
   {
    "duration": 164,
    "start_time": "2023-04-27T13:46:02.609Z"
   },
   {
    "duration": 6,
    "start_time": "2023-04-27T13:46:02.775Z"
   },
   {
    "duration": 2068,
    "start_time": "2023-04-27T13:46:02.783Z"
   },
   {
    "duration": 44,
    "start_time": "2023-04-27T13:46:04.854Z"
   },
   {
    "duration": 4,
    "start_time": "2023-04-27T13:46:04.900Z"
   },
   {
    "duration": 299,
    "start_time": "2023-04-27T13:48:21.812Z"
   },
   {
    "duration": 307,
    "start_time": "2023-04-27T13:48:37.109Z"
   },
   {
    "duration": 256,
    "start_time": "2023-04-27T13:52:37.300Z"
   },
   {
    "duration": 358,
    "start_time": "2023-04-27T13:52:48.859Z"
   },
   {
    "duration": 262,
    "start_time": "2023-04-27T13:55:07.661Z"
   },
   {
    "duration": 92,
    "start_time": "2023-04-27T13:58:56.613Z"
   },
   {
    "duration": 264,
    "start_time": "2023-04-27T13:59:35.004Z"
   },
   {
    "duration": 264,
    "start_time": "2023-04-27T13:59:47.308Z"
   },
   {
    "duration": 253,
    "start_time": "2023-04-27T14:01:11.555Z"
   },
   {
    "duration": 171,
    "start_time": "2023-04-27T14:02:05.187Z"
   },
   {
    "duration": 164,
    "start_time": "2023-04-27T14:02:20.056Z"
   },
   {
    "duration": 178,
    "start_time": "2023-04-27T14:03:22.268Z"
   },
   {
    "duration": 288,
    "start_time": "2023-04-27T14:03:31.408Z"
   },
   {
    "duration": 158,
    "start_time": "2023-04-27T14:04:24.259Z"
   },
   {
    "duration": 81,
    "start_time": "2023-04-27T14:05:15.315Z"
   },
   {
    "duration": 14,
    "start_time": "2023-04-27T14:05:40.113Z"
   },
   {
    "duration": 15,
    "start_time": "2023-04-27T14:05:46.569Z"
   },
   {
    "duration": 13,
    "start_time": "2023-04-27T14:06:50.284Z"
   },
   {
    "duration": 123,
    "start_time": "2023-04-27T14:07:00.335Z"
   },
   {
    "duration": 183,
    "start_time": "2023-04-27T14:07:43.575Z"
   },
   {
    "duration": 332,
    "start_time": "2023-04-27T14:09:58.520Z"
   },
   {
    "duration": 326,
    "start_time": "2023-04-27T14:10:11.752Z"
   },
   {
    "duration": 166,
    "start_time": "2023-04-27T14:10:52.551Z"
   },
   {
    "duration": 165,
    "start_time": "2023-04-27T14:11:19.965Z"
   },
   {
    "duration": 177,
    "start_time": "2023-04-27T14:11:51.129Z"
   },
   {
    "duration": 90,
    "start_time": "2023-04-27T14:17:51.445Z"
   },
   {
    "duration": 74,
    "start_time": "2023-04-27T14:19:25.480Z"
   },
   {
    "duration": 73,
    "start_time": "2023-04-27T14:20:38.372Z"
   },
   {
    "duration": 676,
    "start_time": "2023-04-27T14:31:17.815Z"
   },
   {
    "duration": 9,
    "start_time": "2023-04-27T14:35:17.449Z"
   },
   {
    "duration": 1873,
    "start_time": "2023-04-27T14:51:17.859Z"
   },
   {
    "duration": 136,
    "start_time": "2023-04-27T14:51:36.532Z"
   },
   {
    "duration": 139,
    "start_time": "2023-04-27T14:52:00.158Z"
   },
   {
    "duration": 156,
    "start_time": "2023-04-27T14:54:52.824Z"
   },
   {
    "duration": 150,
    "start_time": "2023-04-27T14:56:38.528Z"
   },
   {
    "duration": 160,
    "start_time": "2023-04-27T14:58:48.421Z"
   },
   {
    "duration": 165,
    "start_time": "2023-04-27T15:01:27.816Z"
   },
   {
    "duration": 1226,
    "start_time": "2023-04-27T15:01:39.802Z"
   },
   {
    "duration": 156,
    "start_time": "2023-04-27T15:02:31.051Z"
   },
   {
    "duration": 14,
    "start_time": "2023-04-27T15:05:37.215Z"
   },
   {
    "duration": 188,
    "start_time": "2023-04-27T15:05:46.232Z"
   },
   {
    "duration": 201,
    "start_time": "2023-04-27T15:06:13.013Z"
   },
   {
    "duration": 168,
    "start_time": "2023-04-27T15:06:52.284Z"
   },
   {
    "duration": 1459,
    "start_time": "2023-04-27T15:07:11.353Z"
   },
   {
    "duration": 150,
    "start_time": "2023-04-27T15:07:42.852Z"
   },
   {
    "duration": 21,
    "start_time": "2023-04-27T15:13:55.507Z"
   },
   {
    "duration": 9,
    "start_time": "2023-04-27T15:14:01.077Z"
   },
   {
    "duration": 9,
    "start_time": "2023-04-27T15:14:11.447Z"
   },
   {
    "duration": 8,
    "start_time": "2023-04-27T15:14:14.064Z"
   },
   {
    "duration": 186,
    "start_time": "2023-04-27T15:19:25.145Z"
   },
   {
    "duration": 156,
    "start_time": "2023-04-27T15:19:47.223Z"
   },
   {
    "duration": 147,
    "start_time": "2023-04-27T15:20:02.164Z"
   },
   {
    "duration": 565,
    "start_time": "2023-04-27T15:42:08.435Z"
   },
   {
    "duration": 2114,
    "start_time": "2023-04-27T15:42:09.002Z"
   },
   {
    "duration": 14,
    "start_time": "2023-04-27T15:42:11.117Z"
   },
   {
    "duration": 27,
    "start_time": "2023-04-27T15:42:11.132Z"
   },
   {
    "duration": 163,
    "start_time": "2023-04-27T15:42:11.164Z"
   },
   {
    "duration": 5,
    "start_time": "2023-04-27T15:42:11.328Z"
   },
   {
    "duration": 63,
    "start_time": "2023-04-27T15:42:11.335Z"
   },
   {
    "duration": 6,
    "start_time": "2023-04-27T15:42:11.400Z"
   },
   {
    "duration": 34,
    "start_time": "2023-04-27T15:42:11.407Z"
   },
   {
    "duration": 52,
    "start_time": "2023-04-27T15:42:11.442Z"
   },
   {
    "duration": 19,
    "start_time": "2023-04-27T15:42:11.495Z"
   },
   {
    "duration": 166,
    "start_time": "2023-04-27T15:42:11.515Z"
   },
   {
    "duration": 148,
    "start_time": "2023-04-27T15:42:11.682Z"
   },
   {
    "duration": 261,
    "start_time": "2023-04-27T15:42:11.833Z"
   },
   {
    "duration": 317,
    "start_time": "2023-04-27T15:42:12.095Z"
   },
   {
    "duration": 8,
    "start_time": "2023-04-27T15:42:12.413Z"
   },
   {
    "duration": 178,
    "start_time": "2023-04-27T15:42:12.423Z"
   },
   {
    "duration": 6,
    "start_time": "2023-04-27T15:42:12.603Z"
   },
   {
    "duration": 177,
    "start_time": "2023-04-27T15:42:12.610Z"
   },
   {
    "duration": 5,
    "start_time": "2023-04-27T15:42:12.789Z"
   },
   {
    "duration": 188,
    "start_time": "2023-04-27T15:42:12.796Z"
   },
   {
    "duration": 6,
    "start_time": "2023-04-27T15:42:12.987Z"
   },
   {
    "duration": 2138,
    "start_time": "2023-04-27T15:42:12.995Z"
   },
   {
    "duration": 44,
    "start_time": "2023-04-27T15:42:15.135Z"
   },
   {
    "duration": 347,
    "start_time": "2023-04-27T15:42:15.180Z"
   },
   {
    "duration": 267,
    "start_time": "2023-04-27T15:42:15.528Z"
   },
   {
    "duration": 271,
    "start_time": "2023-04-27T15:42:15.797Z"
   },
   {
    "duration": 371,
    "start_time": "2023-04-27T15:42:16.070Z"
   },
   {
    "duration": 269,
    "start_time": "2023-04-27T15:42:16.443Z"
   },
   {
    "duration": 186,
    "start_time": "2023-04-27T15:42:16.713Z"
   },
   {
    "duration": 187,
    "start_time": "2023-04-27T15:42:16.900Z"
   },
   {
    "duration": 172,
    "start_time": "2023-04-27T15:42:17.090Z"
   },
   {
    "duration": 122,
    "start_time": "2023-04-27T15:42:17.264Z"
   },
   {
    "duration": 180,
    "start_time": "2023-04-27T15:42:17.387Z"
   },
   {
    "duration": 361,
    "start_time": "2023-04-27T15:42:17.568Z"
   },
   {
    "duration": 187,
    "start_time": "2023-04-27T15:42:17.931Z"
   },
   {
    "duration": 186,
    "start_time": "2023-04-27T15:42:18.120Z"
   },
   {
    "duration": 180,
    "start_time": "2023-04-27T15:42:18.308Z"
   },
   {
    "duration": 673,
    "start_time": "2023-04-27T15:42:18.490Z"
   },
   {
    "duration": 9,
    "start_time": "2023-04-27T15:42:19.165Z"
   },
   {
    "duration": 143,
    "start_time": "2023-04-27T15:42:19.177Z"
   },
   {
    "duration": 169,
    "start_time": "2023-04-27T15:42:19.322Z"
   },
   {
    "duration": 151,
    "start_time": "2023-04-27T15:42:19.493Z"
   },
   {
    "duration": 191,
    "start_time": "2023-04-27T15:42:19.650Z"
   },
   {
    "duration": 152,
    "start_time": "2023-04-27T15:42:19.848Z"
   },
   {
    "duration": 160,
    "start_time": "2023-04-27T15:42:20.002Z"
   },
   {
    "duration": 145,
    "start_time": "2023-04-27T15:42:20.164Z"
   },
   {
    "duration": 157,
    "start_time": "2023-04-27T15:42:20.311Z"
   },
   {
    "duration": 22,
    "start_time": "2023-04-27T15:42:20.469Z"
   },
   {
    "duration": 7,
    "start_time": "2023-04-27T15:42:20.492Z"
   },
   {
    "duration": 10,
    "start_time": "2023-04-27T15:42:20.500Z"
   },
   {
    "duration": 176,
    "start_time": "2023-04-27T15:42:20.512Z"
   },
   {
    "duration": 638,
    "start_time": "2023-04-28T07:16:01.342Z"
   },
   {
    "duration": 2367,
    "start_time": "2023-04-28T07:16:01.982Z"
   },
   {
    "duration": 16,
    "start_time": "2023-04-28T07:16:04.351Z"
   },
   {
    "duration": 9,
    "start_time": "2023-04-28T07:16:04.369Z"
   },
   {
    "duration": 182,
    "start_time": "2023-04-28T07:16:04.379Z"
   },
   {
    "duration": 5,
    "start_time": "2023-04-28T07:16:04.563Z"
   },
   {
    "duration": 35,
    "start_time": "2023-04-28T07:16:04.570Z"
   },
   {
    "duration": 6,
    "start_time": "2023-04-28T07:16:04.606Z"
   },
   {
    "duration": 6,
    "start_time": "2023-04-28T07:16:04.614Z"
   },
   {
    "duration": 51,
    "start_time": "2023-04-28T07:16:04.622Z"
   },
   {
    "duration": 9,
    "start_time": "2023-04-28T07:16:04.674Z"
   },
   {
    "duration": 168,
    "start_time": "2023-04-28T07:16:04.684Z"
   },
   {
    "duration": 160,
    "start_time": "2023-04-28T07:16:04.854Z"
   },
   {
    "duration": 298,
    "start_time": "2023-04-28T07:16:05.016Z"
   },
   {
    "duration": 361,
    "start_time": "2023-04-28T07:16:05.316Z"
   },
   {
    "duration": 9,
    "start_time": "2023-04-28T07:16:05.678Z"
   },
   {
    "duration": 191,
    "start_time": "2023-04-28T07:16:05.688Z"
   },
   {
    "duration": 6,
    "start_time": "2023-04-28T07:16:05.880Z"
   },
   {
    "duration": 180,
    "start_time": "2023-04-28T07:16:05.888Z"
   },
   {
    "duration": 6,
    "start_time": "2023-04-28T07:16:06.069Z"
   },
   {
    "duration": 195,
    "start_time": "2023-04-28T07:16:06.076Z"
   },
   {
    "duration": 5,
    "start_time": "2023-04-28T07:16:06.273Z"
   },
   {
    "duration": 2139,
    "start_time": "2023-04-28T07:16:06.281Z"
   },
   {
    "duration": 44,
    "start_time": "2023-04-28T07:16:08.421Z"
   },
   {
    "duration": 307,
    "start_time": "2023-04-28T07:16:08.467Z"
   },
   {
    "duration": 285,
    "start_time": "2023-04-28T07:16:08.775Z"
   },
   {
    "duration": 288,
    "start_time": "2023-04-28T07:16:09.062Z"
   },
   {
    "duration": 483,
    "start_time": "2023-04-28T07:16:09.359Z"
   },
   {
    "duration": 293,
    "start_time": "2023-04-28T07:16:09.843Z"
   },
   {
    "duration": 196,
    "start_time": "2023-04-28T07:16:10.137Z"
   },
   {
    "duration": 186,
    "start_time": "2023-04-28T07:16:10.335Z"
   },
   {
    "duration": 183,
    "start_time": "2023-04-28T07:16:10.523Z"
   },
   {
    "duration": 157,
    "start_time": "2023-04-28T07:16:10.708Z"
   },
   {
    "duration": 203,
    "start_time": "2023-04-28T07:16:10.867Z"
   },
   {
    "duration": 383,
    "start_time": "2023-04-28T07:16:11.072Z"
   },
   {
    "duration": 184,
    "start_time": "2023-04-28T07:16:11.456Z"
   },
   {
    "duration": 196,
    "start_time": "2023-04-28T07:16:11.641Z"
   },
   {
    "duration": 334,
    "start_time": "2023-04-28T07:16:11.839Z"
   },
   {
    "duration": 561,
    "start_time": "2023-04-28T07:16:12.174Z"
   },
   {
    "duration": 9,
    "start_time": "2023-04-28T07:16:12.737Z"
   },
   {
    "duration": 151,
    "start_time": "2023-04-28T07:16:12.759Z"
   },
   {
    "duration": 171,
    "start_time": "2023-04-28T07:16:12.911Z"
   },
   {
    "duration": 156,
    "start_time": "2023-04-28T07:16:13.083Z"
   },
   {
    "duration": 166,
    "start_time": "2023-04-28T07:16:13.241Z"
   },
   {
    "duration": 151,
    "start_time": "2023-04-28T07:16:13.408Z"
   },
   {
    "duration": 150,
    "start_time": "2023-04-28T07:16:13.560Z"
   },
   {
    "duration": 174,
    "start_time": "2023-04-28T07:16:13.711Z"
   },
   {
    "duration": 165,
    "start_time": "2023-04-28T07:16:13.886Z"
   },
   {
    "duration": 25,
    "start_time": "2023-04-28T07:16:14.052Z"
   },
   {
    "duration": 6,
    "start_time": "2023-04-28T07:16:14.079Z"
   },
   {
    "duration": 11,
    "start_time": "2023-04-28T07:16:14.087Z"
   },
   {
    "duration": 173,
    "start_time": "2023-04-28T07:16:14.100Z"
   },
   {
    "duration": 2503,
    "start_time": "2023-04-28T07:16:32.629Z"
   },
   {
    "duration": 183,
    "start_time": "2023-04-28T08:38:10.749Z"
   },
   {
    "duration": 178,
    "start_time": "2023-04-28T08:38:18.539Z"
   },
   {
    "duration": 78,
    "start_time": "2023-04-28T08:48:26.118Z"
   },
   {
    "duration": 10,
    "start_time": "2023-04-28T08:48:34.650Z"
   },
   {
    "duration": 9,
    "start_time": "2023-04-28T08:48:50.132Z"
   },
   {
    "duration": 8,
    "start_time": "2023-04-28T08:51:59.525Z"
   },
   {
    "duration": 8,
    "start_time": "2023-04-28T08:52:04.316Z"
   },
   {
    "duration": 124,
    "start_time": "2023-04-28T08:52:36.558Z"
   },
   {
    "duration": 9,
    "start_time": "2023-04-28T08:52:48.496Z"
   },
   {
    "duration": 9,
    "start_time": "2023-04-28T08:53:33.854Z"
   },
   {
    "duration": 519,
    "start_time": "2023-04-28T08:53:51.621Z"
   },
   {
    "duration": 2255,
    "start_time": "2023-04-28T08:53:52.142Z"
   },
   {
    "duration": 16,
    "start_time": "2023-04-28T08:53:54.399Z"
   },
   {
    "duration": 13,
    "start_time": "2023-04-28T08:53:54.416Z"
   },
   {
    "duration": 175,
    "start_time": "2023-04-28T08:53:54.431Z"
   },
   {
    "duration": 5,
    "start_time": "2023-04-28T08:53:54.608Z"
   },
   {
    "duration": 45,
    "start_time": "2023-04-28T08:53:54.615Z"
   },
   {
    "duration": 6,
    "start_time": "2023-04-28T08:53:54.662Z"
   },
   {
    "duration": 6,
    "start_time": "2023-04-28T08:53:54.669Z"
   },
   {
    "duration": 24,
    "start_time": "2023-04-28T08:53:54.677Z"
   },
   {
    "duration": 7,
    "start_time": "2023-04-28T08:53:54.702Z"
   },
   {
    "duration": 181,
    "start_time": "2023-04-28T08:53:54.711Z"
   },
   {
    "duration": 160,
    "start_time": "2023-04-28T08:53:54.893Z"
   },
   {
    "duration": 298,
    "start_time": "2023-04-28T08:53:55.059Z"
   },
   {
    "duration": 376,
    "start_time": "2023-04-28T08:53:55.358Z"
   },
   {
    "duration": 8,
    "start_time": "2023-04-28T08:53:55.736Z"
   },
   {
    "duration": 213,
    "start_time": "2023-04-28T08:53:55.746Z"
   },
   {
    "duration": 6,
    "start_time": "2023-04-28T08:53:55.960Z"
   },
   {
    "duration": 176,
    "start_time": "2023-04-28T08:53:55.968Z"
   },
   {
    "duration": 19,
    "start_time": "2023-04-28T08:53:56.146Z"
   },
   {
    "duration": 196,
    "start_time": "2023-04-28T08:53:56.166Z"
   },
   {
    "duration": 5,
    "start_time": "2023-04-28T08:53:56.364Z"
   },
   {
    "duration": 2202,
    "start_time": "2023-04-28T08:53:56.371Z"
   },
   {
    "duration": 38,
    "start_time": "2023-04-28T08:53:58.575Z"
   },
   {
    "duration": 313,
    "start_time": "2023-04-28T08:53:58.615Z"
   },
   {
    "duration": 291,
    "start_time": "2023-04-28T08:53:58.929Z"
   },
   {
    "duration": 296,
    "start_time": "2023-04-28T08:53:59.222Z"
   },
   {
    "duration": 501,
    "start_time": "2023-04-28T08:53:59.519Z"
   },
   {
    "duration": 329,
    "start_time": "2023-04-28T08:54:00.023Z"
   },
   {
    "duration": 220,
    "start_time": "2023-04-28T08:54:00.354Z"
   },
   {
    "duration": 226,
    "start_time": "2023-04-28T08:54:00.576Z"
   },
   {
    "duration": 201,
    "start_time": "2023-04-28T08:54:00.805Z"
   },
   {
    "duration": 146,
    "start_time": "2023-04-28T08:54:01.007Z"
   },
   {
    "duration": 210,
    "start_time": "2023-04-28T08:54:01.155Z"
   },
   {
    "duration": 414,
    "start_time": "2023-04-28T08:54:01.367Z"
   },
   {
    "duration": 198,
    "start_time": "2023-04-28T08:54:01.783Z"
   },
   {
    "duration": 204,
    "start_time": "2023-04-28T08:54:01.983Z"
   },
   {
    "duration": 201,
    "start_time": "2023-04-28T08:54:02.189Z"
   },
   {
    "duration": 773,
    "start_time": "2023-04-28T08:54:02.392Z"
   },
   {
    "duration": 9,
    "start_time": "2023-04-28T08:54:03.167Z"
   },
   {
    "duration": 167,
    "start_time": "2023-04-28T08:54:03.179Z"
   },
   {
    "duration": 178,
    "start_time": "2023-04-28T08:54:03.348Z"
   },
   {
    "duration": 163,
    "start_time": "2023-04-28T08:54:03.527Z"
   },
   {
    "duration": 178,
    "start_time": "2023-04-28T08:54:03.692Z"
   },
   {
    "duration": 159,
    "start_time": "2023-04-28T08:54:03.872Z"
   },
   {
    "duration": 163,
    "start_time": "2023-04-28T08:54:04.033Z"
   },
   {
    "duration": 176,
    "start_time": "2023-04-28T08:54:04.197Z"
   },
   {
    "duration": 168,
    "start_time": "2023-04-28T08:54:04.374Z"
   },
   {
    "duration": 30,
    "start_time": "2023-04-28T08:54:04.544Z"
   },
   {
    "duration": 7,
    "start_time": "2023-04-28T08:54:04.576Z"
   },
   {
    "duration": 24,
    "start_time": "2023-04-28T08:54:04.585Z"
   },
   {
    "duration": 187,
    "start_time": "2023-04-28T08:54:04.610Z"
   },
   {
    "duration": 223,
    "start_time": "2023-04-28T09:30:28.045Z"
   },
   {
    "duration": 110,
    "start_time": "2023-04-28T09:33:19.998Z"
   },
   {
    "duration": 37,
    "start_time": "2023-04-28T09:33:25.005Z"
   },
   {
    "duration": 10,
    "start_time": "2023-04-28T09:33:30.540Z"
   },
   {
    "duration": 10,
    "start_time": "2023-04-28T09:33:37.085Z"
   },
   {
    "duration": 11,
    "start_time": "2023-04-28T09:33:53.396Z"
   },
   {
    "duration": 10,
    "start_time": "2023-04-28T09:34:00.214Z"
   },
   {
    "duration": 10,
    "start_time": "2023-04-28T09:34:03.566Z"
   },
   {
    "duration": 12,
    "start_time": "2023-04-28T09:34:06.214Z"
   },
   {
    "duration": 10,
    "start_time": "2023-04-28T09:34:10.750Z"
   },
   {
    "duration": 187,
    "start_time": "2023-04-28T09:35:05.031Z"
   },
   {
    "duration": 12,
    "start_time": "2023-04-28T10:09:36.402Z"
   },
   {
    "duration": 217,
    "start_time": "2023-04-28T10:16:30.519Z"
   },
   {
    "duration": 113,
    "start_time": "2023-04-28T13:28:00.835Z"
   },
   {
    "duration": 807,
    "start_time": "2023-05-01T01:37:31.201Z"
   },
   {
    "duration": 2384,
    "start_time": "2023-05-01T01:37:39.083Z"
   },
   {
    "duration": 13,
    "start_time": "2023-05-01T01:38:10.828Z"
   },
   {
    "duration": 138,
    "start_time": "2023-05-01T01:38:16.622Z"
   },
   {
    "duration": 1868,
    "start_time": "2023-05-01T01:38:18.269Z"
   },
   {
    "duration": 124,
    "start_time": "2023-05-01T01:38:30.185Z"
   },
   {
    "duration": 1911,
    "start_time": "2023-05-01T01:38:39.212Z"
   },
   {
    "duration": 3,
    "start_time": "2023-05-01T01:40:19.581Z"
   },
   {
    "duration": 123,
    "start_time": "2023-05-01T01:40:21.274Z"
   },
   {
    "duration": 1877,
    "start_time": "2023-05-01T01:40:33.936Z"
   },
   {
    "duration": 9,
    "start_time": "2023-05-01T02:01:58.386Z"
   },
   {
    "duration": 248,
    "start_time": "2023-05-01T02:01:59.214Z"
   },
   {
    "duration": 4,
    "start_time": "2023-05-01T02:02:02.197Z"
   },
   {
    "duration": 31,
    "start_time": "2023-05-01T02:02:02.687Z"
   },
   {
    "duration": 15,
    "start_time": "2023-05-01T02:14:26.741Z"
   },
   {
    "duration": 31,
    "start_time": "2023-05-01T02:15:08.556Z"
   },
   {
    "duration": 7,
    "start_time": "2023-05-01T02:18:11.513Z"
   },
   {
    "duration": 3,
    "start_time": "2023-05-01T02:22:39.268Z"
   },
   {
    "duration": 119,
    "start_time": "2023-05-01T02:22:39.509Z"
   },
   {
    "duration": 1871,
    "start_time": "2023-05-01T02:22:39.955Z"
   },
   {
    "duration": 26,
    "start_time": "2023-05-01T02:22:41.835Z"
   },
   {
    "duration": 9,
    "start_time": "2023-05-01T02:22:43.103Z"
   },
   {
    "duration": 252,
    "start_time": "2023-05-01T02:22:43.658Z"
   },
   {
    "duration": 5,
    "start_time": "2023-05-01T02:22:45.753Z"
   },
   {
    "duration": 36,
    "start_time": "2023-05-01T02:22:46.257Z"
   },
   {
    "duration": 7,
    "start_time": "2023-05-01T02:22:53.050Z"
   },
   {
    "duration": 5,
    "start_time": "2023-05-01T02:22:54.303Z"
   },
   {
    "duration": 50,
    "start_time": "2023-05-01T02:22:56.531Z"
   },
   {
    "duration": 3,
    "start_time": "2023-05-01T02:23:26.519Z"
   },
   {
    "duration": 124,
    "start_time": "2023-05-01T02:23:26.688Z"
   },
   {
    "duration": 1753,
    "start_time": "2023-05-01T02:23:27.031Z"
   },
   {
    "duration": 13,
    "start_time": "2023-05-01T02:23:28.786Z"
   },
   {
    "duration": 8,
    "start_time": "2023-05-01T02:23:30.177Z"
   },
   {
    "duration": 186,
    "start_time": "2023-05-01T02:23:30.639Z"
   },
   {
    "duration": 6,
    "start_time": "2023-05-01T02:23:31.754Z"
   },
   {
    "duration": 135,
    "start_time": "2023-05-01T02:23:32.147Z"
   },
   {
    "duration": 8,
    "start_time": "2023-05-01T02:23:35.192Z"
   },
   {
    "duration": 5,
    "start_time": "2023-05-01T02:23:36.110Z"
   },
   {
    "duration": 569,
    "start_time": "2023-05-01T02:24:11.790Z"
   },
   {
    "duration": 132,
    "start_time": "2023-05-01T02:24:12.360Z"
   },
   {
    "duration": 1938,
    "start_time": "2023-05-01T02:24:12.493Z"
   },
   {
    "duration": 21,
    "start_time": "2023-05-01T02:24:14.434Z"
   },
   {
    "duration": 9,
    "start_time": "2023-05-01T02:24:14.458Z"
   },
   {
    "duration": 234,
    "start_time": "2023-05-01T02:24:14.468Z"
   },
   {
    "duration": 8,
    "start_time": "2023-05-01T02:24:14.704Z"
   },
   {
    "duration": 82,
    "start_time": "2023-05-01T02:24:14.714Z"
   },
   {
    "duration": 8,
    "start_time": "2023-05-01T02:24:14.798Z"
   },
   {
    "duration": 11,
    "start_time": "2023-05-01T02:24:14.808Z"
   },
   {
    "duration": 67,
    "start_time": "2023-05-01T02:24:14.835Z"
   },
   {
    "duration": 8,
    "start_time": "2023-05-01T02:24:14.904Z"
   },
   {
    "duration": 200,
    "start_time": "2023-05-01T02:24:14.914Z"
   },
   {
    "duration": 183,
    "start_time": "2023-05-01T02:24:15.117Z"
   },
   {
    "duration": 351,
    "start_time": "2023-05-01T02:24:15.302Z"
   },
   {
    "duration": 398,
    "start_time": "2023-05-01T02:24:15.655Z"
   },
   {
    "duration": 9,
    "start_time": "2023-05-01T02:24:16.054Z"
   },
   {
    "duration": 197,
    "start_time": "2023-05-01T02:24:16.064Z"
   },
   {
    "duration": 7,
    "start_time": "2023-05-01T02:24:16.262Z"
   },
   {
    "duration": 192,
    "start_time": "2023-05-01T02:24:16.270Z"
   },
   {
    "duration": 6,
    "start_time": "2023-05-01T02:24:16.464Z"
   },
   {
    "duration": 180,
    "start_time": "2023-05-01T02:24:16.472Z"
   },
   {
    "duration": 7,
    "start_time": "2023-05-01T02:24:16.654Z"
   },
   {
    "duration": 2175,
    "start_time": "2023-05-01T02:24:16.663Z"
   },
   {
    "duration": 37,
    "start_time": "2023-05-01T02:24:18.845Z"
   },
   {
    "duration": 332,
    "start_time": "2023-05-01T02:24:18.883Z"
   },
   {
    "duration": 306,
    "start_time": "2023-05-01T02:24:19.216Z"
   },
   {
    "duration": 312,
    "start_time": "2023-05-01T02:24:19.524Z"
   },
   {
    "duration": 397,
    "start_time": "2023-05-01T02:24:19.841Z"
   },
   {
    "duration": 352,
    "start_time": "2023-05-01T02:24:20.240Z"
   },
   {
    "duration": 217,
    "start_time": "2023-05-01T02:24:20.594Z"
   },
   {
    "duration": 211,
    "start_time": "2023-05-01T02:24:20.813Z"
   },
   {
    "duration": 203,
    "start_time": "2023-05-01T02:24:21.025Z"
   },
   {
    "duration": 144,
    "start_time": "2023-05-01T02:24:21.230Z"
   },
   {
    "duration": 193,
    "start_time": "2023-05-01T02:24:21.375Z"
   },
   {
    "duration": 406,
    "start_time": "2023-05-01T02:24:21.569Z"
   },
   {
    "duration": 209,
    "start_time": "2023-05-01T02:24:21.976Z"
   },
   {
    "duration": 365,
    "start_time": "2023-05-01T02:24:22.187Z"
   },
   {
    "duration": 196,
    "start_time": "2023-05-01T02:24:22.555Z"
   },
   {
    "duration": 584,
    "start_time": "2023-05-01T02:24:22.753Z"
   },
   {
    "duration": 12,
    "start_time": "2023-05-01T02:24:23.341Z"
   },
   {
    "duration": 153,
    "start_time": "2023-05-01T02:24:23.354Z"
   },
   {
    "duration": 171,
    "start_time": "2023-05-01T02:24:23.508Z"
   },
   {
    "duration": 168,
    "start_time": "2023-05-01T02:24:23.681Z"
   },
   {
    "duration": 152,
    "start_time": "2023-05-01T02:24:23.851Z"
   },
   {
    "duration": 152,
    "start_time": "2023-05-01T02:24:24.004Z"
   },
   {
    "duration": 153,
    "start_time": "2023-05-01T02:24:24.157Z"
   },
   {
    "duration": 163,
    "start_time": "2023-05-01T02:24:24.311Z"
   },
   {
    "duration": 338,
    "start_time": "2023-05-01T02:24:24.476Z"
   },
   {
    "duration": 29,
    "start_time": "2023-05-01T02:24:24.816Z"
   },
   {
    "duration": 9,
    "start_time": "2023-05-01T02:24:24.849Z"
   },
   {
    "duration": 9,
    "start_time": "2023-05-01T02:24:24.859Z"
   },
   {
    "duration": 106,
    "start_time": "2023-05-01T02:24:24.870Z"
   },
   {
    "duration": 7,
    "start_time": "2023-05-01T02:26:27.447Z"
   },
   {
    "duration": 166,
    "start_time": "2023-05-01T02:26:46.860Z"
   },
   {
    "duration": 54,
    "start_time": "2023-05-01T02:27:43.986Z"
   },
   {
    "duration": 150,
    "start_time": "2023-05-01T02:27:58.947Z"
   },
   {
    "duration": 146,
    "start_time": "2023-05-01T02:28:06.666Z"
   },
   {
    "duration": 339,
    "start_time": "2023-05-01T02:28:44.650Z"
   },
   {
    "duration": 190,
    "start_time": "2023-05-01T02:29:37.165Z"
   },
   {
    "duration": 16,
    "start_time": "2023-05-01T02:29:38.230Z"
   },
   {
    "duration": 158,
    "start_time": "2023-05-01T02:29:38.867Z"
   },
   {
    "duration": 7,
    "start_time": "2023-05-01T02:29:41.804Z"
   },
   {
    "duration": 169,
    "start_time": "2023-05-01T02:29:42.503Z"
   },
   {
    "duration": 170,
    "start_time": "2023-05-01T02:30:07.333Z"
   },
   {
    "duration": 164,
    "start_time": "2023-05-01T02:30:08.592Z"
   },
   {
    "duration": 165,
    "start_time": "2023-05-01T02:31:01.716Z"
   },
   {
    "duration": 311,
    "start_time": "2023-05-01T02:31:20.452Z"
   },
   {
    "duration": 221,
    "start_time": "2023-05-01T02:31:21.766Z"
   },
   {
    "duration": 172,
    "start_time": "2023-05-01T02:31:22.844Z"
   },
   {
    "duration": 179,
    "start_time": "2023-05-01T02:31:23.907Z"
   },
   {
    "duration": 198,
    "start_time": "2023-05-01T02:31:25.203Z"
   },
   {
    "duration": 180,
    "start_time": "2023-05-01T02:31:26.882Z"
   },
   {
    "duration": 2568,
    "start_time": "2023-05-01T02:31:34.174Z"
   },
   {
    "duration": 35,
    "start_time": "2023-05-01T02:32:09.049Z"
   },
   {
    "duration": 304,
    "start_time": "2023-05-01T02:32:10.126Z"
   },
   {
    "duration": 35,
    "start_time": "2023-05-01T02:39:56.558Z"
   },
   {
    "duration": 287,
    "start_time": "2023-05-01T02:39:59.355Z"
   },
   {
    "duration": 442,
    "start_time": "2023-05-01T02:48:53.423Z"
   },
   {
    "duration": 287,
    "start_time": "2023-05-01T02:48:55.779Z"
   },
   {
    "duration": 300,
    "start_time": "2023-05-01T02:48:58.890Z"
   },
   {
    "duration": 185,
    "start_time": "2023-05-01T02:50:28.344Z"
   },
   {
    "duration": 172,
    "start_time": "2023-05-01T02:50:34.251Z"
   },
   {
    "duration": 174,
    "start_time": "2023-05-01T02:52:10.725Z"
   },
   {
    "duration": 117,
    "start_time": "2023-05-01T02:54:55.990Z"
   },
   {
    "duration": 198,
    "start_time": "2023-05-01T02:55:01.409Z"
   },
   {
    "duration": 371,
    "start_time": "2023-05-01T02:55:49.249Z"
   },
   {
    "duration": 173,
    "start_time": "2023-05-01T03:00:25.151Z"
   },
   {
    "duration": 174,
    "start_time": "2023-05-01T03:00:59.979Z"
   },
   {
    "duration": 162,
    "start_time": "2023-05-01T03:01:39.813Z"
   },
   {
    "duration": 162,
    "start_time": "2023-05-01T03:01:53.275Z"
   },
   {
    "duration": 166,
    "start_time": "2023-05-01T03:02:05.730Z"
   },
   {
    "duration": 346,
    "start_time": "2023-05-01T03:02:10.352Z"
   },
   {
    "duration": 151,
    "start_time": "2023-05-01T03:03:16.360Z"
   },
   {
    "duration": 388,
    "start_time": "2023-05-01T03:06:49.970Z"
   },
   {
    "duration": 185,
    "start_time": "2023-05-01T03:07:11.399Z"
   },
   {
    "duration": 595,
    "start_time": "2023-05-01T03:07:40.498Z"
   },
   {
    "duration": 158,
    "start_time": "2023-05-01T03:07:41.095Z"
   },
   {
    "duration": 1874,
    "start_time": "2023-05-01T03:07:41.254Z"
   },
   {
    "duration": 23,
    "start_time": "2023-05-01T03:07:43.129Z"
   },
   {
    "duration": 17,
    "start_time": "2023-05-01T03:07:43.154Z"
   },
   {
    "duration": 193,
    "start_time": "2023-05-01T03:07:43.173Z"
   },
   {
    "duration": 6,
    "start_time": "2023-05-01T03:07:43.368Z"
   },
   {
    "duration": 66,
    "start_time": "2023-05-01T03:07:43.375Z"
   },
   {
    "duration": 10,
    "start_time": "2023-05-01T03:07:43.443Z"
   },
   {
    "duration": 9,
    "start_time": "2023-05-01T03:07:43.455Z"
   },
   {
    "duration": 53,
    "start_time": "2023-05-01T03:07:43.466Z"
   },
   {
    "duration": 17,
    "start_time": "2023-05-01T03:07:43.533Z"
   },
   {
    "duration": 148,
    "start_time": "2023-05-01T03:07:43.552Z"
   },
   {
    "duration": 156,
    "start_time": "2023-05-01T03:07:43.702Z"
   },
   {
    "duration": 290,
    "start_time": "2023-05-01T03:07:43.860Z"
   },
   {
    "duration": 201,
    "start_time": "2023-05-01T03:07:44.152Z"
   },
   {
    "duration": 310,
    "start_time": "2023-05-01T03:07:44.355Z"
   },
   {
    "duration": 234,
    "start_time": "2023-05-01T03:07:44.667Z"
   },
   {
    "duration": 190,
    "start_time": "2023-05-01T03:07:44.902Z"
   },
   {
    "duration": 187,
    "start_time": "2023-05-01T03:07:45.095Z"
   },
   {
    "duration": 218,
    "start_time": "2023-05-01T03:07:45.284Z"
   },
   {
    "duration": 65,
    "start_time": "2023-05-01T03:07:45.504Z"
   },
   {
    "duration": 344,
    "start_time": "2023-05-01T03:07:45.570Z"
   },
   {
    "duration": 347,
    "start_time": "2023-05-01T03:07:45.916Z"
   },
   {
    "duration": 400,
    "start_time": "2023-05-01T03:07:46.264Z"
   },
   {
    "duration": 321,
    "start_time": "2023-05-01T03:07:46.666Z"
   },
   {
    "duration": 322,
    "start_time": "2023-05-01T03:07:46.989Z"
   },
   {
    "duration": 225,
    "start_time": "2023-05-01T03:07:47.315Z"
   },
   {
    "duration": 197,
    "start_time": "2023-05-01T03:07:47.545Z"
   },
   {
    "duration": 187,
    "start_time": "2023-05-01T03:07:47.743Z"
   },
   {
    "duration": 142,
    "start_time": "2023-05-01T03:07:47.937Z"
   },
   {
    "duration": 197,
    "start_time": "2023-05-01T03:07:48.081Z"
   },
   {
    "duration": 481,
    "start_time": "2023-05-01T03:07:48.280Z"
   },
   {
    "duration": 186,
    "start_time": "2023-05-01T03:07:48.763Z"
   },
   {
    "duration": 190,
    "start_time": "2023-05-01T03:07:48.951Z"
   },
   {
    "duration": 208,
    "start_time": "2023-05-01T03:07:49.142Z"
   },
   {
    "duration": 635,
    "start_time": "2023-05-01T03:07:49.352Z"
   },
   {
    "duration": 13,
    "start_time": "2023-05-01T03:07:49.989Z"
   },
   {
    "duration": 182,
    "start_time": "2023-05-01T03:07:50.004Z"
   },
   {
    "duration": 179,
    "start_time": "2023-05-01T03:07:50.188Z"
   },
   {
    "duration": 180,
    "start_time": "2023-05-01T03:07:50.369Z"
   },
   {
    "duration": 163,
    "start_time": "2023-05-01T03:07:50.553Z"
   },
   {
    "duration": 257,
    "start_time": "2023-05-01T03:07:50.718Z"
   },
   {
    "duration": 153,
    "start_time": "2023-05-01T03:07:50.977Z"
   },
   {
    "duration": 162,
    "start_time": "2023-05-01T03:07:51.134Z"
   },
   {
    "duration": 166,
    "start_time": "2023-05-01T03:07:51.298Z"
   },
   {
    "duration": 31,
    "start_time": "2023-05-01T03:07:51.466Z"
   },
   {
    "duration": 9,
    "start_time": "2023-05-01T03:07:51.499Z"
   },
   {
    "duration": 36,
    "start_time": "2023-05-01T03:07:51.509Z"
   },
   {
    "duration": 85,
    "start_time": "2023-05-01T03:07:51.546Z"
   },
   {
    "duration": 280,
    "start_time": "2023-05-01T03:14:06.518Z"
   },
   {
    "duration": 273,
    "start_time": "2023-05-01T03:14:11.279Z"
   },
   {
    "duration": 282,
    "start_time": "2023-05-01T03:14:25.531Z"
   },
   {
    "duration": 377,
    "start_time": "2023-05-01T03:14:53.653Z"
   },
   {
    "duration": 12,
    "start_time": "2023-05-01T03:14:59.911Z"
   },
   {
    "duration": 26,
    "start_time": "2023-05-01T03:28:34.289Z"
   },
   {
    "duration": 579,
    "start_time": "2023-05-01T03:30:09.870Z"
   },
   {
    "duration": 125,
    "start_time": "2023-05-01T03:30:10.451Z"
   },
   {
    "duration": 1797,
    "start_time": "2023-05-01T03:30:10.578Z"
   },
   {
    "duration": 14,
    "start_time": "2023-05-01T03:30:12.377Z"
   },
   {
    "duration": 9,
    "start_time": "2023-05-01T03:30:12.392Z"
   },
   {
    "duration": 152,
    "start_time": "2023-05-01T03:30:12.402Z"
   },
   {
    "duration": 5,
    "start_time": "2023-05-01T03:30:12.556Z"
   },
   {
    "duration": 44,
    "start_time": "2023-05-01T03:30:12.562Z"
   },
   {
    "duration": 8,
    "start_time": "2023-05-01T03:30:12.608Z"
   },
   {
    "duration": 17,
    "start_time": "2023-05-01T03:30:12.618Z"
   },
   {
    "duration": 50,
    "start_time": "2023-05-01T03:30:12.637Z"
   },
   {
    "duration": 6,
    "start_time": "2023-05-01T03:30:12.689Z"
   },
   {
    "duration": 148,
    "start_time": "2023-05-01T03:30:12.696Z"
   },
   {
    "duration": 134,
    "start_time": "2023-05-01T03:30:12.846Z"
   },
   {
    "duration": 273,
    "start_time": "2023-05-01T03:30:12.981Z"
   },
   {
    "duration": 191,
    "start_time": "2023-05-01T03:30:13.256Z"
   },
   {
    "duration": 277,
    "start_time": "2023-05-01T03:30:13.448Z"
   },
   {
    "duration": 163,
    "start_time": "2023-05-01T03:30:13.727Z"
   },
   {
    "duration": 163,
    "start_time": "2023-05-01T03:30:13.891Z"
   },
   {
    "duration": 170,
    "start_time": "2023-05-01T03:30:14.056Z"
   },
   {
    "duration": 165,
    "start_time": "2023-05-01T03:30:14.228Z"
   },
   {
    "duration": 45,
    "start_time": "2023-05-01T03:30:14.395Z"
   },
   {
    "duration": 343,
    "start_time": "2023-05-01T03:30:14.442Z"
   },
   {
    "duration": 287,
    "start_time": "2023-05-01T03:30:14.787Z"
   },
   {
    "duration": 368,
    "start_time": "2023-05-01T03:30:15.076Z"
   },
   {
    "duration": 272,
    "start_time": "2023-05-01T03:30:15.446Z"
   },
   {
    "duration": 272,
    "start_time": "2023-05-01T03:30:15.720Z"
   },
   {
    "duration": 183,
    "start_time": "2023-05-01T03:30:15.996Z"
   },
   {
    "duration": 182,
    "start_time": "2023-05-01T03:30:16.181Z"
   },
   {
    "duration": 184,
    "start_time": "2023-05-01T03:30:16.364Z"
   },
   {
    "duration": 122,
    "start_time": "2023-05-01T03:30:16.550Z"
   },
   {
    "duration": 186,
    "start_time": "2023-05-01T03:30:16.673Z"
   },
   {
    "duration": 440,
    "start_time": "2023-05-01T03:30:16.861Z"
   },
   {
    "duration": 178,
    "start_time": "2023-05-01T03:30:17.304Z"
   },
   {
    "duration": 181,
    "start_time": "2023-05-01T03:30:17.483Z"
   },
   {
    "duration": 175,
    "start_time": "2023-05-01T03:30:17.665Z"
   },
   {
    "duration": 275,
    "start_time": "2023-05-01T03:30:17.842Z"
   },
   {
    "duration": 22,
    "start_time": "2023-05-01T03:30:18.118Z"
   },
   {
    "duration": 157,
    "start_time": "2023-05-01T03:30:18.141Z"
   },
   {
    "duration": 161,
    "start_time": "2023-05-01T03:30:18.299Z"
   },
   {
    "duration": 146,
    "start_time": "2023-05-01T03:30:18.462Z"
   },
   {
    "duration": 158,
    "start_time": "2023-05-01T03:30:18.609Z"
   },
   {
    "duration": 142,
    "start_time": "2023-05-01T03:30:18.770Z"
   },
   {
    "duration": 238,
    "start_time": "2023-05-01T03:30:18.914Z"
   },
   {
    "duration": 168,
    "start_time": "2023-05-01T03:30:19.153Z"
   },
   {
    "duration": 152,
    "start_time": "2023-05-01T03:30:19.323Z"
   },
   {
    "duration": 22,
    "start_time": "2023-05-01T03:30:19.477Z"
   },
   {
    "duration": 6,
    "start_time": "2023-05-01T03:30:19.501Z"
   },
   {
    "duration": 26,
    "start_time": "2023-05-01T03:30:19.509Z"
   },
   {
    "duration": 77,
    "start_time": "2023-05-01T03:30:19.537Z"
   },
   {
    "duration": 27,
    "start_time": "2023-05-01T03:31:24.582Z"
   },
   {
    "duration": 651,
    "start_time": "2023-05-01T03:33:00.209Z"
   },
   {
    "duration": 133,
    "start_time": "2023-05-01T03:33:00.862Z"
   },
   {
    "duration": 1846,
    "start_time": "2023-05-01T03:33:00.997Z"
   },
   {
    "duration": 13,
    "start_time": "2023-05-01T03:33:02.845Z"
   },
   {
    "duration": 11,
    "start_time": "2023-05-01T03:33:02.860Z"
   },
   {
    "duration": 198,
    "start_time": "2023-05-01T03:33:02.872Z"
   },
   {
    "duration": 6,
    "start_time": "2023-05-01T03:33:03.080Z"
   },
   {
    "duration": 42,
    "start_time": "2023-05-01T03:33:03.088Z"
   },
   {
    "duration": 5,
    "start_time": "2023-05-01T03:33:03.132Z"
   },
   {
    "duration": 8,
    "start_time": "2023-05-01T03:33:03.139Z"
   },
   {
    "duration": 44,
    "start_time": "2023-05-01T03:33:03.149Z"
   },
   {
    "duration": 7,
    "start_time": "2023-05-01T03:33:03.195Z"
   },
   {
    "duration": 173,
    "start_time": "2023-05-01T03:33:03.204Z"
   },
   {
    "duration": 136,
    "start_time": "2023-05-01T03:33:03.380Z"
   },
   {
    "duration": 273,
    "start_time": "2023-05-01T03:33:03.518Z"
   },
   {
    "duration": 171,
    "start_time": "2023-05-01T03:33:03.792Z"
   },
   {
    "duration": 259,
    "start_time": "2023-05-01T03:33:03.965Z"
   },
   {
    "duration": 169,
    "start_time": "2023-05-01T03:33:04.225Z"
   },
   {
    "duration": 180,
    "start_time": "2023-05-01T03:33:04.395Z"
   },
   {
    "duration": 201,
    "start_time": "2023-05-01T03:33:04.576Z"
   },
   {
    "duration": 200,
    "start_time": "2023-05-01T03:33:04.779Z"
   },
   {
    "duration": 64,
    "start_time": "2023-05-01T03:33:04.982Z"
   },
   {
    "duration": 300,
    "start_time": "2023-05-01T03:33:05.048Z"
   },
   {
    "duration": 286,
    "start_time": "2023-05-01T03:33:05.350Z"
   },
   {
    "duration": 342,
    "start_time": "2023-05-01T03:33:05.638Z"
   },
   {
    "duration": 278,
    "start_time": "2023-05-01T03:33:05.982Z"
   },
   {
    "duration": 276,
    "start_time": "2023-05-01T03:33:06.262Z"
   },
   {
    "duration": 185,
    "start_time": "2023-05-01T03:33:06.540Z"
   },
   {
    "duration": 173,
    "start_time": "2023-05-01T03:33:06.726Z"
   },
   {
    "duration": 177,
    "start_time": "2023-05-01T03:33:06.901Z"
   },
   {
    "duration": 137,
    "start_time": "2023-05-01T03:33:07.080Z"
   },
   {
    "duration": 194,
    "start_time": "2023-05-01T03:33:07.219Z"
   },
   {
    "duration": 423,
    "start_time": "2023-05-01T03:33:07.416Z"
   },
   {
    "duration": 172,
    "start_time": "2023-05-01T03:33:07.841Z"
   },
   {
    "duration": 172,
    "start_time": "2023-05-01T03:33:08.015Z"
   },
   {
    "duration": 184,
    "start_time": "2023-05-01T03:33:08.189Z"
   },
   {
    "duration": 270,
    "start_time": "2023-05-01T03:33:08.375Z"
   },
   {
    "duration": 10,
    "start_time": "2023-05-01T03:33:08.646Z"
   },
   {
    "duration": 165,
    "start_time": "2023-05-01T03:33:08.657Z"
   },
   {
    "duration": 181,
    "start_time": "2023-05-01T03:33:08.824Z"
   },
   {
    "duration": 161,
    "start_time": "2023-05-01T03:33:09.009Z"
   },
   {
    "duration": 165,
    "start_time": "2023-05-01T03:33:09.171Z"
   },
   {
    "duration": 143,
    "start_time": "2023-05-01T03:33:09.337Z"
   },
   {
    "duration": 225,
    "start_time": "2023-05-01T03:33:09.481Z"
   },
   {
    "duration": 153,
    "start_time": "2023-05-01T03:33:09.708Z"
   },
   {
    "duration": 158,
    "start_time": "2023-05-01T03:33:09.862Z"
   },
   {
    "duration": 29,
    "start_time": "2023-05-01T03:33:10.022Z"
   },
   {
    "duration": 7,
    "start_time": "2023-05-01T03:33:10.052Z"
   },
   {
    "duration": 17,
    "start_time": "2023-05-01T03:33:10.060Z"
   },
   {
    "duration": 92,
    "start_time": "2023-05-01T03:33:10.079Z"
   },
   {
    "duration": 34,
    "start_time": "2023-05-01T03:33:52.178Z"
   },
   {
    "duration": 281,
    "start_time": "2023-05-01T03:33:57.467Z"
   },
   {
    "duration": 268,
    "start_time": "2023-05-01T03:34:03.661Z"
   },
   {
    "duration": 265,
    "start_time": "2023-05-01T03:34:04.852Z"
   },
   {
    "duration": 252,
    "start_time": "2023-05-01T03:34:05.884Z"
   },
   {
    "duration": 341,
    "start_time": "2023-05-01T03:34:06.852Z"
   },
   {
    "duration": 177,
    "start_time": "2023-05-01T03:34:07.721Z"
   },
   {
    "duration": 174,
    "start_time": "2023-05-01T03:34:08.638Z"
   },
   {
    "duration": 164,
    "start_time": "2023-05-01T03:34:09.572Z"
   },
   {
    "duration": 119,
    "start_time": "2023-05-01T03:34:11.186Z"
   },
   {
    "duration": 166,
    "start_time": "2023-05-01T03:34:12.893Z"
   },
   {
    "duration": 322,
    "start_time": "2023-05-01T03:34:14.173Z"
   },
   {
    "duration": 204,
    "start_time": "2023-05-01T03:34:15.309Z"
   },
   {
    "duration": 184,
    "start_time": "2023-05-01T03:34:16.452Z"
   },
   {
    "duration": 275,
    "start_time": "2023-05-01T03:34:17.509Z"
   },
   {
    "duration": 273,
    "start_time": "2023-05-01T03:34:18.212Z"
   },
   {
    "duration": 10,
    "start_time": "2023-05-01T03:34:18.487Z"
   },
   {
    "duration": 143,
    "start_time": "2023-05-01T03:34:19.653Z"
   },
   {
    "duration": 151,
    "start_time": "2023-05-01T03:34:20.739Z"
   },
   {
    "duration": 143,
    "start_time": "2023-05-01T03:34:24.691Z"
   },
   {
    "duration": 143,
    "start_time": "2023-05-01T03:34:25.875Z"
   },
   {
    "duration": 131,
    "start_time": "2023-05-01T03:34:27.724Z"
   },
   {
    "duration": 162,
    "start_time": "2023-05-01T03:34:30.580Z"
   },
   {
    "duration": 153,
    "start_time": "2023-05-01T03:34:31.925Z"
   },
   {
    "duration": 149,
    "start_time": "2023-05-01T03:34:34.398Z"
   },
   {
    "duration": 23,
    "start_time": "2023-05-01T03:34:39.641Z"
   },
   {
    "duration": 24,
    "start_time": "2023-05-01T03:34:49.221Z"
   },
   {
    "duration": 8,
    "start_time": "2023-05-01T03:34:50.232Z"
   },
   {
    "duration": 7,
    "start_time": "2023-05-01T03:34:51.135Z"
   },
   {
    "duration": 25,
    "start_time": "2023-05-01T03:34:54.181Z"
   },
   {
    "duration": 16,
    "start_time": "2023-05-01T03:35:03.588Z"
   },
   {
    "duration": 35,
    "start_time": "2023-05-01T03:37:41.312Z"
   },
   {
    "duration": 378,
    "start_time": "2023-05-01T03:37:42.529Z"
   },
   {
    "duration": 317,
    "start_time": "2023-05-01T03:37:45.344Z"
   },
   {
    "duration": 270,
    "start_time": "2023-05-01T03:37:45.928Z"
   },
   {
    "duration": 306,
    "start_time": "2023-05-01T03:37:46.475Z"
   },
   {
    "duration": 291,
    "start_time": "2023-05-01T03:37:46.980Z"
   },
   {
    "duration": 263,
    "start_time": "2023-05-01T03:37:47.484Z"
   },
   {
    "duration": 184,
    "start_time": "2023-05-01T03:37:47.985Z"
   },
   {
    "duration": 171,
    "start_time": "2023-05-01T03:37:48.496Z"
   },
   {
    "duration": 119,
    "start_time": "2023-05-01T03:37:49.117Z"
   },
   {
    "duration": 171,
    "start_time": "2023-05-01T03:37:49.640Z"
   },
   {
    "duration": 330,
    "start_time": "2023-05-01T03:37:50.898Z"
   },
   {
    "duration": 169,
    "start_time": "2023-05-01T03:37:53.549Z"
   },
   {
    "duration": 573,
    "start_time": "2023-05-01T03:38:08.471Z"
   },
   {
    "duration": 130,
    "start_time": "2023-05-01T03:38:09.046Z"
   },
   {
    "duration": 1838,
    "start_time": "2023-05-01T03:38:09.177Z"
   },
   {
    "duration": 20,
    "start_time": "2023-05-01T03:38:11.017Z"
   },
   {
    "duration": 12,
    "start_time": "2023-05-01T03:38:11.039Z"
   },
   {
    "duration": 170,
    "start_time": "2023-05-01T03:38:11.053Z"
   },
   {
    "duration": 13,
    "start_time": "2023-05-01T03:38:11.225Z"
   },
   {
    "duration": 36,
    "start_time": "2023-05-01T03:38:11.240Z"
   },
   {
    "duration": 6,
    "start_time": "2023-05-01T03:38:11.278Z"
   },
   {
    "duration": 8,
    "start_time": "2023-05-01T03:38:11.286Z"
   },
   {
    "duration": 68,
    "start_time": "2023-05-01T03:38:11.295Z"
   },
   {
    "duration": 6,
    "start_time": "2023-05-01T03:38:11.365Z"
   },
   {
    "duration": 145,
    "start_time": "2023-05-01T03:38:11.373Z"
   },
   {
    "duration": 141,
    "start_time": "2023-05-01T03:38:11.521Z"
   },
   {
    "duration": 277,
    "start_time": "2023-05-01T03:38:11.664Z"
   },
   {
    "duration": 175,
    "start_time": "2023-05-01T03:38:11.943Z"
   },
   {
    "duration": 277,
    "start_time": "2023-05-01T03:38:12.120Z"
   },
   {
    "duration": 178,
    "start_time": "2023-05-01T03:38:12.399Z"
   },
   {
    "duration": 171,
    "start_time": "2023-05-01T03:38:12.578Z"
   },
   {
    "duration": 169,
    "start_time": "2023-05-01T03:38:12.751Z"
   },
   {
    "duration": 170,
    "start_time": "2023-05-01T03:38:12.922Z"
   },
   {
    "duration": 46,
    "start_time": "2023-05-01T03:38:13.094Z"
   },
   {
    "duration": 318,
    "start_time": "2023-05-01T03:38:13.141Z"
   },
   {
    "duration": 295,
    "start_time": "2023-05-01T03:38:13.461Z"
   },
   {
    "duration": 346,
    "start_time": "2023-05-01T03:38:13.757Z"
   },
   {
    "duration": 324,
    "start_time": "2023-05-01T03:38:14.106Z"
   },
   {
    "duration": 394,
    "start_time": "2023-05-01T03:38:14.434Z"
   },
   {
    "duration": 211,
    "start_time": "2023-05-01T03:38:14.834Z"
   },
   {
    "duration": 205,
    "start_time": "2023-05-01T03:38:15.047Z"
   },
   {
    "duration": 244,
    "start_time": "2023-05-01T03:38:15.255Z"
   },
   {
    "duration": 152,
    "start_time": "2023-05-01T03:38:15.501Z"
   },
   {
    "duration": 203,
    "start_time": "2023-05-01T03:38:15.654Z"
   },
   {
    "duration": 475,
    "start_time": "2023-05-01T03:38:15.858Z"
   },
   {
    "duration": 193,
    "start_time": "2023-05-01T03:38:16.335Z"
   },
   {
    "duration": 218,
    "start_time": "2023-05-01T03:38:16.534Z"
   },
   {
    "duration": 195,
    "start_time": "2023-05-01T03:38:16.754Z"
   },
   {
    "duration": 347,
    "start_time": "2023-05-01T03:38:16.951Z"
   },
   {
    "duration": 10,
    "start_time": "2023-05-01T03:38:17.299Z"
   },
   {
    "duration": 201,
    "start_time": "2023-05-01T03:38:17.311Z"
   },
   {
    "duration": 198,
    "start_time": "2023-05-01T03:38:17.514Z"
   },
   {
    "duration": 169,
    "start_time": "2023-05-01T03:38:17.715Z"
   },
   {
    "duration": 169,
    "start_time": "2023-05-01T03:38:17.885Z"
   },
   {
    "duration": 156,
    "start_time": "2023-05-01T03:38:18.056Z"
   },
   {
    "duration": 250,
    "start_time": "2023-05-01T03:38:18.214Z"
   },
   {
    "duration": 177,
    "start_time": "2023-05-01T03:38:18.466Z"
   },
   {
    "duration": 180,
    "start_time": "2023-05-01T03:38:18.644Z"
   },
   {
    "duration": 26,
    "start_time": "2023-05-01T03:38:18.825Z"
   },
   {
    "duration": 7,
    "start_time": "2023-05-01T03:38:18.853Z"
   },
   {
    "duration": 16,
    "start_time": "2023-05-01T03:38:18.862Z"
   },
   {
    "duration": 120,
    "start_time": "2023-05-01T03:38:18.879Z"
   },
   {
    "duration": 26,
    "start_time": "2023-05-01T03:39:59.144Z"
   },
   {
    "duration": 220,
    "start_time": "2023-05-01T03:41:48.812Z"
   },
   {
    "duration": 174,
    "start_time": "2023-05-01T03:42:38.739Z"
   },
   {
    "duration": 219,
    "start_time": "2023-05-01T03:42:43.251Z"
   },
   {
    "duration": 183,
    "start_time": "2023-05-01T03:47:12.225Z"
   },
   {
    "duration": 245,
    "start_time": "2023-05-01T03:47:20.437Z"
   },
   {
    "duration": 184,
    "start_time": "2023-05-01T03:47:37.586Z"
   },
   {
    "duration": 178,
    "start_time": "2023-05-01T03:50:14.502Z"
   },
   {
    "duration": 163,
    "start_time": "2023-05-01T03:50:32.806Z"
   },
   {
    "duration": 44,
    "start_time": "2023-05-01T03:51:26.660Z"
   },
   {
    "duration": 19,
    "start_time": "2023-05-01T03:52:13.230Z"
   },
   {
    "duration": 143,
    "start_time": "2023-05-01T04:54:28.106Z"
   },
   {
    "duration": 149,
    "start_time": "2023-05-01T04:55:03.705Z"
   },
   {
    "duration": 44,
    "start_time": "2023-05-01T04:57:25.376Z"
   },
   {
    "duration": 229,
    "start_time": "2023-05-01T04:59:51.944Z"
   },
   {
    "duration": 880,
    "start_time": "2023-05-01T05:00:40.945Z"
   },
   {
    "duration": 168,
    "start_time": "2023-05-01T05:01:32.574Z"
   },
   {
    "duration": 170,
    "start_time": "2023-05-01T05:03:35.809Z"
   },
   {
    "duration": 134,
    "start_time": "2023-05-01T05:04:14.113Z"
   },
   {
    "duration": 267,
    "start_time": "2023-05-01T05:04:21.020Z"
   },
   {
    "duration": 186,
    "start_time": "2023-05-01T05:06:11.124Z"
   },
   {
    "duration": 125,
    "start_time": "2023-05-01T05:06:33.751Z"
   },
   {
    "duration": 112,
    "start_time": "2023-05-01T05:06:57.313Z"
   },
   {
    "duration": 139,
    "start_time": "2023-05-01T05:08:30.238Z"
   },
   {
    "duration": 202,
    "start_time": "2023-05-01T05:08:41.911Z"
   },
   {
    "duration": 23,
    "start_time": "2023-05-01T05:09:59.409Z"
   },
   {
    "duration": 123,
    "start_time": "2023-05-01T05:10:06.093Z"
   },
   {
    "duration": 65,
    "start_time": "2023-05-01T05:10:18.140Z"
   },
   {
    "duration": 131,
    "start_time": "2023-05-01T05:10:23.406Z"
   },
   {
    "duration": 120,
    "start_time": "2023-05-01T05:11:37.520Z"
   },
   {
    "duration": 132,
    "start_time": "2023-05-01T05:11:52.596Z"
   },
   {
    "duration": 139,
    "start_time": "2023-05-01T05:13:52.814Z"
   },
   {
    "duration": 136,
    "start_time": "2023-05-01T05:14:23.560Z"
   },
   {
    "duration": 165,
    "start_time": "2023-05-01T05:20:48.353Z"
   },
   {
    "duration": 161,
    "start_time": "2023-05-01T05:20:49.695Z"
   },
   {
    "duration": 169,
    "start_time": "2023-05-01T05:20:50.712Z"
   },
   {
    "duration": 19,
    "start_time": "2023-05-01T05:39:11.968Z"
   },
   {
    "duration": 17,
    "start_time": "2023-05-01T05:40:41.448Z"
   },
   {
    "duration": 18,
    "start_time": "2023-05-01T05:40:56.981Z"
   },
   {
    "duration": 611,
    "start_time": "2023-05-01T05:41:33.411Z"
   },
   {
    "duration": 147,
    "start_time": "2023-05-01T05:41:34.715Z"
   },
   {
    "duration": 1952,
    "start_time": "2023-05-01T05:41:37.359Z"
   },
   {
    "duration": 16,
    "start_time": "2023-05-01T05:41:40.999Z"
   },
   {
    "duration": 12,
    "start_time": "2023-05-01T05:41:44.654Z"
   },
   {
    "duration": 180,
    "start_time": "2023-05-01T05:41:45.284Z"
   },
   {
    "duration": 5,
    "start_time": "2023-05-01T05:41:47.116Z"
   },
   {
    "duration": 36,
    "start_time": "2023-05-01T05:41:47.772Z"
   },
   {
    "duration": 6,
    "start_time": "2023-05-01T05:41:51.164Z"
   },
   {
    "duration": 4,
    "start_time": "2023-05-01T05:41:51.924Z"
   },
   {
    "duration": 51,
    "start_time": "2023-05-01T05:41:53.443Z"
   },
   {
    "duration": 7,
    "start_time": "2023-05-01T05:41:57.077Z"
   },
   {
    "duration": 134,
    "start_time": "2023-05-01T05:41:57.957Z"
   },
   {
    "duration": 129,
    "start_time": "2023-05-01T05:42:14.351Z"
   },
   {
    "duration": 145,
    "start_time": "2023-05-01T05:42:47.340Z"
   },
   {
    "duration": 133,
    "start_time": "2023-05-01T05:42:56.928Z"
   },
   {
    "duration": 640,
    "start_time": "2023-05-01T05:43:12.685Z"
   },
   {
    "duration": 152,
    "start_time": "2023-05-01T05:43:13.327Z"
   },
   {
    "duration": 2222,
    "start_time": "2023-05-01T05:43:13.481Z"
   },
   {
    "duration": 14,
    "start_time": "2023-05-01T05:43:15.705Z"
   },
   {
    "duration": 8,
    "start_time": "2023-05-01T05:43:15.721Z"
   },
   {
    "duration": 182,
    "start_time": "2023-05-01T05:43:15.731Z"
   },
   {
    "duration": 5,
    "start_time": "2023-05-01T05:43:15.915Z"
   },
   {
    "duration": 53,
    "start_time": "2023-05-01T05:43:15.922Z"
   },
   {
    "duration": 9,
    "start_time": "2023-05-01T05:43:15.977Z"
   },
   {
    "duration": 9,
    "start_time": "2023-05-01T05:43:15.989Z"
   },
   {
    "duration": 64,
    "start_time": "2023-05-01T05:43:16.000Z"
   },
   {
    "duration": 9,
    "start_time": "2023-05-01T05:43:16.069Z"
   },
   {
    "duration": 155,
    "start_time": "2023-05-01T05:43:16.081Z"
   },
   {
    "duration": 176,
    "start_time": "2023-05-01T05:43:16.242Z"
   },
   {
    "duration": 332,
    "start_time": "2023-05-01T05:43:16.420Z"
   },
   {
    "duration": 220,
    "start_time": "2023-05-01T05:43:16.754Z"
   },
   {
    "duration": 306,
    "start_time": "2023-05-01T05:43:16.976Z"
   },
   {
    "duration": 199,
    "start_time": "2023-05-01T05:43:17.284Z"
   },
   {
    "duration": 214,
    "start_time": "2023-05-01T05:43:17.485Z"
   },
   {
    "duration": 201,
    "start_time": "2023-05-01T05:43:17.701Z"
   },
   {
    "duration": 190,
    "start_time": "2023-05-01T05:43:17.904Z"
   },
   {
    "duration": 60,
    "start_time": "2023-05-01T05:43:18.096Z"
   },
   {
    "duration": 365,
    "start_time": "2023-05-01T05:43:18.159Z"
   },
   {
    "duration": 356,
    "start_time": "2023-05-01T05:43:18.526Z"
   },
   {
    "duration": 399,
    "start_time": "2023-05-01T05:43:18.883Z"
   },
   {
    "duration": 317,
    "start_time": "2023-05-01T05:43:19.284Z"
   },
   {
    "duration": 317,
    "start_time": "2023-05-01T05:43:19.602Z"
   },
   {
    "duration": 202,
    "start_time": "2023-05-01T05:43:19.921Z"
   },
   {
    "duration": 201,
    "start_time": "2023-05-01T05:43:20.124Z"
   },
   {
    "duration": 219,
    "start_time": "2023-05-01T05:43:20.326Z"
   },
   {
    "duration": 151,
    "start_time": "2023-05-01T05:43:20.546Z"
   },
   {
    "duration": 215,
    "start_time": "2023-05-01T05:43:20.698Z"
   },
   {
    "duration": 538,
    "start_time": "2023-05-01T05:43:20.914Z"
   },
   {
    "duration": 187,
    "start_time": "2023-05-01T05:43:21.454Z"
   },
   {
    "duration": 204,
    "start_time": "2023-05-01T05:43:21.646Z"
   },
   {
    "duration": 197,
    "start_time": "2023-05-01T05:43:21.852Z"
   },
   {
    "duration": 314,
    "start_time": "2023-05-01T05:43:22.051Z"
   },
   {
    "duration": 14,
    "start_time": "2023-05-01T05:43:22.367Z"
   },
   {
    "duration": 192,
    "start_time": "2023-05-01T05:43:22.383Z"
   },
   {
    "duration": 182,
    "start_time": "2023-05-01T05:43:22.577Z"
   },
   {
    "duration": 176,
    "start_time": "2023-05-01T05:43:22.762Z"
   },
   {
    "duration": 211,
    "start_time": "2023-05-01T05:43:22.941Z"
   },
   {
    "duration": 164,
    "start_time": "2023-05-01T05:43:23.154Z"
   },
   {
    "duration": 271,
    "start_time": "2023-05-01T05:43:23.320Z"
   },
   {
    "duration": 182,
    "start_time": "2023-05-01T05:43:23.593Z"
   },
   {
    "duration": 193,
    "start_time": "2023-05-01T05:43:23.776Z"
   },
   {
    "duration": 140,
    "start_time": "2023-05-01T05:43:23.970Z"
   },
   {
    "duration": 175,
    "start_time": "2023-05-01T05:43:24.112Z"
   },
   {
    "duration": 172,
    "start_time": "2023-05-01T05:43:24.289Z"
   },
   {
    "duration": 202,
    "start_time": "2023-05-01T05:43:24.462Z"
   },
   {
    "duration": 192,
    "start_time": "2023-05-01T05:43:24.666Z"
   },
   {
    "duration": 159,
    "start_time": "2023-05-01T05:43:24.860Z"
   },
   {
    "duration": 176,
    "start_time": "2023-05-01T05:43:25.021Z"
   },
   {
    "duration": 175,
    "start_time": "2023-05-01T05:43:25.199Z"
   },
   {
    "duration": 27,
    "start_time": "2023-05-01T05:43:25.376Z"
   },
   {
    "duration": 18,
    "start_time": "2023-05-01T05:43:25.405Z"
   },
   {
    "duration": 16,
    "start_time": "2023-05-01T05:43:25.438Z"
   },
   {
    "duration": 90,
    "start_time": "2023-05-01T05:43:25.455Z"
   },
   {
    "duration": 154,
    "start_time": "2023-05-01T05:43:56.299Z"
   },
   {
    "duration": 181,
    "start_time": "2023-05-01T05:44:35.238Z"
   },
   {
    "duration": 17,
    "start_time": "2023-05-01T05:46:29.876Z"
   },
   {
    "duration": 234,
    "start_time": "2023-05-01T05:47:36.200Z"
   },
   {
    "duration": 645,
    "start_time": "2023-05-01T05:58:44.681Z"
   },
   {
    "duration": 165,
    "start_time": "2023-05-01T05:58:45.328Z"
   },
   {
    "duration": 2085,
    "start_time": "2023-05-01T05:58:45.494Z"
   },
   {
    "duration": 13,
    "start_time": "2023-05-01T05:58:47.581Z"
   },
   {
    "duration": 9,
    "start_time": "2023-05-01T05:58:47.596Z"
   },
   {
    "duration": 169,
    "start_time": "2023-05-01T05:58:47.606Z"
   },
   {
    "duration": 5,
    "start_time": "2023-05-01T05:58:47.776Z"
   },
   {
    "duration": 38,
    "start_time": "2023-05-01T05:58:47.782Z"
   },
   {
    "duration": 15,
    "start_time": "2023-05-01T05:58:47.821Z"
   },
   {
    "duration": 6,
    "start_time": "2023-05-01T05:58:47.838Z"
   },
   {
    "duration": 47,
    "start_time": "2023-05-01T05:58:47.845Z"
   },
   {
    "duration": 9,
    "start_time": "2023-05-01T05:58:47.893Z"
   },
   {
    "duration": 150,
    "start_time": "2023-05-01T05:58:47.934Z"
   },
   {
    "duration": 142,
    "start_time": "2023-05-01T05:58:48.086Z"
   },
   {
    "duration": 311,
    "start_time": "2023-05-01T05:58:48.235Z"
   },
   {
    "duration": 176,
    "start_time": "2023-05-01T05:58:48.550Z"
   },
   {
    "duration": 273,
    "start_time": "2023-05-01T05:58:48.728Z"
   },
   {
    "duration": 179,
    "start_time": "2023-05-01T05:58:49.002Z"
   },
   {
    "duration": 209,
    "start_time": "2023-05-01T05:58:49.183Z"
   },
   {
    "duration": 173,
    "start_time": "2023-05-01T05:58:49.394Z"
   },
   {
    "duration": 198,
    "start_time": "2023-05-01T05:58:49.569Z"
   },
   {
    "duration": 36,
    "start_time": "2023-05-01T05:58:49.769Z"
   },
   {
    "duration": 318,
    "start_time": "2023-05-01T05:58:49.806Z"
   },
   {
    "duration": 279,
    "start_time": "2023-05-01T05:58:50.133Z"
   },
   {
    "duration": 391,
    "start_time": "2023-05-01T05:58:50.413Z"
   },
   {
    "duration": 318,
    "start_time": "2023-05-01T05:58:50.806Z"
   },
   {
    "duration": 293,
    "start_time": "2023-05-01T05:58:51.126Z"
   },
   {
    "duration": 190,
    "start_time": "2023-05-01T05:58:51.420Z"
   },
   {
    "duration": 197,
    "start_time": "2023-05-01T05:58:51.611Z"
   },
   {
    "duration": 190,
    "start_time": "2023-05-01T05:58:51.809Z"
   },
   {
    "duration": 140,
    "start_time": "2023-05-01T05:58:52.000Z"
   },
   {
    "duration": 186,
    "start_time": "2023-05-01T05:58:52.142Z"
   },
   {
    "duration": 424,
    "start_time": "2023-05-01T05:58:52.329Z"
   },
   {
    "duration": 176,
    "start_time": "2023-05-01T05:58:52.755Z"
   },
   {
    "duration": 192,
    "start_time": "2023-05-01T05:58:52.935Z"
   },
   {
    "duration": 220,
    "start_time": "2023-05-01T05:58:53.129Z"
   },
   {
    "duration": 277,
    "start_time": "2023-05-01T05:58:53.351Z"
   },
   {
    "duration": 14,
    "start_time": "2023-05-01T05:58:53.629Z"
   },
   {
    "duration": 177,
    "start_time": "2023-05-01T05:58:53.644Z"
   },
   {
    "duration": 188,
    "start_time": "2023-05-01T05:58:53.823Z"
   },
   {
    "duration": 188,
    "start_time": "2023-05-01T05:58:54.015Z"
   },
   {
    "duration": 170,
    "start_time": "2023-05-01T05:58:54.205Z"
   },
   {
    "duration": 173,
    "start_time": "2023-05-01T05:58:54.376Z"
   },
   {
    "duration": 320,
    "start_time": "2023-05-01T05:58:54.551Z"
   },
   {
    "duration": 323,
    "start_time": "2023-05-01T05:58:54.872Z"
   },
   {
    "duration": 222,
    "start_time": "2023-05-01T05:58:55.197Z"
   },
   {
    "duration": 154,
    "start_time": "2023-05-01T05:58:55.421Z"
   },
   {
    "duration": 137,
    "start_time": "2023-05-01T05:58:55.577Z"
   },
   {
    "duration": 143,
    "start_time": "2023-05-01T05:58:55.716Z"
   },
   {
    "duration": 163,
    "start_time": "2023-05-01T05:58:55.860Z"
   },
   {
    "duration": 156,
    "start_time": "2023-05-01T05:58:56.025Z"
   },
   {
    "duration": 172,
    "start_time": "2023-05-01T05:58:56.183Z"
   },
   {
    "duration": 167,
    "start_time": "2023-05-01T05:58:56.357Z"
   },
   {
    "duration": 156,
    "start_time": "2023-05-01T05:58:56.525Z"
   },
   {
    "duration": 25,
    "start_time": "2023-05-01T05:58:56.682Z"
   },
   {
    "duration": 7,
    "start_time": "2023-05-01T05:58:56.708Z"
   },
   {
    "duration": 22,
    "start_time": "2023-05-01T05:58:56.716Z"
   },
   {
    "duration": 171,
    "start_time": "2023-05-01T05:58:56.740Z"
   },
   {
    "duration": 50,
    "start_time": "2023-05-01T05:59:06.226Z"
   },
   {
    "duration": 33,
    "start_time": "2023-05-01T05:59:41.576Z"
   },
   {
    "duration": 409,
    "start_time": "2023-05-01T05:59:44.952Z"
   },
   {
    "duration": 86,
    "start_time": "2023-05-02T06:08:10.460Z"
   },
   {
    "duration": 98,
    "start_time": "2023-05-02T06:17:01.023Z"
   },
   {
    "duration": 93,
    "start_time": "2023-05-02T06:17:36.187Z"
   },
   {
    "duration": 83,
    "start_time": "2023-05-02T06:29:19.917Z"
   },
   {
    "duration": 143,
    "start_time": "2023-05-02T18:33:38.554Z"
   },
   {
    "duration": 122,
    "start_time": "2023-05-02T18:42:01.108Z"
   }
  ],
  "kernelspec": {
   "display_name": "Python 3 (ipykernel)",
   "language": "python",
   "name": "python3"
  },
  "language_info": {
   "codemirror_mode": {
    "name": "ipython",
    "version": 3
   },
   "file_extension": ".py",
   "mimetype": "text/x-python",
   "name": "python",
   "nbconvert_exporter": "python",
   "pygments_lexer": "ipython3",
   "version": "3.9.13"
  },
  "toc": {
   "base_numbering": 1,
   "nav_menu": {},
   "number_sections": true,
   "sideBar": true,
   "skip_h1_title": true,
   "title_cell": "Table of Contents",
   "title_sidebar": "Contents",
   "toc_cell": false,
   "toc_position": {},
   "toc_section_display": true,
   "toc_window_display": true
  }
 },
 "nbformat": 4,
 "nbformat_minor": 2
}
