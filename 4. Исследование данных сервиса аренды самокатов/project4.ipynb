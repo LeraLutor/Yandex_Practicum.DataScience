{
 "cells": [
  {
   "cell_type": "markdown",
   "id": "c2f10817",
   "metadata": {},
   "source": [
    "# Исследование данных сервиса аренды самокатов GoFast"
   ]
  },
  {
   "cell_type": "markdown",
   "id": "b3249ae1",
   "metadata": {},
   "source": [
    "В нашем распоряжении данные компании «GoFast» — сервиса аренды самокатов. Чтобы совершать поездки по городу, пользователи сервиса GoFast пользуются мобильным приложением. Сервисом можно пользоваться: без подписки и с подпиской «Ultra». Чтобы скорректировать рекламный бюджет, коммерческий департамент хочет понять, какой тариф приносит больше денег. Нам предстоит сделать предварительный анализ на небольшой выборке клиентов. В нашем распоряжении данные о некоторых пользователях из нескольких городов, а также об их поездках."
   ]
  },
  {
   "cell_type": "markdown",
   "id": "1808bead",
   "metadata": {},
   "source": [
    "Импортируем библиотеки."
   ]
  },
  {
   "cell_type": "code",
   "execution_count": 1,
   "id": "72576667",
   "metadata": {},
   "outputs": [],
   "source": [
    "import pandas as pd\n",
    "import numpy as np\n",
    "import matplotlib.pyplot as plt\n",
    "from scipy import stats as st\n",
    "from IPython.display import display_html"
   ]
  },
  {
   "cell_type": "markdown",
   "id": "c42cbe00",
   "metadata": {},
   "source": [
    "## Загрузка данных"
   ]
  },
  {
   "cell_type": "markdown",
   "id": "c0ab3130",
   "metadata": {},
   "source": [
    "Прочитаем данные и сохраним в data."
   ]
  },
  {
   "cell_type": "code",
   "execution_count": 2,
   "id": "eff9f206",
   "metadata": {},
   "outputs": [],
   "source": [
    "data_users = pd.read_csv('/datasets/users_go.csv')\n",
    "data_rides = pd.read_csv('/datasets/rides_go.csv')\n",
    "data_subscriptions = pd.read_csv('/datasets/subscriptions_go.csv')"
   ]
  },
  {
   "cell_type": "markdown",
   "id": "26a375b8",
   "metadata": {},
   "source": [
    "Просмотрим общую информацию о данных."
   ]
  },
  {
   "cell_type": "code",
   "execution_count": 3,
   "id": "e9f34592",
   "metadata": {},
   "outputs": [
    {
     "name": "stdout",
     "output_type": "stream",
     "text": [
      "<class 'pandas.core.frame.DataFrame'>\n",
      "RangeIndex: 1565 entries, 0 to 1564\n",
      "Data columns (total 5 columns):\n",
      " #   Column             Non-Null Count  Dtype \n",
      "---  ------             --------------  ----- \n",
      " 0   user_id            1565 non-null   int64 \n",
      " 1   name               1565 non-null   object\n",
      " 2   age                1565 non-null   int64 \n",
      " 3   city               1565 non-null   object\n",
      " 4   subscription_type  1565 non-null   object\n",
      "dtypes: int64(2), object(3)\n",
      "memory usage: 61.3+ KB\n"
     ]
    },
    {
     "data": {
      "text/html": [
       "<div>\n",
       "<style scoped>\n",
       "    .dataframe tbody tr th:only-of-type {\n",
       "        vertical-align: middle;\n",
       "    }\n",
       "\n",
       "    .dataframe tbody tr th {\n",
       "        vertical-align: top;\n",
       "    }\n",
       "\n",
       "    .dataframe thead th {\n",
       "        text-align: right;\n",
       "    }\n",
       "</style>\n",
       "<table border=\"1\" class=\"dataframe\">\n",
       "  <thead>\n",
       "    <tr style=\"text-align: right;\">\n",
       "      <th></th>\n",
       "      <th>user_id</th>\n",
       "      <th>name</th>\n",
       "      <th>age</th>\n",
       "      <th>city</th>\n",
       "      <th>subscription_type</th>\n",
       "    </tr>\n",
       "  </thead>\n",
       "  <tbody>\n",
       "    <tr>\n",
       "      <th>0</th>\n",
       "      <td>1</td>\n",
       "      <td>Кира</td>\n",
       "      <td>22</td>\n",
       "      <td>Тюмень</td>\n",
       "      <td>ultra</td>\n",
       "    </tr>\n",
       "    <tr>\n",
       "      <th>1</th>\n",
       "      <td>2</td>\n",
       "      <td>Станислав</td>\n",
       "      <td>31</td>\n",
       "      <td>Омск</td>\n",
       "      <td>ultra</td>\n",
       "    </tr>\n",
       "    <tr>\n",
       "      <th>2</th>\n",
       "      <td>3</td>\n",
       "      <td>Алексей</td>\n",
       "      <td>20</td>\n",
       "      <td>Москва</td>\n",
       "      <td>ultra</td>\n",
       "    </tr>\n",
       "    <tr>\n",
       "      <th>3</th>\n",
       "      <td>4</td>\n",
       "      <td>Константин</td>\n",
       "      <td>26</td>\n",
       "      <td>Ростов-на-Дону</td>\n",
       "      <td>ultra</td>\n",
       "    </tr>\n",
       "    <tr>\n",
       "      <th>4</th>\n",
       "      <td>5</td>\n",
       "      <td>Адель</td>\n",
       "      <td>28</td>\n",
       "      <td>Омск</td>\n",
       "      <td>ultra</td>\n",
       "    </tr>\n",
       "    <tr>\n",
       "      <th>5</th>\n",
       "      <td>6</td>\n",
       "      <td>Регина</td>\n",
       "      <td>25</td>\n",
       "      <td>Краснодар</td>\n",
       "      <td>ultra</td>\n",
       "    </tr>\n",
       "    <tr>\n",
       "      <th>6</th>\n",
       "      <td>7</td>\n",
       "      <td>Игорь</td>\n",
       "      <td>23</td>\n",
       "      <td>Омск</td>\n",
       "      <td>ultra</td>\n",
       "    </tr>\n",
       "    <tr>\n",
       "      <th>7</th>\n",
       "      <td>8</td>\n",
       "      <td>Юрий</td>\n",
       "      <td>23</td>\n",
       "      <td>Краснодар</td>\n",
       "      <td>ultra</td>\n",
       "    </tr>\n",
       "    <tr>\n",
       "      <th>8</th>\n",
       "      <td>9</td>\n",
       "      <td>Ян</td>\n",
       "      <td>21</td>\n",
       "      <td>Пятигорск</td>\n",
       "      <td>ultra</td>\n",
       "    </tr>\n",
       "    <tr>\n",
       "      <th>9</th>\n",
       "      <td>10</td>\n",
       "      <td>Валерий</td>\n",
       "      <td>18</td>\n",
       "      <td>Екатеринбург</td>\n",
       "      <td>ultra</td>\n",
       "    </tr>\n",
       "  </tbody>\n",
       "</table>\n",
       "</div>"
      ],
      "text/plain": [
       "   user_id        name  age            city subscription_type\n",
       "0        1        Кира   22          Тюмень             ultra\n",
       "1        2   Станислав   31            Омск             ultra\n",
       "2        3     Алексей   20          Москва             ultra\n",
       "3        4  Константин   26  Ростов-на-Дону             ultra\n",
       "4        5       Адель   28            Омск             ultra\n",
       "5        6      Регина   25       Краснодар             ultra\n",
       "6        7       Игорь   23            Омск             ultra\n",
       "7        8        Юрий   23       Краснодар             ultra\n",
       "8        9          Ян   21       Пятигорск             ultra\n",
       "9       10     Валерий   18    Екатеринбург             ultra"
      ]
     },
     "execution_count": 3,
     "metadata": {},
     "output_type": "execute_result"
    }
   ],
   "source": [
    "# просмотр общей информации о пользователях\n",
    "data_users.info()\n",
    "data_users.head(10)"
   ]
  },
  {
   "cell_type": "markdown",
   "id": "62a306d0",
   "metadata": {},
   "source": [
    "Согласно документации к данным, в таблице `users_go` содержится информация о пользователях и имеются следующие столбцы:\n",
    "* `user_id` — уникальный идентификатор пользователя\n",
    "* `name` — имя пользователя\n",
    "* `age` — возраст пользователя\n",
    "* `city` — город\n",
    "* `subscription_type` — тип подписки (free, ultra)"
   ]
  },
  {
   "cell_type": "code",
   "execution_count": 4,
   "id": "645022c6",
   "metadata": {},
   "outputs": [
    {
     "name": "stdout",
     "output_type": "stream",
     "text": [
      "<class 'pandas.core.frame.DataFrame'>\n",
      "RangeIndex: 18068 entries, 0 to 18067\n",
      "Data columns (total 4 columns):\n",
      " #   Column    Non-Null Count  Dtype  \n",
      "---  ------    --------------  -----  \n",
      " 0   user_id   18068 non-null  int64  \n",
      " 1   distance  18068 non-null  float64\n",
      " 2   duration  18068 non-null  float64\n",
      " 3   date      18068 non-null  object \n",
      "dtypes: float64(2), int64(1), object(1)\n",
      "memory usage: 564.8+ KB\n"
     ]
    },
    {
     "data": {
      "text/html": [
       "<div>\n",
       "<style scoped>\n",
       "    .dataframe tbody tr th:only-of-type {\n",
       "        vertical-align: middle;\n",
       "    }\n",
       "\n",
       "    .dataframe tbody tr th {\n",
       "        vertical-align: top;\n",
       "    }\n",
       "\n",
       "    .dataframe thead th {\n",
       "        text-align: right;\n",
       "    }\n",
       "</style>\n",
       "<table border=\"1\" class=\"dataframe\">\n",
       "  <thead>\n",
       "    <tr style=\"text-align: right;\">\n",
       "      <th></th>\n",
       "      <th>user_id</th>\n",
       "      <th>distance</th>\n",
       "      <th>duration</th>\n",
       "      <th>date</th>\n",
       "    </tr>\n",
       "  </thead>\n",
       "  <tbody>\n",
       "    <tr>\n",
       "      <th>0</th>\n",
       "      <td>1</td>\n",
       "      <td>4409.919140</td>\n",
       "      <td>25.599769</td>\n",
       "      <td>2021-01-01</td>\n",
       "    </tr>\n",
       "    <tr>\n",
       "      <th>1</th>\n",
       "      <td>1</td>\n",
       "      <td>2617.592153</td>\n",
       "      <td>15.816871</td>\n",
       "      <td>2021-01-18</td>\n",
       "    </tr>\n",
       "    <tr>\n",
       "      <th>2</th>\n",
       "      <td>1</td>\n",
       "      <td>754.159807</td>\n",
       "      <td>6.232113</td>\n",
       "      <td>2021-04-20</td>\n",
       "    </tr>\n",
       "    <tr>\n",
       "      <th>3</th>\n",
       "      <td>1</td>\n",
       "      <td>2694.783254</td>\n",
       "      <td>18.511000</td>\n",
       "      <td>2021-08-11</td>\n",
       "    </tr>\n",
       "    <tr>\n",
       "      <th>4</th>\n",
       "      <td>1</td>\n",
       "      <td>4028.687306</td>\n",
       "      <td>26.265803</td>\n",
       "      <td>2021-08-28</td>\n",
       "    </tr>\n",
       "    <tr>\n",
       "      <th>5</th>\n",
       "      <td>1</td>\n",
       "      <td>2770.890808</td>\n",
       "      <td>16.650138</td>\n",
       "      <td>2021-10-09</td>\n",
       "    </tr>\n",
       "    <tr>\n",
       "      <th>6</th>\n",
       "      <td>1</td>\n",
       "      <td>3039.020292</td>\n",
       "      <td>14.927879</td>\n",
       "      <td>2021-10-19</td>\n",
       "    </tr>\n",
       "    <tr>\n",
       "      <th>7</th>\n",
       "      <td>1</td>\n",
       "      <td>2842.118050</td>\n",
       "      <td>23.117468</td>\n",
       "      <td>2021-11-06</td>\n",
       "    </tr>\n",
       "    <tr>\n",
       "      <th>8</th>\n",
       "      <td>1</td>\n",
       "      <td>3412.690668</td>\n",
       "      <td>15.238072</td>\n",
       "      <td>2021-11-14</td>\n",
       "    </tr>\n",
       "    <tr>\n",
       "      <th>9</th>\n",
       "      <td>1</td>\n",
       "      <td>748.690645</td>\n",
       "      <td>15.041884</td>\n",
       "      <td>2021-11-22</td>\n",
       "    </tr>\n",
       "  </tbody>\n",
       "</table>\n",
       "</div>"
      ],
      "text/plain": [
       "   user_id     distance   duration        date\n",
       "0        1  4409.919140  25.599769  2021-01-01\n",
       "1        1  2617.592153  15.816871  2021-01-18\n",
       "2        1   754.159807   6.232113  2021-04-20\n",
       "3        1  2694.783254  18.511000  2021-08-11\n",
       "4        1  4028.687306  26.265803  2021-08-28\n",
       "5        1  2770.890808  16.650138  2021-10-09\n",
       "6        1  3039.020292  14.927879  2021-10-19\n",
       "7        1  2842.118050  23.117468  2021-11-06\n",
       "8        1  3412.690668  15.238072  2021-11-14\n",
       "9        1   748.690645  15.041884  2021-11-22"
      ]
     },
     "execution_count": 4,
     "metadata": {},
     "output_type": "execute_result"
    }
   ],
   "source": [
    "# просмотр общей информации о поездках\n",
    "data_rides.info()\n",
    "data_rides.head(10)"
   ]
  },
  {
   "cell_type": "markdown",
   "id": "b012f080",
   "metadata": {},
   "source": [
    "Согласно документации к данным, в таблице `rides_go` содержится информация о поездках и имеются следующие столбцы:\n",
    "* `user_id` — уникальный идентификатор пользователя\n",
    "* `distance` — расстояние, которое пользователь проехал в текущей сессии (в метрах)\n",
    "* `duration` — продолжительность сессии (в минутах) — время с того момента, как пользователь нажал кнопку «Начать поездку» до момента, как он нажал кнопку «Завершить поездку»\n",
    "* `date` — дата совершения поездки\t"
   ]
  },
  {
   "cell_type": "code",
   "execution_count": 5,
   "id": "3902fee2",
   "metadata": {},
   "outputs": [
    {
     "name": "stdout",
     "output_type": "stream",
     "text": [
      "<class 'pandas.core.frame.DataFrame'>\n",
      "RangeIndex: 2 entries, 0 to 1\n",
      "Data columns (total 4 columns):\n",
      " #   Column             Non-Null Count  Dtype \n",
      "---  ------             --------------  ----- \n",
      " 0   subscription_type  2 non-null      object\n",
      " 1   minute_price       2 non-null      int64 \n",
      " 2   start_ride_price   2 non-null      int64 \n",
      " 3   subscription_fee   2 non-null      int64 \n",
      "dtypes: int64(3), object(1)\n",
      "memory usage: 192.0+ bytes\n"
     ]
    },
    {
     "data": {
      "text/html": [
       "<div>\n",
       "<style scoped>\n",
       "    .dataframe tbody tr th:only-of-type {\n",
       "        vertical-align: middle;\n",
       "    }\n",
       "\n",
       "    .dataframe tbody tr th {\n",
       "        vertical-align: top;\n",
       "    }\n",
       "\n",
       "    .dataframe thead th {\n",
       "        text-align: right;\n",
       "    }\n",
       "</style>\n",
       "<table border=\"1\" class=\"dataframe\">\n",
       "  <thead>\n",
       "    <tr style=\"text-align: right;\">\n",
       "      <th></th>\n",
       "      <th>subscription_type</th>\n",
       "      <th>minute_price</th>\n",
       "      <th>start_ride_price</th>\n",
       "      <th>subscription_fee</th>\n",
       "    </tr>\n",
       "  </thead>\n",
       "  <tbody>\n",
       "    <tr>\n",
       "      <th>0</th>\n",
       "      <td>free</td>\n",
       "      <td>8</td>\n",
       "      <td>50</td>\n",
       "      <td>0</td>\n",
       "    </tr>\n",
       "    <tr>\n",
       "      <th>1</th>\n",
       "      <td>ultra</td>\n",
       "      <td>6</td>\n",
       "      <td>0</td>\n",
       "      <td>199</td>\n",
       "    </tr>\n",
       "  </tbody>\n",
       "</table>\n",
       "</div>"
      ],
      "text/plain": [
       "  subscription_type  minute_price  start_ride_price  subscription_fee\n",
       "0              free             8                50                 0\n",
       "1             ultra             6                 0               199"
      ]
     },
     "execution_count": 5,
     "metadata": {},
     "output_type": "execute_result"
    }
   ],
   "source": [
    "# просмотр общей информации о подписках\n",
    "data_subscriptions.info()\n",
    "data_subscriptions.head(10)"
   ]
  },
  {
   "cell_type": "markdown",
   "id": "52813b09",
   "metadata": {},
   "source": [
    "Согласно документации к данным, в таблице `rides_go` содержится информация о подписках и имеются следующие столбцы:\n",
    "* `subscription_type` — тип подписки\n",
    "* `minute_price` — стоимость одной минуты поездки по данной подписке\n",
    "* `start_ride_price` — стоимость начала поездки\n",
    "* `subscription_fee` — стоимость ежемесячного платежа\t"
   ]
  },
  {
   "cell_type": "markdown",
   "id": "0cdd1276",
   "metadata": {},
   "source": [
    "Простмотрев общую информацию о данных, можно уже заметить некотрые неудобства в типах даннных (в таблице *data_rides* даты имеют тип *object*). На первый взгляд каких либо осбенно ярких проблем не выделяется."
   ]
  },
  {
   "cell_type": "markdown",
   "id": "e95ebca7",
   "metadata": {},
   "source": [
    "## Предобработка данных"
   ]
  },
  {
   "cell_type": "markdown",
   "id": "61e3331b",
   "metadata": {},
   "source": [
    "Подготовим данные для дальнейшей работы. Исправим типы и проверим наличие/отсутвие пропущенных значений."
   ]
  },
  {
   "cell_type": "markdown",
   "id": "5b8cec18",
   "metadata": {},
   "source": [
    "Переведем даты в datetime."
   ]
  },
  {
   "cell_type": "code",
   "execution_count": 6,
   "id": "af6d202c",
   "metadata": {},
   "outputs": [
    {
     "name": "stdout",
     "output_type": "stream",
     "text": [
      "<class 'pandas.core.frame.DataFrame'>\n",
      "RangeIndex: 18068 entries, 0 to 18067\n",
      "Data columns (total 4 columns):\n",
      " #   Column    Non-Null Count  Dtype         \n",
      "---  ------    --------------  -----         \n",
      " 0   user_id   18068 non-null  int64         \n",
      " 1   distance  18068 non-null  float64       \n",
      " 2   duration  18068 non-null  float64       \n",
      " 3   date      18068 non-null  datetime64[ns]\n",
      "dtypes: datetime64[ns](1), float64(2), int64(1)\n",
      "memory usage: 564.8 KB\n"
     ]
    }
   ],
   "source": [
    "data_rides['date'] = pd.to_datetime(data_rides['date'], format = '%Y-%m-%d')\n",
    "data_rides.info()"
   ]
  },
  {
   "cell_type": "markdown",
   "id": "21d9f195",
   "metadata": {},
   "source": [
    "Проверка пропущенных значений в data_users."
   ]
  },
  {
   "cell_type": "code",
   "execution_count": 7,
   "id": "fa50ded2",
   "metadata": {},
   "outputs": [
    {
     "data": {
      "text/plain": [
       "user_id              0\n",
       "name                 0\n",
       "age                  0\n",
       "city                 0\n",
       "subscription_type    0\n",
       "dtype: int64"
      ]
     },
     "execution_count": 7,
     "metadata": {},
     "output_type": "execute_result"
    }
   ],
   "source": [
    "data_users.isna().sum()"
   ]
  },
  {
   "cell_type": "markdown",
   "id": "e113ae58",
   "metadata": {},
   "source": [
    "Проверка пропущенных значений в data_rides."
   ]
  },
  {
   "cell_type": "code",
   "execution_count": 8,
   "id": "46facf74",
   "metadata": {},
   "outputs": [
    {
     "data": {
      "text/plain": [
       "user_id     0\n",
       "distance    0\n",
       "duration    0\n",
       "date        0\n",
       "dtype: int64"
      ]
     },
     "execution_count": 8,
     "metadata": {},
     "output_type": "execute_result"
    }
   ],
   "source": [
    "data_rides.isna().sum()"
   ]
  },
  {
   "cell_type": "markdown",
   "id": "21073c2a",
   "metadata": {},
   "source": [
    "Проверка пропущенных значений в data_rides."
   ]
  },
  {
   "cell_type": "code",
   "execution_count": 9,
   "id": "36505475",
   "metadata": {},
   "outputs": [
    {
     "data": {
      "text/plain": [
       "subscription_type    0\n",
       "minute_price         0\n",
       "start_ride_price     0\n",
       "subscription_fee     0\n",
       "dtype: int64"
      ]
     },
     "execution_count": 9,
     "metadata": {},
     "output_type": "execute_result"
    }
   ],
   "source": [
    "data_subscriptions.isna().sum()"
   ]
  },
  {
   "cell_type": "markdown",
   "id": "a28ceb6d",
   "metadata": {},
   "source": [
    "Проверка показывает, что ни в одном датафрейме пропущенных значений нет.\n",
    "\n",
    "Проверим наличие явных дубликатов."
   ]
  },
  {
   "cell_type": "code",
   "execution_count": 10,
   "id": "943bfae0",
   "metadata": {},
   "outputs": [
    {
     "name": "stdout",
     "output_type": "stream",
     "text": [
      "Количество дубликатов в data_users 31\n",
      "Количество дубликатов в data_rides 0\n",
      "Количество дубликатов в data_subscriptions 0\n"
     ]
    }
   ],
   "source": [
    "print(\"Количество дубликатов в data_users\", data_users.duplicated().sum())\n",
    "print(\"Количество дубликатов в data_rides\", data_rides.duplicated().sum())\n",
    "print(\"Количество дубликатов в data_subscriptions\", data_subscriptions.duplicated().sum())"
   ]
  },
  {
   "cell_type": "markdown",
   "id": "2d989b5f",
   "metadata": {},
   "source": [
    "В таблице с пользователями присутсвую строки дубликаты, поэтому удалим их."
   ]
  },
  {
   "cell_type": "code",
   "execution_count": 11,
   "id": "da3afcf2",
   "metadata": {},
   "outputs": [
    {
     "data": {
      "text/plain": [
       "0"
      ]
     },
     "execution_count": 11,
     "metadata": {},
     "output_type": "execute_result"
    }
   ],
   "source": [
    "data_users = data_users.drop_duplicates()\n",
    "data_users.duplicated().sum()"
   ]
  },
  {
   "cell_type": "markdown",
   "id": "8a0f3ba4",
   "metadata": {},
   "source": [
    "В таблице `data_users` есть строковые столбцы *name*(имя пользователя) и *city*(название города). Проверим их на наличие неявных дубликатов. Выведем список уникальных значений *name*."
   ]
  },
  {
   "cell_type": "code",
   "execution_count": 12,
   "id": "0ba6e811",
   "metadata": {},
   "outputs": [
    {
     "data": {
      "text/plain": [
       "array(['Агата', 'Аделина', 'Адель', 'Айдар', 'Александр', 'Александра',\n",
       "       'Алексей', 'Алина', 'Алиса', 'Алия', 'Алла', 'Альберт', 'Альбина',\n",
       "       'Алёна', 'Амалия', 'Амина', 'Амир', 'Анастасия', 'Анатолий',\n",
       "       'Ангелина', 'Андрей', 'Анжелика', 'Анна', 'Антон', 'Антонина',\n",
       "       'Ариана', 'Арина', 'Арсен', 'Арсений', 'Артемий', 'Артур', 'Артём',\n",
       "       'Богдан', 'Борис', 'Вадим', 'Валентина', 'Валерий', 'Валерия',\n",
       "       'Варвара', 'Василий', 'Василина', 'Василиса', 'Вера', 'Вероника',\n",
       "       'Виктор', 'Виктория', 'Виолетта', 'Виталий', 'Виталина', 'Влад',\n",
       "       'Влада', 'Владимир', 'Владислав', 'Владислава', 'Всеволод',\n",
       "       'Вячеслав', 'Галина', 'Георгий', 'Герман', 'Глеб', 'Гордей',\n",
       "       'Григорий', 'Давид', 'Дамир', 'Даниил', 'Данил', 'Данила',\n",
       "       'Даниэль', 'Дарина', 'Дарья', 'Демид', 'Денис', 'Диана', 'Дмитрий',\n",
       "       'Ева', 'Евгений', 'Евгения', 'Егор', 'Екатерина', 'Елена',\n",
       "       'Елизавета', 'Елисей', 'Есения', 'Жанна', 'Зарина', 'Захар',\n",
       "       'Злата', 'Иван', 'Игнат', 'Игорь', 'Ильдар', 'Илья', 'Инна',\n",
       "       'Ирина', 'Камилла', 'Карина', 'Каролина', 'Кира', 'Кирилл',\n",
       "       'Константин', 'Кристина', 'Ксения', 'Лариса', 'Лев', 'Леонид',\n",
       "       'Лиана', 'Лидия', 'Лилия', 'Любовь', 'Людмила', 'Мадина', 'Майя',\n",
       "       'Макар', 'Максим', 'Марат', 'Маргарита', 'Марина', 'Мария', 'Марк',\n",
       "       'Марсель', 'Матвей', 'Мелания', 'Милана', 'Милена', 'Мирон',\n",
       "       'Мирослав', 'Мирослава', 'Михаил', 'Назар', 'Наталия', 'Наталья',\n",
       "       'Наташа', 'Нелли', 'Ника', 'Никита', 'Николай', 'Нина', 'Одиссей',\n",
       "       'Оксана', 'Олег', 'Олеся', 'Ольга', 'Павел', 'Петр', 'Платон',\n",
       "       'Полина', 'Радмир', 'Рамиль', 'Регина', 'Роберт', 'Родион',\n",
       "       'Роман', 'Ростислав', 'Руслан', 'Рустам', 'Савелий', 'Самир',\n",
       "       'Самира', 'Светлана', 'Святогор', 'Святослав', 'Семен', 'Сергей',\n",
       "       'Снежана', 'София', 'Софья', 'Станислав', 'Степан', 'Стефания',\n",
       "       'Таисия', 'Тамара', 'Тамерлан', 'Татьяна', 'Тимофей', 'Тимур',\n",
       "       'Тихон', 'Ульяна', 'Федор', 'Эвелина', 'Эдуард', 'Элина',\n",
       "       'Эльвира', 'Эльмира', 'Эмилия', 'Эмиль', 'Юлиана', 'Юлия', 'Юрий',\n",
       "       'Ян', 'Яна', 'Яромир', 'Ярослав', 'Ярослава', 'Ясмина'],\n",
       "      dtype=object)"
      ]
     },
     "execution_count": 12,
     "metadata": {},
     "output_type": "execute_result"
    }
   ],
   "source": [
    "data_users['name'].sort_values().unique()"
   ]
  },
  {
   "cell_type": "markdown",
   "id": "a8888aa3",
   "metadata": {},
   "source": [
    "Неявных дубликатов в именах нет."
   ]
  },
  {
   "cell_type": "markdown",
   "id": "ad9a8382",
   "metadata": {},
   "source": [
    "Выведем список уникальных значений *city*."
   ]
  },
  {
   "cell_type": "code",
   "execution_count": 13,
   "id": "34533b9d",
   "metadata": {},
   "outputs": [
    {
     "data": {
      "text/plain": [
       "array(['Екатеринбург', 'Краснодар', 'Москва', 'Омск', 'Пятигорск',\n",
       "       'Ростов-на-Дону', 'Сочи', 'Тюмень'], dtype=object)"
      ]
     },
     "execution_count": 13,
     "metadata": {},
     "output_type": "execute_result"
    }
   ],
   "source": [
    "data_users['city'].sort_values().unique()"
   ]
  },
  {
   "cell_type": "markdown",
   "id": "17463eca",
   "metadata": {},
   "source": [
    "Неявных дубликатов в названиях городов нет."
   ]
  },
  {
   "cell_type": "markdown",
   "id": "e2ea530c",
   "metadata": {},
   "source": [
    "Для дальнейшего анализа создадим в `data_rides` столбец с номером месяца."
   ]
  },
  {
   "cell_type": "code",
   "execution_count": 14,
   "id": "c63f2532",
   "metadata": {},
   "outputs": [
    {
     "data": {
      "text/html": [
       "<div>\n",
       "<style scoped>\n",
       "    .dataframe tbody tr th:only-of-type {\n",
       "        vertical-align: middle;\n",
       "    }\n",
       "\n",
       "    .dataframe tbody tr th {\n",
       "        vertical-align: top;\n",
       "    }\n",
       "\n",
       "    .dataframe thead th {\n",
       "        text-align: right;\n",
       "    }\n",
       "</style>\n",
       "<table border=\"1\" class=\"dataframe\">\n",
       "  <thead>\n",
       "    <tr style=\"text-align: right;\">\n",
       "      <th></th>\n",
       "      <th>user_id</th>\n",
       "      <th>distance</th>\n",
       "      <th>duration</th>\n",
       "      <th>date</th>\n",
       "      <th>month</th>\n",
       "    </tr>\n",
       "  </thead>\n",
       "  <tbody>\n",
       "    <tr>\n",
       "      <th>0</th>\n",
       "      <td>1</td>\n",
       "      <td>4409.919140</td>\n",
       "      <td>25.599769</td>\n",
       "      <td>2021-01-01</td>\n",
       "      <td>1</td>\n",
       "    </tr>\n",
       "    <tr>\n",
       "      <th>1</th>\n",
       "      <td>1</td>\n",
       "      <td>2617.592153</td>\n",
       "      <td>15.816871</td>\n",
       "      <td>2021-01-18</td>\n",
       "      <td>1</td>\n",
       "    </tr>\n",
       "    <tr>\n",
       "      <th>2</th>\n",
       "      <td>1</td>\n",
       "      <td>754.159807</td>\n",
       "      <td>6.232113</td>\n",
       "      <td>2021-04-20</td>\n",
       "      <td>4</td>\n",
       "    </tr>\n",
       "    <tr>\n",
       "      <th>3</th>\n",
       "      <td>1</td>\n",
       "      <td>2694.783254</td>\n",
       "      <td>18.511000</td>\n",
       "      <td>2021-08-11</td>\n",
       "      <td>8</td>\n",
       "    </tr>\n",
       "    <tr>\n",
       "      <th>4</th>\n",
       "      <td>1</td>\n",
       "      <td>4028.687306</td>\n",
       "      <td>26.265803</td>\n",
       "      <td>2021-08-28</td>\n",
       "      <td>8</td>\n",
       "    </tr>\n",
       "  </tbody>\n",
       "</table>\n",
       "</div>"
      ],
      "text/plain": [
       "   user_id     distance   duration       date  month\n",
       "0        1  4409.919140  25.599769 2021-01-01      1\n",
       "1        1  2617.592153  15.816871 2021-01-18      1\n",
       "2        1   754.159807   6.232113 2021-04-20      4\n",
       "3        1  2694.783254  18.511000 2021-08-11      8\n",
       "4        1  4028.687306  26.265803 2021-08-28      8"
      ]
     },
     "execution_count": 14,
     "metadata": {},
     "output_type": "execute_result"
    }
   ],
   "source": [
    "data_rides['month'] = data_rides['date'].dt.month\n",
    "data_rides.head()"
   ]
  },
  {
   "cell_type": "markdown",
   "id": "7d0bedb3",
   "metadata": {},
   "source": [
    "**Вывод этапа**:\n",
    "- Проведена проверка данных на начличие пропущенных значений. Нигде пропусков не обнаружено.\n",
    "- Были обработаны неявные и явные дубликаты. Явные дубликаты из `data_users`в количестве 31 строки удалены из таблицы.\n",
    "- Столбец с датой приведен к формату *datetime* и добавлен новый столбец с номером месяца (*month*)"
   ]
  },
  {
   "cell_type": "markdown",
   "id": "212593c7",
   "metadata": {},
   "source": [
    "## Исследовательский анализ данных"
   ]
  },
  {
   "cell_type": "markdown",
   "id": "92e248c3",
   "metadata": {},
   "source": [
    "**Посмотрим на частоту встречаемости городов.**"
   ]
  },
  {
   "cell_type": "code",
   "execution_count": 15,
   "id": "e3a4274c",
   "metadata": {},
   "outputs": [
    {
     "data": {
      "text/plain": [
       "Пятигорск         219\n",
       "Екатеринбург      204\n",
       "Ростов-на-Дону    198\n",
       "Краснодар         193\n",
       "Сочи              189\n",
       "Омск              183\n",
       "Тюмень            180\n",
       "Москва            168\n",
       "Name: city, dtype: int64"
      ]
     },
     "execution_count": 15,
     "metadata": {},
     "output_type": "execute_result"
    },
    {
     "data": {
      "image/png": "[encoded data removed]",
      "text/plain": [
       "<Figure size 864x216 with 1 Axes>"
      ]
     },
     "metadata": {
      "needs_background": "light"
     },
     "output_type": "display_data"
    }
   ],
   "source": [
    "data_users['city'].hist(figsize = (12, 3), bins = 15)\n",
    "plt.title('Гистограмма распределения пользователей по городам')\n",
    "plt.xlabel('Города')\n",
    "plt.ylabel('Число пользователей')\n",
    "data_users['city'].value_counts()"
   ]
  },
  {
   "cell_type": "markdown",
   "id": "83ad2353",
   "metadata": {},
   "source": [
    "По гистограмме и таблице видно: самым крупным городом количеству пользователей является Пятигорск со значением 219, а самым маленьким - Москва с 168 пользователями."
   ]
  },
  {
   "cell_type": "markdown",
   "id": "7e030861",
   "metadata": {},
   "source": [
    "**Посмотрим соотношение пользователей с подпиской и без.**"
   ]
  },
  {
   "cell_type": "code",
   "execution_count": 16,
   "id": "6f6cf9f7",
   "metadata": {},
   "outputs": [
    {
     "data": {
      "text/plain": [
       "free     835\n",
       "ultra    699\n",
       "Name: subscription_type, dtype: int64"
      ]
     },
     "execution_count": 16,
     "metadata": {},
     "output_type": "execute_result"
    },
    {
     "data": {
      "image/png": "[encoded data removed]",
      "text/plain": [
       "<Figure size 432x288 with 1 Axes>"
      ]
     },
     "metadata": {
      "needs_background": "light"
     },
     "output_type": "display_data"
    }
   ],
   "source": [
    "data_users['subscription_type'].hist()\n",
    "plt.title('Гистограмма распределения пользователей по тарифам')\n",
    "plt.xlabel('Тарифы')\n",
    "plt.ylabel('Число пользователей')\n",
    "data_users['subscription_type'].value_counts()"
   ]
  },
  {
   "cell_type": "markdown",
   "id": "72787dc3",
   "metadata": {},
   "source": [
    "Пользователей без подписки всё-таки больше, хотя разница не сильно велика и составляет всего 136 пользователей."
   ]
  },
  {
   "cell_type": "markdown",
   "id": "757613c7",
   "metadata": {},
   "source": [
    "**Посмотрим возраст пользователей.**\n",
    "\n",
    "Для начала проверим какой в целом разброс возраста в имеющихся данных."
   ]
  },
  {
   "cell_type": "code",
   "execution_count": 17,
   "id": "7b55639f",
   "metadata": {},
   "outputs": [
    {
     "data": {
      "text/plain": [
       "count    1534.000000\n",
       "mean       24.903520\n",
       "std         4.572367\n",
       "min        12.000000\n",
       "25%        22.000000\n",
       "50%        25.000000\n",
       "75%        28.000000\n",
       "max        43.000000\n",
       "Name: age, dtype: float64"
      ]
     },
     "execution_count": 17,
     "metadata": {},
     "output_type": "execute_result"
    },
    {
     "data": {
      "image/png": "[encoded data removed]",
      "text/plain": [
       "<Figure size 432x288 with 1 Axes>"
      ]
     },
     "metadata": {
      "needs_background": "light"
     },
     "output_type": "display_data"
    }
   ],
   "source": [
    "data_users.plot(y = 'age', kind = 'hist', grid=True)\n",
    "plt.title('Гистограмма распределения пользователей по возрасту')\n",
    "plt.xlabel('Возраст')\n",
    "plt.ylabel('Число пользователей')\n",
    "data_users['age'].describe()"
   ]
  },
  {
   "cell_type": "markdown",
   "id": "a283242b",
   "metadata": {},
   "source": [
    "Гистограмма имеет нормальное распределение. \n",
    "Основной диапазон пользователей это люди от 22 до 28 лет. Очень редки пользователи 40+, что в целом не удивительно, люди старшего возраста редко предпоситают использовать самокаты."
   ]
  },
  {
   "cell_type": "markdown",
   "id": "0f5612b5",
   "metadata": {},
   "source": [
    "**Исследуем расстояния проезжаемые за одну поездку.**"
   ]
  },
  {
   "cell_type": "code",
   "execution_count": 18,
   "id": "138ee79a",
   "metadata": {},
   "outputs": [
    {
     "data": {
      "text/plain": [
       "count    18068.000000\n",
       "mean      3070.659976\n",
       "std       1116.831209\n",
       "min          0.855683\n",
       "25%       2543.226360\n",
       "50%       3133.609994\n",
       "75%       3776.222735\n",
       "max       7211.007745\n",
       "Name: distance, dtype: float64"
      ]
     },
     "execution_count": 18,
     "metadata": {},
     "output_type": "execute_result"
    },
    {
     "data": {
      "image/png": "[encoded data removed]",
      "text/plain": [
       "<Figure size 864x216 with 1 Axes>"
      ]
     },
     "metadata": {
      "needs_background": "light"
     },
     "output_type": "display_data"
    }
   ],
   "source": [
    "data_rides.plot(y = 'distance',bins = 100 , kind = 'hist', grid=True, figsize = (12, 3))\n",
    "plt.title('Гистограмма распределения расстояний за 1 поездку')\n",
    "plt.xlabel('Расстояния в метрах')\n",
    "plt.ylabel('Число пользователей')\n",
    "data_rides['distance'].describe()"
   ]
  },
  {
   "cell_type": "markdown",
   "id": "fa51c007",
   "metadata": {},
   "source": [
    "Наблюдаем 2 волны на графике. Это можно объяснить тем, что многие пользователи не всегда планируют длительное времяпрепровождения на самокате и хотят покататься лишь пару минут (сюда можно добавить также пользователей, котрые быстро устали или впервые попрбовали покататься). Втрорую волну вероятно можно отнести к пользоватлям, предпочитающим длительные поездки.\n",
    "\n",
    "Разделим пользователей на эти две предполагаемые категории и изучим данные."
   ]
  },
  {
   "cell_type": "code",
   "execution_count": 19,
   "id": "f20a2a02",
   "metadata": {},
   "outputs": [
    {
     "data": {
      "text/plain": [
       "count    1796.000000\n",
       "mean      703.889720\n",
       "std       368.353542\n",
       "min         0.855683\n",
       "25%       414.315810\n",
       "50%       687.536713\n",
       "75%       985.430276\n",
       "max      1499.565830\n",
       "Name: distance, dtype: float64"
      ]
     },
     "execution_count": 19,
     "metadata": {},
     "output_type": "execute_result"
    },
    {
     "data": {
      "image/png": "[encoded data removed]",
      "text/plain": [
       "<Figure size 864x216 with 1 Axes>"
      ]
     },
     "metadata": {
      "needs_background": "light"
     },
     "output_type": "display_data"
    }
   ],
   "source": [
    "# короткие поездки\n",
    "short = data_rides[data_rides['distance'] < 1500]\n",
    "short.plot(y = 'distance',bins = 100 , kind = 'hist', grid=True, figsize = (12, 3))\n",
    "plt.title('Гистограмма распределения расстояний за 1 поездку')\n",
    "plt.xlabel('Расстояния в метрах')\n",
    "plt.ylabel('Число пользователей')\n",
    "short['distance'].describe()"
   ]
  },
  {
   "cell_type": "markdown",
   "id": "ec9e197a",
   "metadata": {},
   "source": [
    "Короткие поездки распределены нормально, хотя по графику видно, что есть довольно много как резких всплесков, так и падений. В среднем одна такая поездка составляет 704 метра, основной диапазон это поездки от 414 до 985 метров."
   ]
  },
  {
   "cell_type": "code",
   "execution_count": 20,
   "id": "c00e2c4d",
   "metadata": {},
   "outputs": [
    {
     "data": {
      "text/plain": [
       "count    16272.000000\n",
       "mean      3331.889043\n",
       "std        826.722577\n",
       "min       1502.431070\n",
       "25%       2742.576736\n",
       "50%       3239.972305\n",
       "75%       3874.561063\n",
       "max       7211.007745\n",
       "Name: distance, dtype: float64"
      ]
     },
     "execution_count": 20,
     "metadata": {},
     "output_type": "execute_result"
    },
    {
     "data": {
      "image/png": "[encoded data removed]",
      "text/plain": [
       "<Figure size 864x216 with 1 Axes>"
      ]
     },
     "metadata": {
      "needs_background": "light"
     },
     "output_type": "display_data"
    }
   ],
   "source": [
    "# длинные поездки\n",
    "long = data_rides[data_rides['distance'] >= 1500]\n",
    "long.plot(y = 'distance',bins = 100 , kind = 'hist', grid=True, figsize = (12, 3))\n",
    "plt.title('Гистограмма распределения расстояний за 1 поездку')\n",
    "plt.xlabel('Расстояния в метрах')\n",
    "plt.ylabel('Число пользователей')\n",
    "long['distance'].describe()"
   ]
  },
  {
   "cell_type": "markdown",
   "id": "b338ccf2",
   "metadata": {},
   "source": [
    "Длинные поездки имею распредение Пуассона. Имеются всплески значений, особенно яркий на 4000 метрах.\n",
    "В среднем одна поездка составляет 3332 метра, а основной диапазон это поездки от 2743 до 3875 метров.\n",
    "Очень редкими можно назвать поездки свыше 6 км, они практически не встречаются в данных."
   ]
  },
  {
   "cell_type": "markdown",
   "id": "486ab5ec",
   "metadata": {},
   "source": [
    "**Исследуем продолжительность поездок.**"
   ]
  },
  {
   "cell_type": "code",
   "execution_count": 21,
   "id": "5e2ec08f",
   "metadata": {},
   "outputs": [
    {
     "data": {
      "text/plain": [
       "count    18068.000000\n",
       "mean        17.805011\n",
       "std          6.091051\n",
       "min          0.500000\n",
       "25%         13.597563\n",
       "50%         17.678395\n",
       "75%         21.724800\n",
       "max         40.823963\n",
       "Name: duration, dtype: float64"
      ]
     },
     "execution_count": 21,
     "metadata": {},
     "output_type": "execute_result"
    },
    {
     "data": {
      "image/png": "[encoded data removed]",
      "text/plain": [
       "<Figure size 432x288 with 1 Axes>"
      ]
     },
     "metadata": {
      "needs_background": "light"
     },
     "output_type": "display_data"
    }
   ],
   "source": [
    "data_rides.plot(y = 'duration', kind = 'hist', grid=True)\n",
    "plt.title('Гистограмма распределения времени за 1 поездку')\n",
    "plt.xlabel('Время в минутах')\n",
    "plt.ylabel('Число пользователей')\n",
    "data_rides['duration'].describe()"
   ]
  },
  {
   "cell_type": "markdown",
   "id": "f28ae4ee",
   "metadata": {},
   "source": [
    "В целом время поездок распределено нормально с некоторым смещением. Основной диапазон это поездки от 14 до 22 минут. В среднем одна поездка составляет 18 минут."
   ]
  },
  {
   "cell_type": "markdown",
   "id": "2aba814b",
   "metadata": {},
   "source": [
    "**Вывод этапа**:\n",
    "Были исследованы характеристики поездок: частота встречаемости городов, соотношение пользователей с подпиской и без, возраст пользователей, расстояние и время за 1 поездку.\n",
    "\n",
    "Было обнаружено, что расстояния имеют бимодальное распределение, поэтому для более детального анализа поездки распределены на длительные и короткие.\n",
    "\n",
    "В общем можно сказать, что средняя поездка на самокате предствляет из себя: \n",
    "- поездку 14-22 минуты\n",
    "- при коротком заезде от 414 до 985 метров\n",
    "- при длительном от 2743 до 3875 метров\n",
    "- человек возрастом от 22 до 28 лет\n",
    "\n",
    "Количество пользователей с подпиской и без практически одинаково, а разброс пользователей по городам тоже практически равен, хотя Пятигорск со значением 219 обгоняет Москву с 168 по количеству пользователей."
   ]
  },
  {
   "cell_type": "markdown",
   "id": "4ef51331",
   "metadata": {},
   "source": [
    "## Объединение данных"
   ]
  },
  {
   "cell_type": "markdown",
   "id": "593b6cd8",
   "metadata": {},
   "source": [
    "**Создадим общий датафрейм.**"
   ]
  },
  {
   "cell_type": "code",
   "execution_count": 22,
   "id": "95e9ffb9",
   "metadata": {},
   "outputs": [
    {
     "name": "stdout",
     "output_type": "stream",
     "text": [
      "Количество строк в объединеном датафрейме: 18068\n"
     ]
    },
    {
     "data": {
      "text/html": [
       "<div>\n",
       "<style scoped>\n",
       "    .dataframe tbody tr th:only-of-type {\n",
       "        vertical-align: middle;\n",
       "    }\n",
       "\n",
       "    .dataframe tbody tr th {\n",
       "        vertical-align: top;\n",
       "    }\n",
       "\n",
       "    .dataframe thead th {\n",
       "        text-align: right;\n",
       "    }\n",
       "</style>\n",
       "<table border=\"1\" class=\"dataframe\">\n",
       "  <thead>\n",
       "    <tr style=\"text-align: right;\">\n",
       "      <th></th>\n",
       "      <th>user_id</th>\n",
       "      <th>name</th>\n",
       "      <th>age</th>\n",
       "      <th>city</th>\n",
       "      <th>subscription_type</th>\n",
       "      <th>distance</th>\n",
       "      <th>duration</th>\n",
       "      <th>date</th>\n",
       "      <th>month</th>\n",
       "      <th>minute_price</th>\n",
       "      <th>start_ride_price</th>\n",
       "      <th>subscription_fee</th>\n",
       "    </tr>\n",
       "  </thead>\n",
       "  <tbody>\n",
       "    <tr>\n",
       "      <th>0</th>\n",
       "      <td>1</td>\n",
       "      <td>Кира</td>\n",
       "      <td>22</td>\n",
       "      <td>Тюмень</td>\n",
       "      <td>ultra</td>\n",
       "      <td>4409.919140</td>\n",
       "      <td>25.599769</td>\n",
       "      <td>2021-01-01</td>\n",
       "      <td>1</td>\n",
       "      <td>6</td>\n",
       "      <td>0</td>\n",
       "      <td>199</td>\n",
       "    </tr>\n",
       "    <tr>\n",
       "      <th>1</th>\n",
       "      <td>1</td>\n",
       "      <td>Кира</td>\n",
       "      <td>22</td>\n",
       "      <td>Тюмень</td>\n",
       "      <td>ultra</td>\n",
       "      <td>2617.592153</td>\n",
       "      <td>15.816871</td>\n",
       "      <td>2021-01-18</td>\n",
       "      <td>1</td>\n",
       "      <td>6</td>\n",
       "      <td>0</td>\n",
       "      <td>199</td>\n",
       "    </tr>\n",
       "    <tr>\n",
       "      <th>2</th>\n",
       "      <td>1</td>\n",
       "      <td>Кира</td>\n",
       "      <td>22</td>\n",
       "      <td>Тюмень</td>\n",
       "      <td>ultra</td>\n",
       "      <td>754.159807</td>\n",
       "      <td>6.232113</td>\n",
       "      <td>2021-04-20</td>\n",
       "      <td>4</td>\n",
       "      <td>6</td>\n",
       "      <td>0</td>\n",
       "      <td>199</td>\n",
       "    </tr>\n",
       "    <tr>\n",
       "      <th>3</th>\n",
       "      <td>1</td>\n",
       "      <td>Кира</td>\n",
       "      <td>22</td>\n",
       "      <td>Тюмень</td>\n",
       "      <td>ultra</td>\n",
       "      <td>2694.783254</td>\n",
       "      <td>18.511000</td>\n",
       "      <td>2021-08-11</td>\n",
       "      <td>8</td>\n",
       "      <td>6</td>\n",
       "      <td>0</td>\n",
       "      <td>199</td>\n",
       "    </tr>\n",
       "    <tr>\n",
       "      <th>4</th>\n",
       "      <td>1</td>\n",
       "      <td>Кира</td>\n",
       "      <td>22</td>\n",
       "      <td>Тюмень</td>\n",
       "      <td>ultra</td>\n",
       "      <td>4028.687306</td>\n",
       "      <td>26.265803</td>\n",
       "      <td>2021-08-28</td>\n",
       "      <td>8</td>\n",
       "      <td>6</td>\n",
       "      <td>0</td>\n",
       "      <td>199</td>\n",
       "    </tr>\n",
       "    <tr>\n",
       "      <th>5</th>\n",
       "      <td>1</td>\n",
       "      <td>Кира</td>\n",
       "      <td>22</td>\n",
       "      <td>Тюмень</td>\n",
       "      <td>ultra</td>\n",
       "      <td>2770.890808</td>\n",
       "      <td>16.650138</td>\n",
       "      <td>2021-10-09</td>\n",
       "      <td>10</td>\n",
       "      <td>6</td>\n",
       "      <td>0</td>\n",
       "      <td>199</td>\n",
       "    </tr>\n",
       "    <tr>\n",
       "      <th>6</th>\n",
       "      <td>1</td>\n",
       "      <td>Кира</td>\n",
       "      <td>22</td>\n",
       "      <td>Тюмень</td>\n",
       "      <td>ultra</td>\n",
       "      <td>3039.020292</td>\n",
       "      <td>14.927879</td>\n",
       "      <td>2021-10-19</td>\n",
       "      <td>10</td>\n",
       "      <td>6</td>\n",
       "      <td>0</td>\n",
       "      <td>199</td>\n",
       "    </tr>\n",
       "    <tr>\n",
       "      <th>7</th>\n",
       "      <td>1</td>\n",
       "      <td>Кира</td>\n",
       "      <td>22</td>\n",
       "      <td>Тюмень</td>\n",
       "      <td>ultra</td>\n",
       "      <td>2842.118050</td>\n",
       "      <td>23.117468</td>\n",
       "      <td>2021-11-06</td>\n",
       "      <td>11</td>\n",
       "      <td>6</td>\n",
       "      <td>0</td>\n",
       "      <td>199</td>\n",
       "    </tr>\n",
       "    <tr>\n",
       "      <th>8</th>\n",
       "      <td>1</td>\n",
       "      <td>Кира</td>\n",
       "      <td>22</td>\n",
       "      <td>Тюмень</td>\n",
       "      <td>ultra</td>\n",
       "      <td>3412.690668</td>\n",
       "      <td>15.238072</td>\n",
       "      <td>2021-11-14</td>\n",
       "      <td>11</td>\n",
       "      <td>6</td>\n",
       "      <td>0</td>\n",
       "      <td>199</td>\n",
       "    </tr>\n",
       "    <tr>\n",
       "      <th>9</th>\n",
       "      <td>1</td>\n",
       "      <td>Кира</td>\n",
       "      <td>22</td>\n",
       "      <td>Тюмень</td>\n",
       "      <td>ultra</td>\n",
       "      <td>748.690645</td>\n",
       "      <td>15.041884</td>\n",
       "      <td>2021-11-22</td>\n",
       "      <td>11</td>\n",
       "      <td>6</td>\n",
       "      <td>0</td>\n",
       "      <td>199</td>\n",
       "    </tr>\n",
       "    <tr>\n",
       "      <th>10</th>\n",
       "      <td>1</td>\n",
       "      <td>Кира</td>\n",
       "      <td>22</td>\n",
       "      <td>Тюмень</td>\n",
       "      <td>ultra</td>\n",
       "      <td>4031.020195</td>\n",
       "      <td>17.674448</td>\n",
       "      <td>2021-12-14</td>\n",
       "      <td>12</td>\n",
       "      <td>6</td>\n",
       "      <td>0</td>\n",
       "      <td>199</td>\n",
       "    </tr>\n",
       "    <tr>\n",
       "      <th>11</th>\n",
       "      <td>1</td>\n",
       "      <td>Кира</td>\n",
       "      <td>22</td>\n",
       "      <td>Тюмень</td>\n",
       "      <td>ultra</td>\n",
       "      <td>2720.609748</td>\n",
       "      <td>9.529463</td>\n",
       "      <td>2021-12-22</td>\n",
       "      <td>12</td>\n",
       "      <td>6</td>\n",
       "      <td>0</td>\n",
       "      <td>199</td>\n",
       "    </tr>\n",
       "    <tr>\n",
       "      <th>12</th>\n",
       "      <td>2</td>\n",
       "      <td>Станислав</td>\n",
       "      <td>31</td>\n",
       "      <td>Омск</td>\n",
       "      <td>ultra</td>\n",
       "      <td>3105.086678</td>\n",
       "      <td>24.307514</td>\n",
       "      <td>2021-03-15</td>\n",
       "      <td>3</td>\n",
       "      <td>6</td>\n",
       "      <td>0</td>\n",
       "      <td>199</td>\n",
       "    </tr>\n",
       "    <tr>\n",
       "      <th>13</th>\n",
       "      <td>2</td>\n",
       "      <td>Станислав</td>\n",
       "      <td>31</td>\n",
       "      <td>Омск</td>\n",
       "      <td>ultra</td>\n",
       "      <td>3053.519401</td>\n",
       "      <td>11.543256</td>\n",
       "      <td>2021-03-18</td>\n",
       "      <td>3</td>\n",
       "      <td>6</td>\n",
       "      <td>0</td>\n",
       "      <td>199</td>\n",
       "    </tr>\n",
       "    <tr>\n",
       "      <th>14</th>\n",
       "      <td>2</td>\n",
       "      <td>Станислав</td>\n",
       "      <td>31</td>\n",
       "      <td>Омск</td>\n",
       "      <td>ultra</td>\n",
       "      <td>4029.116927</td>\n",
       "      <td>25.109188</td>\n",
       "      <td>2021-03-23</td>\n",
       "      <td>3</td>\n",
       "      <td>6</td>\n",
       "      <td>0</td>\n",
       "      <td>199</td>\n",
       "    </tr>\n",
       "    <tr>\n",
       "      <th>15</th>\n",
       "      <td>2</td>\n",
       "      <td>Станислав</td>\n",
       "      <td>31</td>\n",
       "      <td>Омск</td>\n",
       "      <td>ultra</td>\n",
       "      <td>2805.786329</td>\n",
       "      <td>20.652145</td>\n",
       "      <td>2021-04-08</td>\n",
       "      <td>4</td>\n",
       "      <td>6</td>\n",
       "      <td>0</td>\n",
       "      <td>199</td>\n",
       "    </tr>\n",
       "    <tr>\n",
       "      <th>16</th>\n",
       "      <td>2</td>\n",
       "      <td>Станислав</td>\n",
       "      <td>31</td>\n",
       "      <td>Омск</td>\n",
       "      <td>ultra</td>\n",
       "      <td>3358.595495</td>\n",
       "      <td>18.396489</td>\n",
       "      <td>2021-04-13</td>\n",
       "      <td>4</td>\n",
       "      <td>6</td>\n",
       "      <td>0</td>\n",
       "      <td>199</td>\n",
       "    </tr>\n",
       "    <tr>\n",
       "      <th>17</th>\n",
       "      <td>2</td>\n",
       "      <td>Станислав</td>\n",
       "      <td>31</td>\n",
       "      <td>Омск</td>\n",
       "      <td>ultra</td>\n",
       "      <td>3255.338202</td>\n",
       "      <td>13.851127</td>\n",
       "      <td>2021-06-20</td>\n",
       "      <td>6</td>\n",
       "      <td>6</td>\n",
       "      <td>0</td>\n",
       "      <td>199</td>\n",
       "    </tr>\n",
       "    <tr>\n",
       "      <th>18</th>\n",
       "      <td>2</td>\n",
       "      <td>Станислав</td>\n",
       "      <td>31</td>\n",
       "      <td>Омск</td>\n",
       "      <td>ultra</td>\n",
       "      <td>3942.817648</td>\n",
       "      <td>20.142725</td>\n",
       "      <td>2021-07-02</td>\n",
       "      <td>7</td>\n",
       "      <td>6</td>\n",
       "      <td>0</td>\n",
       "      <td>199</td>\n",
       "    </tr>\n",
       "    <tr>\n",
       "      <th>19</th>\n",
       "      <td>2</td>\n",
       "      <td>Станислав</td>\n",
       "      <td>31</td>\n",
       "      <td>Омск</td>\n",
       "      <td>ultra</td>\n",
       "      <td>2837.905316</td>\n",
       "      <td>26.027432</td>\n",
       "      <td>2021-07-18</td>\n",
       "      <td>7</td>\n",
       "      <td>6</td>\n",
       "      <td>0</td>\n",
       "      <td>199</td>\n",
       "    </tr>\n",
       "  </tbody>\n",
       "</table>\n",
       "</div>"
      ],
      "text/plain": [
       "    user_id       name  age    city subscription_type     distance   duration  \\\n",
       "0         1       Кира   22  Тюмень             ultra  4409.919140  25.599769   \n",
       "1         1       Кира   22  Тюмень             ultra  2617.592153  15.816871   \n",
       "2         1       Кира   22  Тюмень             ultra   754.159807   6.232113   \n",
       "3         1       Кира   22  Тюмень             ultra  2694.783254  18.511000   \n",
       "4         1       Кира   22  Тюмень             ultra  4028.687306  26.265803   \n",
       "5         1       Кира   22  Тюмень             ultra  2770.890808  16.650138   \n",
       "6         1       Кира   22  Тюмень             ultra  3039.020292  14.927879   \n",
       "7         1       Кира   22  Тюмень             ultra  2842.118050  23.117468   \n",
       "8         1       Кира   22  Тюмень             ultra  3412.690668  15.238072   \n",
       "9         1       Кира   22  Тюмень             ultra   748.690645  15.041884   \n",
       "10        1       Кира   22  Тюмень             ultra  4031.020195  17.674448   \n",
       "11        1       Кира   22  Тюмень             ultra  2720.609748   9.529463   \n",
       "12        2  Станислав   31    Омск             ultra  3105.086678  24.307514   \n",
       "13        2  Станислав   31    Омск             ultra  3053.519401  11.543256   \n",
       "14        2  Станислав   31    Омск             ultra  4029.116927  25.109188   \n",
       "15        2  Станислав   31    Омск             ultra  2805.786329  20.652145   \n",
       "16        2  Станислав   31    Омск             ultra  3358.595495  18.396489   \n",
       "17        2  Станислав   31    Омск             ultra  3255.338202  13.851127   \n",
       "18        2  Станислав   31    Омск             ultra  3942.817648  20.142725   \n",
       "19        2  Станислав   31    Омск             ultra  2837.905316  26.027432   \n",
       "\n",
       "         date  month  minute_price  start_ride_price  subscription_fee  \n",
       "0  2021-01-01      1             6                 0               199  \n",
       "1  2021-01-18      1             6                 0               199  \n",
       "2  2021-04-20      4             6                 0               199  \n",
       "3  2021-08-11      8             6                 0               199  \n",
       "4  2021-08-28      8             6                 0               199  \n",
       "5  2021-10-09     10             6                 0               199  \n",
       "6  2021-10-19     10             6                 0               199  \n",
       "7  2021-11-06     11             6                 0               199  \n",
       "8  2021-11-14     11             6                 0               199  \n",
       "9  2021-11-22     11             6                 0               199  \n",
       "10 2021-12-14     12             6                 0               199  \n",
       "11 2021-12-22     12             6                 0               199  \n",
       "12 2021-03-15      3             6                 0               199  \n",
       "13 2021-03-18      3             6                 0               199  \n",
       "14 2021-03-23      3             6                 0               199  \n",
       "15 2021-04-08      4             6                 0               199  \n",
       "16 2021-04-13      4             6                 0               199  \n",
       "17 2021-06-20      6             6                 0               199  \n",
       "18 2021-07-02      7             6                 0               199  \n",
       "19 2021-07-18      7             6                 0               199  "
      ]
     },
     "execution_count": 22,
     "metadata": {},
     "output_type": "execute_result"
    }
   ],
   "source": [
    "data = data_users.merge(data_rides, how='left', on='user_id')\n",
    "data = data.merge(data_subscriptions, how='left', on='subscription_type')\n",
    "print(\"Количество строк в объединеном датафрейме:\", data.shape[0])\n",
    "data.head(20)"
   ]
  },
  {
   "cell_type": "markdown",
   "id": "0fb81164",
   "metadata": {},
   "source": [
    "Все строки вошли в новый датафрейм - с ним можно спокойно работать дальше."
   ]
  },
  {
   "cell_type": "markdown",
   "id": "52a14bda",
   "metadata": {},
   "source": [
    "Создадим датафреймы с людьми с подписками и без подписок."
   ]
  },
  {
   "cell_type": "code",
   "execution_count": 23,
   "id": "b3ee55a0",
   "metadata": {},
   "outputs": [
    {
     "data": {
      "text/html": [
       "<div>\n",
       "<style scoped>\n",
       "    .dataframe tbody tr th:only-of-type {\n",
       "        vertical-align: middle;\n",
       "    }\n",
       "\n",
       "    .dataframe tbody tr th {\n",
       "        vertical-align: top;\n",
       "    }\n",
       "\n",
       "    .dataframe thead th {\n",
       "        text-align: right;\n",
       "    }\n",
       "</style>\n",
       "<table border=\"1\" class=\"dataframe\">\n",
       "  <thead>\n",
       "    <tr style=\"text-align: right;\">\n",
       "      <th></th>\n",
       "      <th>user_id</th>\n",
       "      <th>name</th>\n",
       "      <th>age</th>\n",
       "      <th>city</th>\n",
       "      <th>distance</th>\n",
       "      <th>duration</th>\n",
       "      <th>date</th>\n",
       "      <th>month</th>\n",
       "      <th>minute_price</th>\n",
       "      <th>start_ride_price</th>\n",
       "      <th>subscription_fee</th>\n",
       "    </tr>\n",
       "  </thead>\n",
       "  <tbody>\n",
       "    <tr>\n",
       "      <th>0</th>\n",
       "      <td>1</td>\n",
       "      <td>Кира</td>\n",
       "      <td>22</td>\n",
       "      <td>Тюмень</td>\n",
       "      <td>4409.919140</td>\n",
       "      <td>25.599769</td>\n",
       "      <td>2021-01-01</td>\n",
       "      <td>1</td>\n",
       "      <td>6</td>\n",
       "      <td>0</td>\n",
       "      <td>199</td>\n",
       "    </tr>\n",
       "    <tr>\n",
       "      <th>1</th>\n",
       "      <td>1</td>\n",
       "      <td>Кира</td>\n",
       "      <td>22</td>\n",
       "      <td>Тюмень</td>\n",
       "      <td>2617.592153</td>\n",
       "      <td>15.816871</td>\n",
       "      <td>2021-01-18</td>\n",
       "      <td>1</td>\n",
       "      <td>6</td>\n",
       "      <td>0</td>\n",
       "      <td>199</td>\n",
       "    </tr>\n",
       "    <tr>\n",
       "      <th>2</th>\n",
       "      <td>1</td>\n",
       "      <td>Кира</td>\n",
       "      <td>22</td>\n",
       "      <td>Тюмень</td>\n",
       "      <td>754.159807</td>\n",
       "      <td>6.232113</td>\n",
       "      <td>2021-04-20</td>\n",
       "      <td>4</td>\n",
       "      <td>6</td>\n",
       "      <td>0</td>\n",
       "      <td>199</td>\n",
       "    </tr>\n",
       "    <tr>\n",
       "      <th>3</th>\n",
       "      <td>1</td>\n",
       "      <td>Кира</td>\n",
       "      <td>22</td>\n",
       "      <td>Тюмень</td>\n",
       "      <td>2694.783254</td>\n",
       "      <td>18.511000</td>\n",
       "      <td>2021-08-11</td>\n",
       "      <td>8</td>\n",
       "      <td>6</td>\n",
       "      <td>0</td>\n",
       "      <td>199</td>\n",
       "    </tr>\n",
       "    <tr>\n",
       "      <th>4</th>\n",
       "      <td>1</td>\n",
       "      <td>Кира</td>\n",
       "      <td>22</td>\n",
       "      <td>Тюмень</td>\n",
       "      <td>4028.687306</td>\n",
       "      <td>26.265803</td>\n",
       "      <td>2021-08-28</td>\n",
       "      <td>8</td>\n",
       "      <td>6</td>\n",
       "      <td>0</td>\n",
       "      <td>199</td>\n",
       "    </tr>\n",
       "    <tr>\n",
       "      <th>5</th>\n",
       "      <td>1</td>\n",
       "      <td>Кира</td>\n",
       "      <td>22</td>\n",
       "      <td>Тюмень</td>\n",
       "      <td>2770.890808</td>\n",
       "      <td>16.650138</td>\n",
       "      <td>2021-10-09</td>\n",
       "      <td>10</td>\n",
       "      <td>6</td>\n",
       "      <td>0</td>\n",
       "      <td>199</td>\n",
       "    </tr>\n",
       "    <tr>\n",
       "      <th>6</th>\n",
       "      <td>1</td>\n",
       "      <td>Кира</td>\n",
       "      <td>22</td>\n",
       "      <td>Тюмень</td>\n",
       "      <td>3039.020292</td>\n",
       "      <td>14.927879</td>\n",
       "      <td>2021-10-19</td>\n",
       "      <td>10</td>\n",
       "      <td>6</td>\n",
       "      <td>0</td>\n",
       "      <td>199</td>\n",
       "    </tr>\n",
       "    <tr>\n",
       "      <th>7</th>\n",
       "      <td>1</td>\n",
       "      <td>Кира</td>\n",
       "      <td>22</td>\n",
       "      <td>Тюмень</td>\n",
       "      <td>2842.118050</td>\n",
       "      <td>23.117468</td>\n",
       "      <td>2021-11-06</td>\n",
       "      <td>11</td>\n",
       "      <td>6</td>\n",
       "      <td>0</td>\n",
       "      <td>199</td>\n",
       "    </tr>\n",
       "    <tr>\n",
       "      <th>8</th>\n",
       "      <td>1</td>\n",
       "      <td>Кира</td>\n",
       "      <td>22</td>\n",
       "      <td>Тюмень</td>\n",
       "      <td>3412.690668</td>\n",
       "      <td>15.238072</td>\n",
       "      <td>2021-11-14</td>\n",
       "      <td>11</td>\n",
       "      <td>6</td>\n",
       "      <td>0</td>\n",
       "      <td>199</td>\n",
       "    </tr>\n",
       "    <tr>\n",
       "      <th>9</th>\n",
       "      <td>1</td>\n",
       "      <td>Кира</td>\n",
       "      <td>22</td>\n",
       "      <td>Тюмень</td>\n",
       "      <td>748.690645</td>\n",
       "      <td>15.041884</td>\n",
       "      <td>2021-11-22</td>\n",
       "      <td>11</td>\n",
       "      <td>6</td>\n",
       "      <td>0</td>\n",
       "      <td>199</td>\n",
       "    </tr>\n",
       "  </tbody>\n",
       "</table>\n",
       "</div>"
      ],
      "text/plain": [
       "   user_id  name  age    city     distance   duration       date  month  \\\n",
       "0        1  Кира   22  Тюмень  4409.919140  25.599769 2021-01-01      1   \n",
       "1        1  Кира   22  Тюмень  2617.592153  15.816871 2021-01-18      1   \n",
       "2        1  Кира   22  Тюмень   754.159807   6.232113 2021-04-20      4   \n",
       "3        1  Кира   22  Тюмень  2694.783254  18.511000 2021-08-11      8   \n",
       "4        1  Кира   22  Тюмень  4028.687306  26.265803 2021-08-28      8   \n",
       "5        1  Кира   22  Тюмень  2770.890808  16.650138 2021-10-09     10   \n",
       "6        1  Кира   22  Тюмень  3039.020292  14.927879 2021-10-19     10   \n",
       "7        1  Кира   22  Тюмень  2842.118050  23.117468 2021-11-06     11   \n",
       "8        1  Кира   22  Тюмень  3412.690668  15.238072 2021-11-14     11   \n",
       "9        1  Кира   22  Тюмень   748.690645  15.041884 2021-11-22     11   \n",
       "\n",
       "   minute_price  start_ride_price  subscription_fee  \n",
       "0             6                 0               199  \n",
       "1             6                 0               199  \n",
       "2             6                 0               199  \n",
       "3             6                 0               199  \n",
       "4             6                 0               199  \n",
       "5             6                 0               199  \n",
       "6             6                 0               199  \n",
       "7             6                 0               199  \n",
       "8             6                 0               199  \n",
       "9             6                 0               199  "
      ]
     },
     "execution_count": 23,
     "metadata": {},
     "output_type": "execute_result"
    }
   ],
   "source": [
    "# с подпиской\n",
    "data_ultra = data[data['subscription_type'] == 'ultra'].copy()\n",
    "# удалим столбец с типом подписки из-за ненадобнасти\n",
    "data_ultra.drop( columns = data_ultra.columns[4], axis= 1 , inplace= True )\n",
    "data_ultra.head(10)"
   ]
  },
  {
   "cell_type": "code",
   "execution_count": 24,
   "id": "0384552f",
   "metadata": {},
   "outputs": [
    {
     "data": {
      "text/html": [
       "<div>\n",
       "<style scoped>\n",
       "    .dataframe tbody tr th:only-of-type {\n",
       "        vertical-align: middle;\n",
       "    }\n",
       "\n",
       "    .dataframe tbody tr th {\n",
       "        vertical-align: top;\n",
       "    }\n",
       "\n",
       "    .dataframe thead th {\n",
       "        text-align: right;\n",
       "    }\n",
       "</style>\n",
       "<table border=\"1\" class=\"dataframe\">\n",
       "  <thead>\n",
       "    <tr style=\"text-align: right;\">\n",
       "      <th></th>\n",
       "      <th>user_id</th>\n",
       "      <th>name</th>\n",
       "      <th>age</th>\n",
       "      <th>city</th>\n",
       "      <th>distance</th>\n",
       "      <th>duration</th>\n",
       "      <th>date</th>\n",
       "      <th>month</th>\n",
       "      <th>minute_price</th>\n",
       "      <th>start_ride_price</th>\n",
       "      <th>subscription_fee</th>\n",
       "    </tr>\n",
       "  </thead>\n",
       "  <tbody>\n",
       "    <tr>\n",
       "      <th>6500</th>\n",
       "      <td>700</td>\n",
       "      <td>Айдар</td>\n",
       "      <td>22</td>\n",
       "      <td>Омск</td>\n",
       "      <td>2515.690719</td>\n",
       "      <td>14.944286</td>\n",
       "      <td>2021-01-02</td>\n",
       "      <td>1</td>\n",
       "      <td>8</td>\n",
       "      <td>50</td>\n",
       "      <td>0</td>\n",
       "    </tr>\n",
       "    <tr>\n",
       "      <th>6501</th>\n",
       "      <td>700</td>\n",
       "      <td>Айдар</td>\n",
       "      <td>22</td>\n",
       "      <td>Омск</td>\n",
       "      <td>846.932642</td>\n",
       "      <td>16.234663</td>\n",
       "      <td>2021-02-01</td>\n",
       "      <td>2</td>\n",
       "      <td>8</td>\n",
       "      <td>50</td>\n",
       "      <td>0</td>\n",
       "    </tr>\n",
       "    <tr>\n",
       "      <th>6502</th>\n",
       "      <td>700</td>\n",
       "      <td>Айдар</td>\n",
       "      <td>22</td>\n",
       "      <td>Омск</td>\n",
       "      <td>4004.434142</td>\n",
       "      <td>20.016628</td>\n",
       "      <td>2021-02-04</td>\n",
       "      <td>2</td>\n",
       "      <td>8</td>\n",
       "      <td>50</td>\n",
       "      <td>0</td>\n",
       "    </tr>\n",
       "    <tr>\n",
       "      <th>6503</th>\n",
       "      <td>700</td>\n",
       "      <td>Айдар</td>\n",
       "      <td>22</td>\n",
       "      <td>Омск</td>\n",
       "      <td>1205.911290</td>\n",
       "      <td>9.782872</td>\n",
       "      <td>2021-02-10</td>\n",
       "      <td>2</td>\n",
       "      <td>8</td>\n",
       "      <td>50</td>\n",
       "      <td>0</td>\n",
       "    </tr>\n",
       "    <tr>\n",
       "      <th>6504</th>\n",
       "      <td>700</td>\n",
       "      <td>Айдар</td>\n",
       "      <td>22</td>\n",
       "      <td>Омск</td>\n",
       "      <td>3047.379435</td>\n",
       "      <td>17.427673</td>\n",
       "      <td>2021-02-14</td>\n",
       "      <td>2</td>\n",
       "      <td>8</td>\n",
       "      <td>50</td>\n",
       "      <td>0</td>\n",
       "    </tr>\n",
       "    <tr>\n",
       "      <th>6505</th>\n",
       "      <td>700</td>\n",
       "      <td>Айдар</td>\n",
       "      <td>22</td>\n",
       "      <td>Омск</td>\n",
       "      <td>4342.002254</td>\n",
       "      <td>22.368009</td>\n",
       "      <td>2021-02-23</td>\n",
       "      <td>2</td>\n",
       "      <td>8</td>\n",
       "      <td>50</td>\n",
       "      <td>0</td>\n",
       "    </tr>\n",
       "    <tr>\n",
       "      <th>6506</th>\n",
       "      <td>700</td>\n",
       "      <td>Айдар</td>\n",
       "      <td>22</td>\n",
       "      <td>Омск</td>\n",
       "      <td>3798.334905</td>\n",
       "      <td>18.243756</td>\n",
       "      <td>2021-03-03</td>\n",
       "      <td>3</td>\n",
       "      <td>8</td>\n",
       "      <td>50</td>\n",
       "      <td>0</td>\n",
       "    </tr>\n",
       "    <tr>\n",
       "      <th>6507</th>\n",
       "      <td>700</td>\n",
       "      <td>Айдар</td>\n",
       "      <td>22</td>\n",
       "      <td>Омск</td>\n",
       "      <td>2984.551206</td>\n",
       "      <td>15.424899</td>\n",
       "      <td>2021-04-09</td>\n",
       "      <td>4</td>\n",
       "      <td>8</td>\n",
       "      <td>50</td>\n",
       "      <td>0</td>\n",
       "    </tr>\n",
       "    <tr>\n",
       "      <th>6508</th>\n",
       "      <td>700</td>\n",
       "      <td>Айдар</td>\n",
       "      <td>22</td>\n",
       "      <td>Омск</td>\n",
       "      <td>3360.107141</td>\n",
       "      <td>16.765497</td>\n",
       "      <td>2021-06-12</td>\n",
       "      <td>6</td>\n",
       "      <td>8</td>\n",
       "      <td>50</td>\n",
       "      <td>0</td>\n",
       "    </tr>\n",
       "    <tr>\n",
       "      <th>6509</th>\n",
       "      <td>700</td>\n",
       "      <td>Айдар</td>\n",
       "      <td>22</td>\n",
       "      <td>Омск</td>\n",
       "      <td>2567.543847</td>\n",
       "      <td>11.312160</td>\n",
       "      <td>2021-06-23</td>\n",
       "      <td>6</td>\n",
       "      <td>8</td>\n",
       "      <td>50</td>\n",
       "      <td>0</td>\n",
       "    </tr>\n",
       "  </tbody>\n",
       "</table>\n",
       "</div>"
      ],
      "text/plain": [
       "      user_id   name  age  city     distance   duration       date  month  \\\n",
       "6500      700  Айдар   22  Омск  2515.690719  14.944286 2021-01-02      1   \n",
       "6501      700  Айдар   22  Омск   846.932642  16.234663 2021-02-01      2   \n",
       "6502      700  Айдар   22  Омск  4004.434142  20.016628 2021-02-04      2   \n",
       "6503      700  Айдар   22  Омск  1205.911290   9.782872 2021-02-10      2   \n",
       "6504      700  Айдар   22  Омск  3047.379435  17.427673 2021-02-14      2   \n",
       "6505      700  Айдар   22  Омск  4342.002254  22.368009 2021-02-23      2   \n",
       "6506      700  Айдар   22  Омск  3798.334905  18.243756 2021-03-03      3   \n",
       "6507      700  Айдар   22  Омск  2984.551206  15.424899 2021-04-09      4   \n",
       "6508      700  Айдар   22  Омск  3360.107141  16.765497 2021-06-12      6   \n",
       "6509      700  Айдар   22  Омск  2567.543847  11.312160 2021-06-23      6   \n",
       "\n",
       "      minute_price  start_ride_price  subscription_fee  \n",
       "6500             8                50                 0  \n",
       "6501             8                50                 0  \n",
       "6502             8                50                 0  \n",
       "6503             8                50                 0  \n",
       "6504             8                50                 0  \n",
       "6505             8                50                 0  \n",
       "6506             8                50                 0  \n",
       "6507             8                50                 0  \n",
       "6508             8                50                 0  \n",
       "6509             8                50                 0  "
      ]
     },
     "execution_count": 24,
     "metadata": {},
     "output_type": "execute_result"
    }
   ],
   "source": [
    "# без подписки\n",
    "data_free = data[data['subscription_type'] == 'free'].copy()\n",
    "# удалим столбец с типом подписки из-за ненадобнасти\n",
    "data_free.drop( columns = data_free.columns[4], axis= 1 , inplace= True)\n",
    "data_free.head(10)"
   ]
  },
  {
   "cell_type": "markdown",
   "id": "55b0012b",
   "metadata": {},
   "source": [
    "**Исследуем время и расстояния для каждого типа подписок**"
   ]
  },
  {
   "cell_type": "markdown",
   "id": "722afffd",
   "metadata": {},
   "source": [
    "**Без подписки**"
   ]
  },
  {
   "cell_type": "code",
   "execution_count": 25,
   "id": "c1e7d155",
   "metadata": {},
   "outputs": [
    {
     "data": {
      "text/plain": [
       "count    11568.000000\n",
       "mean        17.390909\n",
       "std          6.326803\n",
       "min          0.500000\n",
       "25%         12.958437\n",
       "50%         17.326890\n",
       "75%         21.594071\n",
       "max         34.948498\n",
       "Name: duration, dtype: float64"
      ]
     },
     "execution_count": 25,
     "metadata": {},
     "output_type": "execute_result"
    },
    {
     "data": {
      "image/png": "[encoded data removed]",
      "text/plain": [
       "<Figure size 432x288 with 1 Axes>"
      ]
     },
     "metadata": {
      "needs_background": "light"
     },
     "output_type": "display_data"
    }
   ],
   "source": [
    "# время поездки\n",
    "data_free.plot(y = 'duration', kind = 'hist', grid=True)\n",
    "data_free['duration'].describe()"
   ]
  },
  {
   "cell_type": "markdown",
   "id": "f8700333",
   "metadata": {},
   "source": [
    "Время распределено нормально. В среднем одна поездка составляет 17 минут, общий диапазон поездки от 13 до 22 минут. Значения такие же как и у совместных данных."
   ]
  },
  {
   "cell_type": "code",
   "execution_count": 26,
   "id": "904c6ff4",
   "metadata": {},
   "outputs": [
    {
     "data": {
      "text/plain": [
       "count    11568.000000\n",
       "mean      3045.495282\n",
       "std       1246.173806\n",
       "min          0.855683\n",
       "25%       2366.562689\n",
       "50%       3114.648465\n",
       "75%       3905.697894\n",
       "max       7211.007745\n",
       "Name: distance, dtype: float64"
      ]
     },
     "execution_count": 26,
     "metadata": {},
     "output_type": "execute_result"
    },
    {
     "data": {
      "image/png": "[encoded data removed]",
      "text/plain": [
       "<Figure size 864x216 with 1 Axes>"
      ]
     },
     "metadata": {
      "needs_background": "light"
     },
     "output_type": "display_data"
    }
   ],
   "source": [
    "# расстояние\n",
    "data_free.plot(y = 'distance',bins = 100 , kind = 'hist', grid=True, figsize = (12, 3))\n",
    "data_free['distance'].describe()"
   ]
  },
  {
   "cell_type": "markdown",
   "id": "0e98b184",
   "metadata": {},
   "source": [
    "Распределение поездок как и в случае с общими данными является бимодальным, поэтому рассмотри отдельно обе волны."
   ]
  },
  {
   "cell_type": "code",
   "execution_count": 27,
   "id": "94898722",
   "metadata": {},
   "outputs": [
    {
     "data": {
      "text/plain": [
       "count    1328.000000\n",
       "mean      615.268565\n",
       "std       356.778232\n",
       "min         0.855683\n",
       "25%       331.562716\n",
       "50%       587.754139\n",
       "75%       854.607332\n",
       "max      1499.565830\n",
       "Name: distance, dtype: float64"
      ]
     },
     "execution_count": 27,
     "metadata": {},
     "output_type": "execute_result"
    },
    {
     "data": {
      "image/png": "[encoded data removed]",
      "text/plain": [
       "<Figure size 864x216 with 1 Axes>"
      ]
     },
     "metadata": {
      "needs_background": "light"
     },
     "output_type": "display_data"
    }
   ],
   "source": [
    "# короткие поездки\n",
    "short_free = data_free[data_free['distance'] < 1500]\n",
    "short_free.plot(y = 'distance',bins = 100 , kind = 'hist', grid=True, figsize = (12, 3))\n",
    "short_free['distance'].describe()"
   ]
  },
  {
   "cell_type": "markdown",
   "id": "d9fe5db6",
   "metadata": {},
   "source": [
    "По графику видно, что есть довольно много как резких всплесков, так и падений. В среднем одна такая поездка составляет 615 метра, основной диапазон это поездки от 332 до 855 метров."
   ]
  },
  {
   "cell_type": "code",
   "execution_count": 28,
   "id": "3e0f2535",
   "metadata": {},
   "outputs": [
    {
     "data": {
      "text/plain": [
       "count    10240.000000\n",
       "mean      3360.665309\n",
       "std        934.086961\n",
       "min       1502.431070\n",
       "25%       2612.511671\n",
       "50%       3293.417470\n",
       "75%       4012.566738\n",
       "max       7211.007745\n",
       "Name: distance, dtype: float64"
      ]
     },
     "execution_count": 28,
     "metadata": {},
     "output_type": "execute_result"
    },
    {
     "data": {
      "image/png": "[encoded data removed]",
      "text/plain": [
       "<Figure size 864x216 with 1 Axes>"
      ]
     },
     "metadata": {
      "needs_background": "light"
     },
     "output_type": "display_data"
    }
   ],
   "source": [
    "# длинные поездки\n",
    "long_free = data_free[data_free['distance'] >= 1500]\n",
    "long_free.plot(y = 'distance',bins = 100 , kind = 'hist', grid=True, figsize = (12, 3))\n",
    "long_free['distance'].describe()"
   ]
  },
  {
   "cell_type": "markdown",
   "id": "09db893a",
   "metadata": {},
   "source": [
    "Длинные поездки имею распредение Пуассона. Имеются всплески значений.\n",
    "В среднем одна поездка составляет 3360 метров, а основной диапазон это поездки от 2613 до 4013 метров.\n",
    "Очень редкими можно назвать поездки свыше 6,5 км, они практически не встречаются в данных."
   ]
  },
  {
   "cell_type": "markdown",
   "id": "b946ac4f",
   "metadata": {},
   "source": [
    "**С подпиской**"
   ]
  },
  {
   "cell_type": "code",
   "execution_count": 29,
   "id": "90a1c81e",
   "metadata": {},
   "outputs": [
    {
     "data": {
      "text/plain": [
       "count    6500.000000\n",
       "mean       18.541985\n",
       "std         5.572048\n",
       "min         3.760353\n",
       "25%        14.524654\n",
       "50%        18.178153\n",
       "75%        21.884129\n",
       "max        40.823963\n",
       "Name: duration, dtype: float64"
      ]
     },
     "execution_count": 29,
     "metadata": {},
     "output_type": "execute_result"
    },
    {
     "data": {
      "image/png": "[encoded data removed]",
      "text/plain": [
       "<Figure size 432x288 with 1 Axes>"
      ]
     },
     "metadata": {
      "needs_background": "light"
     },
     "output_type": "display_data"
    }
   ],
   "source": [
    "# время поездки\n",
    "data_ultra.plot(y = 'duration', kind = 'hist', grid=True)\n",
    "data_ultra['duration'].describe()"
   ]
  },
  {
   "cell_type": "markdown",
   "id": "366cc711",
   "metadata": {},
   "source": [
    "Время распределено нормально с небольшим смещением. В среднем одна поездка составляет 19 минут, общий диапазон поездки от 15 до 22 минут."
   ]
  },
  {
   "cell_type": "code",
   "execution_count": 30,
   "id": "728d2f65",
   "metadata": {},
   "outputs": [
    {
     "data": {
      "text/plain": [
       "count    6500.000000\n",
       "mean     3115.445388\n",
       "std       836.895330\n",
       "min       244.210438\n",
       "25%      2785.444017\n",
       "50%      3148.637229\n",
       "75%      3560.574425\n",
       "max      5699.769662\n",
       "Name: distance, dtype: float64"
      ]
     },
     "execution_count": 30,
     "metadata": {},
     "output_type": "execute_result"
    },
    {
     "data": {
      "image/png": "[encoded data removed]",
      "text/plain": [
       "<Figure size 864x216 with 1 Axes>"
      ]
     },
     "metadata": {
      "needs_background": "light"
     },
     "output_type": "display_data"
    }
   ],
   "source": [
    "# расстояние\n",
    "data_ultra.plot(y = 'distance',bins = 100 , kind = 'hist', grid=True, figsize = (12, 3))\n",
    "data_ultra['distance'].describe()"
   ]
  },
  {
   "cell_type": "markdown",
   "id": "5e0e4d32",
   "metadata": {},
   "source": [
    "Распределение поездок как и в случае с общими данными является бимодальным, хотя видно, что второй пик значительно превышает певый, поэтому рассмотри отдельно обе волны."
   ]
  },
  {
   "cell_type": "code",
   "execution_count": 31,
   "id": "e3aea797",
   "metadata": {},
   "outputs": [
    {
     "data": {
      "text/plain": [
       "count     468.000000\n",
       "mean      955.361714\n",
       "std       272.247450\n",
       "min       244.210438\n",
       "25%       738.709111\n",
       "50%       959.995200\n",
       "75%      1160.850269\n",
       "max      1496.907516\n",
       "Name: distance, dtype: float64"
      ]
     },
     "execution_count": 31,
     "metadata": {},
     "output_type": "execute_result"
    },
    {
     "data": {
      "image/png": "[encoded data removed]",
      "text/plain": [
       "<Figure size 864x216 with 1 Axes>"
      ]
     },
     "metadata": {
      "needs_background": "light"
     },
     "output_type": "display_data"
    }
   ],
   "source": [
    "# короткие поездки\n",
    "short_ultra = data_ultra[data_ultra['distance'] < 1500]\n",
    "short_ultra.plot(y = 'distance',bins = 100 , kind = 'hist', grid=True, figsize = (12, 3))\n",
    "short_ultra['distance'].describe()"
   ]
  },
  {
   "cell_type": "markdown",
   "id": "0b01b45f",
   "metadata": {},
   "source": [
    "По графику видно, что есть довольно много как резких всплесков, так и падений. Выделяются всплески в районе 200-400 метров. В среднем одна такая поездка составляет 955 метров, основной диапазон это поездки от 739 до 1161 метров."
   ]
  },
  {
   "cell_type": "code",
   "execution_count": 32,
   "id": "ed00be42",
   "metadata": {},
   "outputs": [
    {
     "data": {
      "text/plain": [
       "count    6032.000000\n",
       "mean     3283.038087\n",
       "std       599.031053\n",
       "min      1507.089621\n",
       "25%      2873.655690\n",
       "50%      3191.201785\n",
       "75%      3616.466838\n",
       "max      5699.769662\n",
       "Name: distance, dtype: float64"
      ]
     },
     "execution_count": 32,
     "metadata": {},
     "output_type": "execute_result"
    },
    {
     "data": {
      "image/png": "[encoded data removed]",
      "text/plain": [
       "<Figure size 864x216 with 1 Axes>"
      ]
     },
     "metadata": {
      "needs_background": "light"
     },
     "output_type": "display_data"
    }
   ],
   "source": [
    "# длинные поездки\n",
    "long_ultra = data_ultra[data_ultra['distance'] >= 1500]\n",
    "long_ultra.plot(y = 'distance',bins = 100 , kind = 'hist', grid=True, figsize = (12, 3))\n",
    "long_ultra['distance'].describe()"
   ]
  },
  {
   "cell_type": "markdown",
   "id": "06aa9996",
   "metadata": {},
   "source": [
    "Длинные поездки имею распредение Пуассона. Имеются всплески значений в районе 4 км. В среднем одна поездка составляет 3283 метров, а основной диапазон это поездки от 2874 до 3616 метров. Очень редкими можно назвать поездки свыше 5 км, они практически не встречаются в данных."
   ]
  },
  {
   "cell_type": "markdown",
   "id": "0149d9e9",
   "metadata": {},
   "source": [
    "**Вывод этапа**:\n",
    "Был создан датафрейм с общими данными `data`, и два датафрейма с данными по пользователям с подпиской `data_ultra` и без `data_free`.\n",
    "\n",
    "Проведенный анализ расстояний и времени поездок по пользователям с подпиской и без показал:\n",
    "- Время поездок у разных пользователей практически никак не отличается: без подписки 13-22 минуты, с подпиской 15-22 (лишь немного больше).\n",
    "- В среднем короткие поездки у бользователей с подпиской длиннее (от 739 до 1161 метров), когда как у людей без подписки от 332 до 855 метров.\n",
    "- Длинные поездки имеют незначительные отличия в среднем: без подписки от 2613 до 4013, с подпиской от 2874 до 3616 метров (лишь немного больше).\n",
    "- Замечено, что пользователи без подписки могут проезжать намного большие расстояния, чем пользователи с ней. Без подписки редко встречаются значения более 6 километров, тогда как у людей с подпиской таких значений вообще нет."
   ]
  },
  {
   "cell_type": "markdown",
   "id": "402d620f",
   "metadata": {},
   "source": [
    "## Подсчёт выручки"
   ]
  },
  {
   "cell_type": "markdown",
   "id": "b1cd0baf",
   "metadata": {},
   "source": [
    "Создадим новый датафрейм для выручки."
   ]
  },
  {
   "cell_type": "code",
   "execution_count": 33,
   "id": "53049e0a",
   "metadata": {},
   "outputs": [
    {
     "data": {
      "text/html": [
       "<div>\n",
       "<style scoped>\n",
       "    .dataframe tbody tr th:only-of-type {\n",
       "        vertical-align: middle;\n",
       "    }\n",
       "\n",
       "    .dataframe tbody tr th {\n",
       "        vertical-align: top;\n",
       "    }\n",
       "\n",
       "    .dataframe thead th {\n",
       "        text-align: right;\n",
       "    }\n",
       "</style>\n",
       "<table border=\"1\" class=\"dataframe\">\n",
       "  <thead>\n",
       "    <tr style=\"text-align: right;\">\n",
       "      <th></th>\n",
       "      <th>user_id</th>\n",
       "      <th>name</th>\n",
       "      <th>subscription_type</th>\n",
       "      <th>month</th>\n",
       "      <th>distance_sum</th>\n",
       "      <th>duration_sum</th>\n",
       "      <th>trips</th>\n",
       "    </tr>\n",
       "  </thead>\n",
       "  <tbody>\n",
       "    <tr>\n",
       "      <th>0</th>\n",
       "      <td>1</td>\n",
       "      <td>Кира</td>\n",
       "      <td>ultra</td>\n",
       "      <td>1</td>\n",
       "      <td>7027.511294</td>\n",
       "      <td>41.416640</td>\n",
       "      <td>2</td>\n",
       "    </tr>\n",
       "    <tr>\n",
       "      <th>1</th>\n",
       "      <td>1</td>\n",
       "      <td>Кира</td>\n",
       "      <td>ultra</td>\n",
       "      <td>4</td>\n",
       "      <td>754.159807</td>\n",
       "      <td>6.232113</td>\n",
       "      <td>1</td>\n",
       "    </tr>\n",
       "    <tr>\n",
       "      <th>2</th>\n",
       "      <td>1</td>\n",
       "      <td>Кира</td>\n",
       "      <td>ultra</td>\n",
       "      <td>8</td>\n",
       "      <td>6723.470560</td>\n",
       "      <td>44.776802</td>\n",
       "      <td>2</td>\n",
       "    </tr>\n",
       "    <tr>\n",
       "      <th>3</th>\n",
       "      <td>1</td>\n",
       "      <td>Кира</td>\n",
       "      <td>ultra</td>\n",
       "      <td>10</td>\n",
       "      <td>5809.911100</td>\n",
       "      <td>31.578017</td>\n",
       "      <td>2</td>\n",
       "    </tr>\n",
       "    <tr>\n",
       "      <th>4</th>\n",
       "      <td>1</td>\n",
       "      <td>Кира</td>\n",
       "      <td>ultra</td>\n",
       "      <td>11</td>\n",
       "      <td>7003.499363</td>\n",
       "      <td>53.397424</td>\n",
       "      <td>3</td>\n",
       "    </tr>\n",
       "    <tr>\n",
       "      <th>5</th>\n",
       "      <td>1</td>\n",
       "      <td>Кира</td>\n",
       "      <td>ultra</td>\n",
       "      <td>12</td>\n",
       "      <td>6751.629942</td>\n",
       "      <td>27.203912</td>\n",
       "      <td>2</td>\n",
       "    </tr>\n",
       "    <tr>\n",
       "      <th>6</th>\n",
       "      <td>2</td>\n",
       "      <td>Станислав</td>\n",
       "      <td>ultra</td>\n",
       "      <td>3</td>\n",
       "      <td>10187.723006</td>\n",
       "      <td>60.959959</td>\n",
       "      <td>3</td>\n",
       "    </tr>\n",
       "    <tr>\n",
       "      <th>7</th>\n",
       "      <td>2</td>\n",
       "      <td>Станислав</td>\n",
       "      <td>ultra</td>\n",
       "      <td>4</td>\n",
       "      <td>6164.381824</td>\n",
       "      <td>39.048633</td>\n",
       "      <td>2</td>\n",
       "    </tr>\n",
       "    <tr>\n",
       "      <th>8</th>\n",
       "      <td>2</td>\n",
       "      <td>Станислав</td>\n",
       "      <td>ultra</td>\n",
       "      <td>6</td>\n",
       "      <td>3255.338202</td>\n",
       "      <td>13.851127</td>\n",
       "      <td>1</td>\n",
       "    </tr>\n",
       "    <tr>\n",
       "      <th>9</th>\n",
       "      <td>2</td>\n",
       "      <td>Станислав</td>\n",
       "      <td>ultra</td>\n",
       "      <td>7</td>\n",
       "      <td>6780.722964</td>\n",
       "      <td>46.170157</td>\n",
       "      <td>2</td>\n",
       "    </tr>\n",
       "  </tbody>\n",
       "</table>\n",
       "</div>"
      ],
      "text/plain": [
       "   user_id       name subscription_type  month  distance_sum  duration_sum  \\\n",
       "0        1       Кира             ultra      1   7027.511294     41.416640   \n",
       "1        1       Кира             ultra      4    754.159807      6.232113   \n",
       "2        1       Кира             ultra      8   6723.470560     44.776802   \n",
       "3        1       Кира             ultra     10   5809.911100     31.578017   \n",
       "4        1       Кира             ultra     11   7003.499363     53.397424   \n",
       "5        1       Кира             ultra     12   6751.629942     27.203912   \n",
       "6        2  Станислав             ultra      3  10187.723006     60.959959   \n",
       "7        2  Станислав             ultra      4   6164.381824     39.048633   \n",
       "8        2  Станислав             ultra      6   3255.338202     13.851127   \n",
       "9        2  Станислав             ultra      7   6780.722964     46.170157   \n",
       "\n",
       "   trips  \n",
       "0      2  \n",
       "1      1  \n",
       "2      2  \n",
       "3      2  \n",
       "4      3  \n",
       "5      2  \n",
       "6      3  \n",
       "7      2  \n",
       "8      1  \n",
       "9      2  "
      ]
     },
     "execution_count": 33,
     "metadata": {},
     "output_type": "execute_result"
    }
   ],
   "source": [
    "data_income = data.pivot_table(index = ['user_id','name','subscription_type','month'],\n",
    "                               values = ['distance','duration'], aggfunc = ['sum','count'])\n",
    "data_income = data_income.drop(columns = ('count', 'duration'))\n",
    "data_income.columns = ('distance_sum','duration_sum','trips')\n",
    "data_income = data_income.reset_index()\n",
    "data_income.head(10)"
   ]
  },
  {
   "cell_type": "markdown",
   "id": "a18a11d1",
   "metadata": {},
   "source": [
    "Добавим столбец с помесячной выручкой."
   ]
  },
  {
   "cell_type": "code",
   "execution_count": 34,
   "id": "9b1a8711",
   "metadata": {},
   "outputs": [
    {
     "data": {
      "text/html": [
       "<div>\n",
       "<style scoped>\n",
       "    .dataframe tbody tr th:only-of-type {\n",
       "        vertical-align: middle;\n",
       "    }\n",
       "\n",
       "    .dataframe tbody tr th {\n",
       "        vertical-align: top;\n",
       "    }\n",
       "\n",
       "    .dataframe thead th {\n",
       "        text-align: right;\n",
       "    }\n",
       "</style>\n",
       "<table border=\"1\" class=\"dataframe\">\n",
       "  <thead>\n",
       "    <tr style=\"text-align: right;\">\n",
       "      <th></th>\n",
       "      <th>user_id</th>\n",
       "      <th>name</th>\n",
       "      <th>subscription_type</th>\n",
       "      <th>month</th>\n",
       "      <th>distance_sum</th>\n",
       "      <th>duration_sum</th>\n",
       "      <th>trips</th>\n",
       "      <th>month_income</th>\n",
       "    </tr>\n",
       "  </thead>\n",
       "  <tbody>\n",
       "    <tr>\n",
       "      <th>0</th>\n",
       "      <td>1</td>\n",
       "      <td>Кира</td>\n",
       "      <td>ultra</td>\n",
       "      <td>1</td>\n",
       "      <td>7027.511294</td>\n",
       "      <td>41.416640</td>\n",
       "      <td>2</td>\n",
       "      <td>449.499843</td>\n",
       "    </tr>\n",
       "    <tr>\n",
       "      <th>1</th>\n",
       "      <td>1</td>\n",
       "      <td>Кира</td>\n",
       "      <td>ultra</td>\n",
       "      <td>4</td>\n",
       "      <td>754.159807</td>\n",
       "      <td>6.232113</td>\n",
       "      <td>1</td>\n",
       "      <td>237.392681</td>\n",
       "    </tr>\n",
       "    <tr>\n",
       "      <th>2</th>\n",
       "      <td>1</td>\n",
       "      <td>Кира</td>\n",
       "      <td>ultra</td>\n",
       "      <td>8</td>\n",
       "      <td>6723.470560</td>\n",
       "      <td>44.776802</td>\n",
       "      <td>2</td>\n",
       "      <td>469.660815</td>\n",
       "    </tr>\n",
       "    <tr>\n",
       "      <th>3</th>\n",
       "      <td>1</td>\n",
       "      <td>Кира</td>\n",
       "      <td>ultra</td>\n",
       "      <td>10</td>\n",
       "      <td>5809.911100</td>\n",
       "      <td>31.578017</td>\n",
       "      <td>2</td>\n",
       "      <td>390.468102</td>\n",
       "    </tr>\n",
       "    <tr>\n",
       "      <th>4</th>\n",
       "      <td>1</td>\n",
       "      <td>Кира</td>\n",
       "      <td>ultra</td>\n",
       "      <td>11</td>\n",
       "      <td>7003.499363</td>\n",
       "      <td>53.397424</td>\n",
       "      <td>3</td>\n",
       "      <td>522.384541</td>\n",
       "    </tr>\n",
       "    <tr>\n",
       "      <th>5</th>\n",
       "      <td>1</td>\n",
       "      <td>Кира</td>\n",
       "      <td>ultra</td>\n",
       "      <td>12</td>\n",
       "      <td>6751.629942</td>\n",
       "      <td>27.203912</td>\n",
       "      <td>2</td>\n",
       "      <td>364.223471</td>\n",
       "    </tr>\n",
       "    <tr>\n",
       "      <th>6</th>\n",
       "      <td>2</td>\n",
       "      <td>Станислав</td>\n",
       "      <td>ultra</td>\n",
       "      <td>3</td>\n",
       "      <td>10187.723006</td>\n",
       "      <td>60.959959</td>\n",
       "      <td>3</td>\n",
       "      <td>567.759752</td>\n",
       "    </tr>\n",
       "    <tr>\n",
       "      <th>7</th>\n",
       "      <td>2</td>\n",
       "      <td>Станислав</td>\n",
       "      <td>ultra</td>\n",
       "      <td>4</td>\n",
       "      <td>6164.381824</td>\n",
       "      <td>39.048633</td>\n",
       "      <td>2</td>\n",
       "      <td>435.291800</td>\n",
       "    </tr>\n",
       "    <tr>\n",
       "      <th>8</th>\n",
       "      <td>2</td>\n",
       "      <td>Станислав</td>\n",
       "      <td>ultra</td>\n",
       "      <td>6</td>\n",
       "      <td>3255.338202</td>\n",
       "      <td>13.851127</td>\n",
       "      <td>1</td>\n",
       "      <td>283.106764</td>\n",
       "    </tr>\n",
       "    <tr>\n",
       "      <th>9</th>\n",
       "      <td>2</td>\n",
       "      <td>Станислав</td>\n",
       "      <td>ultra</td>\n",
       "      <td>7</td>\n",
       "      <td>6780.722964</td>\n",
       "      <td>46.170157</td>\n",
       "      <td>2</td>\n",
       "      <td>478.020944</td>\n",
       "    </tr>\n",
       "    <tr>\n",
       "      <th>10</th>\n",
       "      <td>2</td>\n",
       "      <td>Станислав</td>\n",
       "      <td>ultra</td>\n",
       "      <td>8</td>\n",
       "      <td>923.007439</td>\n",
       "      <td>6.914760</td>\n",
       "      <td>1</td>\n",
       "      <td>241.488562</td>\n",
       "    </tr>\n",
       "    <tr>\n",
       "      <th>11</th>\n",
       "      <td>2</td>\n",
       "      <td>Станислав</td>\n",
       "      <td>ultra</td>\n",
       "      <td>10</td>\n",
       "      <td>2824.636598</td>\n",
       "      <td>18.779128</td>\n",
       "      <td>1</td>\n",
       "      <td>312.674767</td>\n",
       "    </tr>\n",
       "    <tr>\n",
       "      <th>12</th>\n",
       "      <td>2</td>\n",
       "      <td>Станислав</td>\n",
       "      <td>ultra</td>\n",
       "      <td>12</td>\n",
       "      <td>3828.248580</td>\n",
       "      <td>11.920514</td>\n",
       "      <td>1</td>\n",
       "      <td>271.523086</td>\n",
       "    </tr>\n",
       "    <tr>\n",
       "      <th>13</th>\n",
       "      <td>3</td>\n",
       "      <td>Алексей</td>\n",
       "      <td>ultra</td>\n",
       "      <td>1</td>\n",
       "      <td>3061.777147</td>\n",
       "      <td>12.654443</td>\n",
       "      <td>1</td>\n",
       "      <td>275.926657</td>\n",
       "    </tr>\n",
       "    <tr>\n",
       "      <th>14</th>\n",
       "      <td>3</td>\n",
       "      <td>Алексей</td>\n",
       "      <td>ultra</td>\n",
       "      <td>2</td>\n",
       "      <td>5421.152016</td>\n",
       "      <td>37.568637</td>\n",
       "      <td>2</td>\n",
       "      <td>426.411823</td>\n",
       "    </tr>\n",
       "    <tr>\n",
       "      <th>15</th>\n",
       "      <td>3</td>\n",
       "      <td>Алексей</td>\n",
       "      <td>ultra</td>\n",
       "      <td>4</td>\n",
       "      <td>2956.651632</td>\n",
       "      <td>20.671364</td>\n",
       "      <td>1</td>\n",
       "      <td>324.028185</td>\n",
       "    </tr>\n",
       "    <tr>\n",
       "      <th>16</th>\n",
       "      <td>3</td>\n",
       "      <td>Алексей</td>\n",
       "      <td>ultra</td>\n",
       "      <td>5</td>\n",
       "      <td>9064.026918</td>\n",
       "      <td>61.404503</td>\n",
       "      <td>3</td>\n",
       "      <td>570.427016</td>\n",
       "    </tr>\n",
       "    <tr>\n",
       "      <th>17</th>\n",
       "      <td>3</td>\n",
       "      <td>Алексей</td>\n",
       "      <td>ultra</td>\n",
       "      <td>7</td>\n",
       "      <td>10919.595403</td>\n",
       "      <td>65.519784</td>\n",
       "      <td>3</td>\n",
       "      <td>595.118705</td>\n",
       "    </tr>\n",
       "    <tr>\n",
       "      <th>18</th>\n",
       "      <td>3</td>\n",
       "      <td>Алексей</td>\n",
       "      <td>ultra</td>\n",
       "      <td>9</td>\n",
       "      <td>2891.012822</td>\n",
       "      <td>22.390055</td>\n",
       "      <td>1</td>\n",
       "      <td>334.340330</td>\n",
       "    </tr>\n",
       "    <tr>\n",
       "      <th>19</th>\n",
       "      <td>3</td>\n",
       "      <td>Алексей</td>\n",
       "      <td>ultra</td>\n",
       "      <td>12</td>\n",
       "      <td>2593.381928</td>\n",
       "      <td>12.984728</td>\n",
       "      <td>1</td>\n",
       "      <td>277.908365</td>\n",
       "    </tr>\n",
       "  </tbody>\n",
       "</table>\n",
       "</div>"
      ],
      "text/plain": [
       "    user_id       name subscription_type  month  distance_sum  duration_sum  \\\n",
       "0         1       Кира             ultra      1   7027.511294     41.416640   \n",
       "1         1       Кира             ultra      4    754.159807      6.232113   \n",
       "2         1       Кира             ultra      8   6723.470560     44.776802   \n",
       "3         1       Кира             ultra     10   5809.911100     31.578017   \n",
       "4         1       Кира             ultra     11   7003.499363     53.397424   \n",
       "5         1       Кира             ultra     12   6751.629942     27.203912   \n",
       "6         2  Станислав             ultra      3  10187.723006     60.959959   \n",
       "7         2  Станислав             ultra      4   6164.381824     39.048633   \n",
       "8         2  Станислав             ultra      6   3255.338202     13.851127   \n",
       "9         2  Станислав             ultra      7   6780.722964     46.170157   \n",
       "10        2  Станислав             ultra      8    923.007439      6.914760   \n",
       "11        2  Станислав             ultra     10   2824.636598     18.779128   \n",
       "12        2  Станислав             ultra     12   3828.248580     11.920514   \n",
       "13        3    Алексей             ultra      1   3061.777147     12.654443   \n",
       "14        3    Алексей             ultra      2   5421.152016     37.568637   \n",
       "15        3    Алексей             ultra      4   2956.651632     20.671364   \n",
       "16        3    Алексей             ultra      5   9064.026918     61.404503   \n",
       "17        3    Алексей             ultra      7  10919.595403     65.519784   \n",
       "18        3    Алексей             ultra      9   2891.012822     22.390055   \n",
       "19        3    Алексей             ultra     12   2593.381928     12.984728   \n",
       "\n",
       "    trips  month_income  \n",
       "0       2    449.499843  \n",
       "1       1    237.392681  \n",
       "2       2    469.660815  \n",
       "3       2    390.468102  \n",
       "4       3    522.384541  \n",
       "5       2    364.223471  \n",
       "6       3    567.759752  \n",
       "7       2    435.291800  \n",
       "8       1    283.106764  \n",
       "9       2    478.020944  \n",
       "10      1    241.488562  \n",
       "11      1    312.674767  \n",
       "12      1    271.523086  \n",
       "13      1    275.926657  \n",
       "14      2    426.411823  \n",
       "15      1    324.028185  \n",
       "16      3    570.427016  \n",
       "17      3    595.118705  \n",
       "18      1    334.340330  \n",
       "19      1    277.908365  "
      ]
     },
     "execution_count": 34,
     "metadata": {},
     "output_type": "execute_result"
    }
   ],
   "source": [
    "data_income['month_income'] = np.where(data_income['subscription_type']=='ultra', data_income['trips'] + 6*data_income['duration_sum'] + 199, 50*data_income['trips'] + 8*data_income['duration_sum'])\n",
    "data_income.head(20)"
   ]
  },
  {
   "cell_type": "markdown",
   "id": "8f40ae66",
   "metadata": {},
   "source": [
    "**Вывод этапа**:\n",
    "Был создан датафрейм с объединеными данными по пользователям `data_income`, и создан столбец *month_income* содержащий значение выручки кокретного пользователя в конкретный месяц."
   ]
  },
  {
   "cell_type": "markdown",
   "id": "41545ac0",
   "metadata": {},
   "source": [
    "## Проверка гипотез"
   ]
  },
  {
   "cell_type": "markdown",
   "id": "d00216a9",
   "metadata": {},
   "source": [
    "### Гипотеза 1\n",
    "\n",
    "Проверим гипотезу \"Пользователи с подпиской катаются дольше пользователей без подписки\". \n",
    "\n",
    "**Н0**: \"Пользователи с подпиской катаются столько же, сколько и пользователеи без подписки\". <br>\n",
    "**H1**: \"Пользователи с подпиской катаются больше пользователей без подписки\"\n",
    "\n",
    "Значение критического уровня вероятности (альфа) примем равным 5%."
   ]
  },
  {
   "cell_type": "code",
   "execution_count": 35,
   "id": "2ce16c7c",
   "metadata": {},
   "outputs": [
    {
     "name": "stdout",
     "output_type": "stream",
     "text": [
      "p-значение: 1.2804098316645618e-34\n",
      "Отвергаем нулевую гипотезу\n"
     ]
    }
   ],
   "source": [
    "alpha = 0.05  # критический уровень статистической значимости\n",
    "results = st.ttest_ind(data_ultra['duration'], data_free['duration'], alternative='greater')\n",
    "\n",
    "print('p-значение:', results.pvalue)\n",
    "\n",
    "if results.pvalue < alpha:\n",
    "    print('Отвергаем нулевую гипотезу')\n",
    "else:\n",
    "    print('Не получилось отвергнуть нулевую гипотезу') "
   ]
  },
  {
   "cell_type": "code",
   "execution_count": 36,
   "id": "835e412e",
   "metadata": {},
   "outputs": [
    {
     "data": {
      "image/png": "[encoded data removed]",
      "text/plain": [
       "<Figure size 1080x360 with 1 Axes>"
      ]
     },
     "metadata": {
      "needs_background": "light"
     },
     "output_type": "display_data"
    }
   ],
   "source": [
    "fig, ax = plt.subplots(figsize=(15, 5))\n",
    "ax.hist(data_ultra['duration'], 30, alpha=0.5, density=True, label='Ultra')\n",
    "ax.hist(data_free['duration'], 30, alpha=0.5, density=True, label='Free')\n",
    "plt.ylabel('Пользователи')\n",
    "plt.legend(loc='upper right')\n",
    "plt.show()"
   ]
  },
  {
   "cell_type": "markdown",
   "id": "c548d20f",
   "metadata": {},
   "source": [
    "И по результатам теста и по графику видно, что присутсует \"превосходство\" пользователей с подпиской.\n",
    "Гипотеза подтверждена."
   ]
  },
  {
   "cell_type": "markdown",
   "id": "49c63e7d",
   "metadata": {},
   "source": [
    "### Гипотеза 2\n",
    "\n",
    "\n",
    "Проверим гипотезу \"Пользователи с подпиской проезжают не более 3130 метров\". \n",
    "\n",
    "**Н0**: \"Пользователи с подпиской проезжают 3130 метров\". <br>\n",
    "**H1**: \"Пользователи с подпиской проезжают менее 3130 метров\"\n",
    "\n",
    "Значение критического уровня вероятности (альфа) примем равным 5%."
   ]
  },
  {
   "cell_type": "code",
   "execution_count": 37,
   "id": "ffa6d1e1",
   "metadata": {},
   "outputs": [
    {
     "name": "stdout",
     "output_type": "stream",
     "text": [
      "p-значение: 0.08046311521502146\n",
      "Не получилось отвергнуть нулевую гипотезу\n"
     ]
    }
   ],
   "source": [
    "alpha = 0.05  # критический уровень статистической значимости\n",
    "results = st.ttest_1samp(data_ultra['distance'], 3130, alternative='less')\n",
    "\n",
    "print('p-значение:', results.pvalue)\n",
    "\n",
    "if results.pvalue < alpha:\n",
    "    print('Отвергаем нулевую гипотезу')\n",
    "else:\n",
    "    print('Не получилось отвергнуть нулевую гипотезу') "
   ]
  },
  {
   "cell_type": "code",
   "execution_count": 38,
   "id": "9d99c8e9",
   "metadata": {},
   "outputs": [
    {
     "data": {
      "image/png": "[encoded data removed]",
      "text/plain": [
       "<Figure size 1080x360 with 1 Axes>"
      ]
     },
     "metadata": {
      "needs_background": "light"
     },
     "output_type": "display_data"
    }
   ],
   "source": [
    "fig, ax = plt.subplots(figsize=(15, 5))\n",
    "ax.hist(data_ultra['distance'], 30, alpha=0.5, label='Ultra')\n",
    "plt.legend(loc='upper right')\n",
    "plt.show()"
   ]
  },
  {
   "cell_type": "markdown",
   "id": "175b6fe2",
   "metadata": {},
   "source": [
    "По результатам гипотеза не подтвердилась"
   ]
  },
  {
   "cell_type": "markdown",
   "id": "bc193171",
   "metadata": {},
   "source": [
    "### Гипотеза 3\n",
    "\n",
    "\n",
    "Проверим гипотезу \"Помесячная выручка у пользователей с подпиской по месяцам выше\". \n",
    "\n",
    "**Н0**: \"Помесячная выручка у пользователей с подпиской по месяцам равна помесячной выручки у пользователей без подписки\". <br>\n",
    "**H1**: \"Помесячная выручка у пользователей с подпиской по месяцам выше помесячной выручки у пользователей без подписки\"\n",
    "\n",
    "Значение критического уровня вероятности (альфа) примем равным 5%."
   ]
  },
  {
   "cell_type": "code",
   "execution_count": 39,
   "id": "b0189525",
   "metadata": {},
   "outputs": [
    {
     "name": "stdout",
     "output_type": "stream",
     "text": [
      "p-значение: 5.592921107806826e-40\n",
      "Отвергаем нулевую гипотезу\n"
     ]
    }
   ],
   "source": [
    "alpha = 0.05  # критический уровень статистической значимости\n",
    "\n",
    "#проверим равенство выручки\n",
    "results = st.ttest_ind(data_income.query('subscription_type == \"ultra\"')['month_income'], \n",
    "                       data_income.query('subscription_type == \"free\"')['month_income'], alternative='greater')\n",
    "\n",
    "print('p-значение:', results.pvalue)\n",
    "\n",
    "if results.pvalue < alpha:\n",
    "    print('Отвергаем нулевую гипотезу')\n",
    "else:\n",
    "    print('Не получилось отвергнуть нулевую гипотезу') "
   ]
  },
  {
   "cell_type": "code",
   "execution_count": 40,
   "id": "06ce198a",
   "metadata": {},
   "outputs": [
    {
     "data": {
      "image/png": "[encoded data removed]",
      "text/plain": [
       "<Figure size 1080x360 with 1 Axes>"
      ]
     },
     "metadata": {
      "needs_background": "light"
     },
     "output_type": "display_data"
    }
   ],
   "source": [
    "fig, ax = plt.subplots(figsize=(15, 5))\n",
    "ax.hist(data_income.query('subscription_type == \"ultra\"')['month_income'], 30, alpha=0.5, density=True, label='Ultra')\n",
    "ax.hist(data_income.query('subscription_type == \"free\"')['month_income'], 30, alpha=0.5, density=True, label='Free')\n",
    "plt.ylabel('Пользователи')\n",
    "plt.legend(loc='upper right')\n",
    "plt.show()"
   ]
  },
  {
   "cell_type": "markdown",
   "id": "e62ab67d",
   "metadata": {},
   "source": [
    "По результатам тестов гипотеза подтверждена"
   ]
  },
  {
   "cell_type": "markdown",
   "id": "a60a23ad",
   "metadata": {},
   "source": [
    "## Общий вывод\n",
    "\n",
    "Итак, полученный архив данных -данные о некоторых пользователях из нескольких городов, а также об их поездках сервиса аренды самокатов GoFast.\n",
    "\n",
    "На этапе предобработки данных была проведена проверка данных на начличие пропущенных значений, которых не оказалось ни в одном столбце данных.Обработаны неявные и явные дубликаты. Явные дубликаты из `data_users`в количестве 31 строки удалены из таблицы.Была исправлена ошибка с неверным форматом данных: столбец с датой приведен к формату *datetime* и добавлен новый столбец с номером месяца (*month*).\n",
    "\n",
    "На этапе анализа были исследованы характеристики поездок: частота встречаемости городов, соотношение пользователей с подпиской и без, возраст пользователей, расстояние и время за 1 поездку. Обнаружено, что расстояния имеют бимодальное распределение, поэтому для более детального анализа поездки были распределены на длительные и короткие. Выявлено, что средняя поездка на самокате это: поездка 14-22 минуты, при коротком заезде от 414 до 985 метров, при длительном от 2743 до 3875 метров, у пользователя возрастом от 22 до 28 лет.\n",
    "Количество пользователей с подпиской и без практически одинаково, а разброс пользователей по городам тоже практически не отличается, хотя Пятигорск со значением 219 обгоняет Москву с 168 по количеству пользователей.\n",
    "\n",
    "Для удобства анализа созданы датафреймы с общими данными `data`, с данными по пользователям с подпиской `data_ultra`, без `data_free`, датафрейм с объединеными данными по пользователям `data_income`, и создан столбец *month_income* содержащий значение выручки конкретного пользователя в конкретный месяц.\n",
    "Проведенный анализ расстояний и времени поездок по пользователям с подпиской и без показал:\n",
    "- Время поездок у разных пользователей практически никак не отличается: без подписки 13-22 минуты, с подпиской 15-22.\n",
    "- В среднем короткие поездки у бользователей с подпиской длиннее (от 739 до 1161 метров), когда как у людей без подписки от 332 до 855 метров.\n",
    "- Длинные поездки имеют незначительные отличия в среднем: без подписки от 2613 до 4013, с подпиской от 2874 до 3616 метров (лишь немного больше).\n",
    "- Замечено, что пользователи без подписки могут проезжать намного большие расстояния, чем пользователи с ней. Без подписки редко встречаются значения более 6 километров, тогда как у людей с подпиской таких значений вообще нет\n",
    "\n",
    "Были проверены гипотезы:\n",
    "- Гипотеза о том, что пользователи с подпиской катаются дольше. Гипотеза подверждена со знаением p-value 1.28.\n",
    "- Гипотеза о том, что помесячная выручка у пользователей с подпиской по месяцам выше. Гипотеза подверждена со значением p-value 5.593.\n",
    "- Гипотеза о том, что пользователи с подпиской проезжают не более 3130 метров. Гипотеза не подверждена со значением p-value 0.08"
   ]
  }
 ],
 "metadata": {
  "ExecuteTimeLog": [
   {
    "duration": 1252,
    "start_time": "2023-05-02T19:09:34.775Z"
   },
   {
    "duration": 47,
    "start_time": "2023-05-02T23:40:18.913Z"
   },
   {
    "duration": 1231,
    "start_time": "2023-05-02T23:40:22.208Z"
   },
   {
    "duration": 203,
    "start_time": "2023-05-02T23:40:39.123Z"
   },
   {
    "duration": 23,
    "start_time": "2023-05-02T23:46:32.636Z"
   },
   {
    "duration": 23,
    "start_time": "2023-05-02T23:48:43.638Z"
   },
   {
    "duration": 18,
    "start_time": "2023-05-02T23:48:45.937Z"
   },
   {
    "duration": 9,
    "start_time": "2023-05-03T00:13:05.664Z"
   },
   {
    "duration": 7,
    "start_time": "2023-05-03T00:14:12.592Z"
   },
   {
    "duration": 6,
    "start_time": "2023-05-03T00:14:38.451Z"
   },
   {
    "duration": 5,
    "start_time": "2023-05-03T00:15:46.939Z"
   },
   {
    "duration": 20,
    "start_time": "2023-05-03T00:16:15.139Z"
   },
   {
    "duration": 7,
    "start_time": "2023-05-03T00:19:59.653Z"
   },
   {
    "duration": 10,
    "start_time": "2023-05-03T00:21:40.736Z"
   },
   {
    "duration": 8,
    "start_time": "2023-05-03T00:22:54.377Z"
   },
   {
    "duration": 5,
    "start_time": "2023-05-03T00:27:18.033Z"
   },
   {
    "duration": 60,
    "start_time": "2023-05-03T00:27:32.311Z"
   },
   {
    "duration": 10,
    "start_time": "2023-05-03T00:27:44.141Z"
   },
   {
    "duration": 6,
    "start_time": "2023-05-03T00:27:47.420Z"
   },
   {
    "duration": 4,
    "start_time": "2023-05-03T00:29:02.076Z"
   },
   {
    "duration": 3,
    "start_time": "2023-05-03T00:29:05.007Z"
   },
   {
    "duration": 3,
    "start_time": "2023-05-03T00:29:36.143Z"
   },
   {
    "duration": 3,
    "start_time": "2023-05-03T00:29:44.936Z"
   },
   {
    "duration": 2,
    "start_time": "2023-05-03T00:29:53.143Z"
   },
   {
    "duration": 55,
    "start_time": "2023-05-03T00:29:54.486Z"
   },
   {
    "duration": 16,
    "start_time": "2023-05-03T00:29:55.814Z"
   },
   {
    "duration": 18,
    "start_time": "2023-05-03T00:29:57.119Z"
   },
   {
    "duration": 19,
    "start_time": "2023-05-03T00:29:58.527Z"
   },
   {
    "duration": 14,
    "start_time": "2023-05-03T00:30:01.845Z"
   },
   {
    "duration": 6,
    "start_time": "2023-05-03T00:30:02.809Z"
   },
   {
    "duration": 6,
    "start_time": "2023-05-03T00:30:03.715Z"
   },
   {
    "duration": 6,
    "start_time": "2023-05-03T00:30:04.318Z"
   },
   {
    "duration": 11,
    "start_time": "2023-05-03T00:30:06.542Z"
   },
   {
    "duration": 8,
    "start_time": "2023-05-03T00:30:08.165Z"
   },
   {
    "duration": 3,
    "start_time": "2023-05-03T00:30:10.194Z"
   },
   {
    "duration": 3,
    "start_time": "2023-05-03T00:30:29.942Z"
   },
   {
    "duration": 5,
    "start_time": "2023-05-03T00:30:35.985Z"
   },
   {
    "duration": 6,
    "start_time": "2023-05-03T00:31:05.849Z"
   },
   {
    "duration": 6,
    "start_time": "2023-05-03T00:32:10.128Z"
   },
   {
    "duration": 75,
    "start_time": "2023-05-03T00:32:38.857Z"
   },
   {
    "duration": 1094,
    "start_time": "2023-05-03T00:45:45.306Z"
   },
   {
    "duration": 12,
    "start_time": "2023-05-03T00:46:20.940Z"
   },
   {
    "duration": 12,
    "start_time": "2023-05-03T01:12:30.034Z"
   },
   {
    "duration": 6,
    "start_time": "2023-05-03T01:12:44.167Z"
   },
   {
    "duration": 143,
    "start_time": "2023-05-03T01:13:41.914Z"
   },
   {
    "duration": 137,
    "start_time": "2023-05-03T01:14:22.376Z"
   },
   {
    "duration": 128,
    "start_time": "2023-05-03T01:14:36.131Z"
   },
   {
    "duration": 137,
    "start_time": "2023-05-03T01:14:46.481Z"
   },
   {
    "duration": 132,
    "start_time": "2023-05-03T01:14:53.203Z"
   },
   {
    "duration": 135,
    "start_time": "2023-05-03T01:15:37.846Z"
   },
   {
    "duration": 139,
    "start_time": "2023-05-03T01:15:43.219Z"
   },
   {
    "duration": 150,
    "start_time": "2023-05-03T01:15:48.295Z"
   },
   {
    "duration": 244,
    "start_time": "2023-05-03T01:15:53.805Z"
   },
   {
    "duration": 145,
    "start_time": "2023-05-03T01:16:58.900Z"
   },
   {
    "duration": 17,
    "start_time": "2023-05-03T01:18:14.214Z"
   },
   {
    "duration": 22,
    "start_time": "2023-05-03T01:18:35.275Z"
   },
   {
    "duration": 14,
    "start_time": "2023-05-03T01:19:15.056Z"
   },
   {
    "duration": 146,
    "start_time": "2023-05-03T01:19:27.413Z"
   },
   {
    "duration": 90,
    "start_time": "2023-05-03T01:27:45.217Z"
   },
   {
    "duration": 116,
    "start_time": "2023-05-03T01:27:50.984Z"
   },
   {
    "duration": 173,
    "start_time": "2023-05-03T01:31:31.189Z"
   },
   {
    "duration": 161,
    "start_time": "2023-05-03T01:32:10.716Z"
   },
   {
    "duration": 160,
    "start_time": "2023-05-03T01:35:24.550Z"
   },
   {
    "duration": 158,
    "start_time": "2023-05-03T01:35:48.676Z"
   },
   {
    "duration": 84,
    "start_time": "2023-05-03T01:40:48.232Z"
   },
   {
    "duration": 152,
    "start_time": "2023-05-03T01:40:54.633Z"
   },
   {
    "duration": 372,
    "start_time": "2023-05-03T01:41:25.792Z"
   },
   {
    "duration": 302,
    "start_time": "2023-05-03T01:41:47.365Z"
   },
   {
    "duration": 306,
    "start_time": "2023-05-03T01:49:59.467Z"
   },
   {
    "duration": 294,
    "start_time": "2023-05-03T01:50:32.366Z"
   },
   {
    "duration": 159,
    "start_time": "2023-05-03T01:58:39.812Z"
   },
   {
    "duration": 113,
    "start_time": "2023-05-03T02:54:34.214Z"
   },
   {
    "duration": 27,
    "start_time": "2023-05-03T02:54:45.891Z"
   },
   {
    "duration": 29,
    "start_time": "2023-05-03T02:55:04.239Z"
   },
   {
    "duration": 18,
    "start_time": "2023-05-03T02:58:26.685Z"
   },
   {
    "duration": 16,
    "start_time": "2023-05-03T02:58:31.283Z"
   },
   {
    "duration": 11,
    "start_time": "2023-05-03T03:00:03.456Z"
   },
   {
    "duration": 18,
    "start_time": "2023-05-03T03:00:12.767Z"
   },
   {
    "duration": 21,
    "start_time": "2023-05-03T03:00:22.757Z"
   },
   {
    "duration": 15,
    "start_time": "2023-05-03T03:00:41.545Z"
   },
   {
    "duration": 17,
    "start_time": "2023-05-03T03:00:49.478Z"
   },
   {
    "duration": 19,
    "start_time": "2023-05-03T03:01:51.962Z"
   },
   {
    "duration": 19,
    "start_time": "2023-05-03T03:01:56.795Z"
   },
   {
    "duration": 19,
    "start_time": "2023-05-03T03:02:07.513Z"
   },
   {
    "duration": 14,
    "start_time": "2023-05-03T03:02:52.028Z"
   },
   {
    "duration": 17,
    "start_time": "2023-05-03T03:02:57.374Z"
   },
   {
    "duration": 20,
    "start_time": "2023-05-03T03:03:13.342Z"
   },
   {
    "duration": 14,
    "start_time": "2023-05-03T03:03:20.157Z"
   },
   {
    "duration": 16,
    "start_time": "2023-05-03T03:03:23.440Z"
   },
   {
    "duration": 160,
    "start_time": "2023-05-03T03:06:11.840Z"
   },
   {
    "duration": 152,
    "start_time": "2023-05-03T03:08:32.128Z"
   },
   {
    "duration": 394,
    "start_time": "2023-05-03T03:09:08.313Z"
   },
   {
    "duration": 81,
    "start_time": "2023-05-03T03:10:35.067Z"
   },
   {
    "duration": 310,
    "start_time": "2023-05-03T03:12:29.943Z"
   },
   {
    "duration": 310,
    "start_time": "2023-05-03T03:12:34.472Z"
   },
   {
    "duration": 166,
    "start_time": "2023-05-03T03:18:52.880Z"
   },
   {
    "duration": 304,
    "start_time": "2023-05-03T03:19:47.541Z"
   },
   {
    "duration": 304,
    "start_time": "2023-05-03T03:21:10.432Z"
   },
   {
    "duration": 375,
    "start_time": "2023-05-03T03:22:39.747Z"
   },
   {
    "duration": 9,
    "start_time": "2023-05-03T04:08:58.611Z"
   },
   {
    "duration": 4,
    "start_time": "2023-05-03T04:09:04.548Z"
   },
   {
    "duration": 21,
    "start_time": "2023-05-03T04:09:09.718Z"
   },
   {
    "duration": 21,
    "start_time": "2023-05-03T04:10:30.948Z"
   },
   {
    "duration": 23,
    "start_time": "2023-05-03T04:15:33.805Z"
   },
   {
    "duration": 12,
    "start_time": "2023-05-03T04:28:45.951Z"
   },
   {
    "duration": 36,
    "start_time": "2023-05-03T04:28:52.833Z"
   },
   {
    "duration": 39,
    "start_time": "2023-05-03T04:29:01.329Z"
   },
   {
    "duration": 44,
    "start_time": "2023-05-03T04:30:34.520Z"
   },
   {
    "duration": 44,
    "start_time": "2023-05-03T04:31:48.856Z"
   },
   {
    "duration": 68,
    "start_time": "2023-05-03T04:32:03.280Z"
   },
   {
    "duration": 1255,
    "start_time": "2023-05-03T04:32:15.336Z"
   },
   {
    "duration": 76,
    "start_time": "2023-05-03T04:32:16.594Z"
   },
   {
    "duration": 31,
    "start_time": "2023-05-03T04:32:16.671Z"
   },
   {
    "duration": 28,
    "start_time": "2023-05-03T04:32:16.705Z"
   },
   {
    "duration": 15,
    "start_time": "2023-05-03T04:32:16.742Z"
   },
   {
    "duration": 28,
    "start_time": "2023-05-03T04:32:16.759Z"
   },
   {
    "duration": 20,
    "start_time": "2023-05-03T04:32:16.789Z"
   },
   {
    "duration": 14,
    "start_time": "2023-05-03T04:32:16.812Z"
   },
   {
    "duration": 15,
    "start_time": "2023-05-03T04:32:16.827Z"
   },
   {
    "duration": 12,
    "start_time": "2023-05-03T04:32:16.844Z"
   },
   {
    "duration": 24,
    "start_time": "2023-05-03T04:32:16.857Z"
   },
   {
    "duration": 28,
    "start_time": "2023-05-03T04:32:16.882Z"
   },
   {
    "duration": 11,
    "start_time": "2023-05-03T04:32:16.912Z"
   },
   {
    "duration": 28,
    "start_time": "2023-05-03T04:32:16.925Z"
   },
   {
    "duration": 189,
    "start_time": "2023-05-03T04:32:16.955Z"
   },
   {
    "duration": 130,
    "start_time": "2023-05-03T04:32:17.146Z"
   },
   {
    "duration": 246,
    "start_time": "2023-05-03T04:32:17.278Z"
   },
   {
    "duration": 455,
    "start_time": "2023-05-03T04:32:17.526Z"
   },
   {
    "duration": 483,
    "start_time": "2023-05-03T04:32:17.982Z"
   },
   {
    "duration": 381,
    "start_time": "2023-05-03T04:32:18.467Z"
   },
   {
    "duration": 283,
    "start_time": "2023-05-03T04:32:18.850Z"
   },
   {
    "duration": 25,
    "start_time": "2023-05-03T04:32:19.139Z"
   },
   {
    "duration": 41,
    "start_time": "2023-05-03T04:32:19.165Z"
   },
   {
    "duration": 23,
    "start_time": "2023-05-03T04:32:19.213Z"
   },
   {
    "duration": 206,
    "start_time": "2023-05-03T04:32:19.238Z"
   },
   {
    "duration": 421,
    "start_time": "2023-05-03T04:32:19.446Z"
   },
   {
    "duration": 413,
    "start_time": "2023-05-03T04:32:19.868Z"
   },
   {
    "duration": 411,
    "start_time": "2023-05-03T04:32:20.286Z"
   },
   {
    "duration": 263,
    "start_time": "2023-05-03T04:32:20.699Z"
   },
   {
    "duration": 449,
    "start_time": "2023-05-03T04:32:20.966Z"
   },
   {
    "duration": 546,
    "start_time": "2023-05-03T04:32:21.417Z"
   },
   {
    "duration": 390,
    "start_time": "2023-05-03T04:32:21.964Z"
   },
   {
    "duration": 196,
    "start_time": "2023-05-03T04:32:22.357Z"
   },
   {
    "duration": 55,
    "start_time": "2023-05-03T04:32:29.463Z"
   },
   {
    "duration": 43,
    "start_time": "2023-05-03T04:33:52.430Z"
   },
   {
    "duration": 59,
    "start_time": "2023-05-03T04:34:00.182Z"
   },
   {
    "duration": 42,
    "start_time": "2023-05-03T04:34:29.848Z"
   },
   {
    "duration": 63,
    "start_time": "2023-05-03T04:37:43.249Z"
   },
   {
    "duration": 57,
    "start_time": "2023-05-03T04:41:41.236Z"
   },
   {
    "duration": 15,
    "start_time": "2023-05-03T04:42:27.914Z"
   },
   {
    "duration": 96,
    "start_time": "2023-05-03T04:44:02.047Z"
   },
   {
    "duration": 11,
    "start_time": "2023-05-03T04:44:07.759Z"
   },
   {
    "duration": 42,
    "start_time": "2023-05-03T04:47:32.279Z"
   },
   {
    "duration": 36,
    "start_time": "2023-05-03T04:48:16.306Z"
   },
   {
    "duration": 25,
    "start_time": "2023-05-03T04:52:41.650Z"
   },
   {
    "duration": 10,
    "start_time": "2023-05-03T05:09:56.315Z"
   },
   {
    "duration": 19,
    "start_time": "2023-05-03T05:16:12.553Z"
   },
   {
    "duration": 49,
    "start_time": "2023-05-03T05:17:33.070Z"
   },
   {
    "duration": 6,
    "start_time": "2023-05-03T05:22:05.567Z"
   },
   {
    "duration": 10,
    "start_time": "2023-05-03T05:22:35.825Z"
   },
   {
    "duration": 6,
    "start_time": "2023-05-03T05:22:41.440Z"
   },
   {
    "duration": 323,
    "start_time": "2023-05-03T05:24:44.945Z"
   },
   {
    "duration": 324,
    "start_time": "2023-05-03T05:25:17.207Z"
   },
   {
    "duration": 326,
    "start_time": "2023-05-03T05:25:20.829Z"
   },
   {
    "duration": 508,
    "start_time": "2023-05-03T05:25:26.555Z"
   },
   {
    "duration": 5,
    "start_time": "2023-05-03T05:31:17.859Z"
   },
   {
    "duration": 193,
    "start_time": "2023-05-03T05:33:38.816Z"
   },
   {
    "duration": 6,
    "start_time": "2023-05-03T05:34:50.217Z"
   },
   {
    "duration": 7,
    "start_time": "2023-05-03T05:35:04.146Z"
   },
   {
    "duration": 6,
    "start_time": "2023-05-03T05:35:10.763Z"
   },
   {
    "duration": 7,
    "start_time": "2023-05-03T05:39:24.171Z"
   },
   {
    "duration": 14,
    "start_time": "2023-05-03T05:40:58.331Z"
   },
   {
    "duration": 283,
    "start_time": "2023-05-03T05:41:37.024Z"
   },
   {
    "duration": 256,
    "start_time": "2023-05-03T05:42:27.050Z"
   },
   {
    "duration": 321,
    "start_time": "2023-05-03T05:42:32.170Z"
   },
   {
    "duration": 310,
    "start_time": "2023-05-03T05:49:10.526Z"
   },
   {
    "duration": 419,
    "start_time": "2023-05-03T05:49:25.284Z"
   },
   {
    "duration": 18,
    "start_time": "2023-05-03T05:56:12.656Z"
   },
   {
    "duration": 178,
    "start_time": "2023-05-03T05:56:51.220Z"
   },
   {
    "duration": 15,
    "start_time": "2023-05-03T06:00:29.128Z"
   },
   {
    "duration": 1154,
    "start_time": "2023-05-03T06:22:15.414Z"
   },
   {
    "duration": 79,
    "start_time": "2023-05-03T06:22:16.570Z"
   },
   {
    "duration": 21,
    "start_time": "2023-05-03T06:22:16.651Z"
   },
   {
    "duration": 36,
    "start_time": "2023-05-03T06:22:16.673Z"
   },
   {
    "duration": 28,
    "start_time": "2023-05-03T06:22:16.718Z"
   },
   {
    "duration": 26,
    "start_time": "2023-05-03T06:22:16.749Z"
   },
   {
    "duration": 13,
    "start_time": "2023-05-03T06:22:16.778Z"
   },
   {
    "duration": 15,
    "start_time": "2023-05-03T06:22:16.793Z"
   },
   {
    "duration": 6,
    "start_time": "2023-05-03T06:22:16.810Z"
   },
   {
    "duration": 17,
    "start_time": "2023-05-03T06:22:16.820Z"
   },
   {
    "duration": 9,
    "start_time": "2023-05-03T06:22:16.839Z"
   },
   {
    "duration": 6,
    "start_time": "2023-05-03T06:22:16.850Z"
   },
   {
    "duration": 37,
    "start_time": "2023-05-03T06:22:16.858Z"
   },
   {
    "duration": 26,
    "start_time": "2023-05-03T06:22:16.897Z"
   },
   {
    "duration": 188,
    "start_time": "2023-05-03T06:22:16.925Z"
   },
   {
    "duration": 125,
    "start_time": "2023-05-03T06:22:17.115Z"
   },
   {
    "duration": 201,
    "start_time": "2023-05-03T06:22:17.241Z"
   },
   {
    "duration": 331,
    "start_time": "2023-05-03T06:22:17.443Z"
   },
   {
    "duration": 347,
    "start_time": "2023-05-03T06:22:17.776Z"
   },
   {
    "duration": 383,
    "start_time": "2023-05-03T06:22:18.124Z"
   },
   {
    "duration": 254,
    "start_time": "2023-05-03T06:22:18.515Z"
   },
   {
    "duration": 44,
    "start_time": "2023-05-03T06:22:18.770Z"
   },
   {
    "duration": 19,
    "start_time": "2023-05-03T06:22:18.818Z"
   },
   {
    "duration": 18,
    "start_time": "2023-05-03T06:22:18.838Z"
   },
   {
    "duration": 192,
    "start_time": "2023-05-03T06:22:18.857Z"
   },
   {
    "duration": 331,
    "start_time": "2023-05-03T06:22:19.050Z"
   },
   {
    "duration": 345,
    "start_time": "2023-05-03T06:22:19.382Z"
   },
   {
    "duration": 334,
    "start_time": "2023-05-03T06:22:19.730Z"
   },
   {
    "duration": 211,
    "start_time": "2023-05-03T06:22:20.065Z"
   },
   {
    "duration": 352,
    "start_time": "2023-05-03T06:22:20.278Z"
   },
   {
    "duration": 443,
    "start_time": "2023-05-03T06:22:20.632Z"
   },
   {
    "duration": 322,
    "start_time": "2023-05-03T06:22:21.077Z"
   },
   {
    "duration": 53,
    "start_time": "2023-05-03T06:22:21.404Z"
   },
   {
    "duration": 20,
    "start_time": "2023-05-03T06:22:21.460Z"
   },
   {
    "duration": 19,
    "start_time": "2023-05-03T06:22:21.492Z"
   },
   {
    "duration": 264,
    "start_time": "2023-05-03T06:22:21.513Z"
   },
   {
    "duration": 20,
    "start_time": "2023-05-03T06:22:21.779Z"
   },
   {
    "duration": 164,
    "start_time": "2023-05-03T06:22:21.810Z"
   },
   {
    "duration": 39,
    "start_time": "2023-05-03T06:22:21.976Z"
   },
   {
    "duration": 262,
    "start_time": "2023-05-03T06:22:22.017Z"
   },
   {
    "duration": 23,
    "start_time": "2023-05-03T06:22:45.574Z"
   },
   {
    "duration": 39,
    "start_time": "2023-05-03T06:22:50.378Z"
   },
   {
    "duration": 24,
    "start_time": "2023-05-03T06:23:02.513Z"
   },
   {
    "duration": 25,
    "start_time": "2023-05-03T06:23:14.616Z"
   },
   {
    "duration": 23,
    "start_time": "2023-05-03T06:23:22.814Z"
   },
   {
    "duration": 1354,
    "start_time": "2023-05-03T20:32:01.966Z"
   },
   {
    "duration": 194,
    "start_time": "2023-05-03T20:32:03.322Z"
   },
   {
    "duration": 21,
    "start_time": "2023-05-03T20:32:03.519Z"
   },
   {
    "duration": 15,
    "start_time": "2023-05-03T20:32:03.542Z"
   },
   {
    "duration": 13,
    "start_time": "2023-05-03T20:32:03.558Z"
   },
   {
    "duration": 13,
    "start_time": "2023-05-03T20:32:03.573Z"
   },
   {
    "duration": 5,
    "start_time": "2023-05-03T20:32:03.587Z"
   },
   {
    "duration": 6,
    "start_time": "2023-05-03T20:32:03.594Z"
   },
   {
    "duration": 6,
    "start_time": "2023-05-03T20:32:03.601Z"
   },
   {
    "duration": 11,
    "start_time": "2023-05-03T20:32:03.609Z"
   },
   {
    "duration": 8,
    "start_time": "2023-05-03T20:32:03.621Z"
   },
   {
    "duration": 5,
    "start_time": "2023-05-03T20:32:03.630Z"
   },
   {
    "duration": 5,
    "start_time": "2023-05-03T20:32:03.637Z"
   },
   {
    "duration": 52,
    "start_time": "2023-05-03T20:32:03.643Z"
   },
   {
    "duration": 159,
    "start_time": "2023-05-03T20:32:03.696Z"
   },
   {
    "duration": 140,
    "start_time": "2023-05-03T20:32:03.857Z"
   },
   {
    "duration": 212,
    "start_time": "2023-05-03T20:32:03.999Z"
   },
   {
    "duration": 321,
    "start_time": "2023-05-03T20:32:04.213Z"
   },
   {
    "duration": 296,
    "start_time": "2023-05-03T20:32:04.535Z"
   },
   {
    "duration": 290,
    "start_time": "2023-05-03T20:32:04.832Z"
   },
   {
    "duration": 239,
    "start_time": "2023-05-03T20:32:05.123Z"
   },
   {
    "duration": 31,
    "start_time": "2023-05-03T20:32:05.364Z"
   },
   {
    "duration": 18,
    "start_time": "2023-05-03T20:32:05.397Z"
   },
   {
    "duration": 16,
    "start_time": "2023-05-03T20:32:05.417Z"
   },
   {
    "duration": 172,
    "start_time": "2023-05-03T20:32:05.434Z"
   },
   {
    "duration": 297,
    "start_time": "2023-05-03T20:32:05.607Z"
   },
   {
    "duration": 279,
    "start_time": "2023-05-03T20:32:05.906Z"
   },
   {
    "duration": 282,
    "start_time": "2023-05-03T20:32:06.189Z"
   },
   {
    "duration": 170,
    "start_time": "2023-05-03T20:32:06.472Z"
   },
   {
    "duration": 284,
    "start_time": "2023-05-03T20:32:06.644Z"
   },
   {
    "duration": 386,
    "start_time": "2023-05-03T20:32:06.929Z"
   },
   {
    "duration": 276,
    "start_time": "2023-05-03T20:32:07.316Z"
   },
   {
    "duration": 48,
    "start_time": "2023-05-03T20:32:07.594Z"
   },
   {
    "duration": 16,
    "start_time": "2023-05-03T20:32:07.644Z"
   },
   {
    "duration": 29,
    "start_time": "2023-05-03T20:32:07.661Z"
   },
   {
    "duration": 255,
    "start_time": "2023-05-03T20:32:07.692Z"
   },
   {
    "duration": 5,
    "start_time": "2023-05-03T20:32:07.948Z"
   },
   {
    "duration": 177,
    "start_time": "2023-05-03T20:32:07.954Z"
   },
   {
    "duration": 19,
    "start_time": "2023-05-03T20:32:08.132Z"
   },
   {
    "duration": 266,
    "start_time": "2023-05-03T20:32:08.152Z"
   },
   {
    "duration": 6,
    "start_time": "2023-05-03T20:50:03.951Z"
   },
   {
    "duration": 6,
    "start_time": "2023-05-03T20:50:31.052Z"
   },
   {
    "duration": 1398,
    "start_time": "2023-05-04T10:50:02.037Z"
   },
   {
    "duration": 211,
    "start_time": "2023-05-04T10:50:04.908Z"
   },
   {
    "duration": 24,
    "start_time": "2023-05-04T10:50:07.008Z"
   },
   {
    "duration": 19,
    "start_time": "2023-05-04T10:50:10.909Z"
   },
   {
    "duration": 16,
    "start_time": "2023-05-04T10:50:13.771Z"
   },
   {
    "duration": 14,
    "start_time": "2023-05-04T10:50:18.119Z"
   },
   {
    "duration": 7,
    "start_time": "2023-05-04T10:50:20.244Z"
   },
   {
    "duration": 7,
    "start_time": "2023-05-04T10:50:20.608Z"
   },
   {
    "duration": 6,
    "start_time": "2023-05-04T10:50:20.995Z"
   },
   {
    "duration": 11,
    "start_time": "2023-05-04T10:50:23.480Z"
   },
   {
    "duration": 8,
    "start_time": "2023-05-04T10:50:24.803Z"
   },
   {
    "duration": 6,
    "start_time": "2023-05-04T10:50:27.076Z"
   },
   {
    "duration": 6,
    "start_time": "2023-05-04T10:50:29.533Z"
   },
   {
    "duration": 11,
    "start_time": "2023-05-04T10:50:33.343Z"
   },
   {
    "duration": 257,
    "start_time": "2023-05-04T10:57:51.610Z"
   },
   {
    "duration": 178,
    "start_time": "2023-05-04T10:58:18.807Z"
   },
   {
    "duration": 201,
    "start_time": "2023-05-04T10:58:27.282Z"
   },
   {
    "duration": 158,
    "start_time": "2023-05-04T10:59:32.202Z"
   },
   {
    "duration": 187,
    "start_time": "2023-05-04T10:59:53.324Z"
   },
   {
    "duration": 374,
    "start_time": "2023-05-04T11:00:43.109Z"
   },
   {
    "duration": 351,
    "start_time": "2023-05-04T11:00:59.754Z"
   },
   {
    "duration": 401,
    "start_time": "2023-05-04T11:01:06.038Z"
   },
   {
    "duration": 198,
    "start_time": "2023-05-04T11:01:35.396Z"
   },
   {
    "duration": 29,
    "start_time": "2023-05-04T11:04:59.921Z"
   },
   {
    "duration": 33,
    "start_time": "2023-05-04T11:06:34.080Z"
   },
   {
    "duration": 18,
    "start_time": "2023-05-04T11:07:51.920Z"
   },
   {
    "duration": 17,
    "start_time": "2023-05-04T11:08:02.812Z"
   },
   {
    "duration": 92,
    "start_time": "2023-05-04T11:08:11.511Z"
   },
   {
    "duration": 171,
    "start_time": "2023-05-04T11:08:30.483Z"
   },
   {
    "duration": 405,
    "start_time": "2023-05-04T11:08:33.786Z"
   },
   {
    "duration": 332,
    "start_time": "2023-05-04T11:08:35.910Z"
   },
   {
    "duration": 302,
    "start_time": "2023-05-04T11:08:38.943Z"
   },
   {
    "duration": 192,
    "start_time": "2023-05-04T11:08:59.909Z"
   },
   {
    "duration": 427,
    "start_time": "2023-05-04T11:09:02.771Z"
   },
   {
    "duration": 329,
    "start_time": "2023-05-04T11:09:05.175Z"
   },
   {
    "duration": 310,
    "start_time": "2023-05-04T11:09:08.407Z"
   },
   {
    "duration": 70,
    "start_time": "2023-05-04T11:09:15.703Z"
   },
   {
    "duration": 55,
    "start_time": "2023-05-04T11:09:27.281Z"
   },
   {
    "duration": 62,
    "start_time": "2023-05-04T11:09:35.753Z"
   },
   {
    "duration": 16,
    "start_time": "2023-05-04T11:09:51.836Z"
   },
   {
    "duration": 6,
    "start_time": "2023-05-04T11:14:09.400Z"
   },
   {
    "duration": 7,
    "start_time": "2023-05-04T11:18:57.307Z"
   },
   {
    "duration": 18,
    "start_time": "2023-05-04T11:21:32.259Z"
   },
   {
    "duration": 253,
    "start_time": "2023-05-04T11:21:39.625Z"
   },
   {
    "duration": 6,
    "start_time": "2023-05-04T11:26:12.381Z"
   },
   {
    "duration": 6,
    "start_time": "2023-05-04T11:27:22.045Z"
   },
   {
    "duration": 1104,
    "start_time": "2023-05-04T21:39:07.198Z"
   },
   {
    "duration": 65,
    "start_time": "2023-05-04T21:39:08.304Z"
   },
   {
    "duration": 22,
    "start_time": "2023-05-04T21:39:08.370Z"
   },
   {
    "duration": 18,
    "start_time": "2023-05-04T21:39:08.393Z"
   },
   {
    "duration": 17,
    "start_time": "2023-05-04T21:39:08.412Z"
   },
   {
    "duration": 44,
    "start_time": "2023-05-04T21:39:08.430Z"
   },
   {
    "duration": 6,
    "start_time": "2023-05-04T21:39:08.476Z"
   },
   {
    "duration": 10,
    "start_time": "2023-05-04T21:39:08.483Z"
   },
   {
    "duration": 5,
    "start_time": "2023-05-04T21:39:08.495Z"
   },
   {
    "duration": 14,
    "start_time": "2023-05-04T21:39:08.503Z"
   },
   {
    "duration": 6,
    "start_time": "2023-05-04T21:39:08.518Z"
   },
   {
    "duration": 6,
    "start_time": "2023-05-04T21:39:08.525Z"
   },
   {
    "duration": 4,
    "start_time": "2023-05-04T21:39:08.532Z"
   },
   {
    "duration": 40,
    "start_time": "2023-05-04T21:39:08.537Z"
   },
   {
    "duration": 327,
    "start_time": "2023-05-04T21:39:08.578Z"
   },
   {
    "duration": 275,
    "start_time": "2023-05-04T21:39:08.907Z"
   },
   {
    "duration": 344,
    "start_time": "2023-05-04T21:39:09.184Z"
   },
   {
    "duration": 463,
    "start_time": "2023-05-04T21:39:09.529Z"
   },
   {
    "duration": 480,
    "start_time": "2023-05-04T21:39:09.994Z"
   },
   {
    "duration": 460,
    "start_time": "2023-05-04T21:39:10.475Z"
   },
   {
    "duration": 361,
    "start_time": "2023-05-04T21:39:10.937Z"
   },
   {
    "duration": 27,
    "start_time": "2023-05-04T21:39:11.300Z"
   },
   {
    "duration": 16,
    "start_time": "2023-05-04T21:39:11.328Z"
   },
   {
    "duration": 33,
    "start_time": "2023-05-04T21:39:11.345Z"
   },
   {
    "duration": 282,
    "start_time": "2023-05-04T21:39:11.380Z"
   },
   {
    "duration": 433,
    "start_time": "2023-05-04T21:39:11.664Z"
   },
   {
    "duration": 542,
    "start_time": "2023-05-04T21:39:12.099Z"
   },
   {
    "duration": 420,
    "start_time": "2023-05-04T21:39:12.645Z"
   },
   {
    "duration": 305,
    "start_time": "2023-05-04T21:39:13.071Z"
   },
   {
    "duration": 433,
    "start_time": "2023-05-04T21:39:13.377Z"
   },
   {
    "duration": 419,
    "start_time": "2023-05-04T21:39:13.811Z"
   },
   {
    "duration": 409,
    "start_time": "2023-05-04T21:39:14.231Z"
   },
   {
    "duration": 62,
    "start_time": "2023-05-04T21:39:14.642Z"
   },
   {
    "duration": 15,
    "start_time": "2023-05-04T21:39:14.705Z"
   },
   {
    "duration": 5,
    "start_time": "2023-05-04T21:39:14.722Z"
   },
   {
    "duration": 390,
    "start_time": "2023-05-04T21:39:14.729Z"
   },
   {
    "duration": 6,
    "start_time": "2023-05-04T21:39:15.121Z"
   },
   {
    "duration": 297,
    "start_time": "2023-05-04T21:39:15.128Z"
   },
   {
    "duration": 11,
    "start_time": "2023-05-04T21:39:15.426Z"
   },
   {
    "duration": 368,
    "start_time": "2023-05-04T21:39:15.438Z"
   },
   {
    "duration": 76,
    "start_time": "2023-05-04T22:04:43.643Z"
   }
  ],
  "kernelspec": {
   "display_name": "Python 3 (ipykernel)",
   "language": "python",
   "name": "python3"
  },
  "language_info": {
   "codemirror_mode": {
    "name": "ipython",
    "version": 3
   },
   "file_extension": ".py",
   "mimetype": "text/x-python",
   "name": "python",
   "nbconvert_exporter": "python",
   "pygments_lexer": "ipython3",
   "version": "3.9.13"
  },
  "toc": {
   "base_numbering": 1,
   "nav_menu": {},
   "number_sections": true,
   "sideBar": true,
   "skip_h1_title": true,
   "title_cell": "Table of Contents",
   "title_sidebar": "Contents",
   "toc_cell": false,
   "toc_position": {},
   "toc_section_display": true,
   "toc_window_display": true
  }
 },
 "nbformat": 4,
 "nbformat_minor": 5
}
