{
 "cells": [
  {
   "cell_type": "markdown",
   "metadata": {},
   "source": [
    "# Выбор локации для скважины"
   ]
  },
  {
   "cell_type": "markdown",
   "metadata": {},
   "source": [
    "Допустим, вы работаете в добывающей компании «ГлавРосГосНефть». Нужно решить, где бурить новую скважину.\n",
    "\n",
    "Вам предоставлены пробы нефти в трёх регионах: в каждом 10 000 месторождений, где измерили качество нефти и объём её запасов. Постройте модель машинного обучения, которая поможет определить регион, где добыча принесёт наибольшую прибыль. Проанализируйте возможную прибыль и риски техникой *Bootstrap.*\n",
    "\n",
    "Шаги для выбора локации:\n",
    "\n",
    "- В избранном регионе ищут месторождения, для каждого определяют значения признаков;\n",
    "- Строят модель и оценивают объём запасов;\n",
    "- Выбирают месторождения с самым высокими оценками значений. Количество месторождений зависит от бюджета компании и стоимости разработки одной скважины;\n",
    "- Прибыль равна суммарной прибыли отобранных месторождений."
   ]
  },
  {
   "cell_type": "markdown",
   "metadata": {},
   "source": [
    "## Загрузка и подготовка данных"
   ]
  },
  {
   "cell_type": "markdown",
   "metadata": {},
   "source": [
    "Испортируем библиотеки."
   ]
  },
  {
   "cell_type": "code",
   "execution_count": 1,
   "metadata": {},
   "outputs": [],
   "source": [
    "import pandas as pd\n",
    "import numpy as np\n",
    "import matplotlib.pyplot as plt \n",
    "import itertools\n",
    "import seaborn as sns\n",
    "from sklearn.model_selection import train_test_split\n",
    "from sklearn.linear_model import LinearRegression\n",
    "from sklearn.pipeline import make_pipeline\n",
    "from sklearn.preprocessing import StandardScaler\n",
    "from sklearn.metrics import mean_squared_error\n",
    "from numpy.random import RandomState"
   ]
  },
  {
   "cell_type": "markdown",
   "metadata": {},
   "source": [
    "Прочитаем данные с файлов и сохраним в data."
   ]
  },
  {
   "cell_type": "code",
   "execution_count": 2,
   "metadata": {},
   "outputs": [],
   "source": [
    "data0 = pd.read_csv(\"/datasets/geo_data_0.csv\")\n",
    "data1 = pd.read_csv(\"/datasets/geo_data_1.csv\")\n",
    "data2 = pd.read_csv(\"/datasets/geo_data_2.csv\")"
   ]
  },
  {
   "cell_type": "markdown",
   "metadata": {},
   "source": [
    "Посмотрим общую информацию о файлах."
   ]
  },
  {
   "cell_type": "code",
   "execution_count": 3,
   "metadata": {},
   "outputs": [
    {
     "name": "stdout",
     "output_type": "stream",
     "text": [
      "<class 'pandas.core.frame.DataFrame'>\n",
      "RangeIndex: 100000 entries, 0 to 99999\n",
      "Data columns (total 5 columns):\n",
      " #   Column   Non-Null Count   Dtype  \n",
      "---  ------   --------------   -----  \n",
      " 0   id       100000 non-null  object \n",
      " 1   f0       100000 non-null  float64\n",
      " 2   f1       100000 non-null  float64\n",
      " 3   f2       100000 non-null  float64\n",
      " 4   product  100000 non-null  float64\n",
      "dtypes: float64(4), object(1)\n",
      "memory usage: 3.8+ MB\n"
     ]
    },
    {
     "data": {
      "text/html": [
       "<div>\n",
       "<style scoped>\n",
       "    .dataframe tbody tr th:only-of-type {\n",
       "        vertical-align: middle;\n",
       "    }\n",
       "\n",
       "    .dataframe tbody tr th {\n",
       "        vertical-align: top;\n",
       "    }\n",
       "\n",
       "    .dataframe thead th {\n",
       "        text-align: right;\n",
       "    }\n",
       "</style>\n",
       "<table border=\"1\" class=\"dataframe\">\n",
       "  <thead>\n",
       "    <tr style=\"text-align: right;\">\n",
       "      <th></th>\n",
       "      <th>id</th>\n",
       "      <th>f0</th>\n",
       "      <th>f1</th>\n",
       "      <th>f2</th>\n",
       "      <th>product</th>\n",
       "    </tr>\n",
       "  </thead>\n",
       "  <tbody>\n",
       "    <tr>\n",
       "      <th>0</th>\n",
       "      <td>txEyH</td>\n",
       "      <td>0.705745</td>\n",
       "      <td>-0.497823</td>\n",
       "      <td>1.221170</td>\n",
       "      <td>105.280062</td>\n",
       "    </tr>\n",
       "    <tr>\n",
       "      <th>1</th>\n",
       "      <td>2acmU</td>\n",
       "      <td>1.334711</td>\n",
       "      <td>-0.340164</td>\n",
       "      <td>4.365080</td>\n",
       "      <td>73.037750</td>\n",
       "    </tr>\n",
       "    <tr>\n",
       "      <th>2</th>\n",
       "      <td>409Wp</td>\n",
       "      <td>1.022732</td>\n",
       "      <td>0.151990</td>\n",
       "      <td>1.419926</td>\n",
       "      <td>85.265647</td>\n",
       "    </tr>\n",
       "    <tr>\n",
       "      <th>3</th>\n",
       "      <td>iJLyR</td>\n",
       "      <td>-0.032172</td>\n",
       "      <td>0.139033</td>\n",
       "      <td>2.978566</td>\n",
       "      <td>168.620776</td>\n",
       "    </tr>\n",
       "    <tr>\n",
       "      <th>4</th>\n",
       "      <td>Xdl7t</td>\n",
       "      <td>1.988431</td>\n",
       "      <td>0.155413</td>\n",
       "      <td>4.751769</td>\n",
       "      <td>154.036647</td>\n",
       "    </tr>\n",
       "    <tr>\n",
       "      <th>5</th>\n",
       "      <td>wX4Hy</td>\n",
       "      <td>0.969570</td>\n",
       "      <td>0.489775</td>\n",
       "      <td>-0.735383</td>\n",
       "      <td>64.741541</td>\n",
       "    </tr>\n",
       "    <tr>\n",
       "      <th>6</th>\n",
       "      <td>tL6pL</td>\n",
       "      <td>0.645075</td>\n",
       "      <td>0.530656</td>\n",
       "      <td>1.780266</td>\n",
       "      <td>49.055285</td>\n",
       "    </tr>\n",
       "    <tr>\n",
       "      <th>7</th>\n",
       "      <td>BYPU6</td>\n",
       "      <td>-0.400648</td>\n",
       "      <td>0.808337</td>\n",
       "      <td>-5.624670</td>\n",
       "      <td>72.943292</td>\n",
       "    </tr>\n",
       "    <tr>\n",
       "      <th>8</th>\n",
       "      <td>j9Oui</td>\n",
       "      <td>0.643105</td>\n",
       "      <td>-0.551583</td>\n",
       "      <td>2.372141</td>\n",
       "      <td>113.356160</td>\n",
       "    </tr>\n",
       "    <tr>\n",
       "      <th>9</th>\n",
       "      <td>OLuZU</td>\n",
       "      <td>2.173381</td>\n",
       "      <td>0.563698</td>\n",
       "      <td>9.441852</td>\n",
       "      <td>127.910945</td>\n",
       "    </tr>\n",
       "  </tbody>\n",
       "</table>\n",
       "</div>"
      ],
      "text/plain": [
       "      id        f0        f1        f2     product\n",
       "0  txEyH  0.705745 -0.497823  1.221170  105.280062\n",
       "1  2acmU  1.334711 -0.340164  4.365080   73.037750\n",
       "2  409Wp  1.022732  0.151990  1.419926   85.265647\n",
       "3  iJLyR -0.032172  0.139033  2.978566  168.620776\n",
       "4  Xdl7t  1.988431  0.155413  4.751769  154.036647\n",
       "5  wX4Hy  0.969570  0.489775 -0.735383   64.741541\n",
       "6  tL6pL  0.645075  0.530656  1.780266   49.055285\n",
       "7  BYPU6 -0.400648  0.808337 -5.624670   72.943292\n",
       "8  j9Oui  0.643105 -0.551583  2.372141  113.356160\n",
       "9  OLuZU  2.173381  0.563698  9.441852  127.910945"
      ]
     },
     "execution_count": 3,
     "metadata": {},
     "output_type": "execute_result"
    }
   ],
   "source": [
    "data0.info()\n",
    "data0.head(10)"
   ]
  },
  {
   "cell_type": "markdown",
   "metadata": {},
   "source": [
    "Согласно документации к данным, в таблице `geo_data_0` содержатся следующие столбцы:\n",
    "* `id` — уникальный идентификатор скважины\n",
    "* `f0, f1, f2` — три признака точек\n",
    "* `product` — объём запасов в скважине (тыс. баррелей)."
   ]
  },
  {
   "cell_type": "code",
   "execution_count": 4,
   "metadata": {},
   "outputs": [
    {
     "name": "stdout",
     "output_type": "stream",
     "text": [
      "<class 'pandas.core.frame.DataFrame'>\n",
      "RangeIndex: 100000 entries, 0 to 99999\n",
      "Data columns (total 5 columns):\n",
      " #   Column   Non-Null Count   Dtype  \n",
      "---  ------   --------------   -----  \n",
      " 0   id       100000 non-null  object \n",
      " 1   f0       100000 non-null  float64\n",
      " 2   f1       100000 non-null  float64\n",
      " 3   f2       100000 non-null  float64\n",
      " 4   product  100000 non-null  float64\n",
      "dtypes: float64(4), object(1)\n",
      "memory usage: 3.8+ MB\n"
     ]
    },
    {
     "data": {
      "text/html": [
       "<div>\n",
       "<style scoped>\n",
       "    .dataframe tbody tr th:only-of-type {\n",
       "        vertical-align: middle;\n",
       "    }\n",
       "\n",
       "    .dataframe tbody tr th {\n",
       "        vertical-align: top;\n",
       "    }\n",
       "\n",
       "    .dataframe thead th {\n",
       "        text-align: right;\n",
       "    }\n",
       "</style>\n",
       "<table border=\"1\" class=\"dataframe\">\n",
       "  <thead>\n",
       "    <tr style=\"text-align: right;\">\n",
       "      <th></th>\n",
       "      <th>id</th>\n",
       "      <th>f0</th>\n",
       "      <th>f1</th>\n",
       "      <th>f2</th>\n",
       "      <th>product</th>\n",
       "    </tr>\n",
       "  </thead>\n",
       "  <tbody>\n",
       "    <tr>\n",
       "      <th>0</th>\n",
       "      <td>kBEdx</td>\n",
       "      <td>-15.001348</td>\n",
       "      <td>-8.276000</td>\n",
       "      <td>-0.005876</td>\n",
       "      <td>3.179103</td>\n",
       "    </tr>\n",
       "    <tr>\n",
       "      <th>1</th>\n",
       "      <td>62mP7</td>\n",
       "      <td>14.272088</td>\n",
       "      <td>-3.475083</td>\n",
       "      <td>0.999183</td>\n",
       "      <td>26.953261</td>\n",
       "    </tr>\n",
       "    <tr>\n",
       "      <th>2</th>\n",
       "      <td>vyE1P</td>\n",
       "      <td>6.263187</td>\n",
       "      <td>-5.948386</td>\n",
       "      <td>5.001160</td>\n",
       "      <td>134.766305</td>\n",
       "    </tr>\n",
       "    <tr>\n",
       "      <th>3</th>\n",
       "      <td>KcrkZ</td>\n",
       "      <td>-13.081196</td>\n",
       "      <td>-11.506057</td>\n",
       "      <td>4.999415</td>\n",
       "      <td>137.945408</td>\n",
       "    </tr>\n",
       "    <tr>\n",
       "      <th>4</th>\n",
       "      <td>AHL4O</td>\n",
       "      <td>12.702195</td>\n",
       "      <td>-8.147433</td>\n",
       "      <td>5.004363</td>\n",
       "      <td>134.766305</td>\n",
       "    </tr>\n",
       "    <tr>\n",
       "      <th>5</th>\n",
       "      <td>HHckp</td>\n",
       "      <td>-3.327590</td>\n",
       "      <td>-2.205276</td>\n",
       "      <td>3.003647</td>\n",
       "      <td>84.038886</td>\n",
       "    </tr>\n",
       "    <tr>\n",
       "      <th>6</th>\n",
       "      <td>h5Ujo</td>\n",
       "      <td>-11.142655</td>\n",
       "      <td>-10.133399</td>\n",
       "      <td>4.002382</td>\n",
       "      <td>110.992147</td>\n",
       "    </tr>\n",
       "    <tr>\n",
       "      <th>7</th>\n",
       "      <td>muH9x</td>\n",
       "      <td>4.234715</td>\n",
       "      <td>-0.001354</td>\n",
       "      <td>2.004588</td>\n",
       "      <td>53.906522</td>\n",
       "    </tr>\n",
       "    <tr>\n",
       "      <th>8</th>\n",
       "      <td>YiRkx</td>\n",
       "      <td>13.355129</td>\n",
       "      <td>-0.332068</td>\n",
       "      <td>4.998647</td>\n",
       "      <td>134.766305</td>\n",
       "    </tr>\n",
       "    <tr>\n",
       "      <th>9</th>\n",
       "      <td>jG6Gi</td>\n",
       "      <td>1.069227</td>\n",
       "      <td>-11.025667</td>\n",
       "      <td>4.997844</td>\n",
       "      <td>137.945408</td>\n",
       "    </tr>\n",
       "  </tbody>\n",
       "</table>\n",
       "</div>"
      ],
      "text/plain": [
       "      id         f0         f1        f2     product\n",
       "0  kBEdx -15.001348  -8.276000 -0.005876    3.179103\n",
       "1  62mP7  14.272088  -3.475083  0.999183   26.953261\n",
       "2  vyE1P   6.263187  -5.948386  5.001160  134.766305\n",
       "3  KcrkZ -13.081196 -11.506057  4.999415  137.945408\n",
       "4  AHL4O  12.702195  -8.147433  5.004363  134.766305\n",
       "5  HHckp  -3.327590  -2.205276  3.003647   84.038886\n",
       "6  h5Ujo -11.142655 -10.133399  4.002382  110.992147\n",
       "7  muH9x   4.234715  -0.001354  2.004588   53.906522\n",
       "8  YiRkx  13.355129  -0.332068  4.998647  134.766305\n",
       "9  jG6Gi   1.069227 -11.025667  4.997844  137.945408"
      ]
     },
     "execution_count": 4,
     "metadata": {},
     "output_type": "execute_result"
    }
   ],
   "source": [
    "data1.info()\n",
    "data1.head(10)"
   ]
  },
  {
   "cell_type": "markdown",
   "metadata": {},
   "source": [
    "Согласно документации к данным, в таблице `geo_data_1` содержатся следующие столбцы:\n",
    "* `id` — уникальный идентификатор скважины\n",
    "* `f0, f1, f2` — три признака точек\n",
    "* `product` — объём запасов в скважине (тыс. баррелей)."
   ]
  },
  {
   "cell_type": "code",
   "execution_count": 5,
   "metadata": {},
   "outputs": [
    {
     "name": "stdout",
     "output_type": "stream",
     "text": [
      "<class 'pandas.core.frame.DataFrame'>\n",
      "RangeIndex: 100000 entries, 0 to 99999\n",
      "Data columns (total 5 columns):\n",
      " #   Column   Non-Null Count   Dtype  \n",
      "---  ------   --------------   -----  \n",
      " 0   id       100000 non-null  object \n",
      " 1   f0       100000 non-null  float64\n",
      " 2   f1       100000 non-null  float64\n",
      " 3   f2       100000 non-null  float64\n",
      " 4   product  100000 non-null  float64\n",
      "dtypes: float64(4), object(1)\n",
      "memory usage: 3.8+ MB\n"
     ]
    },
    {
     "data": {
      "text/html": [
       "<div>\n",
       "<style scoped>\n",
       "    .dataframe tbody tr th:only-of-type {\n",
       "        vertical-align: middle;\n",
       "    }\n",
       "\n",
       "    .dataframe tbody tr th {\n",
       "        vertical-align: top;\n",
       "    }\n",
       "\n",
       "    .dataframe thead th {\n",
       "        text-align: right;\n",
       "    }\n",
       "</style>\n",
       "<table border=\"1\" class=\"dataframe\">\n",
       "  <thead>\n",
       "    <tr style=\"text-align: right;\">\n",
       "      <th></th>\n",
       "      <th>id</th>\n",
       "      <th>f0</th>\n",
       "      <th>f1</th>\n",
       "      <th>f2</th>\n",
       "      <th>product</th>\n",
       "    </tr>\n",
       "  </thead>\n",
       "  <tbody>\n",
       "    <tr>\n",
       "      <th>0</th>\n",
       "      <td>fwXo0</td>\n",
       "      <td>-1.146987</td>\n",
       "      <td>0.963328</td>\n",
       "      <td>-0.828965</td>\n",
       "      <td>27.758673</td>\n",
       "    </tr>\n",
       "    <tr>\n",
       "      <th>1</th>\n",
       "      <td>WJtFt</td>\n",
       "      <td>0.262778</td>\n",
       "      <td>0.269839</td>\n",
       "      <td>-2.530187</td>\n",
       "      <td>56.069697</td>\n",
       "    </tr>\n",
       "    <tr>\n",
       "      <th>2</th>\n",
       "      <td>ovLUW</td>\n",
       "      <td>0.194587</td>\n",
       "      <td>0.289035</td>\n",
       "      <td>-5.586433</td>\n",
       "      <td>62.871910</td>\n",
       "    </tr>\n",
       "    <tr>\n",
       "      <th>3</th>\n",
       "      <td>q6cA6</td>\n",
       "      <td>2.236060</td>\n",
       "      <td>-0.553760</td>\n",
       "      <td>0.930038</td>\n",
       "      <td>114.572842</td>\n",
       "    </tr>\n",
       "    <tr>\n",
       "      <th>4</th>\n",
       "      <td>WPMUX</td>\n",
       "      <td>-0.515993</td>\n",
       "      <td>1.716266</td>\n",
       "      <td>5.899011</td>\n",
       "      <td>149.600746</td>\n",
       "    </tr>\n",
       "    <tr>\n",
       "      <th>5</th>\n",
       "      <td>LzZXx</td>\n",
       "      <td>-0.758092</td>\n",
       "      <td>0.710691</td>\n",
       "      <td>2.585887</td>\n",
       "      <td>90.222465</td>\n",
       "    </tr>\n",
       "    <tr>\n",
       "      <th>6</th>\n",
       "      <td>WBHRv</td>\n",
       "      <td>-0.574891</td>\n",
       "      <td>0.317727</td>\n",
       "      <td>1.773745</td>\n",
       "      <td>45.641478</td>\n",
       "    </tr>\n",
       "    <tr>\n",
       "      <th>7</th>\n",
       "      <td>XO8fn</td>\n",
       "      <td>-1.906649</td>\n",
       "      <td>-2.458350</td>\n",
       "      <td>-0.177097</td>\n",
       "      <td>72.480640</td>\n",
       "    </tr>\n",
       "    <tr>\n",
       "      <th>8</th>\n",
       "      <td>ybmQ5</td>\n",
       "      <td>1.776292</td>\n",
       "      <td>-0.279356</td>\n",
       "      <td>3.004156</td>\n",
       "      <td>106.616832</td>\n",
       "    </tr>\n",
       "    <tr>\n",
       "      <th>9</th>\n",
       "      <td>OilcN</td>\n",
       "      <td>-1.214452</td>\n",
       "      <td>-0.439314</td>\n",
       "      <td>5.922514</td>\n",
       "      <td>52.954532</td>\n",
       "    </tr>\n",
       "  </tbody>\n",
       "</table>\n",
       "</div>"
      ],
      "text/plain": [
       "      id        f0        f1        f2     product\n",
       "0  fwXo0 -1.146987  0.963328 -0.828965   27.758673\n",
       "1  WJtFt  0.262778  0.269839 -2.530187   56.069697\n",
       "2  ovLUW  0.194587  0.289035 -5.586433   62.871910\n",
       "3  q6cA6  2.236060 -0.553760  0.930038  114.572842\n",
       "4  WPMUX -0.515993  1.716266  5.899011  149.600746\n",
       "5  LzZXx -0.758092  0.710691  2.585887   90.222465\n",
       "6  WBHRv -0.574891  0.317727  1.773745   45.641478\n",
       "7  XO8fn -1.906649 -2.458350 -0.177097   72.480640\n",
       "8  ybmQ5  1.776292 -0.279356  3.004156  106.616832\n",
       "9  OilcN -1.214452 -0.439314  5.922514   52.954532"
      ]
     },
     "execution_count": 5,
     "metadata": {},
     "output_type": "execute_result"
    }
   ],
   "source": [
    "data2.info()\n",
    "data2.head(10)"
   ]
  },
  {
   "cell_type": "markdown",
   "metadata": {},
   "source": [
    "Согласно документации к данным, в таблице `geo_data_2` содержатся следующие столбцы:\n",
    "* `id` — уникальный идентификатор скважины\n",
    "* `f0, f1, f2` — три признака точек\n",
    "* `product` — объём запасов в скважине (тыс. баррелей)."
   ]
  },
  {
   "cell_type": "markdown",
   "metadata": {},
   "source": [
    "Простмотрев общую информацию о данных, каких либо осбенно ярких проблем не выделяется.\n",
    "Проверим наличие/отсутвие пропущенных значений."
   ]
  },
  {
   "cell_type": "code",
   "execution_count": 6,
   "metadata": {},
   "outputs": [
    {
     "data": {
      "text/plain": [
       "id         0\n",
       "f0         0\n",
       "f1         0\n",
       "f2         0\n",
       "product    0\n",
       "dtype: int64"
      ]
     },
     "execution_count": 6,
     "metadata": {},
     "output_type": "execute_result"
    }
   ],
   "source": [
    "data0.isna().sum()"
   ]
  },
  {
   "cell_type": "code",
   "execution_count": 7,
   "metadata": {},
   "outputs": [
    {
     "data": {
      "text/plain": [
       "id         0\n",
       "f0         0\n",
       "f1         0\n",
       "f2         0\n",
       "product    0\n",
       "dtype: int64"
      ]
     },
     "execution_count": 7,
     "metadata": {},
     "output_type": "execute_result"
    }
   ],
   "source": [
    "data1.isna().sum()"
   ]
  },
  {
   "cell_type": "code",
   "execution_count": 8,
   "metadata": {},
   "outputs": [
    {
     "data": {
      "text/plain": [
       "id         0\n",
       "f0         0\n",
       "f1         0\n",
       "f2         0\n",
       "product    0\n",
       "dtype: int64"
      ]
     },
     "execution_count": 8,
     "metadata": {},
     "output_type": "execute_result"
    }
   ],
   "source": [
    "data2.isna().sum()"
   ]
  },
  {
   "cell_type": "markdown",
   "metadata": {},
   "source": [
    "Проверка показывает, что ни в одном датафрейме пропущенных значений нет.\n",
    "\n",
    "Проверим наличие дубликатов."
   ]
  },
  {
   "cell_type": "code",
   "execution_count": 9,
   "metadata": {},
   "outputs": [
    {
     "name": "stdout",
     "output_type": "stream",
     "text": [
      "Количество дубликатов в data0: 0\n",
      "Количество дубликатов в data1: 0\n",
      "Количество дубликатов в data2: 0\n"
     ]
    }
   ],
   "source": [
    "print(\"Количество дубликатов в data0:\", data0.duplicated().sum())\n",
    "print(\"Количество дубликатов в data1:\", data1.duplicated().sum())\n",
    "print(\"Количество дубликатов в data2:\", data2.duplicated().sum())"
   ]
  },
  {
   "cell_type": "markdown",
   "metadata": {},
   "source": [
    "Ни в одной таблице дубликатов не обнаружено. \n"
   ]
  },
  {
   "cell_type": "markdown",
   "metadata": {},
   "source": [
    "Визуализируем данные."
   ]
  },
  {
   "cell_type": "code",
   "execution_count": 10,
   "metadata": {},
   "outputs": [
    {
     "data": {
      "image/png": "[encoded data removed]",
      "text/plain": [
       "<Figure size 1440x1080 with 12 Axes>"
      ]
     },
     "metadata": {
      "needs_background": "light"
     },
     "output_type": "display_data"
    }
   ],
   "source": [
    "fig,ax = plt.subplots(3,4,figsize = (20,15))\n",
    "\n",
    "all_frames = [\"data0\",\"data1\",\"data2\"]\n",
    "num_columns = data0.columns[1:]\n",
    "num_columns_with_columns = zip(data0.columns[1:],range(4))\n",
    "all_frames_with_rows = zip([data0, data1, data2],range(3))\n",
    "\n",
    "# графики\n",
    "for column in list(itertools.product(all_frames_with_rows,num_columns_with_columns)):\n",
    "    ax[column[0][1]][column[1][1]].boxplot(column[0][0][column[1][0]])\n",
    "    \n",
    "# название \n",
    "for row in range(3):\n",
    "    ax[row][0].set_ylabel(all_frames[row])\n",
    "for column in range(4):\n",
    "    ax[0][column].set_title(num_columns[column])"
   ]
  },
  {
   "cell_type": "markdown",
   "metadata": {},
   "source": [
    "Присутствуют небольшие выбросы. Так как неизвестно, что означают сами признаки, сложно оценить адекватность распределений и выбросов.\n",
    "Масштабы распределений признаков f0, f1, f2 не сильно отличаются друг от друга. Нет необходимости применять масштабирование.\n"
   ]
  },
  {
   "cell_type": "markdown",
   "metadata": {},
   "source": [
    "В таблицах есть столбец `id`, который не будет нести информации для обучения модели, поэтому удалим его."
   ]
  },
  {
   "cell_type": "code",
   "execution_count": 11,
   "metadata": {},
   "outputs": [],
   "source": [
    "data0 = data0.drop(['id'], axis=1)\n",
    "data1 = data1.drop(['id'], axis=1)\n",
    "data2 = data2.drop(['id'], axis=1)"
   ]
  },
  {
   "cell_type": "markdown",
   "metadata": {},
   "source": [
    "**Вывод этапа**:\n",
    "- Проведена проверка данных на начличие пропущенных значений и дубликатов. Нигде пропусков и повторений не обнаружено.\n",
    "- Проверено распределение признаков. Обнаружены многочисленные выбросы."
   ]
  },
  {
   "cell_type": "markdown",
   "metadata": {},
   "source": [
    "## Обучение и проверка модели"
   ]
  },
  {
   "cell_type": "markdown",
   "metadata": {},
   "source": [
    "Разделим данные на признаки и атрибуты."
   ]
  },
  {
   "cell_type": "code",
   "execution_count": 12,
   "metadata": {},
   "outputs": [],
   "source": [
    "feature_names = ['f0', 'f1', 'f2']\n",
    "target_name = ['product']\n",
    "\n",
    "feature0 = data0[feature_names]\n",
    "target0 = data0[target_name]\n",
    "\n",
    "feature1 = data1[feature_names]\n",
    "target1 = data1[target_name]\n",
    "\n",
    "feature2 = data2[feature_names]\n",
    "target2 = data2[target_name]"
   ]
  },
  {
   "cell_type": "markdown",
   "metadata": {},
   "source": [
    "Для каждого региона:\n",
    "\n",
    "- Разделим данные на обучающую и валидационную выборки\n",
    "- Используем модель линейной регрессии.\n",
    "- Выведем средний запас предсказанного сырья и RMSE модели."
   ]
  },
  {
   "cell_type": "markdown",
   "metadata": {},
   "source": [
    "**Data0**"
   ]
  },
  {
   "cell_type": "code",
   "execution_count": 13,
   "metadata": {},
   "outputs": [
    {
     "name": "stdout",
     "output_type": "stream",
     "text": [
      "Тренировочная выборка: (75000, 3)\n",
      "Валидационная выборка: (25000, 3)\n",
      "Cредний запас предсказанного сырья: 92.39879990657768\n",
      "RMSE модели: 37.75660035026169\n"
     ]
    }
   ],
   "source": [
    "feature_train0, feature_valid0, target_train0, target_valid0 = train_test_split(feature0,target0,test_size=0.25,random_state=42)\n",
    "print('Тренировочная выборка:', feature_train0.shape)\n",
    "print('Валидационная выборка:', feature_valid0.shape)\n",
    "    \n",
    "model0 = LinearRegression()\n",
    "model0.fit(feature_train0, target_train0)\n",
    "predict0 = model0.predict(feature_valid0)\n",
    "\n",
    "predict_mean0 = predict0.mean()\n",
    "rmse0 = mean_squared_error(target_valid0, predict0)**.5\n",
    "\n",
    "print('Cредний запас предсказанного сырья:', predict_mean0)\n",
    "print('RMSE модели:', rmse0)"
   ]
  },
  {
   "cell_type": "markdown",
   "metadata": {},
   "source": [
    "**Data1**"
   ]
  },
  {
   "cell_type": "code",
   "execution_count": 14,
   "metadata": {},
   "outputs": [
    {
     "name": "stdout",
     "output_type": "stream",
     "text": [
      "Тренировочная выборка: (75000, 3)\n",
      "Валидационная выборка: (25000, 3)\n",
      "Cредний запас предсказанного сырья: 68.71287803913762\n",
      "RMSE модели: 0.890280100102884\n"
     ]
    }
   ],
   "source": [
    "feature_train1, feature_valid1, target_train1, target_valid1 = train_test_split(feature1,target1,test_size=0.25,random_state=42)\n",
    "print('Тренировочная выборка:', feature_train1.shape)\n",
    "print('Валидационная выборка:', feature_valid1.shape)\n",
    "    \n",
    "model1 = LinearRegression()\n",
    "model1.fit(feature_train1, target_train1)\n",
    "predict1 = model1.predict(feature_valid1)\n",
    "\n",
    "predict_mean1 = predict1.mean()\n",
    "rmse1 = mean_squared_error(target_valid1, predict1)**.5\n",
    "\n",
    "print('Cредний запас предсказанного сырья:', predict_mean1)\n",
    "print('RMSE модели:', rmse1)"
   ]
  },
  {
   "cell_type": "markdown",
   "metadata": {},
   "source": [
    "**Data2**"
   ]
  },
  {
   "cell_type": "code",
   "execution_count": 15,
   "metadata": {},
   "outputs": [
    {
     "name": "stdout",
     "output_type": "stream",
     "text": [
      "Тренировочная выборка: (75000, 3)\n",
      "Валидационная выборка: (25000, 3)\n",
      "Cредний запас предсказанного сырья: 94.77102387765939\n",
      "RMSE модели: 40.145872311342174\n"
     ]
    }
   ],
   "source": [
    "feature_train2, feature_valid2, target_train2, target_valid2 = train_test_split(feature2,target2,test_size=0.25,random_state=42)\n",
    "print('Тренировочная выборка:', feature_train2.shape)\n",
    "print('Валидационная выборка:', feature_valid2.shape)\n",
    "    \n",
    "model2 = LinearRegression()\n",
    "model2.fit(feature_train2, target_train2)\n",
    "predict2 = model2.predict(feature_valid2)\n",
    "\n",
    "predict_mean2 = predict2.mean()\n",
    "rmse2 = mean_squared_error(target_valid2, predict2)**.5\n",
    "\n",
    "print('Cредний запас предсказанного сырья:', predict_mean2)\n",
    "print('RMSE модели:', rmse2)"
   ]
  },
  {
   "cell_type": "markdown",
   "metadata": {},
   "source": [
    "**Вывод этапа**:\n",
    "Нулевой регион:\n",
    "- Показатель сырья - 92.4\n",
    "- Показатель RMSE - 37.8\n",
    "Такие высокие значения свидетельствуют о неоднозначности показателя, неточности модели регрессии.<br>\n",
    "<br>\n",
    "Первый регион:\n",
    "- Показатель сырья - 68.7\n",
    "- Показатель RMSE - 0.9\n",
    "RMSE довольно маленький, что говорит о точности и качестве модели.<br>\n",
    "<br>\n",
    "Второй регион:\n",
    "- Показатель сырья - 94.8\n",
    "- Показатель RMSE - 40.1\n",
    "Такие высокие значения свидетельствуют о неоднозначности показателя, неточности модели регрессии.<br>"
   ]
  },
  {
   "cell_type": "markdown",
   "metadata": {},
   "source": [
    "## Подготовка к расчёту прибыли"
   ]
  },
  {
   "cell_type": "markdown",
   "metadata": {},
   "source": [
    "- min_product = budget / (top_wells * unit_income)\n",
    "- budget - Бюджет на разработку скважин в регионе — 10 млрд рублей\n",
    "- top_wells, samp_wells - При расчёте выбирают 200 лучших скважин из 500 в выборке\n",
    "- unit_income - Доход с каждой единицы продукта составляет 450 тыс. рублей"
   ]
  },
  {
   "cell_type": "code",
   "execution_count": 16,
   "metadata": {},
   "outputs": [],
   "source": [
    "BUDGET = 10**10\n",
    "TOP_WELLS = 200\n",
    "SAMP_WELLS = 500\n",
    "UNIT_INCOME = 450000\n",
    "DAMAGE_THRESHOLD =  0.025\n",
    "MIN_PROTUCT = BUDGET/(UNIT_INCOME*TOP_WELLS)"
   ]
  },
  {
   "cell_type": "code",
   "execution_count": 17,
   "metadata": {},
   "outputs": [
    {
     "name": "stdout",
     "output_type": "stream",
     "text": [
      "Минимальный объём продукта с одной скважины для безубыточной разработки: 111.11111111111111\n"
     ]
    }
   ],
   "source": [
    "print('Минимальный объём продукта с одной скважины для безубыточной разработки:', MIN_PROTUCT)"
   ]
  },
  {
   "cell_type": "markdown",
   "metadata": {},
   "source": [
    "**Вывод этапа**:\n",
    "Минимальный объём продукта для безубыточной разработки составляет 111.11.\n",
    "Данное значение превышает средние значения запасов скважин по всем регионам."
   ]
  },
  {
   "cell_type": "markdown",
   "metadata": {},
   "source": [
    "## Расчёт прибыли и рисков "
   ]
  },
  {
   "cell_type": "markdown",
   "metadata": {},
   "source": [
    "Напишем функцию для расчёта прибыли по выбранным скважинам и предсказаниям модели:\n",
    "\n",
    "- Выберем скважины с максимальными значениями предсказаний. Количество скважин зависит от бюджета компании и стоимости разработки одной скважины. В нашем случае выберем случайно 500 точек и отберём 200 с максимальным показателем объёма сырья\n",
    "- Просуммируем целевое значение объёма сырья, соответствующее этим предсказаниям.\n",
    "- Рассчитаем прибыль для полученного объёма сырья."
   ]
  },
  {
   "cell_type": "code",
   "execution_count": 18,
   "metadata": {},
   "outputs": [],
   "source": [
    "target_valid0 = pd.Series(target_valid0['product']).reset_index(drop=True)\n",
    "target_valid1 = pd.Series(target_valid1['product']).reset_index(drop=True)\n",
    "target_valid2 = pd.Series(target_valid2['product']).reset_index(drop=True)\n",
    "\n",
    "predict0 = pd.Series(*predict0.reshape(1,-1))\n",
    "predict1 = pd.Series(*predict1.reshape(1,-1))\n",
    "predict2 = pd.Series(*predict2.reshape(1,-1))"
   ]
  },
  {
   "cell_type": "code",
   "execution_count": 19,
   "metadata": {},
   "outputs": [],
   "source": [
    "def show_predicted_income(top_wells_mean, volume, income):\n",
    "    print('Средний запас сырья:', top_wells_mean)\n",
    "    print('Суммарный целевой объём сырья:', volume)\n",
    "    print('Прибыль для полученного объёма сырья:', income)"
   ]
  },
  {
   "cell_type": "code",
   "execution_count": 20,
   "metadata": {},
   "outputs": [],
   "source": [
    "def predicted_income(target, predicts, state = 42, pok = True):\n",
    "    sample_preds = predicts.sample(n = SAMP_WELLS, replace = True, random_state = state)\n",
    "    preds = sample_preds.sort_values(ascending=False)[:TOP_WELLS]\n",
    "    top_targets = target[preds.index]\n",
    "    top_wells_mean = top_targets.mean()\n",
    "    volume = sum(top_targets)\n",
    "    income = volume * UNIT_INCOME - BUDGET\n",
    "    if pok == True:\n",
    "        show_predicted_income(top_wells_mean, volume, income)\n",
    "    else: \n",
    "        return income"
   ]
  },
  {
   "cell_type": "code",
   "execution_count": 21,
   "metadata": {},
   "outputs": [
    {
     "name": "stdout",
     "output_type": "stream",
     "text": [
      "Регион 0\n",
      "Средний запас сырья: 117.46420066477886\n",
      "Суммарный целевой объём сырья: 23492.840132955753\n",
      "Прибыль для полученного объёма сырья: 571778059.8300896\n"
     ]
    }
   ],
   "source": [
    "print('Регион 0')\n",
    "predicted_income(target_valid0, predict0)"
   ]
  },
  {
   "cell_type": "code",
   "execution_count": 22,
   "metadata": {},
   "outputs": [
    {
     "name": "stdout",
     "output_type": "stream",
     "text": [
      "Регион 1\n",
      "Средний запас сырья: 118.78924134931037\n",
      "Суммарный целевой объём сырья: 23757.84826986213\n",
      "Прибыль для полученного объёма сырья: 691031721.4379578\n"
     ]
    }
   ],
   "source": [
    "print('Регион 1')\n",
    "predicted_income(target_valid1, predict1)"
   ]
  },
  {
   "cell_type": "code",
   "execution_count": 23,
   "metadata": {},
   "outputs": [
    {
     "name": "stdout",
     "output_type": "stream",
     "text": [
      "Регион 2\n",
      "Средний запас сырья: 110.80099354526509\n",
      "Суммарный целевой объём сырья: 22160.198709053013\n",
      "Прибыль для полученного объёма сырья: -27910580.926143646\n"
     ]
    }
   ],
   "source": [
    "print('Регион 2')\n",
    "predicted_income(target_valid2, predict2)"
   ]
  },
  {
   "cell_type": "markdown",
   "metadata": {},
   "source": [
    "Теперь расчитаем риски. Применим Bootstrap с 1000 выборок, чтобы найти распределение прибыли.\n",
    "Найдём среднюю прибыль, 95%-й доверительный интервал и риск убытков."
   ]
  },
  {
   "cell_type": "code",
   "execution_count": 24,
   "metadata": {},
   "outputs": [],
   "source": [
    "def show_risks(income_mean, conf_int_left, conf_int_right, loss_rate):\n",
    "    print('Средняя прибыль:', income_mean / 10**6)\n",
    "    print('95% доверительный интервал:','%.3f' % (conf_int_left / 10**6), '%.3f' %(conf_int_right / 10**6))\n",
    "    print('Риск убытков:', '%.3f' %(loss_rate * 100))"
   ]
  },
  {
   "cell_type": "code",
   "execution_count": 25,
   "metadata": {},
   "outputs": [],
   "source": [
    "def risk_calc(target, predicts):\n",
    "    bootstrap_samples = 1000\n",
    "    alpha = 0.05\n",
    "    incomes = []\n",
    "    state = np.random.RandomState(42)\n",
    "    for _ in range(bootstrap_samples):\n",
    "        income = predicted_income(target, predicts, state, False)\n",
    "        incomes.append(income)\n",
    "\n",
    "    incomes = pd.Series(incomes)\n",
    "    income_mean = incomes.mean()\n",
    "    conf_int_left = incomes.quantile(alpha/2)\n",
    "    conf_int_right = incomes.quantile(1 - alpha/2)\n",
    "    \n",
    "    loss_count = 0\n",
    "    for inc in incomes :\n",
    "        if inc < 0 :\n",
    "            loss_count += 1\n",
    "    loss_rate = loss_count / bootstrap_samples \n",
    "    \n",
    "    show_risks(income_mean, conf_int_left, conf_int_right, loss_rate)"
   ]
  },
  {
   "cell_type": "code",
   "execution_count": 26,
   "metadata": {},
   "outputs": [
    {
     "name": "stdout",
     "output_type": "stream",
     "text": [
      "Средняя прибыль: 399.5754780542297\n",
      "95% доверительный интервал: -110.468 897.460\n",
      "Риск убытков: 6.000\n"
     ]
    }
   ],
   "source": [
    "risk_calc(target_valid0, predict0)"
   ]
  },
  {
   "cell_type": "code",
   "execution_count": 27,
   "metadata": {},
   "outputs": [
    {
     "name": "stdout",
     "output_type": "stream",
     "text": [
      "Средняя прибыль: 452.04889090648027\n",
      "95% доверительный интервал: 61.684 845.340\n",
      "Риск убытков: 1.500\n"
     ]
    }
   ],
   "source": [
    "risk_calc(target_valid1, predict1)"
   ]
  },
  {
   "cell_type": "code",
   "execution_count": 28,
   "metadata": {},
   "outputs": [
    {
     "name": "stdout",
     "output_type": "stream",
     "text": [
      "Средняя прибыль: 375.00990291532827\n",
      "95% доверительный интервал: -144.767 888.390\n",
      "Риск убытков: 8.000\n"
     ]
    }
   ],
   "source": [
    "risk_calc(target_valid2, predict2)"
   ]
  },
  {
   "cell_type": "markdown",
   "metadata": {},
   "source": [
    "**Вывод этапа**:\n",
    "- Написаны функции расчета прибыли и рисков\n",
    "- Рассчитан средний запас сырья с одной скважины среди всех регионов 0: 117.5, 1: 118.8, 2: 111.8, что превосходит минимально необходимый объём 111.11.\n",
    "\n",
    "Самым выгодным регионом оказался Регион 1 с оценкой средней прибыли 452.05 млн. с риском убытков всего в 1.5%. Следовательно именно Регион 1 рекомендуется к разработке."
   ]
  },
  {
   "cell_type": "markdown",
   "metadata": {},
   "source": [
    "**Общий вывод** <br>\n",
    "\n",
    "Итак, полученный архив данных -данные о скважинах нескольких регионов.\n",
    "\n",
    "На этапе предобработки проведена проверка данных на начличие пропущенных значений и дубликатов. Нигде пропусков и повторений не обнаружено. Построено распределение признаков. Обнаружены многочисленные выбросы. Однако из-за того, что неизвестно, что именно означают сами признаки, оценить адекватность распределений и выбросов точно нельзя. Данные оставлены без изменений.\n",
    "\n",
    "На этпе обучения модели выделен целевой признак `product` и атрибуты будущих моделей. Обучены модели на основе линейной регрессии и найдены показатели регионов.\n",
    "Нулевой регион:\n",
    "- Показатель сырья - 92.4\n",
    "- Показатель RMSE - 37.8\n",
    "Такие высокие значения свидетельствуют о неоднозначности показателя, неточности модели регрессии.<br>\n",
    "<br>\n",
    "Первый регион:\n",
    "- Показатель сырья - 68.7\n",
    "- Показатель RMSE - 0.9\n",
    "RMSE довольно маленький, что говорит о точности и качестве модели.<br>\n",
    "<br>\n",
    "Второй регион:\n",
    "- Показатель сырья - 94.8\n",
    "- Показатель RMSE - 40.1\n",
    "Такие высокие значения свидетельствуют о неоднозначности показателя, неточности модели регрессии.<br>\n",
    "\n",
    "На этапе расчета прибыли был найден минимальный объём продукта для безубыточной разработки - 111.11, написаны функции расчета прибыли и рисков.<br>\n",
    "Рассчитан средний запас сырья с одной скважины среди всех регионов Регион 0: 117.5, 1: 118.8, 2: 111.8, что превосходит минимально необходимый объём 111.11.\n",
    "\n",
    "Самым выгодным регионом оказался Регион 1 с оценкой средней прибыли 452.05 млн. с риском убытков всего в 1.5%. Следовательно именно Регион 1 рекомендуется к разработке."
   ]
  }
 ],
 "metadata": {
  "ExecuteTimeLog": [
   {
    "duration": 1482,
    "start_time": "2023-06-07T01:25:29.883Z"
   },
   {
    "duration": 712,
    "start_time": "2023-06-07T01:26:22.712Z"
   },
   {
    "duration": 24,
    "start_time": "2023-06-07T01:27:56.530Z"
   },
   {
    "duration": 20,
    "start_time": "2023-06-07T01:31:39.345Z"
   },
   {
    "duration": 25,
    "start_time": "2023-06-07T01:32:06.807Z"
   },
   {
    "duration": 9,
    "start_time": "2023-06-07T01:34:49.992Z"
   },
   {
    "duration": 9,
    "start_time": "2023-06-07T01:34:51.240Z"
   },
   {
    "duration": 9,
    "start_time": "2023-06-07T01:34:51.783Z"
   },
   {
    "duration": 110,
    "start_time": "2023-06-07T01:37:00.750Z"
   },
   {
    "duration": 121,
    "start_time": "2023-06-07T01:37:16.574Z"
   },
   {
    "duration": 106,
    "start_time": "2023-06-07T01:42:19.799Z"
   },
   {
    "duration": 1362,
    "start_time": "2023-06-07T01:43:02.066Z"
   },
   {
    "duration": 327,
    "start_time": "2023-06-07T01:43:03.431Z"
   },
   {
    "duration": 26,
    "start_time": "2023-06-07T01:43:03.759Z"
   },
   {
    "duration": 16,
    "start_time": "2023-06-07T01:43:03.786Z"
   },
   {
    "duration": 17,
    "start_time": "2023-06-07T01:43:03.804Z"
   },
   {
    "duration": 15,
    "start_time": "2023-06-07T01:43:03.822Z"
   },
   {
    "duration": 8,
    "start_time": "2023-06-07T01:43:03.838Z"
   },
   {
    "duration": 38,
    "start_time": "2023-06-07T01:43:03.847Z"
   },
   {
    "duration": 116,
    "start_time": "2023-06-07T01:43:03.886Z"
   },
   {
    "duration": 8293,
    "start_time": "2023-06-07T01:43:04.003Z"
   },
   {
    "duration": 1090,
    "start_time": "2023-06-07T01:44:32.013Z"
   },
   {
    "duration": 1086,
    "start_time": "2023-06-07T01:44:43.805Z"
   },
   {
    "duration": 936,
    "start_time": "2023-06-07T01:44:52.384Z"
   },
   {
    "duration": 944,
    "start_time": "2023-06-07T01:46:43.689Z"
   },
   {
    "duration": 1033,
    "start_time": "2023-06-07T01:49:45.913Z"
   },
   {
    "duration": 1027,
    "start_time": "2023-06-07T01:51:01.206Z"
   },
   {
    "duration": 8,
    "start_time": "2023-06-07T01:59:01.354Z"
   },
   {
    "duration": 109,
    "start_time": "2023-06-07T02:10:59.580Z"
   },
   {
    "duration": 23,
    "start_time": "2023-06-07T02:11:36.960Z"
   },
   {
    "duration": 24,
    "start_time": "2023-06-07T02:11:51.834Z"
   },
   {
    "duration": 9,
    "start_time": "2023-06-07T02:23:39.285Z"
   },
   {
    "duration": 2,
    "start_time": "2023-06-07T02:24:16.822Z"
   },
   {
    "duration": 8,
    "start_time": "2023-06-07T02:25:41.620Z"
   },
   {
    "duration": 8,
    "start_time": "2023-06-07T02:26:06.150Z"
   },
   {
    "duration": 3,
    "start_time": "2023-06-07T02:26:12.702Z"
   },
   {
    "duration": 3,
    "start_time": "2023-06-07T02:26:13.413Z"
   },
   {
    "duration": 10,
    "start_time": "2023-06-07T02:27:48.693Z"
   },
   {
    "duration": 74,
    "start_time": "2023-06-07T02:28:43.540Z"
   },
   {
    "duration": 28,
    "start_time": "2023-06-07T02:28:47.077Z"
   },
   {
    "duration": 30,
    "start_time": "2023-06-07T02:29:18.403Z"
   },
   {
    "duration": 36,
    "start_time": "2023-06-07T02:29:28.373Z"
   },
   {
    "duration": 3,
    "start_time": "2023-06-07T02:30:13.397Z"
   },
   {
    "duration": 3,
    "start_time": "2023-06-07T02:30:14.251Z"
   },
   {
    "duration": 65,
    "start_time": "2023-06-07T02:37:53.973Z"
   },
   {
    "duration": 61,
    "start_time": "2023-06-07T02:38:09.698Z"
   },
   {
    "duration": 125,
    "start_time": "2023-06-07T02:38:16.605Z"
   },
   {
    "duration": 28,
    "start_time": "2023-06-07T02:38:47.242Z"
   },
   {
    "duration": 22,
    "start_time": "2023-06-07T02:40:15.411Z"
   },
   {
    "duration": 29,
    "start_time": "2023-06-07T02:40:49.306Z"
   },
   {
    "duration": 111,
    "start_time": "2023-06-07T02:41:30.773Z"
   },
   {
    "duration": 3,
    "start_time": "2023-06-07T02:41:38.983Z"
   },
   {
    "duration": 4,
    "start_time": "2023-06-07T02:41:39.658Z"
   },
   {
    "duration": 5,
    "start_time": "2023-06-07T02:43:36.339Z"
   },
   {
    "duration": 3,
    "start_time": "2023-06-07T02:45:08.363Z"
   },
   {
    "duration": 87,
    "start_time": "2023-06-07T02:48:25.411Z"
   },
   {
    "duration": 3,
    "start_time": "2023-06-07T02:48:55.004Z"
   },
   {
    "duration": 6,
    "start_time": "2023-06-07T02:50:26.276Z"
   },
   {
    "duration": 6,
    "start_time": "2023-06-07T02:50:27.200Z"
   },
   {
    "duration": 5,
    "start_time": "2023-06-07T02:50:27.814Z"
   },
   {
    "duration": 3,
    "start_time": "2023-06-07T02:56:40.220Z"
   },
   {
    "duration": 4,
    "start_time": "2023-06-07T02:56:45.085Z"
   },
   {
    "duration": 8,
    "start_time": "2023-06-07T02:57:37.074Z"
   },
   {
    "duration": 4,
    "start_time": "2023-06-07T02:57:47.607Z"
   },
   {
    "duration": 11,
    "start_time": "2023-06-07T02:57:48.496Z"
   },
   {
    "duration": 6,
    "start_time": "2023-06-07T02:57:58.239Z"
   },
   {
    "duration": 12,
    "start_time": "2023-06-07T02:57:58.929Z"
   },
   {
    "duration": 4,
    "start_time": "2023-06-07T02:58:14.162Z"
   },
   {
    "duration": 2175,
    "start_time": "2023-06-07T02:58:14.941Z"
   },
   {
    "duration": 4,
    "start_time": "2023-06-07T02:59:00.754Z"
   },
   {
    "duration": 2056,
    "start_time": "2023-06-07T02:59:08.446Z"
   },
   {
    "duration": 4,
    "start_time": "2023-06-07T03:00:42.930Z"
   },
   {
    "duration": 2073,
    "start_time": "2023-06-07T03:00:43.373Z"
   },
   {
    "duration": 4,
    "start_time": "2023-06-07T03:01:01.506Z"
   },
   {
    "duration": 2124,
    "start_time": "2023-06-07T03:01:03.315Z"
   },
   {
    "duration": 3,
    "start_time": "2023-06-07T03:02:39.135Z"
   },
   {
    "duration": 14,
    "start_time": "2023-06-07T03:02:39.984Z"
   },
   {
    "duration": 8,
    "start_time": "2023-06-07T03:02:42.196Z"
   },
   {
    "duration": 12,
    "start_time": "2023-06-07T03:02:43.178Z"
   },
   {
    "duration": 3,
    "start_time": "2023-06-07T03:02:56.714Z"
   },
   {
    "duration": 4,
    "start_time": "2023-06-07T03:02:57.459Z"
   },
   {
    "duration": 2295,
    "start_time": "2023-06-07T03:02:58.338Z"
   },
   {
    "duration": 2416,
    "start_time": "2023-06-07T03:03:52.114Z"
   },
   {
    "duration": 2591,
    "start_time": "2023-06-07T03:03:54.531Z"
   },
   {
    "duration": 4,
    "start_time": "2023-06-07T03:06:51.634Z"
   },
   {
    "duration": 7,
    "start_time": "2023-06-07T03:06:52.448Z"
   },
   {
    "duration": 10,
    "start_time": "2023-06-07T03:06:53.445Z"
   },
   {
    "duration": 4,
    "start_time": "2023-06-07T03:07:09.151Z"
   },
   {
    "duration": 8,
    "start_time": "2023-06-07T03:07:09.706Z"
   },
   {
    "duration": 7,
    "start_time": "2023-06-07T03:07:11.813Z"
   },
   {
    "duration": 8,
    "start_time": "2023-06-07T03:07:12.334Z"
   },
   {
    "duration": 5,
    "start_time": "2023-06-07T03:07:17.052Z"
   },
   {
    "duration": 4,
    "start_time": "2023-06-07T03:07:27.146Z"
   },
   {
    "duration": 22,
    "start_time": "2023-06-07T03:07:27.944Z"
   },
   {
    "duration": 6,
    "start_time": "2023-06-07T03:08:09.721Z"
   },
   {
    "duration": 1129,
    "start_time": "2023-06-07T03:08:10.173Z"
   },
   {
    "duration": 1145,
    "start_time": "2023-06-07T03:08:12.873Z"
   },
   {
    "duration": 1232,
    "start_time": "2023-06-07T03:08:14.102Z"
   },
   {
    "duration": 8,
    "start_time": "2023-06-07T03:11:59.682Z"
   },
   {
    "duration": 962,
    "start_time": "2023-06-07T03:12:00.512Z"
   },
   {
    "duration": 1013,
    "start_time": "2023-06-07T03:12:14.140Z"
   },
   {
    "duration": 1051,
    "start_time": "2023-06-07T03:12:15.901Z"
   },
   {
    "duration": 62,
    "start_time": "2023-06-07T03:12:44.205Z"
   },
   {
    "duration": 71,
    "start_time": "2023-06-07T03:14:00.934Z"
   },
   {
    "duration": 153,
    "start_time": "2023-06-07T03:14:05.762Z"
   },
   {
    "duration": 8,
    "start_time": "2023-06-07T03:14:12.696Z"
   },
   {
    "duration": 4,
    "start_time": "2023-06-07T03:14:13.541Z"
   },
   {
    "duration": 965,
    "start_time": "2023-06-07T03:14:14.404Z"
   },
   {
    "duration": 997,
    "start_time": "2023-06-07T03:14:17.150Z"
   },
   {
    "duration": 987,
    "start_time": "2023-06-07T03:14:18.676Z"
   },
   {
    "duration": 1497,
    "start_time": "2023-06-07T03:27:24.278Z"
   },
   {
    "duration": 466,
    "start_time": "2023-06-07T03:27:25.778Z"
   },
   {
    "duration": 30,
    "start_time": "2023-06-07T03:27:26.246Z"
   },
   {
    "duration": 31,
    "start_time": "2023-06-07T03:27:26.279Z"
   },
   {
    "duration": 65,
    "start_time": "2023-06-07T03:27:26.311Z"
   },
   {
    "duration": 64,
    "start_time": "2023-06-07T03:27:26.379Z"
   },
   {
    "duration": 80,
    "start_time": "2023-06-07T03:27:26.445Z"
   },
   {
    "duration": 28,
    "start_time": "2023-06-07T03:27:26.527Z"
   },
   {
    "duration": 174,
    "start_time": "2023-06-07T03:27:26.557Z"
   },
   {
    "duration": 978,
    "start_time": "2023-06-07T03:27:26.733Z"
   },
   {
    "duration": 13,
    "start_time": "2023-06-07T03:27:27.714Z"
   },
   {
    "duration": 73,
    "start_time": "2023-06-07T03:27:27.729Z"
   },
   {
    "duration": 179,
    "start_time": "2023-06-07T03:27:27.810Z"
   },
   {
    "duration": 129,
    "start_time": "2023-06-07T03:27:27.991Z"
   },
   {
    "duration": 67,
    "start_time": "2023-06-07T03:27:28.123Z"
   },
   {
    "duration": 47,
    "start_time": "2023-06-07T03:27:28.192Z"
   },
   {
    "duration": 52,
    "start_time": "2023-06-07T03:27:28.241Z"
   },
   {
    "duration": 7,
    "start_time": "2023-06-07T03:27:28.295Z"
   },
   {
    "duration": 39,
    "start_time": "2023-06-07T03:27:28.304Z"
   },
   {
    "duration": 24,
    "start_time": "2023-06-07T03:27:28.344Z"
   },
   {
    "duration": 6,
    "start_time": "2023-06-07T03:27:28.370Z"
   },
   {
    "duration": 58,
    "start_time": "2023-06-07T03:27:28.378Z"
   },
   {
    "duration": 17,
    "start_time": "2023-06-07T03:27:28.438Z"
   },
   {
    "duration": 11,
    "start_time": "2023-06-07T03:27:28.457Z"
   },
   {
    "duration": 1119,
    "start_time": "2023-06-07T03:27:28.469Z"
   },
   {
    "duration": 1050,
    "start_time": "2023-06-07T03:27:29.593Z"
   },
   {
    "duration": 1065,
    "start_time": "2023-06-07T03:27:30.645Z"
   },
   {
    "duration": 6890,
    "start_time": "2023-06-07T07:55:10.397Z"
   },
   {
    "duration": 5006,
    "start_time": "2023-06-07T07:55:17.308Z"
   },
   {
    "duration": 112,
    "start_time": "2023-06-07T07:55:22.318Z"
   },
   {
    "duration": 109,
    "start_time": "2023-06-07T07:55:22.462Z"
   },
   {
    "duration": 188,
    "start_time": "2023-06-07T07:55:22.573Z"
   },
   {
    "duration": 49,
    "start_time": "2023-06-07T07:55:22.763Z"
   },
   {
    "duration": 73,
    "start_time": "2023-06-07T07:55:22.814Z"
   },
   {
    "duration": 105,
    "start_time": "2023-06-07T07:55:22.895Z"
   },
   {
    "duration": 1204,
    "start_time": "2023-06-07T07:55:23.019Z"
   },
   {
    "duration": 7862,
    "start_time": "2023-06-07T07:55:24.266Z"
   },
   {
    "duration": 54,
    "start_time": "2023-06-07T07:55:32.169Z"
   },
   {
    "duration": 286,
    "start_time": "2023-06-07T07:55:32.225Z"
   },
   {
    "duration": 352,
    "start_time": "2023-06-07T07:55:32.515Z"
   },
   {
    "duration": 323,
    "start_time": "2023-06-07T07:55:32.895Z"
   },
   {
    "duration": 42,
    "start_time": "2023-06-07T07:55:33.225Z"
   },
   {
    "duration": 42,
    "start_time": "2023-06-07T07:55:33.269Z"
   },
   {
    "duration": 52,
    "start_time": "2023-06-07T07:55:33.319Z"
   },
   {
    "duration": 15,
    "start_time": "2023-06-07T07:55:33.383Z"
   },
   {
    "duration": 11,
    "start_time": "2023-06-07T07:55:33.409Z"
   },
   {
    "duration": 19,
    "start_time": "2023-06-07T07:55:33.425Z"
   },
   {
    "duration": 92,
    "start_time": "2023-06-07T07:55:33.482Z"
   },
   {
    "duration": 69,
    "start_time": "2023-06-07T07:55:33.589Z"
   },
   {
    "duration": 17,
    "start_time": "2023-06-07T07:55:33.672Z"
   },
   {
    "duration": 17,
    "start_time": "2023-06-07T07:55:33.692Z"
   },
   {
    "duration": 6856,
    "start_time": "2023-06-07T07:55:33.711Z"
   },
   {
    "duration": 7624,
    "start_time": "2023-06-07T07:55:40.569Z"
   },
   {
    "duration": 7944,
    "start_time": "2023-06-07T07:55:48.195Z"
   },
   {
    "duration": 1717,
    "start_time": "2023-06-07T10:58:40.097Z"
   },
   {
    "duration": 905,
    "start_time": "2023-06-07T10:58:41.819Z"
   },
   {
    "duration": 29,
    "start_time": "2023-06-07T10:58:42.726Z"
   },
   {
    "duration": 27,
    "start_time": "2023-06-07T10:58:42.757Z"
   },
   {
    "duration": 23,
    "start_time": "2023-06-07T10:58:42.794Z"
   },
   {
    "duration": 30,
    "start_time": "2023-06-07T10:58:42.819Z"
   },
   {
    "duration": 52,
    "start_time": "2023-06-07T10:58:42.851Z"
   },
   {
    "duration": 12,
    "start_time": "2023-06-07T10:58:42.905Z"
   },
   {
    "duration": 142,
    "start_time": "2023-06-07T10:58:42.919Z"
   },
   {
    "duration": 1156,
    "start_time": "2023-06-07T10:58:43.065Z"
   },
   {
    "duration": 137,
    "start_time": "2023-06-07T10:58:44.223Z"
   },
   {
    "duration": 0,
    "start_time": "2023-06-07T10:58:44.362Z"
   },
   {
    "duration": 0,
    "start_time": "2023-06-07T10:58:44.363Z"
   },
   {
    "duration": 0,
    "start_time": "2023-06-07T10:58:44.365Z"
   },
   {
    "duration": 0,
    "start_time": "2023-06-07T10:58:44.365Z"
   },
   {
    "duration": 0,
    "start_time": "2023-06-07T10:58:44.366Z"
   },
   {
    "duration": 0,
    "start_time": "2023-06-07T10:58:44.376Z"
   },
   {
    "duration": 0,
    "start_time": "2023-06-07T10:58:44.381Z"
   },
   {
    "duration": 0,
    "start_time": "2023-06-07T10:58:44.382Z"
   },
   {
    "duration": 0,
    "start_time": "2023-06-07T10:58:44.383Z"
   },
   {
    "duration": 0,
    "start_time": "2023-06-07T10:58:44.386Z"
   },
   {
    "duration": 0,
    "start_time": "2023-06-07T10:58:44.387Z"
   },
   {
    "duration": 1,
    "start_time": "2023-06-07T10:58:44.389Z"
   },
   {
    "duration": 0,
    "start_time": "2023-06-07T10:58:44.390Z"
   },
   {
    "duration": 0,
    "start_time": "2023-06-07T10:58:44.393Z"
   },
   {
    "duration": 0,
    "start_time": "2023-06-07T10:58:44.395Z"
   },
   {
    "duration": 1,
    "start_time": "2023-06-07T10:58:44.396Z"
   },
   {
    "duration": 0,
    "start_time": "2023-06-07T10:58:44.399Z"
   },
   {
    "duration": 1538,
    "start_time": "2023-06-07T11:01:55.870Z"
   },
   {
    "duration": 386,
    "start_time": "2023-06-07T11:01:57.412Z"
   },
   {
    "duration": 32,
    "start_time": "2023-06-07T11:01:57.800Z"
   },
   {
    "duration": 24,
    "start_time": "2023-06-07T11:01:57.833Z"
   },
   {
    "duration": 21,
    "start_time": "2023-06-07T11:01:57.877Z"
   },
   {
    "duration": 10,
    "start_time": "2023-06-07T11:01:57.900Z"
   },
   {
    "duration": 42,
    "start_time": "2023-06-07T11:01:57.912Z"
   },
   {
    "duration": 27,
    "start_time": "2023-06-07T11:01:57.957Z"
   },
   {
    "duration": 177,
    "start_time": "2023-06-07T11:01:57.986Z"
   },
   {
    "duration": 141,
    "start_time": "2023-06-07T11:01:58.165Z"
   },
   {
    "duration": 0,
    "start_time": "2023-06-07T11:01:58.308Z"
   },
   {
    "duration": 0,
    "start_time": "2023-06-07T11:01:58.310Z"
   },
   {
    "duration": 0,
    "start_time": "2023-06-07T11:01:58.311Z"
   },
   {
    "duration": 0,
    "start_time": "2023-06-07T11:01:58.312Z"
   },
   {
    "duration": 0,
    "start_time": "2023-06-07T11:01:58.313Z"
   },
   {
    "duration": 0,
    "start_time": "2023-06-07T11:01:58.314Z"
   },
   {
    "duration": 0,
    "start_time": "2023-06-07T11:01:58.315Z"
   },
   {
    "duration": 0,
    "start_time": "2023-06-07T11:01:58.317Z"
   },
   {
    "duration": 0,
    "start_time": "2023-06-07T11:01:58.317Z"
   },
   {
    "duration": 0,
    "start_time": "2023-06-07T11:01:58.319Z"
   },
   {
    "duration": 0,
    "start_time": "2023-06-07T11:01:58.320Z"
   },
   {
    "duration": 0,
    "start_time": "2023-06-07T11:01:58.321Z"
   },
   {
    "duration": 0,
    "start_time": "2023-06-07T11:01:58.323Z"
   },
   {
    "duration": 0,
    "start_time": "2023-06-07T11:01:58.324Z"
   },
   {
    "duration": 0,
    "start_time": "2023-06-07T11:01:58.325Z"
   },
   {
    "duration": 1,
    "start_time": "2023-06-07T11:01:58.325Z"
   },
   {
    "duration": 0,
    "start_time": "2023-06-07T11:01:58.326Z"
   },
   {
    "duration": 0,
    "start_time": "2023-06-07T11:01:58.327Z"
   },
   {
    "duration": 1426,
    "start_time": "2023-06-07T11:04:04.797Z"
   },
   {
    "duration": 442,
    "start_time": "2023-06-07T11:04:06.227Z"
   },
   {
    "duration": 27,
    "start_time": "2023-06-07T11:04:06.671Z"
   },
   {
    "duration": 27,
    "start_time": "2023-06-07T11:04:06.700Z"
   },
   {
    "duration": 27,
    "start_time": "2023-06-07T11:04:06.729Z"
   },
   {
    "duration": 23,
    "start_time": "2023-06-07T11:04:06.758Z"
   },
   {
    "duration": 11,
    "start_time": "2023-06-07T11:04:06.782Z"
   },
   {
    "duration": 13,
    "start_time": "2023-06-07T11:04:06.794Z"
   },
   {
    "duration": 174,
    "start_time": "2023-06-07T11:04:06.809Z"
   },
   {
    "duration": 1088,
    "start_time": "2023-06-07T11:04:06.985Z"
   },
   {
    "duration": 14,
    "start_time": "2023-06-07T11:04:08.076Z"
   },
   {
    "duration": 24,
    "start_time": "2023-06-07T11:04:08.092Z"
   },
   {
    "duration": 83,
    "start_time": "2023-06-07T11:04:08.118Z"
   },
   {
    "duration": 203,
    "start_time": "2023-06-07T11:04:08.205Z"
   },
   {
    "duration": 188,
    "start_time": "2023-06-07T11:04:08.411Z"
   },
   {
    "duration": 78,
    "start_time": "2023-06-07T11:04:08.601Z"
   },
   {
    "duration": 95,
    "start_time": "2023-06-07T11:04:08.683Z"
   },
   {
    "duration": 9,
    "start_time": "2023-06-07T11:04:08.780Z"
   },
   {
    "duration": 5,
    "start_time": "2023-06-07T11:04:08.791Z"
   },
   {
    "duration": 14,
    "start_time": "2023-06-07T11:04:08.798Z"
   },
   {
    "duration": 15,
    "start_time": "2023-06-07T11:04:08.814Z"
   },
   {
    "duration": 7,
    "start_time": "2023-06-07T11:04:08.831Z"
   },
   {
    "duration": 9,
    "start_time": "2023-06-07T11:04:08.840Z"
   },
   {
    "duration": 28,
    "start_time": "2023-06-07T11:04:08.851Z"
   },
   {
    "duration": 7,
    "start_time": "2023-06-07T11:04:08.881Z"
   },
   {
    "duration": 764,
    "start_time": "2023-06-07T11:04:08.890Z"
   },
   {
    "duration": 749,
    "start_time": "2023-06-07T11:04:09.656Z"
   },
   {
    "duration": 704,
    "start_time": "2023-06-07T11:04:10.407Z"
   },
   {
    "duration": 1675,
    "start_time": "2023-06-07T13:39:34.341Z"
   },
   {
    "duration": 838,
    "start_time": "2023-06-07T13:39:36.020Z"
   },
   {
    "duration": 28,
    "start_time": "2023-06-07T13:39:36.860Z"
   },
   {
    "duration": 22,
    "start_time": "2023-06-07T13:39:36.889Z"
   },
   {
    "duration": 38,
    "start_time": "2023-06-07T13:39:36.915Z"
   },
   {
    "duration": 31,
    "start_time": "2023-06-07T13:39:36.955Z"
   },
   {
    "duration": 29,
    "start_time": "2023-06-07T13:39:36.988Z"
   },
   {
    "duration": 9,
    "start_time": "2023-06-07T13:39:37.019Z"
   },
   {
    "duration": 184,
    "start_time": "2023-06-07T13:39:37.030Z"
   },
   {
    "duration": 1289,
    "start_time": "2023-06-07T13:39:37.216Z"
   },
   {
    "duration": 12,
    "start_time": "2023-06-07T13:39:38.507Z"
   },
   {
    "duration": 21,
    "start_time": "2023-06-07T13:39:38.521Z"
   },
   {
    "duration": 51,
    "start_time": "2023-06-07T13:39:38.544Z"
   },
   {
    "duration": 301,
    "start_time": "2023-06-07T13:39:38.678Z"
   },
   {
    "duration": 30,
    "start_time": "2023-06-07T13:39:38.981Z"
   },
   {
    "duration": 5,
    "start_time": "2023-06-07T13:39:39.076Z"
   },
   {
    "duration": 101,
    "start_time": "2023-06-07T13:39:39.083Z"
   },
   {
    "duration": 9,
    "start_time": "2023-06-07T13:39:39.187Z"
   },
   {
    "duration": 10,
    "start_time": "2023-06-07T13:39:39.198Z"
   },
   {
    "duration": 17,
    "start_time": "2023-06-07T13:39:39.210Z"
   },
   {
    "duration": 10,
    "start_time": "2023-06-07T13:39:39.229Z"
   },
   {
    "duration": 11,
    "start_time": "2023-06-07T13:39:39.241Z"
   },
   {
    "duration": 9,
    "start_time": "2023-06-07T13:39:39.254Z"
   },
   {
    "duration": 15,
    "start_time": "2023-06-07T13:39:39.265Z"
   },
   {
    "duration": 8,
    "start_time": "2023-06-07T13:39:39.282Z"
   },
   {
    "duration": 781,
    "start_time": "2023-06-07T13:39:39.292Z"
   },
   {
    "duration": 739,
    "start_time": "2023-06-07T13:39:40.075Z"
   },
   {
    "duration": 755,
    "start_time": "2023-06-07T13:39:40.816Z"
   }
  ],
  "kernelspec": {
   "display_name": "Python 3 (ipykernel)",
   "language": "python",
   "name": "python3"
  },
  "language_info": {
   "codemirror_mode": {
    "name": "ipython",
    "version": 3
   },
   "file_extension": ".py",
   "mimetype": "text/x-python",
   "name": "python",
   "nbconvert_exporter": "python",
   "pygments_lexer": "ipython3",
   "version": "3.9.13"
  },
  "toc": {
   "base_numbering": 1,
   "nav_menu": {},
   "number_sections": true,
   "sideBar": true,
   "skip_h1_title": true,
   "title_cell": "Table of Contents",
   "title_sidebar": "Contents",
   "toc_cell": false,
   "toc_position": {},
   "toc_section_display": true,
   "toc_window_display": true
  }
 },
 "nbformat": 4,
 "nbformat_minor": 2
}
