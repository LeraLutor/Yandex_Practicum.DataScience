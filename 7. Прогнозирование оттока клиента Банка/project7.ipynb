{
 "cells": [
  {
   "cell_type": "markdown",
   "metadata": {
    "toc": true
   },
   "source": [
    "<h1>Содержание<span class=\"tocSkip\"></span></h1>\n",
    "<div class=\"toc\"><ul class=\"toc-item\"><li><span><a href=\"#Подготовка-данных\" data-toc-modified-id=\"Подготовка-данных-1\"><span class=\"toc-item-num\">1&nbsp;&nbsp;</span>Подготовка данных</a></span></li><li><span><a href=\"#Исследование-задачи\" data-toc-modified-id=\"Исследование-задачи-2\"><span class=\"toc-item-num\">2&nbsp;&nbsp;</span>Исследование задачи</a></span><ul class=\"toc-item\"><li><span><a href=\"#Подготовка-признаков\" data-toc-modified-id=\"Подготовка-признаков-2.1\"><span class=\"toc-item-num\">2.1&nbsp;&nbsp;</span>Подготовка признаков</a></span></li><li><span><a href=\"#Исследование-моделей\" data-toc-modified-id=\"Исследование-моделей-2.2\"><span class=\"toc-item-num\">2.2&nbsp;&nbsp;</span>Исследование моделей</a></span><ul class=\"toc-item\"><li><span><a href=\"#Random-Forest.\" data-toc-modified-id=\"Random-Forest.-2.2.1\"><span class=\"toc-item-num\">2.2.1&nbsp;&nbsp;</span>Random Forest.</a></span></li><li><span><a href=\"#DecisionTreeClassifier.\" data-toc-modified-id=\"DecisionTreeClassifier.-2.2.2\"><span class=\"toc-item-num\">2.2.2&nbsp;&nbsp;</span>DecisionTreeClassifier.</a></span></li><li><span><a href=\"#LogisticRegression.\" data-toc-modified-id=\"LogisticRegression.-2.2.3\"><span class=\"toc-item-num\">2.2.3&nbsp;&nbsp;</span>LogisticRegression.</a></span></li></ul></li></ul></li><li><span><a href=\"#Борьба-с-дисбалансом\" data-toc-modified-id=\"Борьба-с-дисбалансом-3\"><span class=\"toc-item-num\">3&nbsp;&nbsp;</span>Борьба с дисбалансом</a></span><ul class=\"toc-item\"><li><span><a href=\"#Обработка-данных\" data-toc-modified-id=\"Обработка-данных-3.1\"><span class=\"toc-item-num\">3.1&nbsp;&nbsp;</span>Обработка данных</a></span></li><li><span><a href=\"#Исследование-моделей\" data-toc-modified-id=\"Исследование-моделей-3.2\"><span class=\"toc-item-num\">3.2&nbsp;&nbsp;</span>Исследование моделей</a></span><ul class=\"toc-item\"><li><span><a href=\"#DecisionTreeClassifier.\" data-toc-modified-id=\"DecisionTreeClassifier.-3.2.1\"><span class=\"toc-item-num\">3.2.1&nbsp;&nbsp;</span>DecisionTreeClassifier.</a></span></li><li><span><a href=\"#LogisticRegression.\" data-toc-modified-id=\"LogisticRegression.-3.2.2\"><span class=\"toc-item-num\">3.2.2&nbsp;&nbsp;</span>LogisticRegression.</a></span></li><li><span><a href=\"#DecisionTreeClassifier.\" data-toc-modified-id=\"DecisionTreeClassifier.-3.2.3\"><span class=\"toc-item-num\">3.2.3&nbsp;&nbsp;</span>DecisionTreeClassifier.</a></span></li></ul></li></ul></li><li><span><a href=\"#Тестирование-модели\" data-toc-modified-id=\"Тестирование-модели-4\"><span class=\"toc-item-num\">4&nbsp;&nbsp;</span>Тестирование модели</a></span></li></ul></div>"
   ]
  },
  {
   "cell_type": "markdown",
   "metadata": {},
   "source": [
    "# Отток клиентов"
   ]
  },
  {
   "cell_type": "markdown",
   "metadata": {},
   "source": [
    "Из «Бета-Банка» стали уходить клиенты. Каждый месяц. Немного, но заметно. Банковские маркетологи посчитали: сохранять текущих клиентов дешевле, чем привлекать новых.\n",
    "\n",
    "Нужно спрогнозировать, уйдёт клиент из банка в ближайшее время или нет. Вам предоставлены исторические данные о поведении клиентов и расторжении договоров с банком. \n",
    "\n",
    "Постройте модель с предельно большим значением *F1*-меры. Чтобы сдать проект успешно, нужно довести метрику до 0.59. Проверьте *F1*-меру на тестовой выборке самостоятельно.\n",
    "\n",
    "Дополнительно измеряйте *AUC-ROC*, сравнивайте её значение с *F1*-мерой.\n",
    "\n",
    "Источник данных: [https://www.kaggle.com/barelydedicated/bank-customer-churn-modeling](https://www.kaggle.com/barelydedicated/bank-customer-churn-modeling)"
   ]
  },
  {
   "cell_type": "markdown",
   "metadata": {},
   "source": [
    "## Подготовка данных"
   ]
  },
  {
   "cell_type": "markdown",
   "metadata": {},
   "source": [
    "Импортируем библиотеки."
   ]
  },
  {
   "cell_type": "code",
   "execution_count": 18,
   "metadata": {},
   "outputs": [],
   "source": [
    "import pandas as pd\n",
    "import numpy as np\n",
    "from sklearn.tree import DecisionTreeClassifier\n",
    "from sklearn.linear_model import LogisticRegression\n",
    "from sklearn.ensemble import RandomForestClassifier\n",
    "from sklearn.metrics import accuracy_score\n",
    "from sklearn.model_selection import train_test_split\n",
    "import matplotlib as mpl\n",
    "from tqdm import tqdm\n",
    "import matplotlib.pyplot as plt\n",
    "from sklearn.metrics import f1_score\n",
    "from sklearn.utils import shuffle\n",
    "from sklearn.metrics import roc_auc_score\n",
    "from sklearn.metrics import roc_curve\n",
    "from sklearn.preprocessing import StandardScaler\n",
    "pd.options.mode.chained_assignment = None"
   ]
  },
  {
   "cell_type": "markdown",
   "metadata": {},
   "source": [
    "Прочитаем данные с файла и сохраним в data."
   ]
  },
  {
   "cell_type": "code",
   "execution_count": 19,
   "metadata": {},
   "outputs": [],
   "source": [
    "data = pd.read_csv('/datasets/Churn.csv')"
   ]
  },
  {
   "cell_type": "markdown",
   "metadata": {},
   "source": [
    "Посмотрим общую информацию о файле."
   ]
  },
  {
   "cell_type": "code",
   "execution_count": 20,
   "metadata": {},
   "outputs": [
    {
     "name": "stdout",
     "output_type": "stream",
     "text": [
      "<class 'pandas.core.frame.DataFrame'>\n",
      "RangeIndex: 10000 entries, 0 to 9999\n",
      "Data columns (total 14 columns):\n",
      " #   Column           Non-Null Count  Dtype  \n",
      "---  ------           --------------  -----  \n",
      " 0   RowNumber        10000 non-null  int64  \n",
      " 1   CustomerId       10000 non-null  int64  \n",
      " 2   Surname          10000 non-null  object \n",
      " 3   CreditScore      10000 non-null  int64  \n",
      " 4   Geography        10000 non-null  object \n",
      " 5   Gender           10000 non-null  object \n",
      " 6   Age              10000 non-null  int64  \n",
      " 7   Tenure           9091 non-null   float64\n",
      " 8   Balance          10000 non-null  float64\n",
      " 9   NumOfProducts    10000 non-null  int64  \n",
      " 10  HasCrCard        10000 non-null  int64  \n",
      " 11  IsActiveMember   10000 non-null  int64  \n",
      " 12  EstimatedSalary  10000 non-null  float64\n",
      " 13  Exited           10000 non-null  int64  \n",
      "dtypes: float64(3), int64(8), object(3)\n",
      "memory usage: 1.1+ MB\n"
     ]
    },
    {
     "data": {
      "text/html": [
       "<div>\n",
       "<style scoped>\n",
       "    .dataframe tbody tr th:only-of-type {\n",
       "        vertical-align: middle;\n",
       "    }\n",
       "\n",
       "    .dataframe tbody tr th {\n",
       "        vertical-align: top;\n",
       "    }\n",
       "\n",
       "    .dataframe thead th {\n",
       "        text-align: right;\n",
       "    }\n",
       "</style>\n",
       "<table border=\"1\" class=\"dataframe\">\n",
       "  <thead>\n",
       "    <tr style=\"text-align: right;\">\n",
       "      <th></th>\n",
       "      <th>RowNumber</th>\n",
       "      <th>CustomerId</th>\n",
       "      <th>Surname</th>\n",
       "      <th>CreditScore</th>\n",
       "      <th>Geography</th>\n",
       "      <th>Gender</th>\n",
       "      <th>Age</th>\n",
       "      <th>Tenure</th>\n",
       "      <th>Balance</th>\n",
       "      <th>NumOfProducts</th>\n",
       "      <th>HasCrCard</th>\n",
       "      <th>IsActiveMember</th>\n",
       "      <th>EstimatedSalary</th>\n",
       "      <th>Exited</th>\n",
       "    </tr>\n",
       "  </thead>\n",
       "  <tbody>\n",
       "    <tr>\n",
       "      <th>0</th>\n",
       "      <td>1</td>\n",
       "      <td>15634602</td>\n",
       "      <td>Hargrave</td>\n",
       "      <td>619</td>\n",
       "      <td>France</td>\n",
       "      <td>Female</td>\n",
       "      <td>42</td>\n",
       "      <td>2.0</td>\n",
       "      <td>0.00</td>\n",
       "      <td>1</td>\n",
       "      <td>1</td>\n",
       "      <td>1</td>\n",
       "      <td>101348.88</td>\n",
       "      <td>1</td>\n",
       "    </tr>\n",
       "    <tr>\n",
       "      <th>1</th>\n",
       "      <td>2</td>\n",
       "      <td>15647311</td>\n",
       "      <td>Hill</td>\n",
       "      <td>608</td>\n",
       "      <td>Spain</td>\n",
       "      <td>Female</td>\n",
       "      <td>41</td>\n",
       "      <td>1.0</td>\n",
       "      <td>83807.86</td>\n",
       "      <td>1</td>\n",
       "      <td>0</td>\n",
       "      <td>1</td>\n",
       "      <td>112542.58</td>\n",
       "      <td>0</td>\n",
       "    </tr>\n",
       "    <tr>\n",
       "      <th>2</th>\n",
       "      <td>3</td>\n",
       "      <td>15619304</td>\n",
       "      <td>Onio</td>\n",
       "      <td>502</td>\n",
       "      <td>France</td>\n",
       "      <td>Female</td>\n",
       "      <td>42</td>\n",
       "      <td>8.0</td>\n",
       "      <td>159660.80</td>\n",
       "      <td>3</td>\n",
       "      <td>1</td>\n",
       "      <td>0</td>\n",
       "      <td>113931.57</td>\n",
       "      <td>1</td>\n",
       "    </tr>\n",
       "    <tr>\n",
       "      <th>3</th>\n",
       "      <td>4</td>\n",
       "      <td>15701354</td>\n",
       "      <td>Boni</td>\n",
       "      <td>699</td>\n",
       "      <td>France</td>\n",
       "      <td>Female</td>\n",
       "      <td>39</td>\n",
       "      <td>1.0</td>\n",
       "      <td>0.00</td>\n",
       "      <td>2</td>\n",
       "      <td>0</td>\n",
       "      <td>0</td>\n",
       "      <td>93826.63</td>\n",
       "      <td>0</td>\n",
       "    </tr>\n",
       "    <tr>\n",
       "      <th>4</th>\n",
       "      <td>5</td>\n",
       "      <td>15737888</td>\n",
       "      <td>Mitchell</td>\n",
       "      <td>850</td>\n",
       "      <td>Spain</td>\n",
       "      <td>Female</td>\n",
       "      <td>43</td>\n",
       "      <td>2.0</td>\n",
       "      <td>125510.82</td>\n",
       "      <td>1</td>\n",
       "      <td>1</td>\n",
       "      <td>1</td>\n",
       "      <td>79084.10</td>\n",
       "      <td>0</td>\n",
       "    </tr>\n",
       "    <tr>\n",
       "      <th>5</th>\n",
       "      <td>6</td>\n",
       "      <td>15574012</td>\n",
       "      <td>Chu</td>\n",
       "      <td>645</td>\n",
       "      <td>Spain</td>\n",
       "      <td>Male</td>\n",
       "      <td>44</td>\n",
       "      <td>8.0</td>\n",
       "      <td>113755.78</td>\n",
       "      <td>2</td>\n",
       "      <td>1</td>\n",
       "      <td>0</td>\n",
       "      <td>149756.71</td>\n",
       "      <td>1</td>\n",
       "    </tr>\n",
       "    <tr>\n",
       "      <th>6</th>\n",
       "      <td>7</td>\n",
       "      <td>15592531</td>\n",
       "      <td>Bartlett</td>\n",
       "      <td>822</td>\n",
       "      <td>France</td>\n",
       "      <td>Male</td>\n",
       "      <td>50</td>\n",
       "      <td>7.0</td>\n",
       "      <td>0.00</td>\n",
       "      <td>2</td>\n",
       "      <td>1</td>\n",
       "      <td>1</td>\n",
       "      <td>10062.80</td>\n",
       "      <td>0</td>\n",
       "    </tr>\n",
       "    <tr>\n",
       "      <th>7</th>\n",
       "      <td>8</td>\n",
       "      <td>15656148</td>\n",
       "      <td>Obinna</td>\n",
       "      <td>376</td>\n",
       "      <td>Germany</td>\n",
       "      <td>Female</td>\n",
       "      <td>29</td>\n",
       "      <td>4.0</td>\n",
       "      <td>115046.74</td>\n",
       "      <td>4</td>\n",
       "      <td>1</td>\n",
       "      <td>0</td>\n",
       "      <td>119346.88</td>\n",
       "      <td>1</td>\n",
       "    </tr>\n",
       "    <tr>\n",
       "      <th>8</th>\n",
       "      <td>9</td>\n",
       "      <td>15792365</td>\n",
       "      <td>He</td>\n",
       "      <td>501</td>\n",
       "      <td>France</td>\n",
       "      <td>Male</td>\n",
       "      <td>44</td>\n",
       "      <td>4.0</td>\n",
       "      <td>142051.07</td>\n",
       "      <td>2</td>\n",
       "      <td>0</td>\n",
       "      <td>1</td>\n",
       "      <td>74940.50</td>\n",
       "      <td>0</td>\n",
       "    </tr>\n",
       "    <tr>\n",
       "      <th>9</th>\n",
       "      <td>10</td>\n",
       "      <td>15592389</td>\n",
       "      <td>H?</td>\n",
       "      <td>684</td>\n",
       "      <td>France</td>\n",
       "      <td>Male</td>\n",
       "      <td>27</td>\n",
       "      <td>2.0</td>\n",
       "      <td>134603.88</td>\n",
       "      <td>1</td>\n",
       "      <td>1</td>\n",
       "      <td>1</td>\n",
       "      <td>71725.73</td>\n",
       "      <td>0</td>\n",
       "    </tr>\n",
       "  </tbody>\n",
       "</table>\n",
       "</div>"
      ],
      "text/plain": [
       "   RowNumber  CustomerId   Surname  CreditScore Geography  Gender  Age  \\\n",
       "0          1    15634602  Hargrave          619    France  Female   42   \n",
       "1          2    15647311      Hill          608     Spain  Female   41   \n",
       "2          3    15619304      Onio          502    France  Female   42   \n",
       "3          4    15701354      Boni          699    France  Female   39   \n",
       "4          5    15737888  Mitchell          850     Spain  Female   43   \n",
       "5          6    15574012       Chu          645     Spain    Male   44   \n",
       "6          7    15592531  Bartlett          822    France    Male   50   \n",
       "7          8    15656148    Obinna          376   Germany  Female   29   \n",
       "8          9    15792365        He          501    France    Male   44   \n",
       "9         10    15592389        H?          684    France    Male   27   \n",
       "\n",
       "   Tenure    Balance  NumOfProducts  HasCrCard  IsActiveMember  \\\n",
       "0     2.0       0.00              1          1               1   \n",
       "1     1.0   83807.86              1          0               1   \n",
       "2     8.0  159660.80              3          1               0   \n",
       "3     1.0       0.00              2          0               0   \n",
       "4     2.0  125510.82              1          1               1   \n",
       "5     8.0  113755.78              2          1               0   \n",
       "6     7.0       0.00              2          1               1   \n",
       "7     4.0  115046.74              4          1               0   \n",
       "8     4.0  142051.07              2          0               1   \n",
       "9     2.0  134603.88              1          1               1   \n",
       "\n",
       "   EstimatedSalary  Exited  \n",
       "0        101348.88       1  \n",
       "1        112542.58       0  \n",
       "2        113931.57       1  \n",
       "3         93826.63       0  \n",
       "4         79084.10       0  \n",
       "5        149756.71       1  \n",
       "6         10062.80       0  \n",
       "7        119346.88       1  \n",
       "8         74940.50       0  \n",
       "9         71725.73       0  "
      ]
     },
     "execution_count": 20,
     "metadata": {},
     "output_type": "execute_result"
    }
   ],
   "source": [
    "data.info()\n",
    "data.head(10)"
   ]
  },
  {
   "cell_type": "markdown",
   "metadata": {},
   "source": [
    "Согласно документации к данным, в таблице `Churn` имеются следующие столбцы:\n",
    "* `сalls` — количество звонков\n",
    "* `CustomerId` — уникальный идентификатор клиента\n",
    "* `Surname` — фамилия\n",
    "* `CreditScor`e — кредитный рейтинг\n",
    "* `Geography` — страна проживания\n",
    "* `Gender` — пол\n",
    "* `Age` — возраст\n",
    "* `Tenure` — количество недвижимости у клиента\n",
    "* `Balance` — баланс на счёте\n",
    "* `NumOfProducts` — количество продуктов банка, используемых клиентом\n",
    "* `HasCrCard` — наличие кредитной карты\n",
    "* `IsActiveMember` — активность клиента\n",
    "* `EstimatedSalary` — предполагаемая зарплата.<br>\n",
    "<br>\n",
    "* `RowNumber` — индекс строки в данных\n",
    "* `Exited` — факт ухода клиента - целевой признак<br>\n",
    "<br>\n",
    "\n",
    "\n",
    "Есть пропуски в атрибуте \"Tenure\". В остальных данных ошибок в форматах нет.\n"
   ]
  },
  {
   "cell_type": "code",
   "execution_count": 21,
   "metadata": {},
   "outputs": [],
   "source": [
    "data = data.loc[~(data['Tenure'].isna())]"
   ]
  },
  {
   "cell_type": "markdown",
   "metadata": {},
   "source": [
    "Видно, что есть данные, которые не нужны для обучения моделей. `RowNumber`, `CustomerId` и `Surname` повторяют уже имеющиеся данные, поэтому стоит удалить их."
   ]
  },
  {
   "cell_type": "code",
   "execution_count": 22,
   "metadata": {},
   "outputs": [],
   "source": [
    "data = data.drop(['RowNumber','CustomerId', 'Surname'], axis=1)"
   ]
  },
  {
   "cell_type": "markdown",
   "metadata": {},
   "source": [
    "Имеются категорийные значения 'Geography' и 'Gender'. Для обучения моделей нужно преобразовать их в числа."
   ]
  },
  {
   "cell_type": "code",
   "execution_count": 23,
   "metadata": {},
   "outputs": [
    {
     "name": "stdout",
     "output_type": "stream",
     "text": [
      "<class 'pandas.core.frame.DataFrame'>\n",
      "Int64Index: 9091 entries, 0 to 9998\n",
      "Data columns (total 12 columns):\n",
      " #   Column             Non-Null Count  Dtype  \n",
      "---  ------             --------------  -----  \n",
      " 0   CreditScore        9091 non-null   int64  \n",
      " 1   Age                9091 non-null   int64  \n",
      " 2   Tenure             9091 non-null   float64\n",
      " 3   Balance            9091 non-null   float64\n",
      " 4   NumOfProducts      9091 non-null   int64  \n",
      " 5   HasCrCard          9091 non-null   int64  \n",
      " 6   IsActiveMember     9091 non-null   int64  \n",
      " 7   EstimatedSalary    9091 non-null   float64\n",
      " 8   Exited             9091 non-null   int64  \n",
      " 9   Geography_Germany  9091 non-null   uint8  \n",
      " 10  Geography_Spain    9091 non-null   uint8  \n",
      " 11  Gender_Male        9091 non-null   uint8  \n",
      "dtypes: float64(3), int64(6), uint8(3)\n",
      "memory usage: 736.9 KB\n"
     ]
    }
   ],
   "source": [
    "data = pd.get_dummies(data, columns=['Geography', 'Gender'], drop_first=True)\n",
    "data.info()"
   ]
  },
  {
   "cell_type": "markdown",
   "metadata": {},
   "source": [
    "**Вывод этапа**:\n",
    "Данные подготовлены для дальнейшего исследования:\n",
    "- Удалены данные с повторяющимися категориями и пропусками\n",
    "- `Geography` и `Gender` преобразованы в численные значения"
   ]
  },
  {
   "cell_type": "markdown",
   "metadata": {},
   "source": [
    "## Исследование задачи"
   ]
  },
  {
   "cell_type": "markdown",
   "metadata": {},
   "source": [
    "### Подготовка признаков"
   ]
  },
  {
   "cell_type": "markdown",
   "metadata": {},
   "source": [
    "Произведем разбиение на целевой признак и атрибуты."
   ]
  },
  {
   "cell_type": "code",
   "execution_count": 24,
   "metadata": {},
   "outputs": [],
   "source": [
    "target = data['Exited']\n",
    "features = data.drop('Exited', axis=1)"
   ]
  },
  {
   "cell_type": "markdown",
   "metadata": {},
   "source": [
    "Выделим тестовую, тренировочную и валидационнную выборки. 25% данных выделим для валидационной выборки."
   ]
  },
  {
   "cell_type": "code",
   "execution_count": 25,
   "metadata": {},
   "outputs": [],
   "source": [
    "features_train, features_test, target_train, target_test = train_test_split(\n",
    "    features, target, test_size = 0.25, random_state = 12345)\n",
    "features_valid, features_test, target_valid, target_test = train_test_split(\n",
    "    features_test, target_test, test_size = 0.5, random_state = 12345)"
   ]
  },
  {
   "cell_type": "markdown",
   "metadata": {},
   "source": [
    "Проведем нормализацию параметров, так как даные из тестовой выборки не должны быть в валидационной и тренировочной."
   ]
  },
  {
   "cell_type": "code",
   "execution_count": 26,
   "metadata": {},
   "outputs": [],
   "source": [
    "numeric = ['CreditScore', 'Age', 'Balance', 'EstimatedSalary', 'Tenure', 'NumOfProducts'].copy()\n",
    "scaler = StandardScaler()\n",
    "scaler.fit(features_train[numeric])\n",
    "features_train[numeric] = scaler.transform(features_train[numeric])\n",
    "features_valid[numeric] = scaler.transform(features_valid[numeric])\n",
    "features_test[numeric] = scaler.transform(features_test[numeric])"
   ]
  },
  {
   "cell_type": "markdown",
   "metadata": {},
   "source": [
    "### Исследование моделей"
   ]
  },
  {
   "cell_type": "markdown",
   "metadata": {},
   "source": [
    "#### Random Forest."
   ]
  },
  {
   "cell_type": "code",
   "execution_count": 27,
   "metadata": {},
   "outputs": [
    {
     "name": "stdout",
     "output_type": "stream",
     "text": [
      "F1 лучшей модели: 0.6310160427807487\n",
      "Глубина лучшей модели: 12\n",
      "Количество деревьев лучшей модели: 42\n"
     ]
    }
   ],
   "source": [
    "best_result = 0\n",
    "best_model = None\n",
    "best_est = 0\n",
    "best_depth = 0\n",
    "results = []\n",
    "for est in range(1,50):\n",
    "    for depth in range(1,25):\n",
    "        model = RandomForestClassifier(random_state=12345, n_estimators=est, max_depth=depth) \n",
    "        model.fit(features_train, target_train)\n",
    "        predicted_valid = model.predict(features_valid)\n",
    "        result = f1_score(target_valid, predicted_valid)\n",
    "        if result > best_result:\n",
    "            best_model = model\n",
    "            best_result = result\n",
    "            best_est = est\n",
    "            best_depth = depth\n",
    "\n",
    "print('F1 лучшей модели:', best_result)\n",
    "print('Глубина лучшей модели:', best_depth)\n",
    "print('Количество деревьев лучшей модели:', best_est)"
   ]
  },
  {
   "cell_type": "markdown",
   "metadata": {},
   "source": [
    "#### DecisionTreeClassifier."
   ]
  },
  {
   "cell_type": "code",
   "execution_count": 28,
   "metadata": {},
   "outputs": [
    {
     "name": "stdout",
     "output_type": "stream",
     "text": [
      "F1 лучшей модели: 0.5754189944134078\n",
      "Глубина лучшей модели: 6\n",
      "Количество деревьев лучшей модели: 42\n"
     ]
    }
   ],
   "source": [
    "best_model = None\n",
    "best_result = 0\n",
    "best_depth = 0\n",
    "results = []\n",
    "for depth in range(1, 50):\n",
    "    model = DecisionTreeClassifier(random_state=12345, max_depth=depth)\n",
    "    model.fit(features_train, target_train) \n",
    "    predicted_valid = model.predict(features_valid)\n",
    "    result = f1_score(target_valid, predicted_valid)\n",
    "    if result > best_result:\n",
    "        best_model = model\n",
    "        best_result = result\n",
    "        best_depth = depth\n",
    "\n",
    "print('F1 лучшей модели:', best_result)\n",
    "print('Глубина лучшей модели:', best_depth)\n",
    "print('Количество деревьев лучшей модели:', best_est)"
   ]
  },
  {
   "cell_type": "markdown",
   "metadata": {},
   "source": [
    "#### LogisticRegression."
   ]
  },
  {
   "cell_type": "code",
   "execution_count": 29,
   "metadata": {},
   "outputs": [
    {
     "name": "stdout",
     "output_type": "stream",
     "text": [
      "F1 логистической регрессии: 0.35000000000000003\n"
     ]
    }
   ],
   "source": [
    "model = LogisticRegression(random_state=12345, solver='lbfgs', max_iter=1000)\n",
    "model.fit(features_train, target_train)\n",
    "predicted_valid = model.predict(features_valid)\n",
    "result = f1_score(target_valid, predicted_valid)\n",
    "\n",
    "print('F1 логистической регрессии:', result)"
   ]
  },
  {
   "cell_type": "markdown",
   "metadata": {},
   "source": [
    "**Вывод этапа**:\n",
    "Были исследованы модели Random Forest, Desicion Tree и Logistic Regression.\n",
    "\n",
    "Получены следующие показатели\n",
    "Random Forest: \n",
    "- F1 лучшей модели: 0.6310160427807487\n",
    "- Глубина лучшей модели: 12\n",
    "- Количество деревьев лучшей модели: 42<br>\n",
    "<br>\n",
    "Decision Tree:\n",
    "- F1 лучшей модели: 0.5754189944134078\n",
    "- Глубина лучшей модели: 6\n",
    "- Количество деревьев лучшей модели: 42<br>\n",
    "<br>\n",
    "Logistic Regression:\n",
    "- F1 логистической регрессии: 0.35000000000000003<br>\n",
    "<br>\n",
    "\n",
    "C учетом наличия дисбаланса, лучше всего себя показала модель случайного леса с F1 0.631 при глубине деревьев в 12 и количестве деревьев 42."
   ]
  },
  {
   "cell_type": "markdown",
   "metadata": {},
   "source": [
    "## Борьба с дисбалансом"
   ]
  },
  {
   "cell_type": "markdown",
   "metadata": {},
   "source": [
    "### Обработка данных"
   ]
  },
  {
   "cell_type": "markdown",
   "metadata": {},
   "source": [
    "Создадим функции даунсемплинга и апсемплинга."
   ]
  },
  {
   "cell_type": "code",
   "execution_count": 30,
   "metadata": {},
   "outputs": [],
   "source": [
    "def downsample(features, target, fraction):\n",
    "    features_zeros = features[target == 0]\n",
    "    features_ones = features[target == 1]\n",
    "    target_zeros = target[target == 0]\n",
    "    target_ones = target[target == 1]\n",
    "\n",
    "    features_downsampled = pd.concat(\n",
    "        [features_zeros.sample(frac=fraction, random_state=12345)] + [features_ones])\n",
    "    target_downsampled = pd.concat(\n",
    "        [target_zeros.sample(frac=fraction, random_state=12345)] + [target_ones])\n",
    "    \n",
    "    features_downsampled, target_downsampled = shuffle(\n",
    "        features_downsampled, target_downsampled, random_state=12345)\n",
    "    \n",
    "    return features_downsampled, target_downsampled"
   ]
  },
  {
   "cell_type": "code",
   "execution_count": 31,
   "metadata": {},
   "outputs": [],
   "source": [
    "def upsample(features, target, repeat):\n",
    "    features_zeros = features[target == 0]\n",
    "    features_ones = features[target == 1]\n",
    "    target_zeros = target[target == 0]\n",
    "    target_ones = target[target == 1]\n",
    "\n",
    "    features_upsampled = pd.concat([features_zeros] + [features_ones] * repeat)\n",
    "    target_upsampled = pd.concat([target_zeros] + [target_ones] * repeat)\n",
    "    \n",
    "    features_upsampled, target_upsampled = shuffle(\n",
    "        features_upsampled, target_upsampled, random_state=12345)\n",
    "    \n",
    "    return features_upsampled, target_upsampled"
   ]
  },
  {
   "cell_type": "markdown",
   "metadata": {},
   "source": [
    "Посчитаем отношение дисбаланса значений в целевом признаке."
   ]
  },
  {
   "cell_type": "code",
   "execution_count": 32,
   "metadata": {},
   "outputs": [
    {
     "data": {
      "text/plain": [
       "3.9034519956850056"
      ]
     },
     "execution_count": 32,
     "metadata": {},
     "output_type": "execute_result"
    }
   ],
   "source": [
    "k = target.loc[target == 0].count() / target.loc[target == 1].count()\n",
    "k"
   ]
  },
  {
   "cell_type": "markdown",
   "metadata": {},
   "source": [
    "Количество пользователей, которые продолжают пользоваться услугами банка в 3.9 раза выше количества пользователей, которые перестали пользоваться услугами банка.\n",
    "\n",
    "Из этого значения получим, что в случае даунсемплинга нужно использовать коэфициент 0.25, апсемплинга - 4."
   ]
  },
  {
   "cell_type": "code",
   "execution_count": 33,
   "metadata": {},
   "outputs": [],
   "source": [
    "features_downsampled, target_downsampled = downsample(features_train, target_train, 0.25)\n",
    "features_upsampled, target_upsampled = upsample(features_train, target_train, 4)"
   ]
  },
  {
   "cell_type": "markdown",
   "metadata": {},
   "source": [
    "Проведем проверку моделей на даунсемплинге.<br>\n",
    "Исследуем Random Forest."
   ]
  },
  {
   "cell_type": "code",
   "execution_count": 34,
   "metadata": {},
   "outputs": [
    {
     "name": "stdout",
     "output_type": "stream",
     "text": [
      "F1 лучшей модели: 0.6182432432432432\n",
      "Глубина лучшей модели: 7\n",
      "Количество деревьев лучшей модели: 25\n"
     ]
    }
   ],
   "source": [
    "best_result = 0\n",
    "best_model = None\n",
    "best_est = 0\n",
    "best_depth = 0\n",
    "results = []\n",
    "for est in range(1,50):\n",
    "    for depth in range(1,25):\n",
    "        model = RandomForestClassifier(random_state=12345, n_estimators=est, max_depth=depth) \n",
    "        model.fit(features_downsampled, target_downsampled)\n",
    "        predicted_valid = model.predict(features_valid)\n",
    "        result = f1_score(target_valid, predicted_valid)\n",
    "        if result > best_result:\n",
    "            best_model = model\n",
    "            best_result = result\n",
    "            best_est = est\n",
    "            best_depth = depth\n",
    "\n",
    "print('F1 лучшей модели:', best_result)\n",
    "print('Глубина лучшей модели:', best_depth)\n",
    "print('Количество деревьев лучшей модели:', best_est)"
   ]
  },
  {
   "cell_type": "markdown",
   "metadata": {},
   "source": [
    "### Исследование моделей"
   ]
  },
  {
   "cell_type": "markdown",
   "metadata": {},
   "source": [
    "#### DecisionTreeClassifier."
   ]
  },
  {
   "cell_type": "code",
   "execution_count": 35,
   "metadata": {},
   "outputs": [
    {
     "name": "stdout",
     "output_type": "stream",
     "text": [
      "F1 лучшей модели: 0.5714285714285714\n",
      "Глубина лучшей модели: 5\n",
      "Количество деревьев лучшей модели: 25\n"
     ]
    }
   ],
   "source": [
    "best_model = None\n",
    "best_result = 0\n",
    "best_depth = 0\n",
    "results = []\n",
    "for depth in range(1, 21):\n",
    "    model = DecisionTreeClassifier(random_state=12345, max_depth=depth)\n",
    "    model.fit(features_downsampled, target_downsampled) \n",
    "    predicted_valid = model.predict(features_valid)\n",
    "    result = f1_score(target_valid, predicted_valid)\n",
    "    if result > best_result:\n",
    "        best_model = model\n",
    "        best_result = result\n",
    "        best_depth = depth\n",
    "\n",
    "print('F1 лучшей модели:', best_result)\n",
    "print('Глубина лучшей модели:', best_depth)\n",
    "print('Количество деревьев лучшей модели:', best_est)"
   ]
  },
  {
   "cell_type": "markdown",
   "metadata": {},
   "source": [
    "#### LogisticRegression."
   ]
  },
  {
   "cell_type": "code",
   "execution_count": 36,
   "metadata": {},
   "outputs": [
    {
     "name": "stdout",
     "output_type": "stream",
     "text": [
      "F1 логистической регрессии: 0.4890829694323144\n"
     ]
    }
   ],
   "source": [
    "model = LogisticRegression(random_state=12345, solver='lbfgs', max_iter=1000)\n",
    "model.fit(features_downsampled, target_downsampled)\n",
    "predicted_valid = model.predict(features_valid)\n",
    "result = f1_score(target_valid, predicted_valid)\n",
    "\n",
    "print('F1 логистической регрессии:', result)"
   ]
  },
  {
   "cell_type": "markdown",
   "metadata": {},
   "source": [
    "Проведем проверку моделей на апсемплинге.<br>\n",
    "Исследуем Random Forest."
   ]
  },
  {
   "cell_type": "code",
   "execution_count": 48,
   "metadata": {},
   "outputs": [
    {
     "name": "stdout",
     "output_type": "stream",
     "text": [
      "F1 лучшей модели: 0.6460905349794239\n",
      "Глубина лучшей модели: 12\n",
      "Количество деревьев лучшей модели: 14\n"
     ]
    }
   ],
   "source": [
    "best_result = 0\n",
    "best_model = None\n",
    "best_est = 0\n",
    "best_depth = 0\n",
    "results = []\n",
    "for est in range(1,50):\n",
    "    for depth in range(1,25):\n",
    "        model = RandomForestClassifier(random_state=12345, n_estimators=est, max_depth=depth) \n",
    "        model.fit(features_upsampled, target_upsampled)\n",
    "        predicted_valid = model.predict(features_valid)\n",
    "        result = f1_score(target_valid, predicted_valid)\n",
    "        if result > best_result:\n",
    "            best_model = model\n",
    "            best_result = result\n",
    "            best_est = est\n",
    "            best_depth = depth\n",
    "\n",
    "print('F1 лучшей модели:', best_result)\n",
    "print('Глубина лучшей модели:', best_depth)\n",
    "print('Количество деревьев лучшей модели:', best_est)"
   ]
  },
  {
   "cell_type": "markdown",
   "metadata": {},
   "source": [
    "#### DecisionTreeClassifier."
   ]
  },
  {
   "cell_type": "code",
   "execution_count": 51,
   "metadata": {},
   "outputs": [
    {
     "name": "stdout",
     "output_type": "stream",
     "text": [
      "F1 лучшей модели: 0.5685279187817259\n",
      "Глубина лучшей модели: 5\n",
      "Количество деревьев лучшей модели: 14\n"
     ]
    }
   ],
   "source": [
    "best_model = None\n",
    "best_result = 0\n",
    "best_depth = 0\n",
    "results = []\n",
    "for depth in range(1, 21):\n",
    "    model = DecisionTreeClassifier(random_state=12345, max_depth=depth)\n",
    "    model.fit(features_upsampled, target_upsampled) \n",
    "    predicted_valid = model.predict(features_valid)\n",
    "    result = f1_score(target_valid, predicted_valid)\n",
    "    if result > best_result:\n",
    "        best_model = model\n",
    "        best_result = result\n",
    "        best_depth = depth\n",
    "\n",
    "print('F1 лучшей модели:', best_result)\n",
    "print('Глубина лучшей модели:', best_depth)\n",
    "print('Количество деревьев лучшей модели:', best_est)"
   ]
  },
  {
   "cell_type": "markdown",
   "metadata": {},
   "source": [
    "**Вывод этапа**:\n",
    "Был устранен дисбаланс в данных, написаны функции апсемплинга и даунсемплинга, а также исследованы модели Random Forest, Desicion Tree и Logistic Regression.\n",
    "\n",
    "Получены следующие показатели\n",
    "\n",
    "**Random Forest** \n",
    "- Даунсемплинг:\n",
    "    * F1 лучшей модели: 0.6182432432432432\n",
    "    * Глубина лучшей модели: 7\n",
    "    - Количество деревьев лучшей модели: 25<br>\n",
    "- Апсемплинг:\n",
    "    - F1 лучшей модели: 0.6460905349794239\n",
    "    - Глубина лучшей модели: 12\n",
    "    - Количество деревьев лучшей модели: 40<br>\n",
    "\n",
    "\n",
    "**Decision Tree**\n",
    "- Даунсемплинг:\n",
    "    - F1 лучшей модели: 0.5714285714285714\n",
    "    - Глубина лучшей модели: 5\n",
    "    - Количество деревьев лучшей модели: 25<br>\n",
    "- Апсемплинг:\n",
    "    - F1 лучшей модели: 0.5685279187817259\n",
    "    - Глубина лучшей модели: 5\n",
    "    - Количество деревьев лучшей модели: 14<br>\n",
    "\n",
    "\n",
    "**Logistic Regression**\n",
    "- Даунсемплинг:\n",
    "    - F1 логистической регрессии: 0.4890829694323144<br>\n",
    "- Апсемплинг:\n",
    "    - F1 логистической регрессии: 0.48476052249637164<br>\n",
    "\n",
    "Лучшей моделью опять оказался случайный лес с апсемплингом с F1 0.646, глубиной 12 и количество деревьев 40\n",
    "Поэтому будем использовать именно эту модель и гиперпараметры для финальной модели."
   ]
  },
  {
   "cell_type": "markdown",
   "metadata": {},
   "source": [
    "## Тестирование модели"
   ]
  },
  {
   "cell_type": "markdown",
   "metadata": {},
   "source": [
    "Проведем проверку модели на тестовых данных"
   ]
  },
  {
   "cell_type": "code",
   "execution_count": 57,
   "metadata": {},
   "outputs": [
    {
     "name": "stdout",
     "output_type": "stream",
     "text": [
      "F1 на лучшей модели: 0.5975103734439834\n"
     ]
    }
   ],
   "source": [
    "model = RandomForestClassifier(random_state=12345, n_estimators=40, max_depth=12) \n",
    "model.fit(features_upsampled, target_upsampled)\n",
    "predicted = model.predict(features_test)\n",
    "result = f1_score(target_test, predicted)\n",
    "print('F1 на лучшей модели:', result)"
   ]
  },
  {
   "cell_type": "markdown",
   "metadata": {},
   "source": [
    "Проверим значение метрики AUC-ROC для этой модели."
   ]
  },
  {
   "cell_type": "code",
   "execution_count": 58,
   "metadata": {},
   "outputs": [
    {
     "data": {
      "text/plain": [
       "0.8581230611156119"
      ]
     },
     "execution_count": 58,
     "metadata": {},
     "output_type": "execute_result"
    }
   ],
   "source": [
    "probabilities_test = model.predict_proba(features_test)\n",
    "probabilities_one_test = probabilities_test[:, 1]\n",
    "auc_roc = roc_auc_score(target_test, probabilities_one_test)\n",
    "auc_roc"
   ]
  },
  {
   "cell_type": "markdown",
   "metadata": {},
   "source": [
    "Построим график и посмотрим визуально как выглядит кривая."
   ]
  },
  {
   "cell_type": "code",
   "execution_count": 59,
   "metadata": {},
   "outputs": [
    {
     "data": {
      "image/png": "[encoded data removed]",
      "text/plain": [
       "<Figure size 432x288 with 1 Axes>"
      ]
     },
     "metadata": {
      "needs_background": "light"
     },
     "output_type": "display_data"
    }
   ],
   "source": [
    "fpr, tpr, thresholds = roc_curve(target_test, probabilities_one_test) \n",
    "\n",
    "plt.plot([0, 1], [0, 1], linestyle='--')\n",
    "plt.plot(fpr, tpr)\n",
    "plt.xlabel('False Positive Rate')\n",
    "plt.ylabel('True Positive Rate')\n",
    "plt.ylim([0.0, 1.0])\n",
    "plt.xlim([0.0, 1.0])\n",
    "plt.title('ROC-кривая')\n",
    "\n",
    "\n",
    "plt.show()"
   ]
  },
  {
   "cell_type": "markdown",
   "metadata": {},
   "source": [
    "**Вывод этапа**:<br>\n",
    "\n",
    "Был проведено тестирование модели на тестовых данных. В результате получили значение метрики F1 0.5975103734439834.\n",
    "    \n",
    "Значение метрики AUC-ROC 0.8581230611156119 достаточно высокое - это показывает достаточно высокую точность определения положительных решений."
   ]
  },
  {
   "cell_type": "markdown",
   "metadata": {},
   "source": [
    "**Общий вывод**:\n",
    "Итак, полученный архив данных - данные о клиентах «Бета-Банка».\n",
    "\n",
    "Для исследования данных на этапе предобработки были удалены данные с повторяющимися категориями и пропусками, а также столбцы `Geography` и `Gender` преобразованы в численные значения\n",
    "\n",
    "Были исследованы модели Random Forest, Desicion Tree и Logistic Regression на данных с дисбалансом, где были получены следующие показатели метрики F1: *Random Forest* - 0.6310160427807487, *Decision Tree* - 0.5754189944134078, *Logistic Regression* - 0.35000000000000003.\n",
    "\n",
    "C учетом наличия дисбаланса, лучше всего себя показала модель случайного леса с F1 - 0.631 при глубине деревьев в 12 и количестве деревьев 42.\n",
    "\n",
    "Был устранен дисбаланс в данных, написаны функции апсемплинга и даунсемплинга, и повторно исследованы модели Random Forest, Desicion Tree и Logistic Regression уже на новых данных. Получены следующие показатели\n",
    "\n",
    "\n",
    "**Random Forest** \n",
    "- Даунсемплинг:\n",
    "    * F1 лучшей модели: 0.6182432432432432\n",
    "    * Глубина лучшей модели: 7\n",
    "    - Количество деревьев лучшей модели: 25<br>\n",
    "- Апсемплинг:\n",
    "    - F1 лучшей модели: 0.6460905349794239\n",
    "    - Глубина лучшей модели: 12\n",
    "    - Количество деревьев лучшей модели: 40<br>\n",
    "\n",
    "\n",
    "**Decision Tree**\n",
    "- Даунсемплинг:\n",
    "    - F1 лучшей модели: 0.5714285714285714\n",
    "    - Глубина лучшей модели: 5\n",
    "    - Количество деревьев лучшей модели: 25<br>\n",
    "- Апсемплинг:\n",
    "    - F1 лучшей модели: 0.5685279187817259\n",
    "    - Глубина лучшей модели: 5\n",
    "    - Количество деревьев лучшей модели: 14<br>\n",
    "\n",
    "\n",
    "**Logistic Regression**\n",
    "- Даунсемплинг:\n",
    "    - F1 логистической регрессии: 0.4890829694323144<br>\n",
    "- Апсемплинг:\n",
    "    - F1 логистической регрессии: 0.48476052249637164<br>\n",
    "\n",
    "Лучшей моделью опять оказался случайный лес с апсемплингом с F1 0.646, глубиной 12 и количество деревьев 40\n",
    "Поэтому будем использовать именно эту модель и гиперпараметры для финальной модели.\n",
    "<br>\n",
    "\n",
    "Был проведено тестирование модели на тестовых данных. В результате получили значение метрики F1 0.5975103734439834.\n",
    "\n",
    "Значение метрики AUC-ROC 0.8581230611156119 достаточно высокое - это показывает достаточно высокую точность определения положительных решений.\n",
    "\n",
    "Итогом исследования можно сказать, что лучше моделью классификации была сбалансированная модель случайного леса."
   ]
  }
 ],
 "metadata": {
  "ExecuteTimeLog": [
   {
    "duration": 1529,
    "start_time": "2023-06-05T03:52:26.329Z"
   },
   {
    "duration": 77,
    "start_time": "2023-06-05T03:52:52.123Z"
   },
   {
    "duration": 29,
    "start_time": "2023-06-05T03:53:08.054Z"
   },
   {
    "duration": 14,
    "start_time": "2023-06-05T04:04:20.308Z"
   },
   {
    "duration": 119,
    "start_time": "2023-06-05T04:04:28.629Z"
   },
   {
    "duration": 18,
    "start_time": "2023-06-05T04:04:35.461Z"
   },
   {
    "duration": 4,
    "start_time": "2023-06-05T04:04:51.966Z"
   },
   {
    "duration": 40,
    "start_time": "2023-06-05T04:04:52.518Z"
   },
   {
    "duration": 23,
    "start_time": "2023-06-05T04:04:53.102Z"
   },
   {
    "duration": 4,
    "start_time": "2023-06-05T04:04:55.094Z"
   },
   {
    "duration": 18,
    "start_time": "2023-06-05T04:07:13.775Z"
   },
   {
    "duration": 5,
    "start_time": "2023-06-05T04:09:21.016Z"
   },
   {
    "duration": 39,
    "start_time": "2023-06-05T04:09:21.629Z"
   },
   {
    "duration": 25,
    "start_time": "2023-06-05T04:09:22.196Z"
   },
   {
    "duration": 5,
    "start_time": "2023-06-05T04:09:25.844Z"
   },
   {
    "duration": 5,
    "start_time": "2023-06-05T04:09:28.121Z"
   },
   {
    "duration": 21,
    "start_time": "2023-06-05T04:09:30.091Z"
   },
   {
    "duration": 6,
    "start_time": "2023-06-05T04:12:03.253Z"
   },
   {
    "duration": 9,
    "start_time": "2023-06-05T04:15:24.673Z"
   },
   {
    "duration": 18,
    "start_time": "2023-06-05T04:19:33.422Z"
   },
   {
    "duration": 209968,
    "start_time": "2023-06-05T04:26:31.371Z"
   },
   {
    "duration": 1945,
    "start_time": "2023-06-05T04:30:01.342Z"
   },
   {
    "duration": 138,
    "start_time": "2023-06-05T04:30:03.290Z"
   },
   {
    "duration": 0,
    "start_time": "2023-06-05T04:30:03.430Z"
   },
   {
    "duration": 64,
    "start_time": "2023-06-05T04:31:47.482Z"
   },
   {
    "duration": 65,
    "start_time": "2023-06-05T04:34:11.392Z"
   },
   {
    "duration": 4,
    "start_time": "2023-06-05T04:34:20.982Z"
   },
   {
    "duration": 4,
    "start_time": "2023-06-05T04:34:22.577Z"
   },
   {
    "duration": 7,
    "start_time": "2023-06-05T04:35:03.176Z"
   },
   {
    "duration": 14,
    "start_time": "2023-06-05T04:37:24.421Z"
   },
   {
    "duration": 104623,
    "start_time": "2023-06-05T04:38:50.371Z"
   },
   {
    "duration": 270,
    "start_time": "2023-06-05T04:40:34.996Z"
   },
   {
    "duration": 15,
    "start_time": "2023-06-05T04:40:35.268Z"
   },
   {
    "duration": 95970,
    "start_time": "2023-06-05T04:41:11.911Z"
   },
   {
    "duration": 812,
    "start_time": "2023-06-05T04:42:47.884Z"
   },
   {
    "duration": 54,
    "start_time": "2023-06-05T04:42:48.697Z"
   },
   {
    "duration": 436,
    "start_time": "2023-06-05T04:51:36.420Z"
   },
   {
    "duration": 31,
    "start_time": "2023-06-05T04:52:09.245Z"
   },
   {
    "duration": 129,
    "start_time": "2023-06-05T04:52:47.886Z"
   },
   {
    "duration": 2460,
    "start_time": "2023-06-05T05:30:10.830Z"
   },
   {
    "duration": 77,
    "start_time": "2023-06-05T05:30:13.299Z"
   },
   {
    "duration": 36,
    "start_time": "2023-06-05T05:30:13.378Z"
   },
   {
    "duration": 6,
    "start_time": "2023-06-05T05:30:13.415Z"
   },
   {
    "duration": 5,
    "start_time": "2023-06-05T05:30:13.423Z"
   },
   {
    "duration": 32,
    "start_time": "2023-06-05T05:30:13.430Z"
   },
   {
    "duration": 4,
    "start_time": "2023-06-05T05:30:13.463Z"
   },
   {
    "duration": 52,
    "start_time": "2023-06-05T05:30:13.468Z"
   },
   {
    "duration": 23,
    "start_time": "2023-06-05T05:30:13.521Z"
   },
   {
    "duration": 215365,
    "start_time": "2023-06-05T05:30:13.545Z"
   },
   {
    "duration": 1931,
    "start_time": "2023-06-05T05:33:48.912Z"
   },
   {
    "duration": 344,
    "start_time": "2023-06-05T05:33:50.844Z"
   },
   {
    "duration": 13,
    "start_time": "2023-06-05T05:33:51.189Z"
   },
   {
    "duration": 112,
    "start_time": "2023-06-05T05:33:51.204Z"
   },
   {
    "duration": 13,
    "start_time": "2023-06-05T05:33:51.317Z"
   },
   {
    "duration": 19,
    "start_time": "2023-06-05T05:33:51.331Z"
   },
   {
    "duration": 109858,
    "start_time": "2023-06-05T05:33:51.351Z"
   },
   {
    "duration": 297,
    "start_time": "2023-06-05T05:35:41.210Z"
   },
   {
    "duration": 74,
    "start_time": "2023-06-05T05:35:41.511Z"
   },
   {
    "duration": 104283,
    "start_time": "2023-06-05T05:35:41.586Z"
   },
   {
    "duration": 871,
    "start_time": "2023-06-05T05:37:25.871Z"
   },
   {
    "duration": 267,
    "start_time": "2023-06-05T05:37:26.744Z"
   },
   {
    "duration": 538,
    "start_time": "2023-06-05T05:37:27.015Z"
   },
   {
    "duration": 21,
    "start_time": "2023-06-05T05:37:27.555Z"
   },
   {
    "duration": 135,
    "start_time": "2023-06-05T05:37:27.578Z"
   },
   {
    "duration": 1549,
    "start_time": "2023-06-05T12:27:02.556Z"
   },
   {
    "duration": 168,
    "start_time": "2023-06-05T12:27:04.108Z"
   },
   {
    "duration": 36,
    "start_time": "2023-06-05T12:27:05.939Z"
   },
   {
    "duration": 6,
    "start_time": "2023-06-05T12:27:10.111Z"
   },
   {
    "duration": 5,
    "start_time": "2023-06-05T12:27:15.468Z"
   },
   {
    "duration": 5,
    "start_time": "2023-06-05T12:46:27.992Z"
   },
   {
    "duration": 48,
    "start_time": "2023-06-05T12:46:28.380Z"
   },
   {
    "duration": 35,
    "start_time": "2023-06-05T12:46:29.146Z"
   },
   {
    "duration": 5,
    "start_time": "2023-06-05T12:46:30.401Z"
   },
   {
    "duration": 5,
    "start_time": "2023-06-05T12:46:32.584Z"
   },
   {
    "duration": 25,
    "start_time": "2023-06-05T12:46:41.671Z"
   },
   {
    "duration": 7,
    "start_time": "2023-06-05T12:46:47.470Z"
   },
   {
    "duration": 9,
    "start_time": "2023-06-05T12:46:48.578Z"
   },
   {
    "duration": 112,
    "start_time": "2023-06-05T12:47:00.184Z"
   },
   {
    "duration": 31,
    "start_time": "2023-06-05T12:47:30.436Z"
   },
   {
    "duration": 18,
    "start_time": "2023-06-05T12:47:53.348Z"
   },
   {
    "duration": 42,
    "start_time": "2023-06-05T12:48:01.243Z"
   },
   {
    "duration": 5,
    "start_time": "2023-06-05T12:49:17.879Z"
   },
   {
    "duration": 41,
    "start_time": "2023-06-05T12:49:18.734Z"
   },
   {
    "duration": 26,
    "start_time": "2023-06-05T12:49:19.455Z"
   },
   {
    "duration": 5,
    "start_time": "2023-06-05T12:49:20.982Z"
   },
   {
    "duration": 6,
    "start_time": "2023-06-05T12:49:22.859Z"
   },
   {
    "duration": 18,
    "start_time": "2023-06-05T12:49:30.753Z"
   },
   {
    "duration": 6,
    "start_time": "2023-06-05T12:49:34.088Z"
   },
   {
    "duration": 10,
    "start_time": "2023-06-05T12:49:35.086Z"
   },
   {
    "duration": 31,
    "start_time": "2023-06-05T12:49:38.507Z"
   },
   {
    "duration": 197697,
    "start_time": "2023-06-05T12:50:06.611Z"
   },
   {
    "duration": 1541,
    "start_time": "2023-06-05T12:53:24.310Z"
   },
   {
    "duration": 284,
    "start_time": "2023-06-05T12:53:25.853Z"
   },
   {
    "duration": 86,
    "start_time": "2023-06-05T12:53:26.142Z"
   },
   {
    "duration": 9,
    "start_time": "2023-06-05T12:53:26.238Z"
   },
   {
    "duration": 11,
    "start_time": "2023-06-05T12:53:26.250Z"
   },
   {
    "duration": 20,
    "start_time": "2023-06-05T12:54:16.550Z"
   },
   {
    "duration": 106994,
    "start_time": "2023-06-05T12:54:17.642Z"
   },
   {
    "duration": 276,
    "start_time": "2023-06-05T12:56:04.638Z"
   },
   {
    "duration": 317,
    "start_time": "2023-06-05T12:56:04.916Z"
   },
   {
    "duration": 96340,
    "start_time": "2023-06-05T12:56:05.244Z"
   },
   {
    "duration": 671,
    "start_time": "2023-06-05T12:57:41.585Z"
   },
   {
    "duration": 274,
    "start_time": "2023-06-05T12:57:42.258Z"
   },
   {
    "duration": 594,
    "start_time": "2023-06-05T12:57:42.534Z"
   },
   {
    "duration": 23,
    "start_time": "2023-06-05T12:57:43.130Z"
   },
   {
    "duration": 178,
    "start_time": "2023-06-05T12:57:43.155Z"
   },
   {
    "duration": 1058,
    "start_time": "2023-06-05T13:08:44.189Z"
   },
   {
    "duration": 41,
    "start_time": "2023-06-05T13:08:48.967Z"
   },
   {
    "duration": 129,
    "start_time": "2023-06-05T13:08:54.217Z"
   },
   {
    "duration": 820,
    "start_time": "2023-06-05T13:09:31.271Z"
   },
   {
    "duration": 364,
    "start_time": "2023-06-05T13:09:38.116Z"
   },
   {
    "duration": 286797,
    "start_time": "2023-06-05T13:10:58.850Z"
   },
   {
    "duration": 829,
    "start_time": "2023-06-05T13:15:48.635Z"
   },
   {
    "duration": 277,
    "start_time": "2023-06-05T13:15:49.466Z"
   },
   {
    "duration": 172,
    "start_time": "2023-06-05T13:18:32.117Z"
   },
   {
    "duration": 134,
    "start_time": "2023-06-05T13:18:43.486Z"
   },
   {
    "duration": 128,
    "start_time": "2023-06-05T13:19:03.972Z"
   },
   {
    "duration": 187,
    "start_time": "2023-06-05T13:19:08.770Z"
   },
   {
    "duration": 493,
    "start_time": "2023-06-05T13:19:17.592Z"
   },
   {
    "duration": 37,
    "start_time": "2023-06-05T13:19:27.004Z"
   },
   {
    "duration": 187,
    "start_time": "2023-06-05T13:19:31.813Z"
   }
  ],
  "kernelspec": {
   "display_name": "Python 3 (ipykernel)",
   "language": "python",
   "name": "python3"
  },
  "language_info": {
   "codemirror_mode": {
    "name": "ipython",
    "version": 3
   },
   "file_extension": ".py",
   "mimetype": "text/x-python",
   "name": "python",
   "nbconvert_exporter": "python",
   "pygments_lexer": "ipython3",
   "version": "3.9.13"
  },
  "toc": {
   "base_numbering": 1,
   "nav_menu": {},
   "number_sections": true,
   "sideBar": true,
   "skip_h1_title": true,
   "title_cell": "Содержание",
   "title_sidebar": "Contents",
   "toc_cell": true,
   "toc_position": {},
   "toc_section_display": true,
   "toc_window_display": true
  }
 },
 "nbformat": 4,
 "nbformat_minor": 2
}
