{
 "cells": [
  {
   "cell_type": "markdown",
   "metadata": {
    "toc": true
   },
   "source": [
    "<h1>Содержание<span class=\"tocSkip\"></span></h1>\n",
    "<div class=\"toc\"><ul class=\"toc-item\"><li><span><a href=\"#Загрузка-данных\" data-toc-modified-id=\"Загрузка-данных-1\"><span class=\"toc-item-num\">1&nbsp;&nbsp;</span>Загрузка данных</a></span></li><li><span><a href=\"#Умножение-матриц\" data-toc-modified-id=\"Умножение-матриц-2\"><span class=\"toc-item-num\">2&nbsp;&nbsp;</span>Умножение матриц</a></span></li><li><span><a href=\"#Алгоритм-преобразования\" data-toc-modified-id=\"Алгоритм-преобразования-3\"><span class=\"toc-item-num\">3&nbsp;&nbsp;</span>Алгоритм преобразования</a></span></li><li><span><a href=\"#Проверка-алгоритма\" data-toc-modified-id=\"Проверка-алгоритма-4\"><span class=\"toc-item-num\">4&nbsp;&nbsp;</span>Проверка алгоритма</a></span></li><li><span><a href=\"#Общий-вывод\" data-toc-modified-id=\"Общий-вывод-5\"><span class=\"toc-item-num\">5&nbsp;&nbsp;</span>Общий вывод</a></span></li></ul></div>"
   ]
  },
  {
   "cell_type": "markdown",
   "metadata": {},
   "source": [
    "# Защита персональных данных клиентов"
   ]
  },
  {
   "cell_type": "markdown",
   "metadata": {},
   "source": [
    "Вам нужно защитить данные клиентов страховой компании «Хоть потоп». Разработайте такой метод преобразования данных, чтобы по ним было сложно восстановить персональную информацию. Обоснуйте корректность его работы.\n",
    "\n",
    "Нужно защитить данные, чтобы при преобразовании качество моделей машинного обучения не ухудшилось. Подбирать наилучшую модель не требуется."
   ]
  },
  {
   "cell_type": "markdown",
   "metadata": {},
   "source": [
    "## Загрузка данных"
   ]
  },
  {
   "cell_type": "markdown",
   "metadata": {},
   "source": [
    "Импортируем библиотеки."
   ]
  },
  {
   "cell_type": "code",
   "execution_count": 1,
   "metadata": {},
   "outputs": [],
   "source": [
    "import pandas as pd\n",
    "import seaborn as sns\n",
    "import matplotlib.pyplot as plt\n",
    "import numpy as np\n",
    "from sklearn.metrics import r2_score\n",
    "from sklearn.linear_model import LinearRegression\n",
    "from sklearn.model_selection import train_test_split\n",
    "\n",
    "import warnings\n",
    "warnings.filterwarnings(\"ignore\")"
   ]
  },
  {
   "cell_type": "markdown",
   "metadata": {},
   "source": [
    "Прочитаем данные с файла и сохраним в data."
   ]
  },
  {
   "cell_type": "code",
   "execution_count": 2,
   "metadata": {},
   "outputs": [],
   "source": [
    "data = pd.read_csv('/datasets/insurance.csv')"
   ]
  },
  {
   "cell_type": "markdown",
   "metadata": {},
   "source": [
    "Посмотрим общую информацию в data"
   ]
  },
  {
   "cell_type": "code",
   "execution_count": 3,
   "metadata": {},
   "outputs": [
    {
     "name": "stdout",
     "output_type": "stream",
     "text": [
      "<class 'pandas.core.frame.DataFrame'>\n",
      "RangeIndex: 5000 entries, 0 to 4999\n",
      "Data columns (total 5 columns):\n",
      " #   Column             Non-Null Count  Dtype  \n",
      "---  ------             --------------  -----  \n",
      " 0   Пол                5000 non-null   int64  \n",
      " 1   Возраст            5000 non-null   float64\n",
      " 2   Зарплата           5000 non-null   float64\n",
      " 3   Члены семьи        5000 non-null   int64  \n",
      " 4   Страховые выплаты  5000 non-null   int64  \n",
      "dtypes: float64(2), int64(3)\n",
      "memory usage: 195.4 KB\n"
     ]
    },
    {
     "data": {
      "text/html": [
       "<div>\n",
       "<style scoped>\n",
       "    .dataframe tbody tr th:only-of-type {\n",
       "        vertical-align: middle;\n",
       "    }\n",
       "\n",
       "    .dataframe tbody tr th {\n",
       "        vertical-align: top;\n",
       "    }\n",
       "\n",
       "    .dataframe thead th {\n",
       "        text-align: right;\n",
       "    }\n",
       "</style>\n",
       "<table border=\"1\" class=\"dataframe\">\n",
       "  <thead>\n",
       "    <tr style=\"text-align: right;\">\n",
       "      <th></th>\n",
       "      <th>Пол</th>\n",
       "      <th>Возраст</th>\n",
       "      <th>Зарплата</th>\n",
       "      <th>Члены семьи</th>\n",
       "      <th>Страховые выплаты</th>\n",
       "    </tr>\n",
       "  </thead>\n",
       "  <tbody>\n",
       "    <tr>\n",
       "      <th>0</th>\n",
       "      <td>1</td>\n",
       "      <td>41.0</td>\n",
       "      <td>49600.0</td>\n",
       "      <td>1</td>\n",
       "      <td>0</td>\n",
       "    </tr>\n",
       "    <tr>\n",
       "      <th>1</th>\n",
       "      <td>0</td>\n",
       "      <td>46.0</td>\n",
       "      <td>38000.0</td>\n",
       "      <td>1</td>\n",
       "      <td>1</td>\n",
       "    </tr>\n",
       "    <tr>\n",
       "      <th>2</th>\n",
       "      <td>0</td>\n",
       "      <td>29.0</td>\n",
       "      <td>21000.0</td>\n",
       "      <td>0</td>\n",
       "      <td>0</td>\n",
       "    </tr>\n",
       "    <tr>\n",
       "      <th>3</th>\n",
       "      <td>0</td>\n",
       "      <td>21.0</td>\n",
       "      <td>41700.0</td>\n",
       "      <td>2</td>\n",
       "      <td>0</td>\n",
       "    </tr>\n",
       "    <tr>\n",
       "      <th>4</th>\n",
       "      <td>1</td>\n",
       "      <td>28.0</td>\n",
       "      <td>26100.0</td>\n",
       "      <td>0</td>\n",
       "      <td>0</td>\n",
       "    </tr>\n",
       "    <tr>\n",
       "      <th>5</th>\n",
       "      <td>1</td>\n",
       "      <td>43.0</td>\n",
       "      <td>41000.0</td>\n",
       "      <td>2</td>\n",
       "      <td>1</td>\n",
       "    </tr>\n",
       "    <tr>\n",
       "      <th>6</th>\n",
       "      <td>1</td>\n",
       "      <td>39.0</td>\n",
       "      <td>39700.0</td>\n",
       "      <td>2</td>\n",
       "      <td>0</td>\n",
       "    </tr>\n",
       "    <tr>\n",
       "      <th>7</th>\n",
       "      <td>1</td>\n",
       "      <td>25.0</td>\n",
       "      <td>38600.0</td>\n",
       "      <td>4</td>\n",
       "      <td>0</td>\n",
       "    </tr>\n",
       "    <tr>\n",
       "      <th>8</th>\n",
       "      <td>1</td>\n",
       "      <td>36.0</td>\n",
       "      <td>49700.0</td>\n",
       "      <td>1</td>\n",
       "      <td>0</td>\n",
       "    </tr>\n",
       "    <tr>\n",
       "      <th>9</th>\n",
       "      <td>1</td>\n",
       "      <td>32.0</td>\n",
       "      <td>51700.0</td>\n",
       "      <td>1</td>\n",
       "      <td>0</td>\n",
       "    </tr>\n",
       "  </tbody>\n",
       "</table>\n",
       "</div>"
      ],
      "text/plain": [
       "   Пол  Возраст  Зарплата  Члены семьи  Страховые выплаты\n",
       "0    1     41.0   49600.0            1                  0\n",
       "1    0     46.0   38000.0            1                  1\n",
       "2    0     29.0   21000.0            0                  0\n",
       "3    0     21.0   41700.0            2                  0\n",
       "4    1     28.0   26100.0            0                  0\n",
       "5    1     43.0   41000.0            2                  1\n",
       "6    1     39.0   39700.0            2                  0\n",
       "7    1     25.0   38600.0            4                  0\n",
       "8    1     36.0   49700.0            1                  0\n",
       "9    1     32.0   51700.0            1                  0"
      ]
     },
     "execution_count": 3,
     "metadata": {},
     "output_type": "execute_result"
    }
   ],
   "source": [
    "data.info()\n",
    "data.head(10)"
   ]
  },
  {
   "cell_type": "markdown",
   "metadata": {},
   "source": [
    "Наличие пропущенных данных не наблюдается."
   ]
  },
  {
   "cell_type": "markdown",
   "metadata": {},
   "source": [
    "Проверим наличие явных дубликатов."
   ]
  },
  {
   "cell_type": "code",
   "execution_count": 4,
   "metadata": {},
   "outputs": [
    {
     "data": {
      "text/plain": [
       "153"
      ]
     },
     "execution_count": 4,
     "metadata": {},
     "output_type": "execute_result"
    }
   ],
   "source": [
    "data.duplicated().sum()"
   ]
  },
  {
   "cell_type": "markdown",
   "metadata": {},
   "source": [
    "Найдено 153 явных дубликата, поэтому удалим их."
   ]
  },
  {
   "cell_type": "code",
   "execution_count": 5,
   "metadata": {},
   "outputs": [],
   "source": [
    "data = data.drop_duplicates()"
   ]
  },
  {
   "cell_type": "markdown",
   "metadata": {},
   "source": [
    "Изменим тип `Возраста` и `Зарплаты` на целочисленный, так как дробных частей в значениях нет."
   ]
  },
  {
   "cell_type": "code",
   "execution_count": 6,
   "metadata": {},
   "outputs": [],
   "source": [
    "data['Возраст'] = data['Возраст'].astype(int)\n",
    "data['Зарплата'] = data['Зарплата'].astype(int)"
   ]
  },
  {
   "cell_type": "code",
   "execution_count": 7,
   "metadata": {},
   "outputs": [
    {
     "name": "stdout",
     "output_type": "stream",
     "text": [
      "<class 'pandas.core.frame.DataFrame'>\n",
      "Int64Index: 4847 entries, 0 to 4999\n",
      "Data columns (total 5 columns):\n",
      " #   Column             Non-Null Count  Dtype\n",
      "---  ------             --------------  -----\n",
      " 0   Пол                4847 non-null   int64\n",
      " 1   Возраст            4847 non-null   int64\n",
      " 2   Зарплата           4847 non-null   int64\n",
      " 3   Члены семьи        4847 non-null   int64\n",
      " 4   Страховые выплаты  4847 non-null   int64\n",
      "dtypes: int64(5)\n",
      "memory usage: 227.2 KB\n"
     ]
    }
   ],
   "source": [
    "data.info()"
   ]
  },
  {
   "cell_type": "markdown",
   "metadata": {},
   "source": [
    "Проверим наличие аномальных значений."
   ]
  },
  {
   "cell_type": "code",
   "execution_count": 8,
   "metadata": {},
   "outputs": [
    {
     "data": {
      "text/plain": [
       "<AxesSubplot:>"
      ]
     },
     "execution_count": 8,
     "metadata": {},
     "output_type": "execute_result"
    },
    {
     "data": {
      "image/png": "[encoded data removed]",
      "text/plain": [
       "<Figure size 432x288 with 1 Axes>"
      ]
     },
     "metadata": {
      "needs_background": "light"
     },
     "output_type": "display_data"
    }
   ],
   "source": [
    "#Проверка возраста\n",
    "sns.boxplot(data=data['Возраст'], orient='h', color='g')"
   ]
  },
  {
   "cell_type": "markdown",
   "metadata": {},
   "source": [
    "Аномальных хначений нет. Выбивающиеся значения можно объяснить тем, что люди сильно пожилого возраста редко пользуются услугами страховых компаний."
   ]
  },
  {
   "cell_type": "code",
   "execution_count": 9,
   "metadata": {},
   "outputs": [
    {
     "data": {
      "text/plain": [
       "<AxesSubplot:>"
      ]
     },
     "execution_count": 9,
     "metadata": {},
     "output_type": "execute_result"
    },
    {
     "data": {
      "image/png": "[encoded data removed]",
      "text/plain": [
       "<Figure size 432x288 with 1 Axes>"
      ]
     },
     "metadata": {
      "needs_background": "light"
     },
     "output_type": "display_data"
    }
   ],
   "source": [
    "#Проверка зарплаты\n",
    "sns.boxplot(data=data['Зарплата'], orient='h', color='orange')"
   ]
  },
  {
   "cell_type": "markdown",
   "metadata": {},
   "source": [
    "Аномальных значений нет."
   ]
  },
  {
   "cell_type": "code",
   "execution_count": 10,
   "metadata": {},
   "outputs": [
    {
     "data": {
      "text/plain": [
       "<AxesSubplot:>"
      ]
     },
     "execution_count": 10,
     "metadata": {},
     "output_type": "execute_result"
    },
    {
     "data": {
      "image/png": "[encoded data removed]",
      "text/plain": [
       "<Figure size 432x288 with 1 Axes>"
      ]
     },
     "metadata": {
      "needs_background": "light"
     },
     "output_type": "display_data"
    }
   ],
   "source": [
    "#Проверка членов семьи\n",
    "sns.boxplot(data=data['Члены семьи'], orient='h', color='yellow')"
   ]
  },
  {
   "cell_type": "markdown",
   "metadata": {},
   "source": [
    "Аномальных значений также не присутсвует. "
   ]
  },
  {
   "cell_type": "code",
   "execution_count": 11,
   "metadata": {},
   "outputs": [
    {
     "data": {
      "text/plain": [
       "<AxesSubplot:>"
      ]
     },
     "execution_count": 11,
     "metadata": {},
     "output_type": "execute_result"
    },
    {
     "data": {
      "image/png": "[encoded data removed]",
      "text/plain": [
       "<Figure size 432x288 with 1 Axes>"
      ]
     },
     "metadata": {
      "needs_background": "light"
     },
     "output_type": "display_data"
    }
   ],
   "source": [
    "#Проверка страховых выплат\n",
    "sns.boxplot(data=data['Страховые выплаты'], orient='h', color='red')"
   ]
  },
  {
   "cell_type": "markdown",
   "metadata": {},
   "source": [
    "Аномальных значений нет. Выбивающиеся значения можно объяснить тем, что страховые выплаты как таковые редко выплачиваются, так как шанс происшествия очень мал."
   ]
  },
  {
   "cell_type": "markdown",
   "metadata": {},
   "source": [
    "**Вывод этапа**:\n",
    "- Проведена проверка данных на начличие пропущенных значений и дубликатов. Пропущенных данных не обнаружено. Выявлено *153* явных дубликата (удалены из таблицы).\n",
    "- Изменены типи столбцов `Возраст` и `Зарплата` на целочисленный, так как дробных частей в значениях нет.\n",
    "- Проведена проверка на наличие аномальных значений. Ни в одном столбце аномальных значений не выявлено."
   ]
  },
  {
   "cell_type": "markdown",
   "metadata": {},
   "source": [
    "## Умножение матриц"
   ]
  },
  {
   "cell_type": "markdown",
   "metadata": {},
   "source": [
    "В этом задании вы можете записывать формулы в *Jupyter Notebook.*\n",
    "\n",
    "Чтобы записать формулу внутри текста, окружите её символами доллара \\\\$; если снаружи —  двойными символами \\\\$\\\\$. Эти формулы записываются на языке вёрстки *LaTeX.* \n",
    "\n",
    "Для примера мы записали формулы линейной регрессии. Можете их скопировать и отредактировать, чтобы решить задачу.\n",
    "\n",
    "Работать в *LaTeX* необязательно."
   ]
  },
  {
   "cell_type": "markdown",
   "metadata": {},
   "source": [
    "Обозначения:\n",
    "\n",
    "- $X$ — матрица признаков (нулевой столбец состоит из единиц)\n",
    "\n",
    "- $y$ — вектор целевого признака\n",
    "\n",
    "- $P$ — матрица, на которую умножаются признаки\n",
    "\n",
    "- $w$ — вектор весов линейной регрессии (нулевой элемент равен сдвигу)"
   ]
  },
  {
   "cell_type": "markdown",
   "metadata": {},
   "source": [
    "Предсказания:\n",
    "\n",
    "$$\n",
    "a = Xw\n",
    "$$\n",
    "\n",
    "Задача обучения:\n",
    "\n",
    "$$\n",
    "w = \\arg\\min_w MSE(Xw, y)\n",
    "$$\n",
    "\n",
    "Формула обучения:\n",
    "\n",
    "$$\n",
    "w = (X^T X)^{-1} X^T y\n",
    "$$"
   ]
  },
  {
   "cell_type": "markdown",
   "metadata": {},
   "source": [
    "**Ответ:** не изменится\n",
    "\n",
    "**Обоснование:**\n",
    "\n",
    "В условии сказано, что матрица признаков умножается на обратимую матрицу, значит матрица $P$ - квадратная. Согласно заданию вектор предсказаний равен:\n",
    "$$\n",
    "a1 = X*w1 = ((XP)^T XP)^{-1} *(XP)^T y\n",
    "$$"
   ]
  },
  {
   "cell_type": "markdown",
   "metadata": {},
   "source": [
    "Раскроем транспонирование по формуле: $$(A*B)^T = B^T * A^T$$"
   ]
  },
  {
   "cell_type": "markdown",
   "metadata": {},
   "source": [
    "$$\n",
    "a1 = X*w1 = (X^TP^TXP)^{-1}*P^TX^T y\n",
    "$$"
   ]
  },
  {
   "cell_type": "markdown",
   "metadata": {},
   "source": [
    "Используем свойство аасоциативности:\n",
    "$$\n",
    "a1 = X*w1 = XP(P^T(X^TX)P)^{-1} *P^TX^T y\n",
    "$$"
   ]
  },
  {
   "cell_type": "markdown",
   "metadata": {},
   "source": [
    "$P^T$ - квадратная матрица. \n",
    "При умножении марицы на эту же транспонированную матрицу мы получим квадратную матрицу, так как размеры матриц будут следующими: $mxn * nxm = mxm$ => квадратная матрица. \n",
    "\n",
    "Получается, что произведение матриц $P^T(X^TX)P$ - произведение квадратных матриц => $(P^T(X^TX)P)^{-1}$ равняется $P^{-1}(X^TX)^{-1}(P^T)^{-1}$"
   ]
  },
  {
   "cell_type": "markdown",
   "metadata": {},
   "source": [
    "Получаем:\n",
    "$$\n",
    "a1 = XPP^{-1}(X^TX)^{-1}(P^T)^{-1}* P^TX^Ty\n",
    "$$"
   ]
  },
  {
   "cell_type": "markdown",
   "metadata": {},
   "source": [
    " Так как P - квадратная матрица, то $P*P^{-1}$ - единичная матрица и $(P^T)^{-1}*P^T$ также будет единичной.<br>\n",
    " Получим:<br>\n",
    "$$ a1 = X(X^TX)^{-1}*X^Ty$$"
   ]
  },
  {
   "cell_type": "markdown",
   "metadata": {},
   "source": [
    "Получается, что $a = a1$"
   ]
  },
  {
   "cell_type": "markdown",
   "metadata": {},
   "source": [
    "**Вывод этапа**:\n",
    "Проведена проверка изменичвости линейной регрессии при умножении признаков на обратимую матрицу. Результат показал, что качество не меняется."
   ]
  },
  {
   "cell_type": "markdown",
   "metadata": {},
   "source": [
    "## Алгоритм преобразования"
   ]
  },
  {
   "cell_type": "markdown",
   "metadata": {},
   "source": [
    "**Алгоритм**\n",
    "\n",
    "Для преобразования входных данных с целью защиты личных данных пользователей применим умножение на обратимую матрицу, значения для которой сгенерируем случайным образом."
   ]
  },
  {
   "cell_type": "markdown",
   "metadata": {},
   "source": [
    "1. Вводим матрицу признаков $X$ \n",
    "2. Генерация кватратной матрицы $P$ со случайными значениями, размерность матрицы - по количеству признаков.\n",
    "3. Проверка матрицы $P$ на обратимость.\n",
    "4. Получение матрицы преобразованных признаков "
   ]
  },
  {
   "cell_type": "markdown",
   "metadata": {},
   "source": [
    "**Обоснование**\n",
    "\n",
    "Матрица преобразования должна быть обратимой, следовательно она должна быть квадратной и невырожденной (её детерминант должен быть отличен от нуля)\n",
    "\n",
    "Если, количество признаков $=n$, а количество объектов $=m$, то размер матрицы преобразования должен быть $nxn$. Для обратимости матрица должна быть квадратной.\n",
    "\n",
    "В таком случае при умножении исходной матрицы признаков размером $mxn$ на матрицу преобразования $nxn$ получим новую матрицу признаков но исходного размера $mxn$.\n",
    "\n",
    "Такие проеобразования не меняют местами объекты в выборке, поскольку признаки одного объекта умножаются на каждый столбец матрицы преобразования, формируя объект с новыми признаками. Поэтому преобразование можно применять по частям."
   ]
  },
  {
   "cell_type": "code",
   "execution_count": 12,
   "metadata": {},
   "outputs": [],
   "source": [
    "def transform_features(features, transformation_matrix=None, random_state=None):\n",
    "    n = features.shape[1]\n",
    "\n",
    "    if transformation_matrix is None:\n",
    "        np.random.seed(random_state)\n",
    "        det = 0\n",
    "        while det == 0:\n",
    "            transformation_matrix = np.random.normal(size=(n,n))\n",
    "            det = np.linalg.det(transformation_matrix)\n",
    "        return (features @ transformation_matrix, transformation_matrix) \n",
    "    else:\n",
    "        if (transformation_matrix.shape[0] != n or \n",
    "            transformation_matrix.shape[1] != n):\n",
    "            print('Размерность матрицы преобразования', transformation_matrix.shape, 'не соответсвует размерности признаков', n)\n",
    "            return None\n",
    "        if np.linalg.det(transformation_matrix) == 0:\n",
    "            print('Матрица преобразования необратима')\n",
    "            return None\n",
    "        return features @ transformation_matrix"
   ]
  },
  {
   "cell_type": "code",
   "execution_count": 13,
   "metadata": {},
   "outputs": [
    {
     "data": {
      "text/html": [
       "<div>\n",
       "<style scoped>\n",
       "    .dataframe tbody tr th:only-of-type {\n",
       "        vertical-align: middle;\n",
       "    }\n",
       "\n",
       "    .dataframe tbody tr th {\n",
       "        vertical-align: top;\n",
       "    }\n",
       "\n",
       "    .dataframe thead th {\n",
       "        text-align: right;\n",
       "    }\n",
       "</style>\n",
       "<table border=\"1\" class=\"dataframe\">\n",
       "  <thead>\n",
       "    <tr style=\"text-align: right;\">\n",
       "      <th></th>\n",
       "      <th>0</th>\n",
       "      <th>1</th>\n",
       "      <th>2</th>\n",
       "      <th>3</th>\n",
       "    </tr>\n",
       "  </thead>\n",
       "  <tbody>\n",
       "    <tr>\n",
       "      <th>1812</th>\n",
       "      <td>26690.515074</td>\n",
       "      <td>-26884.994666</td>\n",
       "      <td>25618.841823</td>\n",
       "      <td>16714.548059</td>\n",
       "    </tr>\n",
       "    <tr>\n",
       "      <th>193</th>\n",
       "      <td>25238.473264</td>\n",
       "      <td>-25430.891067</td>\n",
       "      <td>24230.292878</td>\n",
       "      <td>15805.974326</td>\n",
       "    </tr>\n",
       "    <tr>\n",
       "      <th>4495</th>\n",
       "      <td>24806.650543</td>\n",
       "      <td>-25041.691400</td>\n",
       "      <td>23847.661357</td>\n",
       "      <td>15539.485674</td>\n",
       "    </tr>\n",
       "    <tr>\n",
       "      <th>552</th>\n",
       "      <td>27672.224578</td>\n",
       "      <td>-27879.768929</td>\n",
       "      <td>26563.648920</td>\n",
       "      <td>17327.428534</td>\n",
       "    </tr>\n",
       "    <tr>\n",
       "      <th>3027</th>\n",
       "      <td>17910.579092</td>\n",
       "      <td>-18105.895128</td>\n",
       "      <td>17236.207411</td>\n",
       "      <td>11222.453048</td>\n",
       "    </tr>\n",
       "  </tbody>\n",
       "</table>\n",
       "</div>"
      ],
      "text/plain": [
       "                 0             1             2             3\n",
       "1812  26690.515074 -26884.994666  25618.841823  16714.548059\n",
       "193   25238.473264 -25430.891067  24230.292878  15805.974326\n",
       "4495  24806.650543 -25041.691400  23847.661357  15539.485674\n",
       "552   27672.224578 -27879.768929  26563.648920  17327.428534\n",
       "3027  17910.579092 -18105.895128  17236.207411  11222.453048"
      ]
     },
     "execution_count": 13,
     "metadata": {},
     "output_type": "execute_result"
    }
   ],
   "source": [
    "transform_features(data[data.columns[:-1]])[0].sample(5, random_state=123)"
   ]
  },
  {
   "cell_type": "markdown",
   "metadata": {},
   "source": [
    "**Вывод этапа**:\n",
    "Написан и обоснован алгоритм преобразования исходных данных, чтобы по ним было сложно восстановить персональную информацию, без ухудшения качества моделей машинного обучения."
   ]
  },
  {
   "cell_type": "markdown",
   "metadata": {},
   "source": [
    "## Проверка алгоритма"
   ]
  },
  {
   "cell_type": "markdown",
   "metadata": {},
   "source": [
    "Подготовим признаки.\n",
    "\n",
    "- Разделим выборку на обучающую и тестовую\n",
    "- Сформируем преобразованные обучающую и тестовую выборки"
   ]
  },
  {
   "cell_type": "code",
   "execution_count": 14,
   "metadata": {},
   "outputs": [
    {
     "name": "stdout",
     "output_type": "stream",
     "text": [
      "Матрица преобразования:\n",
      "[[-1.0856306   0.99734545  0.2829785  -1.50629471]\n",
      " [-0.57860025  1.65143654 -2.42667924 -0.42891263]\n",
      " [ 1.26593626 -0.8667404  -0.67888615 -0.09470897]\n",
      " [ 1.49138963 -0.638902   -0.44398196 -0.43435128]]\n"
     ]
    }
   ],
   "source": [
    "futures_train, futures_test, target_train, target_test = train_test_split(\n",
    "    data[data.columns[:-1]].values, data[data.columns[-1]].values, \n",
    "    test_size=0.25, random_state=123)\n",
    "\n",
    "futures_train_new, transformation_matrix = transform_features(futures_train, random_state=123)\n",
    "futures_test_new = transform_features(futures_test, transformation_matrix=transformation_matrix, random_state=123)\n",
    "\n",
    "print('Матрица преобразования:'),\n",
    "print(transformation_matrix)"
   ]
  },
  {
   "cell_type": "markdown",
   "metadata": {},
   "source": [
    "ПРоверим кк меняется $R2$ метрика."
   ]
  },
  {
   "cell_type": "code",
   "execution_count": 15,
   "metadata": {},
   "outputs": [],
   "source": [
    "def check_lr_model(X_train, X_test, y_train, y_test):\n",
    "    model = LinearRegression()\n",
    "    model.fit(X_train, y_train)\n",
    "    r2 = model.score(X_test, y_test)\n",
    "    print('w  =', model.coef_)\n",
    "    print('R2 =', r2)"
   ]
  },
  {
   "cell_type": "markdown",
   "metadata": {},
   "source": [
    "Без преобрзоаний."
   ]
  },
  {
   "cell_type": "code",
   "execution_count": 16,
   "metadata": {},
   "outputs": [
    {
     "name": "stdout",
     "output_type": "stream",
     "text": [
      "w  = [ 1.19844319e-02  3.67531733e-02 -1.94830996e-08 -1.50310819e-02]\n",
      "R2 = 0.4097895814653254\n"
     ]
    }
   ],
   "source": [
    "check_lr_model(futures_train, futures_test, target_train, target_test)"
   ]
  },
  {
   "cell_type": "markdown",
   "metadata": {},
   "source": [
    "Умножим на обратимую матрицу."
   ]
  },
  {
   "cell_type": "code",
   "execution_count": 17,
   "metadata": {},
   "outputs": [
    {
     "name": "stdout",
     "output_type": "stream",
     "text": [
      "Умножение преобразованных признаков на 220.59300827254557 и смещение на 2186.7860889737867\n",
      "w  = [-1.32170114e-04 -1.07547683e-04 -1.04732268e-04 -3.16933333e-05]\n",
      "R2 = 0.409789581465291\n"
     ]
    }
   ],
   "source": [
    "mult = np.random.normal(scale=100)\n",
    "shift = np.random.normal(scale=1000)\n",
    "\n",
    "print('Умножение преобразованных признаков на', mult, 'и смещение на', shift)\n",
    "\n",
    "check_lr_model(futures_train_new*mult+shift, futures_test_new*mult+shift, target_train, target_test);"
   ]
  },
  {
   "cell_type": "markdown",
   "metadata": {},
   "source": [
    "Качество регрессии не поменялось."
   ]
  },
  {
   "cell_type": "markdown",
   "metadata": {},
   "source": [
    "**Вывод этапа**:\n",
    "Проведена проверка качества модели до и после преобразования. Результаты метрик не отличаются."
   ]
  },
  {
   "cell_type": "markdown",
   "metadata": {},
   "source": [
    "## Общий вывод\n",
    "\n",
    "Итак, у нас даны данные страховой компании **«Хоть потоп»**. Необходимо разработать такой метод преобразования данных, чтобы по ним было сложно восстановить персональную информацию.\n",
    "\n",
    "На этапе обработки данных:\n",
    "- Проведена проверка данных на начличие пропущенных значений и дубликатов. Пропущенных данных не обнаружено. Выявлено *153* явных дубликата, котрые были удалены из таблицы.\n",
    "- Изменены типи столбцов `Возраст` и `Зарплата` на целочисленный, так как дробных частей в значениях нет.\n",
    "- Проведена проверка на наличие аномальных значений. Ни в одном столбце аномальных значений не выявлено.\n",
    "\n",
    "Далее проведена проверка изменичвости линейной регрессии при умножении признаков на обратимую матрицу. Результат показал, что качество не меняется.\n",
    "\n",
    "Следующим этапом написан и обоснован алгоритм преобразования исходных данных, чтобы по ним было сложно восстановить персональную информацию, без ухудшения качества моделей машинного обучения. И проведена проверка качества модели до и после преобразования. **R2** до преобразования = 0.4097895814653254, после = 0.409789581465291. Как видно результат не отличается."
   ]
  }
 ],
 "metadata": {
  "ExecuteTimeLog": [
   {
    "duration": 91,
    "start_time": "2023-07-06T07:53:51.155Z"
   },
   {
    "duration": 50,
    "start_time": "2023-07-06T07:54:18.890Z"
   },
   {
    "duration": 1672,
    "start_time": "2023-07-06T07:54:22.535Z"
   },
   {
    "duration": 90,
    "start_time": "2023-07-06T07:54:25.888Z"
   },
   {
    "duration": 25,
    "start_time": "2023-07-06T07:56:11.582Z"
   },
   {
    "duration": 7,
    "start_time": "2023-07-06T08:00:21.551Z"
   },
   {
    "duration": 6,
    "start_time": "2023-07-06T08:01:11.477Z"
   },
   {
    "duration": 5,
    "start_time": "2023-07-06T08:05:05.892Z"
   },
   {
    "duration": 11,
    "start_time": "2023-07-06T08:05:16.743Z"
   },
   {
    "duration": 1229,
    "start_time": "2023-07-06T08:09:38.892Z"
   },
   {
    "duration": 1242,
    "start_time": "2023-07-06T08:09:53.936Z"
   },
   {
    "duration": 237,
    "start_time": "2023-07-06T08:10:15.110Z"
   },
   {
    "duration": 234,
    "start_time": "2023-07-06T08:10:29.556Z"
   },
   {
    "duration": 251,
    "start_time": "2023-07-06T08:12:28.435Z"
   },
   {
    "duration": 147,
    "start_time": "2023-07-06T08:12:47.761Z"
   },
   {
    "duration": 167,
    "start_time": "2023-07-06T08:13:26.335Z"
   },
   {
    "duration": 184,
    "start_time": "2023-07-06T08:14:34.727Z"
   },
   {
    "duration": 207,
    "start_time": "2023-07-06T08:15:05.647Z"
   },
   {
    "duration": 15,
    "start_time": "2023-07-06T08:15:25.989Z"
   },
   {
    "duration": 165,
    "start_time": "2023-07-06T08:15:55.154Z"
   },
   {
    "duration": 16,
    "start_time": "2023-07-06T08:16:55.857Z"
   },
   {
    "duration": 181,
    "start_time": "2023-07-06T08:17:10.440Z"
   },
   {
    "duration": 102,
    "start_time": "2023-07-06T08:19:34.031Z"
   },
   {
    "duration": 92,
    "start_time": "2023-07-06T08:19:54.947Z"
   },
   {
    "duration": 93,
    "start_time": "2023-07-06T08:20:09.961Z"
   },
   {
    "duration": 23,
    "start_time": "2023-07-06T08:21:10.264Z"
   },
   {
    "duration": 110,
    "start_time": "2023-07-06T08:21:20.263Z"
   },
   {
    "duration": 109,
    "start_time": "2023-07-06T08:21:58.855Z"
   },
   {
    "duration": 108,
    "start_time": "2023-07-06T08:22:42.132Z"
   },
   {
    "duration": 6,
    "start_time": "2023-07-06T09:10:19.453Z"
   },
   {
    "duration": 6,
    "start_time": "2023-07-06T09:10:23.216Z"
   },
   {
    "duration": 5,
    "start_time": "2023-07-06T09:12:57.987Z"
   },
   {
    "duration": 11,
    "start_time": "2023-07-06T09:13:20.832Z"
   },
   {
    "duration": 14,
    "start_time": "2023-07-06T09:13:28.790Z"
   },
   {
    "duration": 12,
    "start_time": "2023-07-06T09:13:58.031Z"
   },
   {
    "duration": 11,
    "start_time": "2023-07-06T09:18:54.550Z"
   },
   {
    "duration": 3,
    "start_time": "2023-07-06T09:20:11.906Z"
   },
   {
    "duration": 8,
    "start_time": "2023-07-06T09:20:16.290Z"
   },
   {
    "duration": 4,
    "start_time": "2023-07-06T09:20:50.100Z"
   },
   {
    "duration": 10,
    "start_time": "2023-07-06T09:27:44.993Z"
   },
   {
    "duration": 4,
    "start_time": "2023-07-06T09:27:48.069Z"
   },
   {
    "duration": 9,
    "start_time": "2023-07-06T09:27:49.395Z"
   },
   {
    "duration": 4,
    "start_time": "2023-07-06T09:28:28.268Z"
   },
   {
    "duration": 10,
    "start_time": "2023-07-06T09:28:29.457Z"
   },
   {
    "duration": 5,
    "start_time": "2023-07-06T09:28:46.629Z"
   },
   {
    "duration": 10,
    "start_time": "2023-07-06T09:28:47.466Z"
   },
   {
    "duration": 4,
    "start_time": "2023-07-06T09:29:03.765Z"
   },
   {
    "duration": 7,
    "start_time": "2023-07-06T09:29:04.679Z"
   },
   {
    "duration": 10,
    "start_time": "2023-07-06T09:31:49.692Z"
   },
   {
    "duration": 1663,
    "start_time": "2023-07-06T09:39:46.611Z"
   },
   {
    "duration": 31,
    "start_time": "2023-07-06T09:39:48.277Z"
   },
   {
    "duration": 24,
    "start_time": "2023-07-06T09:39:48.309Z"
   },
   {
    "duration": 10,
    "start_time": "2023-07-06T09:39:48.337Z"
   },
   {
    "duration": 16,
    "start_time": "2023-07-06T09:39:48.349Z"
   },
   {
    "duration": 20,
    "start_time": "2023-07-06T09:39:48.367Z"
   },
   {
    "duration": 18,
    "start_time": "2023-07-06T09:39:48.389Z"
   },
   {
    "duration": 125,
    "start_time": "2023-07-06T09:39:48.409Z"
   },
   {
    "duration": 141,
    "start_time": "2023-07-06T09:39:48.536Z"
   },
   {
    "duration": 119,
    "start_time": "2023-07-06T09:39:48.680Z"
   },
   {
    "duration": 113,
    "start_time": "2023-07-06T09:39:48.801Z"
   },
   {
    "duration": 5,
    "start_time": "2023-07-06T09:39:48.916Z"
   },
   {
    "duration": 19,
    "start_time": "2023-07-06T09:39:48.922Z"
   },
   {
    "duration": 15,
    "start_time": "2023-07-06T09:39:48.954Z"
   },
   {
    "duration": 30,
    "start_time": "2023-07-06T09:39:48.971Z"
   },
   {
    "duration": 23,
    "start_time": "2023-07-06T09:39:49.003Z"
   },
   {
    "duration": 7,
    "start_time": "2023-07-06T09:39:49.028Z"
   }
  ],
  "kernelspec": {
   "display_name": "Python 3 (ipykernel)",
   "language": "python",
   "name": "python3"
  },
  "language_info": {
   "codemirror_mode": {
    "name": "ipython",
    "version": 3
   },
   "file_extension": ".py",
   "mimetype": "text/x-python",
   "name": "python",
   "nbconvert_exporter": "python",
   "pygments_lexer": "ipython3",
   "version": "3.9.13"
  },
  "toc": {
   "base_numbering": 1,
   "nav_menu": {},
   "number_sections": true,
   "sideBar": true,
   "skip_h1_title": true,
   "title_cell": "Содержание",
   "title_sidebar": "Contents",
   "toc_cell": true,
   "toc_position": {},
   "toc_section_display": true,
   "toc_window_display": true
  }
 },
 "nbformat": 4,
 "nbformat_minor": 2
}
