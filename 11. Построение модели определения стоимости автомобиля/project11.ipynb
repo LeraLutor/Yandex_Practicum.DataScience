{
 "cells": [
  {
   "cell_type": "markdown",
   "metadata": {},
   "source": [
    "# Определение стоимости автомобилей"
   ]
  },
  {
   "cell_type": "markdown",
   "metadata": {},
   "source": [
    "Сервис по продаже автомобилей с пробегом «Не бит, не крашен» разрабатывает приложение для привлечения новых клиентов. В нём можно быстро узнать рыночную стоимость своего автомобиля. В вашем распоряжении исторические данные: технические характеристики, комплектации и цены автомобилей. Вам нужно построить модель для определения стоимости. \n",
    "\n",
    "Заказчику важны:\n",
    "\n",
    "- качество предсказания;\n",
    "- скорость предсказания;\n",
    "- время обучения."
   ]
  },
  {
   "cell_type": "markdown",
   "metadata": {},
   "source": [
    "## Подготовка данных"
   ]
  },
  {
   "cell_type": "markdown",
   "metadata": {},
   "source": [
    "### Загрузка данных"
   ]
  },
  {
   "cell_type": "markdown",
   "metadata": {},
   "source": [
    "Импортируем библиотеки."
   ]
  },
  {
   "cell_type": "code",
   "execution_count": 60,
   "metadata": {},
   "outputs": [],
   "source": [
    "import pandas as pd\n",
    "import time\n",
    "import seaborn as sns\n",
    "import matplotlib.pyplot as plt\n",
    "import numpy as np\n",
    "from sklearn.metrics import make_scorer\n",
    "from sklearn.model_selection import train_test_split\n",
    "from sklearn.preprocessing import OrdinalEncoder \n",
    "from sklearn.preprocessing import StandardScaler, MinMaxScaler\n",
    "from sklearn.model_selection import train_test_split, cross_val_score, GridSearchCV\n",
    "from sklearn.linear_model import LinearRegression\n",
    "from sklearn.metrics import mean_squared_error\n",
    "from sklearn.tree import DecisionTreeRegressor\n",
    "from catboost import CatBoostRegressor\n",
    "from lightgbm import LGBMRegressor\n",
    "from sklearn.metrics import mean_squared_error as mse\n",
    "from sklearn.preprocessing import StandardScaler\n",
    "from sklearn.model_selection import GridSearchCV\n",
    "import warnings\n",
    "warnings.filterwarnings(\"ignore\")"
   ]
  },
  {
   "cell_type": "markdown",
   "metadata": {},
   "source": [
    "Прочитаем данные с файла и сохраним в data. Также обозначим столбец индекса."
   ]
  },
  {
   "cell_type": "code",
   "execution_count": null,
   "metadata": {},
   "outputs": [],
   "source": [
    "data = pd.read_csv('/datasets/autos.csv')"
   ]
  },
  {
   "cell_type": "markdown",
   "metadata": {},
   "source": [
    "Посмотрим общую информацию в data."
   ]
  },
  {
   "cell_type": "code",
   "execution_count": 3,
   "metadata": {},
   "outputs": [
    {
     "name": "stdout",
     "output_type": "stream",
     "text": [
      "<class 'pandas.core.frame.DataFrame'>\n",
      "RangeIndex: 354369 entries, 0 to 354368\n",
      "Data columns (total 16 columns):\n",
      " #   Column             Non-Null Count   Dtype \n",
      "---  ------             --------------   ----- \n",
      " 0   DateCrawled        354369 non-null  object\n",
      " 1   Price              354369 non-null  int64 \n",
      " 2   VehicleType        316879 non-null  object\n",
      " 3   RegistrationYear   354369 non-null  int64 \n",
      " 4   Gearbox            334536 non-null  object\n",
      " 5   Power              354369 non-null  int64 \n",
      " 6   Model              334664 non-null  object\n",
      " 7   Kilometer          354369 non-null  int64 \n",
      " 8   RegistrationMonth  354369 non-null  int64 \n",
      " 9   FuelType           321474 non-null  object\n",
      " 10  Brand              354369 non-null  object\n",
      " 11  Repaired           283215 non-null  object\n",
      " 12  DateCreated        354369 non-null  object\n",
      " 13  NumberOfPictures   354369 non-null  int64 \n",
      " 14  PostalCode         354369 non-null  int64 \n",
      " 15  LastSeen           354369 non-null  object\n",
      "dtypes: int64(7), object(9)\n",
      "memory usage: 43.3+ MB\n"
     ]
    },
    {
     "data": {
      "text/html": [
       "<div>\n",
       "<style scoped>\n",
       "    .dataframe tbody tr th:only-of-type {\n",
       "        vertical-align: middle;\n",
       "    }\n",
       "\n",
       "    .dataframe tbody tr th {\n",
       "        vertical-align: top;\n",
       "    }\n",
       "\n",
       "    .dataframe thead th {\n",
       "        text-align: right;\n",
       "    }\n",
       "</style>\n",
       "<table border=\"1\" class=\"dataframe\">\n",
       "  <thead>\n",
       "    <tr style=\"text-align: right;\">\n",
       "      <th></th>\n",
       "      <th>DateCrawled</th>\n",
       "      <th>Price</th>\n",
       "      <th>VehicleType</th>\n",
       "      <th>RegistrationYear</th>\n",
       "      <th>Gearbox</th>\n",
       "      <th>Power</th>\n",
       "      <th>Model</th>\n",
       "      <th>Kilometer</th>\n",
       "      <th>RegistrationMonth</th>\n",
       "      <th>FuelType</th>\n",
       "      <th>Brand</th>\n",
       "      <th>Repaired</th>\n",
       "      <th>DateCreated</th>\n",
       "      <th>NumberOfPictures</th>\n",
       "      <th>PostalCode</th>\n",
       "      <th>LastSeen</th>\n",
       "    </tr>\n",
       "  </thead>\n",
       "  <tbody>\n",
       "    <tr>\n",
       "      <th>0</th>\n",
       "      <td>2016-03-24 11:52:17</td>\n",
       "      <td>480</td>\n",
       "      <td>NaN</td>\n",
       "      <td>1993</td>\n",
       "      <td>manual</td>\n",
       "      <td>0</td>\n",
       "      <td>golf</td>\n",
       "      <td>150000</td>\n",
       "      <td>0</td>\n",
       "      <td>petrol</td>\n",
       "      <td>volkswagen</td>\n",
       "      <td>NaN</td>\n",
       "      <td>2016-03-24 00:00:00</td>\n",
       "      <td>0</td>\n",
       "      <td>70435</td>\n",
       "      <td>2016-04-07 03:16:57</td>\n",
       "    </tr>\n",
       "    <tr>\n",
       "      <th>1</th>\n",
       "      <td>2016-03-24 10:58:45</td>\n",
       "      <td>18300</td>\n",
       "      <td>coupe</td>\n",
       "      <td>2011</td>\n",
       "      <td>manual</td>\n",
       "      <td>190</td>\n",
       "      <td>NaN</td>\n",
       "      <td>125000</td>\n",
       "      <td>5</td>\n",
       "      <td>gasoline</td>\n",
       "      <td>audi</td>\n",
       "      <td>yes</td>\n",
       "      <td>2016-03-24 00:00:00</td>\n",
       "      <td>0</td>\n",
       "      <td>66954</td>\n",
       "      <td>2016-04-07 01:46:50</td>\n",
       "    </tr>\n",
       "    <tr>\n",
       "      <th>2</th>\n",
       "      <td>2016-03-14 12:52:21</td>\n",
       "      <td>9800</td>\n",
       "      <td>suv</td>\n",
       "      <td>2004</td>\n",
       "      <td>auto</td>\n",
       "      <td>163</td>\n",
       "      <td>grand</td>\n",
       "      <td>125000</td>\n",
       "      <td>8</td>\n",
       "      <td>gasoline</td>\n",
       "      <td>jeep</td>\n",
       "      <td>NaN</td>\n",
       "      <td>2016-03-14 00:00:00</td>\n",
       "      <td>0</td>\n",
       "      <td>90480</td>\n",
       "      <td>2016-04-05 12:47:46</td>\n",
       "    </tr>\n",
       "    <tr>\n",
       "      <th>3</th>\n",
       "      <td>2016-03-17 16:54:04</td>\n",
       "      <td>1500</td>\n",
       "      <td>small</td>\n",
       "      <td>2001</td>\n",
       "      <td>manual</td>\n",
       "      <td>75</td>\n",
       "      <td>golf</td>\n",
       "      <td>150000</td>\n",
       "      <td>6</td>\n",
       "      <td>petrol</td>\n",
       "      <td>volkswagen</td>\n",
       "      <td>no</td>\n",
       "      <td>2016-03-17 00:00:00</td>\n",
       "      <td>0</td>\n",
       "      <td>91074</td>\n",
       "      <td>2016-03-17 17:40:17</td>\n",
       "    </tr>\n",
       "    <tr>\n",
       "      <th>4</th>\n",
       "      <td>2016-03-31 17:25:20</td>\n",
       "      <td>3600</td>\n",
       "      <td>small</td>\n",
       "      <td>2008</td>\n",
       "      <td>manual</td>\n",
       "      <td>69</td>\n",
       "      <td>fabia</td>\n",
       "      <td>90000</td>\n",
       "      <td>7</td>\n",
       "      <td>gasoline</td>\n",
       "      <td>skoda</td>\n",
       "      <td>no</td>\n",
       "      <td>2016-03-31 00:00:00</td>\n",
       "      <td>0</td>\n",
       "      <td>60437</td>\n",
       "      <td>2016-04-06 10:17:21</td>\n",
       "    </tr>\n",
       "    <tr>\n",
       "      <th>5</th>\n",
       "      <td>2016-04-04 17:36:23</td>\n",
       "      <td>650</td>\n",
       "      <td>sedan</td>\n",
       "      <td>1995</td>\n",
       "      <td>manual</td>\n",
       "      <td>102</td>\n",
       "      <td>3er</td>\n",
       "      <td>150000</td>\n",
       "      <td>10</td>\n",
       "      <td>petrol</td>\n",
       "      <td>bmw</td>\n",
       "      <td>yes</td>\n",
       "      <td>2016-04-04 00:00:00</td>\n",
       "      <td>0</td>\n",
       "      <td>33775</td>\n",
       "      <td>2016-04-06 19:17:07</td>\n",
       "    </tr>\n",
       "    <tr>\n",
       "      <th>6</th>\n",
       "      <td>2016-04-01 20:48:51</td>\n",
       "      <td>2200</td>\n",
       "      <td>convertible</td>\n",
       "      <td>2004</td>\n",
       "      <td>manual</td>\n",
       "      <td>109</td>\n",
       "      <td>2_reihe</td>\n",
       "      <td>150000</td>\n",
       "      <td>8</td>\n",
       "      <td>petrol</td>\n",
       "      <td>peugeot</td>\n",
       "      <td>no</td>\n",
       "      <td>2016-04-01 00:00:00</td>\n",
       "      <td>0</td>\n",
       "      <td>67112</td>\n",
       "      <td>2016-04-05 18:18:39</td>\n",
       "    </tr>\n",
       "    <tr>\n",
       "      <th>7</th>\n",
       "      <td>2016-03-21 18:54:38</td>\n",
       "      <td>0</td>\n",
       "      <td>sedan</td>\n",
       "      <td>1980</td>\n",
       "      <td>manual</td>\n",
       "      <td>50</td>\n",
       "      <td>other</td>\n",
       "      <td>40000</td>\n",
       "      <td>7</td>\n",
       "      <td>petrol</td>\n",
       "      <td>volkswagen</td>\n",
       "      <td>no</td>\n",
       "      <td>2016-03-21 00:00:00</td>\n",
       "      <td>0</td>\n",
       "      <td>19348</td>\n",
       "      <td>2016-03-25 16:47:58</td>\n",
       "    </tr>\n",
       "    <tr>\n",
       "      <th>8</th>\n",
       "      <td>2016-04-04 23:42:13</td>\n",
       "      <td>14500</td>\n",
       "      <td>bus</td>\n",
       "      <td>2014</td>\n",
       "      <td>manual</td>\n",
       "      <td>125</td>\n",
       "      <td>c_max</td>\n",
       "      <td>30000</td>\n",
       "      <td>8</td>\n",
       "      <td>petrol</td>\n",
       "      <td>ford</td>\n",
       "      <td>NaN</td>\n",
       "      <td>2016-04-04 00:00:00</td>\n",
       "      <td>0</td>\n",
       "      <td>94505</td>\n",
       "      <td>2016-04-04 23:42:13</td>\n",
       "    </tr>\n",
       "    <tr>\n",
       "      <th>9</th>\n",
       "      <td>2016-03-17 10:53:50</td>\n",
       "      <td>999</td>\n",
       "      <td>small</td>\n",
       "      <td>1998</td>\n",
       "      <td>manual</td>\n",
       "      <td>101</td>\n",
       "      <td>golf</td>\n",
       "      <td>150000</td>\n",
       "      <td>0</td>\n",
       "      <td>NaN</td>\n",
       "      <td>volkswagen</td>\n",
       "      <td>NaN</td>\n",
       "      <td>2016-03-17 00:00:00</td>\n",
       "      <td>0</td>\n",
       "      <td>27472</td>\n",
       "      <td>2016-03-31 17:17:06</td>\n",
       "    </tr>\n",
       "  </tbody>\n",
       "</table>\n",
       "</div>"
      ],
      "text/plain": [
       "           DateCrawled  Price  VehicleType  RegistrationYear Gearbox  Power  \\\n",
       "0  2016-03-24 11:52:17    480          NaN              1993  manual      0   \n",
       "1  2016-03-24 10:58:45  18300        coupe              2011  manual    190   \n",
       "2  2016-03-14 12:52:21   9800          suv              2004    auto    163   \n",
       "3  2016-03-17 16:54:04   1500        small              2001  manual     75   \n",
       "4  2016-03-31 17:25:20   3600        small              2008  manual     69   \n",
       "5  2016-04-04 17:36:23    650        sedan              1995  manual    102   \n",
       "6  2016-04-01 20:48:51   2200  convertible              2004  manual    109   \n",
       "7  2016-03-21 18:54:38      0        sedan              1980  manual     50   \n",
       "8  2016-04-04 23:42:13  14500          bus              2014  manual    125   \n",
       "9  2016-03-17 10:53:50    999        small              1998  manual    101   \n",
       "\n",
       "     Model  Kilometer  RegistrationMonth  FuelType       Brand Repaired  \\\n",
       "0     golf     150000                  0    petrol  volkswagen      NaN   \n",
       "1      NaN     125000                  5  gasoline        audi      yes   \n",
       "2    grand     125000                  8  gasoline        jeep      NaN   \n",
       "3     golf     150000                  6    petrol  volkswagen       no   \n",
       "4    fabia      90000                  7  gasoline       skoda       no   \n",
       "5      3er     150000                 10    petrol         bmw      yes   \n",
       "6  2_reihe     150000                  8    petrol     peugeot       no   \n",
       "7    other      40000                  7    petrol  volkswagen       no   \n",
       "8    c_max      30000                  8    petrol        ford      NaN   \n",
       "9     golf     150000                  0       NaN  volkswagen      NaN   \n",
       "\n",
       "           DateCreated  NumberOfPictures  PostalCode             LastSeen  \n",
       "0  2016-03-24 00:00:00                 0       70435  2016-04-07 03:16:57  \n",
       "1  2016-03-24 00:00:00                 0       66954  2016-04-07 01:46:50  \n",
       "2  2016-03-14 00:00:00                 0       90480  2016-04-05 12:47:46  \n",
       "3  2016-03-17 00:00:00                 0       91074  2016-03-17 17:40:17  \n",
       "4  2016-03-31 00:00:00                 0       60437  2016-04-06 10:17:21  \n",
       "5  2016-04-04 00:00:00                 0       33775  2016-04-06 19:17:07  \n",
       "6  2016-04-01 00:00:00                 0       67112  2016-04-05 18:18:39  \n",
       "7  2016-03-21 00:00:00                 0       19348  2016-03-25 16:47:58  \n",
       "8  2016-04-04 00:00:00                 0       94505  2016-04-04 23:42:13  \n",
       "9  2016-03-17 00:00:00                 0       27472  2016-03-31 17:17:06  "
      ]
     },
     "execution_count": 3,
     "metadata": {},
     "output_type": "execute_result"
    }
   ],
   "source": [
    "data.info()\n",
    "data.head(10)"
   ]
  },
  {
   "cell_type": "markdown",
   "metadata": {},
   "source": [
    "Согласно документации к данным, в таблице `autos` имеются следующие столбцы:\n",
    "* `DateCrawled` — дата скачивания анкеты из базы\n",
    "* `VehicleType` — тип автомобильного кузова\n",
    "* `RegistrationYear` — год регистрации автомобиля\n",
    "* `Gearbox` — тип коробки передач\n",
    "* `Power` — мощность (л. с.)\n",
    "* `Model` — модель автомобиля\n",
    "* `Kilometer` — пробег (км)\n",
    "* `RegistrationMonth` — месяц регистрации автомобиля\n",
    "* `FuelType` — тип топлива\n",
    "* `Brand` — марка автомобиля\n",
    "* `Repaired` — была машина в ремонте или нет\n",
    "* `DateCreated` — дата создания анкеты\n",
    "* `NumberOfPictures` — количество фотографий автомобиля\n",
    "* `PostalCode` — почтовый индекс владельца анкеты (пользователя)\n",
    "* `LastSeen` — дата последней активности пользователя"
   ]
  },
  {
   "cell_type": "markdown",
   "metadata": {},
   "source": [
    "### Проверка данных\n",
    "\n",
    "Проверим наличие явных дубликатов."
   ]
  },
  {
   "cell_type": "code",
   "execution_count": 4,
   "metadata": {},
   "outputs": [
    {
     "data": {
      "text/plain": [
       "4"
      ]
     },
     "execution_count": 4,
     "metadata": {},
     "output_type": "execute_result"
    }
   ],
   "source": [
    "data.duplicated().sum()"
   ]
  },
  {
   "cell_type": "markdown",
   "metadata": {},
   "source": [
    "Найдено 4 явных дубликата, поэтому удалим их."
   ]
  },
  {
   "cell_type": "code",
   "execution_count": 5,
   "metadata": {},
   "outputs": [],
   "source": [
    "data = data.drop_duplicates()"
   ]
  },
  {
   "cell_type": "markdown",
   "metadata": {},
   "source": [
    "В таблице `autos` есть строковые столбцы VehicleType, Gearbox, Model, FuelType, Brand, Repaired. Проверим их на наличие неявных дубликатов."
   ]
  },
  {
   "cell_type": "code",
   "execution_count": 6,
   "metadata": {},
   "outputs": [
    {
     "name": "stdout",
     "output_type": "stream",
     "text": [
      "['bus' 'convertible' 'coupe' 'other' 'sedan' 'small' 'suv' 'wagon' nan]\n",
      "['auto' 'manual' nan]\n",
      "['100' '145' '147' '156' '159' '1_reihe' '1er' '200' '2_reihe' '300c'\n",
      " '3_reihe' '3er' '4_reihe' '500' '5_reihe' '5er' '601' '6_reihe' '6er'\n",
      " '7er' '80' '850' '90' '900' '9000' '911' 'a1' 'a2' 'a3' 'a4' 'a5' 'a6'\n",
      " 'a8' 'a_klasse' 'accord' 'agila' 'alhambra' 'almera' 'altea' 'amarok'\n",
      " 'antara' 'arosa' 'astra' 'auris' 'avensis' 'aveo' 'aygo' 'b_klasse'\n",
      " 'b_max' 'beetle' 'berlingo' 'bora' 'boxster' 'bravo' 'c1' 'c2' 'c3' 'c4'\n",
      " 'c5' 'c_klasse' 'c_max' 'c_reihe' 'caddy' 'calibra' 'captiva' 'carisma'\n",
      " 'carnival' 'cayenne' 'cc' 'ceed' 'charade' 'cherokee' 'citigo' 'civic'\n",
      " 'cl' 'clio' 'clk' 'clubman' 'colt' 'combo' 'cooper' 'cordoba' 'corolla'\n",
      " 'corsa' 'cr_reihe' 'croma' 'crossfire' 'cuore' 'cx_reihe' 'defender'\n",
      " 'delta' 'discovery' 'doblo' 'ducato' 'duster' 'e_klasse' 'elefantino'\n",
      " 'eos' 'escort' 'espace' 'exeo' 'fabia' 'fiesta' 'focus' 'forester'\n",
      " 'forfour' 'fortwo' 'fox' 'freelander' 'fusion' 'g_klasse' 'galant'\n",
      " 'galaxy' 'getz' 'gl' 'glk' 'golf' 'grand' 'i3' 'i_reihe' 'ibiza'\n",
      " 'impreza' 'insignia' 'jazz' 'jetta' 'jimny' 'juke' 'justy' 'ka' 'kadett'\n",
      " 'kaefer' 'kalina' 'kalos' 'kangoo' 'kappa' 'kuga' 'laguna' 'lancer'\n",
      " 'lanos' 'legacy' 'leon' 'lodgy' 'logan' 'lupo' 'lybra' 'm_klasse'\n",
      " 'm_reihe' 'materia' 'matiz' 'megane' 'meriva' 'micra' 'mii' 'modus'\n",
      " 'mondeo' 'move' 'musa' 'mustang' 'mx_reihe' 'navara' 'niva' 'note'\n",
      " 'nubira' 'octavia' 'omega' 'one' 'other' 'outlander' 'pajero' 'panda'\n",
      " 'passat' 'phaeton' 'picanto' 'polo' 'primera' 'ptcruiser' 'punto' 'q3'\n",
      " 'q5' 'q7' 'qashqai' 'r19' 'range_rover' 'range_rover_evoque'\n",
      " 'range_rover_sport' 'rangerover' 'rav' 'rio' 'roadster' 'roomster'\n",
      " 'rx_reihe' 's60' 's_klasse' 's_max' 's_type' 'samara' 'sandero' 'santa'\n",
      " 'scenic' 'scirocco' 'seicento' 'serie_1' 'serie_2' 'serie_3' 'sharan'\n",
      " 'signum' 'sirion' 'sl' 'slk' 'sorento' 'spark' 'spider' 'sportage'\n",
      " 'sprinter' 'stilo' 'superb' 'swift' 'terios' 'tigra' 'tiguan' 'toledo'\n",
      " 'touareg' 'touran' 'transit' 'transporter' 'tt' 'tucson' 'twingo' 'up'\n",
      " 'v40' 'v50' 'v60' 'v70' 'v_klasse' 'vectra' 'verso' 'viano' 'vito'\n",
      " 'vivaro' 'voyager' 'wrangler' 'x_reihe' 'x_trail' 'x_type' 'xc_reihe'\n",
      " 'yaris' 'yeti' 'ypsilon' 'z_reihe' 'zafira' nan]\n",
      "['cng' 'electric' 'gasoline' 'hybrid' 'lpg' 'other' 'petrol' nan]\n",
      "['alfa_romeo' 'audi' 'bmw' 'chevrolet' 'chrysler' 'citroen' 'dacia'\n",
      " 'daewoo' 'daihatsu' 'fiat' 'ford' 'honda' 'hyundai' 'jaguar' 'jeep' 'kia'\n",
      " 'lada' 'lancia' 'land_rover' 'mazda' 'mercedes_benz' 'mini' 'mitsubishi'\n",
      " 'nissan' 'opel' 'peugeot' 'porsche' 'renault' 'rover' 'saab' 'seat'\n",
      " 'skoda' 'smart' 'sonstige_autos' 'subaru' 'suzuki' 'toyota' 'trabant'\n",
      " 'volkswagen' 'volvo']\n",
      "['no' 'yes' nan]\n"
     ]
    }
   ],
   "source": [
    "print(data['VehicleType'].sort_values().unique())\n",
    "print(data['Gearbox'].sort_values().unique())\n",
    "print(data['Model'].sort_values().unique())\n",
    "print(data['FuelType'].sort_values().unique())\n",
    "print(data['Brand'].sort_values().unique())\n",
    "print(data['Repaired'].sort_values().unique())"
   ]
  },
  {
   "cell_type": "markdown",
   "metadata": {},
   "source": [
    "Неявных дубликатов в таблице не обнаружено."
   ]
  },
  {
   "cell_type": "markdown",
   "metadata": {},
   "source": [
    "В таблице есть несколько столбцов со временем, которые имеют тип object. Преобразуем их в тип datetime."
   ]
  },
  {
   "cell_type": "code",
   "execution_count": 7,
   "metadata": {},
   "outputs": [
    {
     "name": "stdout",
     "output_type": "stream",
     "text": [
      "<class 'pandas.core.frame.DataFrame'>\n",
      "Int64Index: 354365 entries, 0 to 354368\n",
      "Data columns (total 16 columns):\n",
      " #   Column             Non-Null Count   Dtype         \n",
      "---  ------             --------------   -----         \n",
      " 0   DateCrawled        354365 non-null  datetime64[ns]\n",
      " 1   Price              354365 non-null  int64         \n",
      " 2   VehicleType        316875 non-null  object        \n",
      " 3   RegistrationYear   354365 non-null  int64         \n",
      " 4   Gearbox            334532 non-null  object        \n",
      " 5   Power              354365 non-null  int64         \n",
      " 6   Model              334660 non-null  object        \n",
      " 7   Kilometer          354365 non-null  int64         \n",
      " 8   RegistrationMonth  354365 non-null  int64         \n",
      " 9   FuelType           321470 non-null  object        \n",
      " 10  Brand              354365 non-null  object        \n",
      " 11  Repaired           283211 non-null  object        \n",
      " 12  DateCreated        354365 non-null  datetime64[ns]\n",
      " 13  NumberOfPictures   354365 non-null  int64         \n",
      " 14  PostalCode         354365 non-null  int64         \n",
      " 15  LastSeen           354365 non-null  datetime64[ns]\n",
      "dtypes: datetime64[ns](3), int64(7), object(6)\n",
      "memory usage: 46.0+ MB\n"
     ]
    },
    {
     "data": {
      "text/html": [
       "<div>\n",
       "<style scoped>\n",
       "    .dataframe tbody tr th:only-of-type {\n",
       "        vertical-align: middle;\n",
       "    }\n",
       "\n",
       "    .dataframe tbody tr th {\n",
       "        vertical-align: top;\n",
       "    }\n",
       "\n",
       "    .dataframe thead th {\n",
       "        text-align: right;\n",
       "    }\n",
       "</style>\n",
       "<table border=\"1\" class=\"dataframe\">\n",
       "  <thead>\n",
       "    <tr style=\"text-align: right;\">\n",
       "      <th></th>\n",
       "      <th>DateCrawled</th>\n",
       "      <th>Price</th>\n",
       "      <th>VehicleType</th>\n",
       "      <th>RegistrationYear</th>\n",
       "      <th>Gearbox</th>\n",
       "      <th>Power</th>\n",
       "      <th>Model</th>\n",
       "      <th>Kilometer</th>\n",
       "      <th>RegistrationMonth</th>\n",
       "      <th>FuelType</th>\n",
       "      <th>Brand</th>\n",
       "      <th>Repaired</th>\n",
       "      <th>DateCreated</th>\n",
       "      <th>NumberOfPictures</th>\n",
       "      <th>PostalCode</th>\n",
       "      <th>LastSeen</th>\n",
       "    </tr>\n",
       "  </thead>\n",
       "  <tbody>\n",
       "    <tr>\n",
       "      <th>0</th>\n",
       "      <td>2016-03-24 11:52:17</td>\n",
       "      <td>480</td>\n",
       "      <td>NaN</td>\n",
       "      <td>1993</td>\n",
       "      <td>manual</td>\n",
       "      <td>0</td>\n",
       "      <td>golf</td>\n",
       "      <td>150000</td>\n",
       "      <td>0</td>\n",
       "      <td>petrol</td>\n",
       "      <td>volkswagen</td>\n",
       "      <td>NaN</td>\n",
       "      <td>2016-03-24</td>\n",
       "      <td>0</td>\n",
       "      <td>70435</td>\n",
       "      <td>2016-04-07 03:16:57</td>\n",
       "    </tr>\n",
       "    <tr>\n",
       "      <th>1</th>\n",
       "      <td>2016-03-24 10:58:45</td>\n",
       "      <td>18300</td>\n",
       "      <td>coupe</td>\n",
       "      <td>2011</td>\n",
       "      <td>manual</td>\n",
       "      <td>190</td>\n",
       "      <td>NaN</td>\n",
       "      <td>125000</td>\n",
       "      <td>5</td>\n",
       "      <td>gasoline</td>\n",
       "      <td>audi</td>\n",
       "      <td>yes</td>\n",
       "      <td>2016-03-24</td>\n",
       "      <td>0</td>\n",
       "      <td>66954</td>\n",
       "      <td>2016-04-07 01:46:50</td>\n",
       "    </tr>\n",
       "    <tr>\n",
       "      <th>2</th>\n",
       "      <td>2016-03-14 12:52:21</td>\n",
       "      <td>9800</td>\n",
       "      <td>suv</td>\n",
       "      <td>2004</td>\n",
       "      <td>auto</td>\n",
       "      <td>163</td>\n",
       "      <td>grand</td>\n",
       "      <td>125000</td>\n",
       "      <td>8</td>\n",
       "      <td>gasoline</td>\n",
       "      <td>jeep</td>\n",
       "      <td>NaN</td>\n",
       "      <td>2016-03-14</td>\n",
       "      <td>0</td>\n",
       "      <td>90480</td>\n",
       "      <td>2016-04-05 12:47:46</td>\n",
       "    </tr>\n",
       "    <tr>\n",
       "      <th>3</th>\n",
       "      <td>2016-03-17 16:54:04</td>\n",
       "      <td>1500</td>\n",
       "      <td>small</td>\n",
       "      <td>2001</td>\n",
       "      <td>manual</td>\n",
       "      <td>75</td>\n",
       "      <td>golf</td>\n",
       "      <td>150000</td>\n",
       "      <td>6</td>\n",
       "      <td>petrol</td>\n",
       "      <td>volkswagen</td>\n",
       "      <td>no</td>\n",
       "      <td>2016-03-17</td>\n",
       "      <td>0</td>\n",
       "      <td>91074</td>\n",
       "      <td>2016-03-17 17:40:17</td>\n",
       "    </tr>\n",
       "    <tr>\n",
       "      <th>4</th>\n",
       "      <td>2016-03-31 17:25:20</td>\n",
       "      <td>3600</td>\n",
       "      <td>small</td>\n",
       "      <td>2008</td>\n",
       "      <td>manual</td>\n",
       "      <td>69</td>\n",
       "      <td>fabia</td>\n",
       "      <td>90000</td>\n",
       "      <td>7</td>\n",
       "      <td>gasoline</td>\n",
       "      <td>skoda</td>\n",
       "      <td>no</td>\n",
       "      <td>2016-03-31</td>\n",
       "      <td>0</td>\n",
       "      <td>60437</td>\n",
       "      <td>2016-04-06 10:17:21</td>\n",
       "    </tr>\n",
       "  </tbody>\n",
       "</table>\n",
       "</div>"
      ],
      "text/plain": [
       "          DateCrawled  Price VehicleType  RegistrationYear Gearbox  Power  \\\n",
       "0 2016-03-24 11:52:17    480         NaN              1993  manual      0   \n",
       "1 2016-03-24 10:58:45  18300       coupe              2011  manual    190   \n",
       "2 2016-03-14 12:52:21   9800         suv              2004    auto    163   \n",
       "3 2016-03-17 16:54:04   1500       small              2001  manual     75   \n",
       "4 2016-03-31 17:25:20   3600       small              2008  manual     69   \n",
       "\n",
       "   Model  Kilometer  RegistrationMonth  FuelType       Brand Repaired  \\\n",
       "0   golf     150000                  0    petrol  volkswagen      NaN   \n",
       "1    NaN     125000                  5  gasoline        audi      yes   \n",
       "2  grand     125000                  8  gasoline        jeep      NaN   \n",
       "3   golf     150000                  6    petrol  volkswagen       no   \n",
       "4  fabia      90000                  7  gasoline       skoda       no   \n",
       "\n",
       "  DateCreated  NumberOfPictures  PostalCode            LastSeen  \n",
       "0  2016-03-24                 0       70435 2016-04-07 03:16:57  \n",
       "1  2016-03-24                 0       66954 2016-04-07 01:46:50  \n",
       "2  2016-03-14                 0       90480 2016-04-05 12:47:46  \n",
       "3  2016-03-17                 0       91074 2016-03-17 17:40:17  \n",
       "4  2016-03-31                 0       60437 2016-04-06 10:17:21  "
      ]
     },
     "execution_count": 7,
     "metadata": {},
     "output_type": "execute_result"
    }
   ],
   "source": [
    "data['DateCrawled'] = pd.to_datetime(data['DateCrawled'], format = '%Y-%m-%d %H:%M:%S')\n",
    "data['DateCreated'] = pd.to_datetime(data['DateCreated'], format = '%Y-%m-%d %H:%M:%S')\n",
    "data['LastSeen'] = pd.to_datetime(data['LastSeen'], format = '%Y-%m-%d %H:%M:%S')\n",
    "data.info()\n",
    "data.head(5)"
   ]
  },
  {
   "cell_type": "markdown",
   "metadata": {},
   "source": [
    "В таблице уже видны пропущенные значения."
   ]
  },
  {
   "cell_type": "code",
   "execution_count": 8,
   "metadata": {},
   "outputs": [
    {
     "name": "stdout",
     "output_type": "stream",
     "text": [
      "Количество пропусков в data:\n",
      " DateCrawled              0\n",
      "Price                    0\n",
      "VehicleType          37490\n",
      "RegistrationYear         0\n",
      "Gearbox              19833\n",
      "Power                    0\n",
      "Model                19705\n",
      "Kilometer                0\n",
      "RegistrationMonth        0\n",
      "FuelType             32895\n",
      "Brand                    0\n",
      "Repaired             71154\n",
      "DateCreated              0\n",
      "NumberOfPictures         0\n",
      "PostalCode               0\n",
      "LastSeen                 0\n",
      "dtype: int64\n"
     ]
    }
   ],
   "source": [
    "print(\"Количество пропусков в data:\"'\\n', data.isna().sum())"
   ]
  },
  {
   "cell_type": "markdown",
   "metadata": {},
   "source": [
    "Посчитаем процент пропусков в каждом столбце."
   ]
  },
  {
   "cell_type": "code",
   "execution_count": 9,
   "metadata": {},
   "outputs": [
    {
     "data": {
      "text/html": [
       "<div>\n",
       "<style scoped>\n",
       "    .dataframe tbody tr th:only-of-type {\n",
       "        vertical-align: middle;\n",
       "    }\n",
       "\n",
       "    .dataframe tbody tr th {\n",
       "        vertical-align: top;\n",
       "    }\n",
       "\n",
       "    .dataframe thead th {\n",
       "        text-align: right;\n",
       "    }\n",
       "</style>\n",
       "<table border=\"1\" class=\"dataframe\">\n",
       "  <thead>\n",
       "    <tr style=\"text-align: right;\">\n",
       "      <th></th>\n",
       "      <th>NaNs, %</th>\n",
       "    </tr>\n",
       "  </thead>\n",
       "  <tbody>\n",
       "    <tr>\n",
       "      <th>Repaired</th>\n",
       "      <td>20.08</td>\n",
       "    </tr>\n",
       "    <tr>\n",
       "      <th>VehicleType</th>\n",
       "      <td>10.58</td>\n",
       "    </tr>\n",
       "    <tr>\n",
       "      <th>FuelType</th>\n",
       "      <td>9.28</td>\n",
       "    </tr>\n",
       "    <tr>\n",
       "      <th>Gearbox</th>\n",
       "      <td>5.60</td>\n",
       "    </tr>\n",
       "    <tr>\n",
       "      <th>Model</th>\n",
       "      <td>5.56</td>\n",
       "    </tr>\n",
       "    <tr>\n",
       "      <th>DateCrawled</th>\n",
       "      <td>0.00</td>\n",
       "    </tr>\n",
       "    <tr>\n",
       "      <th>Price</th>\n",
       "      <td>0.00</td>\n",
       "    </tr>\n",
       "    <tr>\n",
       "      <th>RegistrationYear</th>\n",
       "      <td>0.00</td>\n",
       "    </tr>\n",
       "    <tr>\n",
       "      <th>Power</th>\n",
       "      <td>0.00</td>\n",
       "    </tr>\n",
       "    <tr>\n",
       "      <th>Kilometer</th>\n",
       "      <td>0.00</td>\n",
       "    </tr>\n",
       "    <tr>\n",
       "      <th>RegistrationMonth</th>\n",
       "      <td>0.00</td>\n",
       "    </tr>\n",
       "    <tr>\n",
       "      <th>Brand</th>\n",
       "      <td>0.00</td>\n",
       "    </tr>\n",
       "    <tr>\n",
       "      <th>DateCreated</th>\n",
       "      <td>0.00</td>\n",
       "    </tr>\n",
       "    <tr>\n",
       "      <th>NumberOfPictures</th>\n",
       "      <td>0.00</td>\n",
       "    </tr>\n",
       "    <tr>\n",
       "      <th>PostalCode</th>\n",
       "      <td>0.00</td>\n",
       "    </tr>\n",
       "    <tr>\n",
       "      <th>LastSeen</th>\n",
       "      <td>0.00</td>\n",
       "    </tr>\n",
       "  </tbody>\n",
       "</table>\n",
       "</div>"
      ],
      "text/plain": [
       "                   NaNs, %\n",
       "Repaired             20.08\n",
       "VehicleType          10.58\n",
       "FuelType              9.28\n",
       "Gearbox               5.60\n",
       "Model                 5.56\n",
       "DateCrawled           0.00\n",
       "Price                 0.00\n",
       "RegistrationYear      0.00\n",
       "Power                 0.00\n",
       "Kilometer             0.00\n",
       "RegistrationMonth     0.00\n",
       "Brand                 0.00\n",
       "DateCreated           0.00\n",
       "NumberOfPictures      0.00\n",
       "PostalCode            0.00\n",
       "LastSeen              0.00"
      ]
     },
     "metadata": {},
     "output_type": "display_data"
    }
   ],
   "source": [
    "display(pd.DataFrame(round((data.isna().mean()*100),2), columns=['NaNs, %']).sort_values(by='NaNs, %', ascending=False))"
   ]
  },
  {
   "cell_type": "markdown",
   "metadata": {},
   "source": [
    "Большой процент пропусков в столбце со значением была ли машина в ремонте или нет. Это может быть связано с тем человек может не  знать, была ли когда-то отремонтирована его машина (авто куплено б/у и т.п.).\n",
    "\n",
    "Пока трогать пропуски не будем."
   ]
  },
  {
   "cell_type": "markdown",
   "metadata": {},
   "source": [
    "### Подготовка данных\n",
    "\n",
    "Удалим ненужные для обучения столбцы"
   ]
  },
  {
   "cell_type": "code",
   "execution_count": 10,
   "metadata": {
    "scrolled": true
   },
   "outputs": [
    {
     "data": {
      "text/html": [
       "<div>\n",
       "<style scoped>\n",
       "    .dataframe tbody tr th:only-of-type {\n",
       "        vertical-align: middle;\n",
       "    }\n",
       "\n",
       "    .dataframe tbody tr th {\n",
       "        vertical-align: top;\n",
       "    }\n",
       "\n",
       "    .dataframe thead th {\n",
       "        text-align: right;\n",
       "    }\n",
       "</style>\n",
       "<table border=\"1\" class=\"dataframe\">\n",
       "  <thead>\n",
       "    <tr style=\"text-align: right;\">\n",
       "      <th></th>\n",
       "      <th>Price</th>\n",
       "      <th>VehicleType</th>\n",
       "      <th>RegistrationYear</th>\n",
       "      <th>Gearbox</th>\n",
       "      <th>Power</th>\n",
       "      <th>Model</th>\n",
       "      <th>Kilometer</th>\n",
       "      <th>FuelType</th>\n",
       "      <th>Brand</th>\n",
       "      <th>Repaired</th>\n",
       "    </tr>\n",
       "  </thead>\n",
       "  <tbody>\n",
       "    <tr>\n",
       "      <th>0</th>\n",
       "      <td>480</td>\n",
       "      <td>NaN</td>\n",
       "      <td>1993</td>\n",
       "      <td>manual</td>\n",
       "      <td>0</td>\n",
       "      <td>golf</td>\n",
       "      <td>150000</td>\n",
       "      <td>petrol</td>\n",
       "      <td>volkswagen</td>\n",
       "      <td>NaN</td>\n",
       "    </tr>\n",
       "    <tr>\n",
       "      <th>1</th>\n",
       "      <td>18300</td>\n",
       "      <td>coupe</td>\n",
       "      <td>2011</td>\n",
       "      <td>manual</td>\n",
       "      <td>190</td>\n",
       "      <td>NaN</td>\n",
       "      <td>125000</td>\n",
       "      <td>gasoline</td>\n",
       "      <td>audi</td>\n",
       "      <td>yes</td>\n",
       "    </tr>\n",
       "    <tr>\n",
       "      <th>2</th>\n",
       "      <td>9800</td>\n",
       "      <td>suv</td>\n",
       "      <td>2004</td>\n",
       "      <td>auto</td>\n",
       "      <td>163</td>\n",
       "      <td>grand</td>\n",
       "      <td>125000</td>\n",
       "      <td>gasoline</td>\n",
       "      <td>jeep</td>\n",
       "      <td>NaN</td>\n",
       "    </tr>\n",
       "    <tr>\n",
       "      <th>3</th>\n",
       "      <td>1500</td>\n",
       "      <td>small</td>\n",
       "      <td>2001</td>\n",
       "      <td>manual</td>\n",
       "      <td>75</td>\n",
       "      <td>golf</td>\n",
       "      <td>150000</td>\n",
       "      <td>petrol</td>\n",
       "      <td>volkswagen</td>\n",
       "      <td>no</td>\n",
       "    </tr>\n",
       "    <tr>\n",
       "      <th>4</th>\n",
       "      <td>3600</td>\n",
       "      <td>small</td>\n",
       "      <td>2008</td>\n",
       "      <td>manual</td>\n",
       "      <td>69</td>\n",
       "      <td>fabia</td>\n",
       "      <td>90000</td>\n",
       "      <td>gasoline</td>\n",
       "      <td>skoda</td>\n",
       "      <td>no</td>\n",
       "    </tr>\n",
       "    <tr>\n",
       "      <th>5</th>\n",
       "      <td>650</td>\n",
       "      <td>sedan</td>\n",
       "      <td>1995</td>\n",
       "      <td>manual</td>\n",
       "      <td>102</td>\n",
       "      <td>3er</td>\n",
       "      <td>150000</td>\n",
       "      <td>petrol</td>\n",
       "      <td>bmw</td>\n",
       "      <td>yes</td>\n",
       "    </tr>\n",
       "    <tr>\n",
       "      <th>6</th>\n",
       "      <td>2200</td>\n",
       "      <td>convertible</td>\n",
       "      <td>2004</td>\n",
       "      <td>manual</td>\n",
       "      <td>109</td>\n",
       "      <td>2_reihe</td>\n",
       "      <td>150000</td>\n",
       "      <td>petrol</td>\n",
       "      <td>peugeot</td>\n",
       "      <td>no</td>\n",
       "    </tr>\n",
       "    <tr>\n",
       "      <th>7</th>\n",
       "      <td>0</td>\n",
       "      <td>sedan</td>\n",
       "      <td>1980</td>\n",
       "      <td>manual</td>\n",
       "      <td>50</td>\n",
       "      <td>other</td>\n",
       "      <td>40000</td>\n",
       "      <td>petrol</td>\n",
       "      <td>volkswagen</td>\n",
       "      <td>no</td>\n",
       "    </tr>\n",
       "    <tr>\n",
       "      <th>8</th>\n",
       "      <td>14500</td>\n",
       "      <td>bus</td>\n",
       "      <td>2014</td>\n",
       "      <td>manual</td>\n",
       "      <td>125</td>\n",
       "      <td>c_max</td>\n",
       "      <td>30000</td>\n",
       "      <td>petrol</td>\n",
       "      <td>ford</td>\n",
       "      <td>NaN</td>\n",
       "    </tr>\n",
       "    <tr>\n",
       "      <th>9</th>\n",
       "      <td>999</td>\n",
       "      <td>small</td>\n",
       "      <td>1998</td>\n",
       "      <td>manual</td>\n",
       "      <td>101</td>\n",
       "      <td>golf</td>\n",
       "      <td>150000</td>\n",
       "      <td>NaN</td>\n",
       "      <td>volkswagen</td>\n",
       "      <td>NaN</td>\n",
       "    </tr>\n",
       "  </tbody>\n",
       "</table>\n",
       "</div>"
      ],
      "text/plain": [
       "   Price  VehicleType  RegistrationYear Gearbox  Power    Model  Kilometer  \\\n",
       "0    480          NaN              1993  manual      0     golf     150000   \n",
       "1  18300        coupe              2011  manual    190      NaN     125000   \n",
       "2   9800          suv              2004    auto    163    grand     125000   \n",
       "3   1500        small              2001  manual     75     golf     150000   \n",
       "4   3600        small              2008  manual     69    fabia      90000   \n",
       "5    650        sedan              1995  manual    102      3er     150000   \n",
       "6   2200  convertible              2004  manual    109  2_reihe     150000   \n",
       "7      0        sedan              1980  manual     50    other      40000   \n",
       "8  14500          bus              2014  manual    125    c_max      30000   \n",
       "9    999        small              1998  manual    101     golf     150000   \n",
       "\n",
       "   FuelType       Brand Repaired  \n",
       "0    petrol  volkswagen      NaN  \n",
       "1  gasoline        audi      yes  \n",
       "2  gasoline        jeep      NaN  \n",
       "3    petrol  volkswagen       no  \n",
       "4  gasoline       skoda       no  \n",
       "5    petrol         bmw      yes  \n",
       "6    petrol     peugeot       no  \n",
       "7    petrol  volkswagen       no  \n",
       "8    petrol        ford      NaN  \n",
       "9       NaN  volkswagen      NaN  "
      ]
     },
     "execution_count": 10,
     "metadata": {},
     "output_type": "execute_result"
    }
   ],
   "source": [
    "data = data.drop(columns=['LastSeen', 'DateCrawled', 'RegistrationMonth', 'DateCreated', 'NumberOfPictures', 'PostalCode'])\n",
    "data.head(10)"
   ]
  },
  {
   "cell_type": "markdown",
   "metadata": {},
   "source": [
    "Проверим наличие аномальных значений."
   ]
  },
  {
   "cell_type": "code",
   "execution_count": 11,
   "metadata": {},
   "outputs": [
    {
     "name": "stdout",
     "output_type": "stream",
     "text": [
      "Price\n"
     ]
    },
    {
     "data": {
      "image/png": "[encoded data removed]",
      "text/plain": [
       "<Figure size 432x288 with 1 Axes>"
      ]
     },
     "metadata": {
      "needs_background": "light"
     },
     "output_type": "display_data"
    },
    {
     "name": "stdout",
     "output_type": "stream",
     "text": [
      "RegistrationYear\n"
     ]
    },
    {
     "data": {
      "image/png": "[encoded data removed]",
      "text/plain": [
       "<Figure size 432x288 with 1 Axes>"
      ]
     },
     "metadata": {
      "needs_background": "light"
     },
     "output_type": "display_data"
    },
    {
     "name": "stdout",
     "output_type": "stream",
     "text": [
      "Power\n"
     ]
    },
    {
     "data": {
      "image/png": "[encoded data removed]",
      "text/plain": [
       "<Figure size 432x288 with 1 Axes>"
      ]
     },
     "metadata": {
      "needs_background": "light"
     },
     "output_type": "display_data"
    },
    {
     "name": "stdout",
     "output_type": "stream",
     "text": [
      "Kilometer\n"
     ]
    },
    {
     "data": {
      "image/png": "[encoded data removed]",
      "text/plain": [
       "<Figure size 432x288 with 1 Axes>"
      ]
     },
     "metadata": {
      "needs_background": "light"
     },
     "output_type": "display_data"
    }
   ],
   "source": [
    "for i in data:\n",
    "    if data[i].dtypes == 'int64':\n",
    "        print(i)\n",
    "        sns.boxplot(data= data[i], orient='h', color='g')\n",
    "        plt.show()"
   ]
  },
  {
   "cell_type": "markdown",
   "metadata": {},
   "source": [
    "В столбцах price, registrationyear, power есть аномальные значения. "
   ]
  },
  {
   "cell_type": "markdown",
   "metadata": {},
   "source": [
    "#### Обработка Price"
   ]
  },
  {
   "cell_type": "markdown",
   "metadata": {},
   "source": [
    "Проверим значения ниже 100 евро."
   ]
  },
  {
   "cell_type": "code",
   "execution_count": 12,
   "metadata": {},
   "outputs": [
    {
     "data": {
      "text/plain": [
       "0    10772\n",
       "1     1189\n",
       "2       12\n",
       "3        8\n",
       "4        1\n",
       "Name: Price, dtype: int64"
      ]
     },
     "execution_count": 12,
     "metadata": {},
     "output_type": "execute_result"
    }
   ],
   "source": [
    "data[data['Price']<100]['Price'].value_counts().sort_index().head()"
   ]
  },
  {
   "cell_type": "markdown",
   "metadata": {},
   "source": [
    "Ниже 100 евро встречатся только значения от 0 до 4 евро. Такая цена очень подозрительна.\n",
    "\n",
    "Проверим распределение цены."
   ]
  },
  {
   "cell_type": "code",
   "execution_count": 13,
   "metadata": {},
   "outputs": [
    {
     "data": {
      "text/plain": [
       "18800.0"
      ]
     },
     "execution_count": 13,
     "metadata": {},
     "output_type": "execute_result"
    },
    {
     "data": {
      "image/png": "[encoded data removed]",
      "text/plain": [
       "<Figure size 1080x504 with 1 Axes>"
      ]
     },
     "metadata": {
      "needs_background": "light"
     },
     "output_type": "display_data"
    }
   ],
   "source": [
    "fig, ax = plt.subplots(figsize=(15, 7))\n",
    "sns.histplot(data['Price'], bins = 100, ax = ax, kde=True)\n",
    "data['Price'].quantile(0.99)"
   ]
  },
  {
   "cell_type": "markdown",
   "metadata": {},
   "source": [
    "#### Обработка RegistrationYear"
   ]
  },
  {
   "cell_type": "markdown",
   "metadata": {},
   "source": [
    "Проверим уникальные значения года регистрации."
   ]
  },
  {
   "cell_type": "code",
   "execution_count": 14,
   "metadata": {},
   "outputs": [
    {
     "data": {
      "text/plain": [
       "array([1000, 1001, 1039, 1111, 1200, 1234, 1253, 1255, 1300, 1400, 1500,\n",
       "       1600, 1602, 1688, 1800, 1910, 1915, 1919, 1920, 1923, 1925, 1927,\n",
       "       1928, 1929, 1930, 1931, 1932, 1933, 1934, 1935, 1936, 1937, 1938,\n",
       "       1940, 1941, 1942, 1943, 1944, 1945, 1946, 1947, 1948, 1949, 1950,\n",
       "       1951, 1952, 1953, 1954, 1955, 1956, 1957, 1958, 1959, 1960, 1961,\n",
       "       1962, 1963, 1964, 1965, 1966, 1967, 1968, 1969, 1970, 1971, 1972,\n",
       "       1973, 1974, 1975, 1976, 1977, 1978, 1979, 1980, 1981, 1982, 1983,\n",
       "       1984, 1985, 1986, 1987, 1988, 1989, 1990, 1991, 1992, 1993, 1994,\n",
       "       1995, 1996, 1997, 1998, 1999, 2000, 2001, 2002, 2003, 2004, 2005,\n",
       "       2006, 2007, 2008, 2009, 2010, 2011, 2012, 2013, 2014, 2015, 2016,\n",
       "       2017, 2018, 2019, 2066, 2200, 2222, 2290, 2500, 2800, 2900, 3000,\n",
       "       3200, 3500, 3700, 3800, 4000, 4100, 4500, 4800, 5000, 5300, 5555,\n",
       "       5600, 5900, 5911, 6000, 6500, 7000, 7100, 7500, 7800, 8000, 8200,\n",
       "       8455, 8500, 8888, 9000, 9229, 9450, 9996, 9999])"
      ]
     },
     "execution_count": 14,
     "metadata": {},
     "output_type": "execute_result"
    }
   ],
   "source": [
    "data['RegistrationYear'].sort_values().unique()"
   ]
  },
  {
   "cell_type": "markdown",
   "metadata": {},
   "source": [
    "Первый автомобиль появился только в 1885 году, поэтому значения до явно аномальные. Также значения от 2066 года физически не могут существовать, поэтому удалим их из выборки."
   ]
  },
  {
   "cell_type": "code",
   "execution_count": 15,
   "metadata": {},
   "outputs": [],
   "source": [
    "data = data.query('1910 <= RegistrationYear <= 2019')"
   ]
  },
  {
   "cell_type": "markdown",
   "metadata": {},
   "source": [
    "Построим распределение годов."
   ]
  },
  {
   "cell_type": "code",
   "execution_count": 16,
   "metadata": {},
   "outputs": [
    {
     "data": {
      "text/plain": [
       "1992.0"
      ]
     },
     "execution_count": 16,
     "metadata": {},
     "output_type": "execute_result"
    },
    {
     "data": {
      "image/png": "[encoded data removed]",
      "text/plain": [
       "<Figure size 1080x504 with 1 Axes>"
      ]
     },
     "metadata": {
      "needs_background": "light"
     },
     "output_type": "display_data"
    }
   ],
   "source": [
    "fig, ax = plt.subplots(figsize=(15, 7))\n",
    "sns.histplot(data['RegistrationYear'], bins = 100, ax = ax, kde=True)\n",
    "data['RegistrationYear'].quantile(0.05)"
   ]
  },
  {
   "cell_type": "markdown",
   "metadata": {},
   "source": [
    "95% автомобилей от 1993 года выпуска, однако видим что все-таки повышение колличества авто идет от 1970 года, поэтому удалим из выборки только авто произведенные до 70х. Также практически нет авто произведенных после 2016 года."
   ]
  },
  {
   "cell_type": "code",
   "execution_count": 17,
   "metadata": {},
   "outputs": [],
   "source": [
    "data = data.query('1970 <= RegistrationYear <= 2016')"
   ]
  },
  {
   "cell_type": "code",
   "execution_count": 18,
   "metadata": {},
   "outputs": [
    {
     "data": {
      "image/png": "[encoded data removed]",
      "text/plain": [
       "<Figure size 1080x504 with 1 Axes>"
      ]
     },
     "metadata": {
      "needs_background": "light"
     },
     "output_type": "display_data"
    }
   ],
   "source": [
    "fig, ax = plt.subplots(figsize=(15, 7))\n",
    "sns.histplot(data['RegistrationYear'], bins = 100, ax = ax, kde=True)\n",
    "plt.show()"
   ]
  },
  {
   "cell_type": "markdown",
   "metadata": {},
   "source": [
    "### Обработка Power"
   ]
  },
  {
   "cell_type": "markdown",
   "metadata": {},
   "source": [
    "Построим распределение мощности."
   ]
  },
  {
   "cell_type": "code",
   "execution_count": 19,
   "metadata": {},
   "outputs": [
    {
     "data": {
      "text/plain": [
       "218.0"
      ]
     },
     "execution_count": 19,
     "metadata": {},
     "output_type": "execute_result"
    },
    {
     "data": {
      "image/png": "[encoded data removed]",
      "text/plain": [
       "<Figure size 1080x504 with 1 Axes>"
      ]
     },
     "metadata": {
      "needs_background": "light"
     },
     "output_type": "display_data"
    }
   ],
   "source": [
    "fig, ax = plt.subplots(figsize=(15, 7))\n",
    "sns.histplot(data['Power'], bins = 100, ax = ax, kde=True)\n",
    "data['Power'].quantile(0.95)"
   ]
  },
  {
   "cell_type": "markdown",
   "metadata": {},
   "source": [
    "Очень много нулевых значений. Восстановить их нельзя, поэтому исключим их из выборки."
   ]
  },
  {
   "cell_type": "code",
   "execution_count": 20,
   "metadata": {},
   "outputs": [
    {
     "data": {
      "text/plain": [
       "306.0"
      ]
     },
     "execution_count": 20,
     "metadata": {},
     "output_type": "execute_result"
    },
    {
     "data": {
      "image/png": "[encoded data removed]",
      "text/plain": [
       "<Figure size 1080x504 with 1 Axes>"
      ]
     },
     "metadata": {
      "needs_background": "light"
     },
     "output_type": "display_data"
    }
   ],
   "source": [
    "data = data.query('0 < Power')\n",
    "fig, ax = plt.subplots(figsize=(15, 7))\n",
    "sns.histplot(data['Power'], bins = 100, ax = ax, kde=True)\n",
    "data['Power'].quantile(0.99)"
   ]
  },
  {
   "cell_type": "markdown",
   "metadata": {},
   "source": [
    "99% процентов значений не превышают показатель в 306, значит отсальные значения можно исключить. Оставим в выборке значения не превышающие 350."
   ]
  },
  {
   "cell_type": "code",
   "execution_count": 21,
   "metadata": {},
   "outputs": [
    {
     "data": {
      "image/png": "[encoded data removed]",
      "text/plain": [
       "<Figure size 1080x504 with 1 Axes>"
      ]
     },
     "metadata": {
      "needs_background": "light"
     },
     "output_type": "display_data"
    }
   ],
   "source": [
    "data = data.query('350 > Power')\n",
    "fig, ax = plt.subplots(figsize=(15, 7))\n",
    "sns.histplot(data['Power'], bins = 100, ax = ax, kde=True)\n",
    "plt.show()"
   ]
  },
  {
   "cell_type": "markdown",
   "metadata": {},
   "source": [
    "### Обработка пропусков\n",
    "\n",
    "Проверим снова количество пропусков."
   ]
  },
  {
   "cell_type": "code",
   "execution_count": 22,
   "metadata": {},
   "outputs": [
    {
     "data": {
      "text/html": [
       "<div>\n",
       "<style scoped>\n",
       "    .dataframe tbody tr th:only-of-type {\n",
       "        vertical-align: middle;\n",
       "    }\n",
       "\n",
       "    .dataframe tbody tr th {\n",
       "        vertical-align: top;\n",
       "    }\n",
       "\n",
       "    .dataframe thead th {\n",
       "        text-align: right;\n",
       "    }\n",
       "</style>\n",
       "<table border=\"1\" class=\"dataframe\">\n",
       "  <thead>\n",
       "    <tr style=\"text-align: right;\">\n",
       "      <th></th>\n",
       "      <th>NaNs, %</th>\n",
       "    </tr>\n",
       "  </thead>\n",
       "  <tbody>\n",
       "    <tr>\n",
       "      <th>Repaired</th>\n",
       "      <td>14.94</td>\n",
       "    </tr>\n",
       "    <tr>\n",
       "      <th>FuelType</th>\n",
       "      <td>5.52</td>\n",
       "    </tr>\n",
       "    <tr>\n",
       "      <th>VehicleType</th>\n",
       "      <td>3.97</td>\n",
       "    </tr>\n",
       "    <tr>\n",
       "      <th>Model</th>\n",
       "      <td>3.89</td>\n",
       "    </tr>\n",
       "    <tr>\n",
       "      <th>Gearbox</th>\n",
       "      <td>1.89</td>\n",
       "    </tr>\n",
       "    <tr>\n",
       "      <th>Price</th>\n",
       "      <td>0.00</td>\n",
       "    </tr>\n",
       "    <tr>\n",
       "      <th>RegistrationYear</th>\n",
       "      <td>0.00</td>\n",
       "    </tr>\n",
       "    <tr>\n",
       "      <th>Power</th>\n",
       "      <td>0.00</td>\n",
       "    </tr>\n",
       "    <tr>\n",
       "      <th>Kilometer</th>\n",
       "      <td>0.00</td>\n",
       "    </tr>\n",
       "    <tr>\n",
       "      <th>Brand</th>\n",
       "      <td>0.00</td>\n",
       "    </tr>\n",
       "  </tbody>\n",
       "</table>\n",
       "</div>"
      ],
      "text/plain": [
       "                  NaNs, %\n",
       "Repaired            14.94\n",
       "FuelType             5.52\n",
       "VehicleType          3.97\n",
       "Model                3.89\n",
       "Gearbox              1.89\n",
       "Price                0.00\n",
       "RegistrationYear     0.00\n",
       "Power                0.00\n",
       "Kilometer            0.00\n",
       "Brand                0.00"
      ]
     },
     "metadata": {},
     "output_type": "display_data"
    },
    {
     "name": "stdout",
     "output_type": "stream",
     "text": [
      "Количество пропусков в data:\n",
      " Price                   0\n",
      "VehicleType         11968\n",
      "RegistrationYear        0\n",
      "Gearbox              5698\n",
      "Power                   0\n",
      "Model               11731\n",
      "Kilometer               0\n",
      "FuelType            16644\n",
      "Brand                   0\n",
      "Repaired            45021\n",
      "dtype: int64\n"
     ]
    }
   ],
   "source": [
    "display(pd.DataFrame(round((data.isna().mean()*100),2), columns=['NaNs, %']).sort_values(by='NaNs, %', ascending=False))\n",
    "print(\"Количество пропусков в data:\"'\\n', data.isna().sum())"
   ]
  },
  {
   "cell_type": "markdown",
   "metadata": {},
   "source": [
    "Посмотрим на распределение признаков."
   ]
  },
  {
   "cell_type": "code",
   "execution_count": 23,
   "metadata": {},
   "outputs": [
    {
     "data": {
      "image/png": "[encoded data removed]",
      "text/plain": [
       "<Figure size 1080x504 with 1 Axes>"
      ]
     },
     "metadata": {
      "needs_background": "light"
     },
     "output_type": "display_data"
    }
   ],
   "source": [
    "val_counts = data['VehicleType'].fillna('None').value_counts()\n",
    "plt.figure(figsize=(15, 7))\n",
    "ax = sns.barplot(x = val_counts.values, y=val_counts.index)\n",
    "for i in range(len(val_counts.index)):\n",
    "    if val_counts.index[i] == 'None':\n",
    "        ax.patches[i].set_color('black')\n",
    "plt.title('Тип кузова')\n",
    "plt.show()"
   ]
  },
  {
   "cell_type": "code",
   "execution_count": 24,
   "metadata": {},
   "outputs": [
    {
     "data": {
      "image/png": "[encoded data removed]",
      "text/plain": [
       "<Figure size 648x288 with 1 Axes>"
      ]
     },
     "metadata": {
      "needs_background": "light"
     },
     "output_type": "display_data"
    }
   ],
   "source": [
    "val_counts = data['Gearbox'].fillna('None').value_counts()\n",
    "plt.figure(figsize=(9, 4))\n",
    "ax = sns.barplot(x = val_counts.values, y=val_counts.index)\n",
    "for i in range(len(val_counts.index)):\n",
    "    if val_counts.index[i] == 'None':\n",
    "        ax.patches[i].set_color('black')\n",
    "plt.title('Тип коробки передач')\n",
    "plt.show()"
   ]
  },
  {
   "cell_type": "code",
   "execution_count": 25,
   "metadata": {},
   "outputs": [
    {
     "data": {
      "image/png": "[encoded data removed]",
      "text/plain": [
       "<Figure size 648x288 with 1 Axes>"
      ]
     },
     "metadata": {
      "needs_background": "light"
     },
     "output_type": "display_data"
    }
   ],
   "source": [
    "val_counts = data['FuelType'].fillna('None').value_counts()\n",
    "plt.figure(figsize=(9, 4))\n",
    "ax = sns.barplot(x = val_counts.values, y=val_counts.index)\n",
    "for i in range(len(val_counts.index)):\n",
    "    if val_counts.index[i] == 'None':\n",
    "        ax.patches[i].set_color('black')\n",
    "plt.title('Тип топлива')\n",
    "plt.show()"
   ]
  },
  {
   "cell_type": "code",
   "execution_count": 26,
   "metadata": {},
   "outputs": [
    {
     "data": {
      "image/png": "[encoded data removed]",
      "text/plain": [
       "<Figure size 648x288 with 1 Axes>"
      ]
     },
     "metadata": {
      "needs_background": "light"
     },
     "output_type": "display_data"
    }
   ],
   "source": [
    "val_counts = data['Repaired'].fillna('None').value_counts()\n",
    "plt.figure(figsize=(9, 4))\n",
    "ax = sns.barplot(x = val_counts.values, y=val_counts.index)\n",
    "for i in range(len(val_counts.index)):\n",
    "    if val_counts.index[i] == 'None':\n",
    "        ax.patches[i].set_color('black')\n",
    "plt.title('Наличие ремонта')\n",
    "plt.show()"
   ]
  },
  {
   "cell_type": "code",
   "execution_count": 27,
   "metadata": {},
   "outputs": [
    {
     "data": {
      "text/plain": [
       "array(['100', '145', '147', '156', '159', '1_reihe', '1er', '200',\n",
       "       '2_reihe', '300c', '3_reihe', '3er', '4_reihe', '500', '5_reihe',\n",
       "       '5er', '601', '6_reihe', '6er', '7er', '80', '850', '90', '900',\n",
       "       '9000', '911', 'a1', 'a2', 'a3', 'a4', 'a5', 'a6', 'a8',\n",
       "       'a_klasse', 'accord', 'agila', 'alhambra', 'almera', 'altea',\n",
       "       'amarok', 'antara', 'arosa', 'astra', 'auris', 'avensis', 'aveo',\n",
       "       'aygo', 'b_klasse', 'b_max', 'beetle', 'berlingo', 'bora',\n",
       "       'boxster', 'bravo', 'c1', 'c2', 'c3', 'c4', 'c5', 'c_klasse',\n",
       "       'c_max', 'c_reihe', 'caddy', 'calibra', 'captiva', 'carisma',\n",
       "       'carnival', 'cayenne', 'cc', 'ceed', 'charade', 'cherokee',\n",
       "       'citigo', 'civic', 'cl', 'clio', 'clk', 'clubman', 'colt', 'combo',\n",
       "       'cooper', 'cordoba', 'corolla', 'corsa', 'cr_reihe', 'croma',\n",
       "       'crossfire', 'cuore', 'cx_reihe', 'defender', 'delta', 'discovery',\n",
       "       'doblo', 'ducato', 'duster', 'e_klasse', 'elefantino', 'eos',\n",
       "       'escort', 'espace', 'exeo', 'fabia', 'fiesta', 'focus', 'forester',\n",
       "       'forfour', 'fortwo', 'fox', 'freelander', 'fusion', 'g_klasse',\n",
       "       'galant', 'galaxy', 'getz', 'gl', 'glk', 'golf', 'grand', 'i3',\n",
       "       'i_reihe', 'ibiza', 'impreza', 'insignia', 'jazz', 'jetta',\n",
       "       'jimny', 'juke', 'justy', 'ka', 'kadett', 'kaefer', 'kalina',\n",
       "       'kalos', 'kangoo', 'kappa', 'kuga', 'laguna', 'lancer', 'lanos',\n",
       "       'legacy', 'leon', 'lodgy', 'logan', 'lupo', 'lybra', 'm_klasse',\n",
       "       'm_reihe', 'materia', 'matiz', 'megane', 'meriva', 'micra', 'mii',\n",
       "       'modus', 'mondeo', 'move', 'musa', 'mustang', 'mx_reihe', 'navara',\n",
       "       'niva', 'note', 'nubira', 'octavia', 'omega', 'one', 'other',\n",
       "       'outlander', 'pajero', 'panda', 'passat', 'phaeton', 'picanto',\n",
       "       'polo', 'primera', 'ptcruiser', 'punto', 'q3', 'q5', 'q7',\n",
       "       'qashqai', 'r19', 'range_rover', 'range_rover_evoque',\n",
       "       'range_rover_sport', 'rangerover', 'rav', 'rio', 'roadster',\n",
       "       'roomster', 'rx_reihe', 's60', 's_klasse', 's_max', 's_type',\n",
       "       'samara', 'sandero', 'santa', 'scenic', 'scirocco', 'seicento',\n",
       "       'serie_2', 'serie_3', 'sharan', 'signum', 'sirion', 'sl', 'slk',\n",
       "       'sorento', 'spark', 'spider', 'sportage', 'sprinter', 'stilo',\n",
       "       'superb', 'swift', 'terios', 'tigra', 'tiguan', 'toledo',\n",
       "       'touareg', 'touran', 'transit', 'transporter', 'tt', 'tucson',\n",
       "       'twingo', 'up', 'v40', 'v50', 'v60', 'v70', 'v_klasse', 'vectra',\n",
       "       'verso', 'viano', 'vito', 'vivaro', 'voyager', 'wrangler',\n",
       "       'x_reihe', 'x_trail', 'x_type', 'xc_reihe', 'yaris', 'yeti',\n",
       "       'ypsilon', 'z_reihe', 'zafira', nan], dtype=object)"
      ]
     },
     "execution_count": 27,
     "metadata": {},
     "output_type": "execute_result"
    }
   ],
   "source": [
    "data['Model'].sort_values().unique()"
   ]
  },
  {
   "cell_type": "markdown",
   "metadata": {},
   "source": [
    "Пропуски в типе кузова, тип коробки передач, тип топлива заполним по значениям модели и бренда. Пропуски в модели и ремонте заполим значениями `unknown`."
   ]
  },
  {
   "cell_type": "code",
   "execution_count": 28,
   "metadata": {},
   "outputs": [],
   "source": [
    "def fill(df, target_col, group_col):\n",
    "    before = df[target_col].isna().sum()\n",
    "    df.loc[df[target_col].isna(), target_col] = (df.loc[df[target_col].isna(), group_col].map(\n",
    "            df.groupby(group_col)[target_col].agg(lambda x: pd.Series.mode(x)[0])))"
   ]
  },
  {
   "cell_type": "code",
   "execution_count": 29,
   "metadata": {},
   "outputs": [],
   "source": [
    "for i in ['VehicleType', 'Gearbox', 'FuelType']:\n",
    "    fill(data, i, 'Model')\n",
    "    fill(data, i, 'Brand')\n",
    "\n",
    "data['Model'].fillna('unknown', inplace=True)\n",
    "data['Repaired'].fillna('unknown', inplace=True)"
   ]
  },
  {
   "cell_type": "code",
   "execution_count": 30,
   "metadata": {},
   "outputs": [
    {
     "data": {
      "text/html": [
       "<div>\n",
       "<style scoped>\n",
       "    .dataframe tbody tr th:only-of-type {\n",
       "        vertical-align: middle;\n",
       "    }\n",
       "\n",
       "    .dataframe tbody tr th {\n",
       "        vertical-align: top;\n",
       "    }\n",
       "\n",
       "    .dataframe thead th {\n",
       "        text-align: right;\n",
       "    }\n",
       "</style>\n",
       "<table border=\"1\" class=\"dataframe\">\n",
       "  <thead>\n",
       "    <tr style=\"text-align: right;\">\n",
       "      <th></th>\n",
       "      <th>NaNs, %</th>\n",
       "    </tr>\n",
       "  </thead>\n",
       "  <tbody>\n",
       "    <tr>\n",
       "      <th>Price</th>\n",
       "      <td>0.0</td>\n",
       "    </tr>\n",
       "    <tr>\n",
       "      <th>VehicleType</th>\n",
       "      <td>0.0</td>\n",
       "    </tr>\n",
       "    <tr>\n",
       "      <th>RegistrationYear</th>\n",
       "      <td>0.0</td>\n",
       "    </tr>\n",
       "    <tr>\n",
       "      <th>Gearbox</th>\n",
       "      <td>0.0</td>\n",
       "    </tr>\n",
       "    <tr>\n",
       "      <th>Power</th>\n",
       "      <td>0.0</td>\n",
       "    </tr>\n",
       "    <tr>\n",
       "      <th>Model</th>\n",
       "      <td>0.0</td>\n",
       "    </tr>\n",
       "    <tr>\n",
       "      <th>Kilometer</th>\n",
       "      <td>0.0</td>\n",
       "    </tr>\n",
       "    <tr>\n",
       "      <th>FuelType</th>\n",
       "      <td>0.0</td>\n",
       "    </tr>\n",
       "    <tr>\n",
       "      <th>Brand</th>\n",
       "      <td>0.0</td>\n",
       "    </tr>\n",
       "    <tr>\n",
       "      <th>Repaired</th>\n",
       "      <td>0.0</td>\n",
       "    </tr>\n",
       "  </tbody>\n",
       "</table>\n",
       "</div>"
      ],
      "text/plain": [
       "                  NaNs, %\n",
       "Price                 0.0\n",
       "VehicleType           0.0\n",
       "RegistrationYear      0.0\n",
       "Gearbox               0.0\n",
       "Power                 0.0\n",
       "Model                 0.0\n",
       "Kilometer             0.0\n",
       "FuelType              0.0\n",
       "Brand                 0.0\n",
       "Repaired              0.0"
      ]
     },
     "metadata": {},
     "output_type": "display_data"
    },
    {
     "name": "stdout",
     "output_type": "stream",
     "text": [
      "Количество пропусков в data:\n",
      " Price               0\n",
      "VehicleType         0\n",
      "RegistrationYear    0\n",
      "Gearbox             0\n",
      "Power               0\n",
      "Model               0\n",
      "Kilometer           0\n",
      "FuelType            0\n",
      "Brand               0\n",
      "Repaired            0\n",
      "dtype: int64\n"
     ]
    }
   ],
   "source": [
    "display(pd.DataFrame(round((data.isna().mean()*100),2), columns=['NaNs, %']).sort_values(by='NaNs, %', ascending=False))\n",
    "print(\"Количество пропусков в data:\"'\\n', data.isna().sum())"
   ]
  },
  {
   "cell_type": "markdown",
   "metadata": {},
   "source": [
    "В итоге все пропуски были заполнены.\n",
    "\n",
    "Проведем еще раз проверку на явные дубликаты."
   ]
  },
  {
   "cell_type": "code",
   "execution_count": 31,
   "metadata": {},
   "outputs": [
    {
     "data": {
      "text/plain": [
       "42476"
      ]
     },
     "execution_count": 31,
     "metadata": {},
     "output_type": "execute_result"
    }
   ],
   "source": [
    "data.duplicated().sum()"
   ]
  },
  {
   "cell_type": "markdown",
   "metadata": {},
   "source": [
    "Появились 42476 новых дубликатов. удалим их."
   ]
  },
  {
   "cell_type": "code",
   "execution_count": 32,
   "metadata": {},
   "outputs": [
    {
     "name": "stdout",
     "output_type": "stream",
     "text": [
      "<class 'pandas.core.frame.DataFrame'>\n",
      "Int64Index: 258939 entries, 1 to 354368\n",
      "Data columns (total 10 columns):\n",
      " #   Column            Non-Null Count   Dtype \n",
      "---  ------            --------------   ----- \n",
      " 0   Price             258939 non-null  int64 \n",
      " 1   VehicleType       258939 non-null  object\n",
      " 2   RegistrationYear  258939 non-null  int64 \n",
      " 3   Gearbox           258939 non-null  object\n",
      " 4   Power             258939 non-null  int64 \n",
      " 5   Model             258939 non-null  object\n",
      " 6   Kilometer         258939 non-null  int64 \n",
      " 7   FuelType          258939 non-null  object\n",
      " 8   Brand             258939 non-null  object\n",
      " 9   Repaired          258939 non-null  object\n",
      "dtypes: int64(4), object(6)\n",
      "memory usage: 21.7+ MB\n"
     ]
    }
   ],
   "source": [
    "data = data.drop_duplicates()\n",
    "data.info()"
   ]
  },
  {
   "cell_type": "markdown",
   "metadata": {},
   "source": [
    "**Вывод этапа**:\n",
    "- Проведена проверка на наличие аномальных значений в данных. Были найдены аномалии в столбцах `Price`, `RegistrationYear`и `Power`. В столбце цены оставлены значения от 100 до 15000, в годе регистрации 0т 1970 до 2016 и в мощности от 1 до 300.\n",
    "- Проведена проверка пропущенных значений. Пропуски найдены в столбцах `Repaired`, `Model` - заполнены значениями *unknown*, `FuelType`, `VehicleType`, `Gearbox`: для заполнения попусков в этих слобцах написана функция определяющая тип по модели и бренду автомобиля.\n",
    "- Проведена проверка на наличие явных и неянвых дубликатов. Всего было найдено 42480 явных дубликатов (удалены), неяных дубликатов необнаружено."
   ]
  },
  {
   "cell_type": "markdown",
   "metadata": {},
   "source": [
    "## Обучение моделей"
   ]
  },
  {
   "cell_type": "markdown",
   "metadata": {},
   "source": [
    "### Подготовка данных"
   ]
  },
  {
   "cell_type": "markdown",
   "metadata": {},
   "source": [
    "Для обучения моделей необходимо закодировать и масштабировать признаки, поэтому воспользуемся методами Ordinal и OHE."
   ]
  },
  {
   "cell_type": "markdown",
   "metadata": {},
   "source": [
    "Выделим целевые признаки и атрибуты для OHE.\n",
    "Для начала переведем категориальные значения столбцов в колличественные."
   ]
  },
  {
   "cell_type": "code",
   "execution_count": 34,
   "metadata": {
    "scrolled": true
   },
   "outputs": [
    {
     "data": {
      "text/html": [
       "<div>\n",
       "<style scoped>\n",
       "    .dataframe tbody tr th:only-of-type {\n",
       "        vertical-align: middle;\n",
       "    }\n",
       "\n",
       "    .dataframe tbody tr th {\n",
       "        vertical-align: top;\n",
       "    }\n",
       "\n",
       "    .dataframe thead th {\n",
       "        text-align: right;\n",
       "    }\n",
       "</style>\n",
       "<table border=\"1\" class=\"dataframe\">\n",
       "  <thead>\n",
       "    <tr style=\"text-align: right;\">\n",
       "      <th></th>\n",
       "      <th>Price</th>\n",
       "      <th>RegistrationYear</th>\n",
       "      <th>Power</th>\n",
       "      <th>Kilometer</th>\n",
       "      <th>VehicleType_convertible</th>\n",
       "      <th>VehicleType_coupe</th>\n",
       "      <th>VehicleType_other</th>\n",
       "      <th>VehicleType_sedan</th>\n",
       "      <th>VehicleType_small</th>\n",
       "      <th>VehicleType_suv</th>\n",
       "      <th>...</th>\n",
       "      <th>Brand_smart</th>\n",
       "      <th>Brand_sonstige_autos</th>\n",
       "      <th>Brand_subaru</th>\n",
       "      <th>Brand_suzuki</th>\n",
       "      <th>Brand_toyota</th>\n",
       "      <th>Brand_trabant</th>\n",
       "      <th>Brand_volkswagen</th>\n",
       "      <th>Brand_volvo</th>\n",
       "      <th>Repaired_unknown</th>\n",
       "      <th>Repaired_yes</th>\n",
       "    </tr>\n",
       "  </thead>\n",
       "  <tbody>\n",
       "    <tr>\n",
       "      <th>1</th>\n",
       "      <td>18300</td>\n",
       "      <td>2011</td>\n",
       "      <td>190</td>\n",
       "      <td>125000</td>\n",
       "      <td>0</td>\n",
       "      <td>1</td>\n",
       "      <td>0</td>\n",
       "      <td>0</td>\n",
       "      <td>0</td>\n",
       "      <td>0</td>\n",
       "      <td>...</td>\n",
       "      <td>0</td>\n",
       "      <td>0</td>\n",
       "      <td>0</td>\n",
       "      <td>0</td>\n",
       "      <td>0</td>\n",
       "      <td>0</td>\n",
       "      <td>0</td>\n",
       "      <td>0</td>\n",
       "      <td>0</td>\n",
       "      <td>1</td>\n",
       "    </tr>\n",
       "    <tr>\n",
       "      <th>2</th>\n",
       "      <td>9800</td>\n",
       "      <td>2004</td>\n",
       "      <td>163</td>\n",
       "      <td>125000</td>\n",
       "      <td>0</td>\n",
       "      <td>0</td>\n",
       "      <td>0</td>\n",
       "      <td>0</td>\n",
       "      <td>0</td>\n",
       "      <td>1</td>\n",
       "      <td>...</td>\n",
       "      <td>0</td>\n",
       "      <td>0</td>\n",
       "      <td>0</td>\n",
       "      <td>0</td>\n",
       "      <td>0</td>\n",
       "      <td>0</td>\n",
       "      <td>0</td>\n",
       "      <td>0</td>\n",
       "      <td>1</td>\n",
       "      <td>0</td>\n",
       "    </tr>\n",
       "    <tr>\n",
       "      <th>3</th>\n",
       "      <td>1500</td>\n",
       "      <td>2001</td>\n",
       "      <td>75</td>\n",
       "      <td>150000</td>\n",
       "      <td>0</td>\n",
       "      <td>0</td>\n",
       "      <td>0</td>\n",
       "      <td>0</td>\n",
       "      <td>1</td>\n",
       "      <td>0</td>\n",
       "      <td>...</td>\n",
       "      <td>0</td>\n",
       "      <td>0</td>\n",
       "      <td>0</td>\n",
       "      <td>0</td>\n",
       "      <td>0</td>\n",
       "      <td>0</td>\n",
       "      <td>1</td>\n",
       "      <td>0</td>\n",
       "      <td>0</td>\n",
       "      <td>0</td>\n",
       "    </tr>\n",
       "    <tr>\n",
       "      <th>4</th>\n",
       "      <td>3600</td>\n",
       "      <td>2008</td>\n",
       "      <td>69</td>\n",
       "      <td>90000</td>\n",
       "      <td>0</td>\n",
       "      <td>0</td>\n",
       "      <td>0</td>\n",
       "      <td>0</td>\n",
       "      <td>1</td>\n",
       "      <td>0</td>\n",
       "      <td>...</td>\n",
       "      <td>0</td>\n",
       "      <td>0</td>\n",
       "      <td>0</td>\n",
       "      <td>0</td>\n",
       "      <td>0</td>\n",
       "      <td>0</td>\n",
       "      <td>0</td>\n",
       "      <td>0</td>\n",
       "      <td>0</td>\n",
       "      <td>0</td>\n",
       "    </tr>\n",
       "    <tr>\n",
       "      <th>5</th>\n",
       "      <td>650</td>\n",
       "      <td>1995</td>\n",
       "      <td>102</td>\n",
       "      <td>150000</td>\n",
       "      <td>0</td>\n",
       "      <td>0</td>\n",
       "      <td>0</td>\n",
       "      <td>1</td>\n",
       "      <td>0</td>\n",
       "      <td>0</td>\n",
       "      <td>...</td>\n",
       "      <td>0</td>\n",
       "      <td>0</td>\n",
       "      <td>0</td>\n",
       "      <td>0</td>\n",
       "      <td>0</td>\n",
       "      <td>0</td>\n",
       "      <td>0</td>\n",
       "      <td>0</td>\n",
       "      <td>0</td>\n",
       "      <td>1</td>\n",
       "    </tr>\n",
       "  </tbody>\n",
       "</table>\n",
       "<p>5 rows × 308 columns</p>\n",
       "</div>"
      ],
      "text/plain": [
       "   Price  RegistrationYear  Power  Kilometer  VehicleType_convertible  \\\n",
       "1  18300              2011    190     125000                        0   \n",
       "2   9800              2004    163     125000                        0   \n",
       "3   1500              2001     75     150000                        0   \n",
       "4   3600              2008     69      90000                        0   \n",
       "5    650              1995    102     150000                        0   \n",
       "\n",
       "   VehicleType_coupe  VehicleType_other  VehicleType_sedan  VehicleType_small  \\\n",
       "1                  1                  0                  0                  0   \n",
       "2                  0                  0                  0                  0   \n",
       "3                  0                  0                  0                  1   \n",
       "4                  0                  0                  0                  1   \n",
       "5                  0                  0                  1                  0   \n",
       "\n",
       "   VehicleType_suv  ...  Brand_smart  Brand_sonstige_autos  Brand_subaru  \\\n",
       "1                0  ...            0                     0             0   \n",
       "2                1  ...            0                     0             0   \n",
       "3                0  ...            0                     0             0   \n",
       "4                0  ...            0                     0             0   \n",
       "5                0  ...            0                     0             0   \n",
       "\n",
       "   Brand_suzuki  Brand_toyota  Brand_trabant  Brand_volkswagen  Brand_volvo  \\\n",
       "1             0             0              0                 0            0   \n",
       "2             0             0              0                 0            0   \n",
       "3             0             0              0                 1            0   \n",
       "4             0             0              0                 0            0   \n",
       "5             0             0              0                 0            0   \n",
       "\n",
       "   Repaired_unknown  Repaired_yes  \n",
       "1                 0             1  \n",
       "2                 1             0  \n",
       "3                 0             0  \n",
       "4                 0             0  \n",
       "5                 0             1  \n",
       "\n",
       "[5 rows x 308 columns]"
      ]
     },
     "execution_count": 34,
     "metadata": {},
     "output_type": "execute_result"
    }
   ],
   "source": [
    "ohe = pd.get_dummies(data, drop_first=True)\n",
    "ohe.head()"
   ]
  },
  {
   "cell_type": "markdown",
   "metadata": {},
   "source": [
    "Выделим обучающую и тестовую выборки."
   ]
  },
  {
   "cell_type": "code",
   "execution_count": 37,
   "metadata": {},
   "outputs": [
    {
     "name": "stdout",
     "output_type": "stream",
     "text": [
      "(194204, 307)\n",
      "(64735, 307)\n"
     ]
    }
   ],
   "source": [
    "target_ohe = ohe['Price']\n",
    "features_ohe = ohe.drop('Price', axis=1)\n",
    "features_train_ohe, features_test_ohe, target_train_ohe, target_test_ohe = train_test_split(features_ohe, \n",
    "                                                                                target_ohe, test_size=0.25, random_state=12345) \n",
    "\n",
    "print(features_train_ohe.shape)\n",
    "print(features_test_ohe.shape)"
   ]
  },
  {
   "cell_type": "markdown",
   "metadata": {},
   "source": [
    "Масштабируем признаки."
   ]
  },
  {
   "cell_type": "code",
   "execution_count": 40,
   "metadata": {},
   "outputs": [
    {
     "data": {
      "text/html": [
       "<div>\n",
       "<style scoped>\n",
       "    .dataframe tbody tr th:only-of-type {\n",
       "        vertical-align: middle;\n",
       "    }\n",
       "\n",
       "    .dataframe tbody tr th {\n",
       "        vertical-align: top;\n",
       "    }\n",
       "\n",
       "    .dataframe thead th {\n",
       "        text-align: right;\n",
       "    }\n",
       "</style>\n",
       "<table border=\"1\" class=\"dataframe\">\n",
       "  <thead>\n",
       "    <tr style=\"text-align: right;\">\n",
       "      <th></th>\n",
       "      <th>RegistrationYear</th>\n",
       "      <th>Power</th>\n",
       "      <th>Kilometer</th>\n",
       "      <th>VehicleType_convertible</th>\n",
       "      <th>VehicleType_coupe</th>\n",
       "      <th>VehicleType_other</th>\n",
       "      <th>VehicleType_sedan</th>\n",
       "      <th>VehicleType_small</th>\n",
       "      <th>VehicleType_suv</th>\n",
       "      <th>VehicleType_wagon</th>\n",
       "      <th>...</th>\n",
       "      <th>Brand_smart</th>\n",
       "      <th>Brand_sonstige_autos</th>\n",
       "      <th>Brand_subaru</th>\n",
       "      <th>Brand_suzuki</th>\n",
       "      <th>Brand_toyota</th>\n",
       "      <th>Brand_trabant</th>\n",
       "      <th>Brand_volkswagen</th>\n",
       "      <th>Brand_volvo</th>\n",
       "      <th>Repaired_unknown</th>\n",
       "      <th>Repaired_yes</th>\n",
       "    </tr>\n",
       "  </thead>\n",
       "  <tbody>\n",
       "    <tr>\n",
       "      <th>57032</th>\n",
       "      <td>-0.613720</td>\n",
       "      <td>-0.884356</td>\n",
       "      <td>0.605821</td>\n",
       "      <td>-0.265599</td>\n",
       "      <td>-0.233721</td>\n",
       "      <td>-0.097587</td>\n",
       "      <td>1.543293</td>\n",
       "      <td>-0.562499</td>\n",
       "      <td>-0.200148</td>\n",
       "      <td>-0.505732</td>\n",
       "      <td>...</td>\n",
       "      <td>-0.126232</td>\n",
       "      <td>-0.078785</td>\n",
       "      <td>-0.04846</td>\n",
       "      <td>-0.084536</td>\n",
       "      <td>-0.120686</td>\n",
       "      <td>-0.032108</td>\n",
       "      <td>-0.509278</td>\n",
       "      <td>-0.099821</td>\n",
       "      <td>-0.432327</td>\n",
       "      <td>-0.34564</td>\n",
       "    </tr>\n",
       "    <tr>\n",
       "      <th>353699</th>\n",
       "      <td>1.577779</td>\n",
       "      <td>-0.672155</td>\n",
       "      <td>-2.590650</td>\n",
       "      <td>-0.265599</td>\n",
       "      <td>-0.233721</td>\n",
       "      <td>-0.097587</td>\n",
       "      <td>-0.647965</td>\n",
       "      <td>-0.562499</td>\n",
       "      <td>-0.200148</td>\n",
       "      <td>-0.505732</td>\n",
       "      <td>...</td>\n",
       "      <td>-0.126232</td>\n",
       "      <td>-0.078785</td>\n",
       "      <td>-0.04846</td>\n",
       "      <td>-0.084536</td>\n",
       "      <td>-0.120686</td>\n",
       "      <td>-0.032108</td>\n",
       "      <td>1.963565</td>\n",
       "      <td>-0.099821</td>\n",
       "      <td>-0.432327</td>\n",
       "      <td>-0.34564</td>\n",
       "    </tr>\n",
       "    <tr>\n",
       "      <th>288648</th>\n",
       "      <td>2.047386</td>\n",
       "      <td>-0.112715</td>\n",
       "      <td>0.605821</td>\n",
       "      <td>-0.265599</td>\n",
       "      <td>-0.233721</td>\n",
       "      <td>-0.097587</td>\n",
       "      <td>1.543293</td>\n",
       "      <td>-0.562499</td>\n",
       "      <td>-0.200148</td>\n",
       "      <td>-0.505732</td>\n",
       "      <td>...</td>\n",
       "      <td>-0.126232</td>\n",
       "      <td>-0.078785</td>\n",
       "      <td>-0.04846</td>\n",
       "      <td>-0.084536</td>\n",
       "      <td>-0.120686</td>\n",
       "      <td>-0.032108</td>\n",
       "      <td>-0.509278</td>\n",
       "      <td>-0.099821</td>\n",
       "      <td>-0.432327</td>\n",
       "      <td>-0.34564</td>\n",
       "    </tr>\n",
       "    <tr>\n",
       "      <th>124170</th>\n",
       "      <td>0.168958</td>\n",
       "      <td>-0.093424</td>\n",
       "      <td>-0.060110</td>\n",
       "      <td>-0.265599</td>\n",
       "      <td>-0.233721</td>\n",
       "      <td>-0.097587</td>\n",
       "      <td>-0.647965</td>\n",
       "      <td>1.777781</td>\n",
       "      <td>-0.200148</td>\n",
       "      <td>-0.505732</td>\n",
       "      <td>...</td>\n",
       "      <td>-0.126232</td>\n",
       "      <td>-0.078785</td>\n",
       "      <td>-0.04846</td>\n",
       "      <td>-0.084536</td>\n",
       "      <td>-0.120686</td>\n",
       "      <td>-0.032108</td>\n",
       "      <td>-0.509278</td>\n",
       "      <td>-0.099821</td>\n",
       "      <td>2.313065</td>\n",
       "      <td>-0.34564</td>\n",
       "    </tr>\n",
       "    <tr>\n",
       "      <th>276162</th>\n",
       "      <td>-0.613720</td>\n",
       "      <td>-0.363498</td>\n",
       "      <td>-0.060110</td>\n",
       "      <td>-0.265599</td>\n",
       "      <td>-0.233721</td>\n",
       "      <td>-0.097587</td>\n",
       "      <td>1.543293</td>\n",
       "      <td>-0.562499</td>\n",
       "      <td>-0.200148</td>\n",
       "      <td>-0.505732</td>\n",
       "      <td>...</td>\n",
       "      <td>-0.126232</td>\n",
       "      <td>-0.078785</td>\n",
       "      <td>-0.04846</td>\n",
       "      <td>-0.084536</td>\n",
       "      <td>-0.120686</td>\n",
       "      <td>-0.032108</td>\n",
       "      <td>-0.509278</td>\n",
       "      <td>-0.099821</td>\n",
       "      <td>-0.432327</td>\n",
       "      <td>-0.34564</td>\n",
       "    </tr>\n",
       "  </tbody>\n",
       "</table>\n",
       "<p>5 rows × 307 columns</p>\n",
       "</div>"
      ],
      "text/plain": [
       "        RegistrationYear     Power  Kilometer  VehicleType_convertible  \\\n",
       "57032          -0.613720 -0.884356   0.605821                -0.265599   \n",
       "353699          1.577779 -0.672155  -2.590650                -0.265599   \n",
       "288648          2.047386 -0.112715   0.605821                -0.265599   \n",
       "124170          0.168958 -0.093424  -0.060110                -0.265599   \n",
       "276162         -0.613720 -0.363498  -0.060110                -0.265599   \n",
       "\n",
       "        VehicleType_coupe  VehicleType_other  VehicleType_sedan  \\\n",
       "57032           -0.233721          -0.097587           1.543293   \n",
       "353699          -0.233721          -0.097587          -0.647965   \n",
       "288648          -0.233721          -0.097587           1.543293   \n",
       "124170          -0.233721          -0.097587          -0.647965   \n",
       "276162          -0.233721          -0.097587           1.543293   \n",
       "\n",
       "        VehicleType_small  VehicleType_suv  VehicleType_wagon  ...  \\\n",
       "57032           -0.562499        -0.200148          -0.505732  ...   \n",
       "353699          -0.562499        -0.200148          -0.505732  ...   \n",
       "288648          -0.562499        -0.200148          -0.505732  ...   \n",
       "124170           1.777781        -0.200148          -0.505732  ...   \n",
       "276162          -0.562499        -0.200148          -0.505732  ...   \n",
       "\n",
       "        Brand_smart  Brand_sonstige_autos  Brand_subaru  Brand_suzuki  \\\n",
       "57032     -0.126232             -0.078785      -0.04846     -0.084536   \n",
       "353699    -0.126232             -0.078785      -0.04846     -0.084536   \n",
       "288648    -0.126232             -0.078785      -0.04846     -0.084536   \n",
       "124170    -0.126232             -0.078785      -0.04846     -0.084536   \n",
       "276162    -0.126232             -0.078785      -0.04846     -0.084536   \n",
       "\n",
       "        Brand_toyota  Brand_trabant  Brand_volkswagen  Brand_volvo  \\\n",
       "57032      -0.120686      -0.032108         -0.509278    -0.099821   \n",
       "353699     -0.120686      -0.032108          1.963565    -0.099821   \n",
       "288648     -0.120686      -0.032108         -0.509278    -0.099821   \n",
       "124170     -0.120686      -0.032108         -0.509278    -0.099821   \n",
       "276162     -0.120686      -0.032108         -0.509278    -0.099821   \n",
       "\n",
       "        Repaired_unknown  Repaired_yes  \n",
       "57032          -0.432327      -0.34564  \n",
       "353699         -0.432327      -0.34564  \n",
       "288648         -0.432327      -0.34564  \n",
       "124170          2.313065      -0.34564  \n",
       "276162         -0.432327      -0.34564  \n",
       "\n",
       "[5 rows x 307 columns]"
      ]
     },
     "execution_count": 40,
     "metadata": {},
     "output_type": "execute_result"
    }
   ],
   "source": [
    "numeric = list(ohe)\n",
    "numeric.remove('Price')\n",
    "scaler = StandardScaler()\n",
    "scaler.fit(features_train_ohe[numeric])\n",
    "features_train_ohe[numeric] = scaler.transform(features_train_ohe[numeric])\n",
    "features_test_ohe[numeric] = scaler.transform(features_test_ohe[numeric])\n",
    "features_train_ohe.head()"
   ]
  },
  {
   "cell_type": "markdown",
   "metadata": {},
   "source": [
    "Признаки для OHE готовы, теперь подготовим признаки для Ordinal."
   ]
  },
  {
   "cell_type": "code",
   "execution_count": 54,
   "metadata": {},
   "outputs": [
    {
     "data": {
      "text/plain": [
       "['VehicleType',\n",
       " 'RegistrationYear',\n",
       " 'Gearbox',\n",
       " 'Power',\n",
       " 'Model',\n",
       " 'Kilometer',\n",
       " 'FuelType',\n",
       " 'Brand',\n",
       " 'Repaired']"
      ]
     },
     "execution_count": 54,
     "metadata": {},
     "output_type": "execute_result"
    }
   ],
   "source": [
    "oe = data.copy()\n",
    "numeric_2 = list(oe)\n",
    "numeric_2.remove('Price')\n",
    "numeric_2"
   ]
  },
  {
   "cell_type": "markdown",
   "metadata": {},
   "source": [
    "Выделим выборки."
   ]
  },
  {
   "cell_type": "code",
   "execution_count": 55,
   "metadata": {},
   "outputs": [
    {
     "name": "stdout",
     "output_type": "stream",
     "text": [
      "(194204, 9)\n",
      "(64735, 9)\n"
     ]
    }
   ],
   "source": [
    "target_oe = oe['Price']\n",
    "features_oe = oe.drop('Price', axis=1)\n",
    "features_train_oe, features_test_oe, target_train_oe, target_test_oe = train_test_split(features_oe, \n",
    "                                                                        target_oe, test_size=0.25, random_state=12345) \n",
    "\n",
    "\n",
    "print(features_train_oe.shape)\n",
    "print(features_test_oe.shape)"
   ]
  },
  {
   "cell_type": "markdown",
   "metadata": {},
   "source": [
    "Используем порядковое кодирование для признаков."
   ]
  },
  {
   "cell_type": "code",
   "execution_count": 57,
   "metadata": {},
   "outputs": [
    {
     "data": {
      "text/html": [
       "<div>\n",
       "<style scoped>\n",
       "    .dataframe tbody tr th:only-of-type {\n",
       "        vertical-align: middle;\n",
       "    }\n",
       "\n",
       "    .dataframe tbody tr th {\n",
       "        vertical-align: top;\n",
       "    }\n",
       "\n",
       "    .dataframe thead th {\n",
       "        text-align: right;\n",
       "    }\n",
       "</style>\n",
       "<table border=\"1\" class=\"dataframe\">\n",
       "  <thead>\n",
       "    <tr style=\"text-align: right;\">\n",
       "      <th></th>\n",
       "      <th>VehicleType</th>\n",
       "      <th>RegistrationYear</th>\n",
       "      <th>Gearbox</th>\n",
       "      <th>Power</th>\n",
       "      <th>Model</th>\n",
       "      <th>Kilometer</th>\n",
       "      <th>FuelType</th>\n",
       "      <th>Brand</th>\n",
       "      <th>Repaired</th>\n",
       "    </tr>\n",
       "  </thead>\n",
       "  <tbody>\n",
       "    <tr>\n",
       "      <th>57032</th>\n",
       "      <td>4.0</td>\n",
       "      <td>29.0</td>\n",
       "      <td>0.0</td>\n",
       "      <td>74.0</td>\n",
       "      <td>42.0</td>\n",
       "      <td>12.0</td>\n",
       "      <td>6.0</td>\n",
       "      <td>24.0</td>\n",
       "      <td>0.0</td>\n",
       "    </tr>\n",
       "    <tr>\n",
       "      <th>353699</th>\n",
       "      <td>0.0</td>\n",
       "      <td>43.0</td>\n",
       "      <td>1.0</td>\n",
       "      <td>85.0</td>\n",
       "      <td>116.0</td>\n",
       "      <td>3.0</td>\n",
       "      <td>6.0</td>\n",
       "      <td>38.0</td>\n",
       "      <td>0.0</td>\n",
       "    </tr>\n",
       "    <tr>\n",
       "      <th>288648</th>\n",
       "      <td>4.0</td>\n",
       "      <td>46.0</td>\n",
       "      <td>1.0</td>\n",
       "      <td>114.0</td>\n",
       "      <td>11.0</td>\n",
       "      <td>12.0</td>\n",
       "      <td>6.0</td>\n",
       "      <td>2.0</td>\n",
       "      <td>0.0</td>\n",
       "    </tr>\n",
       "    <tr>\n",
       "      <th>124170</th>\n",
       "      <td>5.0</td>\n",
       "      <td>34.0</td>\n",
       "      <td>1.0</td>\n",
       "      <td>115.0</td>\n",
       "      <td>80.0</td>\n",
       "      <td>11.0</td>\n",
       "      <td>6.0</td>\n",
       "      <td>21.0</td>\n",
       "      <td>1.0</td>\n",
       "    </tr>\n",
       "    <tr>\n",
       "      <th>276162</th>\n",
       "      <td>4.0</td>\n",
       "      <td>29.0</td>\n",
       "      <td>0.0</td>\n",
       "      <td>101.0</td>\n",
       "      <td>33.0</td>\n",
       "      <td>11.0</td>\n",
       "      <td>6.0</td>\n",
       "      <td>20.0</td>\n",
       "      <td>0.0</td>\n",
       "    </tr>\n",
       "  </tbody>\n",
       "</table>\n",
       "</div>"
      ],
      "text/plain": [
       "        VehicleType  RegistrationYear  Gearbox  Power  Model  Kilometer  \\\n",
       "57032           4.0              29.0      0.0   74.0   42.0       12.0   \n",
       "353699          0.0              43.0      1.0   85.0  116.0        3.0   \n",
       "288648          4.0              46.0      1.0  114.0   11.0       12.0   \n",
       "124170          5.0              34.0      1.0  115.0   80.0       11.0   \n",
       "276162          4.0              29.0      0.0  101.0   33.0       11.0   \n",
       "\n",
       "        FuelType  Brand  Repaired  \n",
       "57032        6.0   24.0       0.0  \n",
       "353699       6.0   38.0       0.0  \n",
       "288648       6.0    2.0       0.0  \n",
       "124170       6.0   21.0       1.0  \n",
       "276162       6.0   20.0       0.0  "
      ]
     },
     "execution_count": 57,
     "metadata": {},
     "output_type": "execute_result"
    }
   ],
   "source": [
    "enc = OrdinalEncoder(handle_unknown='ignore')\n",
    "enc.fit(features_train_oe[numeric_2])\n",
    "features_train_oe[numeric_2] = enc.transform(features_train_oe[numeric_2])\n",
    "features_test_oe[numeric_2] = enc.transform(features_test_oe[numeric_2])\n",
    "features_train_oe.head()"
   ]
  },
  {
   "cell_type": "markdown",
   "metadata": {},
   "source": [
    "Будем проверять работу моделей 3х моделей: LinearRegression, LGBM и CatBoostRegressor с кодированием OHE. "
   ]
  },
  {
   "cell_type": "markdown",
   "metadata": {},
   "source": [
    "### Обучение"
   ]
  },
  {
   "cell_type": "markdown",
   "metadata": {},
   "source": [
    "#### Линейная регрессия"
   ]
  },
  {
   "cell_type": "code",
   "execution_count": 61,
   "metadata": {},
   "outputs": [
    {
     "name": "stdout",
     "output_type": "stream",
     "text": [
      "RMSE LinearRegression: 2664.9422788430156\n",
      "CPU times: user 19 s, sys: 44.5 s, total: 1min 3s\n",
      "Wall time: 1min 3s\n"
     ]
    }
   ],
   "source": [
    "%%time\n",
    "model = LinearRegression()\n",
    "model.fit(features_train_ohe, target_train_ohe)\n",
    "predictions_train_ohe = model.predict(features_train_ohe)\n",
    "\n",
    "rmse = mean_squared_error(target_train_ohe, predictions_train_ohe)**0.5\n",
    "print('RMSE LinearRegression:', rmse)"
   ]
  },
  {
   "cell_type": "code",
   "execution_count": 81,
   "metadata": {},
   "outputs": [
    {
     "name": "stdout",
     "output_type": "stream",
     "text": [
      "RMSE LinearRegression: 3035.8712587928576\n",
      "CPU times: user 192 ms, sys: 0 ns, total: 192 ms\n",
      "Wall time: 216 ms\n"
     ]
    }
   ],
   "source": [
    "%%time\n",
    "model = LinearRegression()\n",
    "model.fit(features_train_oe, target_train_oe)\n",
    "predictions_train_oe = model.predict(features_train_oe)\n",
    "\n",
    "rmse_2 = mean_squared_error(target_train_oe, predictions_train_oe)**0.5\n",
    "print('RMSE LinearRegression:', rmse_2)"
   ]
  },
  {
   "cell_type": "markdown",
   "metadata": {},
   "source": [
    "Как видно, порядковое кодирование обучается намного быстрее, но результат у ОНЕ лучше"
   ]
  },
  {
   "cell_type": "markdown",
   "metadata": {},
   "source": [
    "#### LightGBM"
   ]
  },
  {
   "cell_type": "code",
   "execution_count": 65,
   "metadata": {},
   "outputs": [],
   "source": [
    "common_lgb_params = {'metric': 'rmse', 'random_state': 12345}"
   ]
  },
  {
   "cell_type": "code",
   "execution_count": 79,
   "metadata": {},
   "outputs": [
    {
     "name": "stdout",
     "output_type": "stream",
     "text": [
      "{'max_depth': 12, 'n_estimators': 1000}\n",
      "\n",
      "1305.71948\n",
      "\n",
      "CPU times: user 29min 42s, sys: 20 s, total: 29min 2s\n",
      "Wall time: 30min 11s\n"
     ]
    }
   ],
   "source": [
    "%%time\n",
    "params = {'max_depth': [10, 20, 30, 40, 50],'learning_rate': [0.05, 0.1, 0.2],'num_leaves': [50, 100, 250]}\n",
    "grid_lgb_ohe = GridSearchCV(LGBMRegressor(**common_lgb_params), param_grid=params, **{'scoring': 'neg_mean_squared_error',\n",
    "                    'return_train_score': True,\n",
    "                    'cv': 4})\n",
    "grid_lgb_ohe.fit(features_train_ohe, target_train_ohe)\n",
    "\n",
    "display(grid_lgb_ohe.best_params_)\n",
    "display(grid_lgb_ohe.best_score_*-1)"
   ]
  },
  {
   "cell_type": "code",
   "execution_count": 80,
   "metadata": {},
   "outputs": [
    {
     "name": "stdout",
     "output_type": "stream",
     "text": [
      "{'max_depth': 12, 'n_estimators': 1000}\n",
      "\n",
      "1307.101454\n",
      "\n",
      "CPU times: user 32min 47s, sys: 15 s, total: 33min 2s\n",
      "Wall time: 33min 17s\n"
     ]
    }
   ],
   "source": [
    "%%time\n",
    "params = {'max_depth': [10, 20, 30, 40, 50],'learning_rate': [0.05, 0.1, 0.2],'num_leaves': [50, 100, 250]}\n",
    "grid_lgb_oe = GridSearchCV(LGBMRegressor(**common_lgb_params), param_grid=params, **{'scoring': 'neg_mean_squared_error',\n",
    "                    'return_train_score': True,\n",
    "                    'cv': 4})\n",
    "grid_lgb_oe.fit(features_train_oe, target_train_oe)\n",
    "\n",
    "display(grid_lgb_oe.best_params_)\n",
    "display(grid_lgb_oe.best_score_*-1)"
   ]
  },
  {
   "cell_type": "markdown",
   "metadata": {},
   "source": [
    "OHE показывает лучшее значение."
   ]
  },
  {
   "cell_type": "markdown",
   "metadata": {},
   "source": [
    "#### CatBoostRegressor"
   ]
  },
  {
   "cell_type": "code",
   "execution_count": 72,
   "metadata": {},
   "outputs": [],
   "source": [
    "common_cbr_params = {'loss_function': 'RMSE','random_state': 12345, 'verbose': False}"
   ]
  },
  {
   "cell_type": "code",
   "execution_count": 76,
   "metadata": {},
   "outputs": [
    {
     "name": "stdout",
     "output_type": "stream",
     "text": [
      "{'depth': 8, 'iterations': 1000, 'l2_leaf_reg': 1, 'learning_rate': 0.1}\n",
      "\n",
      "1479.124127\n",
      "\n",
      "CPU times: user 13min 12s, sys: 0 ns, total: 13min 12s\n",
      "Wall time: 14min 35s\n"
     ]
    }
   ],
   "source": [
    "%%time\n",
    "params = {'iterations': [1000],'learning_rate': [0.03, 0.1],'depth': [6, 8],'l2_leaf_reg': [1, 3]}\n",
    "grid_ctb_oe = GridSearchCV(CatBoostRegressor(**common_cbr_params), param_grid=params, **{'scoring': 'neg_mean_squared_error',\n",
    "                    'return_train_score': True,\n",
    "                    'cv': 4})\n",
    "grid_ctb_oe.fit(features_train_oe, target_train_oe)\n",
    "\n",
    "display(grid_ctb_oe.best_params_)\n",
    "display(grid_ctb_oe.best_score_*-1)"
   ]
  },
  {
   "cell_type": "code",
   "execution_count": 77,
   "metadata": {},
   "outputs": [
    {
     "name": "stdout",
     "output_type": "stream",
     "text": [
      "{'depth': 8, 'iterations': 1000, 'l2_leaf_reg': 1, 'learning_rate': 0.1}\n",
      "\n",
      "1465.642841\n",
      "\n",
      "CPU times: user 17min 21s, sys: 0 ns, total: 17min 21s\n",
      "Wall time: 19min 42s\n"
     ]
    }
   ],
   "source": [
    "%%time\n",
    "params = {'iterations': [1000],'learning_rate': [0.03, 0.1],'depth': [6, 8],'l2_leaf_reg': [1, 3]}\n",
    "grid_ctb_ohe = GridSearchCV(CatBoostRegressor(**common_cbr_params), param_grid=params, **{'scoring': 'neg_mean_squared_error',\n",
    "                    'return_train_score': True,\n",
    "                    'cv': 4})\n",
    "grid_ctb_ohe.fit(features_train_ohe, target_train_ohe)\n",
    "\n",
    "display(grid_ctb_ohe.best_params_)\n",
    "display(grid_ctb_ohe.best_score_*-1)"
   ]
  },
  {
   "cell_type": "markdown",
   "metadata": {},
   "source": [
    "Лучший результат у кодирования с OHE."
   ]
  },
  {
   "cell_type": "markdown",
   "metadata": {},
   "source": [
    "**Вывод этапа**:\n",
    "- Проведена подготовка данных. Для кодирования столбцов были использованы методы Ordinal и Ohe.\n",
    "- Проведено исследование нескольких моделей, для которых были получены значения метрики RMSE с кодированием Ordinal и OHE. `LinearRegression:` OE -  3035.87, OHE - 2664.94, `LightGBM:` OE - 1307.10, OHE - 1305.72, `CatBoostRegressor:` OE - 1479.12, OHE - 1465.64."
   ]
  },
  {
   "cell_type": "markdown",
   "metadata": {},
   "source": [
    "## Анализ моделей"
   ]
  },
  {
   "cell_type": "markdown",
   "metadata": {},
   "source": [
    "Выведем результаты работы моделей."
   ]
  },
  {
   "cell_type": "code",
   "execution_count": 82,
   "metadata": {},
   "outputs": [
    {
     "name": "stdout",
     "output_type": "stream",
     "text": [
      "LinearRegression OE: RMSE - 3035.87\n",
      "LightGBM OE: RMSE - 1307.1\n",
      "CatBoostRegressor OE: RMSE - 1479.12\n",
      "LinearRegression OHE: RMSE - 2664.94\n",
      "LightGBM OHE: RMSE - 1305.72\n",
      "CatBoostRegressor OHE: RMSE - 1465.64\n"
     ]
    }
   ],
   "source": [
    "print('LinearRegression OE: RMSE -', round(rmse_2,2))\n",
    "print('LightGBM OE: RMSE -', round(grid_lgb_oe.best_score_*-1,2))\n",
    "print('CatBoostRegressor OE: RMSE -', round(grid_ctb_oe.best_score_*-1, 2))\n",
    "print('LinearRegression OHE: RMSE -', round(rmse, 2))\n",
    "print('LightGBM OHE: RMSE -', round(grid_lgb_ohe.best_score_*-1, 2))\n",
    "print('CatBoostRegressor OHE: RMSE -', round(grid_ctb_ohe.best_score_*-1, 2))"
   ]
  },
  {
   "cell_type": "markdown",
   "metadata": {},
   "source": [
    "Лучшей моделью показал себя LightGBM с кодированием OHE. Хоть он и показывает лучший результат, он однозначно уступает в скорости CatBoostRegressor."
   ]
  },
  {
   "cell_type": "code",
   "execution_count": 84,
   "metadata": {},
   "outputs": [
    {
     "name": "stdout",
     "output_type": "stream",
     "text": [
      "RMSE: 1303.216843\n"
     ]
    }
   ],
   "source": [
    "predictions = grid_lgb_ohe.predict(features_test_ohe)\n",
    "rmse_3 = mean_squared_error(target_test_ohe, predictions)**0.5\n",
    "print('RMSE:', rmse_3)"
   ]
  },
  {
   "cell_type": "markdown",
   "metadata": {},
   "source": [
    "Получили результат работы модели."
   ]
  },
  {
   "cell_type": "markdown",
   "metadata": {},
   "source": [
    "**Вывод этапа**:\n",
    "- Проведен анализ результатов работы всех выбранных моделей:\n",
    "    * LinearRegression OE: RMSE - 3035.87\n",
    "    * LightGBM OE: RMSE - 1307.1\n",
    "    * CatBoostRegressor OE: RMSE - 1479.12\n",
    "    * LinearRegression OHE: RMSE - 2664.94\n",
    "    * LightGBM OHE: RMSE - 1305.72\n",
    "    * CatBoostRegressor OHE: RMSE - 1465.64\n",
    "- Лучшей моделью по предсказаниям является LightGBM с кодированием OHE. На тестовой выборке результат работы - RMSE: 1303.22.\n",
    "\n",
    "При выборе модели важны: качество предсказания, скорость предсказания, время обучения. Несмотря на небольшее время обучения моделей LinearRegression и CatBoostRegressor качество предсказаний у них сильно ниже. Поэтому лучше отдать предпочтение модели LightGBM."
   ]
  },
  {
   "cell_type": "markdown",
   "metadata": {},
   "source": [
    "## Общий вывод\n",
    "\n",
    "Итак, были предоставлены данные сервис по продаже автомобилей с пробегом «Не бит, не крашен» для разрабатки приложения для привлечения новых клиентов, в котором можно будет узнать рыночную стоимость своего автомобиля. \n",
    "\n",
    "На этапе подготовки данных была проведена проверка на наличие аномальных значений в данных. Были найдены аномалии в столбцах `Price`, `RegistrationYear`и `Power`. В столбце цены оставлены значения от 100 до 15000, в годе регистрации 0т 1970 до 2016 и в мощности от 1 до 300. Найдены пропуски в столбцах `Repaired`, `Model` - заполнены значениями *unknown*, `FuelType`, `VehicleType`, `Gearbox`: для заполнения попусков в этих слобцах написана функция определяющая тип по модели и бренду автомобиля. А также обработаны явные и неянвые дубликаты. Всего было найдено 39819 явных дубликатов (удалены), неяных дубликатов необнаружено.\n",
    "\n",
    "\n",
    "На этапе обучения моделей кодированы столбцы с помощью методов Ordinal и Ohe. Напиcана функция посчета RMSE метрики. А также проведено исследование нескольких моделей, для которых были получены значения метрики RMSE с кодированием Ordinal и OHE. `LinearRegression:` OE -  3035.87, OHE - 2664.94, `LightGBM:` OE - 1307.10, OHE - 1305.72, `CatBoostRegressor:` OE - 1479.12, OHE - 1465.64.\n",
    "\n",
    "- Анализ моделей показал следующие результаты работы всех выбранных моделей:\n",
    "    * LinearRegression OE: RMSE - 3035.87\n",
    "    * LightGBM OE: RMSE - 1307.1\n",
    "    * CatBoostRegressor OE: RMSE - 1479.12\n",
    "    * LinearRegression OHE: RMSE - 2664.94\n",
    "    * LightGBM OHE: RMSE - 1305.72\n",
    "    * CatBoostRegressor OHE: RMSE - 1465.64\n",
    "    \n",
    "При выборе модели важны: качество предсказания, скорость предсказания, время обучения. Несмотря на небольшее время обучения моделей LinearRegression и CatBoostRegressor качество предсказаний у них сильно ниже. Поэтому лучшей моделью является LightGBM, котрый на тестовой выборке показал RMSE: 1303.22."
   ]
  }
 ],
 "metadata": {
  "ExecuteTimeLog": [
   {
    "duration": 1859,
    "start_time": "2023-07-10T08:17:19.817Z"
   },
   {
    "duration": 161,
    "start_time": "2023-07-10T08:19:14.354Z"
   },
   {
    "duration": 2911,
    "start_time": "2023-07-10T08:19:19.239Z"
   },
   {
    "duration": 186,
    "start_time": "2023-07-10T08:20:09.178Z"
   },
   {
    "duration": 11,
    "start_time": "2023-07-10T08:25:21.977Z"
   },
   {
    "duration": 198,
    "start_time": "2023-07-10T08:25:33.587Z"
   },
   {
    "duration": 160,
    "start_time": "2023-07-10T08:28:55.606Z"
   },
   {
    "duration": 146,
    "start_time": "2023-07-10T08:29:15.698Z"
   },
   {
    "duration": 153,
    "start_time": "2023-07-10T08:29:28.328Z"
   },
   {
    "duration": 174,
    "start_time": "2023-07-10T08:29:48.719Z"
   },
   {
    "duration": 151,
    "start_time": "2023-07-10T08:30:20.676Z"
   },
   {
    "duration": 166,
    "start_time": "2023-07-10T08:30:38.505Z"
   },
   {
    "duration": 168,
    "start_time": "2023-07-10T08:30:56.033Z"
   },
   {
    "duration": 514,
    "start_time": "2023-07-10T08:32:40.478Z"
   },
   {
    "duration": 565,
    "start_time": "2023-07-10T08:33:06.284Z"
   },
   {
    "duration": 1175,
    "start_time": "2023-07-10T08:37:59.833Z"
   },
   {
    "duration": 1657,
    "start_time": "2023-07-10T08:38:48.126Z"
   },
   {
    "duration": 88,
    "start_time": "2023-07-10T08:46:02.478Z"
   },
   {
    "duration": 14,
    "start_time": "2023-07-10T08:46:30.382Z"
   },
   {
    "duration": 269,
    "start_time": "2023-07-10T08:46:46.593Z"
   },
   {
    "duration": 150,
    "start_time": "2023-07-10T08:46:52.670Z"
   },
   {
    "duration": 170,
    "start_time": "2023-07-10T08:47:21.545Z"
   },
   {
    "duration": 335,
    "start_time": "2023-07-10T08:48:01.731Z"
   },
   {
    "duration": 46,
    "start_time": "2023-07-10T08:53:50.198Z"
   },
   {
    "duration": 11,
    "start_time": "2023-07-10T08:57:26.517Z"
   },
   {
    "duration": 11,
    "start_time": "2023-07-10T08:57:42.917Z"
   },
   {
    "duration": 101,
    "start_time": "2023-07-10T08:58:03.245Z"
   },
   {
    "duration": 2375,
    "start_time": "2023-07-10T08:58:19.398Z"
   },
   {
    "duration": 629,
    "start_time": "2023-07-10T08:58:41.836Z"
   },
   {
    "duration": 629,
    "start_time": "2023-07-10T09:00:08.977Z"
   },
   {
    "duration": 762,
    "start_time": "2023-07-10T09:00:21.909Z"
   },
   {
    "duration": 11,
    "start_time": "2023-07-10T10:21:24.902Z"
   },
   {
    "duration": 129,
    "start_time": "2023-07-10T10:23:42.214Z"
   },
   {
    "duration": 1970,
    "start_time": "2023-07-10T10:24:01.340Z"
   },
   {
    "duration": 2075,
    "start_time": "2023-07-10T10:24:20.999Z"
   },
   {
    "duration": 2156,
    "start_time": "2023-07-10T10:24:38.935Z"
   },
   {
    "duration": 2372,
    "start_time": "2023-07-10T10:24:45.995Z"
   },
   {
    "duration": 3551,
    "start_time": "2023-07-10T10:25:20.151Z"
   },
   {
    "duration": 2282,
    "start_time": "2023-07-10T10:25:29.195Z"
   },
   {
    "duration": 2268,
    "start_time": "2023-07-10T10:26:43.633Z"
   },
   {
    "duration": 2263,
    "start_time": "2023-07-10T10:27:08.246Z"
   },
   {
    "duration": 2327,
    "start_time": "2023-07-10T10:28:06.109Z"
   },
   {
    "duration": 2590,
    "start_time": "2023-07-10T10:28:20.180Z"
   },
   {
    "duration": 2405,
    "start_time": "2023-07-10T10:28:45.320Z"
   },
   {
    "duration": 2537,
    "start_time": "2023-07-10T10:28:56.142Z"
   },
   {
    "duration": 5403,
    "start_time": "2023-07-10T10:32:40.512Z"
   },
   {
    "duration": 3821,
    "start_time": "2023-07-10T10:32:55.423Z"
   },
   {
    "duration": 14,
    "start_time": "2023-07-10T10:33:03.936Z"
   },
   {
    "duration": 2466,
    "start_time": "2023-07-10T10:35:48.605Z"
   },
   {
    "duration": 2713,
    "start_time": "2023-07-10T10:36:02.910Z"
   },
   {
    "duration": 2404,
    "start_time": "2023-07-10T10:36:11.910Z"
   },
   {
    "duration": 157,
    "start_time": "2023-07-10T10:38:46.776Z"
   },
   {
    "duration": 5,
    "start_time": "2023-07-10T10:38:53.636Z"
   },
   {
    "duration": 29,
    "start_time": "2023-07-10T10:38:57.198Z"
   },
   {
    "duration": 64,
    "start_time": "2023-07-10T10:43:45.841Z"
   },
   {
    "duration": 2317,
    "start_time": "2023-07-10T10:44:24.592Z"
   },
   {
    "duration": 2020,
    "start_time": "2023-07-10T10:44:34.783Z"
   },
   {
    "duration": 2364,
    "start_time": "2023-07-10T10:44:43.183Z"
   },
   {
    "duration": 2113,
    "start_time": "2023-07-10T10:45:09.546Z"
   },
   {
    "duration": 1886,
    "start_time": "2023-07-10T10:45:21.194Z"
   },
   {
    "duration": 30,
    "start_time": "2023-07-10T10:48:42.403Z"
   },
   {
    "duration": 1988,
    "start_time": "2023-07-10T10:49:10.564Z"
   },
   {
    "duration": 26,
    "start_time": "2023-07-10T10:51:09.073Z"
   },
   {
    "duration": 2071,
    "start_time": "2023-07-10T10:51:09.690Z"
   },
   {
    "duration": 1782,
    "start_time": "2023-07-10T10:52:24.478Z"
   },
   {
    "duration": 1715,
    "start_time": "2023-07-10T10:53:13.974Z"
   },
   {
    "duration": 2109,
    "start_time": "2023-07-10T10:55:09.835Z"
   },
   {
    "duration": 1796,
    "start_time": "2023-07-10T10:55:30.882Z"
   },
   {
    "duration": 2031,
    "start_time": "2023-07-10T10:57:11.746Z"
   },
   {
    "duration": 212,
    "start_time": "2023-07-10T11:00:21.077Z"
   },
   {
    "duration": 2121,
    "start_time": "2023-07-10T11:03:51.409Z"
   },
   {
    "duration": 24,
    "start_time": "2023-07-10T11:08:37.418Z"
   },
   {
    "duration": 25,
    "start_time": "2023-07-10T11:08:47.583Z"
   },
   {
    "duration": 250,
    "start_time": "2023-07-10T11:09:22.121Z"
   },
   {
    "duration": 250,
    "start_time": "2023-07-10T11:09:55.181Z"
   },
   {
    "duration": 222,
    "start_time": "2023-07-10T11:10:06.115Z"
   },
   {
    "duration": 301,
    "start_time": "2023-07-10T11:10:40.933Z"
   },
   {
    "duration": 308,
    "start_time": "2023-07-10T11:10:57.514Z"
   },
   {
    "duration": 350,
    "start_time": "2023-07-10T11:11:37.693Z"
   },
   {
    "duration": 17,
    "start_time": "2023-07-10T11:14:06.050Z"
   },
   {
    "duration": 361,
    "start_time": "2023-07-10T11:14:41.984Z"
   },
   {
    "duration": 279,
    "start_time": "2023-07-10T11:15:04.188Z"
   },
   {
    "duration": 101,
    "start_time": "2023-07-10T11:15:50.212Z"
   },
   {
    "duration": 266,
    "start_time": "2023-07-10T11:16:23.993Z"
   },
   {
    "duration": 421,
    "start_time": "2023-07-10T11:16:33.503Z"
   },
   {
    "duration": 202,
    "start_time": "2023-07-10T11:16:45.014Z"
   },
   {
    "duration": 192,
    "start_time": "2023-07-10T11:16:53.692Z"
   },
   {
    "duration": 174,
    "start_time": "2023-07-10T11:16:59.777Z"
   },
   {
    "duration": 5887,
    "start_time": "2023-07-10T11:17:27.474Z"
   },
   {
    "duration": 374,
    "start_time": "2023-07-10T11:18:28.527Z"
   },
   {
    "duration": 263,
    "start_time": "2023-07-10T11:18:45.987Z"
   },
   {
    "duration": 217,
    "start_time": "2023-07-10T11:19:50.297Z"
   },
   {
    "duration": 355,
    "start_time": "2023-07-10T11:20:38.293Z"
   },
   {
    "duration": 6,
    "start_time": "2023-07-10T11:28:25.610Z"
   },
   {
    "duration": 3084,
    "start_time": "2023-07-10T11:29:40.097Z"
   },
   {
    "duration": 923,
    "start_time": "2023-07-10T11:29:58.613Z"
   },
   {
    "duration": 223,
    "start_time": "2023-07-10T11:30:03.039Z"
   },
   {
    "duration": 130,
    "start_time": "2023-07-10T11:30:44.798Z"
   },
   {
    "duration": 203,
    "start_time": "2023-07-10T11:32:06.704Z"
   },
   {
    "duration": 171,
    "start_time": "2023-07-10T11:32:50.119Z"
   },
   {
    "duration": 177,
    "start_time": "2023-07-10T11:34:15.502Z"
   },
   {
    "duration": 266,
    "start_time": "2023-07-10T11:34:22.294Z"
   },
   {
    "duration": 20,
    "start_time": "2023-07-10T11:48:47.426Z"
   },
   {
    "duration": 22,
    "start_time": "2023-07-10T11:48:55.106Z"
   },
   {
    "duration": 1649,
    "start_time": "2023-07-10T11:49:19.638Z"
   },
   {
    "duration": 27,
    "start_time": "2023-07-10T11:49:37.562Z"
   },
   {
    "duration": 4,
    "start_time": "2023-07-10T11:50:22.337Z"
   },
   {
    "duration": 139,
    "start_time": "2023-07-10T11:50:28.655Z"
   },
   {
    "duration": 378,
    "start_time": "2023-07-10T11:50:32.113Z"
   },
   {
    "duration": 286,
    "start_time": "2023-07-10T11:50:43.104Z"
   },
   {
    "duration": 343,
    "start_time": "2023-07-10T11:51:05.206Z"
   },
   {
    "duration": 354,
    "start_time": "2023-07-10T11:52:45.337Z"
   },
   {
    "duration": 369,
    "start_time": "2023-07-10T11:54:03.513Z"
   },
   {
    "duration": 44,
    "start_time": "2023-07-10T11:54:55.521Z"
   },
   {
    "duration": 111,
    "start_time": "2023-07-10T11:56:11.098Z"
   },
   {
    "duration": 358,
    "start_time": "2023-07-10T11:58:01.589Z"
   },
   {
    "duration": 10,
    "start_time": "2023-07-10T11:58:13.514Z"
   },
   {
    "duration": 12,
    "start_time": "2023-07-10T11:58:18.439Z"
   },
   {
    "duration": 5,
    "start_time": "2023-07-10T11:58:26.519Z"
   },
   {
    "duration": 5,
    "start_time": "2023-07-10T12:00:58.104Z"
   },
   {
    "duration": 139,
    "start_time": "2023-07-10T12:02:24.097Z"
   },
   {
    "duration": 12,
    "start_time": "2023-07-10T12:02:26.617Z"
   },
   {
    "duration": 7,
    "start_time": "2023-07-10T12:02:51.949Z"
   },
   {
    "duration": 18,
    "start_time": "2023-07-10T12:03:42.165Z"
   },
   {
    "duration": 15,
    "start_time": "2023-07-10T12:04:28.881Z"
   },
   {
    "duration": 17,
    "start_time": "2023-07-10T12:04:45.952Z"
   },
   {
    "duration": 9,
    "start_time": "2023-07-10T12:04:49.615Z"
   },
   {
    "duration": 5,
    "start_time": "2023-07-10T12:07:04.995Z"
   },
   {
    "duration": 12,
    "start_time": "2023-07-10T12:14:46.706Z"
   },
   {
    "duration": 2093,
    "start_time": "2023-07-10T12:14:58.356Z"
   },
   {
    "duration": 82633,
    "start_time": "2023-07-10T12:15:46.107Z"
   },
   {
    "duration": 23319,
    "start_time": "2023-07-10T12:17:12.944Z"
   },
   {
    "duration": 12,
    "start_time": "2023-07-10T12:17:36.275Z"
   },
   {
    "duration": 7,
    "start_time": "2023-07-10T12:17:38.215Z"
   },
   {
    "duration": 85301,
    "start_time": "2023-07-10T12:17:44.293Z"
   },
   {
    "duration": 3419,
    "start_time": "2023-07-10T12:23:23.088Z"
   },
   {
    "duration": 21,
    "start_time": "2023-07-10T12:23:30.495Z"
   },
   {
    "duration": 6,
    "start_time": "2023-07-10T12:23:41.100Z"
   },
   {
    "duration": 111,
    "start_time": "2023-07-10T12:24:02.405Z"
   },
   {
    "duration": 109,
    "start_time": "2023-07-10T12:24:08.294Z"
   },
   {
    "duration": 8,
    "start_time": "2023-07-10T12:24:12.282Z"
   },
   {
    "duration": 175,
    "start_time": "2023-07-10T12:25:55.587Z"
   },
   {
    "duration": 7,
    "start_time": "2023-07-10T12:26:24.327Z"
   },
   {
    "duration": 155,
    "start_time": "2023-07-10T12:26:30.253Z"
   },
   {
    "duration": 14699,
    "start_time": "2023-07-10T12:26:51.794Z"
   },
   {
    "duration": 228,
    "start_time": "2023-07-10T12:33:12.349Z"
   },
   {
    "duration": 47,
    "start_time": "2023-07-10T12:33:44.669Z"
   },
   {
    "duration": 200,
    "start_time": "2023-07-10T12:33:50.587Z"
   },
   {
    "duration": 62333,
    "start_time": "2023-07-10T12:34:25.780Z"
   },
   {
    "duration": 370458,
    "start_time": "2023-07-10T12:36:12.803Z"
   },
   {
    "duration": 178,
    "start_time": "2023-07-10T12:42:23.274Z"
   },
   {
    "duration": 154,
    "start_time": "2023-07-10T12:42:23.457Z"
   },
   {
    "duration": 166,
    "start_time": "2023-07-10T12:42:23.613Z"
   },
   {
    "duration": 0,
    "start_time": "2023-07-10T12:42:23.830Z"
   },
   {
    "duration": 2385,
    "start_time": "2023-07-10T12:42:32.354Z"
   },
   {
    "duration": 5155,
    "start_time": "2023-07-10T12:42:34.742Z"
   },
   {
    "duration": 303,
    "start_time": "2023-07-10T12:42:39.911Z"
   },
   {
    "duration": 840,
    "start_time": "2023-07-10T12:42:40.225Z"
   },
   {
    "duration": 873,
    "start_time": "2023-07-10T12:42:41.081Z"
   },
   {
    "duration": 3138,
    "start_time": "2023-07-10T12:42:41.967Z"
   },
   {
    "duration": 626,
    "start_time": "2023-07-10T12:42:45.126Z"
   },
   {
    "duration": 163,
    "start_time": "2023-07-10T12:42:45.769Z"
   },
   {
    "duration": 197,
    "start_time": "2023-07-10T12:42:45.934Z"
   },
   {
    "duration": 125,
    "start_time": "2023-07-10T12:42:46.140Z"
   },
   {
    "duration": 1077,
    "start_time": "2023-07-10T12:42:46.282Z"
   },
   {
    "duration": 20,
    "start_time": "2023-07-10T12:42:47.365Z"
   },
   {
    "duration": 3048,
    "start_time": "2023-07-10T12:42:47.393Z"
   },
   {
    "duration": 2821,
    "start_time": "2023-07-10T12:42:50.452Z"
   },
   {
    "duration": 55,
    "start_time": "2023-07-10T12:42:53.290Z"
   },
   {
    "duration": 76,
    "start_time": "2023-07-10T12:42:53.347Z"
   },
   {
    "duration": 2771,
    "start_time": "2023-07-10T12:42:53.429Z"
   },
   {
    "duration": 62,
    "start_time": "2023-07-10T12:42:56.209Z"
   },
   {
    "duration": 2668,
    "start_time": "2023-07-10T12:42:56.277Z"
   },
   {
    "duration": 2881,
    "start_time": "2023-07-10T12:42:58.948Z"
   },
   {
    "duration": 2826,
    "start_time": "2023-07-10T12:43:01.831Z"
   },
   {
    "duration": 2446,
    "start_time": "2023-07-10T12:43:04.667Z"
   },
   {
    "duration": 321,
    "start_time": "2023-07-10T12:43:07.120Z"
   },
   {
    "duration": 350,
    "start_time": "2023-07-10T12:43:07.447Z"
   },
   {
    "duration": 273,
    "start_time": "2023-07-10T12:43:07.804Z"
   },
   {
    "duration": 377,
    "start_time": "2023-07-10T12:43:08.085Z"
   },
   {
    "duration": 282,
    "start_time": "2023-07-10T12:43:08.468Z"
   },
   {
    "duration": 535,
    "start_time": "2023-07-10T12:43:08.758Z"
   },
   {
    "duration": 12,
    "start_time": "2023-07-10T12:43:09.300Z"
   },
   {
    "duration": 1347,
    "start_time": "2023-07-10T12:43:09.324Z"
   },
   {
    "duration": 355,
    "start_time": "2023-07-10T12:43:10.674Z"
   },
   {
    "duration": 262,
    "start_time": "2023-07-10T12:43:11.036Z"
   },
   {
    "duration": 379,
    "start_time": "2023-07-10T12:43:11.306Z"
   },
   {
    "duration": 402,
    "start_time": "2023-07-10T12:43:11.695Z"
   },
   {
    "duration": 44,
    "start_time": "2023-07-10T12:43:12.099Z"
   },
   {
    "duration": 164,
    "start_time": "2023-07-10T12:43:12.145Z"
   },
   {
    "duration": 371,
    "start_time": "2023-07-10T12:43:12.316Z"
   },
   {
    "duration": 9,
    "start_time": "2023-07-10T12:43:12.699Z"
   },
   {
    "duration": 19,
    "start_time": "2023-07-10T12:43:12.716Z"
   },
   {
    "duration": 10,
    "start_time": "2023-07-10T12:43:12.737Z"
   },
   {
    "duration": 20,
    "start_time": "2023-07-10T12:43:12.752Z"
   },
   {
    "duration": 2462,
    "start_time": "2023-07-10T12:43:12.785Z"
   },
   {
    "duration": 441,
    "start_time": "2023-07-10T12:43:15.268Z"
   },
   {
    "duration": 148,
    "start_time": "2023-07-10T12:43:15.711Z"
   },
   {
    "duration": 15,
    "start_time": "2023-07-10T12:43:15.864Z"
   },
   {
    "duration": 105585,
    "start_time": "2023-07-10T12:43:15.888Z"
   },
   {
    "duration": 143,
    "start_time": "2023-07-10T12:45:01.476Z"
   },
   {
    "duration": 135,
    "start_time": "2023-07-10T12:45:01.621Z"
   },
   {
    "duration": 146,
    "start_time": "2023-07-10T12:45:01.762Z"
   },
   {
    "duration": 17,
    "start_time": "2023-07-10T12:45:01.911Z"
   },
   {
    "duration": 0,
    "start_time": "2023-07-10T12:45:01.930Z"
   },
   {
    "duration": 0,
    "start_time": "2023-07-10T12:45:01.932Z"
   },
   {
    "duration": 131,
    "start_time": "2023-07-10T12:45:09.775Z"
   },
   {
    "duration": 3636,
    "start_time": "2023-07-10T12:45:12.680Z"
   },
   {
    "duration": 132,
    "start_time": "2023-07-10T12:45:20.991Z"
   },
   {
    "duration": 102690,
    "start_time": "2023-07-10T12:45:45.891Z"
   },
   {
    "duration": 3754,
    "start_time": "2023-07-10T12:47:32.810Z"
   },
   {
    "duration": 196,
    "start_time": "2023-07-10T12:47:36.574Z"
   },
   {
    "duration": 74,
    "start_time": "2023-07-10T12:47:36.796Z"
   },
   {
    "duration": 35791,
    "start_time": "2023-07-10T12:50:22.851Z"
   },
   {
    "duration": 178,
    "start_time": "2023-07-10T12:50:58.645Z"
   },
   {
    "duration": 13,
    "start_time": "2023-07-10T12:50:58.833Z"
   },
   {
    "duration": 1091980,
    "start_time": "2023-07-10T12:50:58.853Z"
   },
   {
    "duration": 36305,
    "start_time": "2023-07-10T13:09:10.837Z"
   },
   {
    "duration": 147,
    "start_time": "2023-07-10T13:09:47.145Z"
   },
   {
    "duration": 15,
    "start_time": "2023-07-10T13:09:47.335Z"
   },
   {
    "duration": 562547,
    "start_time": "2023-07-10T13:09:47.357Z"
   },
   {
    "duration": 10977695,
    "start_time": "2023-07-10T13:19:09.906Z"
   },
   {
    "duration": 287,
    "start_time": "2023-07-10T16:22:07.603Z"
   },
   {
    "duration": 196,
    "start_time": "2023-07-10T16:22:07.892Z"
   },
   {
    "duration": 10,
    "start_time": "2023-07-10T16:22:08.090Z"
   },
   {
    "duration": 1822,
    "start_time": "2023-07-10T17:15:35.178Z"
   },
   {
    "duration": 3734,
    "start_time": "2023-07-10T17:15:37.003Z"
   },
   {
    "duration": 0,
    "start_time": "2023-07-10T17:15:40.742Z"
   },
   {
    "duration": 0,
    "start_time": "2023-07-10T17:15:40.744Z"
   },
   {
    "duration": 0,
    "start_time": "2023-07-10T17:15:40.746Z"
   },
   {
    "duration": 0,
    "start_time": "2023-07-10T17:15:40.747Z"
   },
   {
    "duration": 0,
    "start_time": "2023-07-10T17:15:40.749Z"
   },
   {
    "duration": 0,
    "start_time": "2023-07-10T17:15:40.750Z"
   },
   {
    "duration": 0,
    "start_time": "2023-07-10T17:15:40.752Z"
   },
   {
    "duration": 0,
    "start_time": "2023-07-10T17:15:40.753Z"
   },
   {
    "duration": 0,
    "start_time": "2023-07-10T17:15:40.754Z"
   },
   {
    "duration": 0,
    "start_time": "2023-07-10T17:15:40.754Z"
   },
   {
    "duration": 0,
    "start_time": "2023-07-10T17:15:40.755Z"
   },
   {
    "duration": 0,
    "start_time": "2023-07-10T17:15:40.756Z"
   },
   {
    "duration": 0,
    "start_time": "2023-07-10T17:15:40.758Z"
   },
   {
    "duration": 0,
    "start_time": "2023-07-10T17:15:40.759Z"
   },
   {
    "duration": 0,
    "start_time": "2023-07-10T17:15:40.760Z"
   },
   {
    "duration": 0,
    "start_time": "2023-07-10T17:15:40.761Z"
   },
   {
    "duration": 0,
    "start_time": "2023-07-10T17:15:40.762Z"
   },
   {
    "duration": 0,
    "start_time": "2023-07-10T17:15:40.765Z"
   },
   {
    "duration": 0,
    "start_time": "2023-07-10T17:15:40.766Z"
   },
   {
    "duration": 0,
    "start_time": "2023-07-10T17:15:40.767Z"
   },
   {
    "duration": 0,
    "start_time": "2023-07-10T17:15:40.768Z"
   },
   {
    "duration": 0,
    "start_time": "2023-07-10T17:15:40.769Z"
   },
   {
    "duration": 0,
    "start_time": "2023-07-10T17:15:40.772Z"
   },
   {
    "duration": 0,
    "start_time": "2023-07-10T17:15:40.773Z"
   },
   {
    "duration": 0,
    "start_time": "2023-07-10T17:15:40.774Z"
   },
   {
    "duration": 0,
    "start_time": "2023-07-10T17:15:40.776Z"
   },
   {
    "duration": 0,
    "start_time": "2023-07-10T17:15:40.778Z"
   },
   {
    "duration": 1,
    "start_time": "2023-07-10T17:15:40.779Z"
   },
   {
    "duration": 0,
    "start_time": "2023-07-10T17:15:40.781Z"
   },
   {
    "duration": 0,
    "start_time": "2023-07-10T17:15:40.782Z"
   },
   {
    "duration": 0,
    "start_time": "2023-07-10T17:15:40.784Z"
   },
   {
    "duration": 0,
    "start_time": "2023-07-10T17:15:40.785Z"
   },
   {
    "duration": 0,
    "start_time": "2023-07-10T17:15:40.786Z"
   },
   {
    "duration": 0,
    "start_time": "2023-07-10T17:15:40.787Z"
   },
   {
    "duration": 0,
    "start_time": "2023-07-10T17:15:40.788Z"
   },
   {
    "duration": 0,
    "start_time": "2023-07-10T17:15:40.790Z"
   },
   {
    "duration": 0,
    "start_time": "2023-07-10T17:15:40.791Z"
   },
   {
    "duration": 0,
    "start_time": "2023-07-10T17:15:40.792Z"
   },
   {
    "duration": 0,
    "start_time": "2023-07-10T17:15:40.793Z"
   },
   {
    "duration": 0,
    "start_time": "2023-07-10T17:15:40.794Z"
   },
   {
    "duration": 0,
    "start_time": "2023-07-10T17:15:40.796Z"
   },
   {
    "duration": 0,
    "start_time": "2023-07-10T17:15:40.858Z"
   },
   {
    "duration": 0,
    "start_time": "2023-07-10T17:15:40.859Z"
   },
   {
    "duration": 0,
    "start_time": "2023-07-10T17:15:40.860Z"
   },
   {
    "duration": 0,
    "start_time": "2023-07-10T17:15:40.860Z"
   },
   {
    "duration": 0,
    "start_time": "2023-07-10T17:15:40.861Z"
   },
   {
    "duration": 0,
    "start_time": "2023-07-10T17:15:40.862Z"
   },
   {
    "duration": 0,
    "start_time": "2023-07-10T17:15:40.863Z"
   },
   {
    "duration": 0,
    "start_time": "2023-07-10T17:15:40.864Z"
   },
   {
    "duration": 0,
    "start_time": "2023-07-10T17:15:40.865Z"
   },
   {
    "duration": 0,
    "start_time": "2023-07-10T17:15:40.866Z"
   },
   {
    "duration": 0,
    "start_time": "2023-07-10T17:15:40.867Z"
   },
   {
    "duration": 0,
    "start_time": "2023-07-10T17:15:40.867Z"
   },
   {
    "duration": 0,
    "start_time": "2023-07-10T17:15:40.868Z"
   },
   {
    "duration": 0,
    "start_time": "2023-07-10T17:15:40.869Z"
   },
   {
    "duration": 0,
    "start_time": "2023-07-10T17:15:40.870Z"
   },
   {
    "duration": 0,
    "start_time": "2023-07-10T17:15:40.877Z"
   },
   {
    "duration": 1818,
    "start_time": "2023-07-10T17:15:56.094Z"
   },
   {
    "duration": 2319,
    "start_time": "2023-07-10T17:15:57.914Z"
   },
   {
    "duration": 199,
    "start_time": "2023-07-10T17:16:00.235Z"
   },
   {
    "duration": 677,
    "start_time": "2023-07-10T17:16:00.436Z"
   },
   {
    "duration": 667,
    "start_time": "2023-07-10T17:16:01.115Z"
   },
   {
    "duration": 1935,
    "start_time": "2023-07-10T17:16:01.784Z"
   },
   {
    "duration": 460,
    "start_time": "2023-07-10T17:16:03.722Z"
   },
   {
    "duration": 109,
    "start_time": "2023-07-10T17:16:04.184Z"
   },
   {
    "duration": 121,
    "start_time": "2023-07-10T17:16:04.295Z"
   },
   {
    "duration": 52,
    "start_time": "2023-07-10T17:16:04.419Z"
   },
   {
    "duration": 666,
    "start_time": "2023-07-10T17:16:04.473Z"
   },
   {
    "duration": 29,
    "start_time": "2023-07-10T17:16:05.140Z"
   },
   {
    "duration": 2205,
    "start_time": "2023-07-10T17:16:05.172Z"
   },
   {
    "duration": 1975,
    "start_time": "2023-07-10T17:16:07.384Z"
   },
   {
    "duration": 41,
    "start_time": "2023-07-10T17:16:09.364Z"
   },
   {
    "duration": 55,
    "start_time": "2023-07-10T17:16:09.407Z"
   },
   {
    "duration": 1847,
    "start_time": "2023-07-10T17:16:09.468Z"
   },
   {
    "duration": 57,
    "start_time": "2023-07-10T17:16:11.317Z"
   },
   {
    "duration": 1774,
    "start_time": "2023-07-10T17:16:11.376Z"
   },
   {
    "duration": 1692,
    "start_time": "2023-07-10T17:16:13.154Z"
   },
   {
    "duration": 1794,
    "start_time": "2023-07-10T17:16:14.849Z"
   },
   {
    "duration": 1801,
    "start_time": "2023-07-10T17:16:16.644Z"
   },
   {
    "duration": 159,
    "start_time": "2023-07-10T17:16:18.467Z"
   },
   {
    "duration": 282,
    "start_time": "2023-07-10T17:16:18.627Z"
   },
   {
    "duration": 174,
    "start_time": "2023-07-10T17:16:18.911Z"
   },
   {
    "duration": 227,
    "start_time": "2023-07-10T17:16:19.087Z"
   },
   {
    "duration": 189,
    "start_time": "2023-07-10T17:16:19.316Z"
   },
   {
    "duration": 313,
    "start_time": "2023-07-10T17:16:19.507Z"
   },
   {
    "duration": 5,
    "start_time": "2023-07-10T17:16:19.822Z"
   },
   {
    "duration": 867,
    "start_time": "2023-07-10T17:16:19.829Z"
   },
   {
    "duration": 202,
    "start_time": "2023-07-10T17:16:20.699Z"
   },
   {
    "duration": 156,
    "start_time": "2023-07-10T17:16:20.903Z"
   },
   {
    "duration": 237,
    "start_time": "2023-07-10T17:16:21.069Z"
   },
   {
    "duration": 318,
    "start_time": "2023-07-10T17:16:21.308Z"
   },
   {
    "duration": 50,
    "start_time": "2023-07-10T17:16:21.628Z"
   },
   {
    "duration": 123,
    "start_time": "2023-07-10T17:16:21.681Z"
   },
   {
    "duration": 331,
    "start_time": "2023-07-10T17:16:21.806Z"
   },
   {
    "duration": 4,
    "start_time": "2023-07-10T17:16:22.139Z"
   },
   {
    "duration": 27,
    "start_time": "2023-07-10T17:16:22.145Z"
   },
   {
    "duration": 14,
    "start_time": "2023-07-10T17:16:22.174Z"
   },
   {
    "duration": 5676,
    "start_time": "2023-07-10T17:16:22.194Z"
   },
   {
    "duration": 95688,
    "start_time": "2023-07-10T17:16:27.881Z"
   },
   {
    "duration": 2789,
    "start_time": "2023-07-10T17:18:03.571Z"
   },
   {
    "duration": 120,
    "start_time": "2023-07-10T17:18:06.363Z"
   },
   {
    "duration": 19,
    "start_time": "2023-07-10T17:18:06.561Z"
   },
   {
    "duration": 392123,
    "start_time": "2023-07-10T17:18:06.583Z"
   },
   {
    "duration": 11753595,
    "start_time": "2023-07-10T17:24:38.708Z"
   },
   {
    "duration": 143,
    "start_time": "2023-07-10T20:40:32.305Z"
   },
   {
    "duration": 179,
    "start_time": "2023-07-10T20:40:32.450Z"
   },
   {
    "duration": 18,
    "start_time": "2023-07-10T20:40:32.631Z"
   },
   {
    "duration": 0,
    "start_time": "2023-07-10T20:40:32.651Z"
   },
   {
    "duration": 0,
    "start_time": "2023-07-10T20:40:32.652Z"
   },
   {
    "duration": 0,
    "start_time": "2023-07-10T20:40:32.661Z"
   },
   {
    "duration": 0,
    "start_time": "2023-07-10T20:40:32.663Z"
   },
   {
    "duration": 0,
    "start_time": "2023-07-10T20:40:32.664Z"
   },
   {
    "duration": 0,
    "start_time": "2023-07-10T20:40:32.665Z"
   },
   {
    "duration": 0,
    "start_time": "2023-07-10T20:40:32.667Z"
   },
   {
    "duration": 0,
    "start_time": "2023-07-10T20:40:32.668Z"
   },
   {
    "duration": 104,
    "start_time": "2023-07-10T20:42:12.401Z"
   },
   {
    "duration": 167,
    "start_time": "2023-07-10T20:42:46.294Z"
   },
   {
    "duration": 6,
    "start_time": "2023-07-10T20:42:52.296Z"
   },
   {
    "duration": 126,
    "start_time": "2023-07-10T20:43:00.912Z"
   },
   {
    "duration": 110,
    "start_time": "2023-07-10T20:43:14.190Z"
   },
   {
    "duration": 8,
    "start_time": "2023-07-10T20:43:44.179Z"
   },
   {
    "duration": 4,
    "start_time": "2023-07-10T20:44:10.448Z"
   },
   {
    "duration": 9,
    "start_time": "2023-07-10T20:46:17.174Z"
   },
   {
    "duration": 5,
    "start_time": "2023-07-10T20:47:42.528Z"
   },
   {
    "duration": 4,
    "start_time": "2023-07-10T20:48:40.643Z"
   },
   {
    "duration": 202,
    "start_time": "2023-07-10T20:51:01.343Z"
   },
   {
    "duration": 4,
    "start_time": "2023-07-10T20:51:14.305Z"
   },
   {
    "duration": 26527,
    "start_time": "2023-07-10T20:53:30.698Z"
   },
   {
    "duration": 109,
    "start_time": "2023-07-10T20:53:57.228Z"
   },
   {
    "duration": 6,
    "start_time": "2023-07-10T20:53:57.340Z"
   },
   {
    "duration": 53272,
    "start_time": "2023-07-10T20:53:57.349Z"
   },
   {
    "duration": 109,
    "start_time": "2023-07-10T20:54:50.623Z"
   },
   {
    "duration": 151,
    "start_time": "2023-07-10T20:54:50.735Z"
   },
   {
    "duration": 13,
    "start_time": "2023-07-10T20:54:50.889Z"
   },
   {
    "duration": 6,
    "start_time": "2023-07-10T20:55:14.601Z"
   },
   {
    "duration": 761881,
    "start_time": "2023-07-10T20:55:22.008Z"
   },
   {
    "duration": 31490,
    "start_time": "2023-07-10T21:08:03.891Z"
   },
   {
    "duration": 102,
    "start_time": "2023-07-10T21:08:35.386Z"
   },
   {
    "duration": 11,
    "start_time": "2023-07-10T21:08:35.494Z"
   },
   {
    "duration": 5,
    "start_time": "2023-07-10T21:28:34.778Z"
   },
   {
    "duration": 5,
    "start_time": "2023-07-10T21:33:41.758Z"
   },
   {
    "duration": 4,
    "start_time": "2023-07-10T21:36:21.282Z"
   },
   {
    "duration": 1722,
    "start_time": "2023-07-11T04:57:43.901Z"
   },
   {
    "duration": 1320,
    "start_time": "2023-07-11T04:57:50.840Z"
   },
   {
    "duration": 155,
    "start_time": "2023-07-11T04:57:52.162Z"
   },
   {
    "duration": 503,
    "start_time": "2023-07-11T04:57:52.318Z"
   },
   {
    "duration": 517,
    "start_time": "2023-07-11T04:57:55.245Z"
   },
   {
    "duration": 1599,
    "start_time": "2023-07-11T04:57:55.764Z"
   },
   {
    "duration": 382,
    "start_time": "2023-07-11T04:57:57.562Z"
   },
   {
    "duration": 97,
    "start_time": "2023-07-11T04:58:01.894Z"
   },
   {
    "duration": 100,
    "start_time": "2023-07-11T04:58:02.212Z"
   },
   {
    "duration": 36,
    "start_time": "2023-07-11T04:58:05.767Z"
   },
   {
    "duration": 546,
    "start_time": "2023-07-11T04:58:06.300Z"
   },
   {
    "duration": 12,
    "start_time": "2023-07-11T05:00:07.992Z"
   },
   {
    "duration": 2022,
    "start_time": "2023-07-11T05:00:13.257Z"
   },
   {
    "duration": 37,
    "start_time": "2023-07-11T05:00:52.126Z"
   },
   {
    "duration": 39,
    "start_time": "2023-07-11T05:00:57.419Z"
   },
   {
    "duration": 1716,
    "start_time": "2023-07-11T05:00:59.476Z"
   },
   {
    "duration": 40,
    "start_time": "2023-07-11T05:01:01.194Z"
   },
   {
    "duration": 1791,
    "start_time": "2023-07-11T05:01:02.758Z"
   },
   {
    "duration": 1641,
    "start_time": "2023-07-11T05:01:08.152Z"
   },
   {
    "duration": 1547,
    "start_time": "2023-07-11T05:01:43.973Z"
   },
   {
    "duration": 1595,
    "start_time": "2023-07-11T05:02:11.940Z"
   },
   {
    "duration": 1515,
    "start_time": "2023-07-11T05:03:11.870Z"
   },
   {
    "duration": 1446,
    "start_time": "2023-07-11T05:03:26.200Z"
   },
   {
    "duration": 1456,
    "start_time": "2023-07-11T05:03:35.404Z"
   },
   {
    "duration": 135,
    "start_time": "2023-07-11T05:03:45.345Z"
   },
   {
    "duration": 196,
    "start_time": "2023-07-11T05:03:50.696Z"
   },
   {
    "duration": 125,
    "start_time": "2023-07-11T05:03:51.759Z"
   },
   {
    "duration": 174,
    "start_time": "2023-07-11T05:03:52.897Z"
   },
   {
    "duration": 139,
    "start_time": "2023-07-11T05:03:54.007Z"
   },
   {
    "duration": 234,
    "start_time": "2023-07-11T05:03:55.170Z"
   },
   {
    "duration": 3,
    "start_time": "2023-07-11T05:03:59.601Z"
   },
   {
    "duration": 656,
    "start_time": "2023-07-11T05:04:00.256Z"
   },
   {
    "duration": 143,
    "start_time": "2023-07-11T05:04:01.152Z"
   },
   {
    "duration": 140,
    "start_time": "2023-07-11T05:04:11.624Z"
   },
   {
    "duration": 201,
    "start_time": "2023-07-11T05:04:27.298Z"
   },
   {
    "duration": 12,
    "start_time": "2023-07-11T05:10:26.077Z"
   },
   {
    "duration": 92,
    "start_time": "2023-07-11T05:10:28.852Z"
   },
   {
    "duration": 247,
    "start_time": "2023-07-11T05:31:23.812Z"
   },
   {
    "duration": 156,
    "start_time": "2023-07-11T05:32:08.513Z"
   },
   {
    "duration": 4,
    "start_time": "2023-07-11T05:32:13.026Z"
   },
   {
    "duration": 35,
    "start_time": "2023-07-11T05:32:26.416Z"
   },
   {
    "duration": 19,
    "start_time": "2023-07-11T05:32:42.568Z"
   },
   {
    "duration": 19,
    "start_time": "2023-07-11T05:34:26.244Z"
   },
   {
    "duration": 1408,
    "start_time": "2023-07-11T05:35:39.975Z"
   },
   {
    "duration": 1390,
    "start_time": "2023-07-11T05:38:13.404Z"
   },
   {
    "duration": 4,
    "start_time": "2023-07-11T05:39:54.674Z"
   },
   {
    "duration": 133964,
    "start_time": "2023-07-11T05:51:35.775Z"
   },
   {
    "duration": 141,
    "start_time": "2023-07-11T05:53:49.742Z"
   },
   {
    "duration": 57,
    "start_time": "2023-07-11T05:56:20.109Z"
   },
   {
    "duration": 4,
    "start_time": "2023-07-11T05:57:22.604Z"
   },
   {
    "duration": 122673,
    "start_time": "2023-07-11T05:57:32.060Z"
   },
   {
    "duration": 57,
    "start_time": "2023-07-11T06:03:10.712Z"
   },
   {
    "duration": 58,
    "start_time": "2023-07-11T06:04:18.723Z"
   },
   {
    "duration": 144827,
    "start_time": "2023-07-11T06:04:47.616Z"
   },
   {
    "duration": 305,
    "start_time": "2023-07-11T06:23:47.309Z"
   },
   {
    "duration": 109,
    "start_time": "2023-07-11T06:32:36.929Z"
   },
   {
    "duration": 9,
    "start_time": "2023-07-11T06:34:50.931Z"
   },
   {
    "duration": 101,
    "start_time": "2023-07-11T06:35:18.916Z"
   },
   {
    "duration": 8162,
    "start_time": "2023-07-11T06:35:55.417Z"
   },
   {
    "duration": 6554,
    "start_time": "2023-07-11T06:37:55.411Z"
   },
   {
    "duration": 70,
    "start_time": "2023-07-11T06:42:58.093Z"
   },
   {
    "duration": 7,
    "start_time": "2023-07-11T06:44:04.429Z"
   },
   {
    "duration": 5,
    "start_time": "2023-07-11T06:49:01.506Z"
   },
   {
    "duration": 5,
    "start_time": "2023-07-11T06:49:44.577Z"
   },
   {
    "duration": 3,
    "start_time": "2023-07-11T06:52:18.020Z"
   },
   {
    "duration": 4,
    "start_time": "2023-07-11T06:56:47.492Z"
   },
   {
    "duration": 4,
    "start_time": "2023-07-11T06:58:45.655Z"
   },
   {
    "duration": 6,
    "start_time": "2023-07-11T07:08:54.633Z"
   },
   {
    "duration": 3,
    "start_time": "2023-07-11T07:20:44.019Z"
   },
   {
    "duration": 4,
    "start_time": "2023-07-11T07:26:45.897Z"
   },
   {
    "duration": 1605,
    "start_time": "2023-07-11T14:32:37.819Z"
   },
   {
    "duration": 1076,
    "start_time": "2023-07-11T14:32:39.426Z"
   },
   {
    "duration": 140,
    "start_time": "2023-07-11T14:32:40.505Z"
   },
   {
    "duration": 455,
    "start_time": "2023-07-11T14:32:40.646Z"
   },
   {
    "duration": 458,
    "start_time": "2023-07-11T14:32:41.103Z"
   },
   {
    "duration": 1463,
    "start_time": "2023-07-11T14:32:41.562Z"
   },
   {
    "duration": 388,
    "start_time": "2023-07-11T14:32:43.026Z"
   },
   {
    "duration": 95,
    "start_time": "2023-07-11T14:32:43.415Z"
   },
   {
    "duration": 127,
    "start_time": "2023-07-11T14:32:43.511Z"
   },
   {
    "duration": 35,
    "start_time": "2023-07-11T14:32:43.640Z"
   },
   {
    "duration": 540,
    "start_time": "2023-07-11T14:32:43.676Z"
   },
   {
    "duration": 9,
    "start_time": "2023-07-11T14:32:44.218Z"
   },
   {
    "duration": 1844,
    "start_time": "2023-07-11T14:32:44.229Z"
   },
   {
    "duration": 30,
    "start_time": "2023-07-11T14:32:46.077Z"
   },
   {
    "duration": 34,
    "start_time": "2023-07-11T14:32:46.109Z"
   },
   {
    "duration": 1713,
    "start_time": "2023-07-11T14:32:46.144Z"
   },
   {
    "duration": 42,
    "start_time": "2023-07-11T14:32:47.859Z"
   },
   {
    "duration": 1679,
    "start_time": "2023-07-11T14:32:47.903Z"
   },
   {
    "duration": 1577,
    "start_time": "2023-07-11T14:32:49.584Z"
   },
   {
    "duration": 1497,
    "start_time": "2023-07-11T14:32:51.163Z"
   },
   {
    "duration": 1675,
    "start_time": "2023-07-11T14:32:52.661Z"
   },
   {
    "duration": 156,
    "start_time": "2023-07-11T14:32:54.338Z"
   },
   {
    "duration": 236,
    "start_time": "2023-07-11T14:32:54.496Z"
   },
   {
    "duration": 140,
    "start_time": "2023-07-11T14:32:54.734Z"
   },
   {
    "duration": 184,
    "start_time": "2023-07-11T14:32:54.876Z"
   },
   {
    "duration": 135,
    "start_time": "2023-07-11T14:32:55.070Z"
   },
   {
    "duration": 273,
    "start_time": "2023-07-11T14:32:55.206Z"
   },
   {
    "duration": 4,
    "start_time": "2023-07-11T14:32:55.480Z"
   },
   {
    "duration": 670,
    "start_time": "2023-07-11T14:32:55.486Z"
   },
   {
    "duration": 175,
    "start_time": "2023-07-11T14:32:56.158Z"
   },
   {
    "duration": 164,
    "start_time": "2023-07-11T14:32:56.335Z"
   },
   {
    "duration": 205,
    "start_time": "2023-07-11T14:32:56.501Z"
   },
   {
    "duration": 11,
    "start_time": "2023-07-11T14:32:56.708Z"
   },
   {
    "duration": 103,
    "start_time": "2023-07-11T14:32:56.721Z"
   },
   {
    "duration": 919,
    "start_time": "2023-07-11T14:32:56.826Z"
   },
   {
    "duration": 0,
    "start_time": "2023-07-11T14:32:57.747Z"
   },
   {
    "duration": 0,
    "start_time": "2023-07-11T14:32:57.748Z"
   },
   {
    "duration": 0,
    "start_time": "2023-07-11T14:32:57.749Z"
   },
   {
    "duration": 0,
    "start_time": "2023-07-11T14:32:57.750Z"
   },
   {
    "duration": 0,
    "start_time": "2023-07-11T14:32:57.751Z"
   },
   {
    "duration": 0,
    "start_time": "2023-07-11T14:32:57.752Z"
   },
   {
    "duration": 0,
    "start_time": "2023-07-11T14:32:57.753Z"
   },
   {
    "duration": 0,
    "start_time": "2023-07-11T14:32:57.754Z"
   },
   {
    "duration": 0,
    "start_time": "2023-07-11T14:32:57.771Z"
   },
   {
    "duration": 0,
    "start_time": "2023-07-11T14:32:57.772Z"
   },
   {
    "duration": 94,
    "start_time": "2023-07-11T14:37:46.604Z"
   },
   {
    "duration": 69,
    "start_time": "2023-07-11T15:20:55.342Z"
   },
   {
    "duration": 1822,
    "start_time": "2023-07-12T06:25:00.655Z"
   },
   {
    "duration": 1374,
    "start_time": "2023-07-12T06:25:02.480Z"
   },
   {
    "duration": 181,
    "start_time": "2023-07-12T06:25:03.856Z"
   },
   {
    "duration": 440,
    "start_time": "2023-07-12T06:25:04.042Z"
   },
   {
    "duration": 464,
    "start_time": "2023-07-12T06:25:04.485Z"
   },
   {
    "duration": 1682,
    "start_time": "2023-07-12T06:25:04.950Z"
   },
   {
    "duration": 399,
    "start_time": "2023-07-12T06:25:06.634Z"
   },
   {
    "duration": 102,
    "start_time": "2023-07-12T06:25:07.035Z"
   },
   {
    "duration": 104,
    "start_time": "2023-07-12T06:25:07.139Z"
   },
   {
    "duration": 31,
    "start_time": "2023-07-12T06:25:07.245Z"
   },
   {
    "duration": 590,
    "start_time": "2023-07-12T06:25:07.277Z"
   },
   {
    "duration": 9,
    "start_time": "2023-07-12T06:25:07.868Z"
   },
   {
    "duration": 2085,
    "start_time": "2023-07-12T06:25:07.878Z"
   },
   {
    "duration": 46,
    "start_time": "2023-07-12T06:25:09.966Z"
   },
   {
    "duration": 41,
    "start_time": "2023-07-12T06:25:10.013Z"
   },
   {
    "duration": 1989,
    "start_time": "2023-07-12T06:25:10.056Z"
   },
   {
    "duration": 30,
    "start_time": "2023-07-12T06:25:12.047Z"
   },
   {
    "duration": 1892,
    "start_time": "2023-07-12T06:25:12.079Z"
   },
   {
    "duration": 1685,
    "start_time": "2023-07-12T06:25:13.973Z"
   },
   {
    "duration": 1637,
    "start_time": "2023-07-12T06:25:15.660Z"
   },
   {
    "duration": 1641,
    "start_time": "2023-07-12T06:25:17.299Z"
   },
   {
    "duration": 150,
    "start_time": "2023-07-12T06:25:18.944Z"
   },
   {
    "duration": 327,
    "start_time": "2023-07-12T06:25:19.095Z"
   },
   {
    "duration": 203,
    "start_time": "2023-07-12T06:25:19.424Z"
   },
   {
    "duration": 253,
    "start_time": "2023-07-12T06:25:19.629Z"
   },
   {
    "duration": 162,
    "start_time": "2023-07-12T06:25:19.884Z"
   },
   {
    "duration": 277,
    "start_time": "2023-07-12T06:25:20.048Z"
   },
   {
    "duration": 17,
    "start_time": "2023-07-12T06:25:20.328Z"
   },
   {
    "duration": 835,
    "start_time": "2023-07-12T06:25:20.347Z"
   },
   {
    "duration": 210,
    "start_time": "2023-07-12T06:25:21.184Z"
   },
   {
    "duration": 177,
    "start_time": "2023-07-12T06:25:21.396Z"
   },
   {
    "duration": 234,
    "start_time": "2023-07-12T06:25:21.575Z"
   },
   {
    "duration": 137,
    "start_time": "2023-07-12T06:25:21.810Z"
   },
   {
    "duration": 0,
    "start_time": "2023-07-12T06:25:21.951Z"
   },
   {
    "duration": 0,
    "start_time": "2023-07-12T06:25:21.952Z"
   },
   {
    "duration": 0,
    "start_time": "2023-07-12T06:25:21.954Z"
   },
   {
    "duration": 0,
    "start_time": "2023-07-12T06:25:21.955Z"
   },
   {
    "duration": 0,
    "start_time": "2023-07-12T06:25:21.956Z"
   },
   {
    "duration": 0,
    "start_time": "2023-07-12T06:25:21.957Z"
   },
   {
    "duration": 0,
    "start_time": "2023-07-12T06:25:21.959Z"
   },
   {
    "duration": 0,
    "start_time": "2023-07-12T06:25:21.960Z"
   },
   {
    "duration": 0,
    "start_time": "2023-07-12T06:25:21.961Z"
   },
   {
    "duration": 0,
    "start_time": "2023-07-12T06:25:21.962Z"
   },
   {
    "duration": 0,
    "start_time": "2023-07-12T06:25:21.963Z"
   },
   {
    "duration": 0,
    "start_time": "2023-07-12T06:25:21.965Z"
   },
   {
    "duration": 0,
    "start_time": "2023-07-12T06:25:21.966Z"
   },
   {
    "duration": 404,
    "start_time": "2023-07-12T06:33:49.639Z"
   },
   {
    "duration": 10,
    "start_time": "2023-07-12T06:35:10.646Z"
   },
   {
    "duration": 2336,
    "start_time": "2023-07-12T06:35:23.526Z"
   },
   {
    "duration": 306,
    "start_time": "2023-07-12T06:35:34.469Z"
   },
   {
    "duration": 1727,
    "start_time": "2023-07-12T06:38:29.638Z"
   },
   {
    "duration": 15929,
    "start_time": "2023-07-12T06:39:09.748Z"
   },
   {
    "duration": 2986,
    "start_time": "2023-07-12T06:40:15.356Z"
   },
   {
    "duration": 8,
    "start_time": "2023-07-12T06:54:18.565Z"
   },
   {
    "duration": 44,
    "start_time": "2023-07-12T07:03:01.942Z"
   },
   {
    "duration": 10,
    "start_time": "2023-07-12T07:04:02.548Z"
   },
   {
    "duration": 18,
    "start_time": "2023-07-12T07:04:10.152Z"
   },
   {
    "duration": 42,
    "start_time": "2023-07-12T07:04:14.590Z"
   },
   {
    "duration": 1952,
    "start_time": "2023-07-12T07:04:51.634Z"
   },
   {
    "duration": 16,
    "start_time": "2023-07-12T07:04:57.556Z"
   },
   {
    "duration": 43,
    "start_time": "2023-07-12T07:05:17.219Z"
   },
   {
    "duration": 20,
    "start_time": "2023-07-12T07:08:57.215Z"
   },
   {
    "duration": 12,
    "start_time": "2023-07-12T07:09:05.651Z"
   },
   {
    "duration": 16,
    "start_time": "2023-07-12T07:10:04.455Z"
   },
   {
    "duration": 149,
    "start_time": "2023-07-12T07:10:24.326Z"
   },
   {
    "duration": 1103,
    "start_time": "2023-07-12T07:10:33.146Z"
   },
   {
    "duration": 10,
    "start_time": "2023-07-12T07:12:42.083Z"
   },
   {
    "duration": 73,
    "start_time": "2023-07-12T07:13:09.899Z"
   },
   {
    "duration": 1029,
    "start_time": "2023-07-12T07:15:40.734Z"
   },
   {
    "duration": 552,
    "start_time": "2023-07-12T07:22:29.890Z"
   },
   {
    "duration": 4,
    "start_time": "2023-07-12T07:25:24.825Z"
   },
   {
    "duration": 61748,
    "start_time": "2023-07-12T07:25:39.127Z"
   },
   {
    "duration": 4,
    "start_time": "2023-07-12T07:27:29.986Z"
   },
   {
    "duration": 63561,
    "start_time": "2023-07-12T07:27:42.468Z"
   },
   {
    "duration": 126,
    "start_time": "2023-07-12T07:28:46.036Z"
   },
   {
    "duration": 3,
    "start_time": "2023-07-12T07:37:35.254Z"
   },
   {
    "duration": 85,
    "start_time": "2023-07-12T07:41:15.752Z"
   },
   {
    "duration": 3,
    "start_time": "2023-07-12T07:41:55.155Z"
   },
   {
    "duration": 70314,
    "start_time": "2023-07-12T07:41:55.769Z"
   },
   {
    "duration": 19049,
    "start_time": "2023-07-12T07:47:49.974Z"
   },
   {
    "duration": 24658,
    "start_time": "2023-07-12T07:48:09.026Z"
   },
   {
    "duration": 3,
    "start_time": "2023-07-12T07:48:33.687Z"
   },
   {
    "duration": 211,
    "start_time": "2023-07-12T07:52:39.570Z"
   },
   {
    "duration": 3,
    "start_time": "2023-07-12T07:53:01.195Z"
   },
   {
    "duration": 875495,
    "start_time": "2023-07-12T07:53:01.726Z"
   },
   {
    "duration": 414740,
    "start_time": "2023-07-12T08:07:37.223Z"
   },
   {
    "duration": 3,
    "start_time": "2023-07-12T08:16:15.346Z"
   },
   {
    "duration": 5,
    "start_time": "2023-07-12T08:16:34.832Z"
   },
   {
    "duration": 4,
    "start_time": "2023-07-12T08:20:04.342Z"
   },
   {
    "duration": 11,
    "start_time": "2023-07-12T08:23:33.236Z"
   },
   {
    "duration": 7,
    "start_time": "2023-07-12T08:25:13.404Z"
   },
   {
    "duration": 3,
    "start_time": "2023-07-12T08:26:36.765Z"
   },
   {
    "duration": 222,
    "start_time": "2023-07-12T08:36:02.490Z"
   },
   {
    "duration": 6,
    "start_time": "2023-07-12T08:39:13.258Z"
   },
   {
    "duration": 1958,
    "start_time": "2023-07-12T08:45:59.335Z"
   },
   {
    "duration": 7,
    "start_time": "2023-07-12T08:53:27.253Z"
   },
   {
    "duration": 77,
    "start_time": "2023-07-12T13:38:53.189Z"
   },
   {
    "duration": 9,
    "start_time": "2023-07-12T13:39:14.054Z"
   }
  ],
  "kernelspec": {
   "display_name": "Python 3 (ipykernel)",
   "language": "python",
   "name": "python3"
  },
  "language_info": {
   "codemirror_mode": {
    "name": "ipython",
    "version": 3
   },
   "file_extension": ".py",
   "mimetype": "text/x-python",
   "name": "python",
   "nbconvert_exporter": "python",
   "pygments_lexer": "ipython3",
   "version": "3.9.13"
  },
  "toc": {
   "base_numbering": 1,
   "nav_menu": {},
   "number_sections": true,
   "sideBar": true,
   "skip_h1_title": true,
   "title_cell": "Table of Contents",
   "title_sidebar": "Contents",
   "toc_cell": false,
   "toc_position": {},
   "toc_section_display": true,
   "toc_window_display": true
  }
 },
 "nbformat": 4,
 "nbformat_minor": 2
}
