{
 "cells": [
  {
   "cell_type": "markdown",
   "metadata": {},
   "source": [
    "# Рекомендация тарифов"
   ]
  },
  {
   "cell_type": "markdown",
   "metadata": {},
   "source": [
    "В вашем распоряжении данные о поведении клиентов, которые уже перешли на эти тарифы (из проекта курса «Статистический анализ данных»). Нужно построить модель для задачи классификации, которая выберет подходящий тариф. Предобработка данных не понадобится — вы её уже сделали.\n",
    "\n",
    "Постройте модель с максимально большим значением *accuracy*. Чтобы сдать проект успешно, нужно довести долю правильных ответов по крайней мере до 0.75. Проверьте *accuracy* на тестовой выборке самостоятельно."
   ]
  },
  {
   "cell_type": "markdown",
   "metadata": {},
   "source": [
    "## Изучение файла"
   ]
  },
  {
   "cell_type": "markdown",
   "metadata": {},
   "source": [
    "Испортируем библиотеки."
   ]
  },
  {
   "cell_type": "code",
   "execution_count": 1,
   "metadata": {},
   "outputs": [],
   "source": [
    "import pandas as pd\n",
    "import numpy as np\n",
    "from sklearn.model_selection import train_test_split\n",
    "from sklearn.linear_model import LogisticRegression\n",
    "from sklearn.ensemble import RandomForestClassifier\n",
    "from sklearn.tree import DecisionTreeClassifier\n",
    "from sklearn.metrics import accuracy_score\n",
    "from sklearn.metrics import roc_curve\n",
    "from sklearn.metrics import auc\n",
    "from tqdm import tqdm\n",
    "import matplotlib.pyplot as plt"
   ]
  },
  {
   "cell_type": "markdown",
   "metadata": {},
   "source": [
    "Прочитаем данные с файл и запишем в df."
   ]
  },
  {
   "cell_type": "code",
   "execution_count": 2,
   "metadata": {},
   "outputs": [],
   "source": [
    "df = pd.read_csv('/datasets/users_behavior.csv')"
   ]
  },
  {
   "cell_type": "markdown",
   "metadata": {},
   "source": [
    "Просмотрим общую информацию о файле."
   ]
  },
  {
   "cell_type": "code",
   "execution_count": 3,
   "metadata": {},
   "outputs": [
    {
     "name": "stdout",
     "output_type": "stream",
     "text": [
      "<class 'pandas.core.frame.DataFrame'>\n",
      "RangeIndex: 3214 entries, 0 to 3213\n",
      "Data columns (total 5 columns):\n",
      " #   Column    Non-Null Count  Dtype  \n",
      "---  ------    --------------  -----  \n",
      " 0   calls     3214 non-null   float64\n",
      " 1   minutes   3214 non-null   float64\n",
      " 2   messages  3214 non-null   float64\n",
      " 3   mb_used   3214 non-null   float64\n",
      " 4   is_ultra  3214 non-null   int64  \n",
      "dtypes: float64(4), int64(1)\n",
      "memory usage: 125.7 KB\n"
     ]
    },
    {
     "data": {
      "text/html": [
       "<div>\n",
       "<style scoped>\n",
       "    .dataframe tbody tr th:only-of-type {\n",
       "        vertical-align: middle;\n",
       "    }\n",
       "\n",
       "    .dataframe tbody tr th {\n",
       "        vertical-align: top;\n",
       "    }\n",
       "\n",
       "    .dataframe thead th {\n",
       "        text-align: right;\n",
       "    }\n",
       "</style>\n",
       "<table border=\"1\" class=\"dataframe\">\n",
       "  <thead>\n",
       "    <tr style=\"text-align: right;\">\n",
       "      <th></th>\n",
       "      <th>calls</th>\n",
       "      <th>minutes</th>\n",
       "      <th>messages</th>\n",
       "      <th>mb_used</th>\n",
       "      <th>is_ultra</th>\n",
       "    </tr>\n",
       "  </thead>\n",
       "  <tbody>\n",
       "    <tr>\n",
       "      <th>0</th>\n",
       "      <td>40.0</td>\n",
       "      <td>311.90</td>\n",
       "      <td>83.0</td>\n",
       "      <td>19915.42</td>\n",
       "      <td>0</td>\n",
       "    </tr>\n",
       "    <tr>\n",
       "      <th>1</th>\n",
       "      <td>85.0</td>\n",
       "      <td>516.75</td>\n",
       "      <td>56.0</td>\n",
       "      <td>22696.96</td>\n",
       "      <td>0</td>\n",
       "    </tr>\n",
       "    <tr>\n",
       "      <th>2</th>\n",
       "      <td>77.0</td>\n",
       "      <td>467.66</td>\n",
       "      <td>86.0</td>\n",
       "      <td>21060.45</td>\n",
       "      <td>0</td>\n",
       "    </tr>\n",
       "    <tr>\n",
       "      <th>3</th>\n",
       "      <td>106.0</td>\n",
       "      <td>745.53</td>\n",
       "      <td>81.0</td>\n",
       "      <td>8437.39</td>\n",
       "      <td>1</td>\n",
       "    </tr>\n",
       "    <tr>\n",
       "      <th>4</th>\n",
       "      <td>66.0</td>\n",
       "      <td>418.74</td>\n",
       "      <td>1.0</td>\n",
       "      <td>14502.75</td>\n",
       "      <td>0</td>\n",
       "    </tr>\n",
       "    <tr>\n",
       "      <th>5</th>\n",
       "      <td>58.0</td>\n",
       "      <td>344.56</td>\n",
       "      <td>21.0</td>\n",
       "      <td>15823.37</td>\n",
       "      <td>0</td>\n",
       "    </tr>\n",
       "    <tr>\n",
       "      <th>6</th>\n",
       "      <td>57.0</td>\n",
       "      <td>431.64</td>\n",
       "      <td>20.0</td>\n",
       "      <td>3738.90</td>\n",
       "      <td>1</td>\n",
       "    </tr>\n",
       "    <tr>\n",
       "      <th>7</th>\n",
       "      <td>15.0</td>\n",
       "      <td>132.40</td>\n",
       "      <td>6.0</td>\n",
       "      <td>21911.60</td>\n",
       "      <td>0</td>\n",
       "    </tr>\n",
       "    <tr>\n",
       "      <th>8</th>\n",
       "      <td>7.0</td>\n",
       "      <td>43.39</td>\n",
       "      <td>3.0</td>\n",
       "      <td>2538.67</td>\n",
       "      <td>1</td>\n",
       "    </tr>\n",
       "    <tr>\n",
       "      <th>9</th>\n",
       "      <td>90.0</td>\n",
       "      <td>665.41</td>\n",
       "      <td>38.0</td>\n",
       "      <td>17358.61</td>\n",
       "      <td>0</td>\n",
       "    </tr>\n",
       "  </tbody>\n",
       "</table>\n",
       "</div>"
      ],
      "text/plain": [
       "   calls  minutes  messages   mb_used  is_ultra\n",
       "0   40.0   311.90      83.0  19915.42         0\n",
       "1   85.0   516.75      56.0  22696.96         0\n",
       "2   77.0   467.66      86.0  21060.45         0\n",
       "3  106.0   745.53      81.0   8437.39         1\n",
       "4   66.0   418.74       1.0  14502.75         0\n",
       "5   58.0   344.56      21.0  15823.37         0\n",
       "6   57.0   431.64      20.0   3738.90         1\n",
       "7   15.0   132.40       6.0  21911.60         0\n",
       "8    7.0    43.39       3.0   2538.67         1\n",
       "9   90.0   665.41      38.0  17358.61         0"
      ]
     },
     "execution_count": 3,
     "metadata": {},
     "output_type": "execute_result"
    }
   ],
   "source": [
    "df.info()\n",
    "df.head(10)"
   ]
  },
  {
   "cell_type": "markdown",
   "metadata": {},
   "source": [
    "Согласно документации к данным, в таблице `users_behavior` имеются следующие столбцы:\n",
    "* `сalls` — количество звонков\n",
    "* `minutes` — суммарная длительность звонков в минутах\n",
    "* `messages` — количество sms-сообщений\n",
    "* `mb_used` — израсходованный интернет-трафик в Мб\n",
    "* `is_ultra` — каким тарифом пользовался в течение месяца («Ультра» — 1, «Смарт» — 0)."
   ]
  },
  {
   "cell_type": "markdown",
   "metadata": {},
   "source": [
    "**Вывод этапа**:\n",
    "- Проведено чтение данных с файла"
   ]
  },
  {
   "cell_type": "markdown",
   "metadata": {},
   "source": [
    "## Подготовка данных"
   ]
  },
  {
   "cell_type": "markdown",
   "metadata": {},
   "source": [
    "Произведем разбиение на целевой признак и остальные."
   ]
  },
  {
   "cell_type": "code",
   "execution_count": 4,
   "metadata": {},
   "outputs": [],
   "source": [
    "features = df.drop(['is_ultra'], axis=1)\n",
    "target = df[\"is_ultra\"]"
   ]
  },
  {
   "cell_type": "markdown",
   "metadata": {},
   "source": [
    "Выделим тестовую, тренировочную и валидационнную выборки.\n",
    "25% данных выделим для валидационной выборки."
   ]
  },
  {
   "cell_type": "markdown",
   "metadata": {},
   "source": [
    "Выделим тестовую выборку."
   ]
  },
  {
   "cell_type": "code",
   "execution_count": 5,
   "metadata": {},
   "outputs": [],
   "source": [
    "features_train, features_test, target_train, target_test = train_test_split(\n",
    "    features, target, test_size = 0.25, random_state = 12345)"
   ]
  },
  {
   "cell_type": "markdown",
   "metadata": {},
   "source": [
    "Разделим тестовую выборку на тестовую и валидационную (оставим в каждой выборке ао 50%)."
   ]
  },
  {
   "cell_type": "code",
   "execution_count": 6,
   "metadata": {},
   "outputs": [],
   "source": [
    "features_valid, features_test, target_valid, target_test = train_test_split(\n",
    "    features_test, target_test, test_size = 0.5, random_state = 12345)"
   ]
  },
  {
   "cell_type": "markdown",
   "metadata": {},
   "source": [
    "**Вывод этапа**:\n",
    "- Проведено разделение данных на тестовую, тренировочную и валидационную выборки."
   ]
  },
  {
   "cell_type": "markdown",
   "metadata": {},
   "source": [
    "## Исследование моделей"
   ]
  },
  {
   "cell_type": "markdown",
   "metadata": {},
   "source": [
    "Исследуем Random Forest."
   ]
  },
  {
   "cell_type": "code",
   "execution_count": 7,
   "metadata": {},
   "outputs": [
    {
     "name": "stdout",
     "output_type": "stream",
     "text": [
      "Random Forest: 0.8233830845771144\n"
     ]
    }
   ],
   "source": [
    "best_model = None\n",
    "best_accuracy = 0\n",
    "best_est = 0\n",
    "best_depth = 0\n",
    "for est in range(1,50):\n",
    "    for depth in range(1,25):\n",
    "        model = RandomForestClassifier(random_state = 12345, n_estimators = est, max_depth = depth)\n",
    "        model.fit(features_train, target_train)\n",
    "        predictions_valid = model.predict(features_valid)\n",
    "        accuracy = accuracy_score(predictions_valid, target_valid)\n",
    "        if best_accuracy < accuracy:\n",
    "            best_model = model\n",
    "            best_depth = depth\n",
    "            best_est = est\n",
    "            best_accuracy = accuracy\n",
    "            \n",
    "print(\"Random Forest:\", best_accuracy)"
   ]
  },
  {
   "cell_type": "markdown",
   "metadata": {},
   "source": [
    "Исследуем Decision Tree."
   ]
  },
  {
   "cell_type": "code",
   "execution_count": 8,
   "metadata": {},
   "outputs": [
    {
     "name": "stdout",
     "output_type": "stream",
     "text": [
      "Decision Tree: 0.7985074626865671\n"
     ]
    }
   ],
   "source": [
    "best_model = None\n",
    "best_accuracy = 0\n",
    "best_depth = 0\n",
    "for depth in range(1,50):\n",
    "    model2 = DecisionTreeClassifier(random_state = 12345, max_depth = depth)\n",
    "    model2.fit(features_train,target_train)\n",
    "    predictions_valid = model2.predict(features_valid)\n",
    "    accuracy = accuracy_score(predictions_valid, target_valid)\n",
    "    if best_accuracy < accuracy:\n",
    "        best_model = model2\n",
    "        best_accuracy = accuracy\n",
    "        best_depth = depth\n",
    "        \n",
    "print(\"Decision Tree:\", best_accuracy)"
   ]
  },
  {
   "cell_type": "markdown",
   "metadata": {},
   "source": [
    "Исследуем LogisticRegression."
   ]
  },
  {
   "cell_type": "code",
   "execution_count": 9,
   "metadata": {},
   "outputs": [
    {
     "name": "stdout",
     "output_type": "stream",
     "text": [
      "Logistic Regression: 0.7039800995024875\n"
     ]
    }
   ],
   "source": [
    "model3 = LogisticRegression(random_state = 12345, max_iter= 1000, solver = 'lbfgs')\n",
    "model3.fit(features_train,target_train)\n",
    "predictions_valid= model3.predict(features_valid)\n",
    "accuracy = accuracy_score(predictions_valid, target_valid)\n",
    "print(\"Logistic Regression:\", accuracy)"
   ]
  },
  {
   "cell_type": "markdown",
   "metadata": {},
   "source": [
    "**Вывод этапа**:\n",
    "Были исследованы модели Random Forest, Desicion Tree и Logistic Regression.\n",
    "\n",
    "Получены следующие показатели точности:\n",
    "- Random Forest: 0.8233830845771144\n",
    "- Decision Tree: 0.7985074626865671\n",
    "- Logistic Regression: 0.7039800995024875\n",
    "Из результатов видно, наиболее качественные результаты у Random Forest."
   ]
  },
  {
   "cell_type": "markdown",
   "metadata": {},
   "source": [
    "## Проверьте модель на тестовой выборке"
   ]
  },
  {
   "cell_type": "markdown",
   "metadata": {},
   "source": [
    "Исследуем LogisticRegression."
   ]
  },
  {
   "cell_type": "code",
   "execution_count": 10,
   "metadata": {},
   "outputs": [
    {
     "name": "stdout",
     "output_type": "stream",
     "text": [
      "Logistic Regression: 0.7039800995024875\n"
     ]
    }
   ],
   "source": [
    "predictions_test = model3.predict(features_test)\n",
    "accuracy_test = accuracy_score(predictions_test, target_test)\n",
    "print(\"Logistic Regression:\", accuracy_test)"
   ]
  },
  {
   "cell_type": "markdown",
   "metadata": {},
   "source": [
    "Исследуем Random Forest."
   ]
  },
  {
   "cell_type": "code",
   "execution_count": 11,
   "metadata": {},
   "outputs": [
    {
     "name": "stdout",
     "output_type": "stream",
     "text": [
      "Random Forest: 0.7786069651741293\n"
     ]
    }
   ],
   "source": [
    "predictions_test = model.predict(features_test)\n",
    "accuracy_test = accuracy_score(predictions_test, target_test)\n",
    "print(\"Random Forest:\", accuracy_test)"
   ]
  },
  {
   "cell_type": "markdown",
   "metadata": {},
   "source": [
    "Исследуем Decision Tree."
   ]
  },
  {
   "cell_type": "code",
   "execution_count": 12,
   "metadata": {},
   "outputs": [
    {
     "name": "stdout",
     "output_type": "stream",
     "text": [
      "Decision Tree: 0.7213930348258707\n"
     ]
    }
   ],
   "source": [
    "predictions_test = model2.predict(features_test)\n",
    "accuracy_test = accuracy_score(predictions_test, target_test)\n",
    "print(\"Decision Tree:\", accuracy_test)"
   ]
  },
  {
   "cell_type": "markdown",
   "metadata": {},
   "source": [
    "**Вывод этапа**:\n",
    "Были исследованы модели Random Forest, Desicion Tree и Logistic Regression.\n",
    "\n",
    "Получены следующие показатели точности:\n",
    "- Random Forest: 0.7786069651741293\n",
    "- Decision Tree: 0.7213930348258707\n",
    "- Logistic Regression: 0.7039800995024875\n",
    "Из результатов видно, наиболее качественные результаты у Random Forest, как и в исследовании на тренировочных выборках."
   ]
  },
  {
   "cell_type": "markdown",
   "metadata": {},
   "source": [
    "**Общий вывод**:\n",
    "Итак, полученный архив данных - данные о поведении клиентов, которые уже перешедших на тарифы \"Смарт\" и \"Ультра\".\n",
    "\n",
    "Для исследования было проведено разделение данных на тестовую, тренировочную и валидационную выборки.На этих выборка проверены работы моделей Random Forest, Desicion Tree и Logistic Regression.\n",
    "\n",
    "Получены следующие показатели точности на валидационной выборке:\n",
    "- Random Forest: 0.8233830845771144\n",
    "- Decision Tree: 0.7985074626865671\n",
    "- Logistic Regression: 0.7039800995024875<br>\n",
    "\n",
    "На тестовой:\n",
    "- Random Forest: 0.7786069651741293\n",
    "- Decision Tree: 0.7213930348258707\n",
    "- Logistic Regression: 0.7039800995024875\n",
    "Из результатов видно, и на тестовой и на валидационной выборках наиболее хорошие результаты показывает Random Forest."
   ]
  }
 ],
 "metadata": {
  "ExecuteTimeLog": [
   {
    "duration": 1554,
    "start_time": "2023-05-27T05:45:28.858Z"
   },
   {
    "duration": 85,
    "start_time": "2023-05-27T05:45:42.312Z"
   },
   {
    "duration": 11,
    "start_time": "2023-05-27T05:45:45.671Z"
   },
   {
    "duration": 41,
    "start_time": "2023-05-27T05:46:45.272Z"
   },
   {
    "duration": 11,
    "start_time": "2023-05-27T05:46:51.246Z"
   },
   {
    "duration": 4,
    "start_time": "2023-05-27T05:49:07.667Z"
   },
   {
    "duration": 127,
    "start_time": "2023-05-27T05:49:45.538Z"
   },
   {
    "duration": 5,
    "start_time": "2023-05-27T05:49:52.001Z"
   },
   {
    "duration": 6,
    "start_time": "2023-05-27T05:50:39.439Z"
   },
   {
    "duration": 112691,
    "start_time": "2023-05-27T05:51:14.883Z"
   },
   {
    "duration": 4,
    "start_time": "2023-05-27T06:02:39.677Z"
   },
   {
    "duration": 4,
    "start_time": "2023-05-27T06:05:34.305Z"
   },
   {
    "duration": 5,
    "start_time": "2023-05-27T06:05:46.175Z"
   },
   {
    "duration": 93,
    "start_time": "2023-05-27T06:10:01.407Z"
   },
   {
    "duration": 6,
    "start_time": "2023-05-27T06:10:20.872Z"
   },
   {
    "duration": 4,
    "start_time": "2023-05-27T06:13:30.738Z"
   },
   {
    "duration": 17,
    "start_time": "2023-05-27T06:21:22.392Z"
   },
   {
    "duration": 103363,
    "start_time": "2023-05-27T06:21:38.354Z"
   },
   {
    "duration": 14,
    "start_time": "2023-05-27T06:24:01.542Z"
   },
   {
    "duration": 529,
    "start_time": "2023-05-27T06:24:06.166Z"
   },
   {
    "duration": 78,
    "start_time": "2023-05-27T06:28:36.308Z"
   },
   {
    "duration": 104327,
    "start_time": "2023-05-27T06:28:47.162Z"
   },
   {
    "duration": 553,
    "start_time": "2023-05-27T06:30:31.491Z"
   },
   {
    "duration": 188,
    "start_time": "2023-05-27T06:30:32.046Z"
   },
   {
    "duration": 105416,
    "start_time": "2023-05-27T06:34:54.956Z"
   },
   {
    "duration": 563,
    "start_time": "2023-05-27T06:36:40.375Z"
   },
   {
    "duration": 201,
    "start_time": "2023-05-27T06:36:40.940Z"
   },
   {
    "duration": 14,
    "start_time": "2023-05-27T06:37:06.435Z"
   },
   {
    "duration": 9,
    "start_time": "2023-05-27T06:38:05.711Z"
   },
   {
    "duration": 5,
    "start_time": "2023-05-27T06:38:12.320Z"
   },
   {
    "duration": 64,
    "start_time": "2023-05-27T06:38:40.346Z"
   },
   {
    "duration": 25,
    "start_time": "2023-05-27T06:39:43.699Z"
   },
   {
    "duration": 26,
    "start_time": "2023-05-27T06:39:48.337Z"
   },
   {
    "duration": 19,
    "start_time": "2023-05-27T06:39:52.162Z"
   },
   {
    "duration": 14,
    "start_time": "2023-05-27T06:39:57.733Z"
   },
   {
    "duration": 10,
    "start_time": "2023-05-27T06:40:55.551Z"
   },
   {
    "duration": 5,
    "start_time": "2023-05-27T06:41:05.691Z"
   },
   {
    "duration": 1347,
    "start_time": "2023-05-27T06:49:15.807Z"
   },
   {
    "duration": 29,
    "start_time": "2023-05-27T06:49:17.156Z"
   },
   {
    "duration": 22,
    "start_time": "2023-05-27T06:49:17.186Z"
   },
   {
    "duration": 4,
    "start_time": "2023-05-27T06:49:17.210Z"
   },
   {
    "duration": 6,
    "start_time": "2023-05-27T06:49:17.216Z"
   },
   {
    "duration": 4,
    "start_time": "2023-05-27T06:49:17.225Z"
   },
   {
    "duration": 105188,
    "start_time": "2023-05-27T06:49:17.230Z"
   },
   {
    "duration": 563,
    "start_time": "2023-05-27T06:51:02.420Z"
   },
   {
    "duration": 244,
    "start_time": "2023-05-27T06:51:02.984Z"
   },
   {
    "duration": 92,
    "start_time": "2023-05-27T06:51:03.236Z"
   },
   {
    "duration": 21,
    "start_time": "2023-05-27T06:51:03.330Z"
   },
   {
    "duration": 71,
    "start_time": "2023-05-27T06:51:03.352Z"
   },
   {
    "duration": 0,
    "start_time": "2023-05-27T06:51:03.425Z"
   },
   {
    "duration": 5,
    "start_time": "2023-05-27T06:55:42.303Z"
   },
   {
    "duration": 2617,
    "start_time": "2023-05-27T10:06:18.403Z"
   },
   {
    "duration": 118,
    "start_time": "2023-05-27T10:06:21.022Z"
   },
   {
    "duration": 21,
    "start_time": "2023-05-27T10:06:21.141Z"
   },
   {
    "duration": 5,
    "start_time": "2023-05-27T10:06:21.164Z"
   },
   {
    "duration": 16,
    "start_time": "2023-05-27T10:06:21.171Z"
   },
   {
    "duration": 26,
    "start_time": "2023-05-27T10:06:21.189Z"
   },
   {
    "duration": 113753,
    "start_time": "2023-05-27T10:06:21.216Z"
   },
   {
    "duration": 621,
    "start_time": "2023-05-27T10:08:14.971Z"
   },
   {
    "duration": 149,
    "start_time": "2023-05-27T10:08:15.594Z"
   },
   {
    "duration": 88,
    "start_time": "2023-05-27T10:08:15.746Z"
   },
   {
    "duration": 114,
    "start_time": "2023-05-27T10:08:15.837Z"
   },
   {
    "duration": 10,
    "start_time": "2023-05-27T10:08:15.952Z"
   }
  ],
  "kernelspec": {
   "display_name": "Python 3 (ipykernel)",
   "language": "python",
   "name": "python3"
  },
  "language_info": {
   "codemirror_mode": {
    "name": "ipython",
    "version": 3
   },
   "file_extension": ".py",
   "mimetype": "text/x-python",
   "name": "python",
   "nbconvert_exporter": "python",
   "pygments_lexer": "ipython3",
   "version": "3.9.13"
  },
  "toc": {
   "base_numbering": 1,
   "nav_menu": {},
   "number_sections": true,
   "sideBar": true,
   "skip_h1_title": true,
   "title_cell": "Table of Contents",
   "title_sidebar": "Contents",
   "toc_cell": false,
   "toc_position": {},
   "toc_section_display": true,
   "toc_window_display": true
  }
 },
 "nbformat": 4,
 "nbformat_minor": 2
}
