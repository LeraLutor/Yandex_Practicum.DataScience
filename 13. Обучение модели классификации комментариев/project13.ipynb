{
 "cells": [
  {
   "cell_type": "markdown",
   "metadata": {
    "toc": true
   },
   "source": [
    "<h1>Содержание<span class=\"tocSkip\"></span></h1>\n",
    "<div class=\"toc\"><ul class=\"toc-item\"><li><span><a href=\"#Подготовка\" data-toc-modified-id=\"Подготовка-1\"><span class=\"toc-item-num\">1&nbsp;&nbsp;</span>Подготовка</a></span></li><li><span><a href=\"#Обучение\" data-toc-modified-id=\"Обучение-2\"><span class=\"toc-item-num\">2&nbsp;&nbsp;</span>Обучение</a></span><ul class=\"toc-item\"><li><span><a href=\"#Подготовка-данных\" data-toc-modified-id=\"Подготовка-данных-2.1\"><span class=\"toc-item-num\">2.1&nbsp;&nbsp;</span>Подготовка данных</a></span></li><li><span><a href=\"#Логистическая-регрессия\" data-toc-modified-id=\"Логистическая-регрессия-2.2\"><span class=\"toc-item-num\">2.2&nbsp;&nbsp;</span>Логистическая регрессия</a></span></li><li><span><a href=\"#Случайный-лес\" data-toc-modified-id=\"Случайный-лес-2.3\"><span class=\"toc-item-num\">2.3&nbsp;&nbsp;</span>Случайный лес</a></span></li><li><span><a href=\"#CatBoostClassifier\" data-toc-modified-id=\"CatBoostClassifier-2.4\"><span class=\"toc-item-num\">2.4&nbsp;&nbsp;</span>CatBoostClassifier</a></span></li></ul></li><li><span><a href=\"#Тестирование\" data-toc-modified-id=\"Тестирование-3\"><span class=\"toc-item-num\">3&nbsp;&nbsp;</span>Тестирование</a></span></li><li><span><a href=\"#Выводы\" data-toc-modified-id=\"Выводы-4\"><span class=\"toc-item-num\">4&nbsp;&nbsp;</span>Выводы</a></span></li><li><span><a href=\"#Чек-лист-проверки\" data-toc-modified-id=\"Чек-лист-проверки-5\"><span class=\"toc-item-num\">5&nbsp;&nbsp;</span>Чек-лист проверки</a></span></li></ul></div>"
   ]
  },
  {
   "cell_type": "markdown",
   "metadata": {},
   "source": [
    "# Проект для «Викишоп»"
   ]
  },
  {
   "cell_type": "markdown",
   "metadata": {},
   "source": [
    "Интернет-магазин «Викишоп» запускает новый сервис. Теперь пользователи могут редактировать и дополнять описания товаров, как в вики-сообществах. То есть клиенты предлагают свои правки и комментируют изменения других. Магазину нужен инструмент, который будет искать токсичные комментарии и отправлять их на модерацию. \n",
    "\n",
    "Обучите модель классифицировать комментарии на позитивные и негативные. В вашем распоряжении набор данных с разметкой о токсичности правок.\n",
    "\n",
    "Постройте модель со значением метрики качества *F1* не меньше 0.75. \n",
    "\n",
    "**Инструкция по выполнению проекта**\n",
    "\n",
    "1. Загрузите и подготовьте данные.\n",
    "2. Обучите разные модели. \n",
    "3. Сделайте выводы.\n",
    "\n",
    "Для выполнения проекта применять *BERT* необязательно, но вы можете попробовать.\n",
    "\n",
    "**Описание данных**\n",
    "\n",
    "Данные находятся в файле `toxic_comments.csv`. Столбец *text* в нём содержит текст комментария, а *toxic* — целевой признак."
   ]
  },
  {
   "cell_type": "markdown",
   "metadata": {},
   "source": [
    "## Подготовка"
   ]
  },
  {
   "cell_type": "markdown",
   "metadata": {},
   "source": [
    "Импортируем библиотеки."
   ]
  },
  {
   "cell_type": "code",
   "execution_count": 1,
   "metadata": {},
   "outputs": [
    {
     "name": "stderr",
     "output_type": "stream",
     "text": [
      "[nltk_data] Downloading package averaged_perceptron_tagger to\n",
      "[nltk_data]     /home/jovyan/nltk_data...\n",
      "[nltk_data]   Package averaged_perceptron_tagger is already up-to-\n",
      "[nltk_data]       date!\n"
     ]
    },
    {
     "data": {
      "text/plain": [
       "True"
      ]
     },
     "execution_count": 1,
     "metadata": {},
     "output_type": "execute_result"
    }
   ],
   "source": [
    "import time\n",
    "from tqdm.auto import tqdm\n",
    "import pandas as pd\n",
    "import seaborn as sns\n",
    "from matplotlib import pyplot as plt\n",
    "import nltk\n",
    "from nltk.corpus import stopwords\n",
    "from nltk.stem import WordNetLemmatizer, SnowballStemmer\n",
    "import re\n",
    "from sklearn.feature_extraction.text import CountVectorizer, TfidfVectorizer\n",
    "from sklearn.linear_model import LogisticRegression\n",
    "from catboost import CatBoostClassifier\n",
    "from sklearn.tree import DecisionTreeClassifier\n",
    "from sklearn.model_selection import train_test_split, GridSearchCV\n",
    "from sklearn.metrics import f1_score, auc, roc_curve\n",
    "from sklearn.pipeline import Pipeline\n",
    "from nltk import pos_tag\n",
    "import warnings\n",
    "warnings.filterwarnings('ignore')\n",
    "nltk.download('averaged_perceptron_tagger')"
   ]
  },
  {
   "cell_type": "markdown",
   "metadata": {},
   "source": [
    "Прочитаем данные с файла и сохраним в data."
   ]
  },
  {
   "cell_type": "code",
   "execution_count": 2,
   "metadata": {},
   "outputs": [],
   "source": [
    "data = pd.read_csv('/datasets/toxic_comments.csv')"
   ]
  },
  {
   "cell_type": "code",
   "execution_count": 3,
   "metadata": {},
   "outputs": [
    {
     "name": "stdout",
     "output_type": "stream",
     "text": [
      "<class 'pandas.core.frame.DataFrame'>\n",
      "RangeIndex: 159292 entries, 0 to 159291\n",
      "Data columns (total 3 columns):\n",
      " #   Column      Non-Null Count   Dtype \n",
      "---  ------      --------------   ----- \n",
      " 0   Unnamed: 0  159292 non-null  int64 \n",
      " 1   text        159292 non-null  object\n",
      " 2   toxic       159292 non-null  int64 \n",
      "dtypes: int64(2), object(1)\n",
      "memory usage: 3.6+ MB\n"
     ]
    },
    {
     "data": {
      "text/html": [
       "<div>\n",
       "<style scoped>\n",
       "    .dataframe tbody tr th:only-of-type {\n",
       "        vertical-align: middle;\n",
       "    }\n",
       "\n",
       "    .dataframe tbody tr th {\n",
       "        vertical-align: top;\n",
       "    }\n",
       "\n",
       "    .dataframe thead th {\n",
       "        text-align: right;\n",
       "    }\n",
       "</style>\n",
       "<table border=\"1\" class=\"dataframe\">\n",
       "  <thead>\n",
       "    <tr style=\"text-align: right;\">\n",
       "      <th></th>\n",
       "      <th>Unnamed: 0</th>\n",
       "      <th>text</th>\n",
       "      <th>toxic</th>\n",
       "    </tr>\n",
       "  </thead>\n",
       "  <tbody>\n",
       "    <tr>\n",
       "      <th>0</th>\n",
       "      <td>0</td>\n",
       "      <td>Explanation\\nWhy the edits made under my usern...</td>\n",
       "      <td>0</td>\n",
       "    </tr>\n",
       "    <tr>\n",
       "      <th>1</th>\n",
       "      <td>1</td>\n",
       "      <td>D'aww! He matches this background colour I'm s...</td>\n",
       "      <td>0</td>\n",
       "    </tr>\n",
       "    <tr>\n",
       "      <th>2</th>\n",
       "      <td>2</td>\n",
       "      <td>Hey man, I'm really not trying to edit war. It...</td>\n",
       "      <td>0</td>\n",
       "    </tr>\n",
       "    <tr>\n",
       "      <th>3</th>\n",
       "      <td>3</td>\n",
       "      <td>\"\\nMore\\nI can't make any real suggestions on ...</td>\n",
       "      <td>0</td>\n",
       "    </tr>\n",
       "    <tr>\n",
       "      <th>4</th>\n",
       "      <td>4</td>\n",
       "      <td>You, sir, are my hero. Any chance you remember...</td>\n",
       "      <td>0</td>\n",
       "    </tr>\n",
       "    <tr>\n",
       "      <th>5</th>\n",
       "      <td>5</td>\n",
       "      <td>\"\\n\\nCongratulations from me as well, use the ...</td>\n",
       "      <td>0</td>\n",
       "    </tr>\n",
       "    <tr>\n",
       "      <th>6</th>\n",
       "      <td>6</td>\n",
       "      <td>COCKSUCKER BEFORE YOU PISS AROUND ON MY WORK</td>\n",
       "      <td>1</td>\n",
       "    </tr>\n",
       "    <tr>\n",
       "      <th>7</th>\n",
       "      <td>7</td>\n",
       "      <td>Your vandalism to the Matt Shirvington article...</td>\n",
       "      <td>0</td>\n",
       "    </tr>\n",
       "    <tr>\n",
       "      <th>8</th>\n",
       "      <td>8</td>\n",
       "      <td>Sorry if the word 'nonsense' was offensive to ...</td>\n",
       "      <td>0</td>\n",
       "    </tr>\n",
       "    <tr>\n",
       "      <th>9</th>\n",
       "      <td>9</td>\n",
       "      <td>alignment on this subject and which are contra...</td>\n",
       "      <td>0</td>\n",
       "    </tr>\n",
       "  </tbody>\n",
       "</table>\n",
       "</div>"
      ],
      "text/plain": [
       "   Unnamed: 0                                               text  toxic\n",
       "0           0  Explanation\\nWhy the edits made under my usern...      0\n",
       "1           1  D'aww! He matches this background colour I'm s...      0\n",
       "2           2  Hey man, I'm really not trying to edit war. It...      0\n",
       "3           3  \"\\nMore\\nI can't make any real suggestions on ...      0\n",
       "4           4  You, sir, are my hero. Any chance you remember...      0\n",
       "5           5  \"\\n\\nCongratulations from me as well, use the ...      0\n",
       "6           6       COCKSUCKER BEFORE YOU PISS AROUND ON MY WORK      1\n",
       "7           7  Your vandalism to the Matt Shirvington article...      0\n",
       "8           8  Sorry if the word 'nonsense' was offensive to ...      0\n",
       "9           9  alignment on this subject and which are contra...      0"
      ]
     },
     "execution_count": 3,
     "metadata": {},
     "output_type": "execute_result"
    }
   ],
   "source": [
    "data.info()\n",
    "data.head(10)"
   ]
  },
  {
   "cell_type": "markdown",
   "metadata": {},
   "source": [
    "Согласно документации к данным, в таблице `toxic_comments` имеются следующие столбцы:\n",
    "* `text` - текст\n",
    "* `toxic` - размер токсичности\n",
    "* `Unnamed` - номер текста\n",
    "\n",
    "Проверим есть ли пропуски."
   ]
  },
  {
   "cell_type": "code",
   "execution_count": 4,
   "metadata": {},
   "outputs": [
    {
     "data": {
      "text/plain": [
       "Unnamed: 0    0\n",
       "text          0\n",
       "toxic         0\n",
       "dtype: int64"
      ]
     },
     "execution_count": 4,
     "metadata": {},
     "output_type": "execute_result"
    }
   ],
   "source": [
    "data.isna().sum()"
   ]
  },
  {
   "cell_type": "markdown",
   "metadata": {},
   "source": [
    "Пропущенных значений не обнаружено.\n",
    "\n",
    "Посмотрим на распределение значений столбца `toxic`."
   ]
  },
  {
   "cell_type": "code",
   "execution_count": 5,
   "metadata": {},
   "outputs": [
    {
     "data": {
      "image/png": "[encoded data removed]",
      "text/plain": [
       "<Figure size 648x180 with 1 Axes>"
      ]
     },
     "metadata": {
      "needs_background": "light"
     },
     "output_type": "display_data"
    }
   ],
   "source": [
    "counts = data['toxic'].value_counts()\n",
    "plt.figure(figsize = (9, 2.5))\n",
    "ax = sns.barplot(x = counts.values, y = counts.index.astype('str'))\n",
    "plt.grid(axis='both', alpha=.3)\n",
    "plt.xlabel('Показатель токсичности')\n",
    "plt.ylabel('Количество значений')\n",
    "plt.title('Гистограмма токсичности')\n",
    "plt.show()"
   ]
  },
  {
   "cell_type": "markdown",
   "metadata": {},
   "source": [
    "Явно видна несбалансированность классов.\n",
    "\n",
    "Теперь необходимо подготовить текст для обучения:\n",
    "- привести текст к нижнему регистру\n",
    "- удалить все знаки препинания\n",
    "- удалить стоп-слова\n",
    "- лемматизировать слова\n",
    "\n",
    "Напишем функцию подготовки."
   ]
  },
  {
   "cell_type": "code",
   "execution_count": 6,
   "metadata": {},
   "outputs": [],
   "source": [
    "def penn2morphy(penntag):\n",
    "    morphy_tag = {'NN':'n', 'JJ':'a',\n",
    "                  'VB':'v', 'RB':'r'}\n",
    "    try:\n",
    "        return morphy_tag[penntag[:2]]\n",
    "    except:\n",
    "        return 'n' \n",
    "\n",
    "def change(text):\n",
    "    lemma = WordNetLemmatizer()\n",
    "    stop_words = set(stopwords.words('english'))\n",
    "    text = re.sub(r'[^a-zA-z ]', ' ', text)\n",
    "    text = text.lower()\n",
    "    token = nltk.word_tokenize(text)\n",
    "    text = [word for word in token if word not in stop_words]\n",
    "    text = [lemma.lemmatize(word, pos=penn2morphy(tag)) for word, tag in pos_tag(text)]\n",
    "    return ' '.join(text)"
   ]
  },
  {
   "cell_type": "code",
   "execution_count": 8,
   "metadata": {},
   "outputs": [],
   "source": [
    "data['change'] = data['text'].apply(change)"
   ]
  },
  {
   "cell_type": "code",
   "execution_count": 9,
   "metadata": {},
   "outputs": [
    {
     "name": "stdout",
     "output_type": "stream",
     "text": [
      "<class 'pandas.core.frame.DataFrame'>\n",
      "RangeIndex: 159292 entries, 0 to 159291\n",
      "Data columns (total 4 columns):\n",
      " #   Column      Non-Null Count   Dtype \n",
      "---  ------      --------------   ----- \n",
      " 0   Unnamed: 0  159292 non-null  int64 \n",
      " 1   text        159292 non-null  object\n",
      " 2   toxic       159292 non-null  int64 \n",
      " 3   change      159292 non-null  object\n",
      "dtypes: int64(2), object(2)\n",
      "memory usage: 4.9+ MB\n"
     ]
    },
    {
     "data": {
      "text/html": [
       "<div>\n",
       "<style scoped>\n",
       "    .dataframe tbody tr th:only-of-type {\n",
       "        vertical-align: middle;\n",
       "    }\n",
       "\n",
       "    .dataframe tbody tr th {\n",
       "        vertical-align: top;\n",
       "    }\n",
       "\n",
       "    .dataframe thead th {\n",
       "        text-align: right;\n",
       "    }\n",
       "</style>\n",
       "<table border=\"1\" class=\"dataframe\">\n",
       "  <thead>\n",
       "    <tr style=\"text-align: right;\">\n",
       "      <th></th>\n",
       "      <th>Unnamed: 0</th>\n",
       "      <th>text</th>\n",
       "      <th>toxic</th>\n",
       "      <th>change</th>\n",
       "    </tr>\n",
       "  </thead>\n",
       "  <tbody>\n",
       "    <tr>\n",
       "      <th>0</th>\n",
       "      <td>0</td>\n",
       "      <td>Explanation\\nWhy the edits made under my usern...</td>\n",
       "      <td>0</td>\n",
       "      <td>explanation edits make username hardcore metal...</td>\n",
       "    </tr>\n",
       "    <tr>\n",
       "      <th>1</th>\n",
       "      <td>1</td>\n",
       "      <td>D'aww! He matches this background colour I'm s...</td>\n",
       "      <td>0</td>\n",
       "      <td>aww match background colour seemingly stuck th...</td>\n",
       "    </tr>\n",
       "    <tr>\n",
       "      <th>2</th>\n",
       "      <td>2</td>\n",
       "      <td>Hey man, I'm really not trying to edit war. It...</td>\n",
       "      <td>0</td>\n",
       "      <td>hey man really try edit war guy constantly rem...</td>\n",
       "    </tr>\n",
       "    <tr>\n",
       "      <th>3</th>\n",
       "      <td>3</td>\n",
       "      <td>\"\\nMore\\nI can't make any real suggestions on ...</td>\n",
       "      <td>0</td>\n",
       "      <td>make real suggestion improvement wonder sectio...</td>\n",
       "    </tr>\n",
       "    <tr>\n",
       "      <th>4</th>\n",
       "      <td>4</td>\n",
       "      <td>You, sir, are my hero. Any chance you remember...</td>\n",
       "      <td>0</td>\n",
       "      <td>sir hero chance remember page</td>\n",
       "    </tr>\n",
       "    <tr>\n",
       "      <th>5</th>\n",
       "      <td>5</td>\n",
       "      <td>\"\\n\\nCongratulations from me as well, use the ...</td>\n",
       "      <td>0</td>\n",
       "      <td>congratulation well use tool well talk</td>\n",
       "    </tr>\n",
       "    <tr>\n",
       "      <th>6</th>\n",
       "      <td>6</td>\n",
       "      <td>COCKSUCKER BEFORE YOU PISS AROUND ON MY WORK</td>\n",
       "      <td>1</td>\n",
       "      <td>cocksucker piss around work</td>\n",
       "    </tr>\n",
       "    <tr>\n",
       "      <th>7</th>\n",
       "      <td>7</td>\n",
       "      <td>Your vandalism to the Matt Shirvington article...</td>\n",
       "      <td>0</td>\n",
       "      <td>vandalism matt shirvington article revert plea...</td>\n",
       "    </tr>\n",
       "    <tr>\n",
       "      <th>8</th>\n",
       "      <td>8</td>\n",
       "      <td>Sorry if the word 'nonsense' was offensive to ...</td>\n",
       "      <td>0</td>\n",
       "      <td>sorry word nonsense offensive anyway intend wr...</td>\n",
       "    </tr>\n",
       "    <tr>\n",
       "      <th>9</th>\n",
       "      <td>9</td>\n",
       "      <td>alignment on this subject and which are contra...</td>\n",
       "      <td>0</td>\n",
       "      <td>alignment subject contrary dulithgow</td>\n",
       "    </tr>\n",
       "  </tbody>\n",
       "</table>\n",
       "</div>"
      ],
      "text/plain": [
       "   Unnamed: 0                                               text  toxic  \\\n",
       "0           0  Explanation\\nWhy the edits made under my usern...      0   \n",
       "1           1  D'aww! He matches this background colour I'm s...      0   \n",
       "2           2  Hey man, I'm really not trying to edit war. It...      0   \n",
       "3           3  \"\\nMore\\nI can't make any real suggestions on ...      0   \n",
       "4           4  You, sir, are my hero. Any chance you remember...      0   \n",
       "5           5  \"\\n\\nCongratulations from me as well, use the ...      0   \n",
       "6           6       COCKSUCKER BEFORE YOU PISS AROUND ON MY WORK      1   \n",
       "7           7  Your vandalism to the Matt Shirvington article...      0   \n",
       "8           8  Sorry if the word 'nonsense' was offensive to ...      0   \n",
       "9           9  alignment on this subject and which are contra...      0   \n",
       "\n",
       "                                              change  \n",
       "0  explanation edits make username hardcore metal...  \n",
       "1  aww match background colour seemingly stuck th...  \n",
       "2  hey man really try edit war guy constantly rem...  \n",
       "3  make real suggestion improvement wonder sectio...  \n",
       "4                      sir hero chance remember page  \n",
       "5             congratulation well use tool well talk  \n",
       "6                        cocksucker piss around work  \n",
       "7  vandalism matt shirvington article revert plea...  \n",
       "8  sorry word nonsense offensive anyway intend wr...  \n",
       "9               alignment subject contrary dulithgow  "
      ]
     },
     "execution_count": 9,
     "metadata": {},
     "output_type": "execute_result"
    }
   ],
   "source": [
    "data.info()\n",
    "data.head(10)"
   ]
  },
  {
   "cell_type": "markdown",
   "metadata": {},
   "source": [
    "**Вывод этапа**:\n",
    "- Данные загружены и проверены на наличие пропущеных значений (пропусков не обнаружено).\n",
    "- Построена гистограмма для столбца `toxic`, по которой выявлена несбалансированность.\n",
    "- Преобразован текст для дальнейшего обучения моделей."
   ]
  },
  {
   "cell_type": "markdown",
   "metadata": {},
   "source": [
    "## Обучение"
   ]
  },
  {
   "cell_type": "markdown",
   "metadata": {},
   "source": [
    "### Подготовка данных"
   ]
  },
  {
   "cell_type": "markdown",
   "metadata": {},
   "source": [
    "Выделим целевой признак и атрибуты."
   ]
  },
  {
   "cell_type": "code",
   "execution_count": 10,
   "metadata": {},
   "outputs": [],
   "source": [
    "target = data['toxic']\n",
    "features = data['change']"
   ]
  },
  {
   "cell_type": "markdown",
   "metadata": {},
   "source": [
    "Разделим данные на обучающую и тестовую выборки."
   ]
  },
  {
   "cell_type": "code",
   "execution_count": 11,
   "metadata": {},
   "outputs": [],
   "source": [
    "features_train, features_test, target_train, target_test = train_test_split(features, \n",
    "                                                                target, test_size=0.25, random_state=123)"
   ]
  },
  {
   "cell_type": "markdown",
   "metadata": {},
   "source": [
    "Выборки готовы, можно приступать к обучению моделей. Для обучения выбраны Логистическая регрессия, Случайный лес и CatBoostClassifier. Также для моделей будем использовать кросс-валидацию."
   ]
  },
  {
   "cell_type": "code",
   "execution_count": 12,
   "metadata": {},
   "outputs": [],
   "source": [
    "cv_params = {'scoring': 'f1', 'return_train_score': True, 'cv': 3}"
   ]
  },
  {
   "cell_type": "code",
   "execution_count": 13,
   "metadata": {},
   "outputs": [],
   "source": [
    "def training(model, params):\n",
    "    pipeline = Pipeline([('tfidf', TfidfVectorizer(min_df = 1)),('model', model)])\n",
    "    grid = GridSearchCV(pipeline, n_jobs = -1, **cv_params, param_grid = params ,verbose = False)\n",
    "    grid.fit(features_train, target_train)\n",
    "    return grid"
   ]
  },
  {
   "cell_type": "markdown",
   "metadata": {},
   "source": [
    "### Логистическая регрессия"
   ]
  },
  {
   "cell_type": "code",
   "execution_count": 14,
   "metadata": {},
   "outputs": [
    {
     "data": {
      "text/plain": [
       "0.7677919968155794"
      ]
     },
     "metadata": {},
     "output_type": "display_data"
    },
    {
     "data": {
      "text/plain": [
       "{'model__C': 10.0, 'model__penalty': 'l2'}"
      ]
     },
     "metadata": {},
     "output_type": "display_data"
    },
    {
     "name": "stdout",
     "output_type": "stream",
     "text": [
      "CPU times: user 2min 42s, sys: 3min 35s, total: 6min 17s\n",
      "Wall time: 6min 17s\n"
     ]
    }
   ],
   "source": [
    "%%time\n",
    "grid_l = training(LogisticRegression(), {\"model__C\":[0.1, 1.0, 10.0], \"model__penalty\":[\"l2\"]})\n",
    "display(grid_l.best_score_)\n",
    "display(grid_l.best_params_)"
   ]
  },
  {
   "cell_type": "markdown",
   "metadata": {},
   "source": [
    "### Случайный лес"
   ]
  },
  {
   "cell_type": "code",
   "execution_count": 15,
   "metadata": {
    "scrolled": true
   },
   "outputs": [
    {
     "data": {
      "text/plain": [
       "0.5477857912568593"
      ]
     },
     "metadata": {},
     "output_type": "display_data"
    },
    {
     "data": {
      "text/plain": [
       "{'model__criterion': 'entropy', 'model__max_depth': 6}"
      ]
     },
     "metadata": {},
     "output_type": "display_data"
    },
    {
     "name": "stdout",
     "output_type": "stream",
     "text": [
      "CPU times: user 2min 2s, sys: 0 ns, total: 2min 2s\n",
      "Wall time: 2min 3s\n"
     ]
    }
   ],
   "source": [
    "%%time\n",
    "grid_dtc = training(DecisionTreeClassifier(), {'model__criterion':['gini','entropy'],\n",
    "                                              'model__max_depth':[2,4,6]})\n",
    "display(grid_dtc.best_score_)\n",
    "display(grid_dtc.best_params_)"
   ]
  },
  {
   "cell_type": "markdown",
   "metadata": {},
   "source": [
    "### CatBoostClassifier"
   ]
  },
  {
   "cell_type": "code",
   "execution_count": 16,
   "metadata": {},
   "outputs": [
    {
     "data": {
      "text/plain": [
       "0.5162155598453831"
      ]
     },
     "metadata": {},
     "output_type": "display_data"
    },
    {
     "data": {
      "text/plain": [
       "{'model__depth': 6, 'model__iterations': 50, 'model__learning_rate': 0.03}"
      ]
     },
     "metadata": {},
     "output_type": "display_data"
    },
    {
     "name": "stdout",
     "output_type": "stream",
     "text": [
      "CPU times: user 26min 44s, sys: 3min 25s, total: 30min 10s\n",
      "Wall time: 30min 31s\n"
     ]
    }
   ],
   "source": [
    "%%time\n",
    "grid_cat = training(CatBoostClassifier(logging_level='Silent'), {'model__depth': [4,6],\n",
    "                 'model__learning_rate' : [0.01,0.03],\n",
    "                  'model__iterations' : [10, 50]})\n",
    "display(grid_cat.best_score_)\n",
    "display(grid_cat.best_params_)"
   ]
  },
  {
   "cell_type": "markdown",
   "metadata": {},
   "source": [
    "**Вывод этапа**:\n",
    "- Проведено разделение данных на тестовую и тренировочную выборки.\n",
    "- Написана функция для работы моделей обучения.\n",
    "- Обучены модели и получены значения метрики F1: `LinearRegression` - 0.77, `DecisionTreeClassifier` - 0.55 и `CatBoostRegressor` - 0.52.\n",
    "\n",
    "Лучшей моделью является LinearRegression, так как он показывает наилучший результат метрики F1."
   ]
  },
  {
   "cell_type": "markdown",
   "metadata": {},
   "source": [
    "## Тестирование"
   ]
  },
  {
   "cell_type": "markdown",
   "metadata": {},
   "source": [
    "Проведем тестирование лучшей модели."
   ]
  },
  {
   "cell_type": "code",
   "execution_count": 17,
   "metadata": {},
   "outputs": [
    {
     "name": "stdout",
     "output_type": "stream",
     "text": [
      "F1 LinearRegression: 0.7858328721638073\n",
      "CPU times: user 1.07 s, sys: 2.08 ms, total: 1.07 s\n",
      "Wall time: 1.08 s\n"
     ]
    }
   ],
   "source": [
    "%%time\n",
    "predict_l = grid_l.predict(features_test)\n",
    "f1_l = f1_score(target_test, predict_l)\n",
    "print(\"F1 LinearRegression:\", f1_l)"
   ]
  },
  {
   "cell_type": "markdown",
   "metadata": {},
   "source": [
    "**Вывод этапа**:\n",
    "Проведено тестирование лучшей модели, получено значение F1 = 0.79"
   ]
  },
  {
   "cell_type": "markdown",
   "metadata": {},
   "source": [
    "## Выводы"
   ]
  },
  {
   "cell_type": "markdown",
   "metadata": {},
   "source": [
    "**Вывод этапа**:\n",
    "\n",
    "Итак, нам предоставлены данные интернет-магазина «Викишоп», которому нужен инструмент, который будет искать токсичные комментарии и отправлять их на модерацию. \n",
    "\n",
    "На этапе подготовки данные были загружены и проверены на наличие пропущеных значений (пропусков не обнаружено). Построена гистограмма для столбца `toxic`, по которой выявлена несбалансированность целевого признака. А также преобразован текст для дальнейшего обучения моделей.\n",
    "\n",
    "Для обучения проведено разделение данных на тестовую и тренировочную выборки, написана функция для работы моделей обучения. Выбрано 3 модели: `LinearRegression`, `DecisionTreeClassifier`, `CatBoostRegressor`.\n",
    "\n",
    "Дальнейшее обучеие дало следующие значения метрики F1: `LinearRegression` - 0.77, `DecisionTreeClassifier` - 0.55 и `CatBoostRegressor` - 0.52. Лучшей моделью является LinearRegression, так как она показывает наилучший результат метрики F1.\n",
    "\n",
    "И последним этапом проведено тестирование линейной регрессии на тестовой выборке, где получен результат F1 = 0.79.\n",
    "\n"
   ]
  }
 ],
 "metadata": {
  "ExecuteTimeLog": [
   {
    "duration": 14213,
    "start_time": "2023-07-14T07:29:51.413Z"
   },
   {
    "duration": 79,
    "start_time": "2023-07-14T07:30:12.440Z"
   },
   {
    "duration": 6,
    "start_time": "2023-07-14T07:30:18.615Z"
   },
   {
    "duration": 3215,
    "start_time": "2023-07-14T08:03:25.168Z"
   },
   {
    "duration": 44,
    "start_time": "2023-07-14T08:03:50.409Z"
   },
   {
    "duration": 28,
    "start_time": "2023-07-14T08:07:29.506Z"
   },
   {
    "duration": 78,
    "start_time": "2023-07-14T08:09:32.208Z"
   },
   {
    "duration": 410,
    "start_time": "2023-07-14T08:13:12.404Z"
   },
   {
    "duration": 221,
    "start_time": "2023-07-14T08:13:34.536Z"
   },
   {
    "duration": 297,
    "start_time": "2023-07-14T08:13:45.963Z"
   },
   {
    "duration": 268,
    "start_time": "2023-07-14T08:13:58.478Z"
   },
   {
    "duration": 241,
    "start_time": "2023-07-14T08:14:04.116Z"
   },
   {
    "duration": 12,
    "start_time": "2023-07-14T08:16:20.897Z"
   },
   {
    "duration": 3294,
    "start_time": "2023-07-14T08:17:43.146Z"
   },
   {
    "duration": 215,
    "start_time": "2023-07-14T08:17:54.392Z"
   },
   {
    "duration": 254,
    "start_time": "2023-07-14T08:18:59.914Z"
   },
   {
    "duration": 302,
    "start_time": "2023-07-14T08:19:04.752Z"
   },
   {
    "duration": 9,
    "start_time": "2023-07-14T08:21:56.982Z"
   },
   {
    "duration": 189,
    "start_time": "2023-07-14T08:23:02.809Z"
   },
   {
    "duration": 266,
    "start_time": "2023-07-14T08:24:04.583Z"
   },
   {
    "duration": 247,
    "start_time": "2023-07-14T08:25:36.988Z"
   },
   {
    "duration": 281,
    "start_time": "2023-07-14T08:25:48.752Z"
   },
   {
    "duration": 1383,
    "start_time": "2023-07-14T08:26:37.941Z"
   },
   {
    "duration": 411,
    "start_time": "2023-07-14T08:26:50.106Z"
   },
   {
    "duration": 255,
    "start_time": "2023-07-14T08:27:43.495Z"
   },
   {
    "duration": 277,
    "start_time": "2023-07-14T08:30:37.654Z"
   },
   {
    "duration": 4,
    "start_time": "2023-07-14T08:38:37.450Z"
   },
   {
    "duration": 10,
    "start_time": "2023-07-14T08:39:45.237Z"
   },
   {
    "duration": 9,
    "start_time": "2023-07-14T08:39:56.104Z"
   },
   {
    "duration": 4,
    "start_time": "2023-07-14T08:40:02.662Z"
   },
   {
    "duration": 90317,
    "start_time": "2023-07-14T08:40:03.139Z"
   },
   {
    "duration": 58,
    "start_time": "2023-07-14T08:41:35.766Z"
   },
   {
    "duration": 10,
    "start_time": "2023-07-14T08:47:50.193Z"
   },
   {
    "duration": 2,
    "start_time": "2023-07-14T08:47:53.994Z"
   },
   {
    "duration": 39,
    "start_time": "2023-07-14T08:51:06.772Z"
   },
   {
    "duration": 37,
    "start_time": "2023-07-14T08:51:11.196Z"
   },
   {
    "duration": 34,
    "start_time": "2023-07-14T08:52:10.251Z"
   },
   {
    "duration": 108,
    "start_time": "2023-07-14T08:52:51.499Z"
   },
   {
    "duration": 65,
    "start_time": "2023-07-14T08:52:55.407Z"
   },
   {
    "duration": 33,
    "start_time": "2023-07-14T08:53:04.437Z"
   },
   {
    "duration": 33,
    "start_time": "2023-07-14T08:53:43.556Z"
   },
   {
    "duration": 2,
    "start_time": "2023-07-14T08:58:49.955Z"
   },
   {
    "duration": 99,
    "start_time": "2023-07-14T09:00:56.749Z"
   },
   {
    "duration": 104,
    "start_time": "2023-07-14T09:01:08.906Z"
   },
   {
    "duration": 243296,
    "start_time": "2023-07-14T09:01:14.523Z"
   },
   {
    "duration": 106,
    "start_time": "2023-07-14T09:05:36.700Z"
   },
   {
    "duration": 119,
    "start_time": "2023-07-14T09:06:14.683Z"
   },
   {
    "duration": 121662,
    "start_time": "2023-07-14T09:06:21.937Z"
   },
   {
    "duration": 4,
    "start_time": "2023-07-14T09:09:50.472Z"
   },
   {
    "duration": 5,
    "start_time": "2023-07-14T09:10:37.723Z"
   },
   {
    "duration": 1644,
    "start_time": "2023-07-14T09:14:56.182Z"
   },
   {
    "duration": 763,
    "start_time": "2023-07-14T09:14:57.828Z"
   },
   {
    "duration": 41,
    "start_time": "2023-07-14T09:14:58.593Z"
   },
   {
    "duration": 29,
    "start_time": "2023-07-14T09:14:58.636Z"
   },
   {
    "duration": 373,
    "start_time": "2023-07-14T09:14:58.668Z"
   },
   {
    "duration": 4,
    "start_time": "2023-07-14T09:14:59.043Z"
   },
   {
    "duration": 90783,
    "start_time": "2023-07-14T09:14:59.048Z"
   },
   {
    "duration": 61,
    "start_time": "2023-07-14T09:16:29.833Z"
   },
   {
    "duration": 37,
    "start_time": "2023-07-14T09:16:29.895Z"
   },
   {
    "duration": 52,
    "start_time": "2023-07-14T09:16:29.934Z"
   },
   {
    "duration": 3,
    "start_time": "2023-07-14T09:16:29.988Z"
   },
   {
    "duration": 90,
    "start_time": "2023-07-14T09:16:29.993Z"
   },
   {
    "duration": 55055,
    "start_time": "2023-07-14T09:16:30.085Z"
   },
   {
    "duration": 1660,
    "start_time": "2023-07-14T09:17:42.284Z"
   },
   {
    "duration": 775,
    "start_time": "2023-07-14T09:17:43.947Z"
   },
   {
    "duration": 40,
    "start_time": "2023-07-14T09:17:44.723Z"
   },
   {
    "duration": 27,
    "start_time": "2023-07-14T09:17:44.764Z"
   },
   {
    "duration": 355,
    "start_time": "2023-07-14T09:17:44.793Z"
   },
   {
    "duration": 4,
    "start_time": "2023-07-14T09:17:45.150Z"
   },
   {
    "duration": 92835,
    "start_time": "2023-07-14T09:17:45.155Z"
   },
   {
    "duration": 61,
    "start_time": "2023-07-14T09:19:17.992Z"
   },
   {
    "duration": 54,
    "start_time": "2023-07-14T09:19:18.055Z"
   },
   {
    "duration": 51,
    "start_time": "2023-07-14T09:19:18.111Z"
   },
   {
    "duration": 4,
    "start_time": "2023-07-14T09:19:18.163Z"
   },
   {
    "duration": 26,
    "start_time": "2023-07-14T09:19:18.169Z"
   },
   {
    "duration": 360420,
    "start_time": "2023-07-14T09:19:18.197Z"
   },
   {
    "duration": 133889,
    "start_time": "2023-07-14T09:25:18.620Z"
   },
   {
    "duration": 1822622,
    "start_time": "2023-07-14T09:27:32.513Z"
   },
   {
    "duration": 1290,
    "start_time": "2023-07-14T09:58:47.888Z"
   },
   {
    "duration": 1355,
    "start_time": "2023-07-14T09:58:50.840Z"
   },
   {
    "duration": 1711,
    "start_time": "2023-07-14T09:58:52.859Z"
   },
   {
    "duration": 330,
    "start_time": "2023-07-14T10:09:09.248Z"
   },
   {
    "duration": 47,
    "start_time": "2023-07-14T11:27:10.929Z"
   },
   {
    "duration": 1781,
    "start_time": "2023-07-14T11:27:20.866Z"
   },
   {
    "duration": 1650,
    "start_time": "2023-07-14T11:27:41.543Z"
   },
   {
    "duration": 3305,
    "start_time": "2023-07-14T11:27:43.697Z"
   },
   {
    "duration": 41,
    "start_time": "2023-07-14T11:27:48.300Z"
   },
   {
    "duration": 27,
    "start_time": "2023-07-14T11:27:51.036Z"
   },
   {
    "duration": 448,
    "start_time": "2023-07-14T11:27:53.921Z"
   },
   {
    "duration": 0,
    "start_time": "2023-07-14T11:30:30.223Z"
   },
   {
    "duration": 302,
    "start_time": "2023-07-14T11:33:31.577Z"
   },
   {
    "duration": 0,
    "start_time": "2023-07-14T11:35:03.673Z"
   },
   {
    "duration": 124,
    "start_time": "2023-07-14T11:35:08.194Z"
   },
   {
    "duration": 11,
    "start_time": "2023-07-14T11:35:29.943Z"
   },
   {
    "duration": 12984,
    "start_time": "2023-07-14T11:35:48.124Z"
   },
   {
    "duration": 5,
    "start_time": "2023-07-14T11:36:09.856Z"
   },
   {
    "duration": 5,
    "start_time": "2023-07-14T11:37:02.899Z"
   },
   {
    "duration": 264,
    "start_time": "2023-07-14T11:39:27.780Z"
   },
   {
    "duration": 18,
    "start_time": "2023-07-14T11:42:10.309Z"
   },
   {
    "duration": 568,
    "start_time": "2023-07-14T11:42:47.825Z"
   },
   {
    "duration": 567,
    "start_time": "2023-07-14T11:43:07.841Z"
   },
   {
    "duration": 16,
    "start_time": "2023-07-14T11:44:02.399Z"
   },
   {
    "duration": 109,
    "start_time": "2023-07-14T11:44:10.121Z"
   },
   {
    "duration": 112,
    "start_time": "2023-07-14T11:44:27.862Z"
   },
   {
    "duration": 107,
    "start_time": "2023-07-14T11:44:42.430Z"
   },
   {
    "duration": 99,
    "start_time": "2023-07-14T11:44:52.377Z"
   },
   {
    "duration": 93,
    "start_time": "2023-07-14T11:45:14.084Z"
   },
   {
    "duration": 97,
    "start_time": "2023-07-14T11:45:19.763Z"
   },
   {
    "duration": 96,
    "start_time": "2023-07-14T11:45:54.611Z"
   },
   {
    "duration": 94,
    "start_time": "2023-07-14T11:46:20.222Z"
   },
   {
    "duration": 91,
    "start_time": "2023-07-14T11:46:55.611Z"
   },
   {
    "duration": 92,
    "start_time": "2023-07-14T11:47:11.075Z"
   },
   {
    "duration": 90,
    "start_time": "2023-07-14T11:47:21.928Z"
   },
   {
    "duration": 91,
    "start_time": "2023-07-14T11:47:53.592Z"
   },
   {
    "duration": 28,
    "start_time": "2023-07-14T11:48:05.092Z"
   },
   {
    "duration": 396,
    "start_time": "2023-07-14T11:48:32.404Z"
   },
   {
    "duration": 139,
    "start_time": "2023-07-14T11:48:41.341Z"
   },
   {
    "duration": 133,
    "start_time": "2023-07-14T11:49:02.424Z"
   },
   {
    "duration": 116,
    "start_time": "2023-07-14T11:49:21.640Z"
   },
   {
    "duration": 117,
    "start_time": "2023-07-14T11:50:30.612Z"
   },
   {
    "duration": 116,
    "start_time": "2023-07-14T11:51:56.832Z"
   },
   {
    "duration": 118,
    "start_time": "2023-07-14T11:52:00.936Z"
   },
   {
    "duration": 116,
    "start_time": "2023-07-14T11:52:05.085Z"
   },
   {
    "duration": 154,
    "start_time": "2023-07-14T11:52:10.728Z"
   },
   {
    "duration": 108,
    "start_time": "2023-07-14T11:52:21.583Z"
   },
   {
    "duration": 1617,
    "start_time": "2023-07-14T11:52:58.016Z"
   },
   {
    "duration": 929,
    "start_time": "2023-07-14T11:53:04.984Z"
   },
   {
    "duration": 54,
    "start_time": "2023-07-14T11:53:05.915Z"
   },
   {
    "duration": 30,
    "start_time": "2023-07-14T11:53:05.970Z"
   },
   {
    "duration": 125,
    "start_time": "2023-07-14T11:53:08.081Z"
   },
   {
    "duration": 216,
    "start_time": "2023-07-14T11:53:33.579Z"
   },
   {
    "duration": 1665,
    "start_time": "2023-07-14T11:53:48.228Z"
   },
   {
    "duration": 847,
    "start_time": "2023-07-14T11:54:47.035Z"
   },
   {
    "duration": 42,
    "start_time": "2023-07-14T11:54:48.457Z"
   },
   {
    "duration": 29,
    "start_time": "2023-07-14T11:54:50.405Z"
   },
   {
    "duration": 209,
    "start_time": "2023-07-14T11:54:53.461Z"
   },
   {
    "duration": 4,
    "start_time": "2023-07-14T11:57:47.028Z"
   },
   {
    "duration": 31460,
    "start_time": "2023-07-14T11:57:47.681Z"
   },
   {
    "duration": 6,
    "start_time": "2023-07-14T12:03:49.498Z"
   },
   {
    "duration": 5,
    "start_time": "2023-07-14T12:05:22.397Z"
   },
   {
    "duration": 554,
    "start_time": "2023-07-14T12:05:30.499Z"
   },
   {
    "duration": 1024,
    "start_time": "2023-07-14T12:06:37.079Z"
   },
   {
    "duration": 538,
    "start_time": "2023-07-14T12:07:02.598Z"
   },
   {
    "duration": 6,
    "start_time": "2023-07-14T12:09:01.961Z"
   },
   {
    "duration": 408,
    "start_time": "2023-07-14T12:09:06.282Z"
   },
   {
    "duration": 3839,
    "start_time": "2023-07-14T12:12:40.285Z"
   },
   {
    "duration": 2445,
    "start_time": "2023-07-14T13:44:08.223Z"
   },
   {
    "duration": 2685,
    "start_time": "2023-07-14T13:44:13.577Z"
   },
   {
    "duration": 40,
    "start_time": "2023-07-14T13:44:16.265Z"
   },
   {
    "duration": 23,
    "start_time": "2023-07-14T13:44:16.307Z"
   },
   {
    "duration": 119,
    "start_time": "2023-07-14T13:44:17.492Z"
   },
   {
    "duration": 4,
    "start_time": "2023-07-14T13:44:25.092Z"
   },
   {
    "duration": 678,
    "start_time": "2023-07-14T13:44:30.392Z"
   },
   {
    "duration": 4,
    "start_time": "2023-07-14T13:44:44.692Z"
   },
   {
    "duration": 426,
    "start_time": "2023-07-14T13:44:45.422Z"
   },
   {
    "duration": 12,
    "start_time": "2023-07-14T13:45:04.534Z"
   },
   {
    "duration": 6,
    "start_time": "2023-07-14T13:45:08.764Z"
   },
   {
    "duration": 989,
    "start_time": "2023-07-14T13:45:09.452Z"
   },
   {
    "duration": 4,
    "start_time": "2023-07-14T13:46:17.409Z"
   },
   {
    "duration": 27282,
    "start_time": "2023-07-14T13:46:17.851Z"
   },
   {
    "duration": 5,
    "start_time": "2023-07-14T13:47:24.808Z"
   },
   {
    "duration": 1723,
    "start_time": "2023-07-14T13:47:41.633Z"
   },
   {
    "duration": 766,
    "start_time": "2023-07-14T13:47:43.358Z"
   },
   {
    "duration": 27,
    "start_time": "2023-07-14T13:47:44.126Z"
   },
   {
    "duration": 19,
    "start_time": "2023-07-14T13:47:44.154Z"
   },
   {
    "duration": 176,
    "start_time": "2023-07-14T13:47:44.175Z"
   },
   {
    "duration": 4,
    "start_time": "2023-07-14T13:47:44.352Z"
   },
   {
    "duration": 11599,
    "start_time": "2023-07-14T13:47:44.357Z"
   },
   {
    "duration": 0,
    "start_time": "2023-07-14T13:47:55.957Z"
   },
   {
    "duration": 0,
    "start_time": "2023-07-14T13:47:55.958Z"
   },
   {
    "duration": 0,
    "start_time": "2023-07-14T13:47:55.959Z"
   },
   {
    "duration": 0,
    "start_time": "2023-07-14T13:47:55.960Z"
   },
   {
    "duration": 0,
    "start_time": "2023-07-14T13:47:55.961Z"
   },
   {
    "duration": 0,
    "start_time": "2023-07-14T13:47:55.961Z"
   },
   {
    "duration": 0,
    "start_time": "2023-07-14T13:47:55.962Z"
   },
   {
    "duration": 1,
    "start_time": "2023-07-14T13:47:55.963Z"
   },
   {
    "duration": 0,
    "start_time": "2023-07-14T13:47:55.964Z"
   },
   {
    "duration": 0,
    "start_time": "2023-07-14T13:47:55.965Z"
   },
   {
    "duration": 0,
    "start_time": "2023-07-14T13:47:55.966Z"
   },
   {
    "duration": 1748,
    "start_time": "2023-07-14T13:51:33.060Z"
   },
   {
    "duration": 740,
    "start_time": "2023-07-14T13:51:34.810Z"
   },
   {
    "duration": 23,
    "start_time": "2023-07-14T13:51:35.552Z"
   },
   {
    "duration": 40,
    "start_time": "2023-07-14T13:51:35.576Z"
   },
   {
    "duration": 188,
    "start_time": "2023-07-14T13:51:35.618Z"
   },
   {
    "duration": 4,
    "start_time": "2023-07-14T13:51:35.807Z"
   },
   {
    "duration": 89227,
    "start_time": "2023-07-14T13:51:35.812Z"
   },
   {
    "duration": 0,
    "start_time": "2023-07-14T13:53:05.041Z"
   },
   {
    "duration": 0,
    "start_time": "2023-07-14T13:53:05.042Z"
   },
   {
    "duration": 0,
    "start_time": "2023-07-14T13:53:05.043Z"
   },
   {
    "duration": 0,
    "start_time": "2023-07-14T13:53:05.043Z"
   },
   {
    "duration": 0,
    "start_time": "2023-07-14T13:53:05.044Z"
   },
   {
    "duration": 0,
    "start_time": "2023-07-14T13:53:05.045Z"
   },
   {
    "duration": 0,
    "start_time": "2023-07-14T13:53:05.046Z"
   },
   {
    "duration": 0,
    "start_time": "2023-07-14T13:53:05.047Z"
   },
   {
    "duration": 0,
    "start_time": "2023-07-14T13:53:05.047Z"
   },
   {
    "duration": 368228,
    "start_time": "2023-07-14T13:53:37.042Z"
   },
   {
    "duration": 64,
    "start_time": "2023-07-14T13:59:45.271Z"
   },
   {
    "duration": 3,
    "start_time": "2023-07-14T13:59:45.337Z"
   },
   {
    "duration": 26,
    "start_time": "2023-07-14T13:59:45.342Z"
   },
   {
    "duration": 3,
    "start_time": "2023-07-14T13:59:45.369Z"
   },
   {
    "duration": 10,
    "start_time": "2023-07-14T13:59:45.374Z"
   },
   {
    "duration": 377930,
    "start_time": "2023-07-14T13:59:45.386Z"
   },
   {
    "duration": 123074,
    "start_time": "2023-07-14T14:06:03.318Z"
   },
   {
    "duration": 1831281,
    "start_time": "2023-07-14T14:08:06.399Z"
   },
   {
    "duration": 1082,
    "start_time": "2023-07-14T14:38:37.682Z"
   }
  ],
  "kernelspec": {
   "display_name": "Python 3 (ipykernel)",
   "language": "python",
   "name": "python3"
  },
  "language_info": {
   "codemirror_mode": {
    "name": "ipython",
    "version": 3
   },
   "file_extension": ".py",
   "mimetype": "text/x-python",
   "name": "python",
   "nbconvert_exporter": "python",
   "pygments_lexer": "ipython3",
   "version": "3.9.13"
  },
  "toc": {
   "base_numbering": 1,
   "nav_menu": {},
   "number_sections": true,
   "sideBar": true,
   "skip_h1_title": true,
   "title_cell": "Содержание",
   "title_sidebar": "Contents",
   "toc_cell": true,
   "toc_position": {
    "height": "calc(100% - 180px)",
    "left": "10px",
    "top": "150px",
    "width": "164.988px"
   },
   "toc_section_display": true,
   "toc_window_display": false
  }
 },
 "nbformat": 4,
 "nbformat_minor": 2
}
