{
 "cells": [
  {
   "cell_type": "markdown",
   "metadata": {},
   "source": [
    "# Исследование рынка видеоигр"
   ]
  },
  {
   "cell_type": "markdown",
   "metadata": {},
   "source": [
    "Из открытых источников доступны исторические данные о продажах игр, оценки пользователей и экспертов, жанры и платформы. Необходимо выявить определяющие успешность игры закономерности, что позволит сделать ставку на потенциально популярный продукт и спланировать рекламные кампании."
   ]
  },
  {
   "cell_type": "markdown",
   "metadata": {},
   "source": [
    "### Подготовка данных "
   ]
  },
  {
   "cell_type": "markdown",
   "metadata": {},
   "source": [
    "Испортируем библиотеки."
   ]
  },
  {
   "cell_type": "code",
   "execution_count": 1,
   "metadata": {},
   "outputs": [],
   "source": [
    "import pandas as pd\n",
    "import numpy as np\n",
    "import matplotlib.pyplot as plt\n",
    "import matplotlib.colors as mcolors\n",
    "from scipy import stats as st\n",
    "import seaborn as sns"
   ]
  },
  {
   "cell_type": "markdown",
   "metadata": {},
   "source": [
    "Прочитаем данные с файла и сохраним в data."
   ]
  },
  {
   "cell_type": "code",
   "execution_count": 2,
   "metadata": {},
   "outputs": [],
   "source": [
    "data = pd.read_csv('/datasets/games.csv')"
   ]
  },
  {
   "cell_type": "markdown",
   "metadata": {},
   "source": [
    "Просмотрим общую информацию о данных."
   ]
  },
  {
   "cell_type": "code",
   "execution_count": 3,
   "metadata": {},
   "outputs": [
    {
     "name": "stdout",
     "output_type": "stream",
     "text": [
      "<class 'pandas.core.frame.DataFrame'>\n",
      "RangeIndex: 16715 entries, 0 to 16714\n",
      "Data columns (total 11 columns):\n",
      " #   Column           Non-Null Count  Dtype  \n",
      "---  ------           --------------  -----  \n",
      " 0   Name             16713 non-null  object \n",
      " 1   Platform         16715 non-null  object \n",
      " 2   Year_of_Release  16446 non-null  float64\n",
      " 3   Genre            16713 non-null  object \n",
      " 4   NA_sales         16715 non-null  float64\n",
      " 5   EU_sales         16715 non-null  float64\n",
      " 6   JP_sales         16715 non-null  float64\n",
      " 7   Other_sales      16715 non-null  float64\n",
      " 8   Critic_Score     8137 non-null   float64\n",
      " 9   User_Score       10014 non-null  object \n",
      " 10  Rating           9949 non-null   object \n",
      "dtypes: float64(6), object(5)\n",
      "memory usage: 1.4+ MB\n"
     ]
    },
    {
     "data": {
      "text/html": [
       "<div>\n",
       "<style scoped>\n",
       "    .dataframe tbody tr th:only-of-type {\n",
       "        vertical-align: middle;\n",
       "    }\n",
       "\n",
       "    .dataframe tbody tr th {\n",
       "        vertical-align: top;\n",
       "    }\n",
       "\n",
       "    .dataframe thead th {\n",
       "        text-align: right;\n",
       "    }\n",
       "</style>\n",
       "<table border=\"1\" class=\"dataframe\">\n",
       "  <thead>\n",
       "    <tr style=\"text-align: right;\">\n",
       "      <th></th>\n",
       "      <th>Name</th>\n",
       "      <th>Platform</th>\n",
       "      <th>Year_of_Release</th>\n",
       "      <th>Genre</th>\n",
       "      <th>NA_sales</th>\n",
       "      <th>EU_sales</th>\n",
       "      <th>JP_sales</th>\n",
       "      <th>Other_sales</th>\n",
       "      <th>Critic_Score</th>\n",
       "      <th>User_Score</th>\n",
       "      <th>Rating</th>\n",
       "    </tr>\n",
       "  </thead>\n",
       "  <tbody>\n",
       "    <tr>\n",
       "      <th>0</th>\n",
       "      <td>Wii Sports</td>\n",
       "      <td>Wii</td>\n",
       "      <td>2006.0</td>\n",
       "      <td>Sports</td>\n",
       "      <td>41.36</td>\n",
       "      <td>28.96</td>\n",
       "      <td>3.77</td>\n",
       "      <td>8.45</td>\n",
       "      <td>76.0</td>\n",
       "      <td>8</td>\n",
       "      <td>E</td>\n",
       "    </tr>\n",
       "    <tr>\n",
       "      <th>1</th>\n",
       "      <td>Super Mario Bros.</td>\n",
       "      <td>NES</td>\n",
       "      <td>1985.0</td>\n",
       "      <td>Platform</td>\n",
       "      <td>29.08</td>\n",
       "      <td>3.58</td>\n",
       "      <td>6.81</td>\n",
       "      <td>0.77</td>\n",
       "      <td>NaN</td>\n",
       "      <td>NaN</td>\n",
       "      <td>NaN</td>\n",
       "    </tr>\n",
       "    <tr>\n",
       "      <th>2</th>\n",
       "      <td>Mario Kart Wii</td>\n",
       "      <td>Wii</td>\n",
       "      <td>2008.0</td>\n",
       "      <td>Racing</td>\n",
       "      <td>15.68</td>\n",
       "      <td>12.76</td>\n",
       "      <td>3.79</td>\n",
       "      <td>3.29</td>\n",
       "      <td>82.0</td>\n",
       "      <td>8.3</td>\n",
       "      <td>E</td>\n",
       "    </tr>\n",
       "    <tr>\n",
       "      <th>3</th>\n",
       "      <td>Wii Sports Resort</td>\n",
       "      <td>Wii</td>\n",
       "      <td>2009.0</td>\n",
       "      <td>Sports</td>\n",
       "      <td>15.61</td>\n",
       "      <td>10.93</td>\n",
       "      <td>3.28</td>\n",
       "      <td>2.95</td>\n",
       "      <td>80.0</td>\n",
       "      <td>8</td>\n",
       "      <td>E</td>\n",
       "    </tr>\n",
       "    <tr>\n",
       "      <th>4</th>\n",
       "      <td>Pokemon Red/Pokemon Blue</td>\n",
       "      <td>GB</td>\n",
       "      <td>1996.0</td>\n",
       "      <td>Role-Playing</td>\n",
       "      <td>11.27</td>\n",
       "      <td>8.89</td>\n",
       "      <td>10.22</td>\n",
       "      <td>1.00</td>\n",
       "      <td>NaN</td>\n",
       "      <td>NaN</td>\n",
       "      <td>NaN</td>\n",
       "    </tr>\n",
       "    <tr>\n",
       "      <th>5</th>\n",
       "      <td>Tetris</td>\n",
       "      <td>GB</td>\n",
       "      <td>1989.0</td>\n",
       "      <td>Puzzle</td>\n",
       "      <td>23.20</td>\n",
       "      <td>2.26</td>\n",
       "      <td>4.22</td>\n",
       "      <td>0.58</td>\n",
       "      <td>NaN</td>\n",
       "      <td>NaN</td>\n",
       "      <td>NaN</td>\n",
       "    </tr>\n",
       "    <tr>\n",
       "      <th>6</th>\n",
       "      <td>New Super Mario Bros.</td>\n",
       "      <td>DS</td>\n",
       "      <td>2006.0</td>\n",
       "      <td>Platform</td>\n",
       "      <td>11.28</td>\n",
       "      <td>9.14</td>\n",
       "      <td>6.50</td>\n",
       "      <td>2.88</td>\n",
       "      <td>89.0</td>\n",
       "      <td>8.5</td>\n",
       "      <td>E</td>\n",
       "    </tr>\n",
       "    <tr>\n",
       "      <th>7</th>\n",
       "      <td>Wii Play</td>\n",
       "      <td>Wii</td>\n",
       "      <td>2006.0</td>\n",
       "      <td>Misc</td>\n",
       "      <td>13.96</td>\n",
       "      <td>9.18</td>\n",
       "      <td>2.93</td>\n",
       "      <td>2.84</td>\n",
       "      <td>58.0</td>\n",
       "      <td>6.6</td>\n",
       "      <td>E</td>\n",
       "    </tr>\n",
       "    <tr>\n",
       "      <th>8</th>\n",
       "      <td>New Super Mario Bros. Wii</td>\n",
       "      <td>Wii</td>\n",
       "      <td>2009.0</td>\n",
       "      <td>Platform</td>\n",
       "      <td>14.44</td>\n",
       "      <td>6.94</td>\n",
       "      <td>4.70</td>\n",
       "      <td>2.24</td>\n",
       "      <td>87.0</td>\n",
       "      <td>8.4</td>\n",
       "      <td>E</td>\n",
       "    </tr>\n",
       "    <tr>\n",
       "      <th>9</th>\n",
       "      <td>Duck Hunt</td>\n",
       "      <td>NES</td>\n",
       "      <td>1984.0</td>\n",
       "      <td>Shooter</td>\n",
       "      <td>26.93</td>\n",
       "      <td>0.63</td>\n",
       "      <td>0.28</td>\n",
       "      <td>0.47</td>\n",
       "      <td>NaN</td>\n",
       "      <td>NaN</td>\n",
       "      <td>NaN</td>\n",
       "    </tr>\n",
       "  </tbody>\n",
       "</table>\n",
       "</div>"
      ],
      "text/plain": [
       "                        Name Platform  Year_of_Release         Genre  \\\n",
       "0                 Wii Sports      Wii           2006.0        Sports   \n",
       "1          Super Mario Bros.      NES           1985.0      Platform   \n",
       "2             Mario Kart Wii      Wii           2008.0        Racing   \n",
       "3          Wii Sports Resort      Wii           2009.0        Sports   \n",
       "4   Pokemon Red/Pokemon Blue       GB           1996.0  Role-Playing   \n",
       "5                     Tetris       GB           1989.0        Puzzle   \n",
       "6      New Super Mario Bros.       DS           2006.0      Platform   \n",
       "7                   Wii Play      Wii           2006.0          Misc   \n",
       "8  New Super Mario Bros. Wii      Wii           2009.0      Platform   \n",
       "9                  Duck Hunt      NES           1984.0       Shooter   \n",
       "\n",
       "   NA_sales  EU_sales  JP_sales  Other_sales  Critic_Score User_Score Rating  \n",
       "0     41.36     28.96      3.77         8.45          76.0          8      E  \n",
       "1     29.08      3.58      6.81         0.77           NaN        NaN    NaN  \n",
       "2     15.68     12.76      3.79         3.29          82.0        8.3      E  \n",
       "3     15.61     10.93      3.28         2.95          80.0          8      E  \n",
       "4     11.27      8.89     10.22         1.00           NaN        NaN    NaN  \n",
       "5     23.20      2.26      4.22         0.58           NaN        NaN    NaN  \n",
       "6     11.28      9.14      6.50         2.88          89.0        8.5      E  \n",
       "7     13.96      9.18      2.93         2.84          58.0        6.6      E  \n",
       "8     14.44      6.94      4.70         2.24          87.0        8.4      E  \n",
       "9     26.93      0.63      0.28         0.47           NaN        NaN    NaN  "
      ]
     },
     "execution_count": 3,
     "metadata": {},
     "output_type": "execute_result"
    }
   ],
   "source": [
    "data.info()\n",
    "data.head(10)"
   ]
  },
  {
   "cell_type": "markdown",
   "metadata": {},
   "source": [
    "Согласно документации к данным, в таблице `games` имеются следующие столбцы:\n",
    "* `Name` — название игры\n",
    "* `Year_of_Release` — год выпуска\n",
    "* `Genre` — жанр игры\n",
    "* `NA_sales` — продажи в Северной Америке (миллионы проданных копий)\n",
    "* `EU_sales` — продажи в Европе (миллионы проданных копий)\n",
    "* `JP_sales` — продажи в Японии (миллионы проданных копий)\n",
    "* `Other_sales` — продажи в других странах (миллионы проданных копий)\n",
    "* `Critic_Score` — оценка критиков (максимум 100)\n",
    "* `User_Score` — оценка пользователей (максимум 10)\n",
    "* `Rating` — рейтинг от организации ESRB (англ. Entertainment Software Rating Board). Эта ассоциация определяет рейтинг компьютерных игр и присваивает им подходящую возрастную категорию."
   ]
  },
  {
   "cell_type": "markdown",
   "metadata": {},
   "source": [
    "Посмотрев на общую информацию о данных, можно уже заметить некотрые ошибки и неудобства в типах даннных (*User_Score* имеет тип object, *Year_of_Release* тип float64) и что слолбцы не соответствуют snake case. Сразу уже можно заметить наличие пропущенных значений в некоторых слобцах."
   ]
  },
  {
   "cell_type": "markdown",
   "metadata": {},
   "source": [
    "**Подготовим данные для дальнейшей работы.**\n",
    "\n",
    "#### Исправим названия столбцов."
   ]
  },
  {
   "cell_type": "code",
   "execution_count": 4,
   "metadata": {},
   "outputs": [
    {
     "name": "stdout",
     "output_type": "stream",
     "text": [
      "<class 'pandas.core.frame.DataFrame'>\n",
      "RangeIndex: 16715 entries, 0 to 16714\n",
      "Data columns (total 11 columns):\n",
      " #   Column           Non-Null Count  Dtype  \n",
      "---  ------           --------------  -----  \n",
      " 0   name             16713 non-null  object \n",
      " 1   platform         16715 non-null  object \n",
      " 2   year_of_release  16446 non-null  float64\n",
      " 3   genre            16713 non-null  object \n",
      " 4   na_sales         16715 non-null  float64\n",
      " 5   eu_sales         16715 non-null  float64\n",
      " 6   jp_sales         16715 non-null  float64\n",
      " 7   other_sales      16715 non-null  float64\n",
      " 8   critic_score     8137 non-null   float64\n",
      " 9   user_score       10014 non-null  object \n",
      " 10  rating           9949 non-null   object \n",
      "dtypes: float64(6), object(5)\n",
      "memory usage: 1.4+ MB\n"
     ]
    }
   ],
   "source": [
    "data.columns = data.columns.str.lower()\n",
    "data.info()"
   ]
  },
  {
   "cell_type": "markdown",
   "metadata": {},
   "source": [
    "#### Обработаем пропущенные значения в столбцах."
   ]
  },
  {
   "cell_type": "code",
   "execution_count": 5,
   "metadata": {},
   "outputs": [
    {
     "data": {
      "text/plain": [
       "name                  2\n",
       "platform              0\n",
       "year_of_release     269\n",
       "genre                 2\n",
       "na_sales              0\n",
       "eu_sales              0\n",
       "jp_sales              0\n",
       "other_sales           0\n",
       "critic_score       8578\n",
       "user_score         6701\n",
       "rating             6766\n",
       "dtype: int64"
      ]
     },
     "execution_count": 5,
     "metadata": {},
     "output_type": "execute_result"
    }
   ],
   "source": [
    "data.isna().sum()"
   ]
  },
  {
   "cell_type": "markdown",
   "metadata": {},
   "source": [
    "Пропущеные значения есть в столбцах *name*, *genre*, *year_of_release*, *critic_score*, *user_score*, *rating*.\n",
    "\n",
    "Рассмотрим строки с отсутсвующим названием."
   ]
  },
  {
   "cell_type": "code",
   "execution_count": 6,
   "metadata": {},
   "outputs": [
    {
     "data": {
      "text/html": [
       "<div>\n",
       "<style scoped>\n",
       "    .dataframe tbody tr th:only-of-type {\n",
       "        vertical-align: middle;\n",
       "    }\n",
       "\n",
       "    .dataframe tbody tr th {\n",
       "        vertical-align: top;\n",
       "    }\n",
       "\n",
       "    .dataframe thead th {\n",
       "        text-align: right;\n",
       "    }\n",
       "</style>\n",
       "<table border=\"1\" class=\"dataframe\">\n",
       "  <thead>\n",
       "    <tr style=\"text-align: right;\">\n",
       "      <th></th>\n",
       "      <th>name</th>\n",
       "      <th>platform</th>\n",
       "      <th>year_of_release</th>\n",
       "      <th>genre</th>\n",
       "      <th>na_sales</th>\n",
       "      <th>eu_sales</th>\n",
       "      <th>jp_sales</th>\n",
       "      <th>other_sales</th>\n",
       "      <th>critic_score</th>\n",
       "      <th>user_score</th>\n",
       "      <th>rating</th>\n",
       "    </tr>\n",
       "  </thead>\n",
       "  <tbody>\n",
       "    <tr>\n",
       "      <th>659</th>\n",
       "      <td>NaN</td>\n",
       "      <td>GEN</td>\n",
       "      <td>1993.0</td>\n",
       "      <td>NaN</td>\n",
       "      <td>1.78</td>\n",
       "      <td>0.53</td>\n",
       "      <td>0.00</td>\n",
       "      <td>0.08</td>\n",
       "      <td>NaN</td>\n",
       "      <td>NaN</td>\n",
       "      <td>NaN</td>\n",
       "    </tr>\n",
       "    <tr>\n",
       "      <th>14244</th>\n",
       "      <td>NaN</td>\n",
       "      <td>GEN</td>\n",
       "      <td>1993.0</td>\n",
       "      <td>NaN</td>\n",
       "      <td>0.00</td>\n",
       "      <td>0.00</td>\n",
       "      <td>0.03</td>\n",
       "      <td>0.00</td>\n",
       "      <td>NaN</td>\n",
       "      <td>NaN</td>\n",
       "      <td>NaN</td>\n",
       "    </tr>\n",
       "  </tbody>\n",
       "</table>\n",
       "</div>"
      ],
      "text/plain": [
       "      name platform  year_of_release genre  na_sales  eu_sales  jp_sales  \\\n",
       "659    NaN      GEN           1993.0   NaN      1.78      0.53      0.00   \n",
       "14244  NaN      GEN           1993.0   NaN      0.00      0.00      0.03   \n",
       "\n",
       "       other_sales  critic_score user_score rating  \n",
       "659           0.08           NaN        NaN    NaN  \n",
       "14244         0.00           NaN        NaN    NaN  "
      ]
     },
     "execution_count": 6,
     "metadata": {},
     "output_type": "execute_result"
    }
   ],
   "source": [
    " data[data['name'].isna()]"
   ]
  },
  {
   "cell_type": "markdown",
   "metadata": {},
   "source": [
    "Видим интересный факт, строки с отсутсвием названия и отсутвием жанра - это одни и те же строки.\n",
    "\n",
    "Посмотрим на значения *user_score*"
   ]
  },
  {
   "cell_type": "code",
   "execution_count": 7,
   "metadata": {},
   "outputs": [
    {
     "data": {
      "text/plain": [
       "array(['tbd', '9.7', '9.6', '9.5', '9.4', '9.3', '9.2', '9.1', '9', '8.9',\n",
       "       '8.8', '8.7', '8.6', '8.5', '8.4', '8.3', '8.2', '8.1', '8', '7.9',\n",
       "       '7.8', '7.7', '7.6', '7.5', '7.4', '7.3', '7.2', '7.1', '7', '6.9',\n",
       "       '6.8', '6.7', '6.6', '6.5', '6.4', '6.3', '6.2', '6.1', '6', '5.9',\n",
       "       '5.8', '5.7', '5.6', '5.5', '5.4', '5.3', '5.2', '5.1', '5', '4.9',\n",
       "       '4.8', '4.7', '4.6', '4.5', '4.4', '4.3', '4.2', '4.1', '4', '3.9',\n",
       "       '3.8', '3.7', '3.6', '3.5', '3.4', '3.3', '3.2', '3.1', '3', '2.9',\n",
       "       '2.8', '2.7', '2.6', '2.5', '2.4', '2.3', '2.2', '2.1', '2', '1.9',\n",
       "       '1.8', '1.7', '1.6', '1.5', '1.4', '1.3', '1.2', '1.1', '1', '0.9',\n",
       "       '0.7', '0.6', '0.5', '0.3', '0.2', '0'], dtype=object)"
      ]
     },
     "execution_count": 7,
     "metadata": {},
     "output_type": "execute_result"
    }
   ],
   "source": [
    "(data[data['user_score'].notna()]['user_score'].sort_values(ascending = False).unique())"
   ]
  },
  {
   "cell_type": "markdown",
   "metadata": {},
   "source": [
    "Видим, что имеется аббревиатура \"tbd\", которая рассшифровывается как\"to be defined\", что значит \"предстоит определить\". У такой игры еще нет рейтинга, заменить его на 0 нельзя, так как отсутвие рейтинга =! нулевому ретингу (игры могут смешаться с играми с действительно незкой популярностью), поэтому заменим *tbd* на *Nan*"
   ]
  },
  {
   "cell_type": "code",
   "execution_count": 8,
   "metadata": {},
   "outputs": [],
   "source": [
    "data.loc[data['user_score'] == 'tbd', 'user_score'] = float('nan')"
   ]
  },
  {
   "cell_type": "markdown",
   "metadata": {},
   "source": [
    "Посмотрим на значения *rating*"
   ]
  },
  {
   "cell_type": "code",
   "execution_count": 9,
   "metadata": {},
   "outputs": [
    {
     "data": {
      "text/plain": [
       "array(['T', 'RP', 'M', 'K-A', 'EC', 'E10+', 'E', 'AO'], dtype=object)"
      ]
     },
     "execution_count": 9,
     "metadata": {},
     "output_type": "execute_result"
    }
   ],
   "source": [
    "(data[data['rating'].notna()]['rating'].sort_values(ascending = False).unique())"
   ]
  },
  {
   "cell_type": "markdown",
   "metadata": {},
   "source": [
    "Видно устаревший рейтинг *K-A* (*Kids to Adults*), который сейчас обозначается как *E* (*Everyone*)."
   ]
  },
  {
   "cell_type": "code",
   "execution_count": 10,
   "metadata": {},
   "outputs": [],
   "source": [
    "data['rating'] = data['rating'].replace('K-A', 'E')"
   ]
  },
  {
   "cell_type": "markdown",
   "metadata": {},
   "source": [
    "Еще раз взглянем на пропуски"
   ]
  },
  {
   "cell_type": "code",
   "execution_count": 11,
   "metadata": {},
   "outputs": [
    {
     "data": {
      "text/plain": [
       "name                  2\n",
       "platform              0\n",
       "year_of_release     269\n",
       "genre                 2\n",
       "na_sales              0\n",
       "eu_sales              0\n",
       "jp_sales              0\n",
       "other_sales           0\n",
       "critic_score       8578\n",
       "user_score         9125\n",
       "rating             6766\n",
       "dtype: int64"
      ]
     },
     "execution_count": 11,
     "metadata": {},
     "output_type": "execute_result"
    }
   ],
   "source": [
    "data.isna().sum()"
   ]
  },
  {
   "cell_type": "markdown",
   "metadata": {},
   "source": [
    "Итак:\n",
    "1. Изучать игры без названия бессмысленно, они могу портить данные. Удалим их.\n",
    "2. Пропусков годах выпуска всего 269 штук из 16715, возможно они появились при переносе данных. Заполнить эти пропуски мы никак не можем, поэтому удалим строки с пропущенным годом.\n",
    "3. Имеющиеся в данных пропуски рейтинга лучше заполнить значением *RP* (*Rating Pending* - рейтинг ожидается). Такие значения ставятся у игр, которые были отправлены в ESRB и ожидает присвоения рейтинга. Конечно не факт, что все игры с пропусками были отправлены на проверку, но фактически и те и другие игры рейтинга не имеют.\n",
    "4. Пропуски в столбцах рейтингов критиков и пользователей оставим без изменений. Не каждая игра могла дойти до оценки критиков или отдельых регионов, заполнить такие данные нечем, но и удалять их тоже нельзя."
   ]
  },
  {
   "cell_type": "code",
   "execution_count": 12,
   "metadata": {},
   "outputs": [
    {
     "data": {
      "text/plain": [
       "name                  0\n",
       "platform              0\n",
       "year_of_release       0\n",
       "genre                 0\n",
       "na_sales              0\n",
       "eu_sales              0\n",
       "jp_sales              0\n",
       "other_sales           0\n",
       "critic_score       8461\n",
       "user_score         8981\n",
       "rating                0\n",
       "dtype: int64"
      ]
     },
     "execution_count": 12,
     "metadata": {},
     "output_type": "execute_result"
    }
   ],
   "source": [
    "data = data.dropna(subset=['name']).reset_index(drop = True)\n",
    "data = data.dropna(subset=['year_of_release']).reset_index(drop = True)\n",
    "data['rating'] = data['rating'].fillna(value =' RP')\n",
    "# проверка изменения данных\n",
    "data.isna().sum()"
   ]
  },
  {
   "cell_type": "markdown",
   "metadata": {},
   "source": [
    "#### Обработка типов данных"
   ]
  },
  {
   "cell_type": "markdown",
   "metadata": {},
   "source": [
    "Преобразуем типы года выпуска и оценки пользователей"
   ]
  },
  {
   "cell_type": "code",
   "execution_count": 13,
   "metadata": {},
   "outputs": [
    {
     "name": "stdout",
     "output_type": "stream",
     "text": [
      "<class 'pandas.core.frame.DataFrame'>\n",
      "RangeIndex: 16444 entries, 0 to 16443\n",
      "Data columns (total 11 columns):\n",
      " #   Column           Non-Null Count  Dtype  \n",
      "---  ------           --------------  -----  \n",
      " 0   name             16444 non-null  object \n",
      " 1   platform         16444 non-null  object \n",
      " 2   year_of_release  16444 non-null  int64  \n",
      " 3   genre            16444 non-null  object \n",
      " 4   na_sales         16444 non-null  float64\n",
      " 5   eu_sales         16444 non-null  float64\n",
      " 6   jp_sales         16444 non-null  float64\n",
      " 7   other_sales      16444 non-null  float64\n",
      " 8   critic_score     7983 non-null   float64\n",
      " 9   user_score       7463 non-null   float64\n",
      " 10  rating           16444 non-null  object \n",
      "dtypes: float64(6), int64(1), object(4)\n",
      "memory usage: 1.4+ MB\n"
     ]
    }
   ],
   "source": [
    "data['year_of_release'] = data['year_of_release'].astype(int)\n",
    "data['user_score'] = data['user_score'].astype(float)\n",
    "data.info()"
   ]
  },
  {
   "cell_type": "markdown",
   "metadata": {},
   "source": [
    "#### Обработка дубликатов"
   ]
  },
  {
   "cell_type": "markdown",
   "metadata": {},
   "source": [
    "Проверим наличие явных дубликатов."
   ]
  },
  {
   "cell_type": "code",
   "execution_count": 14,
   "metadata": {},
   "outputs": [
    {
     "data": {
      "text/plain": [
       "0"
      ]
     },
     "execution_count": 14,
     "metadata": {},
     "output_type": "execute_result"
    }
   ],
   "source": [
    "data.duplicated().sum()"
   ]
  },
  {
   "cell_type": "markdown",
   "metadata": {},
   "source": [
    "Явных дубликатов нет.\n",
    "\n",
    "В таблице `games` есть строковые столбцы *name*, *platform*, *genre*. Проверим их на наличие неявных дубликатов."
   ]
  },
  {
   "cell_type": "code",
   "execution_count": 15,
   "metadata": {},
   "outputs": [
    {
     "data": {
      "text/plain": [
       "array([' Beyblade Burst', ' Fire Emblem Fates', \" Frozen: Olaf's Quest\",\n",
       "       ..., 'uDraw Studio', 'uDraw Studio: Instant Artist',\n",
       "       '¡Shin Chan Flipa en colores!'], dtype=object)"
      ]
     },
     "execution_count": 15,
     "metadata": {},
     "output_type": "execute_result"
    }
   ],
   "source": [
    "# выведем список уникальных значений name\n",
    "data['name'].sort_values().unique()"
   ]
  },
  {
   "cell_type": "markdown",
   "metadata": {},
   "source": [
    "Неявных дубликатов в названиях нет."
   ]
  },
  {
   "cell_type": "code",
   "execution_count": 16,
   "metadata": {},
   "outputs": [
    {
     "data": {
      "text/plain": [
       "array(['2600', '3DO', '3DS', 'DC', 'DS', 'GB', 'GBA', 'GC', 'GEN', 'GG',\n",
       "       'N64', 'NES', 'NG', 'PC', 'PCFX', 'PS', 'PS2', 'PS3', 'PS4', 'PSP',\n",
       "       'PSV', 'SAT', 'SCD', 'SNES', 'TG16', 'WS', 'Wii', 'WiiU', 'X360',\n",
       "       'XB', 'XOne'], dtype=object)"
      ]
     },
     "execution_count": 16,
     "metadata": {},
     "output_type": "execute_result"
    }
   ],
   "source": [
    "# выведем список уникальных значений platform\n",
    "data['platform'].sort_values().unique()"
   ]
  },
  {
   "cell_type": "markdown",
   "metadata": {},
   "source": [
    "Неявных дубликатов в платвормах нет."
   ]
  },
  {
   "cell_type": "code",
   "execution_count": 17,
   "metadata": {},
   "outputs": [
    {
     "data": {
      "text/plain": [
       "array(['Action', 'Adventure', 'Fighting', 'Misc', 'Platform', 'Puzzle',\n",
       "       'Racing', 'Role-Playing', 'Shooter', 'Simulation', 'Sports',\n",
       "       'Strategy'], dtype=object)"
      ]
     },
     "execution_count": 17,
     "metadata": {},
     "output_type": "execute_result"
    }
   ],
   "source": [
    "# выведем список уникальных значений genre\n",
    "data['genre'].sort_values().unique()"
   ]
  },
  {
   "cell_type": "markdown",
   "metadata": {},
   "source": [
    "Неявных дубликатов в платвормах нет."
   ]
  },
  {
   "cell_type": "markdown",
   "metadata": {},
   "source": [
    "#### Посчитаем суммарные продажи во всех регионах"
   ]
  },
  {
   "cell_type": "code",
   "execution_count": 18,
   "metadata": {},
   "outputs": [
    {
     "data": {
      "text/html": [
       "<div>\n",
       "<style scoped>\n",
       "    .dataframe tbody tr th:only-of-type {\n",
       "        vertical-align: middle;\n",
       "    }\n",
       "\n",
       "    .dataframe tbody tr th {\n",
       "        vertical-align: top;\n",
       "    }\n",
       "\n",
       "    .dataframe thead th {\n",
       "        text-align: right;\n",
       "    }\n",
       "</style>\n",
       "<table border=\"1\" class=\"dataframe\">\n",
       "  <thead>\n",
       "    <tr style=\"text-align: right;\">\n",
       "      <th></th>\n",
       "      <th>name</th>\n",
       "      <th>platform</th>\n",
       "      <th>year_of_release</th>\n",
       "      <th>genre</th>\n",
       "      <th>na_sales</th>\n",
       "      <th>eu_sales</th>\n",
       "      <th>jp_sales</th>\n",
       "      <th>other_sales</th>\n",
       "      <th>critic_score</th>\n",
       "      <th>user_score</th>\n",
       "      <th>rating</th>\n",
       "      <th>total_sales</th>\n",
       "    </tr>\n",
       "  </thead>\n",
       "  <tbody>\n",
       "    <tr>\n",
       "      <th>0</th>\n",
       "      <td>Wii Sports</td>\n",
       "      <td>Wii</td>\n",
       "      <td>2006</td>\n",
       "      <td>Sports</td>\n",
       "      <td>41.36</td>\n",
       "      <td>28.96</td>\n",
       "      <td>3.77</td>\n",
       "      <td>8.45</td>\n",
       "      <td>76.0</td>\n",
       "      <td>8.0</td>\n",
       "      <td>E</td>\n",
       "      <td>82.54</td>\n",
       "    </tr>\n",
       "    <tr>\n",
       "      <th>1</th>\n",
       "      <td>Super Mario Bros.</td>\n",
       "      <td>NES</td>\n",
       "      <td>1985</td>\n",
       "      <td>Platform</td>\n",
       "      <td>29.08</td>\n",
       "      <td>3.58</td>\n",
       "      <td>6.81</td>\n",
       "      <td>0.77</td>\n",
       "      <td>NaN</td>\n",
       "      <td>NaN</td>\n",
       "      <td>RP</td>\n",
       "      <td>40.24</td>\n",
       "    </tr>\n",
       "    <tr>\n",
       "      <th>2</th>\n",
       "      <td>Mario Kart Wii</td>\n",
       "      <td>Wii</td>\n",
       "      <td>2008</td>\n",
       "      <td>Racing</td>\n",
       "      <td>15.68</td>\n",
       "      <td>12.76</td>\n",
       "      <td>3.79</td>\n",
       "      <td>3.29</td>\n",
       "      <td>82.0</td>\n",
       "      <td>8.3</td>\n",
       "      <td>E</td>\n",
       "      <td>35.52</td>\n",
       "    </tr>\n",
       "    <tr>\n",
       "      <th>3</th>\n",
       "      <td>Wii Sports Resort</td>\n",
       "      <td>Wii</td>\n",
       "      <td>2009</td>\n",
       "      <td>Sports</td>\n",
       "      <td>15.61</td>\n",
       "      <td>10.93</td>\n",
       "      <td>3.28</td>\n",
       "      <td>2.95</td>\n",
       "      <td>80.0</td>\n",
       "      <td>8.0</td>\n",
       "      <td>E</td>\n",
       "      <td>32.77</td>\n",
       "    </tr>\n",
       "    <tr>\n",
       "      <th>4</th>\n",
       "      <td>Pokemon Red/Pokemon Blue</td>\n",
       "      <td>GB</td>\n",
       "      <td>1996</td>\n",
       "      <td>Role-Playing</td>\n",
       "      <td>11.27</td>\n",
       "      <td>8.89</td>\n",
       "      <td>10.22</td>\n",
       "      <td>1.00</td>\n",
       "      <td>NaN</td>\n",
       "      <td>NaN</td>\n",
       "      <td>RP</td>\n",
       "      <td>31.38</td>\n",
       "    </tr>\n",
       "    <tr>\n",
       "      <th>5</th>\n",
       "      <td>Tetris</td>\n",
       "      <td>GB</td>\n",
       "      <td>1989</td>\n",
       "      <td>Puzzle</td>\n",
       "      <td>23.20</td>\n",
       "      <td>2.26</td>\n",
       "      <td>4.22</td>\n",
       "      <td>0.58</td>\n",
       "      <td>NaN</td>\n",
       "      <td>NaN</td>\n",
       "      <td>RP</td>\n",
       "      <td>30.26</td>\n",
       "    </tr>\n",
       "    <tr>\n",
       "      <th>6</th>\n",
       "      <td>New Super Mario Bros.</td>\n",
       "      <td>DS</td>\n",
       "      <td>2006</td>\n",
       "      <td>Platform</td>\n",
       "      <td>11.28</td>\n",
       "      <td>9.14</td>\n",
       "      <td>6.50</td>\n",
       "      <td>2.88</td>\n",
       "      <td>89.0</td>\n",
       "      <td>8.5</td>\n",
       "      <td>E</td>\n",
       "      <td>29.80</td>\n",
       "    </tr>\n",
       "    <tr>\n",
       "      <th>7</th>\n",
       "      <td>Wii Play</td>\n",
       "      <td>Wii</td>\n",
       "      <td>2006</td>\n",
       "      <td>Misc</td>\n",
       "      <td>13.96</td>\n",
       "      <td>9.18</td>\n",
       "      <td>2.93</td>\n",
       "      <td>2.84</td>\n",
       "      <td>58.0</td>\n",
       "      <td>6.6</td>\n",
       "      <td>E</td>\n",
       "      <td>28.91</td>\n",
       "    </tr>\n",
       "    <tr>\n",
       "      <th>8</th>\n",
       "      <td>New Super Mario Bros. Wii</td>\n",
       "      <td>Wii</td>\n",
       "      <td>2009</td>\n",
       "      <td>Platform</td>\n",
       "      <td>14.44</td>\n",
       "      <td>6.94</td>\n",
       "      <td>4.70</td>\n",
       "      <td>2.24</td>\n",
       "      <td>87.0</td>\n",
       "      <td>8.4</td>\n",
       "      <td>E</td>\n",
       "      <td>28.32</td>\n",
       "    </tr>\n",
       "    <tr>\n",
       "      <th>9</th>\n",
       "      <td>Duck Hunt</td>\n",
       "      <td>NES</td>\n",
       "      <td>1984</td>\n",
       "      <td>Shooter</td>\n",
       "      <td>26.93</td>\n",
       "      <td>0.63</td>\n",
       "      <td>0.28</td>\n",
       "      <td>0.47</td>\n",
       "      <td>NaN</td>\n",
       "      <td>NaN</td>\n",
       "      <td>RP</td>\n",
       "      <td>28.31</td>\n",
       "    </tr>\n",
       "  </tbody>\n",
       "</table>\n",
       "</div>"
      ],
      "text/plain": [
       "                        name platform  year_of_release         genre  \\\n",
       "0                 Wii Sports      Wii             2006        Sports   \n",
       "1          Super Mario Bros.      NES             1985      Platform   \n",
       "2             Mario Kart Wii      Wii             2008        Racing   \n",
       "3          Wii Sports Resort      Wii             2009        Sports   \n",
       "4   Pokemon Red/Pokemon Blue       GB             1996  Role-Playing   \n",
       "5                     Tetris       GB             1989        Puzzle   \n",
       "6      New Super Mario Bros.       DS             2006      Platform   \n",
       "7                   Wii Play      Wii             2006          Misc   \n",
       "8  New Super Mario Bros. Wii      Wii             2009      Platform   \n",
       "9                  Duck Hunt      NES             1984       Shooter   \n",
       "\n",
       "   na_sales  eu_sales  jp_sales  other_sales  critic_score  user_score rating  \\\n",
       "0     41.36     28.96      3.77         8.45          76.0         8.0      E   \n",
       "1     29.08      3.58      6.81         0.77           NaN         NaN     RP   \n",
       "2     15.68     12.76      3.79         3.29          82.0         8.3      E   \n",
       "3     15.61     10.93      3.28         2.95          80.0         8.0      E   \n",
       "4     11.27      8.89     10.22         1.00           NaN         NaN     RP   \n",
       "5     23.20      2.26      4.22         0.58           NaN         NaN     RP   \n",
       "6     11.28      9.14      6.50         2.88          89.0         8.5      E   \n",
       "7     13.96      9.18      2.93         2.84          58.0         6.6      E   \n",
       "8     14.44      6.94      4.70         2.24          87.0         8.4      E   \n",
       "9     26.93      0.63      0.28         0.47           NaN         NaN     RP   \n",
       "\n",
       "   total_sales  \n",
       "0        82.54  \n",
       "1        40.24  \n",
       "2        35.52  \n",
       "3        32.77  \n",
       "4        31.38  \n",
       "5        30.26  \n",
       "6        29.80  \n",
       "7        28.91  \n",
       "8        28.32  \n",
       "9        28.31  "
      ]
     },
     "execution_count": 18,
     "metadata": {},
     "output_type": "execute_result"
    }
   ],
   "source": [
    "data['total_sales'] = data['na_sales'] + data['eu_sales'] + data['jp_sales'] + data['other_sales']\n",
    "data.head(10)"
   ]
  },
  {
   "cell_type": "markdown",
   "metadata": {},
   "source": [
    "**Вывод этапа**:\n",
    "- Проведена проверка данных на начличие пропущенных значений. Пропуски были обнаружены в столбцах `name` (такие строки удалены), `genre` (такие строки удалены), `year_of_release` (такие строки удалены), `rating` (пропуски заменены на значение *RP*), `critic_score` (оставлено без изменений),\t`user_score`(оставлено без изменений).\n",
    "- Приведены имена столбцов к snake_case.\n",
    "- Были проверены неявные и явные дубликаты. Таких обнаружено не было.\n",
    "- Столбец с годом выпуска приведен к типу *int*, `user_score` к типу *float*\n",
    "- Добавлен новый столбец с сумарной продажей во всех регионах `total_sales`"
   ]
  },
  {
   "cell_type": "markdown",
   "metadata": {},
   "source": [
    "### Исследовательский анализ данных"
   ]
  },
  {
   "cell_type": "markdown",
   "metadata": {},
   "source": [
    "#### Посмотрим, сколько игр выпускалось в разные годы"
   ]
  },
  {
   "cell_type": "code",
   "execution_count": 19,
   "metadata": {},
   "outputs": [
    {
     "data": {
      "image/png": "[encoded data removed]",
      "text/plain": [
       "<Figure size 1080x360 with 1 Axes>"
      ]
     },
     "metadata": {
      "needs_background": "light"
     },
     "output_type": "display_data"
    }
   ],
   "source": [
    "plt.figure(figsize=(15,5))\n",
    "plt.plot(data.groupby('year_of_release')['name'].count(), label='Релизы')\n",
    "plt.legend()\n",
    "plt.xlabel('Год выпуска')\n",
    "plt.ylabel('Количество релизов')\n",
    "plt.show()"
   ]
  },
  {
   "cell_type": "code",
   "execution_count": 20,
   "metadata": {},
   "outputs": [
    {
     "name": "stdout",
     "output_type": "stream",
     "text": [
      "year_of_release\n",
      "2008    1427\n",
      "2009    1426\n",
      "2010    1255\n",
      "2007    1197\n",
      "2011    1136\n",
      "2006    1006\n",
      "2005     939\n",
      "2002     829\n",
      "2003     775\n",
      "2004     762\n",
      "Name: name, dtype: int64\n"
     ]
    },
    {
     "data": {
      "text/plain": [
       "year_of_release\n",
       "1982    36\n",
       "1986    21\n",
       "1989    17\n",
       "1983    17\n",
       "1990    16\n",
       "1987    16\n",
       "1988    15\n",
       "1985    14\n",
       "1984    14\n",
       "1980     9\n",
       "Name: name, dtype: int64"
      ]
     },
     "execution_count": 20,
     "metadata": {},
     "output_type": "execute_result"
    }
   ],
   "source": [
    "print(data.groupby('year_of_release')['name'].count().sort_values(ascending=False).head(10))\n",
    "data.groupby('year_of_release')['name'].count().sort_values(ascending=False).tail(10)"
   ]
  },
  {
   "cell_type": "markdown",
   "metadata": {},
   "source": [
    "По графику можем заметить, что начало расцвета игровой индустрии можно отнести к примерно 1993 году, да этого момента количество выпущенных игр не превышало 100 в год, поэтому эти данные нельзя назвать актуальными.\n",
    "\n",
    "Взлет популярности видеоигр можно отнести как развитию и повышению доступности технологий, потому что именно в 90х годах начали повсеместно появляться домашние ПК, и начала расширяться-развиваться индустрия консолей."
   ]
  },
  {
   "cell_type": "markdown",
   "metadata": {},
   "source": [
    "#### Посмотрим, как менялись продажи по платформам"
   ]
  },
  {
   "cell_type": "markdown",
   "metadata": {},
   "source": [
    "Для начала категоризуем различные платформы по видам и производителям."
   ]
  },
  {
   "cell_type": "code",
   "execution_count": 21,
   "metadata": {},
   "outputs": [],
   "source": [
    "# типы платформ\n",
    "def platform_type(platform):\n",
    "    portable = ['GB', 'DS', 'GBA', '3DS', 'PSP', 'PSV', 'GG']\n",
    "    stationary = ['Wii', 'NES', 'X360', 'PS3', 'PS2', 'SNES', 'PS4', 'N64', 'PS', 'XB', '2600', 'XOne',\n",
    "       'WiiU', 'GC', 'GEN', 'DC', 'SAT', 'SCD', 'WS', 'NG', 'TG16','3DO', 'PCFX']\n",
    "    if platform in portable:\n",
    "        platform_type = 'portable'\n",
    "    if platform in stationary:\n",
    "        platform_type = 'stationary' \n",
    "    if platform == 'PC':\n",
    "        platform_type = 'PC'\n",
    "    return platform_type\n",
    "\n",
    "\n",
    "# производители консолей\n",
    "def company_name(platform):\n",
    "    companies = {'Atary' : ['2600'], \n",
    "                'Bandai' : ['WS'],\n",
    "                'Microsoft' : ['X360', 'XOne', 'XB'],\n",
    "                'NEC' : ['TG16', 'PCFX'],\n",
    "                'Nintendo' : ['N64', '3DS', 'Wii', 'WiiU', 'NES', 'SNES', 'GB', 'GC', 'DS', 'GBA'],\n",
    "                'Sega' : ['GG', 'GEN', 'SAT', 'DC', 'SCD'],\n",
    "                'Sony' : ['PS', 'PS2', 'PS3', 'PS4', 'PSV', 'PSP'],\n",
    "                'Panasonic' : ['3DO'],\n",
    "                'SNK' : ['NG'],\n",
    "                'PC' : ['PC']\n",
    "                }\n",
    "    for i, value in companies.items():\n",
    "        if platform in value:\n",
    "            return i"
   ]
  },
  {
   "cell_type": "code",
   "execution_count": 22,
   "metadata": {},
   "outputs": [
    {
     "data": {
      "text/html": [
       "<div>\n",
       "<style scoped>\n",
       "    .dataframe tbody tr th:only-of-type {\n",
       "        vertical-align: middle;\n",
       "    }\n",
       "\n",
       "    .dataframe tbody tr th {\n",
       "        vertical-align: top;\n",
       "    }\n",
       "\n",
       "    .dataframe thead th {\n",
       "        text-align: right;\n",
       "    }\n",
       "</style>\n",
       "<table border=\"1\" class=\"dataframe\">\n",
       "  <thead>\n",
       "    <tr style=\"text-align: right;\">\n",
       "      <th></th>\n",
       "      <th>name</th>\n",
       "      <th>platform</th>\n",
       "      <th>year_of_release</th>\n",
       "      <th>genre</th>\n",
       "      <th>na_sales</th>\n",
       "      <th>eu_sales</th>\n",
       "      <th>jp_sales</th>\n",
       "      <th>other_sales</th>\n",
       "      <th>critic_score</th>\n",
       "      <th>user_score</th>\n",
       "      <th>rating</th>\n",
       "      <th>total_sales</th>\n",
       "      <th>platform_type</th>\n",
       "      <th>company</th>\n",
       "    </tr>\n",
       "  </thead>\n",
       "  <tbody>\n",
       "    <tr>\n",
       "      <th>0</th>\n",
       "      <td>Wii Sports</td>\n",
       "      <td>Wii</td>\n",
       "      <td>2006</td>\n",
       "      <td>Sports</td>\n",
       "      <td>41.36</td>\n",
       "      <td>28.96</td>\n",
       "      <td>3.77</td>\n",
       "      <td>8.45</td>\n",
       "      <td>76.0</td>\n",
       "      <td>8.0</td>\n",
       "      <td>E</td>\n",
       "      <td>82.54</td>\n",
       "      <td>stationary</td>\n",
       "      <td>Nintendo</td>\n",
       "    </tr>\n",
       "    <tr>\n",
       "      <th>1</th>\n",
       "      <td>Super Mario Bros.</td>\n",
       "      <td>NES</td>\n",
       "      <td>1985</td>\n",
       "      <td>Platform</td>\n",
       "      <td>29.08</td>\n",
       "      <td>3.58</td>\n",
       "      <td>6.81</td>\n",
       "      <td>0.77</td>\n",
       "      <td>NaN</td>\n",
       "      <td>NaN</td>\n",
       "      <td>RP</td>\n",
       "      <td>40.24</td>\n",
       "      <td>stationary</td>\n",
       "      <td>Nintendo</td>\n",
       "    </tr>\n",
       "    <tr>\n",
       "      <th>2</th>\n",
       "      <td>Mario Kart Wii</td>\n",
       "      <td>Wii</td>\n",
       "      <td>2008</td>\n",
       "      <td>Racing</td>\n",
       "      <td>15.68</td>\n",
       "      <td>12.76</td>\n",
       "      <td>3.79</td>\n",
       "      <td>3.29</td>\n",
       "      <td>82.0</td>\n",
       "      <td>8.3</td>\n",
       "      <td>E</td>\n",
       "      <td>35.52</td>\n",
       "      <td>stationary</td>\n",
       "      <td>Nintendo</td>\n",
       "    </tr>\n",
       "    <tr>\n",
       "      <th>3</th>\n",
       "      <td>Wii Sports Resort</td>\n",
       "      <td>Wii</td>\n",
       "      <td>2009</td>\n",
       "      <td>Sports</td>\n",
       "      <td>15.61</td>\n",
       "      <td>10.93</td>\n",
       "      <td>3.28</td>\n",
       "      <td>2.95</td>\n",
       "      <td>80.0</td>\n",
       "      <td>8.0</td>\n",
       "      <td>E</td>\n",
       "      <td>32.77</td>\n",
       "      <td>stationary</td>\n",
       "      <td>Nintendo</td>\n",
       "    </tr>\n",
       "    <tr>\n",
       "      <th>4</th>\n",
       "      <td>Pokemon Red/Pokemon Blue</td>\n",
       "      <td>GB</td>\n",
       "      <td>1996</td>\n",
       "      <td>Role-Playing</td>\n",
       "      <td>11.27</td>\n",
       "      <td>8.89</td>\n",
       "      <td>10.22</td>\n",
       "      <td>1.00</td>\n",
       "      <td>NaN</td>\n",
       "      <td>NaN</td>\n",
       "      <td>RP</td>\n",
       "      <td>31.38</td>\n",
       "      <td>portable</td>\n",
       "      <td>Nintendo</td>\n",
       "    </tr>\n",
       "    <tr>\n",
       "      <th>5</th>\n",
       "      <td>Tetris</td>\n",
       "      <td>GB</td>\n",
       "      <td>1989</td>\n",
       "      <td>Puzzle</td>\n",
       "      <td>23.20</td>\n",
       "      <td>2.26</td>\n",
       "      <td>4.22</td>\n",
       "      <td>0.58</td>\n",
       "      <td>NaN</td>\n",
       "      <td>NaN</td>\n",
       "      <td>RP</td>\n",
       "      <td>30.26</td>\n",
       "      <td>portable</td>\n",
       "      <td>Nintendo</td>\n",
       "    </tr>\n",
       "    <tr>\n",
       "      <th>6</th>\n",
       "      <td>New Super Mario Bros.</td>\n",
       "      <td>DS</td>\n",
       "      <td>2006</td>\n",
       "      <td>Platform</td>\n",
       "      <td>11.28</td>\n",
       "      <td>9.14</td>\n",
       "      <td>6.50</td>\n",
       "      <td>2.88</td>\n",
       "      <td>89.0</td>\n",
       "      <td>8.5</td>\n",
       "      <td>E</td>\n",
       "      <td>29.80</td>\n",
       "      <td>portable</td>\n",
       "      <td>Nintendo</td>\n",
       "    </tr>\n",
       "    <tr>\n",
       "      <th>7</th>\n",
       "      <td>Wii Play</td>\n",
       "      <td>Wii</td>\n",
       "      <td>2006</td>\n",
       "      <td>Misc</td>\n",
       "      <td>13.96</td>\n",
       "      <td>9.18</td>\n",
       "      <td>2.93</td>\n",
       "      <td>2.84</td>\n",
       "      <td>58.0</td>\n",
       "      <td>6.6</td>\n",
       "      <td>E</td>\n",
       "      <td>28.91</td>\n",
       "      <td>stationary</td>\n",
       "      <td>Nintendo</td>\n",
       "    </tr>\n",
       "    <tr>\n",
       "      <th>8</th>\n",
       "      <td>New Super Mario Bros. Wii</td>\n",
       "      <td>Wii</td>\n",
       "      <td>2009</td>\n",
       "      <td>Platform</td>\n",
       "      <td>14.44</td>\n",
       "      <td>6.94</td>\n",
       "      <td>4.70</td>\n",
       "      <td>2.24</td>\n",
       "      <td>87.0</td>\n",
       "      <td>8.4</td>\n",
       "      <td>E</td>\n",
       "      <td>28.32</td>\n",
       "      <td>stationary</td>\n",
       "      <td>Nintendo</td>\n",
       "    </tr>\n",
       "    <tr>\n",
       "      <th>9</th>\n",
       "      <td>Duck Hunt</td>\n",
       "      <td>NES</td>\n",
       "      <td>1984</td>\n",
       "      <td>Shooter</td>\n",
       "      <td>26.93</td>\n",
       "      <td>0.63</td>\n",
       "      <td>0.28</td>\n",
       "      <td>0.47</td>\n",
       "      <td>NaN</td>\n",
       "      <td>NaN</td>\n",
       "      <td>RP</td>\n",
       "      <td>28.31</td>\n",
       "      <td>stationary</td>\n",
       "      <td>Nintendo</td>\n",
       "    </tr>\n",
       "  </tbody>\n",
       "</table>\n",
       "</div>"
      ],
      "text/plain": [
       "                        name platform  year_of_release         genre  \\\n",
       "0                 Wii Sports      Wii             2006        Sports   \n",
       "1          Super Mario Bros.      NES             1985      Platform   \n",
       "2             Mario Kart Wii      Wii             2008        Racing   \n",
       "3          Wii Sports Resort      Wii             2009        Sports   \n",
       "4   Pokemon Red/Pokemon Blue       GB             1996  Role-Playing   \n",
       "5                     Tetris       GB             1989        Puzzle   \n",
       "6      New Super Mario Bros.       DS             2006      Platform   \n",
       "7                   Wii Play      Wii             2006          Misc   \n",
       "8  New Super Mario Bros. Wii      Wii             2009      Platform   \n",
       "9                  Duck Hunt      NES             1984       Shooter   \n",
       "\n",
       "   na_sales  eu_sales  jp_sales  other_sales  critic_score  user_score rating  \\\n",
       "0     41.36     28.96      3.77         8.45          76.0         8.0      E   \n",
       "1     29.08      3.58      6.81         0.77           NaN         NaN     RP   \n",
       "2     15.68     12.76      3.79         3.29          82.0         8.3      E   \n",
       "3     15.61     10.93      3.28         2.95          80.0         8.0      E   \n",
       "4     11.27      8.89     10.22         1.00           NaN         NaN     RP   \n",
       "5     23.20      2.26      4.22         0.58           NaN         NaN     RP   \n",
       "6     11.28      9.14      6.50         2.88          89.0         8.5      E   \n",
       "7     13.96      9.18      2.93         2.84          58.0         6.6      E   \n",
       "8     14.44      6.94      4.70         2.24          87.0         8.4      E   \n",
       "9     26.93      0.63      0.28         0.47           NaN         NaN     RP   \n",
       "\n",
       "   total_sales platform_type   company  \n",
       "0        82.54    stationary  Nintendo  \n",
       "1        40.24    stationary  Nintendo  \n",
       "2        35.52    stationary  Nintendo  \n",
       "3        32.77    stationary  Nintendo  \n",
       "4        31.38      portable  Nintendo  \n",
       "5        30.26      portable  Nintendo  \n",
       "6        29.80      portable  Nintendo  \n",
       "7        28.91    stationary  Nintendo  \n",
       "8        28.32    stationary  Nintendo  \n",
       "9        28.31    stationary  Nintendo  "
      ]
     },
     "execution_count": 22,
     "metadata": {},
     "output_type": "execute_result"
    }
   ],
   "source": [
    "data['platform_type'] = data['platform'].apply(platform_type)\n",
    "data['company'] = data['platform'].apply(company_name)\n",
    "data.head(10)"
   ]
  },
  {
   "cell_type": "markdown",
   "metadata": {},
   "source": [
    "Проверим количество релизов по годам у различных платформ."
   ]
  },
  {
   "cell_type": "code",
   "execution_count": 23,
   "metadata": {},
   "outputs": [
    {
     "data": {
      "image/png": "[encoded data removed]",
      "text/plain": [
       "<Figure size 1152x576 with 1 Axes>"
      ]
     },
     "metadata": {
      "needs_background": "light"
     },
     "output_type": "display_data"
    }
   ],
   "source": [
    "# количество релизов по годам\n",
    "platform_type_releases = data.pivot_table(index='platform_type', values = 'name', columns='year_of_release', aggfunc='count').T\n",
    "\n",
    "plt.figure(figsize=(16, 8))\n",
    "plt.plot(platform_type_releases['PC'], marker ='o', label='PC')\n",
    "plt.plot(platform_type_releases['portable'], marker ='o', label='Portable')\n",
    "plt.plot(platform_type_releases['stationary'], marker ='o', label='Stationary')\n",
    "plt.xlabel('Годы')\n",
    "plt.ylabel('Количество игр')\n",
    "plt.grid()\n",
    "plt.legend(loc='upper left')\n",
    "plt.show()"
   ]
  },
  {
   "cell_type": "markdown",
   "metadata": {},
   "source": [
    "На графике видно, что довольно сильное развитие в 90х было у консольных видеоигр, в целом такую популярность можно объяснить, тем, что консоли были более доступными для приобретения пользователей. <br>\n",
    "Рост продаж игр для ПК и портативных консолей начался лишь с 2000го года. К тому же видено отсутвие релизов в 93 году.\n",
    "\n",
    "В целом можно считать данные до 94 года неактуальными, поэтому исключим их из анализа."
   ]
  },
  {
   "cell_type": "code",
   "execution_count": 24,
   "metadata": {},
   "outputs": [],
   "source": [
    "# новая таблица с данными от 94 года\n",
    "data_cut = data[data['year_of_release'] >= 1994]"
   ]
  },
  {
   "cell_type": "markdown",
   "metadata": {},
   "source": [
    "##### Найдем платформы с наибольшими количеством релизов."
   ]
  },
  {
   "cell_type": "code",
   "execution_count": 25,
   "metadata": {},
   "outputs": [
    {
     "data": {
      "image/png": "[encoded data removed]",
      "text/plain": [
       "<Figure size 432x288 with 1 Axes>"
      ]
     },
     "metadata": {
      "needs_background": "light"
     },
     "output_type": "display_data"
    },
    {
     "data": {
      "text/html": [
       "<div>\n",
       "<style scoped>\n",
       "    .dataframe tbody tr th:only-of-type {\n",
       "        vertical-align: middle;\n",
       "    }\n",
       "\n",
       "    .dataframe tbody tr th {\n",
       "        vertical-align: top;\n",
       "    }\n",
       "\n",
       "    .dataframe thead th {\n",
       "        text-align: right;\n",
       "    }\n",
       "</style>\n",
       "<table border=\"1\" class=\"dataframe\">\n",
       "  <thead>\n",
       "    <tr style=\"text-align: right;\">\n",
       "      <th>index</th>\n",
       "      <th>platform</th>\n",
       "      <th>All</th>\n",
       "    </tr>\n",
       "  </thead>\n",
       "  <tbody>\n",
       "    <tr>\n",
       "      <th>14</th>\n",
       "      <td>PS2</td>\n",
       "      <td>2127</td>\n",
       "    </tr>\n",
       "    <tr>\n",
       "      <th>3</th>\n",
       "      <td>DS</td>\n",
       "      <td>2120</td>\n",
       "    </tr>\n",
       "    <tr>\n",
       "      <th>15</th>\n",
       "      <td>PS3</td>\n",
       "      <td>1306</td>\n",
       "    </tr>\n",
       "    <tr>\n",
       "      <th>24</th>\n",
       "      <td>Wii</td>\n",
       "      <td>1286</td>\n",
       "    </tr>\n",
       "    <tr>\n",
       "      <th>26</th>\n",
       "      <td>X360</td>\n",
       "      <td>1232</td>\n",
       "    </tr>\n",
       "    <tr>\n",
       "      <th>17</th>\n",
       "      <td>PSP</td>\n",
       "      <td>1193</td>\n",
       "    </tr>\n",
       "    <tr>\n",
       "      <th>13</th>\n",
       "      <td>PS</td>\n",
       "      <td>1190</td>\n",
       "    </tr>\n",
       "    <tr>\n",
       "      <th>11</th>\n",
       "      <td>PC</td>\n",
       "      <td>950</td>\n",
       "    </tr>\n",
       "    <tr>\n",
       "      <th>5</th>\n",
       "      <td>GBA</td>\n",
       "      <td>811</td>\n",
       "    </tr>\n",
       "    <tr>\n",
       "      <th>27</th>\n",
       "      <td>XB</td>\n",
       "      <td>803</td>\n",
       "    </tr>\n",
       "  </tbody>\n",
       "</table>\n",
       "</div>"
      ],
      "text/plain": [
       "index platform   All\n",
       "14         PS2  2127\n",
       "3           DS  2120\n",
       "15         PS3  1306\n",
       "24         Wii  1286\n",
       "26        X360  1232\n",
       "17         PSP  1193\n",
       "13          PS  1190\n",
       "11          PC   950\n",
       "5          GBA   811\n",
       "27          XB   803"
      ]
     },
     "execution_count": 25,
     "metadata": {},
     "output_type": "execute_result"
    }
   ],
   "source": [
    "platform_releases = data_cut.pivot_table(index='platform', values='total_sales', columns = 'year_of_release', \n",
    "                                      aggfunc = 'count', fill_value=0, margins=True).reset_index()\n",
    "platform_releases = platform_releases[:-1]\n",
    "platform_releases = platform_releases.rename_axis('index',  axis=\"columns\")\n",
    "\n",
    "# топ платформ по количеству выпущенных игр\n",
    "platforms_top_releases = platform_releases.sort_values(by='All', ascending=False)[['platform', 'All']].head(10)\n",
    "\n",
    "# гистограмма\n",
    "fig, ax = plt.subplots()\n",
    "\n",
    "clist = [(0, \"red\"), (0.125, \"red\"), (0.25, \"orange\"), (0.5, \"green\"), \n",
    "         (0.7, \"green\"), (0.75, \"blue\"), (1, \"blue\")]\n",
    "rvb = mcolors.LinearSegmentedColormap.from_list(\"\", clist)\n",
    "\n",
    "N = 10\n",
    "x = np.arange(N).astype(float)\n",
    "y = np.random.uniform(0, 5, size=(N,))\n",
    "\n",
    "ax.bar(platforms_top_releases['platform'], platforms_top_releases['All'], width = 0.7, color=rvb(x/N))\n",
    "plt.show()\n",
    "platforms_top_releases"
   ]
  },
  {
   "cell_type": "code",
   "execution_count": 26,
   "metadata": {},
   "outputs": [
    {
     "data": {
      "image/png": "[encoded data removed]",
      "text/plain": [
       "<Figure size 432x288 with 1 Axes>"
      ]
     },
     "metadata": {},
     "output_type": "display_data"
    },
    {
     "data": {
      "text/html": [
       "<div>\n",
       "<style scoped>\n",
       "    .dataframe tbody tr th:only-of-type {\n",
       "        vertical-align: middle;\n",
       "    }\n",
       "\n",
       "    .dataframe tbody tr th {\n",
       "        vertical-align: top;\n",
       "    }\n",
       "\n",
       "    .dataframe thead th {\n",
       "        text-align: right;\n",
       "    }\n",
       "</style>\n",
       "<table border=\"1\" class=\"dataframe\">\n",
       "  <thead>\n",
       "    <tr style=\"text-align: right;\">\n",
       "      <th>index</th>\n",
       "      <th>platform_type</th>\n",
       "      <th>All</th>\n",
       "    </tr>\n",
       "  </thead>\n",
       "  <tbody>\n",
       "    <tr>\n",
       "      <th>2</th>\n",
       "      <td>stationary</td>\n",
       "      <td>9997</td>\n",
       "    </tr>\n",
       "    <tr>\n",
       "      <th>1</th>\n",
       "      <td>portable</td>\n",
       "      <td>5132</td>\n",
       "    </tr>\n",
       "    <tr>\n",
       "      <th>0</th>\n",
       "      <td>PC</td>\n",
       "      <td>950</td>\n",
       "    </tr>\n",
       "  </tbody>\n",
       "</table>\n",
       "</div>"
      ],
      "text/plain": [
       "index platform_type   All\n",
       "2        stationary  9997\n",
       "1          portable  5132\n",
       "0                PC   950"
      ]
     },
     "execution_count": 26,
     "metadata": {},
     "output_type": "execute_result"
    }
   ],
   "source": [
    "# рассмотрим отдельно по типу платформы\n",
    "platform_releases_type = data_cut.pivot_table(index='platform_type', values='total_sales', columns = 'year_of_release', \n",
    "                                      aggfunc = 'count', fill_value=0, margins=True).reset_index()\n",
    "platform_releases_type = platform_releases_type[:-1]\n",
    "platform_releases_type = platform_releases_type.rename_axis('index',  axis=\"columns\")\n",
    "\n",
    "# топ платформ по количеству выпущенных игр\n",
    "platforms_top_releases_type = platform_releases_type.sort_values(by='All', ascending=False)[['platform_type', 'All']]\n",
    "\n",
    "# круговая диаграмма\n",
    "fig, ax = plt.subplots()\n",
    "ax.pie(platforms_top_releases_type['All'], labels = platforms_top_releases_type['platform_type'], autopct='%.2f%%')\n",
    "ax.axis(\"equal\")\n",
    "plt.legend(labels = platforms_top_releases_type['platform_type'] )\n",
    "plt.show()\n",
    "platforms_top_releases_type"
   ]
  },
  {
   "cell_type": "markdown",
   "metadata": {},
   "source": [
    "По груговой диаграмме видим, что самым болшим количеством игр обладают консоли (самая популярная консоль PS2), на 2 месте портативные консоли и лишь на 3 месте игры для ПК.\n",
    "\n",
    "##### Изучим платормы с наибольшей суммой продаж."
   ]
  },
  {
   "cell_type": "code",
   "execution_count": 27,
   "metadata": {},
   "outputs": [
    {
     "data": {
      "image/png": "[encoded data removed]",
      "text/plain": [
       "<Figure size 432x288 with 1 Axes>"
      ]
     },
     "metadata": {
      "needs_background": "light"
     },
     "output_type": "display_data"
    },
    {
     "data": {
      "text/html": [
       "<div>\n",
       "<style scoped>\n",
       "    .dataframe tbody tr th:only-of-type {\n",
       "        vertical-align: middle;\n",
       "    }\n",
       "\n",
       "    .dataframe tbody tr th {\n",
       "        vertical-align: top;\n",
       "    }\n",
       "\n",
       "    .dataframe thead th {\n",
       "        text-align: right;\n",
       "    }\n",
       "</style>\n",
       "<table border=\"1\" class=\"dataframe\">\n",
       "  <thead>\n",
       "    <tr style=\"text-align: right;\">\n",
       "      <th>index</th>\n",
       "      <th>platform</th>\n",
       "      <th>All</th>\n",
       "    </tr>\n",
       "  </thead>\n",
       "  <tbody>\n",
       "    <tr>\n",
       "      <th>14</th>\n",
       "      <td>PS2</td>\n",
       "      <td>1233.56</td>\n",
       "    </tr>\n",
       "    <tr>\n",
       "      <th>26</th>\n",
       "      <td>X360</td>\n",
       "      <td>961.24</td>\n",
       "    </tr>\n",
       "    <tr>\n",
       "      <th>15</th>\n",
       "      <td>PS3</td>\n",
       "      <td>931.34</td>\n",
       "    </tr>\n",
       "    <tr>\n",
       "      <th>24</th>\n",
       "      <td>Wii</td>\n",
       "      <td>891.18</td>\n",
       "    </tr>\n",
       "    <tr>\n",
       "      <th>3</th>\n",
       "      <td>DS</td>\n",
       "      <td>802.76</td>\n",
       "    </tr>\n",
       "    <tr>\n",
       "      <th>13</th>\n",
       "      <td>PS</td>\n",
       "      <td>727.58</td>\n",
       "    </tr>\n",
       "    <tr>\n",
       "      <th>16</th>\n",
       "      <td>PS4</td>\n",
       "      <td>314.14</td>\n",
       "    </tr>\n",
       "    <tr>\n",
       "      <th>5</th>\n",
       "      <td>GBA</td>\n",
       "      <td>312.88</td>\n",
       "    </tr>\n",
       "    <tr>\n",
       "      <th>17</th>\n",
       "      <td>PSP</td>\n",
       "      <td>289.53</td>\n",
       "    </tr>\n",
       "    <tr>\n",
       "      <th>1</th>\n",
       "      <td>3DS</td>\n",
       "      <td>257.81</td>\n",
       "    </tr>\n",
       "  </tbody>\n",
       "</table>\n",
       "</div>"
      ],
      "text/plain": [
       "index platform      All\n",
       "14         PS2  1233.56\n",
       "26        X360   961.24\n",
       "15         PS3   931.34\n",
       "24         Wii   891.18\n",
       "3           DS   802.76\n",
       "13          PS   727.58\n",
       "16         PS4   314.14\n",
       "5          GBA   312.88\n",
       "17         PSP   289.53\n",
       "1          3DS   257.81"
      ]
     },
     "execution_count": 27,
     "metadata": {},
     "output_type": "execute_result"
    }
   ],
   "source": [
    "platform_sales = data_cut.pivot_table(index='platform', values='total_sales', columns = 'year_of_release', \n",
    "                                      aggfunc = 'sum', fill_value=0, margins=True).reset_index()\n",
    "platform_sales = platform_sales[:-1]\n",
    "platform_sales = platform_sales.rename_axis('index',  axis=\"columns\")\n",
    "\n",
    "# топ платформ по количеству выпущенных игр\n",
    "platform_top_sales = platform_sales.sort_values(by='All', ascending=False)[['platform', 'All']].head(10)\n",
    "\n",
    "# гистограмма\n",
    "fig, ax = plt.subplots()\n",
    "\n",
    "clist = [(0, \"red\"), (0.125, \"red\"), (0.25, \"orange\"), (0.5, \"green\"), \n",
    "         (0.7, \"green\"), (0.75, \"blue\"), (1, \"blue\")]\n",
    "rvb = mcolors.LinearSegmentedColormap.from_list(\"\", clist)\n",
    "\n",
    "N = 10\n",
    "x = np.arange(N).astype(float)\n",
    "y = np.random.uniform(0, 5, size=(N,))\n",
    "\n",
    "ax.bar(platform_top_sales['platform'], platform_top_sales['All'], width = 0.7, color=rvb(x/N))\n",
    "plt.show()\n",
    "platform_top_sales"
   ]
  },
  {
   "cell_type": "code",
   "execution_count": 28,
   "metadata": {},
   "outputs": [
    {
     "data": {
      "image/png": "[encoded data removed]",
      "text/plain": [
       "<Figure size 432x288 with 1 Axes>"
      ]
     },
     "metadata": {},
     "output_type": "display_data"
    },
    {
     "data": {
      "text/html": [
       "<div>\n",
       "<style scoped>\n",
       "    .dataframe tbody tr th:only-of-type {\n",
       "        vertical-align: middle;\n",
       "    }\n",
       "\n",
       "    .dataframe tbody tr th {\n",
       "        vertical-align: top;\n",
       "    }\n",
       "\n",
       "    .dataframe thead th {\n",
       "        text-align: right;\n",
       "    }\n",
       "</style>\n",
       "<table border=\"1\" class=\"dataframe\">\n",
       "  <thead>\n",
       "    <tr style=\"text-align: right;\">\n",
       "      <th>index</th>\n",
       "      <th>platform_type</th>\n",
       "      <th>All</th>\n",
       "    </tr>\n",
       "  </thead>\n",
       "  <tbody>\n",
       "    <tr>\n",
       "      <th>2</th>\n",
       "      <td>stationary</td>\n",
       "      <td>6112.61</td>\n",
       "    </tr>\n",
       "    <tr>\n",
       "      <th>1</th>\n",
       "      <td>portable</td>\n",
       "      <td>1868.87</td>\n",
       "    </tr>\n",
       "    <tr>\n",
       "      <th>0</th>\n",
       "      <td>PC</td>\n",
       "      <td>252.66</td>\n",
       "    </tr>\n",
       "  </tbody>\n",
       "</table>\n",
       "</div>"
      ],
      "text/plain": [
       "index platform_type      All\n",
       "2        stationary  6112.61\n",
       "1          portable  1868.87\n",
       "0                PC   252.66"
      ]
     },
     "execution_count": 28,
     "metadata": {},
     "output_type": "execute_result"
    }
   ],
   "source": [
    "# рассмотрим отдельно по типу платформы\n",
    "platform_sales_type = data_cut.pivot_table(index='platform_type', values='total_sales', columns = 'year_of_release', \n",
    "                                      aggfunc = 'sum', fill_value=0, margins=True).reset_index()\n",
    "platform_sales_type = platform_sales_type[:-1]\n",
    "platform_sales_type = platform_sales_type.rename_axis('index',  axis=\"columns\")\n",
    "\n",
    "# топ платформ по количеству выпущенных игр\n",
    "platform_top_sales_type = platform_sales_type.sort_values(by='All', ascending=False)[['platform_type', 'All']].head(10)\n",
    "\n",
    "# круговая диаграмма\n",
    "fig, ax = plt.subplots()\n",
    "ax.pie(platform_top_sales_type['All'], labels = platform_top_sales_type['platform_type'],  autopct='%.2f%%')\n",
    "ax.axis(\"equal\")\n",
    "plt.legend(labels = platform_top_sales_type['platform_type'] )\n",
    "plt.show()\n",
    "platform_top_sales_type"
   ]
  },
  {
   "cell_type": "markdown",
   "metadata": {},
   "source": [
    "Опть же получаем, что наибольшую сумму продаж имеют консоли, а самой прибыльной является PS2.\n",
    "\n",
    "\n",
    "#### Оценка продолжительности жизни платформ\n",
    "Из списков топ платформ по сумме и количеству замечаем, что они почти совпадают, поэтому для отслеживания графиков этих топ платформ по годам, объединим их."
   ]
  },
  {
   "cell_type": "code",
   "execution_count": 29,
   "metadata": {},
   "outputs": [
    {
     "data": {
      "image/png": "[encoded data removed]",
      "text/plain": [
       "<Figure size 1152x360 with 1 Axes>"
      ]
     },
     "metadata": {
      "needs_background": "light"
     },
     "output_type": "display_data"
    }
   ],
   "source": [
    "platforms_top_sales = list(platform_sales.sort_values(by='All', ascending=False)['platform'].head(10))\n",
    "platforms_top_releases = list(platform_releases.sort_values(by='All', ascending=False)['platform'].head(10))\n",
    "top_platforms = list(set(platforms_top_sales + platforms_top_releases))\n",
    "\n",
    "# графики выходов игр на самых популярных платформах\n",
    "plt.figure(figsize=(16, 5))\n",
    "for i in top_platforms:\n",
    "    plt.plot(platform_releases.loc[platform_releases['platform'] == i, list(platform_releases.columns[1:-1])].T, label=i)\n",
    "plt.xlabel('Годы')\n",
    "plt.ylabel('Количество игр')\n",
    "plt.grid()\n",
    "plt.legend(loc='upper left')\n",
    "plt.show()"
   ]
  },
  {
   "cell_type": "code",
   "execution_count": 30,
   "metadata": {
    "scrolled": true
   },
   "outputs": [
    {
     "data": {
      "image/png": "[encoded data removed]",
      "text/plain": [
       "<Figure size 1080x360 with 1 Axes>"
      ]
     },
     "metadata": {
      "needs_background": "light"
     },
     "output_type": "display_data"
    }
   ],
   "source": [
    " # графики продаж игр на самых популярных платформах\n",
    "plt.figure(figsize=(15, 5))\n",
    "for i in top_platforms:\n",
    "    plt.plot(platform_sales.loc[platform_sales['platform'] == i, list(platform_sales.columns[1:-1])].T, label=i)\n",
    "plt.xlabel('Годы')\n",
    "plt.ylabel('Сумма продаж')\n",
    "plt.grid()\n",
    "plt.legend(loc='upper left')\n",
    "plt.show()"
   ]
  },
  {
   "cell_type": "markdown",
   "metadata": {},
   "source": [
    "Оба графика имеют определенную схожу (этого стоило ожидать).\n",
    "\n",
    "##### Срок жизни платформ\n",
    "\n",
    "В целом уже по графику можно заметить годы \"жизни\" некоторых платформ: к примеру *PS* была популярная с 94 по 2003 год, с пиком в 1998 году.\n",
    "Однако для лучшей оченки стоит создат таблицу с продолжительностью жизни платформы."
   ]
  },
  {
   "cell_type": "code",
   "execution_count": 31,
   "metadata": {},
   "outputs": [
    {
     "name": "stdout",
     "output_type": "stream",
     "text": [
      "count    29.000000\n",
      "mean      6.931034\n",
      "std       4.876555\n",
      "min       1.000000\n",
      "25%       3.000000\n",
      "50%       6.000000\n",
      "75%      10.000000\n",
      "max      23.000000\n",
      "Name: length, dtype: float64\n"
     ]
    },
    {
     "data": {
      "text/html": [
       "<div>\n",
       "<style scoped>\n",
       "    .dataframe tbody tr th:only-of-type {\n",
       "        vertical-align: middle;\n",
       "    }\n",
       "\n",
       "    .dataframe tbody tr th {\n",
       "        vertical-align: top;\n",
       "    }\n",
       "\n",
       "    .dataframe thead th {\n",
       "        text-align: right;\n",
       "    }\n",
       "</style>\n",
       "<table border=\"1\" class=\"dataframe\">\n",
       "  <thead>\n",
       "    <tr style=\"text-align: right;\">\n",
       "      <th></th>\n",
       "      <th>platform</th>\n",
       "      <th>first_year</th>\n",
       "      <th>last_year</th>\n",
       "      <th>length</th>\n",
       "    </tr>\n",
       "  </thead>\n",
       "  <tbody>\n",
       "    <tr>\n",
       "      <th>11</th>\n",
       "      <td>PC</td>\n",
       "      <td>1994</td>\n",
       "      <td>2016</td>\n",
       "      <td>23</td>\n",
       "    </tr>\n",
       "    <tr>\n",
       "      <th>14</th>\n",
       "      <td>PS2</td>\n",
       "      <td>2000</td>\n",
       "      <td>2011</td>\n",
       "      <td>12</td>\n",
       "    </tr>\n",
       "    <tr>\n",
       "      <th>17</th>\n",
       "      <td>PSP</td>\n",
       "      <td>2004</td>\n",
       "      <td>2015</td>\n",
       "      <td>12</td>\n",
       "    </tr>\n",
       "    <tr>\n",
       "      <th>26</th>\n",
       "      <td>X360</td>\n",
       "      <td>2005</td>\n",
       "      <td>2016</td>\n",
       "      <td>12</td>\n",
       "    </tr>\n",
       "    <tr>\n",
       "      <th>24</th>\n",
       "      <td>Wii</td>\n",
       "      <td>2006</td>\n",
       "      <td>2016</td>\n",
       "      <td>11</td>\n",
       "    </tr>\n",
       "    <tr>\n",
       "      <th>15</th>\n",
       "      <td>PS3</td>\n",
       "      <td>2006</td>\n",
       "      <td>2016</td>\n",
       "      <td>11</td>\n",
       "    </tr>\n",
       "    <tr>\n",
       "      <th>2</th>\n",
       "      <td>DC</td>\n",
       "      <td>1998</td>\n",
       "      <td>2008</td>\n",
       "      <td>11</td>\n",
       "    </tr>\n",
       "    <tr>\n",
       "      <th>3</th>\n",
       "      <td>DS</td>\n",
       "      <td>2004</td>\n",
       "      <td>2013</td>\n",
       "      <td>10</td>\n",
       "    </tr>\n",
       "    <tr>\n",
       "      <th>13</th>\n",
       "      <td>PS</td>\n",
       "      <td>1994</td>\n",
       "      <td>2003</td>\n",
       "      <td>10</td>\n",
       "    </tr>\n",
       "    <tr>\n",
       "      <th>27</th>\n",
       "      <td>XB</td>\n",
       "      <td>2000</td>\n",
       "      <td>2008</td>\n",
       "      <td>9</td>\n",
       "    </tr>\n",
       "  </tbody>\n",
       "</table>\n",
       "</div>"
      ],
      "text/plain": [
       "   platform  first_year  last_year  length\n",
       "11       PC        1994       2016      23\n",
       "14      PS2        2000       2011      12\n",
       "17      PSP        2004       2015      12\n",
       "26     X360        2005       2016      12\n",
       "24      Wii        2006       2016      11\n",
       "15      PS3        2006       2016      11\n",
       "2        DC        1998       2008      11\n",
       "3        DS        2004       2013      10\n",
       "13       PS        1994       2003      10\n",
       "27       XB        2000       2008       9"
      ]
     },
     "execution_count": 31,
     "metadata": {},
     "output_type": "execute_result"
    }
   ],
   "source": [
    "# создадим сводную таблицу\n",
    "life = data_cut.pivot_table(index='platform', values='year_of_release', aggfunc=['min', 'max']).reset_index()\n",
    "# переименуем столбцы для простоты\n",
    "life.set_axis(['platform', 'first_year', 'last_year'], axis='columns', inplace=True)\n",
    "life['length'] = life.last_year - life.first_year + 1\n",
    "print(life['length'].describe())\n",
    "life.sort_values('length', ascending = False).head(10)"
   ]
  },
  {
   "cell_type": "markdown",
   "metadata": {},
   "source": [
    "Из данных видно, что в среднем продолжительноть жизни одной платформы составляет около 6-7 лет (основной дапазон 3-10 лет). <br>\n",
    "Самой \"долгожительной\" платформой является ПК. В целом ожидаемый резльтат с учетом развития технологий ПК и постепенным внедрением в повседневную жизнь."
   ]
  },
  {
   "cell_type": "markdown",
   "metadata": {},
   "source": [
    "Посмотрим значения для топа популярных платформ."
   ]
  },
  {
   "cell_type": "code",
   "execution_count": 32,
   "metadata": {},
   "outputs": [
    {
     "data": {
      "text/plain": [
       "count    12.000000\n",
       "mean     10.666667\n",
       "std       4.618802\n",
       "min       4.000000\n",
       "25%       8.750000\n",
       "50%      10.500000\n",
       "75%      12.000000\n",
       "max      23.000000\n",
       "Name: length, dtype: float64"
      ]
     },
     "execution_count": 32,
     "metadata": {},
     "output_type": "execute_result"
    }
   ],
   "source": [
    "life.query('platform in @top_platforms')['length'].describe()"
   ]
  },
  {
   "cell_type": "markdown",
   "metadata": {},
   "source": [
    "Для популярных платформ средний срок жизни - 11 лет, основной диапазон 9-12 лет.\n",
    "\n",
    "##### Годы повлений новых платформ\n",
    "\n",
    "Оценим годы появлений новых платформ"
   ]
  },
  {
   "cell_type": "code",
   "execution_count": 33,
   "metadata": {},
   "outputs": [
    {
     "data": {
      "text/html": [
       "<div>\n",
       "<style scoped>\n",
       "    .dataframe tbody tr th:only-of-type {\n",
       "        vertical-align: middle;\n",
       "    }\n",
       "\n",
       "    .dataframe tbody tr th {\n",
       "        vertical-align: top;\n",
       "    }\n",
       "\n",
       "    .dataframe thead tr th {\n",
       "        text-align: left;\n",
       "    }\n",
       "\n",
       "    .dataframe thead tr:last-of-type th {\n",
       "        text-align: right;\n",
       "    }\n",
       "</style>\n",
       "<table border=\"1\" class=\"dataframe\">\n",
       "  <thead>\n",
       "    <tr>\n",
       "      <th></th>\n",
       "      <th>count</th>\n",
       "    </tr>\n",
       "    <tr>\n",
       "      <th></th>\n",
       "      <th>platform</th>\n",
       "    </tr>\n",
       "    <tr>\n",
       "      <th>first_year</th>\n",
       "      <th></th>\n",
       "    </tr>\n",
       "  </thead>\n",
       "  <tbody>\n",
       "    <tr>\n",
       "      <th>1994</th>\n",
       "      <td>10</td>\n",
       "    </tr>\n",
       "    <tr>\n",
       "      <th>1995</th>\n",
       "      <td>1</td>\n",
       "    </tr>\n",
       "    <tr>\n",
       "      <th>1996</th>\n",
       "      <td>2</td>\n",
       "    </tr>\n",
       "    <tr>\n",
       "      <th>1998</th>\n",
       "      <td>1</td>\n",
       "    </tr>\n",
       "    <tr>\n",
       "      <th>1999</th>\n",
       "      <td>1</td>\n",
       "    </tr>\n",
       "    <tr>\n",
       "      <th>2000</th>\n",
       "      <td>3</td>\n",
       "    </tr>\n",
       "    <tr>\n",
       "      <th>2001</th>\n",
       "      <td>1</td>\n",
       "    </tr>\n",
       "    <tr>\n",
       "      <th>2004</th>\n",
       "      <td>2</td>\n",
       "    </tr>\n",
       "    <tr>\n",
       "      <th>2005</th>\n",
       "      <td>1</td>\n",
       "    </tr>\n",
       "    <tr>\n",
       "      <th>2006</th>\n",
       "      <td>2</td>\n",
       "    </tr>\n",
       "    <tr>\n",
       "      <th>2011</th>\n",
       "      <td>2</td>\n",
       "    </tr>\n",
       "    <tr>\n",
       "      <th>2012</th>\n",
       "      <td>1</td>\n",
       "    </tr>\n",
       "    <tr>\n",
       "      <th>2013</th>\n",
       "      <td>2</td>\n",
       "    </tr>\n",
       "  </tbody>\n",
       "</table>\n",
       "</div>"
      ],
      "text/plain": [
       "              count\n",
       "           platform\n",
       "first_year         \n",
       "1994             10\n",
       "1995              1\n",
       "1996              2\n",
       "1998              1\n",
       "1999              1\n",
       "2000              3\n",
       "2001              1\n",
       "2004              2\n",
       "2005              1\n",
       "2006              2\n",
       "2011              2\n",
       "2012              1\n",
       "2013              2"
      ]
     },
     "execution_count": 33,
     "metadata": {},
     "output_type": "execute_result"
    }
   ],
   "source": [
    "life_new = life.pivot_table(index = ['first_year'],values = ['platform'], aggfunc = ['count'])\n",
    "life_new.sort_values('first_year')"
   ]
  },
  {
   "cell_type": "markdown",
   "metadata": {},
   "source": [
    "По табличке видно, что в целом с 94 по 2013 года почти каждый код поялялись новые патформы. В основном по 1-2 в год, однако видно, что в 94 году произошел \"бум\" на платформы - их вышло аж 10 штук."
   ]
  },
  {
   "cell_type": "markdown",
   "metadata": {},
   "source": [
    "##### Оценка популярных в настоящее время платформ"
   ]
  },
  {
   "cell_type": "markdown",
   "metadata": {},
   "source": [
    "Произведем оценку платформ, популярных именно в последние годы, ведь именно на них упор сейчас стоит делать разработчикам. \n",
    "\n",
    "Таким образом, нас точно не интересуют платформы, продаж и релизов для которых не было в последний год (наврядли после пустого года еще будут продажи), платформы старше 10, так как вероятно они скоро придут в упадок, и скорее всего в следующем году продажи для них будут крайне низкими.\n",
    "Для оценки стоит взять платвормы возрастом не более 5 лет (за исключением ПК, ПК всегда популярно)."
   ]
  },
  {
   "cell_type": "code",
   "execution_count": 34,
   "metadata": {},
   "outputs": [
    {
     "data": {
      "text/plain": [
       "16     PS4\n",
       "25    WiiU\n",
       "28    XOne\n",
       "Name: platform, dtype: object"
      ]
     },
     "execution_count": 34,
     "metadata": {},
     "output_type": "execute_result"
    }
   ],
   "source": [
    " # посмотрим на самые молодые платформы\n",
    "life.query('last_year == 2016 and first_year > 2011')['platform']"
   ]
  },
  {
   "cell_type": "markdown",
   "metadata": {},
   "source": [
    "Можно сделать следующий вывод:\n",
    "PlayStation 4, WiiU, XBox One находятся на подъеме. Для далнейшего анализа оставим толко эти платформы + ПК."
   ]
  },
  {
   "cell_type": "code",
   "execution_count": 35,
   "metadata": {},
   "outputs": [
    {
     "data": {
      "text/html": [
       "<div>\n",
       "<style scoped>\n",
       "    .dataframe tbody tr th:only-of-type {\n",
       "        vertical-align: middle;\n",
       "    }\n",
       "\n",
       "    .dataframe tbody tr th {\n",
       "        vertical-align: top;\n",
       "    }\n",
       "\n",
       "    .dataframe thead th {\n",
       "        text-align: right;\n",
       "    }\n",
       "</style>\n",
       "<table border=\"1\" class=\"dataframe\">\n",
       "  <thead>\n",
       "    <tr style=\"text-align: right;\">\n",
       "      <th></th>\n",
       "      <th>name</th>\n",
       "      <th>platform</th>\n",
       "      <th>year_of_release</th>\n",
       "      <th>genre</th>\n",
       "      <th>na_sales</th>\n",
       "      <th>eu_sales</th>\n",
       "      <th>jp_sales</th>\n",
       "      <th>other_sales</th>\n",
       "      <th>critic_score</th>\n",
       "      <th>user_score</th>\n",
       "      <th>rating</th>\n",
       "      <th>total_sales</th>\n",
       "      <th>platform_type</th>\n",
       "      <th>company</th>\n",
       "    </tr>\n",
       "  </thead>\n",
       "  <tbody>\n",
       "    <tr>\n",
       "      <th>16</th>\n",
       "      <td>Grand Theft Auto V</td>\n",
       "      <td>PS3</td>\n",
       "      <td>2013</td>\n",
       "      <td>Action</td>\n",
       "      <td>7.02</td>\n",
       "      <td>9.09</td>\n",
       "      <td>0.98</td>\n",
       "      <td>3.96</td>\n",
       "      <td>97.0</td>\n",
       "      <td>8.2</td>\n",
       "      <td>M</td>\n",
       "      <td>21.05</td>\n",
       "      <td>stationary</td>\n",
       "      <td>Sony</td>\n",
       "    </tr>\n",
       "    <tr>\n",
       "      <th>23</th>\n",
       "      <td>Grand Theft Auto V</td>\n",
       "      <td>X360</td>\n",
       "      <td>2013</td>\n",
       "      <td>Action</td>\n",
       "      <td>9.66</td>\n",
       "      <td>5.14</td>\n",
       "      <td>0.06</td>\n",
       "      <td>1.41</td>\n",
       "      <td>97.0</td>\n",
       "      <td>8.1</td>\n",
       "      <td>M</td>\n",
       "      <td>16.27</td>\n",
       "      <td>stationary</td>\n",
       "      <td>Microsoft</td>\n",
       "    </tr>\n",
       "    <tr>\n",
       "      <th>31</th>\n",
       "      <td>Call of Duty: Black Ops 3</td>\n",
       "      <td>PS4</td>\n",
       "      <td>2015</td>\n",
       "      <td>Shooter</td>\n",
       "      <td>6.03</td>\n",
       "      <td>5.86</td>\n",
       "      <td>0.36</td>\n",
       "      <td>2.38</td>\n",
       "      <td>NaN</td>\n",
       "      <td>NaN</td>\n",
       "      <td>RP</td>\n",
       "      <td>14.63</td>\n",
       "      <td>stationary</td>\n",
       "      <td>Sony</td>\n",
       "    </tr>\n",
       "    <tr>\n",
       "      <th>33</th>\n",
       "      <td>Pokemon X/Pokemon Y</td>\n",
       "      <td>3DS</td>\n",
       "      <td>2013</td>\n",
       "      <td>Role-Playing</td>\n",
       "      <td>5.28</td>\n",
       "      <td>4.19</td>\n",
       "      <td>4.35</td>\n",
       "      <td>0.78</td>\n",
       "      <td>NaN</td>\n",
       "      <td>NaN</td>\n",
       "      <td>RP</td>\n",
       "      <td>14.60</td>\n",
       "      <td>portable</td>\n",
       "      <td>Nintendo</td>\n",
       "    </tr>\n",
       "    <tr>\n",
       "      <th>34</th>\n",
       "      <td>Call of Duty: Black Ops II</td>\n",
       "      <td>PS3</td>\n",
       "      <td>2012</td>\n",
       "      <td>Shooter</td>\n",
       "      <td>4.99</td>\n",
       "      <td>5.73</td>\n",
       "      <td>0.65</td>\n",
       "      <td>2.42</td>\n",
       "      <td>83.0</td>\n",
       "      <td>5.3</td>\n",
       "      <td>M</td>\n",
       "      <td>13.79</td>\n",
       "      <td>stationary</td>\n",
       "      <td>Sony</td>\n",
       "    </tr>\n",
       "    <tr>\n",
       "      <th>35</th>\n",
       "      <td>Call of Duty: Black Ops II</td>\n",
       "      <td>X360</td>\n",
       "      <td>2012</td>\n",
       "      <td>Shooter</td>\n",
       "      <td>8.25</td>\n",
       "      <td>4.24</td>\n",
       "      <td>0.07</td>\n",
       "      <td>1.12</td>\n",
       "      <td>83.0</td>\n",
       "      <td>4.8</td>\n",
       "      <td>M</td>\n",
       "      <td>13.68</td>\n",
       "      <td>stationary</td>\n",
       "      <td>Microsoft</td>\n",
       "    </tr>\n",
       "    <tr>\n",
       "      <th>42</th>\n",
       "      <td>Grand Theft Auto V</td>\n",
       "      <td>PS4</td>\n",
       "      <td>2014</td>\n",
       "      <td>Action</td>\n",
       "      <td>3.96</td>\n",
       "      <td>6.31</td>\n",
       "      <td>0.38</td>\n",
       "      <td>1.97</td>\n",
       "      <td>97.0</td>\n",
       "      <td>8.3</td>\n",
       "      <td>M</td>\n",
       "      <td>12.62</td>\n",
       "      <td>stationary</td>\n",
       "      <td>Sony</td>\n",
       "    </tr>\n",
       "    <tr>\n",
       "      <th>47</th>\n",
       "      <td>Pokemon Omega Ruby/Pokemon Alpha Sapphire</td>\n",
       "      <td>3DS</td>\n",
       "      <td>2014</td>\n",
       "      <td>Role-Playing</td>\n",
       "      <td>4.35</td>\n",
       "      <td>3.49</td>\n",
       "      <td>3.10</td>\n",
       "      <td>0.74</td>\n",
       "      <td>NaN</td>\n",
       "      <td>NaN</td>\n",
       "      <td>RP</td>\n",
       "      <td>11.68</td>\n",
       "      <td>portable</td>\n",
       "      <td>Nintendo</td>\n",
       "    </tr>\n",
       "    <tr>\n",
       "      <th>60</th>\n",
       "      <td>Call of Duty: Ghosts</td>\n",
       "      <td>X360</td>\n",
       "      <td>2013</td>\n",
       "      <td>Shooter</td>\n",
       "      <td>6.73</td>\n",
       "      <td>2.56</td>\n",
       "      <td>0.04</td>\n",
       "      <td>0.91</td>\n",
       "      <td>73.0</td>\n",
       "      <td>2.6</td>\n",
       "      <td>M</td>\n",
       "      <td>10.24</td>\n",
       "      <td>stationary</td>\n",
       "      <td>Microsoft</td>\n",
       "    </tr>\n",
       "    <tr>\n",
       "      <th>62</th>\n",
       "      <td>New Super Mario Bros. 2</td>\n",
       "      <td>3DS</td>\n",
       "      <td>2012</td>\n",
       "      <td>Platform</td>\n",
       "      <td>3.66</td>\n",
       "      <td>3.14</td>\n",
       "      <td>2.47</td>\n",
       "      <td>0.63</td>\n",
       "      <td>78.0</td>\n",
       "      <td>7.2</td>\n",
       "      <td>E</td>\n",
       "      <td>9.90</td>\n",
       "      <td>portable</td>\n",
       "      <td>Nintendo</td>\n",
       "    </tr>\n",
       "  </tbody>\n",
       "</table>\n",
       "</div>"
      ],
      "text/plain": [
       "                                         name platform  year_of_release  \\\n",
       "16                         Grand Theft Auto V      PS3             2013   \n",
       "23                         Grand Theft Auto V     X360             2013   \n",
       "31                  Call of Duty: Black Ops 3      PS4             2015   \n",
       "33                        Pokemon X/Pokemon Y      3DS             2013   \n",
       "34                 Call of Duty: Black Ops II      PS3             2012   \n",
       "35                 Call of Duty: Black Ops II     X360             2012   \n",
       "42                         Grand Theft Auto V      PS4             2014   \n",
       "47  Pokemon Omega Ruby/Pokemon Alpha Sapphire      3DS             2014   \n",
       "60                       Call of Duty: Ghosts     X360             2013   \n",
       "62                    New Super Mario Bros. 2      3DS             2012   \n",
       "\n",
       "           genre  na_sales  eu_sales  jp_sales  other_sales  critic_score  \\\n",
       "16        Action      7.02      9.09      0.98         3.96          97.0   \n",
       "23        Action      9.66      5.14      0.06         1.41          97.0   \n",
       "31       Shooter      6.03      5.86      0.36         2.38           NaN   \n",
       "33  Role-Playing      5.28      4.19      4.35         0.78           NaN   \n",
       "34       Shooter      4.99      5.73      0.65         2.42          83.0   \n",
       "35       Shooter      8.25      4.24      0.07         1.12          83.0   \n",
       "42        Action      3.96      6.31      0.38         1.97          97.0   \n",
       "47  Role-Playing      4.35      3.49      3.10         0.74           NaN   \n",
       "60       Shooter      6.73      2.56      0.04         0.91          73.0   \n",
       "62      Platform      3.66      3.14      2.47         0.63          78.0   \n",
       "\n",
       "    user_score rating  total_sales platform_type    company  \n",
       "16         8.2      M        21.05    stationary       Sony  \n",
       "23         8.1      M        16.27    stationary  Microsoft  \n",
       "31         NaN     RP        14.63    stationary       Sony  \n",
       "33         NaN     RP        14.60      portable   Nintendo  \n",
       "34         5.3      M        13.79    stationary       Sony  \n",
       "35         4.8      M        13.68    stationary  Microsoft  \n",
       "42         8.3      M        12.62    stationary       Sony  \n",
       "47         NaN     RP        11.68      portable   Nintendo  \n",
       "60         2.6      M        10.24    stationary  Microsoft  \n",
       "62         7.2      E         9.90      portable   Nintendo  "
      ]
     },
     "execution_count": 35,
     "metadata": {},
     "output_type": "execute_result"
    }
   ],
   "source": [
    "# сохраним список актуальных платформ\n",
    "actual_platforms = [\"PS4\", \"WiiU\", \"XOne\", \"PC\"]\n",
    "data_actual = data.query('year_of_release > 2011') \n",
    "data_actual.head(10)"
   ]
  },
  {
   "cell_type": "markdown",
   "metadata": {},
   "source": [
    "Построим диаграммы размаха"
   ]
  },
  {
   "cell_type": "code",
   "execution_count": 36,
   "metadata": {},
   "outputs": [
    {
     "data": {
      "image/png": "[encoded data removed]",
      "text/plain": [
       "<Figure size 720x720 with 1 Axes>"
      ]
     },
     "metadata": {
      "needs_background": "light"
     },
     "output_type": "display_data"
    }
   ],
   "source": [
    "data_actual.query('platform in @actual_platforms')[['platform', 'name', 'total_sales']].boxplot(column='total_sales', \n",
    "                                                                                              by='platform', figsize=(10,10))\n",
    "plt.xlabel('Платформа')\n",
    "plt.ylabel('Количество проданных копий, млн')\n",
    "plt.title('Диаграммы размаха по продажам на актуальных платформах')\n",
    "plt.ylim(0, 4)\n",
    "plt.show()"
   ]
  },
  {
   "cell_type": "code",
   "execution_count": 37,
   "metadata": {},
   "outputs": [
    {
     "data": {
      "text/html": [
       "<div>\n",
       "<style scoped>\n",
       "    .dataframe tbody tr th:only-of-type {\n",
       "        vertical-align: middle;\n",
       "    }\n",
       "\n",
       "    .dataframe tbody tr th {\n",
       "        vertical-align: top;\n",
       "    }\n",
       "\n",
       "    .dataframe thead th {\n",
       "        text-align: right;\n",
       "    }\n",
       "</style>\n",
       "<table border=\"1\" class=\"dataframe\">\n",
       "  <thead>\n",
       "    <tr style=\"text-align: right;\">\n",
       "      <th></th>\n",
       "      <th>sum</th>\n",
       "      <th>mean</th>\n",
       "      <th>median</th>\n",
       "      <th>std</th>\n",
       "      <th>count</th>\n",
       "    </tr>\n",
       "    <tr>\n",
       "      <th>platform</th>\n",
       "      <th></th>\n",
       "      <th></th>\n",
       "      <th></th>\n",
       "      <th></th>\n",
       "      <th></th>\n",
       "    </tr>\n",
       "  </thead>\n",
       "  <tbody>\n",
       "    <tr>\n",
       "      <th>PS4</th>\n",
       "      <td>314.14</td>\n",
       "      <td>0.801378</td>\n",
       "      <td>0.20</td>\n",
       "      <td>1.609456</td>\n",
       "      <td>392</td>\n",
       "    </tr>\n",
       "    <tr>\n",
       "      <th>XOne</th>\n",
       "      <td>159.32</td>\n",
       "      <td>0.645020</td>\n",
       "      <td>0.22</td>\n",
       "      <td>1.036139</td>\n",
       "      <td>247</td>\n",
       "    </tr>\n",
       "    <tr>\n",
       "      <th>WiiU</th>\n",
       "      <td>82.19</td>\n",
       "      <td>0.559116</td>\n",
       "      <td>0.22</td>\n",
       "      <td>1.058836</td>\n",
       "      <td>147</td>\n",
       "    </tr>\n",
       "    <tr>\n",
       "      <th>PC</th>\n",
       "      <td>62.65</td>\n",
       "      <td>0.250600</td>\n",
       "      <td>0.08</td>\n",
       "      <td>0.494640</td>\n",
       "      <td>250</td>\n",
       "    </tr>\n",
       "  </tbody>\n",
       "</table>\n",
       "</div>"
      ],
      "text/plain": [
       "             sum      mean  median       std  count\n",
       "platform                                           \n",
       "PS4       314.14  0.801378    0.20  1.609456    392\n",
       "XOne      159.32  0.645020    0.22  1.036139    247\n",
       "WiiU       82.19  0.559116    0.22  1.058836    147\n",
       "PC         62.65  0.250600    0.08  0.494640    250"
      ]
     },
     "execution_count": 37,
     "metadata": {},
     "output_type": "execute_result"
    }
   ],
   "source": [
    "d_a = (data_actual.query('platform in @actual_platforms')\n",
    " .pivot_table(index='platform', values='total_sales',aggfunc=['sum', 'mean', 'median', 'std', 'count'])\n",
    " .sort_values(('median', 'total_sales'), ascending=False))\n",
    "d_a.columns = ['sum', 'mean', 'median', 'std', 'count']\n",
    "d_a.sort_values('mean', ascending = False)"
   ]
  },
  {
   "cell_type": "markdown",
   "metadata": {},
   "source": [
    "Лидером продаж является PlayStation 4, но и размах продаж по годам у нее самый большой. ПК является самой непопулярной платформой из вышепредставленных, но и самой стабильной - размах самый узкий. <br>\n",
    "Выбросы у нас находятся только сверху - это хит-игры для каждой платформы. Видно, что у каждой из платформ случаются хиты, приносящие миллионы - доля таких успешных проектов выше всего у PlayStation 4 и XBox one - это видно и по большему среднему значению числа продаж."
   ]
  },
  {
   "cell_type": "markdown",
   "metadata": {},
   "source": [
    "#### Связь продаж и рассеивания внутри PS4"
   ]
  },
  {
   "cell_type": "markdown",
   "metadata": {},
   "source": [
    "Посмотрим, как влияют оценки игры на ее продажи. Исследуем корреляцию."
   ]
  },
  {
   "cell_type": "code",
   "execution_count": 38,
   "metadata": {},
   "outputs": [
    {
     "name": "stdout",
     "output_type": "stream",
     "text": [
      "Корреляция между оценкой критиков и продажами: 0.40656790206178095\n",
      "Корреляция между оценкой пользователей и продажами: -0.031957110204556376\n",
      "Корреляция между оценками критиков и пользователей: 0.5576539782764632\n"
     ]
    }
   ],
   "source": [
    "data_ps4 = data_actual.query('platform == \"PS4\"')\n",
    "\n",
    "print('Корреляция между оценкой критиков и продажами:', data_ps4.critic_score.corr(data_ps4.total_sales))\n",
    "print('Корреляция между оценкой пользователей и продажами:', data_ps4.user_score.corr(data_ps4.total_sales))\n",
    "print('Корреляция между оценками критиков и пользователей:', data_ps4.critic_score.corr(data_ps4.user_score))"
   ]
  },
  {
   "cell_type": "code",
   "execution_count": 39,
   "metadata": {},
   "outputs": [
    {
     "data": {
      "image/png": "[encoded data removed]",
      "text/plain": [
       "<Figure size 720x360 with 2 Axes>"
      ]
     },
     "metadata": {
      "needs_background": "light"
     },
     "output_type": "display_data"
    }
   ],
   "source": [
    "# построим график рассеяния \n",
    "data_ps4.plot.scatter('critic_score',  'total_sales', figsize=(10, 5), alpha=0.7, c='user_score', colormap='plasma', sharex=False)\n",
    "plt.xlabel('Рейтинг критиков')\n",
    "plt.ylabel('Продажи')\n",
    "plt.title('Влияние оценок критиков на уровень продаж')\n",
    "plt.show()"
   ]
  },
  {
   "cell_type": "markdown",
   "metadata": {},
   "source": [
    "Корреляция между оценкой критиков и продажами есть есть (0.41), хоть и не большая, но все же четко видно, что сем выше рейтинг критиков, тем больше продаж."
   ]
  },
  {
   "cell_type": "code",
   "execution_count": 40,
   "metadata": {},
   "outputs": [
    {
     "data": {
      "image/png": "[encoded data removed]",
      "text/plain": [
       "<Figure size 720x360 with 2 Axes>"
      ]
     },
     "metadata": {
      "needs_background": "light"
     },
     "output_type": "display_data"
    }
   ],
   "source": [
    "# построим график рассеяния \n",
    "data_ps4.plot.scatter('user_score', 'total_sales', figsize=(10, 5), alpha=0.7, c='critic_score', colormap='plasma', sharex=False)\n",
    "plt.xlabel('Рейтинг пользователей')\n",
    "plt.ylabel('Продажи')\n",
    "plt.title('Влияние оценок пользователей на уровень продаж')\n",
    "plt.show()"
   ]
  },
  {
   "cell_type": "markdown",
   "metadata": {},
   "source": [
    "А вот между оценкой пользователей и уровнем продаж корреляции нет (-0.032).\n",
    "\n",
    "В целом можно сказать, что при прогнозе продаж следуют опираться болше на рейтинг критиков."
   ]
  },
  {
   "cell_type": "markdown",
   "metadata": {},
   "source": [
    "#### Связь продаж и рассеивания на других топ платформах"
   ]
  },
  {
   "cell_type": "code",
   "execution_count": 41,
   "metadata": {},
   "outputs": [
    {
     "name": "stdout",
     "output_type": "stream",
     "text": [
      "Корреляция между оценкой критиков и продажами: 0.23724324311567915\n",
      "Корреляция между оценкой пользователей и продажами: -0.12186747630735577\n",
      "Корреляция между оценками критиков и пользователей: 0.4325873064924276\n"
     ]
    },
    {
     "data": {
      "image/png": "[encoded data removed]",
      "text/plain": [
       "<Figure size 720x360 with 2 Axes>"
      ]
     },
     "metadata": {
      "needs_background": "light"
     },
     "output_type": "display_data"
    }
   ],
   "source": [
    "# PC\n",
    "data_pc = data_actual.query('platform == \"PC\"')\n",
    "\n",
    "print('Корреляция между оценкой критиков и продажами:', data_pc.critic_score.corr(data_pc.total_sales))\n",
    "print('Корреляция между оценкой пользователей и продажами:', data_pc.user_score.corr(data_pc.total_sales))\n",
    "print('Корреляция между оценками критиков и пользователей:', data_pc.critic_score.corr(data_pc.user_score))\n",
    "\n",
    "# построим график рассеяния \n",
    "data_pc.plot.scatter('critic_score',  'total_sales', figsize=(10, 5), alpha=0.7, c='user_score', colormap='plasma', sharex=False)\n",
    "plt.xlabel('Рейтинг критиков')\n",
    "plt.ylabel('Продажи')\n",
    "plt.title('Влияние оценок критиков на уровень продаж')\n",
    "plt.show()"
   ]
  },
  {
   "cell_type": "code",
   "execution_count": 42,
   "metadata": {},
   "outputs": [
    {
     "name": "stdout",
     "output_type": "stream",
     "text": [
      "Корреляция между оценкой критиков и продажами: 0.4169983280084017\n",
      "Корреляция между оценкой пользователей и продажами: -0.06892505328279414\n",
      "Корреляция между оценками критиков и пользователей: 0.4724621124165801\n"
     ]
    },
    {
     "data": {
      "image/png": "[encoded data removed]",
      "text/plain": [
       "<Figure size 720x360 with 2 Axes>"
      ]
     },
     "metadata": {
      "needs_background": "light"
     },
     "output_type": "display_data"
    }
   ],
   "source": [
    "# XOne\n",
    "data_xone = data_actual.query('platform == \"XOne\"')\n",
    "print('Корреляция между оценкой критиков и продажами:', data_xone.critic_score.corr(data_xone.total_sales))\n",
    "print('Корреляция между оценкой пользователей и продажами:', data_xone.user_score.corr(data_xone.total_sales))\n",
    "print('Корреляция между оценками критиков и пользователей:', data_xone.critic_score.corr(data_xone.user_score))\n",
    "\n",
    "\n",
    "# построим график рассеяния \n",
    "data_xone.plot.scatter('critic_score',  'total_sales', figsize=(10, 5), alpha=0.7, c='user_score', colormap='plasma', sharex=False)\n",
    "plt.xlabel('Рейтинг критиков')\n",
    "plt.ylabel('Продажи')\n",
    "plt.title('Влияние оценок критиков на уровень продаж')\n",
    "plt.show()"
   ]
  },
  {
   "cell_type": "code",
   "execution_count": 43,
   "metadata": {},
   "outputs": [
    {
     "name": "stdout",
     "output_type": "stream",
     "text": [
      "Корреляция между оценкой критиков и продажами: 0.34837976012017485\n",
      "Корреляция между оценкой пользователей и продажами: 0.4002190202148617\n",
      "Корреляция между оценками критиков и пользователей: 0.7700795968080212\n"
     ]
    },
    {
     "data": {
      "image/png": "[encoded data removed]",
      "text/plain": [
       "<Figure size 720x360 with 2 Axes>"
      ]
     },
     "metadata": {
      "needs_background": "light"
     },
     "output_type": "display_data"
    }
   ],
   "source": [
    "# data_wiiu\n",
    "data_wiiu = data_actual.query('platform == \"WiiU\"')\n",
    "print('Корреляция между оценкой критиков и продажами:', data_wiiu.critic_score.corr(data_wiiu.total_sales))\n",
    "print('Корреляция между оценкой пользователей и продажами:', data_wiiu.user_score.corr(data_wiiu.total_sales))\n",
    "print('Корреляция между оценками критиков и пользователей:', data_wiiu.critic_score.corr(data_wiiu.user_score))\n",
    "\n",
    "# построим график рассеяния \n",
    "data_wiiu.plot.scatter('critic_score',  'total_sales', figsize=(10, 5), alpha=0.7, c='user_score', colormap='plasma', sharex=False)\n",
    "plt.xlabel('Рейтинг критиков')\n",
    "plt.ylabel('Продажи')\n",
    "plt.title('Влияние оценок критиков на уровень продаж')\n",
    "plt.show()"
   ]
  },
  {
   "cell_type": "markdown",
   "metadata": {},
   "source": [
    "По таблицам и графикам заметно, хоть корреляции и не большие, но зависимость между оценками критиков и продажами имеется у всех платформ:\n",
    "- WiiU - 0.35\n",
    "- PC - 0.24\n",
    "- XOne - 0.42 <br>\n",
    "Корреляция с оценкой пользователей есть только у платформы *WiiU*(0.4) <br>\n",
    "В целом, в оценке продаж лучше опираться на оценки критиков."
   ]
  },
  {
   "cell_type": "markdown",
   "metadata": {},
   "source": [
    "#### Общее распределение игр по жанрам"
   ]
  },
  {
   "cell_type": "code",
   "execution_count": 44,
   "metadata": {},
   "outputs": [
    {
     "data": {
      "text/html": [
       "<div>\n",
       "<style scoped>\n",
       "    .dataframe tbody tr th:only-of-type {\n",
       "        vertical-align: middle;\n",
       "    }\n",
       "\n",
       "    .dataframe tbody tr th {\n",
       "        vertical-align: top;\n",
       "    }\n",
       "\n",
       "    .dataframe thead th {\n",
       "        text-align: right;\n",
       "    }\n",
       "</style>\n",
       "<table border=\"1\" class=\"dataframe\">\n",
       "  <thead>\n",
       "    <tr style=\"text-align: right;\">\n",
       "      <th>year_of_release</th>\n",
       "      <th>2012</th>\n",
       "      <th>2013</th>\n",
       "      <th>2014</th>\n",
       "      <th>2015</th>\n",
       "      <th>2016</th>\n",
       "      <th>All</th>\n",
       "    </tr>\n",
       "    <tr>\n",
       "      <th>genre</th>\n",
       "      <th></th>\n",
       "      <th></th>\n",
       "      <th></th>\n",
       "      <th></th>\n",
       "      <th></th>\n",
       "      <th></th>\n",
       "    </tr>\n",
       "  </thead>\n",
       "  <tbody>\n",
       "    <tr>\n",
       "      <th>Action</th>\n",
       "      <td>119.25</td>\n",
       "      <td>122.51</td>\n",
       "      <td>97.23</td>\n",
       "      <td>72.02</td>\n",
       "      <td>30.11</td>\n",
       "      <td>441.12</td>\n",
       "    </tr>\n",
       "    <tr>\n",
       "      <th>Shooter</th>\n",
       "      <td>71.75</td>\n",
       "      <td>62.04</td>\n",
       "      <td>65.21</td>\n",
       "      <td>67.51</td>\n",
       "      <td>38.22</td>\n",
       "      <td>304.73</td>\n",
       "    </tr>\n",
       "    <tr>\n",
       "      <th>Role-Playing</th>\n",
       "      <td>46.91</td>\n",
       "      <td>44.45</td>\n",
       "      <td>45.62</td>\n",
       "      <td>37.64</td>\n",
       "      <td>18.18</td>\n",
       "      <td>192.80</td>\n",
       "    </tr>\n",
       "    <tr>\n",
       "      <th>Sports</th>\n",
       "      <td>30.42</td>\n",
       "      <td>41.17</td>\n",
       "      <td>45.15</td>\n",
       "      <td>40.84</td>\n",
       "      <td>23.49</td>\n",
       "      <td>181.07</td>\n",
       "    </tr>\n",
       "    <tr>\n",
       "      <th>Misc</th>\n",
       "      <td>22.22</td>\n",
       "      <td>25.27</td>\n",
       "      <td>23.38</td>\n",
       "      <td>11.57</td>\n",
       "      <td>2.60</td>\n",
       "      <td>85.04</td>\n",
       "    </tr>\n",
       "    <tr>\n",
       "      <th>Platform</th>\n",
       "      <td>18.37</td>\n",
       "      <td>24.54</td>\n",
       "      <td>8.81</td>\n",
       "      <td>6.05</td>\n",
       "      <td>3.23</td>\n",
       "      <td>61.00</td>\n",
       "    </tr>\n",
       "    <tr>\n",
       "      <th>Racing</th>\n",
       "      <td>13.61</td>\n",
       "      <td>12.37</td>\n",
       "      <td>16.66</td>\n",
       "      <td>8.07</td>\n",
       "      <td>2.79</td>\n",
       "      <td>53.50</td>\n",
       "    </tr>\n",
       "    <tr>\n",
       "      <th>Fighting</th>\n",
       "      <td>9.18</td>\n",
       "      <td>7.09</td>\n",
       "      <td>15.85</td>\n",
       "      <td>7.90</td>\n",
       "      <td>4.47</td>\n",
       "      <td>44.49</td>\n",
       "    </tr>\n",
       "    <tr>\n",
       "      <th>Simulation</th>\n",
       "      <td>13.36</td>\n",
       "      <td>8.63</td>\n",
       "      <td>5.58</td>\n",
       "      <td>5.66</td>\n",
       "      <td>1.89</td>\n",
       "      <td>35.12</td>\n",
       "    </tr>\n",
       "    <tr>\n",
       "      <th>Adventure</th>\n",
       "      <td>5.79</td>\n",
       "      <td>6.09</td>\n",
       "      <td>5.57</td>\n",
       "      <td>8.16</td>\n",
       "      <td>3.82</td>\n",
       "      <td>29.43</td>\n",
       "    </tr>\n",
       "  </tbody>\n",
       "</table>\n",
       "</div>"
      ],
      "text/plain": [
       "year_of_release    2012    2013   2014   2015   2016     All\n",
       "genre                                                       \n",
       "Action           119.25  122.51  97.23  72.02  30.11  441.12\n",
       "Shooter           71.75   62.04  65.21  67.51  38.22  304.73\n",
       "Role-Playing      46.91   44.45  45.62  37.64  18.18  192.80\n",
       "Sports            30.42   41.17  45.15  40.84  23.49  181.07\n",
       "Misc              22.22   25.27  23.38  11.57   2.60   85.04\n",
       "Platform          18.37   24.54   8.81   6.05   3.23   61.00\n",
       "Racing            13.61   12.37  16.66   8.07   2.79   53.50\n",
       "Fighting           9.18    7.09  15.85   7.90   4.47   44.49\n",
       "Simulation        13.36    8.63   5.58   5.66   1.89   35.12\n",
       "Adventure          5.79    6.09   5.57   8.16   3.82   29.43"
      ]
     },
     "execution_count": 44,
     "metadata": {},
     "output_type": "execute_result"
    }
   ],
   "source": [
    "genre_sales = data_actual.pivot_table(index='genre', values='total_sales', columns = 'year_of_release', aggfunc = 'sum', fill_value=0, margins=True).reset_index()\n",
    "genre_sales = genre_sales[:-1]\n",
    "genre_sales = genre_sales.rename_axis(axis=\"columns\").set_index('genre').sort_values(by='All', ascending=False)\n",
    "genre_sales.head(10)"
   ]
  },
  {
   "cell_type": "markdown",
   "metadata": {},
   "source": [
    "Из таблицы видим, что самыми популярными жанрами являются экшен, шутеры, ролевые и спортивные игры. Остальные жанры значительно отстают по популярности."
   ]
  },
  {
   "cell_type": "code",
   "execution_count": 45,
   "metadata": {},
   "outputs": [
    {
     "data": {
      "image/png": "[encoded data removed]",
      "text/plain": [
       "<Figure size 576x576 with 1 Axes>"
      ]
     },
     "metadata": {
      "needs_background": "light"
     },
     "output_type": "display_data"
    }
   ],
   "source": [
    "plt.figure(figsize=(8, 8))\n",
    "for i in ['Action', 'Sports', 'Shooter', 'Role-Playing']:\n",
    "    plt.plot(genre_sales.loc[i, list(genre_sales.columns[1:-1])].T, label=i)\n",
    "plt.xlabel('Годы')\n",
    "plt.ylabel('Количеcтво продаж, млн')\n",
    "plt.grid()\n",
    "plt.legend(loc='upper left')\n",
    "plt.show()"
   ]
  },
  {
   "cell_type": "markdown",
   "metadata": {},
   "source": [
    "Видим падение прадаж для всех жанров, однако по табличке такую картину мы наблюдаем абсолютно для всех жанров видеогр. <br>\n",
    "\n",
    "Построим диаграммы размаха для жанров за последние 5 лет (все еще считаем, что актуальнейшие данные по платформам идут с 2011 года)."
   ]
  },
  {
   "cell_type": "code",
   "execution_count": 46,
   "metadata": {},
   "outputs": [
    {
     "data": {
      "image/png": "[encoded data removed]",
      "text/plain": [
       "<Figure size 720x576 with 1 Axes>"
      ]
     },
     "metadata": {
      "needs_background": "light"
     },
     "output_type": "display_data"
    }
   ],
   "source": [
    "data_actual[['total_sales', 'genre']].boxplot(column='total_sales', by='genre', figsize=(10,8))\n",
    "plt.xlabel('Жанр')\n",
    "plt.ylabel('Количество проданных копий, млн')\n",
    "plt.title('Диаграммы размаха по продажам в разных жанрах')\n",
    "plt.ylim(0, 4)\n",
    "plt.show()"
   ]
  },
  {
   "cell_type": "code",
   "execution_count": 47,
   "metadata": {},
   "outputs": [
    {
     "data": {
      "text/html": [
       "<div>\n",
       "<style scoped>\n",
       "    .dataframe tbody tr th:only-of-type {\n",
       "        vertical-align: middle;\n",
       "    }\n",
       "\n",
       "    .dataframe tbody tr th {\n",
       "        vertical-align: top;\n",
       "    }\n",
       "\n",
       "    .dataframe thead th {\n",
       "        text-align: right;\n",
       "    }\n",
       "</style>\n",
       "<table border=\"1\" class=\"dataframe\">\n",
       "  <thead>\n",
       "    <tr style=\"text-align: right;\">\n",
       "      <th></th>\n",
       "      <th>genre</th>\n",
       "      <th>sum</th>\n",
       "      <th>mean</th>\n",
       "      <th>median</th>\n",
       "      <th>std</th>\n",
       "      <th>count</th>\n",
       "    </tr>\n",
       "  </thead>\n",
       "  <tbody>\n",
       "    <tr>\n",
       "      <th>8</th>\n",
       "      <td>Shooter</td>\n",
       "      <td>304.73</td>\n",
       "      <td>1.296723</td>\n",
       "      <td>0.44</td>\n",
       "      <td>2.251662</td>\n",
       "      <td>235</td>\n",
       "    </tr>\n",
       "    <tr>\n",
       "      <th>4</th>\n",
       "      <td>Platform</td>\n",
       "      <td>61.00</td>\n",
       "      <td>0.717647</td>\n",
       "      <td>0.21</td>\n",
       "      <td>1.364413</td>\n",
       "      <td>85</td>\n",
       "    </tr>\n",
       "    <tr>\n",
       "      <th>10</th>\n",
       "      <td>Sports</td>\n",
       "      <td>181.07</td>\n",
       "      <td>0.675634</td>\n",
       "      <td>0.24</td>\n",
       "      <td>1.136378</td>\n",
       "      <td>268</td>\n",
       "    </tr>\n",
       "    <tr>\n",
       "      <th>7</th>\n",
       "      <td>Role-Playing</td>\n",
       "      <td>192.80</td>\n",
       "      <td>0.521081</td>\n",
       "      <td>0.14</td>\n",
       "      <td>1.315937</td>\n",
       "      <td>370</td>\n",
       "    </tr>\n",
       "    <tr>\n",
       "      <th>6</th>\n",
       "      <td>Racing</td>\n",
       "      <td>53.50</td>\n",
       "      <td>0.465217</td>\n",
       "      <td>0.14</td>\n",
       "      <td>0.888664</td>\n",
       "      <td>115</td>\n",
       "    </tr>\n",
       "    <tr>\n",
       "      <th>3</th>\n",
       "      <td>Misc</td>\n",
       "      <td>85.04</td>\n",
       "      <td>0.442917</td>\n",
       "      <td>0.12</td>\n",
       "      <td>1.081047</td>\n",
       "      <td>192</td>\n",
       "    </tr>\n",
       "    <tr>\n",
       "      <th>9</th>\n",
       "      <td>Simulation</td>\n",
       "      <td>35.12</td>\n",
       "      <td>0.439000</td>\n",
       "      <td>0.12</td>\n",
       "      <td>1.244500</td>\n",
       "      <td>80</td>\n",
       "    </tr>\n",
       "    <tr>\n",
       "      <th>0</th>\n",
       "      <td>Action</td>\n",
       "      <td>441.12</td>\n",
       "      <td>0.427856</td>\n",
       "      <td>0.12</td>\n",
       "      <td>1.166504</td>\n",
       "      <td>1031</td>\n",
       "    </tr>\n",
       "    <tr>\n",
       "      <th>2</th>\n",
       "      <td>Fighting</td>\n",
       "      <td>44.49</td>\n",
       "      <td>0.408165</td>\n",
       "      <td>0.13</td>\n",
       "      <td>0.910385</td>\n",
       "      <td>109</td>\n",
       "    </tr>\n",
       "    <tr>\n",
       "      <th>11</th>\n",
       "      <td>Strategy</td>\n",
       "      <td>13.34</td>\n",
       "      <td>0.187887</td>\n",
       "      <td>0.08</td>\n",
       "      <td>0.271976</td>\n",
       "      <td>71</td>\n",
       "    </tr>\n",
       "  </tbody>\n",
       "</table>\n",
       "</div>"
      ],
      "text/plain": [
       "           genre     sum      mean  median       std  count\n",
       "8        Shooter  304.73  1.296723    0.44  2.251662    235\n",
       "4       Platform   61.00  0.717647    0.21  1.364413     85\n",
       "10        Sports  181.07  0.675634    0.24  1.136378    268\n",
       "7   Role-Playing  192.80  0.521081    0.14  1.315937    370\n",
       "6         Racing   53.50  0.465217    0.14  0.888664    115\n",
       "3           Misc   85.04  0.442917    0.12  1.081047    192\n",
       "9     Simulation   35.12  0.439000    0.12  1.244500     80\n",
       "0         Action  441.12  0.427856    0.12  1.166504   1031\n",
       "2       Fighting   44.49  0.408165    0.13  0.910385    109\n",
       "11      Strategy   13.34  0.187887    0.08  0.271976     71"
      ]
     },
     "execution_count": 47,
     "metadata": {},
     "output_type": "execute_result"
    }
   ],
   "source": [
    "data_genre = (data_actual\n",
    "        .pivot_table(index='genre', values='total_sales', aggfunc=['sum', 'mean', 'median', 'std', 'count'])\n",
    "        .reset_index().sort_values(('median', 'total_sales'), ascending=False))\n",
    "data_genre.columns = ['genre', 'sum', 'mean', 'median', 'std', 'count']\n",
    "data_genre.sort_values('mean', ascending = False).head(10)"
   ]
  },
  {
   "cell_type": "markdown",
   "metadata": {},
   "source": [
    "По диаграмме размаха видно, что хит игр очень много у жанров экшен, ролевые и спортивные игры. Однако по среднему уровню продаж топ жанрами являются: шутеры, платформеры, спортивные, ролевые игры и гонки. <br>"
   ]
  },
  {
   "cell_type": "markdown",
   "metadata": {},
   "source": [
    "**Вывод этапа**:\n",
    "- Началом расцевта игровой индустрии можно считать 1994 год. Именно с него индустрия начала развиваться быстрыми темпами (данные до этого года можно считать неактуальными).\n",
    "- Были выяснены самые популярные платформы. Топ-платформами в основном являются *консоли* с самой популярной `PS2` во главе, котрая занимает первое место по количеству игр и сумме их продаж, затем идут *портативные консоли* и только потом *ПК*. \n",
    "- Был проведен анализ долгожительности платформ. В среднем \"жизнь\" платформы составляет порядка 3-10 лет, в случае если платформа популяона, то 9-12 лет. На *ПК* же годы не влияют, держится 24 года на плаву и уходить не собирается. Новые платформы появлялись с 1994 по 2013 практически каждый год по 1-2 штуки. Однако в 94 году был заметен бум на платформы - их появилось целых 10 штук.\n",
    "- Проведен анализ новейших популярных платформ. Самими молодыми платформами оказались `PS4`, `WiiU`, `Xbox One`. `PS4` - является лидером продаж.\n",
    "- Проведенные анализ зависимости продаж от оценки пользователей и критиков показал, что оценка пользователей никак не влияет на продажи. Корреляция: `PS4` - -0.03, `Xbox One` - -0.07, `PC` - -0.12, `WiiU` - 0.40 (единственное исключение). А вот оценка критиков влияет на продажи на прямую. Корреляция: `PS4` - 0.40, `Xbox One` - 0.42, `PC` - 0.24, `WiiU` - 0.35. Поэтому при прогнозах стоит ориентироваться именно на оценку от критиков.\n",
    "- Анализ жанров показал, что самыми популярными жанрамя являются *экшен*, *шутеры*, *ролевые* и *спортивные игры*, коорые также являются и самыми большими по количеству топ-игр. Однако самыми продаваемыми по средним данным жанрами оказались *шутеры*, *платформеры*, *спортивные*, *ролевые игры*, а также *гонки*.\n",
    "- Заметен спад продаж"
   ]
  },
  {
   "cell_type": "markdown",
   "metadata": {},
   "source": [
    "### Портрет пользователя каждого региона\n",
    "\n",
    "Определим для пользователя каждого региона (NA, EU, JP):\n",
    " - Самые популярные платформы (топ-5)\n",
    " - Самые популярные жанры (топ-5)\n",
    " - Влияет ли рейтинг ESRB на продажи в отдельном регионе"
   ]
  },
  {
   "cell_type": "markdown",
   "metadata": {},
   "source": [
    "Проверим регион Северной Америки."
   ]
  },
  {
   "cell_type": "code",
   "execution_count": 48,
   "metadata": {},
   "outputs": [
    {
     "data": {
      "text/html": [
       "<div>\n",
       "<style scoped>\n",
       "    .dataframe tbody tr th:only-of-type {\n",
       "        vertical-align: middle;\n",
       "    }\n",
       "\n",
       "    .dataframe tbody tr th {\n",
       "        vertical-align: top;\n",
       "    }\n",
       "\n",
       "    .dataframe thead th {\n",
       "        text-align: right;\n",
       "    }\n",
       "</style>\n",
       "<table border=\"1\" class=\"dataframe\">\n",
       "  <thead>\n",
       "    <tr style=\"text-align: right;\">\n",
       "      <th></th>\n",
       "      <th>na_sales</th>\n",
       "    </tr>\n",
       "    <tr>\n",
       "      <th>platform</th>\n",
       "      <th></th>\n",
       "    </tr>\n",
       "  </thead>\n",
       "  <tbody>\n",
       "    <tr>\n",
       "      <th>X360</th>\n",
       "      <td>140.05</td>\n",
       "    </tr>\n",
       "    <tr>\n",
       "      <th>PS4</th>\n",
       "      <td>108.74</td>\n",
       "    </tr>\n",
       "    <tr>\n",
       "      <th>PS3</th>\n",
       "      <td>103.38</td>\n",
       "    </tr>\n",
       "    <tr>\n",
       "      <th>XOne</th>\n",
       "      <td>93.12</td>\n",
       "    </tr>\n",
       "    <tr>\n",
       "      <th>3DS</th>\n",
       "      <td>55.31</td>\n",
       "    </tr>\n",
       "  </tbody>\n",
       "</table>\n",
       "</div>"
      ],
      "text/plain": [
       "          na_sales\n",
       "platform          \n",
       "X360        140.05\n",
       "PS4         108.74\n",
       "PS3         103.38\n",
       "XOne         93.12\n",
       "3DS          55.31"
      ]
     },
     "execution_count": 48,
     "metadata": {},
     "output_type": "execute_result"
    }
   ],
   "source": [
    "# топ платформ\n",
    "top_platform = (data_actual.pivot_table(index='platform', values='na_sales', aggfunc='sum')\n",
    "                .sort_values('na_sales', ascending=False).head())\n",
    "top_platform"
   ]
  },
  {
   "cell_type": "code",
   "execution_count": 49,
   "metadata": {},
   "outputs": [
    {
     "data": {
      "text/html": [
       "<div>\n",
       "<style scoped>\n",
       "    .dataframe tbody tr th:only-of-type {\n",
       "        vertical-align: middle;\n",
       "    }\n",
       "\n",
       "    .dataframe tbody tr th {\n",
       "        vertical-align: top;\n",
       "    }\n",
       "\n",
       "    .dataframe thead th {\n",
       "        text-align: right;\n",
       "    }\n",
       "</style>\n",
       "<table border=\"1\" class=\"dataframe\">\n",
       "  <thead>\n",
       "    <tr style=\"text-align: right;\">\n",
       "      <th></th>\n",
       "      <th>na_sales</th>\n",
       "    </tr>\n",
       "    <tr>\n",
       "      <th>genre</th>\n",
       "      <th></th>\n",
       "    </tr>\n",
       "  </thead>\n",
       "  <tbody>\n",
       "    <tr>\n",
       "      <th>Action</th>\n",
       "      <td>177.84</td>\n",
       "    </tr>\n",
       "    <tr>\n",
       "      <th>Shooter</th>\n",
       "      <td>144.77</td>\n",
       "    </tr>\n",
       "    <tr>\n",
       "      <th>Sports</th>\n",
       "      <td>81.53</td>\n",
       "    </tr>\n",
       "    <tr>\n",
       "      <th>Role-Playing</th>\n",
       "      <td>64.00</td>\n",
       "    </tr>\n",
       "    <tr>\n",
       "      <th>Misc</th>\n",
       "      <td>38.19</td>\n",
       "    </tr>\n",
       "  </tbody>\n",
       "</table>\n",
       "</div>"
      ],
      "text/plain": [
       "              na_sales\n",
       "genre                 \n",
       "Action          177.84\n",
       "Shooter         144.77\n",
       "Sports           81.53\n",
       "Role-Playing     64.00\n",
       "Misc             38.19"
      ]
     },
     "execution_count": 49,
     "metadata": {},
     "output_type": "execute_result"
    }
   ],
   "source": [
    "# топ жанров\n",
    "top_genres = (data_actual.pivot_table(index='genre', values='na_sales', aggfunc='sum')\n",
    "    .sort_values(by='na_sales', ascending=False).head())\n",
    "top_genres"
   ]
  },
  {
   "cell_type": "markdown",
   "metadata": {},
   "source": [
    "Видно, что в Северной Америке популярностью пользуются именно консоли, причем самой популярной консолью за все годы оказалась `Xbox 360`. Остальные консоли в топе не сильно отстают по продажам. <br>\n",
    "Самым полярным жанром является *экшен*. Удивительно, но в топ попал смешанный жанр игр *Misc*, который раньше не попадал в топы при исследовании."
   ]
  },
  {
   "cell_type": "markdown",
   "metadata": {},
   "source": [
    "Проверим регион Европы."
   ]
  },
  {
   "cell_type": "code",
   "execution_count": 50,
   "metadata": {},
   "outputs": [
    {
     "data": {
      "text/html": [
       "<div>\n",
       "<style scoped>\n",
       "    .dataframe tbody tr th:only-of-type {\n",
       "        vertical-align: middle;\n",
       "    }\n",
       "\n",
       "    .dataframe tbody tr th {\n",
       "        vertical-align: top;\n",
       "    }\n",
       "\n",
       "    .dataframe thead th {\n",
       "        text-align: right;\n",
       "    }\n",
       "</style>\n",
       "<table border=\"1\" class=\"dataframe\">\n",
       "  <thead>\n",
       "    <tr style=\"text-align: right;\">\n",
       "      <th></th>\n",
       "      <th>eu_sales</th>\n",
       "    </tr>\n",
       "    <tr>\n",
       "      <th>platform</th>\n",
       "      <th></th>\n",
       "    </tr>\n",
       "  </thead>\n",
       "  <tbody>\n",
       "    <tr>\n",
       "      <th>PS4</th>\n",
       "      <td>141.09</td>\n",
       "    </tr>\n",
       "    <tr>\n",
       "      <th>PS3</th>\n",
       "      <td>106.86</td>\n",
       "    </tr>\n",
       "    <tr>\n",
       "      <th>X360</th>\n",
       "      <td>74.52</td>\n",
       "    </tr>\n",
       "    <tr>\n",
       "      <th>XOne</th>\n",
       "      <td>51.59</td>\n",
       "    </tr>\n",
       "    <tr>\n",
       "      <th>3DS</th>\n",
       "      <td>42.64</td>\n",
       "    </tr>\n",
       "  </tbody>\n",
       "</table>\n",
       "</div>"
      ],
      "text/plain": [
       "          eu_sales\n",
       "platform          \n",
       "PS4         141.09\n",
       "PS3         106.86\n",
       "X360         74.52\n",
       "XOne         51.59\n",
       "3DS          42.64"
      ]
     },
     "execution_count": 50,
     "metadata": {},
     "output_type": "execute_result"
    }
   ],
   "source": [
    "# топ платформ\n",
    "top_platform = (data_actual.pivot_table(index='platform', values='eu_sales', aggfunc='sum')\n",
    "                .sort_values('eu_sales', ascending=False).head())\n",
    "top_platform"
   ]
  },
  {
   "cell_type": "code",
   "execution_count": 51,
   "metadata": {},
   "outputs": [
    {
     "data": {
      "text/html": [
       "<div>\n",
       "<style scoped>\n",
       "    .dataframe tbody tr th:only-of-type {\n",
       "        vertical-align: middle;\n",
       "    }\n",
       "\n",
       "    .dataframe tbody tr th {\n",
       "        vertical-align: top;\n",
       "    }\n",
       "\n",
       "    .dataframe thead th {\n",
       "        text-align: right;\n",
       "    }\n",
       "</style>\n",
       "<table border=\"1\" class=\"dataframe\">\n",
       "  <thead>\n",
       "    <tr style=\"text-align: right;\">\n",
       "      <th></th>\n",
       "      <th>eu_sales</th>\n",
       "    </tr>\n",
       "    <tr>\n",
       "      <th>genre</th>\n",
       "      <th></th>\n",
       "    </tr>\n",
       "  </thead>\n",
       "  <tbody>\n",
       "    <tr>\n",
       "      <th>Action</th>\n",
       "      <td>159.34</td>\n",
       "    </tr>\n",
       "    <tr>\n",
       "      <th>Shooter</th>\n",
       "      <td>113.47</td>\n",
       "    </tr>\n",
       "    <tr>\n",
       "      <th>Sports</th>\n",
       "      <td>69.09</td>\n",
       "    </tr>\n",
       "    <tr>\n",
       "      <th>Role-Playing</th>\n",
       "      <td>48.53</td>\n",
       "    </tr>\n",
       "    <tr>\n",
       "      <th>Racing</th>\n",
       "      <td>27.29</td>\n",
       "    </tr>\n",
       "  </tbody>\n",
       "</table>\n",
       "</div>"
      ],
      "text/plain": [
       "              eu_sales\n",
       "genre                 \n",
       "Action          159.34\n",
       "Shooter         113.47\n",
       "Sports           69.09\n",
       "Role-Playing     48.53\n",
       "Racing           27.29"
      ]
     },
     "execution_count": 51,
     "metadata": {},
     "output_type": "execute_result"
    }
   ],
   "source": [
    "# топ жанров\n",
    "top_genres = (data_actual.pivot_table(index='genre', values='eu_sales', aggfunc='sum')\n",
    "    .sort_values(by='eu_sales', ascending=False).head())\n",
    "top_genres"
   ]
  },
  {
   "cell_type": "markdown",
   "metadata": {},
   "source": [
    "В Европе же самой популярной консолью является `PS4`, а вот `Xbox 360` занимает 3е место. Хоть в Европе также популярны консоли, однако топ консолей уже совершенно другой. <br>\n",
    "Топ же жанров совпадает с также самым популярным - *экшеном*."
   ]
  },
  {
   "cell_type": "markdown",
   "metadata": {},
   "source": [
    "Проверим регион Японии."
   ]
  },
  {
   "cell_type": "code",
   "execution_count": 52,
   "metadata": {},
   "outputs": [
    {
     "data": {
      "text/html": [
       "<div>\n",
       "<style scoped>\n",
       "    .dataframe tbody tr th:only-of-type {\n",
       "        vertical-align: middle;\n",
       "    }\n",
       "\n",
       "    .dataframe tbody tr th {\n",
       "        vertical-align: top;\n",
       "    }\n",
       "\n",
       "    .dataframe thead th {\n",
       "        text-align: right;\n",
       "    }\n",
       "</style>\n",
       "<table border=\"1\" class=\"dataframe\">\n",
       "  <thead>\n",
       "    <tr style=\"text-align: right;\">\n",
       "      <th></th>\n",
       "      <th>jp_sales</th>\n",
       "    </tr>\n",
       "    <tr>\n",
       "      <th>platform</th>\n",
       "      <th></th>\n",
       "    </tr>\n",
       "  </thead>\n",
       "  <tbody>\n",
       "    <tr>\n",
       "      <th>3DS</th>\n",
       "      <td>87.79</td>\n",
       "    </tr>\n",
       "    <tr>\n",
       "      <th>PS3</th>\n",
       "      <td>35.29</td>\n",
       "    </tr>\n",
       "    <tr>\n",
       "      <th>PSV</th>\n",
       "      <td>21.04</td>\n",
       "    </tr>\n",
       "    <tr>\n",
       "      <th>PS4</th>\n",
       "      <td>15.96</td>\n",
       "    </tr>\n",
       "    <tr>\n",
       "      <th>WiiU</th>\n",
       "      <td>13.01</td>\n",
       "    </tr>\n",
       "  </tbody>\n",
       "</table>\n",
       "</div>"
      ],
      "text/plain": [
       "          jp_sales\n",
       "platform          \n",
       "3DS          87.79\n",
       "PS3          35.29\n",
       "PSV          21.04\n",
       "PS4          15.96\n",
       "WiiU         13.01"
      ]
     },
     "execution_count": 52,
     "metadata": {},
     "output_type": "execute_result"
    }
   ],
   "source": [
    "# топ платформ\n",
    "top_platform = (data_actual.pivot_table(index='platform', values='jp_sales', aggfunc='sum')\n",
    "                .sort_values('jp_sales', ascending=False).head())\n",
    "top_platform"
   ]
  },
  {
   "cell_type": "code",
   "execution_count": 53,
   "metadata": {},
   "outputs": [
    {
     "data": {
      "text/html": [
       "<div>\n",
       "<style scoped>\n",
       "    .dataframe tbody tr th:only-of-type {\n",
       "        vertical-align: middle;\n",
       "    }\n",
       "\n",
       "    .dataframe tbody tr th {\n",
       "        vertical-align: top;\n",
       "    }\n",
       "\n",
       "    .dataframe thead th {\n",
       "        text-align: right;\n",
       "    }\n",
       "</style>\n",
       "<table border=\"1\" class=\"dataframe\">\n",
       "  <thead>\n",
       "    <tr style=\"text-align: right;\">\n",
       "      <th></th>\n",
       "      <th>jp_sales</th>\n",
       "    </tr>\n",
       "    <tr>\n",
       "      <th>genre</th>\n",
       "      <th></th>\n",
       "    </tr>\n",
       "  </thead>\n",
       "  <tbody>\n",
       "    <tr>\n",
       "      <th>Role-Playing</th>\n",
       "      <td>65.44</td>\n",
       "    </tr>\n",
       "    <tr>\n",
       "      <th>Action</th>\n",
       "      <td>52.80</td>\n",
       "    </tr>\n",
       "    <tr>\n",
       "      <th>Misc</th>\n",
       "      <td>12.86</td>\n",
       "    </tr>\n",
       "    <tr>\n",
       "      <th>Simulation</th>\n",
       "      <td>10.41</td>\n",
       "    </tr>\n",
       "    <tr>\n",
       "      <th>Fighting</th>\n",
       "      <td>9.44</td>\n",
       "    </tr>\n",
       "  </tbody>\n",
       "</table>\n",
       "</div>"
      ],
      "text/plain": [
       "              jp_sales\n",
       "genre                 \n",
       "Role-Playing     65.44\n",
       "Action           52.80\n",
       "Misc             12.86\n",
       "Simulation       10.41\n",
       "Fighting          9.44"
      ]
     },
     "execution_count": 53,
     "metadata": {},
     "output_type": "execute_result"
    }
   ],
   "source": [
    "# топ жанров\n",
    "top_genres = (data_actual.pivot_table(index='genre', values='jp_sales', aggfunc='sum')\n",
    "    .sort_values(by='jp_sales', ascending=False).head())\n",
    "top_genres"
   ]
  },
  {
   "cell_type": "markdown",
   "metadata": {},
   "source": [
    "В Японии популярностью пользуются уже не только обычные консоли, но и портативные консоли. Верхушку топа занимает `3DS`. <br>\n",
    "Самым же популярным жанром является *role-playing*. Также в Японии популярен жанры *файтингов* и *симуляторов*. <br>\n",
    "Такое различие в предпочитаемых жанрах вероятно можно объяснить культурной разницей стран: Европа и Северная Америка довольно близки в культурном и жизненом понимании, когда Японии более обособлена от них."
   ]
  },
  {
   "cell_type": "code",
   "execution_count": 54,
   "metadata": {},
   "outputs": [
    {
     "data": {
      "image/png": "[encoded data removed]",
      "text/plain": [
       "<Figure size 1080x360 with 1 Axes>"
      ]
     },
     "metadata": {
      "needs_background": "light"
     },
     "output_type": "display_data"
    }
   ],
   "source": [
    "# график Севреной Америки\n",
    "(data_actual.pivot_table(index='rating', values='na_sales', aggfunc='mean')\n",
    "    .sort_values(by='na_sales')\n",
    "    .plot(kind='bar', figsize=(15, 5), color='g'))\n",
    "plt.xlabel('Рейтинг ESRB')\n",
    "plt.ylabel('Количество проданных копий, млн')\n",
    "plt.title('Продажи в зависимости от рейтинга в различных регионах')\n",
    "plt.show()"
   ]
  },
  {
   "cell_type": "code",
   "execution_count": 55,
   "metadata": {},
   "outputs": [
    {
     "data": {
      "image/png": "[encoded data removed]",
      "text/plain": [
       "<Figure size 1080x360 with 1 Axes>"
      ]
     },
     "metadata": {
      "needs_background": "light"
     },
     "output_type": "display_data"
    }
   ],
   "source": [
    "# график Европы\n",
    "(data_actual.pivot_table(index='rating', values='eu_sales', aggfunc='mean')\n",
    "    .sort_values(by='eu_sales')\n",
    "    .plot(kind='bar', figsize=(15, 5), color='orange'))\n",
    "plt.xlabel('Рейтинг ESRB')\n",
    "plt.ylabel('Количество проданных копий, млн')\n",
    "plt.title('Продажи в зависимости от рейтинга в различных регионах')\n",
    "plt.show()"
   ]
  },
  {
   "cell_type": "code",
   "execution_count": 56,
   "metadata": {},
   "outputs": [
    {
     "data": {
      "image/png": "[encoded data removed]",
      "text/plain": [
       "<Figure size 1080x360 with 1 Axes>"
      ]
     },
     "metadata": {
      "needs_background": "light"
     },
     "output_type": "display_data"
    }
   ],
   "source": [
    "# график Японии\n",
    "(data_actual.pivot_table(index='rating', values='jp_sales', aggfunc='mean')\n",
    "    .sort_values(by='jp_sales')\n",
    "    .plot(kind='bar', figsize=(15, 5), color='olive'))\n",
    "plt.xlabel('Рейтинг ESRB')\n",
    "plt.ylabel('Количество проданных копий, млн')\n",
    "plt.title('Продажи в зависимости от рейтинга в различных регионах')\n",
    "plt.show()"
   ]
  },
  {
   "cell_type": "markdown",
   "metadata": {},
   "source": [
    "Entertainment Software Rating Board (ESRB) — негосударственная организация, основное направление деятельности которой принятие и определение рейтингов для компьютерных видеоигр и другого развлекательного программного обеспечения в США и Канаде. <br>\n",
    "В Японии популярны игры без четкого рейтинга (мы меняли пропущеный рейтинг на *RP*), верояно это именно потому что японские игры в основном не проходят проверку на рейтинг, а проходят именно те, которые планируются для международного релиза. <br>\n",
    "В целом можно сказать, что чем выше возрастное ограничение игры, тем она популярней."
   ]
  },
  {
   "cell_type": "markdown",
   "metadata": {},
   "source": [
    "**Вывод этапа**:\n",
    "- Анализ популярности платформ показал, что самыми популярными платформами везде являются именно консоли, хотя во всех регионах этот топ отличется. \n",
    "- В Северной Америке самой популярной консолью является `X360`, в Европе - `PS4`, в Японии - `3DS`.\n",
    "- Популярные жанры схожи для Европы и Америки, где самый популярный жанр - это *экшен*. Тогда как в Японии популярен *роулплей*, *симуляторы* и *файтинги*, и совсем непопулярны *шутеры*.\n",
    "- Выявлено, что многие игры из Японии не проходят проверку ESRB\n",
    "- В целом видна закономерность между популярностью игр и увеличением возрастного ограничения."
   ]
  },
  {
   "cell_type": "markdown",
   "metadata": {},
   "source": [
    "### Проверка гипотез\n"
   ]
  },
  {
   "cell_type": "markdown",
   "metadata": {},
   "source": [
    "#### Гипотеза 1.\n",
    "\n",
    "Проверим гипотезу \"Средние пользовательские рейтинги платформ Xbox One и PC одинаковые\". <br>\n",
    "Для проверки этой гипотезы потребуется тест двух генеральных совокупностей по взятым из них выборкам(stats.ttest_ind). У такого теста нулевая гипотеза должна быть о равенстве, альтернативная о различии.\n",
    "\n",
    "**Н0**: \"Средние пользовательские рейтинги платформ Xbox One и PC одинаковые\". <br>\n",
    "**H1**: \"Средние пользовательские рейтинги платформ Xbox One и PC разные\"\n",
    "\n",
    "Значение критического уровня вероятности (альфа) примем равным 5%."
   ]
  },
  {
   "cell_type": "code",
   "execution_count": 57,
   "metadata": {},
   "outputs": [
    {
     "name": "stdout",
     "output_type": "stream",
     "text": [
      "p-значение: 0.5535080500643661\n",
      "Не получилось отвергнуть нулевую гипотезу\n"
     ]
    }
   ],
   "source": [
    "alpha = 0.05  # критический уровень статистической значимости\n",
    "results = st.ttest_ind(\n",
    "    data_actual[(data_actual.platform == \"XOne\") & (data_actual.user_score.notna())]['user_score'], \n",
    "    data_actual[(data_actual.platform == \"PC\") & (data_actual.user_score.notna())]['user_score']\n",
    ")\n",
    "\n",
    "print('p-значение:', results.pvalue)\n",
    "\n",
    "if results.pvalue < alpha:\n",
    "    print('Отвергаем нулевую гипотезу')\n",
    "else:\n",
    "    print('Не получилось отвергнуть нулевую гипотезу') "
   ]
  },
  {
   "cell_type": "code",
   "execution_count": 58,
   "metadata": {},
   "outputs": [
    {
     "data": {
      "image/png": "[encoded data removed]",
      "text/plain": [
       "<Figure size 576x360 with 1 Axes>"
      ]
     },
     "metadata": {
      "needs_background": "light"
     },
     "output_type": "display_data"
    }
   ],
   "source": [
    "fig, ax = plt.subplots(figsize=(8, 5))\n",
    "ax.hist(data_actual[(data_actual.platform == \"XOne\") & (data_actual.user_score.notna())]['user_score'], \n",
    "        bins=10, density=True, alpha=0.5, label = 'XOne')\n",
    "ax.hist(data_actual[(data_actual.platform == \"PC\") & (data_actual.user_score.notna())]['user_score'], \n",
    "        bins=10, density=True, alpha=0.5, label = 'PC')\n",
    "plt.ylabel('Пользовательский рейтинг')\n",
    "plt.legend(loc='upper left')\n",
    "plt.show()"
   ]
  },
  {
   "cell_type": "markdown",
   "metadata": {},
   "source": [
    "И проверка гиптезы и график наглядно показывают, что первоначальная проверяемая гипотеза подтверждается."
   ]
  },
  {
   "cell_type": "markdown",
   "metadata": {},
   "source": [
    "#### Гипотеза 2.\n",
    "\n",
    "Проверим гипотезу \"Средние пользовательские рейтинги жанров Action и Sports разные.\". <br>\n",
    "Для проверки этой гипотезы потребуется тест двух генеральных совокупностей по взятым из них выборкам(stats.ttest_ind). У такого теста нулевая гипотеза должна быть о равенстве, альтернативная о различии.\n",
    "\n",
    "**Н0**: \"Средние пользовательские рейтинги жанров Action и Sports одинаковые\". <br>\n",
    "**H1**: \"Средние пользовательские рейтинги жанров Action и Sports разные\"\n",
    "\n",
    "Значение критического уровня вероятности (альфа) примем равным 5%."
   ]
  },
  {
   "cell_type": "code",
   "execution_count": 59,
   "metadata": {},
   "outputs": [
    {
     "name": "stdout",
     "output_type": "stream",
     "text": [
      "p-значение: 3.7163089460934874e-26\n",
      "Отвергаем нулевую гипотезу\n"
     ]
    }
   ],
   "source": [
    "alpha = 0.05  # критический уровень статистической значимости\n",
    "results = st.ttest_ind(\n",
    "    data_actual[(data_actual.genre == \"Action\") & (data_actual.user_score.notna())]['user_score'], \n",
    "    data_actual[(data_actual.genre == \"Sports\") & (data_actual.user_score.notna())]['user_score']\n",
    ")\n",
    "\n",
    "print('p-значение:', results.pvalue)\n",
    "\n",
    "if results.pvalue < alpha:\n",
    "    print('Отвергаем нулевую гипотезу')\n",
    "else:\n",
    "    print('Не получилось отвергнуть нулевую гипотезу') "
   ]
  },
  {
   "cell_type": "code",
   "execution_count": 60,
   "metadata": {},
   "outputs": [
    {
     "data": {
      "image/png": "[encoded data removed]",
      "text/plain": [
       "<Figure size 576x360 with 1 Axes>"
      ]
     },
     "metadata": {
      "needs_background": "light"
     },
     "output_type": "display_data"
    }
   ],
   "source": [
    "fig, ax = plt.subplots(figsize=(8, 5))\n",
    "ax.hist(data_actual[(data_actual.genre == \"Action\") & (data_actual.user_score.notna())]['user_score'], \n",
    "        bins=10, density=True, alpha=0.5, label = 'Action')\n",
    "ax.hist(data_actual[(data_actual.genre == \"Sports\") & (data_actual.user_score.notna())]['user_score'], \n",
    "        bins=10, density=True, alpha=0.5, label = 'Sports')\n",
    "plt.ylabel('Пользовательский рейтинг')\n",
    "plt.legend(loc='upper left')\n",
    "plt.show()"
   ]
  },
  {
   "cell_type": "markdown",
   "metadata": {},
   "source": [
    "По графику видно, что пользовательские рейтинги разные, и проверка гипотезы показала подтверждение первоначальной гипотезы."
   ]
  },
  {
   "cell_type": "markdown",
   "metadata": {},
   "source": [
    "**Вывод этапа**: Были проверены гипотезы:\n",
    "- Гипотеза о том, что средние пользовательские рейтинги платформ Xbox One и PC одинаковые. Гипотеза подтверждена со знаением p-value 0.55.\n",
    "- Гипотеза о том, что средние пользовательские рейтинги жанров Action и Sports разные. Гипотеза подтверждена со значением p-value 3.72."
   ]
  },
  {
   "cell_type": "markdown",
   "metadata": {},
   "source": [
    "### Общий вывод:<br>\n",
    "\n",
    "Итак, полученный архив данных - данные о продажах видеоигр.\n",
    "\n",
    "На этапе предобработки данных была проведена проверка данных на начличие пропущенных значений, которые были обнаружены в столбцах `name` (такие строки удалены), `genre` (такие строки удалены), `year_of_release` (такие строки удалены), `rating` (пропуски заменены на значение *RP*), `critic_score` (оставлено без изменений),\t`user_score`(оставлено без изменений). Обработаны неявные и явные дубликаты. Была исправлена ошибка с неверным форматом данных: столбец с годом выпуска приведен к типу *int*, `user_score` к типу *float*. Названия столбцов приведены к snake_case.\n",
    "Для дальнейшего анализа добавлен новый столбец с сумарной продажей во всех регионах `total_sales`.\n",
    "\n",
    "На этапе анализа были исследованы и выявлены следующие пункты:\n",
    "- Началом расцевта игровой индустрии можно считать 1994 год. Именно с него индустрия начала развиваться быстрыми темпами (данные до этого года можно считать неактуальными).\n",
    "- Были выяснены самые популярные платформы. Топ-платформами в основном являются *консоли* с самой популярной `PS2` во главе, котрая занимает первое место по количеству игр и сумме их продаж, затем идут *портативные консоли* и только потом *ПК*. \n",
    "- Был проведен анализ долгожительности платформ. В среднем \"жизнь\" платформы составляет порядка 3-10 лет, в случае если платформа популяона, то 9-12 лет. На *ПК* же годы не влияют, держится 24 года на плаву и уходить не собирается. Новые платформы появлялись с 1994 по 2013 практически каждый год по 1-2 штуки. Однако в 94 году был заметен бум на платформы - их появилось целых 10 штук.\n",
    "- Проведен анализ новейших популярных платформ. Самими молодыми платформами оказались `PS4`, `WiiU`, `Xbox One`. `PS4` - является лидером продаж.\n",
    "- Проведенные анализ зависимости продаж от оценки пользователей и критиков показал, что оценка пользователей никак не влияет на продажи. Корреляция: `PS4` - -0.03, `Xbox One` - -0.07, `PC` - -0.12, `WiiU` - 0.40 (единственное исключение). А вот оценка критиков влияет на продажи на прямую. Корреляция: `PS4` - 0.40, `Xbox One` - 0.42, `PC` - 0.24, `WiiU` - 0.35. Поэтому при прогнозах стоит ориентироваться именно на оценку от критиков.\n",
    "- Анализ жанров показал, что самыми популярными жанрамя являются *экшен*, *шутеры*, *ролевые* и *спортивные игры*, коорые также являются и самыми большими по количеству топ-игр. Однако самыми продаваемыми по средним данным жанрами оказались *шутеры*, *платформеры*, *спортивные*, *ролевые игры*, а также *гонки*.\n",
    "- Заметен спад продаж\n",
    "\n",
    "Исследование портрета пользователя каждого региона дало понять, что самыми популярными платформами везде являются именно консоли, хотя во всех регионах этот топ отличется. В Северной Америке самой популярной консолью является `X360`, в Европе - `PS4`, в Японии - `3DS`. Популярные жанры схожи для Европы и Америки, где самый популярный жанр - это *экшен*. Тогда как в Японии популярены *роулплей*, *симуляторы* и *файтинги*, и совсем непопулярны *шутеры*, что может получаться из-за культурных особенностей.<br>\n",
    "Анализ показал, что многие игры из Японии не проходят проверку ESRB, так как этот рейтинг изначально существует для игр именно из США и Канады, однако у части игр этот рейтинг всеже есть, вероятно потому что эти игры планировались для релиза и в Северной Америке. В целом можно сказать, что чем выше возрастное ограничение игры, тем она популярней.\n",
    "\n",
    "Были проверены гипотезы:\n",
    "- Гипотеза о том, что средние пользовательские рейтинги платформ Xbox One и PC одинаковые. Гипотеза подтверждена со знаением p-value 0.55.\n",
    "- Гипотеза о том, что средние пользовательские рейтинги жанров Action и Sports разные. Гипотеза подтверждена со значением p-value 3.72.\n",
    "Для их проверки использовался тест двух генеральных совокупностей по взятым из них выборкам(stats.ttest_ind)."
   ]
  }
 ],
 "metadata": {
  "ExecuteTimeLog": [
   {
    "duration": 1339,
    "start_time": "2023-05-06T10:20:08.526Z"
   },
   {
    "duration": 192,
    "start_time": "2023-05-06T10:20:09.867Z"
   },
   {
    "duration": 60,
    "start_time": "2023-05-06T10:20:10.060Z"
   },
   {
    "duration": 14,
    "start_time": "2023-05-06T10:20:10.121Z"
   },
   {
    "duration": 50,
    "start_time": "2023-05-06T10:20:10.137Z"
   },
   {
    "duration": 0,
    "start_time": "2023-05-06T10:20:10.190Z"
   },
   {
    "duration": 0,
    "start_time": "2023-05-06T10:20:10.191Z"
   },
   {
    "duration": 0,
    "start_time": "2023-05-06T10:20:10.192Z"
   },
   {
    "duration": 0,
    "start_time": "2023-05-06T10:20:10.194Z"
   },
   {
    "duration": 0,
    "start_time": "2023-05-06T10:20:10.195Z"
   },
   {
    "duration": 0,
    "start_time": "2023-05-06T10:20:10.196Z"
   },
   {
    "duration": 0,
    "start_time": "2023-05-06T10:20:10.197Z"
   },
   {
    "duration": 1,
    "start_time": "2023-05-06T10:20:10.198Z"
   },
   {
    "duration": 0,
    "start_time": "2023-05-06T10:20:10.200Z"
   },
   {
    "duration": 0,
    "start_time": "2023-05-06T10:20:10.201Z"
   },
   {
    "duration": 0,
    "start_time": "2023-05-06T10:20:10.202Z"
   },
   {
    "duration": 0,
    "start_time": "2023-05-06T10:20:10.203Z"
   },
   {
    "duration": 0,
    "start_time": "2023-05-06T10:20:10.205Z"
   },
   {
    "duration": 0,
    "start_time": "2023-05-06T10:20:10.206Z"
   },
   {
    "duration": 0,
    "start_time": "2023-05-06T10:20:10.207Z"
   },
   {
    "duration": 0,
    "start_time": "2023-05-06T10:20:10.208Z"
   },
   {
    "duration": 0,
    "start_time": "2023-05-06T10:20:10.209Z"
   },
   {
    "duration": 0,
    "start_time": "2023-05-06T10:20:10.210Z"
   },
   {
    "duration": 0,
    "start_time": "2023-05-06T10:20:10.211Z"
   },
   {
    "duration": 0,
    "start_time": "2023-05-06T10:20:10.212Z"
   },
   {
    "duration": 0,
    "start_time": "2023-05-06T10:20:10.213Z"
   },
   {
    "duration": 0,
    "start_time": "2023-05-06T10:20:10.213Z"
   },
   {
    "duration": 0,
    "start_time": "2023-05-06T10:20:10.214Z"
   },
   {
    "duration": 0,
    "start_time": "2023-05-06T10:20:10.215Z"
   },
   {
    "duration": 0,
    "start_time": "2023-05-06T10:20:10.216Z"
   },
   {
    "duration": 0,
    "start_time": "2023-05-06T10:20:10.217Z"
   },
   {
    "duration": 0,
    "start_time": "2023-05-06T10:20:10.218Z"
   },
   {
    "duration": 0,
    "start_time": "2023-05-06T10:20:10.219Z"
   },
   {
    "duration": 0,
    "start_time": "2023-05-06T10:20:10.220Z"
   },
   {
    "duration": 0,
    "start_time": "2023-05-06T10:20:10.221Z"
   },
   {
    "duration": 0,
    "start_time": "2023-05-06T10:20:10.221Z"
   },
   {
    "duration": 0,
    "start_time": "2023-05-06T10:20:10.222Z"
   },
   {
    "duration": 0,
    "start_time": "2023-05-06T10:20:10.223Z"
   },
   {
    "duration": 0,
    "start_time": "2023-05-06T10:20:10.224Z"
   },
   {
    "duration": 0,
    "start_time": "2023-05-06T10:20:10.225Z"
   },
   {
    "duration": 0,
    "start_time": "2023-05-06T10:20:10.226Z"
   },
   {
    "duration": 0,
    "start_time": "2023-05-06T10:20:10.227Z"
   },
   {
    "duration": 0,
    "start_time": "2023-05-06T10:20:10.249Z"
   },
   {
    "duration": 0,
    "start_time": "2023-05-06T10:20:10.250Z"
   },
   {
    "duration": 0,
    "start_time": "2023-05-06T10:20:10.251Z"
   },
   {
    "duration": 0,
    "start_time": "2023-05-06T10:20:10.252Z"
   },
   {
    "duration": 0,
    "start_time": "2023-05-06T10:20:10.253Z"
   },
   {
    "duration": 0,
    "start_time": "2023-05-06T10:20:10.254Z"
   },
   {
    "duration": 0,
    "start_time": "2023-05-06T10:20:10.254Z"
   },
   {
    "duration": 0,
    "start_time": "2023-05-06T10:20:10.255Z"
   },
   {
    "duration": 0,
    "start_time": "2023-05-06T10:20:10.256Z"
   },
   {
    "duration": 0,
    "start_time": "2023-05-06T10:20:10.257Z"
   },
   {
    "duration": 0,
    "start_time": "2023-05-06T10:20:10.258Z"
   },
   {
    "duration": 0,
    "start_time": "2023-05-06T10:20:10.259Z"
   },
   {
    "duration": 0,
    "start_time": "2023-05-06T10:20:10.260Z"
   },
   {
    "duration": 0,
    "start_time": "2023-05-06T10:20:10.261Z"
   },
   {
    "duration": 0,
    "start_time": "2023-05-06T10:20:10.262Z"
   },
   {
    "duration": 0,
    "start_time": "2023-05-06T10:20:10.263Z"
   },
   {
    "duration": 0,
    "start_time": "2023-05-06T10:20:10.264Z"
   },
   {
    "duration": 0,
    "start_time": "2023-05-06T10:20:10.265Z"
   },
   {
    "duration": 0,
    "start_time": "2023-05-06T10:20:10.266Z"
   },
   {
    "duration": 0,
    "start_time": "2023-05-06T10:20:10.267Z"
   },
   {
    "duration": 0,
    "start_time": "2023-05-06T10:20:10.268Z"
   },
   {
    "duration": 0,
    "start_time": "2023-05-06T10:20:10.269Z"
   },
   {
    "duration": 0,
    "start_time": "2023-05-06T10:20:10.270Z"
   },
   {
    "duration": 0,
    "start_time": "2023-05-06T10:20:10.271Z"
   },
   {
    "duration": 3,
    "start_time": "2023-05-06T10:20:35.156Z"
   },
   {
    "duration": 12,
    "start_time": "2023-05-06T10:20:36.482Z"
   },
   {
    "duration": 8,
    "start_time": "2023-05-06T10:20:36.709Z"
   },
   {
    "duration": 7,
    "start_time": "2023-05-06T10:20:37.308Z"
   },
   {
    "duration": 12,
    "start_time": "2023-05-06T10:20:37.455Z"
   },
   {
    "duration": 5,
    "start_time": "2023-05-06T10:20:37.655Z"
   },
   {
    "duration": 6,
    "start_time": "2023-05-06T10:20:38.245Z"
   },
   {
    "duration": 6,
    "start_time": "2023-05-06T10:20:38.430Z"
   },
   {
    "duration": 5,
    "start_time": "2023-05-06T10:20:38.740Z"
   },
   {
    "duration": 13,
    "start_time": "2023-05-06T10:20:39.352Z"
   },
   {
    "duration": 28,
    "start_time": "2023-05-06T10:20:39.559Z"
   },
   {
    "duration": 13,
    "start_time": "2023-05-06T10:20:43.930Z"
   },
   {
    "duration": 184,
    "start_time": "2023-05-06T10:20:48.775Z"
   },
   {
    "duration": 9,
    "start_time": "2023-05-06T10:20:48.961Z"
   },
   {
    "duration": 7,
    "start_time": "2023-05-06T10:20:49.209Z"
   },
   {
    "duration": 230,
    "start_time": "2023-05-06T10:20:49.716Z"
   },
   {
    "duration": 6,
    "start_time": "2023-05-06T10:20:49.949Z"
   },
   {
    "duration": 141,
    "start_time": "2023-05-06T10:20:50.111Z"
   },
   {
    "duration": 9,
    "start_time": "2023-05-06T10:20:50.309Z"
   },
   {
    "duration": 10,
    "start_time": "2023-05-06T10:20:50.477Z"
   },
   {
    "duration": 40,
    "start_time": "2023-05-06T10:20:50.670Z"
   },
   {
    "duration": 2426,
    "start_time": "2023-05-06T10:20:50.842Z"
   },
   {
    "duration": 9,
    "start_time": "2023-05-06T10:20:53.270Z"
   },
   {
    "duration": 12,
    "start_time": "2023-05-06T10:20:53.280Z"
   },
   {
    "duration": 0,
    "start_time": "2023-05-06T10:20:53.294Z"
   },
   {
    "duration": 0,
    "start_time": "2023-05-06T10:20:53.295Z"
   },
   {
    "duration": 0,
    "start_time": "2023-05-06T10:20:53.296Z"
   },
   {
    "duration": 0,
    "start_time": "2023-05-06T10:20:53.297Z"
   },
   {
    "duration": 0,
    "start_time": "2023-05-06T10:20:53.299Z"
   },
   {
    "duration": 0,
    "start_time": "2023-05-06T10:20:53.300Z"
   },
   {
    "duration": 0,
    "start_time": "2023-05-06T10:20:53.301Z"
   },
   {
    "duration": 0,
    "start_time": "2023-05-06T10:20:53.302Z"
   },
   {
    "duration": 0,
    "start_time": "2023-05-06T10:20:53.304Z"
   },
   {
    "duration": 0,
    "start_time": "2023-05-06T10:20:53.305Z"
   },
   {
    "duration": 10,
    "start_time": "2023-05-06T10:20:53.316Z"
   },
   {
    "duration": 9,
    "start_time": "2023-05-06T10:20:53.515Z"
   },
   {
    "duration": 9,
    "start_time": "2023-05-06T10:20:53.714Z"
   },
   {
    "duration": 8,
    "start_time": "2023-05-06T10:20:53.910Z"
   },
   {
    "duration": 10,
    "start_time": "2023-05-06T10:21:14.432Z"
   },
   {
    "duration": 1093,
    "start_time": "2023-05-06T11:08:57.116Z"
   },
   {
    "duration": 61,
    "start_time": "2023-05-06T11:09:18.816Z"
   },
   {
    "duration": 106,
    "start_time": "2023-05-06T11:09:47.313Z"
   },
   {
    "duration": 8,
    "start_time": "2023-05-06T11:10:09.111Z"
   },
   {
    "duration": 51,
    "start_time": "2023-05-06T11:10:15.260Z"
   },
   {
    "duration": 29,
    "start_time": "2023-05-06T11:10:16.765Z"
   },
   {
    "duration": 50,
    "start_time": "2023-05-06T14:55:26.508Z"
   },
   {
    "duration": 1404,
    "start_time": "2023-05-06T14:55:30.808Z"
   },
   {
    "duration": 106,
    "start_time": "2023-05-06T14:55:32.926Z"
   },
   {
    "duration": 34,
    "start_time": "2023-05-06T14:55:34.570Z"
   },
   {
    "duration": 1251,
    "start_time": "2023-05-06T14:55:38.411Z"
   },
   {
    "duration": 18,
    "start_time": "2023-05-06T14:56:07.140Z"
   },
   {
    "duration": 15,
    "start_time": "2023-05-06T14:58:16.163Z"
   },
   {
    "duration": 10,
    "start_time": "2023-05-06T15:00:24.298Z"
   },
   {
    "duration": 1522,
    "start_time": "2023-05-06T18:26:18.316Z"
   },
   {
    "duration": 122,
    "start_time": "2023-05-06T18:26:20.059Z"
   },
   {
    "duration": 36,
    "start_time": "2023-05-06T18:26:25.625Z"
   },
   {
    "duration": 34,
    "start_time": "2023-05-06T18:26:38.774Z"
   },
   {
    "duration": 16,
    "start_time": "2023-05-06T18:26:45.389Z"
   },
   {
    "duration": 26,
    "start_time": "2023-05-06T18:31:25.788Z"
   },
   {
    "duration": 106,
    "start_time": "2023-05-06T18:33:18.566Z"
   },
   {
    "duration": 128,
    "start_time": "2023-05-06T18:33:26.664Z"
   },
   {
    "duration": 23,
    "start_time": "2023-05-06T18:33:39.712Z"
   },
   {
    "duration": 32,
    "start_time": "2023-05-06T19:01:40.925Z"
   },
   {
    "duration": 12,
    "start_time": "2023-05-06T19:10:11.495Z"
   },
   {
    "duration": 10,
    "start_time": "2023-05-06T19:10:22.270Z"
   },
   {
    "duration": 4,
    "start_time": "2023-05-06T19:10:27.229Z"
   },
   {
    "duration": 81,
    "start_time": "2023-05-06T19:10:27.971Z"
   },
   {
    "duration": 31,
    "start_time": "2023-05-06T19:10:29.740Z"
   },
   {
    "duration": 22,
    "start_time": "2023-05-06T19:10:30.613Z"
   },
   {
    "duration": 9,
    "start_time": "2023-05-06T19:10:32.235Z"
   },
   {
    "duration": 25,
    "start_time": "2023-05-06T19:10:33.779Z"
   },
   {
    "duration": 18,
    "start_time": "2023-05-06T19:18:09.167Z"
   },
   {
    "duration": 10,
    "start_time": "2023-05-06T19:22:06.552Z"
   },
   {
    "duration": 8,
    "start_time": "2023-05-06T19:22:16.469Z"
   },
   {
    "duration": 12,
    "start_time": "2023-05-06T19:26:42.144Z"
   },
   {
    "duration": 9,
    "start_time": "2023-05-06T19:34:27.530Z"
   },
   {
    "duration": 18,
    "start_time": "2023-05-06T19:35:12.887Z"
   },
   {
    "duration": 3,
    "start_time": "2023-05-06T19:38:53.083Z"
   },
   {
    "duration": 66,
    "start_time": "2023-05-06T19:38:54.436Z"
   },
   {
    "duration": 31,
    "start_time": "2023-05-06T19:38:55.955Z"
   },
   {
    "duration": 16,
    "start_time": "2023-05-06T19:39:36.473Z"
   },
   {
    "duration": 10,
    "start_time": "2023-05-06T19:40:29.336Z"
   },
   {
    "duration": 18,
    "start_time": "2023-05-06T19:40:37.971Z"
   },
   {
    "duration": 18,
    "start_time": "2023-05-06T19:40:42.025Z"
   },
   {
    "duration": 6,
    "start_time": "2023-05-06T19:41:01.820Z"
   },
   {
    "duration": 13,
    "start_time": "2023-05-06T19:41:06.020Z"
   },
   {
    "duration": 10,
    "start_time": "2023-05-06T19:41:23.792Z"
   },
   {
    "duration": 11,
    "start_time": "2023-05-06T19:41:32.913Z"
   },
   {
    "duration": 22,
    "start_time": "2023-05-06T19:41:37.325Z"
   },
   {
    "duration": 29,
    "start_time": "2023-05-06T19:43:05.802Z"
   },
   {
    "duration": 31,
    "start_time": "2023-05-06T19:43:26.994Z"
   },
   {
    "duration": 23,
    "start_time": "2023-05-06T19:45:18.556Z"
   },
   {
    "duration": 97,
    "start_time": "2023-05-06T19:46:09.082Z"
   },
   {
    "duration": 118,
    "start_time": "2023-05-06T19:47:36.404Z"
   },
   {
    "duration": 10,
    "start_time": "2023-05-06T19:48:17.263Z"
   },
   {
    "duration": 27,
    "start_time": "2023-05-06T19:48:23.596Z"
   },
   {
    "duration": 16,
    "start_time": "2023-05-06T19:50:54.189Z"
   },
   {
    "duration": 20,
    "start_time": "2023-05-06T19:50:59.418Z"
   },
   {
    "duration": 15,
    "start_time": "2023-05-06T19:53:01.920Z"
   },
   {
    "duration": 98,
    "start_time": "2023-05-06T19:53:37.287Z"
   },
   {
    "duration": 11,
    "start_time": "2023-05-06T19:54:15.450Z"
   },
   {
    "duration": 29,
    "start_time": "2023-05-06T19:55:48.297Z"
   },
   {
    "duration": 19,
    "start_time": "2023-05-06T21:07:37.338Z"
   },
   {
    "duration": 205,
    "start_time": "2023-05-06T21:07:50.064Z"
   },
   {
    "duration": 21,
    "start_time": "2023-05-06T21:10:39.090Z"
   },
   {
    "duration": 11,
    "start_time": "2023-05-06T21:10:47.354Z"
   },
   {
    "duration": 209,
    "start_time": "2023-05-06T21:12:07.624Z"
   },
   {
    "duration": 8,
    "start_time": "2023-05-06T21:12:24.041Z"
   },
   {
    "duration": 14,
    "start_time": "2023-05-06T21:14:01.922Z"
   },
   {
    "duration": 6,
    "start_time": "2023-05-06T21:21:48.574Z"
   },
   {
    "duration": 353,
    "start_time": "2023-05-06T21:22:11.578Z"
   },
   {
    "duration": 6,
    "start_time": "2023-05-06T21:22:40.226Z"
   },
   {
    "duration": 357,
    "start_time": "2023-05-06T21:22:41.077Z"
   },
   {
    "duration": 7,
    "start_time": "2023-05-06T21:22:53.936Z"
   },
   {
    "duration": 59,
    "start_time": "2023-05-06T21:22:54.210Z"
   },
   {
    "duration": 932,
    "start_time": "2023-05-06T21:25:24.520Z"
   },
   {
    "duration": 931,
    "start_time": "2023-05-06T21:25:58.143Z"
   },
   {
    "duration": 228,
    "start_time": "2023-05-06T21:26:16.827Z"
   },
   {
    "duration": 7,
    "start_time": "2023-05-06T21:32:51.446Z"
   },
   {
    "duration": 73,
    "start_time": "2023-05-06T21:35:02.477Z"
   },
   {
    "duration": 2818,
    "start_time": "2023-05-06T21:35:11.091Z"
   },
   {
    "duration": 49,
    "start_time": "2023-05-06T21:35:39.899Z"
   },
   {
    "duration": 144,
    "start_time": "2023-05-06T21:41:05.301Z"
   },
   {
    "duration": 261,
    "start_time": "2023-05-06T21:41:41.184Z"
   },
   {
    "duration": 1097,
    "start_time": "2023-05-06T21:41:51.906Z"
   },
   {
    "duration": 1247,
    "start_time": "2023-05-06T21:42:41.949Z"
   },
   {
    "duration": 160,
    "start_time": "2023-05-06T21:43:06.988Z"
   },
   {
    "duration": 143,
    "start_time": "2023-05-06T21:43:27.039Z"
   },
   {
    "duration": 292,
    "start_time": "2023-05-06T21:44:52.367Z"
   },
   {
    "duration": 150,
    "start_time": "2023-05-06T21:45:28.609Z"
   },
   {
    "duration": 364,
    "start_time": "2023-05-06T21:45:34.000Z"
   },
   {
    "duration": 289,
    "start_time": "2023-05-06T21:47:27.844Z"
   },
   {
    "duration": 275,
    "start_time": "2023-05-06T21:47:49.138Z"
   },
   {
    "duration": 172,
    "start_time": "2023-05-06T21:54:12.441Z"
   },
   {
    "duration": 181,
    "start_time": "2023-05-06T21:56:58.634Z"
   },
   {
    "duration": 79,
    "start_time": "2023-05-06T21:57:36.732Z"
   },
   {
    "duration": 294,
    "start_time": "2023-05-06T21:58:57.450Z"
   },
   {
    "duration": 179,
    "start_time": "2023-05-06T21:59:44.324Z"
   },
   {
    "duration": 191,
    "start_time": "2023-05-06T21:59:59.863Z"
   },
   {
    "duration": 293,
    "start_time": "2023-05-06T22:00:41.056Z"
   },
   {
    "duration": 172,
    "start_time": "2023-05-06T22:01:06.607Z"
   },
   {
    "duration": 9,
    "start_time": "2023-05-06T22:04:06.025Z"
   },
   {
    "duration": 3,
    "start_time": "2023-05-06T22:04:55.507Z"
   },
   {
    "duration": 4,
    "start_time": "2023-05-06T22:07:19.912Z"
   },
   {
    "duration": 1292,
    "start_time": "2023-05-06T22:07:46.616Z"
   },
   {
    "duration": 399,
    "start_time": "2023-05-06T22:08:45.941Z"
   },
   {
    "duration": 58,
    "start_time": "2023-05-06T22:08:47.568Z"
   },
   {
    "duration": 48,
    "start_time": "2023-05-06T22:08:52.213Z"
   },
   {
    "duration": 51,
    "start_time": "2023-05-06T22:09:38.741Z"
   },
   {
    "duration": 163,
    "start_time": "2023-05-06T22:10:06.729Z"
   },
   {
    "duration": 169,
    "start_time": "2023-05-06T22:10:48.148Z"
   },
   {
    "duration": 371,
    "start_time": "2023-05-06T22:10:53.583Z"
   },
   {
    "duration": 227,
    "start_time": "2023-05-06T22:10:54.389Z"
   },
   {
    "duration": 294,
    "start_time": "2023-05-06T22:10:57.464Z"
   },
   {
    "duration": 181,
    "start_time": "2023-05-06T22:11:31.124Z"
   },
   {
    "duration": 5,
    "start_time": "2023-05-06T22:11:35.313Z"
   },
   {
    "duration": 133,
    "start_time": "2023-05-06T22:11:36.201Z"
   },
   {
    "duration": 1206,
    "start_time": "2023-05-06T22:11:59.661Z"
   },
   {
    "duration": 54,
    "start_time": "2023-05-06T22:12:00.869Z"
   },
   {
    "duration": 34,
    "start_time": "2023-05-06T22:12:00.924Z"
   },
   {
    "duration": 32,
    "start_time": "2023-05-06T22:12:00.960Z"
   },
   {
    "duration": 19,
    "start_time": "2023-05-06T22:12:00.994Z"
   },
   {
    "duration": 39,
    "start_time": "2023-05-06T22:12:01.015Z"
   },
   {
    "duration": 30,
    "start_time": "2023-05-06T22:12:01.057Z"
   },
   {
    "duration": 17,
    "start_time": "2023-05-06T22:12:01.090Z"
   },
   {
    "duration": 45,
    "start_time": "2023-05-06T22:12:01.110Z"
   },
   {
    "duration": 25,
    "start_time": "2023-05-06T22:12:01.158Z"
   },
   {
    "duration": 22,
    "start_time": "2023-05-06T22:12:01.184Z"
   },
   {
    "duration": 52,
    "start_time": "2023-05-06T22:12:01.208Z"
   },
   {
    "duration": 26,
    "start_time": "2023-05-06T22:12:01.262Z"
   },
   {
    "duration": 36,
    "start_time": "2023-05-06T22:12:01.290Z"
   },
   {
    "duration": 38,
    "start_time": "2023-05-06T22:12:01.328Z"
   },
   {
    "duration": 18,
    "start_time": "2023-05-06T22:12:01.368Z"
   },
   {
    "duration": 46,
    "start_time": "2023-05-06T22:12:01.388Z"
   },
   {
    "duration": 95,
    "start_time": "2023-05-06T22:12:01.437Z"
   },
   {
    "duration": 203,
    "start_time": "2023-05-06T22:12:01.534Z"
   },
   {
    "duration": 14,
    "start_time": "2023-05-06T22:12:01.739Z"
   },
   {
    "duration": 34,
    "start_time": "2023-05-06T22:12:01.755Z"
   },
   {
    "duration": 86,
    "start_time": "2023-05-06T22:12:01.791Z"
   },
   {
    "duration": 242,
    "start_time": "2023-05-06T22:12:01.879Z"
   },
   {
    "duration": 6,
    "start_time": "2023-05-06T22:12:02.123Z"
   },
   {
    "duration": 352,
    "start_time": "2023-05-06T22:12:02.131Z"
   },
   {
    "duration": 183,
    "start_time": "2023-05-06T22:12:02.484Z"
   },
   {
    "duration": 322,
    "start_time": "2023-05-06T22:12:02.669Z"
   },
   {
    "duration": 182,
    "start_time": "2023-05-06T22:12:02.996Z"
   },
   {
    "duration": 15,
    "start_time": "2023-05-06T22:12:03.179Z"
   },
   {
    "duration": 237,
    "start_time": "2023-05-06T22:12:03.196Z"
   },
   {
    "duration": 0,
    "start_time": "2023-05-06T22:12:03.436Z"
   },
   {
    "duration": 0,
    "start_time": "2023-05-06T22:12:03.437Z"
   },
   {
    "duration": 0,
    "start_time": "2023-05-06T22:12:03.438Z"
   },
   {
    "duration": 0,
    "start_time": "2023-05-06T22:12:03.439Z"
   },
   {
    "duration": 0,
    "start_time": "2023-05-06T22:12:03.441Z"
   },
   {
    "duration": 0,
    "start_time": "2023-05-06T22:12:03.442Z"
   },
   {
    "duration": 0,
    "start_time": "2023-05-06T22:12:03.443Z"
   },
   {
    "duration": 0,
    "start_time": "2023-05-06T22:12:03.444Z"
   },
   {
    "duration": 0,
    "start_time": "2023-05-06T22:12:03.445Z"
   },
   {
    "duration": 0,
    "start_time": "2023-05-06T22:12:03.446Z"
   },
   {
    "duration": 0,
    "start_time": "2023-05-06T22:12:03.447Z"
   },
   {
    "duration": 0,
    "start_time": "2023-05-06T22:12:03.448Z"
   },
   {
    "duration": 0,
    "start_time": "2023-05-06T22:12:03.449Z"
   },
   {
    "duration": 0,
    "start_time": "2023-05-06T22:12:03.450Z"
   },
   {
    "duration": 0,
    "start_time": "2023-05-06T22:12:03.451Z"
   },
   {
    "duration": 0,
    "start_time": "2023-05-06T22:12:03.452Z"
   },
   {
    "duration": 0,
    "start_time": "2023-05-06T22:12:03.453Z"
   },
   {
    "duration": 0,
    "start_time": "2023-05-06T22:12:03.454Z"
   },
   {
    "duration": 0,
    "start_time": "2023-05-06T22:12:03.455Z"
   },
   {
    "duration": 0,
    "start_time": "2023-05-06T22:12:03.492Z"
   },
   {
    "duration": 0,
    "start_time": "2023-05-06T22:12:03.493Z"
   },
   {
    "duration": 0,
    "start_time": "2023-05-06T22:12:03.494Z"
   },
   {
    "duration": 0,
    "start_time": "2023-05-06T22:12:03.495Z"
   },
   {
    "duration": 0,
    "start_time": "2023-05-06T22:12:03.496Z"
   },
   {
    "duration": 0,
    "start_time": "2023-05-06T22:12:03.497Z"
   },
   {
    "duration": 0,
    "start_time": "2023-05-06T22:12:03.498Z"
   },
   {
    "duration": 0,
    "start_time": "2023-05-06T22:12:03.499Z"
   },
   {
    "duration": 0,
    "start_time": "2023-05-06T22:12:03.500Z"
   },
   {
    "duration": 0,
    "start_time": "2023-05-06T22:12:03.501Z"
   },
   {
    "duration": 0,
    "start_time": "2023-05-06T22:12:03.503Z"
   },
   {
    "duration": 0,
    "start_time": "2023-05-06T22:12:03.504Z"
   },
   {
    "duration": 0,
    "start_time": "2023-05-06T22:12:03.505Z"
   },
   {
    "duration": 0,
    "start_time": "2023-05-06T22:12:03.506Z"
   },
   {
    "duration": 0,
    "start_time": "2023-05-06T22:12:03.507Z"
   },
   {
    "duration": 0,
    "start_time": "2023-05-06T22:12:03.508Z"
   },
   {
    "duration": 0,
    "start_time": "2023-05-06T22:12:03.509Z"
   },
   {
    "duration": 18,
    "start_time": "2023-05-06T22:13:06.895Z"
   },
   {
    "duration": 13,
    "start_time": "2023-05-06T22:13:42.752Z"
   },
   {
    "duration": 207,
    "start_time": "2023-05-06T22:14:15.374Z"
   },
   {
    "duration": 6,
    "start_time": "2023-05-06T22:14:48.380Z"
   },
   {
    "duration": 9,
    "start_time": "2023-05-06T22:17:05.656Z"
   },
   {
    "duration": 313,
    "start_time": "2023-05-06T22:17:24.340Z"
   },
   {
    "duration": 6,
    "start_time": "2023-05-06T22:17:51.679Z"
   },
   {
    "duration": 252,
    "start_time": "2023-05-06T22:18:04.864Z"
   },
   {
    "duration": 236,
    "start_time": "2023-05-06T22:18:44.881Z"
   },
   {
    "duration": 236,
    "start_time": "2023-05-06T22:18:57.682Z"
   },
   {
    "duration": 24,
    "start_time": "2023-05-06T22:29:45.804Z"
   },
   {
    "duration": 28,
    "start_time": "2023-05-06T22:29:53.553Z"
   },
   {
    "duration": 21,
    "start_time": "2023-05-06T22:29:57.686Z"
   },
   {
    "duration": 24,
    "start_time": "2023-05-06T22:30:15.203Z"
   },
   {
    "duration": 10,
    "start_time": "2023-05-06T22:31:37.855Z"
   },
   {
    "duration": 20,
    "start_time": "2023-05-06T22:31:43.841Z"
   },
   {
    "duration": 22,
    "start_time": "2023-05-06T22:31:56.862Z"
   },
   {
    "duration": 24,
    "start_time": "2023-05-06T22:32:46.785Z"
   },
   {
    "duration": 25,
    "start_time": "2023-05-06T22:33:00.951Z"
   },
   {
    "duration": 24,
    "start_time": "2023-05-06T22:33:55.021Z"
   },
   {
    "duration": 25,
    "start_time": "2023-05-06T22:35:05.156Z"
   },
   {
    "duration": 28,
    "start_time": "2023-05-06T22:35:17.631Z"
   },
   {
    "duration": 9,
    "start_time": "2023-05-06T22:38:44.678Z"
   },
   {
    "duration": 10,
    "start_time": "2023-05-06T22:38:50.049Z"
   },
   {
    "duration": 89,
    "start_time": "2023-05-06T22:40:23.770Z"
   },
   {
    "duration": 5,
    "start_time": "2023-05-06T22:47:41.303Z"
   },
   {
    "duration": 12,
    "start_time": "2023-05-06T22:47:52.948Z"
   },
   {
    "duration": 11,
    "start_time": "2023-05-06T22:47:56.070Z"
   },
   {
    "duration": 6,
    "start_time": "2023-05-06T22:47:59.372Z"
   },
   {
    "duration": 5,
    "start_time": "2023-05-06T22:48:11.603Z"
   },
   {
    "duration": 12,
    "start_time": "2023-05-06T22:48:21.148Z"
   },
   {
    "duration": 14,
    "start_time": "2023-05-06T22:50:32.266Z"
   },
   {
    "duration": 11,
    "start_time": "2023-05-06T22:50:48.786Z"
   },
   {
    "duration": 11,
    "start_time": "2023-05-06T22:51:07.036Z"
   },
   {
    "duration": 10,
    "start_time": "2023-05-06T22:51:45.424Z"
   },
   {
    "duration": 15,
    "start_time": "2023-05-06T22:52:40.104Z"
   },
   {
    "duration": 328,
    "start_time": "2023-05-06T22:53:30.657Z"
   },
   {
    "duration": 319,
    "start_time": "2023-05-06T22:53:44.355Z"
   },
   {
    "duration": 330,
    "start_time": "2023-05-06T22:54:35.613Z"
   },
   {
    "duration": 315,
    "start_time": "2023-05-06T22:54:47.412Z"
   },
   {
    "duration": 13,
    "start_time": "2023-05-06T22:54:54.326Z"
   },
   {
    "duration": 318,
    "start_time": "2023-05-06T22:55:28.492Z"
   },
   {
    "duration": 15,
    "start_time": "2023-05-06T22:55:31.733Z"
   },
   {
    "duration": 14,
    "start_time": "2023-05-06T22:55:38.538Z"
   },
   {
    "duration": 15,
    "start_time": "2023-05-06T22:55:58.656Z"
   },
   {
    "duration": 7,
    "start_time": "2023-05-06T23:05:29.573Z"
   },
   {
    "duration": 1218,
    "start_time": "2023-05-06T23:08:49.079Z"
   },
   {
    "duration": 139,
    "start_time": "2023-05-06T23:10:16.540Z"
   },
   {
    "duration": 97,
    "start_time": "2023-05-06T23:11:53.943Z"
   },
   {
    "duration": 72,
    "start_time": "2023-05-06T23:12:02.456Z"
   },
   {
    "duration": 13,
    "start_time": "2023-05-06T23:12:39.606Z"
   },
   {
    "duration": 135,
    "start_time": "2023-05-06T23:12:46.219Z"
   },
   {
    "duration": 521,
    "start_time": "2023-05-06T23:13:45.535Z"
   },
   {
    "duration": 7,
    "start_time": "2023-05-06T23:17:48.051Z"
   },
   {
    "duration": 10,
    "start_time": "2023-05-06T23:19:02.505Z"
   },
   {
    "duration": 216,
    "start_time": "2023-05-06T23:19:11.006Z"
   },
   {
    "duration": 4,
    "start_time": "2023-05-06T23:20:53.875Z"
   },
   {
    "duration": 39,
    "start_time": "2023-05-06T23:21:04.206Z"
   },
   {
    "duration": 29,
    "start_time": "2023-05-06T23:22:29.680Z"
   },
   {
    "duration": 53,
    "start_time": "2023-05-06T23:22:38.891Z"
   },
   {
    "duration": 134,
    "start_time": "2023-05-06T23:23:02.922Z"
   },
   {
    "duration": 33,
    "start_time": "2023-05-06T23:23:29.104Z"
   },
   {
    "duration": 40,
    "start_time": "2023-05-06T23:23:33.885Z"
   },
   {
    "duration": 315,
    "start_time": "2023-05-06T23:24:28.452Z"
   },
   {
    "duration": 403,
    "start_time": "2023-05-06T23:25:42.173Z"
   },
   {
    "duration": 35,
    "start_time": "2023-05-06T23:25:59.455Z"
   },
   {
    "duration": 11,
    "start_time": "2023-05-06T23:27:42.202Z"
   },
   {
    "duration": 14,
    "start_time": "2023-05-06T23:28:04.725Z"
   },
   {
    "duration": 21,
    "start_time": "2023-05-06T23:29:01.756Z"
   },
   {
    "duration": 41,
    "start_time": "2023-05-06T23:31:44.134Z"
   },
   {
    "duration": 37,
    "start_time": "2023-05-06T23:32:04.159Z"
   },
   {
    "duration": 9,
    "start_time": "2023-05-06T23:39:15.223Z"
   },
   {
    "duration": 12,
    "start_time": "2023-05-06T23:39:20.777Z"
   },
   {
    "duration": 9,
    "start_time": "2023-05-06T23:39:32.565Z"
   },
   {
    "duration": 142,
    "start_time": "2023-05-06T23:42:08.068Z"
   },
   {
    "duration": 228,
    "start_time": "2023-05-06T23:42:16.612Z"
   },
   {
    "duration": 218,
    "start_time": "2023-05-06T23:42:58.274Z"
   },
   {
    "duration": 8,
    "start_time": "2023-05-06T23:46:18.588Z"
   },
   {
    "duration": 72,
    "start_time": "2023-05-07T00:27:45.353Z"
   },
   {
    "duration": 1096,
    "start_time": "2023-05-07T00:28:09.813Z"
   },
   {
    "duration": 50,
    "start_time": "2023-05-07T00:28:10.911Z"
   },
   {
    "duration": 31,
    "start_time": "2023-05-07T00:28:10.963Z"
   },
   {
    "duration": 16,
    "start_time": "2023-05-07T00:28:10.996Z"
   },
   {
    "duration": 14,
    "start_time": "2023-05-07T00:28:11.015Z"
   },
   {
    "duration": 40,
    "start_time": "2023-05-07T00:28:11.030Z"
   },
   {
    "duration": 35,
    "start_time": "2023-05-07T00:28:11.072Z"
   },
   {
    "duration": 12,
    "start_time": "2023-05-07T00:28:11.109Z"
   },
   {
    "duration": 58,
    "start_time": "2023-05-07T00:28:11.123Z"
   },
   {
    "duration": 9,
    "start_time": "2023-05-07T00:28:11.183Z"
   },
   {
    "duration": 56,
    "start_time": "2023-05-07T00:28:11.194Z"
   },
   {
    "duration": 29,
    "start_time": "2023-05-07T00:28:11.252Z"
   },
   {
    "duration": 19,
    "start_time": "2023-05-07T00:28:11.282Z"
   },
   {
    "duration": 27,
    "start_time": "2023-05-07T00:28:11.305Z"
   },
   {
    "duration": 32,
    "start_time": "2023-05-07T00:28:11.333Z"
   },
   {
    "duration": 29,
    "start_time": "2023-05-07T00:28:11.366Z"
   },
   {
    "duration": 29,
    "start_time": "2023-05-07T00:28:11.397Z"
   },
   {
    "duration": 69,
    "start_time": "2023-05-07T00:28:11.428Z"
   },
   {
    "duration": 184,
    "start_time": "2023-05-07T00:28:11.498Z"
   },
   {
    "duration": 16,
    "start_time": "2023-05-07T00:28:11.684Z"
   },
   {
    "duration": 13,
    "start_time": "2023-05-07T00:28:11.702Z"
   },
   {
    "duration": 53,
    "start_time": "2023-05-07T00:28:11.716Z"
   },
   {
    "duration": 226,
    "start_time": "2023-05-07T00:28:11.770Z"
   },
   {
    "duration": 6,
    "start_time": "2023-05-07T00:28:11.997Z"
   },
   {
    "duration": 293,
    "start_time": "2023-05-07T00:28:12.004Z"
   },
   {
    "duration": 185,
    "start_time": "2023-05-07T00:28:12.298Z"
   },
   {
    "duration": 295,
    "start_time": "2023-05-07T00:28:12.484Z"
   },
   {
    "duration": 192,
    "start_time": "2023-05-07T00:28:12.781Z"
   },
   {
    "duration": 306,
    "start_time": "2023-05-07T00:28:12.975Z"
   },
   {
    "duration": 265,
    "start_time": "2023-05-07T00:28:13.283Z"
   },
   {
    "duration": 43,
    "start_time": "2023-05-07T00:28:13.550Z"
   },
   {
    "duration": 97,
    "start_time": "2023-05-07T00:28:13.596Z"
   },
   {
    "duration": 17,
    "start_time": "2023-05-07T00:28:13.695Z"
   },
   {
    "duration": 8,
    "start_time": "2023-05-07T00:28:13.714Z"
   },
   {
    "duration": 23,
    "start_time": "2023-05-07T00:28:13.723Z"
   },
   {
    "duration": 257,
    "start_time": "2023-05-07T00:28:13.748Z"
   },
   {
    "duration": 38,
    "start_time": "2023-05-07T00:28:14.007Z"
   },
   {
    "duration": 80,
    "start_time": "2023-05-07T00:28:14.046Z"
   },
   {
    "duration": 0,
    "start_time": "2023-05-07T00:28:14.128Z"
   },
   {
    "duration": 0,
    "start_time": "2023-05-07T00:28:14.129Z"
   },
   {
    "duration": 0,
    "start_time": "2023-05-07T00:28:14.130Z"
   },
   {
    "duration": 0,
    "start_time": "2023-05-07T00:28:14.131Z"
   },
   {
    "duration": 0,
    "start_time": "2023-05-07T00:28:14.133Z"
   },
   {
    "duration": 0,
    "start_time": "2023-05-07T00:28:14.133Z"
   },
   {
    "duration": 0,
    "start_time": "2023-05-07T00:28:14.134Z"
   },
   {
    "duration": 1,
    "start_time": "2023-05-07T00:28:14.135Z"
   },
   {
    "duration": 0,
    "start_time": "2023-05-07T00:28:14.137Z"
   },
   {
    "duration": 0,
    "start_time": "2023-05-07T00:28:14.138Z"
   },
   {
    "duration": 0,
    "start_time": "2023-05-07T00:28:14.139Z"
   },
   {
    "duration": 0,
    "start_time": "2023-05-07T00:28:14.140Z"
   },
   {
    "duration": 0,
    "start_time": "2023-05-07T00:28:14.141Z"
   },
   {
    "duration": 0,
    "start_time": "2023-05-07T00:28:14.142Z"
   },
   {
    "duration": 0,
    "start_time": "2023-05-07T00:28:14.143Z"
   },
   {
    "duration": 0,
    "start_time": "2023-05-07T00:28:14.144Z"
   },
   {
    "duration": 0,
    "start_time": "2023-05-07T00:28:14.145Z"
   },
   {
    "duration": 0,
    "start_time": "2023-05-07T00:28:14.146Z"
   },
   {
    "duration": 0,
    "start_time": "2023-05-07T00:28:14.147Z"
   },
   {
    "duration": 0,
    "start_time": "2023-05-07T00:28:14.148Z"
   },
   {
    "duration": 0,
    "start_time": "2023-05-07T00:28:14.149Z"
   },
   {
    "duration": 1,
    "start_time": "2023-05-07T00:28:14.149Z"
   },
   {
    "duration": 2,
    "start_time": "2023-05-07T00:28:56.785Z"
   },
   {
    "duration": 47,
    "start_time": "2023-05-07T00:28:57.826Z"
   },
   {
    "duration": 28,
    "start_time": "2023-05-07T00:28:58.709Z"
   },
   {
    "duration": 14,
    "start_time": "2023-05-07T00:28:59.384Z"
   },
   {
    "duration": 9,
    "start_time": "2023-05-07T00:28:59.702Z"
   },
   {
    "duration": 14,
    "start_time": "2023-05-07T00:29:00.097Z"
   },
   {
    "duration": 12,
    "start_time": "2023-05-07T00:29:00.480Z"
   },
   {
    "duration": 5,
    "start_time": "2023-05-07T00:29:00.879Z"
   },
   {
    "duration": 12,
    "start_time": "2023-05-07T00:29:01.291Z"
   },
   {
    "duration": 5,
    "start_time": "2023-05-07T00:29:01.679Z"
   },
   {
    "duration": 10,
    "start_time": "2023-05-07T00:29:01.975Z"
   },
   {
    "duration": 21,
    "start_time": "2023-05-07T00:29:02.360Z"
   },
   {
    "duration": 16,
    "start_time": "2023-05-07T00:29:02.840Z"
   },
   {
    "duration": 14,
    "start_time": "2023-05-07T00:29:03.497Z"
   },
   {
    "duration": 18,
    "start_time": "2023-05-07T00:29:03.830Z"
   },
   {
    "duration": 12,
    "start_time": "2023-05-07T00:29:04.197Z"
   },
   {
    "duration": 12,
    "start_time": "2023-05-07T00:29:04.558Z"
   },
   {
    "duration": 19,
    "start_time": "2023-05-07T00:29:05.100Z"
   },
   {
    "duration": 164,
    "start_time": "2023-05-07T00:29:06.009Z"
   },
   {
    "duration": 11,
    "start_time": "2023-05-07T00:29:06.199Z"
   },
   {
    "duration": 6,
    "start_time": "2023-05-07T00:29:07.108Z"
   },
   {
    "duration": 63,
    "start_time": "2023-05-07T00:29:07.314Z"
   },
   {
    "duration": 233,
    "start_time": "2023-05-07T00:29:07.799Z"
   },
   {
    "duration": 5,
    "start_time": "2023-05-07T00:29:08.771Z"
   },
   {
    "duration": 270,
    "start_time": "2023-05-07T00:29:09.288Z"
   },
   {
    "duration": 170,
    "start_time": "2023-05-07T00:29:09.560Z"
   },
   {
    "duration": 267,
    "start_time": "2023-05-07T00:29:10.403Z"
   },
   {
    "duration": 173,
    "start_time": "2023-05-07T00:29:10.672Z"
   },
   {
    "duration": 246,
    "start_time": "2023-05-07T00:29:10.929Z"
   },
   {
    "duration": 237,
    "start_time": "2023-05-07T00:29:11.416Z"
   },
   {
    "duration": 27,
    "start_time": "2023-05-07T00:29:12.204Z"
   },
   {
    "duration": 10,
    "start_time": "2023-05-07T00:29:13.571Z"
   },
   {
    "duration": 15,
    "start_time": "2023-05-07T00:29:14.744Z"
   },
   {
    "duration": 7,
    "start_time": "2023-05-07T00:29:16.872Z"
   },
   {
    "duration": 20,
    "start_time": "2023-05-07T00:29:18.355Z"
   },
   {
    "duration": 212,
    "start_time": "2023-05-07T00:29:19.073Z"
   },
   {
    "duration": 37,
    "start_time": "2023-05-07T00:29:19.317Z"
   },
   {
    "duration": 72,
    "start_time": "2023-05-07T00:29:22.196Z"
   },
   {
    "duration": 11,
    "start_time": "2023-05-07T00:29:43.037Z"
   },
   {
    "duration": 330,
    "start_time": "2023-05-07T00:29:45.575Z"
   },
   {
    "duration": 217,
    "start_time": "2023-05-07T00:29:50.802Z"
   },
   {
    "duration": 12,
    "start_time": "2023-05-07T00:29:57.357Z"
   },
   {
    "duration": 19,
    "start_time": "2023-05-07T00:30:54.375Z"
   },
   {
    "duration": 9,
    "start_time": "2023-05-07T00:31:01.508Z"
   },
   {
    "duration": 8,
    "start_time": "2023-05-07T00:31:48.829Z"
   },
   {
    "duration": 8,
    "start_time": "2023-05-07T00:32:21.496Z"
   },
   {
    "duration": 10,
    "start_time": "2023-05-07T00:32:40.352Z"
   },
   {
    "duration": 8,
    "start_time": "2023-05-07T00:32:57.626Z"
   },
   {
    "duration": 8,
    "start_time": "2023-05-07T00:33:22.251Z"
   },
   {
    "duration": 10,
    "start_time": "2023-05-07T00:33:39.048Z"
   },
   {
    "duration": 9,
    "start_time": "2023-05-07T00:34:21.398Z"
   },
   {
    "duration": 221,
    "start_time": "2023-05-07T00:36:14.231Z"
   },
   {
    "duration": 227,
    "start_time": "2023-05-07T00:36:17.111Z"
   },
   {
    "duration": 206,
    "start_time": "2023-05-07T00:36:19.834Z"
   },
   {
    "duration": 204,
    "start_time": "2023-05-07T00:36:22.637Z"
   },
   {
    "duration": 190,
    "start_time": "2023-05-07T00:40:19.614Z"
   },
   {
    "duration": 215,
    "start_time": "2023-05-07T00:40:43.996Z"
   },
   {
    "duration": 32,
    "start_time": "2023-05-07T00:46:05.973Z"
   },
   {
    "duration": 45,
    "start_time": "2023-05-07T00:46:37.532Z"
   },
   {
    "duration": 606,
    "start_time": "2023-05-07T00:49:33.034Z"
   },
   {
    "duration": 171,
    "start_time": "2023-05-07T00:49:40.147Z"
   },
   {
    "duration": 1388,
    "start_time": "2023-05-07T00:51:13.498Z"
   },
   {
    "duration": 1153,
    "start_time": "2023-05-07T00:52:27.950Z"
   },
   {
    "duration": 47,
    "start_time": "2023-05-07T00:52:44.755Z"
   },
   {
    "duration": 42,
    "start_time": "2023-05-07T00:53:00.550Z"
   },
   {
    "duration": 40,
    "start_time": "2023-05-07T00:53:57.945Z"
   },
   {
    "duration": 39,
    "start_time": "2023-05-07T00:54:21.202Z"
   },
   {
    "duration": 39,
    "start_time": "2023-05-07T00:54:41.712Z"
   },
   {
    "duration": 252,
    "start_time": "2023-05-07T00:58:06.091Z"
   },
   {
    "duration": 11,
    "start_time": "2023-05-07T00:58:37.942Z"
   },
   {
    "duration": 290,
    "start_time": "2023-05-07T00:58:45.504Z"
   },
   {
    "duration": 40,
    "start_time": "2023-05-07T00:59:13.473Z"
   },
   {
    "duration": 394,
    "start_time": "2023-05-07T01:00:10.283Z"
   },
   {
    "duration": 39,
    "start_time": "2023-05-07T01:00:30.737Z"
   },
   {
    "duration": 365,
    "start_time": "2023-05-07T01:00:37.491Z"
   },
   {
    "duration": 38,
    "start_time": "2023-05-07T01:00:49.842Z"
   },
   {
    "duration": 38,
    "start_time": "2023-05-07T01:04:30.052Z"
   },
   {
    "duration": 38,
    "start_time": "2023-05-07T01:04:45.664Z"
   },
   {
    "duration": 38,
    "start_time": "2023-05-07T01:07:06.215Z"
   },
   {
    "duration": 39,
    "start_time": "2023-05-07T01:07:16.532Z"
   },
   {
    "duration": 23,
    "start_time": "2023-05-07T01:17:09.937Z"
   },
   {
    "duration": 190,
    "start_time": "2023-05-07T01:17:21.558Z"
   },
   {
    "duration": 37,
    "start_time": "2023-05-07T01:17:27.202Z"
   },
   {
    "duration": 8,
    "start_time": "2023-05-07T01:17:40.238Z"
   },
   {
    "duration": 215,
    "start_time": "2023-05-07T01:17:41.101Z"
   },
   {
    "duration": 214,
    "start_time": "2023-05-07T01:17:48.857Z"
   },
   {
    "duration": 235,
    "start_time": "2023-05-07T01:17:54.585Z"
   },
   {
    "duration": 219,
    "start_time": "2023-05-07T01:17:59.042Z"
   },
   {
    "duration": 320,
    "start_time": "2023-05-07T01:18:00.137Z"
   },
   {
    "duration": 103,
    "start_time": "2023-05-07T01:45:28.519Z"
   },
   {
    "duration": 14,
    "start_time": "2023-05-07T01:47:38.884Z"
   },
   {
    "duration": 1264,
    "start_time": "2023-05-07T01:49:12.036Z"
   },
   {
    "duration": 1287,
    "start_time": "2023-05-07T01:49:45.347Z"
   },
   {
    "duration": 1262,
    "start_time": "2023-05-07T01:50:10.970Z"
   },
   {
    "duration": 14,
    "start_time": "2023-05-07T01:50:35.284Z"
   },
   {
    "duration": 300,
    "start_time": "2023-05-07T01:51:22.989Z"
   },
   {
    "duration": 295,
    "start_time": "2023-05-07T01:51:31.178Z"
   },
   {
    "duration": 12,
    "start_time": "2023-05-07T01:51:42.628Z"
   },
   {
    "duration": 81,
    "start_time": "2023-05-07T01:52:31.746Z"
   },
   {
    "duration": 1262,
    "start_time": "2023-05-07T01:52:41.989Z"
   },
   {
    "duration": 15,
    "start_time": "2023-05-07T01:52:52.857Z"
   },
   {
    "duration": 14,
    "start_time": "2023-05-07T01:53:56.702Z"
   },
   {
    "duration": 15,
    "start_time": "2023-05-07T01:56:52.527Z"
   },
   {
    "duration": 14,
    "start_time": "2023-05-07T02:03:39.092Z"
   },
   {
    "duration": 15,
    "start_time": "2023-05-07T02:03:40.142Z"
   },
   {
    "duration": 68,
    "start_time": "2023-05-07T02:06:55.931Z"
   },
   {
    "duration": 14,
    "start_time": "2023-05-07T02:07:23.069Z"
   },
   {
    "duration": 16,
    "start_time": "2023-05-07T02:07:23.834Z"
   },
   {
    "duration": 228,
    "start_time": "2023-05-07T02:13:45.139Z"
   },
   {
    "duration": 10,
    "start_time": "2023-05-07T02:38:40.556Z"
   },
   {
    "duration": 11,
    "start_time": "2023-05-07T02:38:57.215Z"
   },
   {
    "duration": 105,
    "start_time": "2023-05-07T02:39:14.061Z"
   },
   {
    "duration": 149,
    "start_time": "2023-05-07T02:39:19.264Z"
   },
   {
    "duration": 165,
    "start_time": "2023-05-07T02:39:38.333Z"
   },
   {
    "duration": 161,
    "start_time": "2023-05-07T02:40:36.886Z"
   },
   {
    "duration": 172,
    "start_time": "2023-05-07T02:41:37.093Z"
   },
   {
    "duration": 10,
    "start_time": "2023-05-07T02:45:20.189Z"
   },
   {
    "duration": 269,
    "start_time": "2023-05-07T02:46:16.363Z"
   },
   {
    "duration": 82,
    "start_time": "2023-05-07T02:47:33.547Z"
   },
   {
    "duration": 1144,
    "start_time": "2023-05-07T03:02:59.599Z"
   },
   {
    "duration": 47,
    "start_time": "2023-05-07T03:03:00.745Z"
   },
   {
    "duration": 29,
    "start_time": "2023-05-07T03:03:00.794Z"
   },
   {
    "duration": 14,
    "start_time": "2023-05-07T03:03:00.825Z"
   },
   {
    "duration": 21,
    "start_time": "2023-05-07T03:03:00.841Z"
   },
   {
    "duration": 28,
    "start_time": "2023-05-07T03:03:00.864Z"
   },
   {
    "duration": 33,
    "start_time": "2023-05-07T03:03:00.894Z"
   },
   {
    "duration": 18,
    "start_time": "2023-05-07T03:03:00.928Z"
   },
   {
    "duration": 26,
    "start_time": "2023-05-07T03:03:00.948Z"
   },
   {
    "duration": 24,
    "start_time": "2023-05-07T03:03:00.976Z"
   },
   {
    "duration": 31,
    "start_time": "2023-05-07T03:03:01.002Z"
   },
   {
    "duration": 41,
    "start_time": "2023-05-07T03:03:01.035Z"
   },
   {
    "duration": 22,
    "start_time": "2023-05-07T03:03:01.078Z"
   },
   {
    "duration": 29,
    "start_time": "2023-05-07T03:03:01.103Z"
   },
   {
    "duration": 31,
    "start_time": "2023-05-07T03:03:01.134Z"
   },
   {
    "duration": 35,
    "start_time": "2023-05-07T03:03:01.166Z"
   },
   {
    "duration": 24,
    "start_time": "2023-05-07T03:03:01.203Z"
   },
   {
    "duration": 36,
    "start_time": "2023-05-07T03:03:01.229Z"
   },
   {
    "duration": 212,
    "start_time": "2023-05-07T03:03:01.267Z"
   },
   {
    "duration": 17,
    "start_time": "2023-05-07T03:03:01.481Z"
   },
   {
    "duration": 14,
    "start_time": "2023-05-07T03:03:01.499Z"
   },
   {
    "duration": 94,
    "start_time": "2023-05-07T03:03:01.514Z"
   },
   {
    "duration": 237,
    "start_time": "2023-05-07T03:03:01.610Z"
   },
   {
    "duration": 6,
    "start_time": "2023-05-07T03:03:01.849Z"
   },
   {
    "duration": 340,
    "start_time": "2023-05-07T03:03:01.857Z"
   },
   {
    "duration": 195,
    "start_time": "2023-05-07T03:03:02.199Z"
   },
   {
    "duration": 306,
    "start_time": "2023-05-07T03:03:02.397Z"
   },
   {
    "duration": 190,
    "start_time": "2023-05-07T03:03:02.705Z"
   },
   {
    "duration": 295,
    "start_time": "2023-05-07T03:03:02.897Z"
   },
   {
    "duration": 245,
    "start_time": "2023-05-07T03:03:03.195Z"
   },
   {
    "duration": 27,
    "start_time": "2023-05-07T03:03:03.442Z"
   },
   {
    "duration": 95,
    "start_time": "2023-05-07T03:03:03.471Z"
   },
   {
    "duration": 26,
    "start_time": "2023-05-07T03:03:03.568Z"
   },
   {
    "duration": 12,
    "start_time": "2023-05-07T03:03:03.596Z"
   },
   {
    "duration": 26,
    "start_time": "2023-05-07T03:03:03.609Z"
   },
   {
    "duration": 214,
    "start_time": "2023-05-07T03:03:03.637Z"
   },
   {
    "duration": 39,
    "start_time": "2023-05-07T03:03:03.853Z"
   },
   {
    "duration": 8,
    "start_time": "2023-05-07T03:03:03.894Z"
   },
   {
    "duration": 225,
    "start_time": "2023-05-07T03:03:03.904Z"
   },
   {
    "duration": 227,
    "start_time": "2023-05-07T03:03:04.131Z"
   },
   {
    "duration": 240,
    "start_time": "2023-05-07T03:03:04.362Z"
   },
   {
    "duration": 237,
    "start_time": "2023-05-07T03:03:04.604Z"
   },
   {
    "duration": 231,
    "start_time": "2023-05-07T03:03:04.843Z"
   },
   {
    "duration": 53,
    "start_time": "2023-05-07T03:03:05.075Z"
   },
   {
    "duration": 184,
    "start_time": "2023-05-07T03:03:05.130Z"
   },
   {
    "duration": 300,
    "start_time": "2023-05-07T03:03:05.315Z"
   },
   {
    "duration": 39,
    "start_time": "2023-05-07T03:03:05.616Z"
   },
   {
    "duration": 14,
    "start_time": "2023-05-07T03:03:05.657Z"
   },
   {
    "duration": 31,
    "start_time": "2023-05-07T03:03:05.672Z"
   },
   {
    "duration": 13,
    "start_time": "2023-05-07T03:03:05.704Z"
   },
   {
    "duration": 13,
    "start_time": "2023-05-07T03:03:05.719Z"
   },
   {
    "duration": 22,
    "start_time": "2023-05-07T03:03:05.734Z"
   },
   {
    "duration": 41,
    "start_time": "2023-05-07T03:03:05.758Z"
   },
   {
    "duration": 222,
    "start_time": "2023-05-07T03:03:05.801Z"
   },
   {
    "duration": 9,
    "start_time": "2023-05-07T03:03:06.025Z"
   },
   {
    "duration": 294,
    "start_time": "2023-05-07T03:03:06.035Z"
   },
   {
    "duration": 11,
    "start_time": "2023-05-07T03:03:06.331Z"
   },
   {
    "duration": 186,
    "start_time": "2023-05-07T03:03:06.344Z"
   },
   {
    "duration": 1281,
    "start_time": "2023-05-07T10:03:01.809Z"
   },
   {
    "duration": 220,
    "start_time": "2023-05-07T10:03:03.093Z"
   },
   {
    "duration": 28,
    "start_time": "2023-05-07T10:03:03.315Z"
   },
   {
    "duration": 19,
    "start_time": "2023-05-07T10:03:03.346Z"
   },
   {
    "duration": 20,
    "start_time": "2023-05-07T10:03:03.366Z"
   },
   {
    "duration": 17,
    "start_time": "2023-05-07T10:03:03.388Z"
   },
   {
    "duration": 12,
    "start_time": "2023-05-07T10:03:03.407Z"
   },
   {
    "duration": 5,
    "start_time": "2023-05-07T10:03:03.421Z"
   },
   {
    "duration": 13,
    "start_time": "2023-05-07T10:03:03.427Z"
   },
   {
    "duration": 16,
    "start_time": "2023-05-07T10:03:03.443Z"
   },
   {
    "duration": 13,
    "start_time": "2023-05-07T10:03:03.464Z"
   },
   {
    "duration": 28,
    "start_time": "2023-05-07T10:03:03.478Z"
   },
   {
    "duration": 14,
    "start_time": "2023-05-07T10:03:03.507Z"
   },
   {
    "duration": 16,
    "start_time": "2023-05-07T10:03:03.523Z"
   },
   {
    "duration": 36,
    "start_time": "2023-05-07T10:03:03.541Z"
   },
   {
    "duration": 14,
    "start_time": "2023-05-07T10:03:03.579Z"
   },
   {
    "duration": 13,
    "start_time": "2023-05-07T10:03:03.594Z"
   },
   {
    "duration": 19,
    "start_time": "2023-05-07T10:03:03.608Z"
   },
   {
    "duration": 196,
    "start_time": "2023-05-07T10:03:03.629Z"
   },
   {
    "duration": 9,
    "start_time": "2023-05-07T10:03:03.826Z"
   },
   {
    "duration": 23,
    "start_time": "2023-05-07T10:03:03.836Z"
   },
   {
    "duration": 52,
    "start_time": "2023-05-07T10:03:03.861Z"
   },
   {
    "duration": 219,
    "start_time": "2023-05-07T10:03:03.914Z"
   },
   {
    "duration": 6,
    "start_time": "2023-05-07T10:03:04.134Z"
   },
   {
    "duration": 266,
    "start_time": "2023-05-07T10:03:04.148Z"
   },
   {
    "duration": 170,
    "start_time": "2023-05-07T10:03:04.415Z"
   },
   {
    "duration": 306,
    "start_time": "2023-05-07T10:03:04.587Z"
   },
   {
    "duration": 176,
    "start_time": "2023-05-07T10:03:04.897Z"
   },
   {
    "duration": 265,
    "start_time": "2023-05-07T10:03:05.075Z"
   },
   {
    "duration": 254,
    "start_time": "2023-05-07T10:03:05.341Z"
   },
   {
    "duration": 26,
    "start_time": "2023-05-07T10:03:05.597Z"
   },
   {
    "duration": 79,
    "start_time": "2023-05-07T10:03:05.625Z"
   },
   {
    "duration": 14,
    "start_time": "2023-05-07T10:03:05.705Z"
   },
   {
    "duration": 10,
    "start_time": "2023-05-07T10:03:05.720Z"
   },
   {
    "duration": 36,
    "start_time": "2023-05-07T10:03:05.732Z"
   },
   {
    "duration": 218,
    "start_time": "2023-05-07T10:03:05.770Z"
   },
   {
    "duration": 34,
    "start_time": "2023-05-07T10:03:05.989Z"
   },
   {
    "duration": 11,
    "start_time": "2023-05-07T10:03:06.024Z"
   },
   {
    "duration": 213,
    "start_time": "2023-05-07T10:03:06.059Z"
   },
   {
    "duration": 217,
    "start_time": "2023-05-07T10:03:06.273Z"
   },
   {
    "duration": 210,
    "start_time": "2023-05-07T10:03:06.492Z"
   },
   {
    "duration": 223,
    "start_time": "2023-05-07T10:03:06.703Z"
   },
   {
    "duration": 216,
    "start_time": "2023-05-07T10:03:06.928Z"
   },
   {
    "duration": 50,
    "start_time": "2023-05-07T10:03:07.146Z"
   },
   {
    "duration": 186,
    "start_time": "2023-05-07T10:03:07.197Z"
   },
   {
    "duration": 282,
    "start_time": "2023-05-07T10:03:07.385Z"
   },
   {
    "duration": 44,
    "start_time": "2023-05-07T10:03:07.669Z"
   },
   {
    "duration": 13,
    "start_time": "2023-05-07T10:03:07.715Z"
   },
   {
    "duration": 15,
    "start_time": "2023-05-07T10:03:07.749Z"
   },
   {
    "duration": 27,
    "start_time": "2023-05-07T10:03:07.766Z"
   },
   {
    "duration": 18,
    "start_time": "2023-05-07T10:03:07.795Z"
   },
   {
    "duration": 12,
    "start_time": "2023-05-07T10:03:07.815Z"
   },
   {
    "duration": 39,
    "start_time": "2023-05-07T10:03:07.829Z"
   },
   {
    "duration": 226,
    "start_time": "2023-05-07T10:03:07.870Z"
   },
   {
    "duration": 14,
    "start_time": "2023-05-07T10:03:08.098Z"
   },
   {
    "duration": 256,
    "start_time": "2023-05-07T10:03:08.114Z"
   },
   {
    "duration": 9,
    "start_time": "2023-05-07T10:03:08.372Z"
   },
   {
    "duration": 153,
    "start_time": "2023-05-07T10:03:08.383Z"
   },
   {
    "duration": 1227,
    "start_time": "2023-05-07T16:13:45.231Z"
   },
   {
    "duration": 192,
    "start_time": "2023-05-07T16:13:47.748Z"
   },
   {
    "duration": 27,
    "start_time": "2023-05-07T16:13:48.796Z"
   },
   {
    "duration": 12,
    "start_time": "2023-05-07T16:13:54.808Z"
   },
   {
    "duration": 8,
    "start_time": "2023-05-07T16:13:59.441Z"
   },
   {
    "duration": 11,
    "start_time": "2023-05-07T16:14:01.626Z"
   },
   {
    "duration": 10,
    "start_time": "2023-05-07T16:14:02.574Z"
   },
   {
    "duration": 4,
    "start_time": "2023-05-07T16:14:18.260Z"
   },
   {
    "duration": 11,
    "start_time": "2023-05-07T16:14:18.852Z"
   },
   {
    "duration": 4,
    "start_time": "2023-05-07T16:14:19.683Z"
   },
   {
    "duration": 10,
    "start_time": "2023-05-07T16:14:23.332Z"
   },
   {
    "duration": 19,
    "start_time": "2023-05-07T16:14:29.327Z"
   },
   {
    "duration": 16,
    "start_time": "2023-05-07T16:14:33.492Z"
   },
   {
    "duration": 14,
    "start_time": "2023-05-07T16:14:36.598Z"
   },
   {
    "duration": 17,
    "start_time": "2023-05-07T16:14:37.576Z"
   },
   {
    "duration": 11,
    "start_time": "2023-05-07T16:14:40.044Z"
   },
   {
    "duration": 12,
    "start_time": "2023-05-07T16:14:40.613Z"
   },
   {
    "duration": 17,
    "start_time": "2023-05-07T16:14:44.414Z"
   },
   {
    "duration": 150,
    "start_time": "2023-05-07T16:15:13.945Z"
   },
   {
    "duration": 9,
    "start_time": "2023-05-07T16:15:16.574Z"
   },
   {
    "duration": 5,
    "start_time": "2023-05-07T16:15:23.593Z"
   },
   {
    "duration": 69,
    "start_time": "2023-05-07T16:15:25.089Z"
   },
   {
    "duration": 217,
    "start_time": "2023-05-07T16:15:27.627Z"
   },
   {
    "duration": 5,
    "start_time": "2023-05-07T16:15:30.993Z"
   },
   {
    "duration": 210,
    "start_time": "2023-05-07T16:15:55.184Z"
   },
   {
    "duration": 154,
    "start_time": "2023-05-07T16:17:19.913Z"
   },
   {
    "duration": 175,
    "start_time": "2023-05-07T16:19:22.758Z"
   },
   {
    "duration": 260,
    "start_time": "2023-05-07T16:19:39.216Z"
   },
   {
    "duration": 163,
    "start_time": "2023-05-07T16:19:51.592Z"
   },
   {
    "duration": 268,
    "start_time": "2023-05-07T16:20:08.552Z"
   },
   {
    "duration": 251,
    "start_time": "2023-05-07T16:21:03.753Z"
   },
   {
    "duration": 176,
    "start_time": "2023-05-07T16:21:10.985Z"
   },
   {
    "duration": 121,
    "start_time": "2023-05-07T16:21:46.928Z"
   },
   {
    "duration": 155,
    "start_time": "2023-05-07T16:23:37.348Z"
   },
   {
    "duration": 117,
    "start_time": "2023-05-07T16:25:09.705Z"
   },
   {
    "duration": 2,
    "start_time": "2023-05-07T16:25:48.132Z"
   },
   {
    "duration": 46,
    "start_time": "2023-05-07T16:25:48.531Z"
   },
   {
    "duration": 22,
    "start_time": "2023-05-07T16:25:48.853Z"
   },
   {
    "duration": 13,
    "start_time": "2023-05-07T16:25:49.647Z"
   },
   {
    "duration": 8,
    "start_time": "2023-05-07T16:25:50.560Z"
   },
   {
    "duration": 11,
    "start_time": "2023-05-07T16:25:50.918Z"
   },
   {
    "duration": 11,
    "start_time": "2023-05-07T16:25:51.292Z"
   },
   {
    "duration": 4,
    "start_time": "2023-05-07T16:25:51.749Z"
   },
   {
    "duration": 11,
    "start_time": "2023-05-07T16:25:52.264Z"
   },
   {
    "duration": 3,
    "start_time": "2023-05-07T16:25:52.605Z"
   },
   {
    "duration": 10,
    "start_time": "2023-05-07T16:25:53.606Z"
   },
   {
    "duration": 23,
    "start_time": "2023-05-07T16:25:54.406Z"
   },
   {
    "duration": 15,
    "start_time": "2023-05-07T16:25:55.985Z"
   },
   {
    "duration": 18,
    "start_time": "2023-05-07T16:25:57.094Z"
   },
   {
    "duration": 18,
    "start_time": "2023-05-07T16:25:57.422Z"
   },
   {
    "duration": 16,
    "start_time": "2023-05-07T16:25:57.756Z"
   },
   {
    "duration": 17,
    "start_time": "2023-05-07T16:25:58.079Z"
   },
   {
    "duration": 16,
    "start_time": "2023-05-07T16:25:59.472Z"
   },
   {
    "duration": 147,
    "start_time": "2023-05-07T16:26:01.378Z"
   },
   {
    "duration": 14,
    "start_time": "2023-05-07T16:26:02.786Z"
   },
   {
    "duration": 9,
    "start_time": "2023-05-07T16:26:04.733Z"
   },
   {
    "duration": 66,
    "start_time": "2023-05-07T16:26:05.300Z"
   },
   {
    "duration": 210,
    "start_time": "2023-05-07T16:26:06.240Z"
   },
   {
    "duration": 6,
    "start_time": "2023-05-07T16:26:07.191Z"
   },
   {
    "duration": 216,
    "start_time": "2023-05-07T16:26:07.929Z"
   },
   {
    "duration": 114,
    "start_time": "2023-05-07T16:26:23.523Z"
   },
   {
    "duration": 165,
    "start_time": "2023-05-07T16:26:49.438Z"
   },
   {
    "duration": 211,
    "start_time": "2023-05-07T16:26:58.521Z"
   },
   {
    "duration": 145,
    "start_time": "2023-05-07T16:28:12.219Z"
   },
   {
    "duration": 48,
    "start_time": "2023-05-07T16:29:32.197Z"
   },
   {
    "duration": 146,
    "start_time": "2023-05-07T16:29:38.738Z"
   },
   {
    "duration": 141,
    "start_time": "2023-05-07T16:30:29.550Z"
   },
   {
    "duration": 162,
    "start_time": "2023-05-07T16:31:05.351Z"
   },
   {
    "duration": 140,
    "start_time": "2023-05-07T16:31:14.706Z"
   },
   {
    "duration": 142,
    "start_time": "2023-05-07T16:31:43.314Z"
   },
   {
    "duration": 148,
    "start_time": "2023-05-07T16:31:55.411Z"
   },
   {
    "duration": 232,
    "start_time": "2023-05-07T16:31:58.346Z"
   },
   {
    "duration": 204,
    "start_time": "2023-05-07T16:31:59.949Z"
   },
   {
    "duration": 24,
    "start_time": "2023-05-07T16:32:02.869Z"
   },
   {
    "duration": 8,
    "start_time": "2023-05-07T16:32:14.119Z"
   },
   {
    "duration": 12,
    "start_time": "2023-05-07T16:32:17.224Z"
   },
   {
    "duration": 6,
    "start_time": "2023-05-07T16:32:20.691Z"
   },
   {
    "duration": 18,
    "start_time": "2023-05-07T16:32:40.269Z"
   },
   {
    "duration": 174,
    "start_time": "2023-05-07T16:33:13.140Z"
   },
   {
    "duration": 30,
    "start_time": "2023-05-07T16:33:15.634Z"
   },
   {
    "duration": 7,
    "start_time": "2023-05-07T16:33:20.865Z"
   },
   {
    "duration": 249,
    "start_time": "2023-05-07T16:33:21.098Z"
   },
   {
    "duration": 186,
    "start_time": "2023-05-07T16:33:23.643Z"
   },
   {
    "duration": 174,
    "start_time": "2023-05-07T16:33:28.504Z"
   },
   {
    "duration": 183,
    "start_time": "2023-05-07T16:33:28.964Z"
   },
   {
    "duration": 194,
    "start_time": "2023-05-07T16:33:30.510Z"
   },
   {
    "duration": 38,
    "start_time": "2023-05-07T16:33:42.124Z"
   },
   {
    "duration": 147,
    "start_time": "2023-05-07T16:33:49.314Z"
   },
   {
    "duration": 236,
    "start_time": "2023-05-07T16:34:15.301Z"
   },
   {
    "duration": 11,
    "start_time": "2023-05-07T16:35:54.764Z"
   },
   {
    "duration": 13,
    "start_time": "2023-05-07T16:36:02.789Z"
   },
   {
    "duration": 13,
    "start_time": "2023-05-07T16:36:12.870Z"
   },
   {
    "duration": 13,
    "start_time": "2023-05-07T16:36:35.395Z"
   },
   {
    "duration": 12,
    "start_time": "2023-05-07T16:36:40.755Z"
   },
   {
    "duration": 12,
    "start_time": "2023-05-07T16:37:08.869Z"
   },
   {
    "duration": 11,
    "start_time": "2023-05-07T16:37:16.191Z"
   },
   {
    "duration": 157,
    "start_time": "2023-05-07T16:38:35.096Z"
   },
   {
    "duration": 138,
    "start_time": "2023-05-07T16:39:14.170Z"
   },
   {
    "duration": 135,
    "start_time": "2023-05-07T16:39:40.902Z"
   },
   {
    "duration": 20,
    "start_time": "2023-05-07T16:39:58.052Z"
   },
   {
    "duration": 15,
    "start_time": "2023-05-07T16:40:03.353Z"
   },
   {
    "duration": 229,
    "start_time": "2023-05-07T16:40:25.684Z"
   },
   {
    "duration": 118,
    "start_time": "2023-05-07T16:40:52.930Z"
   },
   {
    "duration": 166,
    "start_time": "2023-05-07T16:41:04.780Z"
   },
   {
    "duration": 8,
    "start_time": "2023-05-07T16:44:34.232Z"
   },
   {
    "duration": 181,
    "start_time": "2023-05-07T16:44:56.008Z"
   },
   {
    "duration": 10,
    "start_time": "2023-05-07T16:45:29.600Z"
   },
   {
    "duration": 132,
    "start_time": "2023-05-07T16:45:47.807Z"
   },
   {
    "duration": 2013,
    "start_time": "2023-05-08T05:55:33.270Z"
   },
   {
    "duration": 225,
    "start_time": "2023-05-08T05:55:35.285Z"
   },
   {
    "duration": 36,
    "start_time": "2023-05-08T05:55:35.511Z"
   },
   {
    "duration": 19,
    "start_time": "2023-05-08T05:55:35.549Z"
   },
   {
    "duration": 17,
    "start_time": "2023-05-08T05:55:35.571Z"
   },
   {
    "duration": 17,
    "start_time": "2023-05-08T05:55:35.590Z"
   },
   {
    "duration": 28,
    "start_time": "2023-05-08T05:55:35.610Z"
   },
   {
    "duration": 10,
    "start_time": "2023-05-08T05:55:35.640Z"
   },
   {
    "duration": 28,
    "start_time": "2023-05-08T05:55:35.651Z"
   },
   {
    "duration": 9,
    "start_time": "2023-05-08T05:55:35.682Z"
   },
   {
    "duration": 15,
    "start_time": "2023-05-08T05:55:35.693Z"
   },
   {
    "duration": 52,
    "start_time": "2023-05-08T05:55:35.710Z"
   },
   {
    "duration": 24,
    "start_time": "2023-05-08T05:55:35.764Z"
   },
   {
    "duration": 23,
    "start_time": "2023-05-08T05:55:35.790Z"
   },
   {
    "duration": 40,
    "start_time": "2023-05-08T05:55:35.816Z"
   },
   {
    "duration": 19,
    "start_time": "2023-05-08T05:55:35.857Z"
   },
   {
    "duration": 26,
    "start_time": "2023-05-08T05:55:35.879Z"
   },
   {
    "duration": 56,
    "start_time": "2023-05-08T05:55:35.907Z"
   },
   {
    "duration": 236,
    "start_time": "2023-05-08T05:55:35.965Z"
   },
   {
    "duration": 10,
    "start_time": "2023-05-08T05:55:36.203Z"
   },
   {
    "duration": 30,
    "start_time": "2023-05-08T05:55:36.215Z"
   },
   {
    "duration": 73,
    "start_time": "2023-05-08T05:55:36.247Z"
   },
   {
    "duration": 274,
    "start_time": "2023-05-08T05:55:36.323Z"
   },
   {
    "duration": 7,
    "start_time": "2023-05-08T05:55:36.599Z"
   },
   {
    "duration": 264,
    "start_time": "2023-05-08T05:55:36.609Z"
   },
   {
    "duration": 244,
    "start_time": "2023-05-08T05:55:36.876Z"
   },
   {
    "duration": 203,
    "start_time": "2023-05-08T05:55:37.122Z"
   },
   {
    "duration": 243,
    "start_time": "2023-05-08T05:55:37.331Z"
   },
   {
    "duration": 314,
    "start_time": "2023-05-08T05:55:37.576Z"
   },
   {
    "duration": 308,
    "start_time": "2023-05-08T05:55:37.891Z"
   },
   {
    "duration": 50,
    "start_time": "2023-05-08T05:55:38.201Z"
   },
   {
    "duration": 88,
    "start_time": "2023-05-08T05:55:38.254Z"
   },
   {
    "duration": 22,
    "start_time": "2023-05-08T05:55:38.345Z"
   },
   {
    "duration": 7,
    "start_time": "2023-05-08T05:55:38.369Z"
   },
   {
    "duration": 35,
    "start_time": "2023-05-08T05:55:38.378Z"
   },
   {
    "duration": 234,
    "start_time": "2023-05-08T05:55:38.415Z"
   },
   {
    "duration": 63,
    "start_time": "2023-05-08T05:55:38.651Z"
   },
   {
    "duration": 28,
    "start_time": "2023-05-08T05:55:38.716Z"
   },
   {
    "duration": 263,
    "start_time": "2023-05-08T05:55:38.747Z"
   },
   {
    "duration": 262,
    "start_time": "2023-05-08T05:55:39.013Z"
   },
   {
    "duration": 242,
    "start_time": "2023-05-08T05:55:39.277Z"
   },
   {
    "duration": 256,
    "start_time": "2023-05-08T05:55:39.520Z"
   },
   {
    "duration": 279,
    "start_time": "2023-05-08T05:55:39.777Z"
   },
   {
    "duration": 51,
    "start_time": "2023-05-08T05:55:40.058Z"
   },
   {
    "duration": 233,
    "start_time": "2023-05-08T05:55:40.111Z"
   },
   {
    "duration": 343,
    "start_time": "2023-05-08T05:55:40.345Z"
   },
   {
    "duration": 53,
    "start_time": "2023-05-08T05:55:40.690Z"
   },
   {
    "duration": 16,
    "start_time": "2023-05-08T05:55:40.748Z"
   },
   {
    "duration": 22,
    "start_time": "2023-05-08T05:55:40.767Z"
   },
   {
    "duration": 14,
    "start_time": "2023-05-08T05:55:40.791Z"
   },
   {
    "duration": 44,
    "start_time": "2023-05-08T05:55:40.807Z"
   },
   {
    "duration": 20,
    "start_time": "2023-05-08T05:55:40.856Z"
   },
   {
    "duration": 17,
    "start_time": "2023-05-08T05:55:40.878Z"
   },
   {
    "duration": 197,
    "start_time": "2023-05-08T05:55:40.896Z"
   },
   {
    "duration": 332,
    "start_time": "2023-05-08T05:55:41.094Z"
   },
   {
    "duration": 213,
    "start_time": "2023-05-08T05:55:41.428Z"
   },
   {
    "duration": 15,
    "start_time": "2023-05-08T05:55:41.643Z"
   },
   {
    "duration": 202,
    "start_time": "2023-05-08T05:55:41.659Z"
   },
   {
    "duration": 9,
    "start_time": "2023-05-08T05:55:41.863Z"
   },
   {
    "duration": 204,
    "start_time": "2023-05-08T05:55:41.875Z"
   },
   {
    "duration": 82,
    "start_time": "2023-05-08T06:01:18.538Z"
   }
  ],
  "kernelspec": {
   "display_name": "Python 3 (ipykernel)",
   "language": "python",
   "name": "python3"
  },
  "language_info": {
   "codemirror_mode": {
    "name": "ipython",
    "version": 3
   },
   "file_extension": ".py",
   "mimetype": "text/x-python",
   "name": "python",
   "nbconvert_exporter": "python",
   "pygments_lexer": "ipython3",
   "version": "3.9.13"
  },
  "toc": {
   "base_numbering": 1,
   "nav_menu": {},
   "number_sections": true,
   "sideBar": true,
   "skip_h1_title": true,
   "title_cell": "Table of Contents",
   "title_sidebar": "Contents",
   "toc_cell": false,
   "toc_position": {},
   "toc_section_display": true,
   "toc_window_display": true
  }
 },
 "nbformat": 4,
 "nbformat_minor": 2
}
